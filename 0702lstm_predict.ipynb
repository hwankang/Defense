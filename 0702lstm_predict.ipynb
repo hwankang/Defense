{
  "nbformat": 4,
  "nbformat_minor": 0,
  "metadata": {
    "colab": {
      "name": "Untitled68.ipynb",
      "private_outputs": true,
      "provenance": [],
      "authorship_tag": "ABX9TyNtmHwlycS0TGt/9JQ9XX1m",
      "include_colab_link": true
    },
    "kernelspec": {
      "name": "python3",
      "display_name": "Python 3"
    },
    "language_info": {
      "name": "python"
    }
  },
  "cells": [
    {
      "cell_type": "markdown",
      "metadata": {
        "id": "view-in-github",
        "colab_type": "text"
      },
      "source": [
        "<a href=\"https://colab.research.google.com/github/hwankang/Defense/blob/main/0702lstm_predict.ipynb\" target=\"_parent\"><img src=\"https://colab.research.google.com/assets/colab-badge.svg\" alt=\"Open In Colab\"/></a>"
      ]
    },
    {
      "cell_type": "code",
      "metadata": {
        "id": "Z_JxKzNTYhac"
      },
      "source": [
        "import pandas as pd\n",
        "import numpy as np\n",
        "import matplotlib.pyplot as plt\n",
        "from keras.models import Sequential\n",
        "from keras.layers import LSTM, Dropout, Dense, Activation\n",
        "import datetime\n",
        "import pandas as pd\n",
        "from google.colab import files \n",
        "uploaded = files.upload()\n",
        "#[출처] [LSTM] 삼성 주가 예측|작성자 윤동글"
      ],
      "execution_count": null,
      "outputs": []
    },
    {
      "cell_type": "code",
      "metadata": {
        "id": "pEgxYNdHY6r5"
      },
      "source": [
        "#데이터 읽어오기\n",
        "import io\n",
        "data = pd.read_csv(io.BytesIO(uploaded['005930.KS.csv']),  encoding = 'euc-kr')\n",
        "\n",
        "data.head()\n",
        "#[출처] [LSTM] 삼성 주가 예측|작성자 윤동글"
      ],
      "execution_count": null,
      "outputs": []
    },
    {
      "cell_type": "code",
      "metadata": {
        "id": "SyXEoAeDZ005"
      },
      "source": [
        "#column 제거 방법 제시하라. \n",
        "data1=data.drop(['Adj Close'],axis=1)# axis=1 은 종으로 제거 \n",
        "data1.head()"
      ],
      "execution_count": null,
      "outputs": []
    },
    {
      "cell_type": "code",
      "metadata": {
        "id": "xLaaCKLkjpz0"
      },
      "source": [
        "#데이터 타입 확인\n",
        "data1.dtypes\n",
        "#[출처] [LSTM] 삼성 주가 예측|작성자 윤동글"
      ],
      "execution_count": null,
      "outputs": []
    },
    {
      "cell_type": "code",
      "metadata": {
        "id": "1qCPVmJyj8tL"
      },
      "source": [
        "#데이터 전처리(2) Object->Datetime\n",
        "data1['Date'] = pd.to_datetime(data1['Date'], format='%Y-%m-%d %H:%M:%S')\n",
        "data1['year'] =data1['Date'].dt.year\n",
        "data1['month'] =data1['Date'].dt.month\n",
        "data1['day'] =data1['Date'].dt.day\n",
        "#[출처] [LSTM] 삼성 주가 예측|작성자 윤동글"
      ],
      "execution_count": null,
      "outputs": []
    },
    {
      "cell_type": "code",
      "metadata": {
        "id": "We2Y2UeolrpR"
      },
      "source": [
        "#데이터 전처리(1) 결측치 제거\n",
        "data1 = data1.dropna()\n",
        "#[출처] [LSTM] 삼성 주가 예측|작성자 윤동글"
      ],
      "execution_count": null,
      "outputs": []
    },
    {
      "cell_type": "code",
      "metadata": {
        "id": "4Itj4QAkmBqo"
      },
      "source": [
        "#데이터 시각화\n",
        "import matplotlib.pyplot as plt\n",
        "import seaborn as sns\n",
        "#[출처] [LSTM] 삼성 주가 예측|작성자 윤동글\n",
        "plt.figure(figsize=(16, 9))\n",
        "sns.lineplot(y=data1['Close'], x=data1['Date'])\n",
        "plt.xlabel('time')\n",
        "plt.ylabel('price')\n",
        "#[출처] [LSTM] 삼성 주가 예측|작성자 윤동글\n"
      ],
      "execution_count": null,
      "outputs": []
    },
    {
      "cell_type": "code",
      "metadata": {
        "id": "PBaa8cMrm89k"
      },
      "source": [
        "#가격 예측을 위해 mid_prices컬럼 만들기\n",
        "high_prices = data1['High'].values\n",
        "low_prices = data1['Low'].values\n",
        "mid_prices = (high_prices + low_prices) / 2\n",
        "#[출처] [LSTM] 삼성 주가 예측|작성자 윤동글"
      ],
      "execution_count": null,
      "outputs": []
    },
    {
      "cell_type": "code",
      "metadata": {
        "id": "XH5yHCLunMX9"
      },
      "source": [
        "#Window만들기(ppt1)\n",
        "seq_len = 50\n",
        "sequence_length = seq_len + 1 #51\n",
        "\n",
        "result = []\n",
        "for index in range(len(mid_prices) - sequence_length):\n",
        "    result.append(mid_prices[index: index + sequence_length])\n",
        "#[출처] [LSTM] 삼성 주가 예측|작성자 윤동글"
      ],
      "execution_count": null,
      "outputs": []
    },
    {
      "cell_type": "code",
      "metadata": {
        "id": "moYA0MOBrUfu"
      },
      "source": [
        "#Window 정규화\n",
        "normalized_data = []\n",
        "for window in result:\n",
        "    normalized_window = [((float(p) / float(window[0])) - 1) for p in window]\n",
        "    normalized_data.append(normalized_window)\n",
        "\n",
        "result = np.array(normalized_data)\n",
        "#[출처] [LSTM] 삼성 주가 예측|작성자 윤동글"
      ],
      "execution_count": null,
      "outputs": []
    },
    {
      "cell_type": "code",
      "metadata": {
        "id": "rEcaCloHxxJn"
      },
      "source": [
        ""
      ],
      "execution_count": null,
      "outputs": []
    },
    {
      "cell_type": "code",
      "metadata": {
        "id": "eSYrdwQyu3hf"
      },
      "source": [
        "result[1]"
      ],
      "execution_count": null,
      "outputs": []
    },
    {
      "cell_type": "code",
      "metadata": {
        "id": "J7_uoC7Gs-Qn"
      },
      "source": [
        "result.shape[0]"
      ],
      "execution_count": null,
      "outputs": []
    },
    {
      "cell_type": "code",
      "metadata": {
        "id": "jCctaTzPymEe"
      },
      "source": [
        ""
      ],
      "execution_count": null,
      "outputs": []
    },
    {
      "cell_type": "code",
      "metadata": {
        "id": "hmpFYqPzsVbZ"
      },
      "source": [
        "result"
      ],
      "execution_count": null,
      "outputs": []
    },
    {
      "cell_type": "code",
      "metadata": {
        "id": "3EUVpX2Xynpk"
      },
      "source": [
        "row = int(round(result.shape[0] * 0.9))\n",
        "row\n"
      ],
      "execution_count": null,
      "outputs": []
    },
    {
      "cell_type": "code",
      "metadata": {
        "id": "nyMsuQYVywHF"
      },
      "source": [
        "train = result[:row, :]  #150 51\n",
        "np.random.shuffle(train)"
      ],
      "execution_count": null,
      "outputs": []
    },
    {
      "cell_type": "code",
      "metadata": {
        "id": "ecHdCMp50A62"
      },
      "source": [
        "x_train = train[:, :-1]# 150 6\n",
        "x_train.shape"
      ],
      "execution_count": null,
      "outputs": []
    },
    {
      "cell_type": "code",
      "metadata": {
        "id": "kJdVAwPlzSDY"
      },
      "source": [
        "x_train = train[:, :-1]# 150 6\n",
        "x_train.shape\n",
        "x_train = np.reshape(x_train, (x_train.shape[0], x_train.shape[1], 1))\n",
        "x_train.shape"
      ],
      "execution_count": null,
      "outputs": []
    },
    {
      "cell_type": "code",
      "metadata": {
        "id": "TrrEYqHA0gpE"
      },
      "source": [
        "y_train = train[:, -1]\n",
        "y_train.shape"
      ],
      "execution_count": null,
      "outputs": []
    },
    {
      "cell_type": "code",
      "metadata": {
        "id": "J8Z6Ujqt2GlQ"
      },
      "source": [
        "#x_test에 50개 넣고 y_test에 마지막 1개\n",
        "x_test = result[row:, :-1]\n",
        "x_test = np.reshape(x_test, (x_test.shape[0], x_test.shape[1], 1))\n",
        "y_test = result[row:, -1]"
      ],
      "execution_count": null,
      "outputs": []
    },
    {
      "cell_type": "code",
      "metadata": {
        "id": "xIwCyswi2VPh"
      },
      "source": [
        "x_train.shape, x_test.shape"
      ],
      "execution_count": null,
      "outputs": []
    },
    {
      "cell_type": "code",
      "metadata": {
        "id": "DAyPobe_3Ydh"
      },
      "source": [
        "#모델을 순차적으로 정의\n",
        "model = Sequential()\n",
        "\n",
        "#LSTM 인풋 50개\n",
        "model.add(LSTM(50, return_sequences=True, input_shape=(50, 1)))\n",
        "\n",
        "#인풋 64개 이거는 조정할 수 있음\n",
        "model.add(LSTM(64, return_sequences=False))\n",
        "\n",
        "#다음날 하루의 가격을 예측\n",
        "model.add(Dense(1, activation='linear'))\n",
        "\n",
        "model.compile(loss='mse', optimizer='rmsprop')\n",
        "\n",
        "#50개가 들어가서 1개가 나온다\n",
        "model.summary()"
      ],
      "execution_count": null,
      "outputs": []
    },
    {
      "cell_type": "code",
      "metadata": {
        "id": "VpM_ppdU35Fs"
      },
      "source": [
        "#트레이닝 모델을 학습시킨다.\n",
        "model.fit(x_train, y_train,\n",
        "    validation_data=(x_test, y_test),\n",
        "    #한번에 몇개씩 묶어서 학습시킬거냐\n",
        "    batch_size=10,\n",
        "    epochs=20)"
      ],
      "execution_count": null,
      "outputs": []
    },
    {
      "cell_type": "code",
      "metadata": {
        "id": "MQLRs-CZ4Nn6"
      },
      "source": [
        "pred = model.predict(x_test)\n",
        "\n",
        "fig = plt.figure(facecolor='white', figsize=(20, 10))\n",
        "ax = fig.add_subplot(111)\n",
        "ax.plot(y_test, label='True')\n",
        "ax.plot(pred, label='Prediction')\n",
        "ax.legend()\n",
        "plt.show()"
      ],
      "execution_count": null,
      "outputs": []
    }
  ]
}