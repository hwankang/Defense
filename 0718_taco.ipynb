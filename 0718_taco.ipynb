{
  "nbformat": 4,
  "nbformat_minor": 0,
  "metadata": {
    "colab": {
      "name": "0718 taco.ipynb",
      "private_outputs": true,
      "provenance": [],
      "authorship_tag": "ABX9TyNGAbghnCJEpinWbbsB8Ust",
      "include_colab_link": true
    },
    "kernelspec": {
      "name": "python3",
      "display_name": "Python 3"
    },
    "language_info": {
      "name": "python"
    },
    "accelerator": "GPU"
  },
  "cells": [
    {
      "cell_type": "markdown",
      "metadata": {
        "id": "view-in-github",
        "colab_type": "text"
      },
      "source": [
        "<a href=\"https://colab.research.google.com/github/hwankang/Defense/blob/main/0718_taco.ipynb\" target=\"_parent\"><img src=\"https://colab.research.google.com/assets/colab-badge.svg\" alt=\"Open In Colab\"/></a>"
      ]
    },
    {
      "cell_type": "code",
      "metadata": {
        "id": "Y469blxyd3k2"
      },
      "source": [
        "!pip install numpy scipy librosa unidecode inflect"
      ],
      "execution_count": null,
      "outputs": []
    },
    {
      "cell_type": "code",
      "metadata": {
        "id": "iJydaAWheaLV"
      },
      "source": [
        "import torch \n",
        "\n",
        "tacotron2 = torch.hub.load('nvidia/DeepLearningExamples:torchhub','nvidia_tacotron2')\n",
        "waveglow = torch.hub.load('nvidia/DeepLearningExamples:torchhub','nvidia_waveglow')"
      ],
      "execution_count": null,
      "outputs": []
    },
    {
      "cell_type": "code",
      "metadata": {
        "id": "uzN_Bul5giey"
      },
      "source": [
        "tacotron2 = tacotron2.to('cuda')\n",
        "tacotron2.eval()"
      ],
      "execution_count": null,
      "outputs": []
    },
    {
      "cell_type": "code",
      "metadata": {
        "id": "C0yIOUvUjLPx"
      },
      "source": [
        "waveglow = waveglow.remove_weightnorm(waveglow)\n",
        "waveglow = waveglow.to('cuda')\n",
        "waveglow.eval()"
      ],
      "execution_count": null,
      "outputs": []
    },
    {
      "cell_type": "code",
      "metadata": {
        "id": "fLdvFIpVk4f1"
      },
      "source": [
        "import numpy as np\n",
        "import matplotlib.pyplot as plt\n",
        "plt.style.use('seaborn-white')\n",
        "\n",
        "def plot_data(data, figsize=(16,4)):\n",
        "    fig,axes = plt.subplots(1, len(data), figsize=figsize)\n",
        "    for i in range(len(data)):\n",
        "        axes[i].imshow(data[i],aspect='auto', origin='bottom',\n",
        "                       interpolation='none',cmap='viridis')\n",
        "\n",
        "def TTS(text):\n",
        "    sampling_rate = 22050\n",
        "    sequence = np.array(tacotron2.text_to_sequence(text,['english_cleaners']))[None,:]\n",
        "    sequence = torch.from_numpy(sequence).to(device='cuda',dtype=torch.int64)\n",
        "\n",
        "    with torch.no_grad():\n",
        "        mel_outputs,mel_outputs_postnet, _, alignments=tacotron2.infer(sequence)\n",
        "        audio= waveglow.infer(mel_outputs_postnet)\n",
        "\n",
        "    mel_output = mel_outputs.data.cpu().numpy()[0]\n",
        "    mel_output_postnet = mel_ouputs_postnet.data.cpu().numpy()[0]\n",
        "    alignment=alignments.data().cpu().numpy()[0].T\n",
        "    audio_np=audio[0].data.cpu().numpy()\n",
        "\n",
        "    return mel_output, mel_output_postnet, alignment, audio_np, sampling_rate"
      ],
      "execution_count": null,
      "outputs": []
    },
    {
      "cell_type": "code",
      "metadata": {
        "id": "fFVu8Cajw4t4"
      },
      "source": [
        "import librosa.display\n",
        "from IPython.display import Audio\n",
        "\n",
        "text=\"Hello, How are you?\"\n",
        "mel_output, mel_output_postnet, alignment, audio_np, sampling_rate = TTS(text)\n",
        "\n",
        "fig=plt.figure(figsize=(14,4))\n",
        "librosa.display.waveplot(audio_np,sr=sampling_rate)\n",
        "plot_data((mel_ouput, mel_output_postnet,alignment))\n",
        "Audio(audio_np,rate=sampling_rate)"
      ],
      "execution_count": null,
      "outputs": []
    }
  ]
}