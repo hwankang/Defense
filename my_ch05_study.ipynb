{
  "nbformat": 4,
  "nbformat_minor": 0,
  "metadata": {
    "kernelspec": {
      "display_name": "Python 3",
      "language": "python",
      "name": "python3"
    },
    "language_info": {
      "codemirror_mode": {
        "name": "ipython",
        "version": 3
      },
      "file_extension": ".py",
      "mimetype": "text/x-python",
      "name": "python",
      "nbconvert_exporter": "python",
      "pygments_lexer": "ipython3",
      "version": "3.9.5"
    },
    "colab": {
      "name": "my-ch05-study.ipynb",
      "provenance": [],
      "include_colab_link": true
    }
  },
  "cells": [
    {
      "cell_type": "markdown",
      "metadata": {
        "id": "view-in-github",
        "colab_type": "text"
      },
      "source": [
        "<a href=\"https://colab.research.google.com/github/hwankang/Defense/blob/main/my_ch05_study.ipynb\" target=\"_parent\"><img src=\"https://colab.research.google.com/assets/colab-badge.svg\" alt=\"Open In Colab\"/></a>"
      ]
    },
    {
      "cell_type": "markdown",
      "metadata": {
        "id": "Wm6RUUqm1Crf"
      },
      "source": [
        "# Getting Started with pandas"
      ]
    },
    {
      "cell_type": "code",
      "metadata": {
        "id": "Bii6gD771Cri"
      },
      "source": [
        "import pandas as pd"
      ],
      "execution_count": 1,
      "outputs": []
    },
    {
      "cell_type": "code",
      "metadata": {
        "id": "5Z6PXL_61Cri"
      },
      "source": [
        "from pandas import Series, DataFrame"
      ],
      "execution_count": 2,
      "outputs": []
    },
    {
      "cell_type": "code",
      "metadata": {
        "id": "Tal30mcg1Crj"
      },
      "source": [
        "import numpy as np\n",
        "np.random.seed(12345)"
      ],
      "execution_count": 3,
      "outputs": []
    },
    {
      "cell_type": "code",
      "metadata": {
        "id": "dLzPAQcd1Crj"
      },
      "source": [
        "import matplotlib.pyplot as plt\n",
        "plt.rc('figure', figsize=(10, 6))"
      ],
      "execution_count": 4,
      "outputs": []
    },
    {
      "cell_type": "code",
      "metadata": {
        "id": "Pq0hSzrl1Crj"
      },
      "source": [
        "PREVIOUS_MAX_ROWS = pd.options.display.max_rows\n",
        "pd.options.display.max_rows = 10\n",
        "np.set_printoptions(precision=4, suppress=True)"
      ],
      "execution_count": null,
      "outputs": []
    },
    {
      "cell_type": "code",
      "metadata": {
        "colab": {
          "base_uri": "https://localhost:8080/"
        },
        "id": "wsOUfObp2A9L",
        "outputId": "4f0f9078-fcfb-498d-a3ba-fdc20833b8a4"
      },
      "source": [
        "PREVIOUS_MAX_ROWS"
      ],
      "execution_count": null,
      "outputs": [
        {
          "output_type": "execute_result",
          "data": {
            "text/plain": [
              "20"
            ]
          },
          "metadata": {
            "tags": []
          },
          "execution_count": 9
        }
      ]
    },
    {
      "cell_type": "markdown",
      "metadata": {
        "id": "ycAn5ksI1Crj"
      },
      "source": [
        "## Introduction to pandas Data Structures"
      ]
    },
    {
      "cell_type": "markdown",
      "metadata": {
        "id": "JSIbE8Qd1Crk"
      },
      "source": [
        "### Series"
      ]
    },
    {
      "cell_type": "code",
      "metadata": {
        "colab": {
          "base_uri": "https://localhost:8080/"
        },
        "id": "eRgCyMQb1Crk",
        "outputId": "da5a021e-e91d-4c96-d0e8-b9f0c03ebc2a"
      },
      "source": [
        "obj = pd.Series([4, 7, -5, 3])\n",
        "obj"
      ],
      "execution_count": 5,
      "outputs": [
        {
          "output_type": "execute_result",
          "data": {
            "text/plain": [
              "0    4\n",
              "1    7\n",
              "2   -5\n",
              "3    3\n",
              "dtype: int64"
            ]
          },
          "metadata": {
            "tags": []
          },
          "execution_count": 5
        }
      ]
    },
    {
      "cell_type": "code",
      "metadata": {
        "colab": {
          "base_uri": "https://localhost:8080/"
        },
        "id": "zrM3qpoy1Crl",
        "outputId": "fb51beef-63f0-4d9d-ed98-368c92db268c"
      },
      "source": [
        "obj.values"
      ],
      "execution_count": 6,
      "outputs": [
        {
          "output_type": "execute_result",
          "data": {
            "text/plain": [
              "array([ 4,  7, -5,  3])"
            ]
          },
          "metadata": {
            "tags": []
          },
          "execution_count": 6
        }
      ]
    },
    {
      "cell_type": "code",
      "metadata": {
        "colab": {
          "base_uri": "https://localhost:8080/"
        },
        "id": "Qgzjbkah1Crm",
        "outputId": "4add5e41-115a-44f9-f618-3ac329679c22"
      },
      "source": [
        "obj.index  # like range(4)"
      ],
      "execution_count": 7,
      "outputs": [
        {
          "output_type": "execute_result",
          "data": {
            "text/plain": [
              "RangeIndex(start=0, stop=4, step=1)"
            ]
          },
          "metadata": {
            "tags": []
          },
          "execution_count": 7
        }
      ]
    },
    {
      "cell_type": "code",
      "metadata": {
        "colab": {
          "base_uri": "https://localhost:8080/"
        },
        "id": "7RrKDvDZ1Crm",
        "outputId": "3f540ce9-a43a-4a29-c770-e477891008b0"
      },
      "source": [
        "obj.array"
      ],
      "execution_count": 8,
      "outputs": [
        {
          "output_type": "execute_result",
          "data": {
            "text/plain": [
              "<PandasArray>\n",
              "[4, 7, -5, 3]\n",
              "Length: 4, dtype: int64"
            ]
          },
          "metadata": {
            "tags": []
          },
          "execution_count": 8
        }
      ]
    },
    {
      "cell_type": "code",
      "metadata": {
        "colab": {
          "base_uri": "https://localhost:8080/"
        },
        "id": "VHiojGiC1Crm",
        "outputId": "0fd13d58-1377-4908-8f9a-88633c415b56"
      },
      "source": [
        "obj2 = pd.Series([4, 7, -5, 3], index=['d', 'b', 'a', 'c'])\n",
        "obj2"
      ],
      "execution_count": 9,
      "outputs": [
        {
          "output_type": "execute_result",
          "data": {
            "text/plain": [
              "d    4\n",
              "b    7\n",
              "a   -5\n",
              "c    3\n",
              "dtype: int64"
            ]
          },
          "metadata": {
            "tags": []
          },
          "execution_count": 9
        }
      ]
    },
    {
      "cell_type": "code",
      "metadata": {
        "colab": {
          "base_uri": "https://localhost:8080/"
        },
        "id": "xH9rAPY81Crn",
        "outputId": "16db7c2d-f305-42ac-97cd-5896e987f0db"
      },
      "source": [
        "obj2.index"
      ],
      "execution_count": 10,
      "outputs": [
        {
          "output_type": "execute_result",
          "data": {
            "text/plain": [
              "Index(['d', 'b', 'a', 'c'], dtype='object')"
            ]
          },
          "metadata": {
            "tags": []
          },
          "execution_count": 10
        }
      ]
    },
    {
      "cell_type": "code",
      "metadata": {
        "colab": {
          "base_uri": "https://localhost:8080/"
        },
        "id": "Qj_VA0KL1Crn",
        "outputId": "dbb4e532-3e0f-47c4-8c44-dd4059191c52"
      },
      "source": [
        "obj2['a']"
      ],
      "execution_count": 11,
      "outputs": [
        {
          "output_type": "execute_result",
          "data": {
            "text/plain": [
              "-5"
            ]
          },
          "metadata": {
            "tags": []
          },
          "execution_count": 11
        }
      ]
    },
    {
      "cell_type": "code",
      "metadata": {
        "colab": {
          "base_uri": "https://localhost:8080/"
        },
        "id": "QN5MkfcL1Crn",
        "outputId": "3f52818a-db8d-4513-a142-4c635b99996b"
      },
      "source": [
        "obj2['d'] = 6\n",
        "obj2"
      ],
      "execution_count": 12,
      "outputs": [
        {
          "output_type": "execute_result",
          "data": {
            "text/plain": [
              "d    6\n",
              "b    7\n",
              "a   -5\n",
              "c    3\n",
              "dtype: int64"
            ]
          },
          "metadata": {
            "tags": []
          },
          "execution_count": 12
        }
      ]
    },
    {
      "cell_type": "code",
      "metadata": {
        "colab": {
          "base_uri": "https://localhost:8080/"
        },
        "id": "tcgEknXM1Crn",
        "outputId": "d46e0431-3700-4bd4-f899-65151d50c265"
      },
      "source": [
        "obj2[['c', 'a', 'd']]"
      ],
      "execution_count": 13,
      "outputs": [
        {
          "output_type": "execute_result",
          "data": {
            "text/plain": [
              "c    3\n",
              "a   -5\n",
              "d    6\n",
              "dtype: int64"
            ]
          },
          "metadata": {
            "tags": []
          },
          "execution_count": 13
        }
      ]
    },
    {
      "cell_type": "code",
      "metadata": {
        "colab": {
          "base_uri": "https://localhost:8080/"
        },
        "id": "Lx3Ibxhy1Cro",
        "outputId": "6eabf5de-496d-408f-aeff-c70b723f5248"
      },
      "source": [
        "obj2"
      ],
      "execution_count": 14,
      "outputs": [
        {
          "output_type": "execute_result",
          "data": {
            "text/plain": [
              "d    6\n",
              "b    7\n",
              "a   -5\n",
              "c    3\n",
              "dtype: int64"
            ]
          },
          "metadata": {
            "tags": []
          },
          "execution_count": 14
        }
      ]
    },
    {
      "cell_type": "code",
      "metadata": {
        "id": "q9R7g4uO1Cro",
        "outputId": "f9841944-4c2d-4fd3-eed3-cbe25832cdff",
        "colab": {
          "base_uri": "https://localhost:8080/"
        }
      },
      "source": [
        "obj2[obj2 != 7]"
      ],
      "execution_count": 16,
      "outputs": [
        {
          "output_type": "execute_result",
          "data": {
            "text/plain": [
              "d    6\n",
              "a   -5\n",
              "c    3\n",
              "dtype: int64"
            ]
          },
          "metadata": {
            "tags": []
          },
          "execution_count": 16
        }
      ]
    },
    {
      "cell_type": "code",
      "metadata": {
        "id": "tnza0rvW1Cro",
        "outputId": "20d1e074-f35d-4007-cf87-38eb04a8b6c0",
        "colab": {
          "base_uri": "https://localhost:8080/"
        }
      },
      "source": [
        "obj2 * 2"
      ],
      "execution_count": 17,
      "outputs": [
        {
          "output_type": "execute_result",
          "data": {
            "text/plain": [
              "d    12\n",
              "b    14\n",
              "a   -10\n",
              "c     6\n",
              "dtype: int64"
            ]
          },
          "metadata": {
            "tags": []
          },
          "execution_count": 17
        }
      ]
    },
    {
      "cell_type": "code",
      "metadata": {
        "id": "4K3kTYto1Cro",
        "outputId": "f54f2210-0ba0-46ef-9d3d-ae5f0ce2e429",
        "colab": {
          "base_uri": "https://localhost:8080/"
        }
      },
      "source": [
        "np.exp(obj2)"
      ],
      "execution_count": 18,
      "outputs": [
        {
          "output_type": "execute_result",
          "data": {
            "text/plain": [
              "d     403.428793\n",
              "b    1096.633158\n",
              "a       0.006738\n",
              "c      20.085537\n",
              "dtype: float64"
            ]
          },
          "metadata": {
            "tags": []
          },
          "execution_count": 18
        }
      ]
    },
    {
      "cell_type": "code",
      "metadata": {
        "id": "5u3XRPH11Cro",
        "outputId": "04329aee-c0b4-4ee2-ad35-2f48ba96ec89",
        "colab": {
          "base_uri": "https://localhost:8080/"
        }
      },
      "source": [
        "import math\n",
        "math.exp(6)"
      ],
      "execution_count": 19,
      "outputs": [
        {
          "output_type": "execute_result",
          "data": {
            "text/plain": [
              "403.4287934927351"
            ]
          },
          "metadata": {
            "tags": []
          },
          "execution_count": 19
        }
      ]
    },
    {
      "cell_type": "code",
      "metadata": {
        "id": "onuXRNqj1Crp",
        "outputId": "6cc6af85-cdcc-4066-b097-396efc448996",
        "colab": {
          "base_uri": "https://localhost:8080/"
        }
      },
      "source": [
        "'b' in obj2"
      ],
      "execution_count": 20,
      "outputs": [
        {
          "output_type": "execute_result",
          "data": {
            "text/plain": [
              "True"
            ]
          },
          "metadata": {
            "tags": []
          },
          "execution_count": 20
        }
      ]
    },
    {
      "cell_type": "code",
      "metadata": {
        "id": "ClhSlUUH1Crp",
        "outputId": "35930275-9c08-458f-cdaf-9aaad234f905",
        "colab": {
          "base_uri": "https://localhost:8080/"
        }
      },
      "source": [
        "'e' in obj2"
      ],
      "execution_count": 21,
      "outputs": [
        {
          "output_type": "execute_result",
          "data": {
            "text/plain": [
              "False"
            ]
          },
          "metadata": {
            "tags": []
          },
          "execution_count": 21
        }
      ]
    },
    {
      "cell_type": "code",
      "metadata": {
        "id": "gI8jp9Qj1Crp",
        "outputId": "bc61761a-3d86-4adb-f224-acdb09ab1bc0",
        "colab": {
          "base_uri": "https://localhost:8080/"
        }
      },
      "source": [
        "obj2"
      ],
      "execution_count": 22,
      "outputs": [
        {
          "output_type": "execute_result",
          "data": {
            "text/plain": [
              "d    6\n",
              "b    7\n",
              "a   -5\n",
              "c    3\n",
              "dtype: int64"
            ]
          },
          "metadata": {
            "tags": []
          },
          "execution_count": 22
        }
      ]
    },
    {
      "cell_type": "code",
      "metadata": {
        "id": "kKL9qKa61Crp",
        "outputId": "f02208d6-e266-4602-bee7-070bd6b603d7",
        "colab": {
          "base_uri": "https://localhost:8080/"
        }
      },
      "source": [
        "6 in obj2"
      ],
      "execution_count": 23,
      "outputs": [
        {
          "output_type": "execute_result",
          "data": {
            "text/plain": [
              "False"
            ]
          },
          "metadata": {
            "tags": []
          },
          "execution_count": 23
        }
      ]
    },
    {
      "cell_type": "code",
      "metadata": {
        "id": "MBeWtMBj1Crp",
        "outputId": "569db270-c866-459f-951f-3fab72862c5f",
        "colab": {
          "base_uri": "https://localhost:8080/"
        }
      },
      "source": [
        "6 in obj2.values"
      ],
      "execution_count": 24,
      "outputs": [
        {
          "output_type": "execute_result",
          "data": {
            "text/plain": [
              "True"
            ]
          },
          "metadata": {
            "tags": []
          },
          "execution_count": 24
        }
      ]
    },
    {
      "cell_type": "code",
      "metadata": {
        "id": "LLx5m_IY1Crq",
        "outputId": "78a9a747-dbc8-427f-dd57-24d6505448da",
        "colab": {
          "base_uri": "https://localhost:8080/"
        }
      },
      "source": [
        "5 in [1, 2, 3]"
      ],
      "execution_count": 25,
      "outputs": [
        {
          "output_type": "execute_result",
          "data": {
            "text/plain": [
              "False"
            ]
          },
          "metadata": {
            "tags": []
          },
          "execution_count": 25
        }
      ]
    },
    {
      "cell_type": "markdown",
      "metadata": {
        "id": "S7ejvL-d1Crq"
      },
      "source": [
        "### 문제"
      ]
    },
    {
      "cell_type": "code",
      "metadata": {
        "id": "4-7RTNg81Crq",
        "outputId": "720d3b51-37fc-4cb9-d53e-0fa818c51685",
        "colab": {
          "base_uri": "https://localhost:8080/"
        }
      },
      "source": [
        "obj = pd.Series(['c', 'a', 'a', 'b', 'c', 'c']).unique()\n",
        "obj"
      ],
      "execution_count": 26,
      "outputs": [
        {
          "output_type": "execute_result",
          "data": {
            "text/plain": [
              "array(['c', 'a', 'b'], dtype=object)"
            ]
          },
          "metadata": {
            "tags": []
          },
          "execution_count": 26
        }
      ]
    },
    {
      "cell_type": "code",
      "metadata": {
        "id": "TWdiy4yq1Crq"
      },
      "source": [
        "obj.sort()"
      ],
      "execution_count": 27,
      "outputs": []
    },
    {
      "cell_type": "code",
      "metadata": {
        "id": "SN2j34YI1Crq",
        "outputId": "4d2cf686-b0c6-4e2b-e17b-c71d69c52e7f",
        "colab": {
          "base_uri": "https://localhost:8080/"
        }
      },
      "source": [
        "pd.Index(['a', 'b', 'c']).get_indexer(['b', 'a', 'c', 'x'])"
      ],
      "execution_count": 28,
      "outputs": [
        {
          "output_type": "execute_result",
          "data": {
            "text/plain": [
              "array([ 1,  0,  2, -1])"
            ]
          },
          "metadata": {
            "tags": []
          },
          "execution_count": 28
        }
      ]
    },
    {
      "cell_type": "code",
      "metadata": {
        "id": "-KsJujyo1Crq",
        "outputId": "76c80c3f-cb88-4f01-b8d5-17e74513b226",
        "colab": {
          "base_uri": "https://localhost:8080/"
        }
      },
      "source": [
        "pd.Index(['a', 'b']).get_indexer(['b', 'a', 'c', 'x']).sum()"
      ],
      "execution_count": 29,
      "outputs": [
        {
          "output_type": "execute_result",
          "data": {
            "text/plain": [
              "-1"
            ]
          },
          "metadata": {
            "tags": []
          },
          "execution_count": 29
        }
      ]
    },
    {
      "cell_type": "code",
      "metadata": {
        "id": "qzRSGXpv1Crr"
      },
      "source": [
        ""
      ],
      "execution_count": 29,
      "outputs": []
    },
    {
      "cell_type": "code",
      "metadata": {
        "id": "5rYHJYnT1Crr"
      },
      "source": [
        ""
      ],
      "execution_count": 29,
      "outputs": []
    },
    {
      "cell_type": "code",
      "metadata": {
        "id": "5zrTANyR1Crr",
        "outputId": "02f12bd1-cb5b-4807-ac57-76412030c1a6",
        "colab": {
          "base_uri": "https://localhost:8080/"
        }
      },
      "source": [
        "s = pd.Series([2, 3, 5, 7], index=[1, 5, 6, 7])\n",
        "s"
      ],
      "execution_count": 30,
      "outputs": [
        {
          "output_type": "execute_result",
          "data": {
            "text/plain": [
              "1    2\n",
              "5    3\n",
              "6    5\n",
              "7    7\n",
              "dtype: int64"
            ]
          },
          "metadata": {
            "tags": []
          },
          "execution_count": 30
        }
      ]
    },
    {
      "cell_type": "code",
      "metadata": {
        "id": "kRvGS31S1Crr",
        "outputId": "84834428-90bf-479b-a9ec-f8779be80ed4",
        "colab": {
          "base_uri": "https://localhost:8080/"
        }
      },
      "source": [
        "print(1 in s)\n",
        "print(2 in s)\n",
        "print(5 in s)\n",
        "print(7 in s)"
      ],
      "execution_count": 31,
      "outputs": [
        {
          "output_type": "stream",
          "text": [
            "True\n",
            "False\n",
            "True\n",
            "True\n"
          ],
          "name": "stdout"
        }
      ]
    },
    {
      "cell_type": "code",
      "metadata": {
        "id": "1I_-Lo3k1Crr",
        "outputId": "e39dfd50-606e-49b8-dde2-3d3c265f1673",
        "colab": {
          "base_uri": "https://localhost:8080/"
        }
      },
      "source": [
        "6 in s"
      ],
      "execution_count": 32,
      "outputs": [
        {
          "output_type": "execute_result",
          "data": {
            "text/plain": [
              "True"
            ]
          },
          "metadata": {
            "tags": []
          },
          "execution_count": 32
        }
      ]
    },
    {
      "cell_type": "markdown",
      "metadata": {
        "id": "dwmWJw2f1Crr"
      },
      "source": [
        "---"
      ]
    },
    {
      "cell_type": "code",
      "metadata": {
        "id": "5-N_ePal1Crr",
        "outputId": "942e19ff-47a4-44f0-d90f-07ba86f2d691",
        "colab": {
          "base_uri": "https://localhost:8080/"
        }
      },
      "source": [
        "sdata = {'Ohio': 35000, 'Texas': 71000, 'Oregon': 16000, 'Utah': 5000}\n",
        "obj3 = pd.Series(sdata)\n",
        "obj3"
      ],
      "execution_count": 48,
      "outputs": [
        {
          "output_type": "execute_result",
          "data": {
            "text/plain": [
              "Ohio      35000\n",
              "Texas     71000\n",
              "Oregon    16000\n",
              "Utah       5000\n",
              "dtype: int64"
            ]
          },
          "metadata": {
            "tags": []
          },
          "execution_count": 48
        }
      ]
    },
    {
      "cell_type": "code",
      "metadata": {
        "id": "XUi1_Kzv1Crs",
        "outputId": "3cb37aed-9181-44ee-d99b-439d8c1b3a05",
        "colab": {
          "base_uri": "https://localhost:8080/"
        }
      },
      "source": [
        "states = ['California', 'Ohio', 'Oregon', 'Texas']\n",
        "obj4 = pd.Series(sdata, index=states)\n",
        "obj4"
      ],
      "execution_count": 49,
      "outputs": [
        {
          "output_type": "execute_result",
          "data": {
            "text/plain": [
              "California        NaN\n",
              "Ohio          35000.0\n",
              "Oregon        16000.0\n",
              "Texas         71000.0\n",
              "dtype: float64"
            ]
          },
          "metadata": {
            "tags": []
          },
          "execution_count": 49
        }
      ]
    },
    {
      "cell_type": "code",
      "metadata": {
        "id": "Hc2DM9ER1Crs",
        "outputId": "7e8f39d0-af50-42ea-8b61-939de22857f2",
        "colab": {
          "base_uri": "https://localhost:8080/"
        }
      },
      "source": [
        "states = ['California', 'Ohio', 'Oregon', 'Texas']\n",
        "obj4 = pd.Series(sdata, index=states, name='usadata')\n",
        "obj4"
      ],
      "execution_count": 50,
      "outputs": [
        {
          "output_type": "execute_result",
          "data": {
            "text/plain": [
              "California        NaN\n",
              "Ohio          35000.0\n",
              "Oregon        16000.0\n",
              "Texas         71000.0\n",
              "Name: usadata, dtype: float64"
            ]
          },
          "metadata": {
            "tags": []
          },
          "execution_count": 50
        }
      ]
    },
    {
      "cell_type": "code",
      "metadata": {
        "id": "Xt9gUqwt1Crs",
        "outputId": "550d0bb6-6616-45de-ad13-ece0cc82e890",
        "colab": {
          "base_uri": "https://localhost:8080/"
        }
      },
      "source": [
        "sd = pd.isnull(obj4)\n",
        "sd"
      ],
      "execution_count": 51,
      "outputs": [
        {
          "output_type": "execute_result",
          "data": {
            "text/plain": [
              "California     True\n",
              "Ohio          False\n",
              "Oregon        False\n",
              "Texas         False\n",
              "Name: usadata, dtype: bool"
            ]
          },
          "metadata": {
            "tags": []
          },
          "execution_count": 51
        }
      ]
    },
    {
      "cell_type": "code",
      "metadata": {
        "id": "TV_lld8o1Crs",
        "outputId": "d64d088e-007e-426d-9eda-58bdf44e5691",
        "colab": {
          "base_uri": "https://localhost:8080/"
        }
      },
      "source": [
        "pd.notnull(obj4)"
      ],
      "execution_count": 37,
      "outputs": [
        {
          "output_type": "execute_result",
          "data": {
            "text/plain": [
              "California    False\n",
              "Ohio           True\n",
              "Oregon         True\n",
              "Texas          True\n",
              "Name: usadata, dtype: bool"
            ]
          },
          "metadata": {
            "tags": []
          },
          "execution_count": 37
        }
      ]
    },
    {
      "cell_type": "code",
      "metadata": {
        "id": "H562O9Mf1Crs",
        "outputId": "07fdac10-d029-42ff-fa83-71f8d7dd6528",
        "colab": {
          "base_uri": "https://localhost:8080/"
        }
      },
      "source": [
        "obj4.isnull()"
      ],
      "execution_count": 38,
      "outputs": [
        {
          "output_type": "execute_result",
          "data": {
            "text/plain": [
              "California     True\n",
              "Ohio          False\n",
              "Oregon        False\n",
              "Texas         False\n",
              "Name: usadata, dtype: bool"
            ]
          },
          "metadata": {
            "tags": []
          },
          "execution_count": 38
        }
      ]
    },
    {
      "cell_type": "code",
      "metadata": {
        "id": "aQIOCKPn1Crt",
        "outputId": "ef5690ab-8718-49eb-b0d6-97e949a070fa",
        "colab": {
          "base_uri": "https://localhost:8080/"
        }
      },
      "source": [
        "obj3"
      ],
      "execution_count": 39,
      "outputs": [
        {
          "output_type": "execute_result",
          "data": {
            "text/plain": [
              "Ohio      35000\n",
              "Texas     71000\n",
              "Oregon    16000\n",
              "Utah       5000\n",
              "dtype: int64"
            ]
          },
          "metadata": {
            "tags": []
          },
          "execution_count": 39
        }
      ]
    },
    {
      "cell_type": "code",
      "metadata": {
        "id": "0-wFO37G1Crt",
        "outputId": "c13bd8f3-594f-46f8-e88d-52495e60200f",
        "colab": {
          "base_uri": "https://localhost:8080/"
        }
      },
      "source": [
        "obj4"
      ],
      "execution_count": 40,
      "outputs": [
        {
          "output_type": "execute_result",
          "data": {
            "text/plain": [
              "California        NaN\n",
              "Ohio          35000.0\n",
              "Oregon        16000.0\n",
              "Texas         71000.0\n",
              "Name: usadata, dtype: float64"
            ]
          },
          "metadata": {
            "tags": []
          },
          "execution_count": 40
        }
      ]
    },
    {
      "cell_type": "code",
      "metadata": {
        "id": "QaLx0EY01Crt",
        "outputId": "e5c5b15e-8d70-4387-a9d9-281a317cc218",
        "colab": {
          "base_uri": "https://localhost:8080/"
        }
      },
      "source": [
        "obj3 + obj4"
      ],
      "execution_count": 41,
      "outputs": [
        {
          "output_type": "execute_result",
          "data": {
            "text/plain": [
              "California         NaN\n",
              "Ohio           70000.0\n",
              "Oregon         32000.0\n",
              "Texas         142000.0\n",
              "Utah               NaN\n",
              "dtype: float64"
            ]
          },
          "metadata": {
            "tags": []
          },
          "execution_count": 41
        }
      ]
    },
    {
      "cell_type": "code",
      "metadata": {
        "id": "ssNWpsaG1Crt",
        "outputId": "3ddc717c-b3d7-4ef0-8bda-a7663597fce2",
        "colab": {
          "base_uri": "https://localhost:8080/"
        }
      },
      "source": [
        "obj4.name = 'population'\n",
        "obj4.index.name = 'state'\n",
        "obj4"
      ],
      "execution_count": 42,
      "outputs": [
        {
          "output_type": "execute_result",
          "data": {
            "text/plain": [
              "state\n",
              "California        NaN\n",
              "Ohio          35000.0\n",
              "Oregon        16000.0\n",
              "Texas         71000.0\n",
              "Name: population, dtype: float64"
            ]
          },
          "metadata": {
            "tags": []
          },
          "execution_count": 42
        }
      ]
    },
    {
      "cell_type": "code",
      "metadata": {
        "id": "Mq9gkDFe1Crt",
        "outputId": "f8921572-018c-4b8c-8b72-919246bbba95",
        "colab": {
          "base_uri": "https://localhost:8080/"
        }
      },
      "source": [
        "obj"
      ],
      "execution_count": 43,
      "outputs": [
        {
          "output_type": "execute_result",
          "data": {
            "text/plain": [
              "array(['a', 'b', 'c'], dtype=object)"
            ]
          },
          "metadata": {
            "tags": []
          },
          "execution_count": 43
        }
      ]
    },
    {
      "cell_type": "code",
      "metadata": {
        "id": "_y00nkwj1Cru",
        "outputId": "89b71b2d-7c5f-42d4-a47b-ee8fad4b52cf",
        "colab": {
          "base_uri": "https://localhost:8080/",
          "height": 190
        }
      },
      "source": [
        "obj.index = ['Bob', 'Steve', 'Jeff', 'Ryan']\n",
        "obj"
      ],
      "execution_count": 44,
      "outputs": [
        {
          "output_type": "error",
          "ename": "AttributeError",
          "evalue": "ignored",
          "traceback": [
            "\u001b[0;31m---------------------------------------------------------------------------\u001b[0m",
            "\u001b[0;31mAttributeError\u001b[0m                            Traceback (most recent call last)",
            "\u001b[0;32m<ipython-input-44-d9422e07751b>\u001b[0m in \u001b[0;36m<module>\u001b[0;34m()\u001b[0m\n\u001b[0;32m----> 1\u001b[0;31m \u001b[0mobj\u001b[0m\u001b[0;34m.\u001b[0m\u001b[0mindex\u001b[0m \u001b[0;34m=\u001b[0m \u001b[0;34m[\u001b[0m\u001b[0;34m'Bob'\u001b[0m\u001b[0;34m,\u001b[0m \u001b[0;34m'Steve'\u001b[0m\u001b[0;34m,\u001b[0m \u001b[0;34m'Jeff'\u001b[0m\u001b[0;34m,\u001b[0m \u001b[0;34m'Ryan'\u001b[0m\u001b[0;34m]\u001b[0m\u001b[0;34m\u001b[0m\u001b[0;34m\u001b[0m\u001b[0m\n\u001b[0m\u001b[1;32m      2\u001b[0m \u001b[0mobj\u001b[0m\u001b[0;34m\u001b[0m\u001b[0;34m\u001b[0m\u001b[0m\n",
            "\u001b[0;31mAttributeError\u001b[0m: 'numpy.ndarray' object has no attribute 'index'"
          ]
        }
      ]
    },
    {
      "cell_type": "markdown",
      "metadata": {
        "id": "4HfSjbsH1Cru"
      },
      "source": [
        "### DataFrame"
      ]
    },
    {
      "cell_type": "code",
      "metadata": {
        "id": "EseUmtVv1Cru",
        "outputId": "746e7c19-accc-4949-97d9-11b916409464",
        "colab": {
          "base_uri": "https://localhost:8080/",
          "height": 234
        }
      },
      "source": [
        "data = {'state': ['Ohio', 'Ohio', 'Ohio', 'Nevada', 'Nevada', 'Nevada'],\n",
        "        'year': [2000, 2001, 2002, 2001, 2002, 2003],\n",
        "        'pop': [1.5, 1.7, 3.6, 2.4, 2.9, 3.2]}\n",
        "frame = pd.DataFrame(data)\n",
        "frame"
      ],
      "execution_count": 52,
      "outputs": [
        {
          "output_type": "execute_result",
          "data": {
            "text/html": [
              "<div>\n",
              "<style scoped>\n",
              "    .dataframe tbody tr th:only-of-type {\n",
              "        vertical-align: middle;\n",
              "    }\n",
              "\n",
              "    .dataframe tbody tr th {\n",
              "        vertical-align: top;\n",
              "    }\n",
              "\n",
              "    .dataframe thead th {\n",
              "        text-align: right;\n",
              "    }\n",
              "</style>\n",
              "<table border=\"1\" class=\"dataframe\">\n",
              "  <thead>\n",
              "    <tr style=\"text-align: right;\">\n",
              "      <th></th>\n",
              "      <th>state</th>\n",
              "      <th>year</th>\n",
              "      <th>pop</th>\n",
              "    </tr>\n",
              "  </thead>\n",
              "  <tbody>\n",
              "    <tr>\n",
              "      <th>0</th>\n",
              "      <td>Ohio</td>\n",
              "      <td>2000</td>\n",
              "      <td>1.5</td>\n",
              "    </tr>\n",
              "    <tr>\n",
              "      <th>1</th>\n",
              "      <td>Ohio</td>\n",
              "      <td>2001</td>\n",
              "      <td>1.7</td>\n",
              "    </tr>\n",
              "    <tr>\n",
              "      <th>2</th>\n",
              "      <td>Ohio</td>\n",
              "      <td>2002</td>\n",
              "      <td>3.6</td>\n",
              "    </tr>\n",
              "    <tr>\n",
              "      <th>3</th>\n",
              "      <td>Nevada</td>\n",
              "      <td>2001</td>\n",
              "      <td>2.4</td>\n",
              "    </tr>\n",
              "    <tr>\n",
              "      <th>4</th>\n",
              "      <td>Nevada</td>\n",
              "      <td>2002</td>\n",
              "      <td>2.9</td>\n",
              "    </tr>\n",
              "    <tr>\n",
              "      <th>5</th>\n",
              "      <td>Nevada</td>\n",
              "      <td>2003</td>\n",
              "      <td>3.2</td>\n",
              "    </tr>\n",
              "  </tbody>\n",
              "</table>\n",
              "</div>"
            ],
            "text/plain": [
              "    state  year  pop\n",
              "0    Ohio  2000  1.5\n",
              "1    Ohio  2001  1.7\n",
              "2    Ohio  2002  3.6\n",
              "3  Nevada  2001  2.4\n",
              "4  Nevada  2002  2.9\n",
              "5  Nevada  2003  3.2"
            ]
          },
          "metadata": {
            "tags": []
          },
          "execution_count": 52
        }
      ]
    },
    {
      "cell_type": "code",
      "metadata": {
        "id": "heQ14JiV1Cru",
        "outputId": "37e921fb-5c7b-40eb-89ab-430daa433669",
        "colab": {
          "base_uri": "https://localhost:8080/",
          "height": 141
        }
      },
      "source": [
        "frame.head(3)"
      ],
      "execution_count": 53,
      "outputs": [
        {
          "output_type": "execute_result",
          "data": {
            "text/html": [
              "<div>\n",
              "<style scoped>\n",
              "    .dataframe tbody tr th:only-of-type {\n",
              "        vertical-align: middle;\n",
              "    }\n",
              "\n",
              "    .dataframe tbody tr th {\n",
              "        vertical-align: top;\n",
              "    }\n",
              "\n",
              "    .dataframe thead th {\n",
              "        text-align: right;\n",
              "    }\n",
              "</style>\n",
              "<table border=\"1\" class=\"dataframe\">\n",
              "  <thead>\n",
              "    <tr style=\"text-align: right;\">\n",
              "      <th></th>\n",
              "      <th>state</th>\n",
              "      <th>year</th>\n",
              "      <th>pop</th>\n",
              "    </tr>\n",
              "  </thead>\n",
              "  <tbody>\n",
              "    <tr>\n",
              "      <th>0</th>\n",
              "      <td>Ohio</td>\n",
              "      <td>2000</td>\n",
              "      <td>1.5</td>\n",
              "    </tr>\n",
              "    <tr>\n",
              "      <th>1</th>\n",
              "      <td>Ohio</td>\n",
              "      <td>2001</td>\n",
              "      <td>1.7</td>\n",
              "    </tr>\n",
              "    <tr>\n",
              "      <th>2</th>\n",
              "      <td>Ohio</td>\n",
              "      <td>2002</td>\n",
              "      <td>3.6</td>\n",
              "    </tr>\n",
              "  </tbody>\n",
              "</table>\n",
              "</div>"
            ],
            "text/plain": [
              "  state  year  pop\n",
              "0  Ohio  2000  1.5\n",
              "1  Ohio  2001  1.7\n",
              "2  Ohio  2002  3.6"
            ]
          },
          "metadata": {
            "tags": []
          },
          "execution_count": 53
        }
      ]
    },
    {
      "cell_type": "code",
      "metadata": {
        "id": "PY1IwIsS1Cru",
        "outputId": "9a2bab08-82e0-4ef2-e452-cf78212776f4",
        "colab": {
          "base_uri": "https://localhost:8080/",
          "height": 141
        }
      },
      "source": [
        "frame.tail(3)"
      ],
      "execution_count": 54,
      "outputs": [
        {
          "output_type": "execute_result",
          "data": {
            "text/html": [
              "<div>\n",
              "<style scoped>\n",
              "    .dataframe tbody tr th:only-of-type {\n",
              "        vertical-align: middle;\n",
              "    }\n",
              "\n",
              "    .dataframe tbody tr th {\n",
              "        vertical-align: top;\n",
              "    }\n",
              "\n",
              "    .dataframe thead th {\n",
              "        text-align: right;\n",
              "    }\n",
              "</style>\n",
              "<table border=\"1\" class=\"dataframe\">\n",
              "  <thead>\n",
              "    <tr style=\"text-align: right;\">\n",
              "      <th></th>\n",
              "      <th>state</th>\n",
              "      <th>year</th>\n",
              "      <th>pop</th>\n",
              "    </tr>\n",
              "  </thead>\n",
              "  <tbody>\n",
              "    <tr>\n",
              "      <th>3</th>\n",
              "      <td>Nevada</td>\n",
              "      <td>2001</td>\n",
              "      <td>2.4</td>\n",
              "    </tr>\n",
              "    <tr>\n",
              "      <th>4</th>\n",
              "      <td>Nevada</td>\n",
              "      <td>2002</td>\n",
              "      <td>2.9</td>\n",
              "    </tr>\n",
              "    <tr>\n",
              "      <th>5</th>\n",
              "      <td>Nevada</td>\n",
              "      <td>2003</td>\n",
              "      <td>3.2</td>\n",
              "    </tr>\n",
              "  </tbody>\n",
              "</table>\n",
              "</div>"
            ],
            "text/plain": [
              "    state  year  pop\n",
              "3  Nevada  2001  2.4\n",
              "4  Nevada  2002  2.9\n",
              "5  Nevada  2003  3.2"
            ]
          },
          "metadata": {
            "tags": []
          },
          "execution_count": 54
        }
      ]
    },
    {
      "cell_type": "code",
      "metadata": {
        "id": "V91QskW21Cru",
        "outputId": "e08450e1-22e3-4b4d-ba8b-f7e3fc740b4d",
        "colab": {
          "base_uri": "https://localhost:8080/",
          "height": 234
        }
      },
      "source": [
        "pd.DataFrame(data, columns=['year', 'state', 'pop'])"
      ],
      "execution_count": 55,
      "outputs": [
        {
          "output_type": "execute_result",
          "data": {
            "text/html": [
              "<div>\n",
              "<style scoped>\n",
              "    .dataframe tbody tr th:only-of-type {\n",
              "        vertical-align: middle;\n",
              "    }\n",
              "\n",
              "    .dataframe tbody tr th {\n",
              "        vertical-align: top;\n",
              "    }\n",
              "\n",
              "    .dataframe thead th {\n",
              "        text-align: right;\n",
              "    }\n",
              "</style>\n",
              "<table border=\"1\" class=\"dataframe\">\n",
              "  <thead>\n",
              "    <tr style=\"text-align: right;\">\n",
              "      <th></th>\n",
              "      <th>year</th>\n",
              "      <th>state</th>\n",
              "      <th>pop</th>\n",
              "    </tr>\n",
              "  </thead>\n",
              "  <tbody>\n",
              "    <tr>\n",
              "      <th>0</th>\n",
              "      <td>2000</td>\n",
              "      <td>Ohio</td>\n",
              "      <td>1.5</td>\n",
              "    </tr>\n",
              "    <tr>\n",
              "      <th>1</th>\n",
              "      <td>2001</td>\n",
              "      <td>Ohio</td>\n",
              "      <td>1.7</td>\n",
              "    </tr>\n",
              "    <tr>\n",
              "      <th>2</th>\n",
              "      <td>2002</td>\n",
              "      <td>Ohio</td>\n",
              "      <td>3.6</td>\n",
              "    </tr>\n",
              "    <tr>\n",
              "      <th>3</th>\n",
              "      <td>2001</td>\n",
              "      <td>Nevada</td>\n",
              "      <td>2.4</td>\n",
              "    </tr>\n",
              "    <tr>\n",
              "      <th>4</th>\n",
              "      <td>2002</td>\n",
              "      <td>Nevada</td>\n",
              "      <td>2.9</td>\n",
              "    </tr>\n",
              "    <tr>\n",
              "      <th>5</th>\n",
              "      <td>2003</td>\n",
              "      <td>Nevada</td>\n",
              "      <td>3.2</td>\n",
              "    </tr>\n",
              "  </tbody>\n",
              "</table>\n",
              "</div>"
            ],
            "text/plain": [
              "   year   state  pop\n",
              "0  2000    Ohio  1.5\n",
              "1  2001    Ohio  1.7\n",
              "2  2002    Ohio  3.6\n",
              "3  2001  Nevada  2.4\n",
              "4  2002  Nevada  2.9\n",
              "5  2003  Nevada  3.2"
            ]
          },
          "metadata": {
            "tags": []
          },
          "execution_count": 55
        }
      ]
    },
    {
      "cell_type": "code",
      "metadata": {
        "id": "m5wNG7O11Crv",
        "outputId": "6d82cd1e-4d44-43a5-d9fa-c4e43c04433f",
        "colab": {
          "base_uri": "https://localhost:8080/",
          "height": 234
        }
      },
      "source": [
        "frame2 = pd.DataFrame(data, columns=['year', 'state', 'pop', 'debt'],\n",
        "                      index=['one', 'two', 'three', 'four', 'five', 'six'])\n",
        "frame2"
      ],
      "execution_count": 56,
      "outputs": [
        {
          "output_type": "execute_result",
          "data": {
            "text/html": [
              "<div>\n",
              "<style scoped>\n",
              "    .dataframe tbody tr th:only-of-type {\n",
              "        vertical-align: middle;\n",
              "    }\n",
              "\n",
              "    .dataframe tbody tr th {\n",
              "        vertical-align: top;\n",
              "    }\n",
              "\n",
              "    .dataframe thead th {\n",
              "        text-align: right;\n",
              "    }\n",
              "</style>\n",
              "<table border=\"1\" class=\"dataframe\">\n",
              "  <thead>\n",
              "    <tr style=\"text-align: right;\">\n",
              "      <th></th>\n",
              "      <th>year</th>\n",
              "      <th>state</th>\n",
              "      <th>pop</th>\n",
              "      <th>debt</th>\n",
              "    </tr>\n",
              "  </thead>\n",
              "  <tbody>\n",
              "    <tr>\n",
              "      <th>one</th>\n",
              "      <td>2000</td>\n",
              "      <td>Ohio</td>\n",
              "      <td>1.5</td>\n",
              "      <td>NaN</td>\n",
              "    </tr>\n",
              "    <tr>\n",
              "      <th>two</th>\n",
              "      <td>2001</td>\n",
              "      <td>Ohio</td>\n",
              "      <td>1.7</td>\n",
              "      <td>NaN</td>\n",
              "    </tr>\n",
              "    <tr>\n",
              "      <th>three</th>\n",
              "      <td>2002</td>\n",
              "      <td>Ohio</td>\n",
              "      <td>3.6</td>\n",
              "      <td>NaN</td>\n",
              "    </tr>\n",
              "    <tr>\n",
              "      <th>four</th>\n",
              "      <td>2001</td>\n",
              "      <td>Nevada</td>\n",
              "      <td>2.4</td>\n",
              "      <td>NaN</td>\n",
              "    </tr>\n",
              "    <tr>\n",
              "      <th>five</th>\n",
              "      <td>2002</td>\n",
              "      <td>Nevada</td>\n",
              "      <td>2.9</td>\n",
              "      <td>NaN</td>\n",
              "    </tr>\n",
              "    <tr>\n",
              "      <th>six</th>\n",
              "      <td>2003</td>\n",
              "      <td>Nevada</td>\n",
              "      <td>3.2</td>\n",
              "      <td>NaN</td>\n",
              "    </tr>\n",
              "  </tbody>\n",
              "</table>\n",
              "</div>"
            ],
            "text/plain": [
              "       year   state  pop debt\n",
              "one    2000    Ohio  1.5  NaN\n",
              "two    2001    Ohio  1.7  NaN\n",
              "three  2002    Ohio  3.6  NaN\n",
              "four   2001  Nevada  2.4  NaN\n",
              "five   2002  Nevada  2.9  NaN\n",
              "six    2003  Nevada  3.2  NaN"
            ]
          },
          "metadata": {
            "tags": []
          },
          "execution_count": 56
        }
      ]
    },
    {
      "cell_type": "code",
      "metadata": {
        "id": "jezA7Phg1Crv",
        "outputId": "f6703aec-6147-42e5-c456-7a303c033abc",
        "colab": {
          "base_uri": "https://localhost:8080/"
        }
      },
      "source": [
        "frame2.columns"
      ],
      "execution_count": 57,
      "outputs": [
        {
          "output_type": "execute_result",
          "data": {
            "text/plain": [
              "Index(['year', 'state', 'pop', 'debt'], dtype='object')"
            ]
          },
          "metadata": {
            "tags": []
          },
          "execution_count": 57
        }
      ]
    },
    {
      "cell_type": "code",
      "metadata": {
        "id": "6cDaTnka1Crv",
        "outputId": "89926584-fb31-46ae-9b7a-3002f191c1be",
        "colab": {
          "base_uri": "https://localhost:8080/"
        }
      },
      "source": [
        "type(frame2.columns)"
      ],
      "execution_count": 58,
      "outputs": [
        {
          "output_type": "execute_result",
          "data": {
            "text/plain": [
              "pandas.core.indexes.base.Index"
            ]
          },
          "metadata": {
            "tags": []
          },
          "execution_count": 58
        }
      ]
    },
    {
      "cell_type": "code",
      "metadata": {
        "id": "6pNARMro1Crv",
        "outputId": "9387420b-a6e1-4985-d8c8-97f542eeb13f",
        "colab": {
          "base_uri": "https://localhost:8080/"
        }
      },
      "source": [
        "'year' in frame2.columns"
      ],
      "execution_count": 59,
      "outputs": [
        {
          "output_type": "execute_result",
          "data": {
            "text/plain": [
              "True"
            ]
          },
          "metadata": {
            "tags": []
          },
          "execution_count": 59
        }
      ]
    },
    {
      "cell_type": "code",
      "metadata": {
        "id": "6K_ckdmr1Crv",
        "outputId": "9fc36a25-7ae5-4f8b-d424-adbbfd712616",
        "colab": {
          "base_uri": "https://localhost:8080/"
        }
      },
      "source": [
        "frame2['state']#serial"
      ],
      "execution_count": 60,
      "outputs": [
        {
          "output_type": "execute_result",
          "data": {
            "text/plain": [
              "one        Ohio\n",
              "two        Ohio\n",
              "three      Ohio\n",
              "four     Nevada\n",
              "five     Nevada\n",
              "six      Nevada\n",
              "Name: state, dtype: object"
            ]
          },
          "metadata": {
            "tags": []
          },
          "execution_count": 60
        }
      ]
    },
    {
      "cell_type": "code",
      "metadata": {
        "id": "Ev-YlXc_GZrc",
        "outputId": "a34b435f-431e-4453-e590-48fa521d7717",
        "colab": {
          "base_uri": "https://localhost:8080/",
          "height": 234
        }
      },
      "source": [
        "frame2[['state']]  #dataFrame"
      ],
      "execution_count": 61,
      "outputs": [
        {
          "output_type": "execute_result",
          "data": {
            "text/html": [
              "<div>\n",
              "<style scoped>\n",
              "    .dataframe tbody tr th:only-of-type {\n",
              "        vertical-align: middle;\n",
              "    }\n",
              "\n",
              "    .dataframe tbody tr th {\n",
              "        vertical-align: top;\n",
              "    }\n",
              "\n",
              "    .dataframe thead th {\n",
              "        text-align: right;\n",
              "    }\n",
              "</style>\n",
              "<table border=\"1\" class=\"dataframe\">\n",
              "  <thead>\n",
              "    <tr style=\"text-align: right;\">\n",
              "      <th></th>\n",
              "      <th>state</th>\n",
              "    </tr>\n",
              "  </thead>\n",
              "  <tbody>\n",
              "    <tr>\n",
              "      <th>one</th>\n",
              "      <td>Ohio</td>\n",
              "    </tr>\n",
              "    <tr>\n",
              "      <th>two</th>\n",
              "      <td>Ohio</td>\n",
              "    </tr>\n",
              "    <tr>\n",
              "      <th>three</th>\n",
              "      <td>Ohio</td>\n",
              "    </tr>\n",
              "    <tr>\n",
              "      <th>four</th>\n",
              "      <td>Nevada</td>\n",
              "    </tr>\n",
              "    <tr>\n",
              "      <th>five</th>\n",
              "      <td>Nevada</td>\n",
              "    </tr>\n",
              "    <tr>\n",
              "      <th>six</th>\n",
              "      <td>Nevada</td>\n",
              "    </tr>\n",
              "  </tbody>\n",
              "</table>\n",
              "</div>"
            ],
            "text/plain": [
              "        state\n",
              "one      Ohio\n",
              "two      Ohio\n",
              "three    Ohio\n",
              "four   Nevada\n",
              "five   Nevada\n",
              "six    Nevada"
            ]
          },
          "metadata": {
            "tags": []
          },
          "execution_count": 61
        }
      ]
    },
    {
      "cell_type": "code",
      "metadata": {
        "id": "3NsG7lFK1Crv",
        "outputId": "8044eee8-c29b-4d55-a181-3a7ada1251c2",
        "colab": {
          "base_uri": "https://localhost:8080/"
        }
      },
      "source": [
        "type(frame2['state'])"
      ],
      "execution_count": 62,
      "outputs": [
        {
          "output_type": "execute_result",
          "data": {
            "text/plain": [
              "pandas.core.series.Series"
            ]
          },
          "metadata": {
            "tags": []
          },
          "execution_count": 62
        }
      ]
    },
    {
      "cell_type": "code",
      "metadata": {
        "id": "y5SnnjIj1Crw",
        "outputId": "e52b68db-d7a7-4cc3-dd19-47a7c0a8380e",
        "colab": {
          "base_uri": "https://localhost:8080/"
        }
      },
      "source": [
        "frame2.year"
      ],
      "execution_count": 63,
      "outputs": [
        {
          "output_type": "execute_result",
          "data": {
            "text/plain": [
              "one      2000\n",
              "two      2001\n",
              "three    2002\n",
              "four     2001\n",
              "five     2002\n",
              "six      2003\n",
              "Name: year, dtype: int64"
            ]
          },
          "metadata": {
            "tags": []
          },
          "execution_count": 63
        }
      ]
    },
    {
      "cell_type": "code",
      "metadata": {
        "id": "kMogdDW61Crw",
        "outputId": "939fb94d-913d-4865-df63-f6777f9feed7",
        "colab": {
          "base_uri": "https://localhost:8080/"
        }
      },
      "source": [
        "frame2['year']"
      ],
      "execution_count": 64,
      "outputs": [
        {
          "output_type": "execute_result",
          "data": {
            "text/plain": [
              "one      2000\n",
              "two      2001\n",
              "three    2002\n",
              "four     2001\n",
              "five     2002\n",
              "six      2003\n",
              "Name: year, dtype: int64"
            ]
          },
          "metadata": {
            "tags": []
          },
          "execution_count": 64
        }
      ]
    },
    {
      "cell_type": "code",
      "metadata": {
        "id": "W7tABB5S1Crw",
        "outputId": "7390cbf6-f2f0-4531-9576-30ad0a001154",
        "colab": {
          "base_uri": "https://localhost:8080/"
        }
      },
      "source": [
        "frame2.loc['three']"
      ],
      "execution_count": 65,
      "outputs": [
        {
          "output_type": "execute_result",
          "data": {
            "text/plain": [
              "year     2002\n",
              "state    Ohio\n",
              "pop       3.6\n",
              "debt      NaN\n",
              "Name: three, dtype: object"
            ]
          },
          "metadata": {
            "tags": []
          },
          "execution_count": 65
        }
      ]
    },
    {
      "cell_type": "code",
      "metadata": {
        "id": "AWQnlZ5-1Crw",
        "outputId": "60e50930-bb0d-4b77-f201-04a80d9d95c3",
        "colab": {
          "base_uri": "https://localhost:8080/",
          "height": 234
        }
      },
      "source": [
        "frame2['debt'] = 16.5\n",
        "frame2"
      ],
      "execution_count": 66,
      "outputs": [
        {
          "output_type": "execute_result",
          "data": {
            "text/html": [
              "<div>\n",
              "<style scoped>\n",
              "    .dataframe tbody tr th:only-of-type {\n",
              "        vertical-align: middle;\n",
              "    }\n",
              "\n",
              "    .dataframe tbody tr th {\n",
              "        vertical-align: top;\n",
              "    }\n",
              "\n",
              "    .dataframe thead th {\n",
              "        text-align: right;\n",
              "    }\n",
              "</style>\n",
              "<table border=\"1\" class=\"dataframe\">\n",
              "  <thead>\n",
              "    <tr style=\"text-align: right;\">\n",
              "      <th></th>\n",
              "      <th>year</th>\n",
              "      <th>state</th>\n",
              "      <th>pop</th>\n",
              "      <th>debt</th>\n",
              "    </tr>\n",
              "  </thead>\n",
              "  <tbody>\n",
              "    <tr>\n",
              "      <th>one</th>\n",
              "      <td>2000</td>\n",
              "      <td>Ohio</td>\n",
              "      <td>1.5</td>\n",
              "      <td>16.5</td>\n",
              "    </tr>\n",
              "    <tr>\n",
              "      <th>two</th>\n",
              "      <td>2001</td>\n",
              "      <td>Ohio</td>\n",
              "      <td>1.7</td>\n",
              "      <td>16.5</td>\n",
              "    </tr>\n",
              "    <tr>\n",
              "      <th>three</th>\n",
              "      <td>2002</td>\n",
              "      <td>Ohio</td>\n",
              "      <td>3.6</td>\n",
              "      <td>16.5</td>\n",
              "    </tr>\n",
              "    <tr>\n",
              "      <th>four</th>\n",
              "      <td>2001</td>\n",
              "      <td>Nevada</td>\n",
              "      <td>2.4</td>\n",
              "      <td>16.5</td>\n",
              "    </tr>\n",
              "    <tr>\n",
              "      <th>five</th>\n",
              "      <td>2002</td>\n",
              "      <td>Nevada</td>\n",
              "      <td>2.9</td>\n",
              "      <td>16.5</td>\n",
              "    </tr>\n",
              "    <tr>\n",
              "      <th>six</th>\n",
              "      <td>2003</td>\n",
              "      <td>Nevada</td>\n",
              "      <td>3.2</td>\n",
              "      <td>16.5</td>\n",
              "    </tr>\n",
              "  </tbody>\n",
              "</table>\n",
              "</div>"
            ],
            "text/plain": [
              "       year   state  pop  debt\n",
              "one    2000    Ohio  1.5  16.5\n",
              "two    2001    Ohio  1.7  16.5\n",
              "three  2002    Ohio  3.6  16.5\n",
              "four   2001  Nevada  2.4  16.5\n",
              "five   2002  Nevada  2.9  16.5\n",
              "six    2003  Nevada  3.2  16.5"
            ]
          },
          "metadata": {
            "tags": []
          },
          "execution_count": 66
        }
      ]
    },
    {
      "cell_type": "code",
      "metadata": {
        "id": "tjgt5tMb1Crw",
        "outputId": "9613a5c6-dbd5-4393-f4f6-60d61a197cda",
        "colab": {
          "base_uri": "https://localhost:8080/",
          "height": 234
        }
      },
      "source": [
        "frame2['debt'] = np.arange(6.) # 행의 길이가 같아야 함, 오류발생\n",
        "frame2"
      ],
      "execution_count": 67,
      "outputs": [
        {
          "output_type": "execute_result",
          "data": {
            "text/html": [
              "<div>\n",
              "<style scoped>\n",
              "    .dataframe tbody tr th:only-of-type {\n",
              "        vertical-align: middle;\n",
              "    }\n",
              "\n",
              "    .dataframe tbody tr th {\n",
              "        vertical-align: top;\n",
              "    }\n",
              "\n",
              "    .dataframe thead th {\n",
              "        text-align: right;\n",
              "    }\n",
              "</style>\n",
              "<table border=\"1\" class=\"dataframe\">\n",
              "  <thead>\n",
              "    <tr style=\"text-align: right;\">\n",
              "      <th></th>\n",
              "      <th>year</th>\n",
              "      <th>state</th>\n",
              "      <th>pop</th>\n",
              "      <th>debt</th>\n",
              "    </tr>\n",
              "  </thead>\n",
              "  <tbody>\n",
              "    <tr>\n",
              "      <th>one</th>\n",
              "      <td>2000</td>\n",
              "      <td>Ohio</td>\n",
              "      <td>1.5</td>\n",
              "      <td>0.0</td>\n",
              "    </tr>\n",
              "    <tr>\n",
              "      <th>two</th>\n",
              "      <td>2001</td>\n",
              "      <td>Ohio</td>\n",
              "      <td>1.7</td>\n",
              "      <td>1.0</td>\n",
              "    </tr>\n",
              "    <tr>\n",
              "      <th>three</th>\n",
              "      <td>2002</td>\n",
              "      <td>Ohio</td>\n",
              "      <td>3.6</td>\n",
              "      <td>2.0</td>\n",
              "    </tr>\n",
              "    <tr>\n",
              "      <th>four</th>\n",
              "      <td>2001</td>\n",
              "      <td>Nevada</td>\n",
              "      <td>2.4</td>\n",
              "      <td>3.0</td>\n",
              "    </tr>\n",
              "    <tr>\n",
              "      <th>five</th>\n",
              "      <td>2002</td>\n",
              "      <td>Nevada</td>\n",
              "      <td>2.9</td>\n",
              "      <td>4.0</td>\n",
              "    </tr>\n",
              "    <tr>\n",
              "      <th>six</th>\n",
              "      <td>2003</td>\n",
              "      <td>Nevada</td>\n",
              "      <td>3.2</td>\n",
              "      <td>5.0</td>\n",
              "    </tr>\n",
              "  </tbody>\n",
              "</table>\n",
              "</div>"
            ],
            "text/plain": [
              "       year   state  pop  debt\n",
              "one    2000    Ohio  1.5   0.0\n",
              "two    2001    Ohio  1.7   1.0\n",
              "three  2002    Ohio  3.6   2.0\n",
              "four   2001  Nevada  2.4   3.0\n",
              "five   2002  Nevada  2.9   4.0\n",
              "six    2003  Nevada  3.2   5.0"
            ]
          },
          "metadata": {
            "tags": []
          },
          "execution_count": 67
        }
      ]
    },
    {
      "cell_type": "code",
      "metadata": {
        "id": "yPmsmcrKHJO8",
        "outputId": "22bd84b5-6a88-462c-813c-a351e26a97be",
        "colab": {
          "base_uri": "https://localhost:8080/"
        }
      },
      "source": [
        "frame2.loc['three']"
      ],
      "execution_count": 69,
      "outputs": [
        {
          "output_type": "execute_result",
          "data": {
            "text/plain": [
              "year     2002\n",
              "state    Ohio\n",
              "pop       3.6\n",
              "debt        2\n",
              "Name: three, dtype: object"
            ]
          },
          "metadata": {
            "tags": []
          },
          "execution_count": 69
        }
      ]
    },
    {
      "cell_type": "code",
      "metadata": {
        "id": "QyLv2t0r1Crx",
        "outputId": "957ccaf1-4cac-4046-df91-ed1879ec8da0",
        "colab": {
          "base_uri": "https://localhost:8080/",
          "height": 234
        }
      },
      "source": [
        "val = pd.Series([-1.2, -1.5, -1.7], index=['two', 'four', 'five'])\n",
        "frame2['debt'] = val\n",
        "frame2"
      ],
      "execution_count": 70,
      "outputs": [
        {
          "output_type": "execute_result",
          "data": {
            "text/html": [
              "<div>\n",
              "<style scoped>\n",
              "    .dataframe tbody tr th:only-of-type {\n",
              "        vertical-align: middle;\n",
              "    }\n",
              "\n",
              "    .dataframe tbody tr th {\n",
              "        vertical-align: top;\n",
              "    }\n",
              "\n",
              "    .dataframe thead th {\n",
              "        text-align: right;\n",
              "    }\n",
              "</style>\n",
              "<table border=\"1\" class=\"dataframe\">\n",
              "  <thead>\n",
              "    <tr style=\"text-align: right;\">\n",
              "      <th></th>\n",
              "      <th>year</th>\n",
              "      <th>state</th>\n",
              "      <th>pop</th>\n",
              "      <th>debt</th>\n",
              "    </tr>\n",
              "  </thead>\n",
              "  <tbody>\n",
              "    <tr>\n",
              "      <th>one</th>\n",
              "      <td>2000</td>\n",
              "      <td>Ohio</td>\n",
              "      <td>1.5</td>\n",
              "      <td>NaN</td>\n",
              "    </tr>\n",
              "    <tr>\n",
              "      <th>two</th>\n",
              "      <td>2001</td>\n",
              "      <td>Ohio</td>\n",
              "      <td>1.7</td>\n",
              "      <td>-1.2</td>\n",
              "    </tr>\n",
              "    <tr>\n",
              "      <th>three</th>\n",
              "      <td>2002</td>\n",
              "      <td>Ohio</td>\n",
              "      <td>3.6</td>\n",
              "      <td>NaN</td>\n",
              "    </tr>\n",
              "    <tr>\n",
              "      <th>four</th>\n",
              "      <td>2001</td>\n",
              "      <td>Nevada</td>\n",
              "      <td>2.4</td>\n",
              "      <td>-1.5</td>\n",
              "    </tr>\n",
              "    <tr>\n",
              "      <th>five</th>\n",
              "      <td>2002</td>\n",
              "      <td>Nevada</td>\n",
              "      <td>2.9</td>\n",
              "      <td>-1.7</td>\n",
              "    </tr>\n",
              "    <tr>\n",
              "      <th>six</th>\n",
              "      <td>2003</td>\n",
              "      <td>Nevada</td>\n",
              "      <td>3.2</td>\n",
              "      <td>NaN</td>\n",
              "    </tr>\n",
              "  </tbody>\n",
              "</table>\n",
              "</div>"
            ],
            "text/plain": [
              "       year   state  pop  debt\n",
              "one    2000    Ohio  1.5   NaN\n",
              "two    2001    Ohio  1.7  -1.2\n",
              "three  2002    Ohio  3.6   NaN\n",
              "four   2001  Nevada  2.4  -1.5\n",
              "five   2002  Nevada  2.9  -1.7\n",
              "six    2003  Nevada  3.2   NaN"
            ]
          },
          "metadata": {
            "tags": []
          },
          "execution_count": 70
        }
      ]
    },
    {
      "cell_type": "code",
      "metadata": {
        "id": "9l9Kzs9T1Crx",
        "outputId": "13fffe9d-66d9-4a68-8260-36179b81946f"
      },
      "source": [
        "frame2['eastern'] = frame2.state == 'Ohio'\n",
        "frame2"
      ],
      "execution_count": null,
      "outputs": [
        {
          "output_type": "execute_result",
          "data": {
            "text/html": [
              "<div>\n",
              "<style scoped>\n",
              "    .dataframe tbody tr th:only-of-type {\n",
              "        vertical-align: middle;\n",
              "    }\n",
              "\n",
              "    .dataframe tbody tr th {\n",
              "        vertical-align: top;\n",
              "    }\n",
              "\n",
              "    .dataframe thead th {\n",
              "        text-align: right;\n",
              "    }\n",
              "</style>\n",
              "<table border=\"1\" class=\"dataframe\">\n",
              "  <thead>\n",
              "    <tr style=\"text-align: right;\">\n",
              "      <th></th>\n",
              "      <th>year</th>\n",
              "      <th>state</th>\n",
              "      <th>pop</th>\n",
              "      <th>debt</th>\n",
              "      <th>eastern</th>\n",
              "    </tr>\n",
              "  </thead>\n",
              "  <tbody>\n",
              "    <tr>\n",
              "      <th>one</th>\n",
              "      <td>2000</td>\n",
              "      <td>Ohio</td>\n",
              "      <td>1.5</td>\n",
              "      <td>NaN</td>\n",
              "      <td>True</td>\n",
              "    </tr>\n",
              "    <tr>\n",
              "      <th>two</th>\n",
              "      <td>2001</td>\n",
              "      <td>Ohio</td>\n",
              "      <td>1.7</td>\n",
              "      <td>NaN</td>\n",
              "      <td>True</td>\n",
              "    </tr>\n",
              "    <tr>\n",
              "      <th>three</th>\n",
              "      <td>2002</td>\n",
              "      <td>Ohio</td>\n",
              "      <td>3.6</td>\n",
              "      <td>NaN</td>\n",
              "      <td>True</td>\n",
              "    </tr>\n",
              "    <tr>\n",
              "      <th>four</th>\n",
              "      <td>2001</td>\n",
              "      <td>Nevada</td>\n",
              "      <td>2.4</td>\n",
              "      <td>NaN</td>\n",
              "      <td>False</td>\n",
              "    </tr>\n",
              "    <tr>\n",
              "      <th>five</th>\n",
              "      <td>2002</td>\n",
              "      <td>Nevada</td>\n",
              "      <td>2.9</td>\n",
              "      <td>NaN</td>\n",
              "      <td>False</td>\n",
              "    </tr>\n",
              "    <tr>\n",
              "      <th>six</th>\n",
              "      <td>2003</td>\n",
              "      <td>Nevada</td>\n",
              "      <td>3.2</td>\n",
              "      <td>NaN</td>\n",
              "      <td>False</td>\n",
              "    </tr>\n",
              "  </tbody>\n",
              "</table>\n",
              "</div>"
            ],
            "text/plain": [
              "       year   state  pop debt  eastern\n",
              "one    2000    Ohio  1.5  NaN     True\n",
              "two    2001    Ohio  1.7  NaN     True\n",
              "three  2002    Ohio  3.6  NaN     True\n",
              "four   2001  Nevada  2.4  NaN    False\n",
              "five   2002  Nevada  2.9  NaN    False\n",
              "six    2003  Nevada  3.2  NaN    False"
            ]
          },
          "metadata": {
            "tags": []
          },
          "execution_count": 109
        }
      ]
    },
    {
      "cell_type": "code",
      "metadata": {
        "id": "YiwwR6D91Crx"
      },
      "source": [
        "del frame2['eastern']"
      ],
      "execution_count": null,
      "outputs": []
    },
    {
      "cell_type": "code",
      "metadata": {
        "id": "cVFHtLsM1Crx",
        "outputId": "a486930c-02ac-4c1b-f10b-76bb156fda6d"
      },
      "source": [
        "frame2.columns"
      ],
      "execution_count": null,
      "outputs": [
        {
          "output_type": "execute_result",
          "data": {
            "text/plain": [
              "Index(['year', 'state', 'pop', 'debt'], dtype='object')"
            ]
          },
          "metadata": {
            "tags": []
          },
          "execution_count": 111
        }
      ]
    },
    {
      "cell_type": "code",
      "metadata": {
        "id": "pB2ZyNeZ1Crx",
        "outputId": "f99d42e9-3719-4a68-9037-c825dc7a07c4",
        "colab": {
          "base_uri": "https://localhost:8080/"
        }
      },
      "source": [
        "pop = {'Nevada': {2001: 2.4, 2002: 2.9},\n",
        "       'Ohio': {2000: 1.5, 2001: 1.7, 2002: 3.6}}\n",
        "pop"
      ],
      "execution_count": 71,
      "outputs": [
        {
          "output_type": "execute_result",
          "data": {
            "text/plain": [
              "{'Nevada': {2001: 2.4, 2002: 2.9}, 'Ohio': {2000: 1.5, 2001: 1.7, 2002: 3.6}}"
            ]
          },
          "metadata": {
            "tags": []
          },
          "execution_count": 71
        }
      ]
    },
    {
      "cell_type": "code",
      "metadata": {
        "id": "ld70EtRT1Cry",
        "outputId": "fee6c086-e129-4651-d255-fb9693c321c3",
        "colab": {
          "base_uri": "https://localhost:8080/",
          "height": 141
        }
      },
      "source": [
        "frame3 = pd.DataFrame(pop)\n",
        "frame3"
      ],
      "execution_count": 72,
      "outputs": [
        {
          "output_type": "execute_result",
          "data": {
            "text/html": [
              "<div>\n",
              "<style scoped>\n",
              "    .dataframe tbody tr th:only-of-type {\n",
              "        vertical-align: middle;\n",
              "    }\n",
              "\n",
              "    .dataframe tbody tr th {\n",
              "        vertical-align: top;\n",
              "    }\n",
              "\n",
              "    .dataframe thead th {\n",
              "        text-align: right;\n",
              "    }\n",
              "</style>\n",
              "<table border=\"1\" class=\"dataframe\">\n",
              "  <thead>\n",
              "    <tr style=\"text-align: right;\">\n",
              "      <th></th>\n",
              "      <th>Nevada</th>\n",
              "      <th>Ohio</th>\n",
              "    </tr>\n",
              "  </thead>\n",
              "  <tbody>\n",
              "    <tr>\n",
              "      <th>2001</th>\n",
              "      <td>2.4</td>\n",
              "      <td>1.7</td>\n",
              "    </tr>\n",
              "    <tr>\n",
              "      <th>2002</th>\n",
              "      <td>2.9</td>\n",
              "      <td>3.6</td>\n",
              "    </tr>\n",
              "    <tr>\n",
              "      <th>2000</th>\n",
              "      <td>NaN</td>\n",
              "      <td>1.5</td>\n",
              "    </tr>\n",
              "  </tbody>\n",
              "</table>\n",
              "</div>"
            ],
            "text/plain": [
              "      Nevada  Ohio\n",
              "2001     2.4   1.7\n",
              "2002     2.9   3.6\n",
              "2000     NaN   1.5"
            ]
          },
          "metadata": {
            "tags": []
          },
          "execution_count": 72
        }
      ]
    },
    {
      "cell_type": "code",
      "metadata": {
        "id": "Ed2TYWVU1Cry",
        "outputId": "d483973e-1535-4157-d26f-c9359822e53f",
        "colab": {
          "base_uri": "https://localhost:8080/",
          "height": 110
        }
      },
      "source": [
        "frame3.T"
      ],
      "execution_count": 73,
      "outputs": [
        {
          "output_type": "execute_result",
          "data": {
            "text/html": [
              "<div>\n",
              "<style scoped>\n",
              "    .dataframe tbody tr th:only-of-type {\n",
              "        vertical-align: middle;\n",
              "    }\n",
              "\n",
              "    .dataframe tbody tr th {\n",
              "        vertical-align: top;\n",
              "    }\n",
              "\n",
              "    .dataframe thead th {\n",
              "        text-align: right;\n",
              "    }\n",
              "</style>\n",
              "<table border=\"1\" class=\"dataframe\">\n",
              "  <thead>\n",
              "    <tr style=\"text-align: right;\">\n",
              "      <th></th>\n",
              "      <th>2001</th>\n",
              "      <th>2002</th>\n",
              "      <th>2000</th>\n",
              "    </tr>\n",
              "  </thead>\n",
              "  <tbody>\n",
              "    <tr>\n",
              "      <th>Nevada</th>\n",
              "      <td>2.4</td>\n",
              "      <td>2.9</td>\n",
              "      <td>NaN</td>\n",
              "    </tr>\n",
              "    <tr>\n",
              "      <th>Ohio</th>\n",
              "      <td>1.7</td>\n",
              "      <td>3.6</td>\n",
              "      <td>1.5</td>\n",
              "    </tr>\n",
              "  </tbody>\n",
              "</table>\n",
              "</div>"
            ],
            "text/plain": [
              "        2001  2002  2000\n",
              "Nevada   2.4   2.9   NaN\n",
              "Ohio     1.7   3.6   1.5"
            ]
          },
          "metadata": {
            "tags": []
          },
          "execution_count": 73
        }
      ]
    },
    {
      "cell_type": "code",
      "metadata": {
        "id": "rTDhfCe81Cry",
        "outputId": "4c248b5c-8087-4a7e-867e-7f316f879324"
      },
      "source": [
        "pd.DataFrame(pop, index=[2001, 2002, 2003])#pop은 딕셔너리 "
      ],
      "execution_count": null,
      "outputs": [
        {
          "output_type": "execute_result",
          "data": {
            "text/html": [
              "<div>\n",
              "<style scoped>\n",
              "    .dataframe tbody tr th:only-of-type {\n",
              "        vertical-align: middle;\n",
              "    }\n",
              "\n",
              "    .dataframe tbody tr th {\n",
              "        vertical-align: top;\n",
              "    }\n",
              "\n",
              "    .dataframe thead th {\n",
              "        text-align: right;\n",
              "    }\n",
              "</style>\n",
              "<table border=\"1\" class=\"dataframe\">\n",
              "  <thead>\n",
              "    <tr style=\"text-align: right;\">\n",
              "      <th></th>\n",
              "      <th>Nevada</th>\n",
              "      <th>Ohio</th>\n",
              "    </tr>\n",
              "  </thead>\n",
              "  <tbody>\n",
              "    <tr>\n",
              "      <th>2001</th>\n",
              "      <td>2.4</td>\n",
              "      <td>1.7</td>\n",
              "    </tr>\n",
              "    <tr>\n",
              "      <th>2002</th>\n",
              "      <td>2.9</td>\n",
              "      <td>3.6</td>\n",
              "    </tr>\n",
              "    <tr>\n",
              "      <th>2003</th>\n",
              "      <td>NaN</td>\n",
              "      <td>NaN</td>\n",
              "    </tr>\n",
              "  </tbody>\n",
              "</table>\n",
              "</div>"
            ],
            "text/plain": [
              "      Nevada  Ohio\n",
              "2001     2.4   1.7\n",
              "2002     2.9   3.6\n",
              "2003     NaN   NaN"
            ]
          },
          "metadata": {
            "tags": []
          },
          "execution_count": 115
        }
      ]
    },
    {
      "cell_type": "code",
      "metadata": {
        "id": "QDOjm5yE1Cry",
        "outputId": "72e40818-4670-444c-e48d-04ae0c9d1119",
        "colab": {
          "base_uri": "https://localhost:8080/",
          "height": 141
        }
      },
      "source": [
        "frame3"
      ],
      "execution_count": 74,
      "outputs": [
        {
          "output_type": "execute_result",
          "data": {
            "text/html": [
              "<div>\n",
              "<style scoped>\n",
              "    .dataframe tbody tr th:only-of-type {\n",
              "        vertical-align: middle;\n",
              "    }\n",
              "\n",
              "    .dataframe tbody tr th {\n",
              "        vertical-align: top;\n",
              "    }\n",
              "\n",
              "    .dataframe thead th {\n",
              "        text-align: right;\n",
              "    }\n",
              "</style>\n",
              "<table border=\"1\" class=\"dataframe\">\n",
              "  <thead>\n",
              "    <tr style=\"text-align: right;\">\n",
              "      <th></th>\n",
              "      <th>Nevada</th>\n",
              "      <th>Ohio</th>\n",
              "    </tr>\n",
              "  </thead>\n",
              "  <tbody>\n",
              "    <tr>\n",
              "      <th>2001</th>\n",
              "      <td>2.4</td>\n",
              "      <td>1.7</td>\n",
              "    </tr>\n",
              "    <tr>\n",
              "      <th>2002</th>\n",
              "      <td>2.9</td>\n",
              "      <td>3.6</td>\n",
              "    </tr>\n",
              "    <tr>\n",
              "      <th>2000</th>\n",
              "      <td>NaN</td>\n",
              "      <td>1.5</td>\n",
              "    </tr>\n",
              "  </tbody>\n",
              "</table>\n",
              "</div>"
            ],
            "text/plain": [
              "      Nevada  Ohio\n",
              "2001     2.4   1.7\n",
              "2002     2.9   3.6\n",
              "2000     NaN   1.5"
            ]
          },
          "metadata": {
            "tags": []
          },
          "execution_count": 74
        }
      ]
    },
    {
      "cell_type": "code",
      "metadata": {
        "id": "e-G1uoEG1Cry",
        "outputId": "6f7b2016-446d-47a6-bbdd-89c9e8932b91",
        "colab": {
          "base_uri": "https://localhost:8080/",
          "height": 110
        }
      },
      "source": [
        "pdata = {'Ohio': frame3['Ohio'][:-1],\n",
        "         'Nevada': frame3['Nevada'][:2]}\n",
        "pd.DataFrame(pdata)"
      ],
      "execution_count": 75,
      "outputs": [
        {
          "output_type": "execute_result",
          "data": {
            "text/html": [
              "<div>\n",
              "<style scoped>\n",
              "    .dataframe tbody tr th:only-of-type {\n",
              "        vertical-align: middle;\n",
              "    }\n",
              "\n",
              "    .dataframe tbody tr th {\n",
              "        vertical-align: top;\n",
              "    }\n",
              "\n",
              "    .dataframe thead th {\n",
              "        text-align: right;\n",
              "    }\n",
              "</style>\n",
              "<table border=\"1\" class=\"dataframe\">\n",
              "  <thead>\n",
              "    <tr style=\"text-align: right;\">\n",
              "      <th></th>\n",
              "      <th>Ohio</th>\n",
              "      <th>Nevada</th>\n",
              "    </tr>\n",
              "  </thead>\n",
              "  <tbody>\n",
              "    <tr>\n",
              "      <th>2001</th>\n",
              "      <td>1.7</td>\n",
              "      <td>2.4</td>\n",
              "    </tr>\n",
              "    <tr>\n",
              "      <th>2002</th>\n",
              "      <td>3.6</td>\n",
              "      <td>2.9</td>\n",
              "    </tr>\n",
              "  </tbody>\n",
              "</table>\n",
              "</div>"
            ],
            "text/plain": [
              "      Ohio  Nevada\n",
              "2001   1.7     2.4\n",
              "2002   3.6     2.9"
            ]
          },
          "metadata": {
            "tags": []
          },
          "execution_count": 75
        }
      ]
    },
    {
      "cell_type": "code",
      "metadata": {
        "id": "TtTztGv71Cry",
        "outputId": "bbd6b699-299d-4e41-abd0-fcbb5e86860b",
        "colab": {
          "base_uri": "https://localhost:8080/",
          "height": 172
        }
      },
      "source": [
        "frame3.index.name = 'year';\n",
        "frame3.columns.name = 'state'\n",
        "frame3"
      ],
      "execution_count": 76,
      "outputs": [
        {
          "output_type": "execute_result",
          "data": {
            "text/html": [
              "<div>\n",
              "<style scoped>\n",
              "    .dataframe tbody tr th:only-of-type {\n",
              "        vertical-align: middle;\n",
              "    }\n",
              "\n",
              "    .dataframe tbody tr th {\n",
              "        vertical-align: top;\n",
              "    }\n",
              "\n",
              "    .dataframe thead th {\n",
              "        text-align: right;\n",
              "    }\n",
              "</style>\n",
              "<table border=\"1\" class=\"dataframe\">\n",
              "  <thead>\n",
              "    <tr style=\"text-align: right;\">\n",
              "      <th>state</th>\n",
              "      <th>Nevada</th>\n",
              "      <th>Ohio</th>\n",
              "    </tr>\n",
              "    <tr>\n",
              "      <th>year</th>\n",
              "      <th></th>\n",
              "      <th></th>\n",
              "    </tr>\n",
              "  </thead>\n",
              "  <tbody>\n",
              "    <tr>\n",
              "      <th>2001</th>\n",
              "      <td>2.4</td>\n",
              "      <td>1.7</td>\n",
              "    </tr>\n",
              "    <tr>\n",
              "      <th>2002</th>\n",
              "      <td>2.9</td>\n",
              "      <td>3.6</td>\n",
              "    </tr>\n",
              "    <tr>\n",
              "      <th>2000</th>\n",
              "      <td>NaN</td>\n",
              "      <td>1.5</td>\n",
              "    </tr>\n",
              "  </tbody>\n",
              "</table>\n",
              "</div>"
            ],
            "text/plain": [
              "state  Nevada  Ohio\n",
              "year               \n",
              "2001      2.4   1.7\n",
              "2002      2.9   3.6\n",
              "2000      NaN   1.5"
            ]
          },
          "metadata": {
            "tags": []
          },
          "execution_count": 76
        }
      ]
    },
    {
      "cell_type": "code",
      "metadata": {
        "id": "7IPL5X1T1Crz",
        "outputId": "76844125-9144-4592-f639-273eb7b45870",
        "colab": {
          "base_uri": "https://localhost:8080/"
        }
      },
      "source": [
        "frame3.values"
      ],
      "execution_count": 77,
      "outputs": [
        {
          "output_type": "execute_result",
          "data": {
            "text/plain": [
              "array([[2.4, 1.7],\n",
              "       [2.9, 3.6],\n",
              "       [nan, 1.5]])"
            ]
          },
          "metadata": {
            "tags": []
          },
          "execution_count": 77
        }
      ]
    },
    {
      "cell_type": "code",
      "metadata": {
        "id": "G5wiSH_cJ1h5",
        "outputId": "87e2e6cd-2715-4502-e3cf-f31ea474498e",
        "colab": {
          "base_uri": "https://localhost:8080/"
        }
      },
      "source": [
        "frame2.values"
      ],
      "execution_count": 79,
      "outputs": [
        {
          "output_type": "execute_result",
          "data": {
            "text/plain": [
              "array([[2000, 'Ohio', 1.5, nan],\n",
              "       [2001, 'Ohio', 1.7, -1.2],\n",
              "       [2002, 'Ohio', 3.6, nan],\n",
              "       [2001, 'Nevada', 2.4, -1.5],\n",
              "       [2002, 'Nevada', 2.9, -1.7],\n",
              "       [2003, 'Nevada', 3.2, nan]], dtype=object)"
            ]
          },
          "metadata": {
            "tags": []
          },
          "execution_count": 79
        }
      ]
    },
    {
      "cell_type": "code",
      "metadata": {
        "id": "9VM2cdC11Crz",
        "outputId": "70891eba-86d3-4b2c-d80d-866df9945f5b",
        "colab": {
          "base_uri": "https://localhost:8080/"
        }
      },
      "source": [
        "frame2.values"
      ],
      "execution_count": 78,
      "outputs": [
        {
          "output_type": "execute_result",
          "data": {
            "text/plain": [
              "array([[2000, 'Ohio', 1.5, nan],\n",
              "       [2001, 'Ohio', 1.7, -1.2],\n",
              "       [2002, 'Ohio', 3.6, nan],\n",
              "       [2001, 'Nevada', 2.4, -1.5],\n",
              "       [2002, 'Nevada', 2.9, -1.7],\n",
              "       [2003, 'Nevada', 3.2, nan]], dtype=object)"
            ]
          },
          "metadata": {
            "tags": []
          },
          "execution_count": 78
        }
      ]
    },
    {
      "cell_type": "code",
      "metadata": {
        "id": "HrrDlooNK-4e"
      },
      "source": [
        "fd.pd.DataFrame({\n",
        "    \"이름\":['이적','허승','강소라','강적'],\n",
        "})"
      ],
      "execution_count": null,
      "outputs": []
    },
    {
      "cell_type": "markdown",
      "metadata": {
        "id": "JaPrZDqT1Crz"
      },
      "source": [
        "### 문제"
      ]
    },
    {
      "cell_type": "code",
      "metadata": {
        "id": "Y92Rq5Fo1Crz",
        "outputId": "1ef332d3-1cb8-4c2f-bab8-320f94b97c3f",
        "colab": {
          "base_uri": "https://localhost:8080/",
          "height": 172
        }
      },
      "source": [
        "df = pd.DataFrame({\n",
        "        \"이름\": ['이적', '허승', '강소라', '강적'],\n",
        "        \"남여구분\": ['남', '남', '여', '남'],\n",
        "        \"학점\": [3.2, 2.3, 4.3, 2.9]\n",
        "     })\n",
        "df"
      ],
      "execution_count": 92,
      "outputs": [
        {
          "output_type": "execute_result",
          "data": {
            "text/html": [
              "<div>\n",
              "<style scoped>\n",
              "    .dataframe tbody tr th:only-of-type {\n",
              "        vertical-align: middle;\n",
              "    }\n",
              "\n",
              "    .dataframe tbody tr th {\n",
              "        vertical-align: top;\n",
              "    }\n",
              "\n",
              "    .dataframe thead th {\n",
              "        text-align: right;\n",
              "    }\n",
              "</style>\n",
              "<table border=\"1\" class=\"dataframe\">\n",
              "  <thead>\n",
              "    <tr style=\"text-align: right;\">\n",
              "      <th></th>\n",
              "      <th>이름</th>\n",
              "      <th>남여구분</th>\n",
              "      <th>학점</th>\n",
              "    </tr>\n",
              "  </thead>\n",
              "  <tbody>\n",
              "    <tr>\n",
              "      <th>0</th>\n",
              "      <td>이적</td>\n",
              "      <td>남</td>\n",
              "      <td>3.2</td>\n",
              "    </tr>\n",
              "    <tr>\n",
              "      <th>1</th>\n",
              "      <td>허승</td>\n",
              "      <td>남</td>\n",
              "      <td>2.3</td>\n",
              "    </tr>\n",
              "    <tr>\n",
              "      <th>2</th>\n",
              "      <td>강소라</td>\n",
              "      <td>여</td>\n",
              "      <td>4.3</td>\n",
              "    </tr>\n",
              "    <tr>\n",
              "      <th>3</th>\n",
              "      <td>강적</td>\n",
              "      <td>남</td>\n",
              "      <td>2.9</td>\n",
              "    </tr>\n",
              "  </tbody>\n",
              "</table>\n",
              "</div>"
            ],
            "text/plain": [
              "    이름 남여구분   학점\n",
              "0   이적    남  3.2\n",
              "1   허승    남  2.3\n",
              "2  강소라    여  4.3\n",
              "3   강적    남  2.9"
            ]
          },
          "metadata": {
            "tags": []
          },
          "execution_count": 92
        }
      ]
    },
    {
      "cell_type": "code",
      "metadata": {
        "id": "sxdC8A6q1Crz",
        "outputId": "47b6d4b6-882d-4f01-97d9-33b578c00593",
        "colab": {
          "base_uri": "https://localhost:8080/"
        }
      },
      "source": [
        "df.loc[3]"
      ],
      "execution_count": 93,
      "outputs": [
        {
          "output_type": "execute_result",
          "data": {
            "text/plain": [
              "이름       강적\n",
              "남여구분      남\n",
              "학점      2.9\n",
              "Name: 3, dtype: object"
            ]
          },
          "metadata": {
            "tags": []
          },
          "execution_count": 93
        }
      ]
    },
    {
      "cell_type": "code",
      "metadata": {
        "id": "l_PbBAMd1Crz",
        "outputId": "3945a524-9fc8-4f0a-d5b1-11c9359d455d",
        "colab": {
          "base_uri": "https://localhost:8080/"
        }
      },
      "source": [
        "df.이름"
      ],
      "execution_count": 88,
      "outputs": [
        {
          "output_type": "execute_result",
          "data": {
            "text/plain": [
              "0     이적\n",
              "1     허승\n",
              "2    강소라\n",
              "3     강적\n",
              "Name: 이름, dtype: object"
            ]
          },
          "metadata": {
            "tags": []
          },
          "execution_count": 88
        }
      ]
    },
    {
      "cell_type": "code",
      "metadata": {
        "id": "LwV6bze81Cr0",
        "outputId": "1cecfe27-ebd2-45a5-c089-31df940692d6",
        "colab": {
          "base_uri": "https://localhost:8080/"
        }
      },
      "source": [
        "df['학점']"
      ],
      "execution_count": 89,
      "outputs": [
        {
          "output_type": "execute_result",
          "data": {
            "text/plain": [
              "0    3.2\n",
              "1    2.3\n",
              "2    4.3\n",
              "3    2.9\n",
              "Name: 학점, dtype: float64"
            ]
          },
          "metadata": {
            "tags": []
          },
          "execution_count": 89
        }
      ]
    },
    {
      "cell_type": "code",
      "metadata": {
        "id": "XGWSeuY81Cr2",
        "outputId": "82a4f044-c657-4408-82db-148b0a5b4759",
        "colab": {
          "base_uri": "https://localhost:8080/"
        }
      },
      "source": [
        "df.index"
      ],
      "execution_count": 90,
      "outputs": [
        {
          "output_type": "execute_result",
          "data": {
            "text/plain": [
              "RangeIndex(start=0, stop=4, step=1)"
            ]
          },
          "metadata": {
            "tags": []
          },
          "execution_count": 90
        }
      ]
    },
    {
      "cell_type": "code",
      "metadata": {
        "id": "44FwJflK1Cr2",
        "outputId": "10177129-9777-4d20-f912-79b351522100",
        "colab": {
          "base_uri": "https://localhost:8080/"
        }
      },
      "source": [
        "print(type(df.loc[3]))\n",
        "print(type(df.이름))\n",
        "print(type(df['학점']))\n",
        "print(type(df.index))"
      ],
      "execution_count": 91,
      "outputs": [
        {
          "output_type": "stream",
          "text": [
            "<class 'pandas.core.series.Series'>\n",
            "<class 'pandas.core.series.Series'>\n",
            "<class 'pandas.core.series.Series'>\n",
            "<class 'pandas.core.indexes.range.RangeIndex'>\n"
          ],
          "name": "stdout"
        }
      ]
    },
    {
      "cell_type": "markdown",
      "metadata": {
        "id": "vyM6xwoI1Cr2"
      },
      "source": [
        "---"
      ]
    },
    {
      "cell_type": "markdown",
      "metadata": {
        "id": "0QAqK8cL1Cr2"
      },
      "source": [
        "### Index Objects"
      ]
    },
    {
      "cell_type": "code",
      "metadata": {
        "id": "kig2ZRHU1Cr2"
      },
      "source": [
        "obj = pd.Series(range(3), index=['a', 'b', 'c'])\n",
        "index = obj.index\n",
        "index"
      ],
      "execution_count": null,
      "outputs": []
    },
    {
      "cell_type": "code",
      "metadata": {
        "id": "1OFDR1_j1Cr2"
      },
      "source": [
        "index[1:]"
      ],
      "execution_count": null,
      "outputs": []
    },
    {
      "cell_type": "markdown",
      "metadata": {
        "id": "QTGVJVhv1Cr3"
      },
      "source": [
        "index[1] = 'd'  # TypeError"
      ]
    },
    {
      "cell_type": "code",
      "metadata": {
        "id": "VqoyfSHn1Cr3"
      },
      "source": [
        "index[1] = 'd'  # TypeError"
      ],
      "execution_count": null,
      "outputs": []
    },
    {
      "cell_type": "code",
      "metadata": {
        "id": "S4t6zr-K1Cr3"
      },
      "source": [
        "labels = pd.Index(np.arange(3))\n",
        "labels"
      ],
      "execution_count": null,
      "outputs": []
    },
    {
      "cell_type": "code",
      "metadata": {
        "id": "TccV9Tj11Cr3"
      },
      "source": [
        "obj2 = pd.Series([1.5, -2.5, 0], index=labels)\n",
        "obj2"
      ],
      "execution_count": null,
      "outputs": []
    },
    {
      "cell_type": "code",
      "metadata": {
        "id": "aOfOVFIk1Cr3"
      },
      "source": [
        "obj2.index is labels"
      ],
      "execution_count": null,
      "outputs": []
    },
    {
      "cell_type": "code",
      "metadata": {
        "id": "TtbTqHbR1Cr3"
      },
      "source": [
        "frame3"
      ],
      "execution_count": null,
      "outputs": []
    },
    {
      "cell_type": "code",
      "metadata": {
        "id": "tPF4o20u1Cr3"
      },
      "source": [
        "frame3.columns"
      ],
      "execution_count": null,
      "outputs": []
    },
    {
      "cell_type": "code",
      "metadata": {
        "id": "_7KqmEnI1Cr3"
      },
      "source": [
        "'Ohio' in frame3.columns"
      ],
      "execution_count": null,
      "outputs": []
    },
    {
      "cell_type": "code",
      "metadata": {
        "id": "M7HTQje-1Cr4"
      },
      "source": [
        "2003 in frame3.index"
      ],
      "execution_count": null,
      "outputs": []
    },
    {
      "cell_type": "code",
      "metadata": {
        "id": "_44483UV1Cr4"
      },
      "source": [
        "'Ohio' in frame3"
      ],
      "execution_count": null,
      "outputs": []
    },
    {
      "cell_type": "code",
      "metadata": {
        "id": "HA4jOTuE1Cr4"
      },
      "source": [
        "dup_labels = pd.Index(['foo', 'foo', 'bar', 'bar'])\n",
        "dup_labels"
      ],
      "execution_count": null,
      "outputs": []
    },
    {
      "cell_type": "markdown",
      "metadata": {
        "id": "XByFACl61Cr4"
      },
      "source": [
        "## Essential Functionality"
      ]
    },
    {
      "cell_type": "markdown",
      "metadata": {
        "id": "OtvqMnao1Cr4"
      },
      "source": [
        "### Reindexing"
      ]
    },
    {
      "cell_type": "code",
      "metadata": {
        "id": "JHvm5Nje1Cr4",
        "outputId": "c9d08637-7c6d-4956-92f4-2de3e6d237c5",
        "colab": {
          "base_uri": "https://localhost:8080/"
        }
      },
      "source": [
        "obj = pd.Series([4.5, 7.2, -5.3, 3.6], index=['d', 'b', 'a', 'c'])\n",
        "obj"
      ],
      "execution_count": 94,
      "outputs": [
        {
          "output_type": "execute_result",
          "data": {
            "text/plain": [
              "d    4.5\n",
              "b    7.2\n",
              "a   -5.3\n",
              "c    3.6\n",
              "dtype: float64"
            ]
          },
          "metadata": {
            "tags": []
          },
          "execution_count": 94
        }
      ]
    },
    {
      "cell_type": "code",
      "metadata": {
        "id": "M51tJIfp1Cr4",
        "outputId": "8a756d61-71c6-4abc-c5d6-b043bc585613",
        "colab": {
          "base_uri": "https://localhost:8080/"
        }
      },
      "source": [
        "obj2 = obj.reindex(['a', 'b', 'c', 'd', 'e'])\n",
        "obj2"
      ],
      "execution_count": 95,
      "outputs": [
        {
          "output_type": "execute_result",
          "data": {
            "text/plain": [
              "a   -5.3\n",
              "b    7.2\n",
              "c    3.6\n",
              "d    4.5\n",
              "e    NaN\n",
              "dtype: float64"
            ]
          },
          "metadata": {
            "tags": []
          },
          "execution_count": 95
        }
      ]
    },
    {
      "cell_type": "code",
      "metadata": {
        "id": "MaH6aMcB1Cr5",
        "outputId": "0b1b06a1-506d-4b74-ce0f-45186263bf91",
        "colab": {
          "base_uri": "https://localhost:8080/"
        }
      },
      "source": [
        "obj3 = pd.Series(['blue', 'purple', 'yellow'], index=[0, 2, 4])\n",
        "obj3"
      ],
      "execution_count": 96,
      "outputs": [
        {
          "output_type": "execute_result",
          "data": {
            "text/plain": [
              "0      blue\n",
              "2    purple\n",
              "4    yellow\n",
              "dtype: object"
            ]
          },
          "metadata": {
            "tags": []
          },
          "execution_count": 96
        }
      ]
    },
    {
      "cell_type": "code",
      "metadata": {
        "id": "quzrpe0l1Cr5",
        "outputId": "c8ffc5bd-02f4-4bf7-f4c9-e6ff006ea94a",
        "colab": {
          "base_uri": "https://localhost:8080/"
        }
      },
      "source": [
        "obj3.reindex(range(6))"
      ],
      "execution_count": 97,
      "outputs": [
        {
          "output_type": "execute_result",
          "data": {
            "text/plain": [
              "0      blue\n",
              "1       NaN\n",
              "2    purple\n",
              "3       NaN\n",
              "4    yellow\n",
              "5       NaN\n",
              "dtype: object"
            ]
          },
          "metadata": {
            "tags": []
          },
          "execution_count": 97
        }
      ]
    },
    {
      "cell_type": "code",
      "metadata": {
        "id": "NC3sTE6c1Cr5",
        "outputId": "87006f37-3063-4c11-beca-099950c191a5",
        "colab": {
          "base_uri": "https://localhost:8080/"
        }
      },
      "source": [
        "obj3.reindex(range(6), method='ffill')"
      ],
      "execution_count": 98,
      "outputs": [
        {
          "output_type": "execute_result",
          "data": {
            "text/plain": [
              "0      blue\n",
              "1      blue\n",
              "2    purple\n",
              "3    purple\n",
              "4    yellow\n",
              "5    yellow\n",
              "dtype: object"
            ]
          },
          "metadata": {
            "tags": []
          },
          "execution_count": 98
        }
      ]
    },
    {
      "cell_type": "code",
      "metadata": {
        "id": "KIuuE3mE1Cr5",
        "outputId": "0308ecd9-41cd-4b62-c234-d7c3914c05bf",
        "colab": {
          "base_uri": "https://localhost:8080/",
          "height": 141
        }
      },
      "source": [
        "frame = pd.DataFrame(np.arange(9).reshape((3, 3)),\n",
        "                     index=['a', 'c', 'd'],\n",
        "                     columns=['Ohio', 'Texas', 'California'])\n",
        "frame"
      ],
      "execution_count": 111,
      "outputs": [
        {
          "output_type": "execute_result",
          "data": {
            "text/html": [
              "<div>\n",
              "<style scoped>\n",
              "    .dataframe tbody tr th:only-of-type {\n",
              "        vertical-align: middle;\n",
              "    }\n",
              "\n",
              "    .dataframe tbody tr th {\n",
              "        vertical-align: top;\n",
              "    }\n",
              "\n",
              "    .dataframe thead th {\n",
              "        text-align: right;\n",
              "    }\n",
              "</style>\n",
              "<table border=\"1\" class=\"dataframe\">\n",
              "  <thead>\n",
              "    <tr style=\"text-align: right;\">\n",
              "      <th></th>\n",
              "      <th>Ohio</th>\n",
              "      <th>Texas</th>\n",
              "      <th>California</th>\n",
              "    </tr>\n",
              "  </thead>\n",
              "  <tbody>\n",
              "    <tr>\n",
              "      <th>a</th>\n",
              "      <td>0</td>\n",
              "      <td>1</td>\n",
              "      <td>2</td>\n",
              "    </tr>\n",
              "    <tr>\n",
              "      <th>c</th>\n",
              "      <td>3</td>\n",
              "      <td>4</td>\n",
              "      <td>5</td>\n",
              "    </tr>\n",
              "    <tr>\n",
              "      <th>d</th>\n",
              "      <td>6</td>\n",
              "      <td>7</td>\n",
              "      <td>8</td>\n",
              "    </tr>\n",
              "  </tbody>\n",
              "</table>\n",
              "</div>"
            ],
            "text/plain": [
              "   Ohio  Texas  California\n",
              "a     0      1           2\n",
              "c     3      4           5\n",
              "d     6      7           8"
            ]
          },
          "metadata": {
            "tags": []
          },
          "execution_count": 111
        }
      ]
    },
    {
      "cell_type": "code",
      "metadata": {
        "id": "b3aXfucY1Cr5",
        "outputId": "6696eddc-a52c-44cb-b3f4-7421a72bd3d9",
        "colab": {
          "base_uri": "https://localhost:8080/",
          "height": 172
        }
      },
      "source": [
        "frame2 = frame.reindex(['a', 'b', 'c', 'd'])\n",
        "frame2"
      ],
      "execution_count": 112,
      "outputs": [
        {
          "output_type": "execute_result",
          "data": {
            "text/html": [
              "<div>\n",
              "<style scoped>\n",
              "    .dataframe tbody tr th:only-of-type {\n",
              "        vertical-align: middle;\n",
              "    }\n",
              "\n",
              "    .dataframe tbody tr th {\n",
              "        vertical-align: top;\n",
              "    }\n",
              "\n",
              "    .dataframe thead th {\n",
              "        text-align: right;\n",
              "    }\n",
              "</style>\n",
              "<table border=\"1\" class=\"dataframe\">\n",
              "  <thead>\n",
              "    <tr style=\"text-align: right;\">\n",
              "      <th></th>\n",
              "      <th>Ohio</th>\n",
              "      <th>Texas</th>\n",
              "      <th>California</th>\n",
              "    </tr>\n",
              "  </thead>\n",
              "  <tbody>\n",
              "    <tr>\n",
              "      <th>a</th>\n",
              "      <td>0.0</td>\n",
              "      <td>1.0</td>\n",
              "      <td>2.0</td>\n",
              "    </tr>\n",
              "    <tr>\n",
              "      <th>b</th>\n",
              "      <td>NaN</td>\n",
              "      <td>NaN</td>\n",
              "      <td>NaN</td>\n",
              "    </tr>\n",
              "    <tr>\n",
              "      <th>c</th>\n",
              "      <td>3.0</td>\n",
              "      <td>4.0</td>\n",
              "      <td>5.0</td>\n",
              "    </tr>\n",
              "    <tr>\n",
              "      <th>d</th>\n",
              "      <td>6.0</td>\n",
              "      <td>7.0</td>\n",
              "      <td>8.0</td>\n",
              "    </tr>\n",
              "  </tbody>\n",
              "</table>\n",
              "</div>"
            ],
            "text/plain": [
              "   Ohio  Texas  California\n",
              "a   0.0    1.0         2.0\n",
              "b   NaN    NaN         NaN\n",
              "c   3.0    4.0         5.0\n",
              "d   6.0    7.0         8.0"
            ]
          },
          "metadata": {
            "tags": []
          },
          "execution_count": 112
        }
      ]
    },
    {
      "cell_type": "code",
      "metadata": {
        "id": "w1VjaKkd1Cr6",
        "outputId": "6aa660a1-6407-4377-9fe8-9ca91cf4d705",
        "colab": {
          "base_uri": "https://localhost:8080/",
          "height": 141
        }
      },
      "source": [
        "states = ['Texas', 'Utah', 'California']\n",
        "frame.reindex(columns = states)"
      ],
      "execution_count": 113,
      "outputs": [
        {
          "output_type": "execute_result",
          "data": {
            "text/html": [
              "<div>\n",
              "<style scoped>\n",
              "    .dataframe tbody tr th:only-of-type {\n",
              "        vertical-align: middle;\n",
              "    }\n",
              "\n",
              "    .dataframe tbody tr th {\n",
              "        vertical-align: top;\n",
              "    }\n",
              "\n",
              "    .dataframe thead th {\n",
              "        text-align: right;\n",
              "    }\n",
              "</style>\n",
              "<table border=\"1\" class=\"dataframe\">\n",
              "  <thead>\n",
              "    <tr style=\"text-align: right;\">\n",
              "      <th></th>\n",
              "      <th>Texas</th>\n",
              "      <th>Utah</th>\n",
              "      <th>California</th>\n",
              "    </tr>\n",
              "  </thead>\n",
              "  <tbody>\n",
              "    <tr>\n",
              "      <th>a</th>\n",
              "      <td>1</td>\n",
              "      <td>NaN</td>\n",
              "      <td>2</td>\n",
              "    </tr>\n",
              "    <tr>\n",
              "      <th>c</th>\n",
              "      <td>4</td>\n",
              "      <td>NaN</td>\n",
              "      <td>5</td>\n",
              "    </tr>\n",
              "    <tr>\n",
              "      <th>d</th>\n",
              "      <td>7</td>\n",
              "      <td>NaN</td>\n",
              "      <td>8</td>\n",
              "    </tr>\n",
              "  </tbody>\n",
              "</table>\n",
              "</div>"
            ],
            "text/plain": [
              "   Texas  Utah  California\n",
              "a      1   NaN           2\n",
              "c      4   NaN           5\n",
              "d      7   NaN           8"
            ]
          },
          "metadata": {
            "tags": []
          },
          "execution_count": 113
        }
      ]
    },
    {
      "cell_type": "code",
      "metadata": {
        "id": "N1n0u3Ie1Cr6",
        "outputId": "d8f2ec41-627d-479a-ff71-34ba06b9f115",
        "colab": {
          "base_uri": "https://localhost:8080/",
          "height": 110
        }
      },
      "source": [
        "frame.loc[['a', 'c'], ['Texas', 'California']]"
      ],
      "execution_count": 114,
      "outputs": [
        {
          "output_type": "execute_result",
          "data": {
            "text/html": [
              "<div>\n",
              "<style scoped>\n",
              "    .dataframe tbody tr th:only-of-type {\n",
              "        vertical-align: middle;\n",
              "    }\n",
              "\n",
              "    .dataframe tbody tr th {\n",
              "        vertical-align: top;\n",
              "    }\n",
              "\n",
              "    .dataframe thead th {\n",
              "        text-align: right;\n",
              "    }\n",
              "</style>\n",
              "<table border=\"1\" class=\"dataframe\">\n",
              "  <thead>\n",
              "    <tr style=\"text-align: right;\">\n",
              "      <th></th>\n",
              "      <th>Texas</th>\n",
              "      <th>California</th>\n",
              "    </tr>\n",
              "  </thead>\n",
              "  <tbody>\n",
              "    <tr>\n",
              "      <th>a</th>\n",
              "      <td>1</td>\n",
              "      <td>2</td>\n",
              "    </tr>\n",
              "    <tr>\n",
              "      <th>c</th>\n",
              "      <td>4</td>\n",
              "      <td>5</td>\n",
              "    </tr>\n",
              "  </tbody>\n",
              "</table>\n",
              "</div>"
            ],
            "text/plain": [
              "   Texas  California\n",
              "a      1           2\n",
              "c      4           5"
            ]
          },
          "metadata": {
            "tags": []
          },
          "execution_count": 114
        }
      ]
    },
    {
      "cell_type": "code",
      "metadata": {
        "id": "e418dYgA1Cr6"
      },
      "source": [
        "#frame['Utah'] = 5"
      ],
      "execution_count": 103,
      "outputs": []
    },
    {
      "cell_type": "code",
      "metadata": {
        "id": "AnLfundZ1Cr6",
        "outputId": "bc1b4a76-c8a0-4cb3-f6fc-1fec1147f2c3",
        "colab": {
          "base_uri": "https://localhost:8080/",
          "height": 110
        }
      },
      "source": [
        "frame.loc[['a', 'c'], ['Texas', 'California']]"
      ],
      "execution_count": 115,
      "outputs": [
        {
          "output_type": "execute_result",
          "data": {
            "text/html": [
              "<div>\n",
              "<style scoped>\n",
              "    .dataframe tbody tr th:only-of-type {\n",
              "        vertical-align: middle;\n",
              "    }\n",
              "\n",
              "    .dataframe tbody tr th {\n",
              "        vertical-align: top;\n",
              "    }\n",
              "\n",
              "    .dataframe thead th {\n",
              "        text-align: right;\n",
              "    }\n",
              "</style>\n",
              "<table border=\"1\" class=\"dataframe\">\n",
              "  <thead>\n",
              "    <tr style=\"text-align: right;\">\n",
              "      <th></th>\n",
              "      <th>Texas</th>\n",
              "      <th>California</th>\n",
              "    </tr>\n",
              "  </thead>\n",
              "  <tbody>\n",
              "    <tr>\n",
              "      <th>a</th>\n",
              "      <td>1</td>\n",
              "      <td>2</td>\n",
              "    </tr>\n",
              "    <tr>\n",
              "      <th>c</th>\n",
              "      <td>4</td>\n",
              "      <td>5</td>\n",
              "    </tr>\n",
              "  </tbody>\n",
              "</table>\n",
              "</div>"
            ],
            "text/plain": [
              "   Texas  California\n",
              "a      1           2\n",
              "c      4           5"
            ]
          },
          "metadata": {
            "tags": []
          },
          "execution_count": 115
        }
      ]
    },
    {
      "cell_type": "code",
      "metadata": {
        "id": "Bd045_or1Cr6",
        "outputId": "560d02f0-e198-4356-d7bf-7a0628530b59",
        "colab": {
          "base_uri": "https://localhost:8080/",
          "height": 110
        }
      },
      "source": [
        "frame.loc['a':'c', 'Texas':'California']"
      ],
      "execution_count": 105,
      "outputs": [
        {
          "output_type": "execute_result",
          "data": {
            "text/html": [
              "<div>\n",
              "<style scoped>\n",
              "    .dataframe tbody tr th:only-of-type {\n",
              "        vertical-align: middle;\n",
              "    }\n",
              "\n",
              "    .dataframe tbody tr th {\n",
              "        vertical-align: top;\n",
              "    }\n",
              "\n",
              "    .dataframe thead th {\n",
              "        text-align: right;\n",
              "    }\n",
              "</style>\n",
              "<table border=\"1\" class=\"dataframe\">\n",
              "  <thead>\n",
              "    <tr style=\"text-align: right;\">\n",
              "      <th></th>\n",
              "      <th>Texas</th>\n",
              "      <th>California</th>\n",
              "    </tr>\n",
              "  </thead>\n",
              "  <tbody>\n",
              "    <tr>\n",
              "      <th>a</th>\n",
              "      <td>1</td>\n",
              "      <td>2</td>\n",
              "    </tr>\n",
              "    <tr>\n",
              "      <th>c</th>\n",
              "      <td>4</td>\n",
              "      <td>5</td>\n",
              "    </tr>\n",
              "  </tbody>\n",
              "</table>\n",
              "</div>"
            ],
            "text/plain": [
              "   Texas  California\n",
              "a      1           2\n",
              "c      4           5"
            ]
          },
          "metadata": {
            "tags": []
          },
          "execution_count": 105
        }
      ]
    },
    {
      "cell_type": "code",
      "metadata": {
        "id": "HyvppJds1Cr7",
        "outputId": "3b0ad933-fe40-4a65-ee7c-966755fb7348",
        "colab": {
          "base_uri": "https://localhost:8080/",
          "height": 141
        }
      },
      "source": [
        "frame['Utah'] = 5\n",
        "frame"
      ],
      "execution_count": 106,
      "outputs": [
        {
          "output_type": "execute_result",
          "data": {
            "text/html": [
              "<div>\n",
              "<style scoped>\n",
              "    .dataframe tbody tr th:only-of-type {\n",
              "        vertical-align: middle;\n",
              "    }\n",
              "\n",
              "    .dataframe tbody tr th {\n",
              "        vertical-align: top;\n",
              "    }\n",
              "\n",
              "    .dataframe thead th {\n",
              "        text-align: right;\n",
              "    }\n",
              "</style>\n",
              "<table border=\"1\" class=\"dataframe\">\n",
              "  <thead>\n",
              "    <tr style=\"text-align: right;\">\n",
              "      <th></th>\n",
              "      <th>Ohio</th>\n",
              "      <th>Texas</th>\n",
              "      <th>California</th>\n",
              "      <th>Utah</th>\n",
              "    </tr>\n",
              "  </thead>\n",
              "  <tbody>\n",
              "    <tr>\n",
              "      <th>a</th>\n",
              "      <td>0</td>\n",
              "      <td>1</td>\n",
              "      <td>2</td>\n",
              "      <td>5</td>\n",
              "    </tr>\n",
              "    <tr>\n",
              "      <th>c</th>\n",
              "      <td>3</td>\n",
              "      <td>4</td>\n",
              "      <td>5</td>\n",
              "      <td>5</td>\n",
              "    </tr>\n",
              "    <tr>\n",
              "      <th>d</th>\n",
              "      <td>6</td>\n",
              "      <td>7</td>\n",
              "      <td>8</td>\n",
              "      <td>5</td>\n",
              "    </tr>\n",
              "  </tbody>\n",
              "</table>\n",
              "</div>"
            ],
            "text/plain": [
              "   Ohio  Texas  California  Utah\n",
              "a     0      1           2     5\n",
              "c     3      4           5     5\n",
              "d     6      7           8     5"
            ]
          },
          "metadata": {
            "tags": []
          },
          "execution_count": 106
        }
      ]
    },
    {
      "cell_type": "code",
      "metadata": {
        "id": "wI7Rnbsm1Cr7",
        "outputId": "c08144b7-859e-4e6e-826a-5a47044f2065",
        "colab": {
          "base_uri": "https://localhost:8080/",
          "height": 141
        }
      },
      "source": [
        "states = ['Texas', 'Utah', 'California']\n",
        "frame.loc[['a', 'c', 'd'], states]\n",
        "#frame.loc[['a', 'c', 'd'], ['Texas', 'Utah', 'California']] #위와 동일"
      ],
      "execution_count": 107,
      "outputs": [
        {
          "output_type": "execute_result",
          "data": {
            "text/html": [
              "<div>\n",
              "<style scoped>\n",
              "    .dataframe tbody tr th:only-of-type {\n",
              "        vertical-align: middle;\n",
              "    }\n",
              "\n",
              "    .dataframe tbody tr th {\n",
              "        vertical-align: top;\n",
              "    }\n",
              "\n",
              "    .dataframe thead th {\n",
              "        text-align: right;\n",
              "    }\n",
              "</style>\n",
              "<table border=\"1\" class=\"dataframe\">\n",
              "  <thead>\n",
              "    <tr style=\"text-align: right;\">\n",
              "      <th></th>\n",
              "      <th>Texas</th>\n",
              "      <th>Utah</th>\n",
              "      <th>California</th>\n",
              "    </tr>\n",
              "  </thead>\n",
              "  <tbody>\n",
              "    <tr>\n",
              "      <th>a</th>\n",
              "      <td>1</td>\n",
              "      <td>5</td>\n",
              "      <td>2</td>\n",
              "    </tr>\n",
              "    <tr>\n",
              "      <th>c</th>\n",
              "      <td>4</td>\n",
              "      <td>5</td>\n",
              "      <td>5</td>\n",
              "    </tr>\n",
              "    <tr>\n",
              "      <th>d</th>\n",
              "      <td>7</td>\n",
              "      <td>5</td>\n",
              "      <td>8</td>\n",
              "    </tr>\n",
              "  </tbody>\n",
              "</table>\n",
              "</div>"
            ],
            "text/plain": [
              "   Texas  Utah  California\n",
              "a      1     5           2\n",
              "c      4     5           5\n",
              "d      7     5           8"
            ]
          },
          "metadata": {
            "tags": []
          },
          "execution_count": 107
        }
      ]
    },
    {
      "cell_type": "code",
      "metadata": {
        "id": "d98QYz0y1Cr7",
        "outputId": "90619c69-e81f-4cf2-89ce-34df9dc1b3fb",
        "colab": {
          "base_uri": "https://localhost:8080/",
          "height": 234
        }
      },
      "source": [
        "tuples = [\n",
        "   ('cobra', 'mark i'), ('cobra', 'mark ii'),\n",
        "   ('sidewinder', 'mark i'), ('sidewinder', 'mark ii'),\n",
        "   ('viper', 'mark ii'), ('viper', 'mark iii')\n",
        "]\n",
        "index = pd.MultiIndex.from_tuples(tuples)\n",
        "values = [[12, 2], [0, 4], [10, 20],\n",
        "        [1, 4], [7, 1], [16, 36]]\n",
        "df = pd.DataFrame(values, columns=['max_speed', 'shield'], index=index)\n",
        "df"
      ],
      "execution_count": 108,
      "outputs": [
        {
          "output_type": "execute_result",
          "data": {
            "text/html": [
              "<div>\n",
              "<style scoped>\n",
              "    .dataframe tbody tr th:only-of-type {\n",
              "        vertical-align: middle;\n",
              "    }\n",
              "\n",
              "    .dataframe tbody tr th {\n",
              "        vertical-align: top;\n",
              "    }\n",
              "\n",
              "    .dataframe thead th {\n",
              "        text-align: right;\n",
              "    }\n",
              "</style>\n",
              "<table border=\"1\" class=\"dataframe\">\n",
              "  <thead>\n",
              "    <tr style=\"text-align: right;\">\n",
              "      <th></th>\n",
              "      <th></th>\n",
              "      <th>max_speed</th>\n",
              "      <th>shield</th>\n",
              "    </tr>\n",
              "  </thead>\n",
              "  <tbody>\n",
              "    <tr>\n",
              "      <th rowspan=\"2\" valign=\"top\">cobra</th>\n",
              "      <th>mark i</th>\n",
              "      <td>12</td>\n",
              "      <td>2</td>\n",
              "    </tr>\n",
              "    <tr>\n",
              "      <th>mark ii</th>\n",
              "      <td>0</td>\n",
              "      <td>4</td>\n",
              "    </tr>\n",
              "    <tr>\n",
              "      <th rowspan=\"2\" valign=\"top\">sidewinder</th>\n",
              "      <th>mark i</th>\n",
              "      <td>10</td>\n",
              "      <td>20</td>\n",
              "    </tr>\n",
              "    <tr>\n",
              "      <th>mark ii</th>\n",
              "      <td>1</td>\n",
              "      <td>4</td>\n",
              "    </tr>\n",
              "    <tr>\n",
              "      <th rowspan=\"2\" valign=\"top\">viper</th>\n",
              "      <th>mark ii</th>\n",
              "      <td>7</td>\n",
              "      <td>1</td>\n",
              "    </tr>\n",
              "    <tr>\n",
              "      <th>mark iii</th>\n",
              "      <td>16</td>\n",
              "      <td>36</td>\n",
              "    </tr>\n",
              "  </tbody>\n",
              "</table>\n",
              "</div>"
            ],
            "text/plain": [
              "                     max_speed  shield\n",
              "cobra      mark i           12       2\n",
              "           mark ii           0       4\n",
              "sidewinder mark i           10      20\n",
              "           mark ii           1       4\n",
              "viper      mark ii           7       1\n",
              "           mark iii         16      36"
            ]
          },
          "metadata": {
            "tags": []
          },
          "execution_count": 108
        }
      ]
    },
    {
      "cell_type": "code",
      "metadata": {
        "id": "r0R-1B8p1Cr7",
        "outputId": "a42c702e-5c77-477d-81e8-305d04bf0d77",
        "colab": {
          "base_uri": "https://localhost:8080/",
          "height": 110
        }
      },
      "source": [
        "df.loc['cobra']"
      ],
      "execution_count": 109,
      "outputs": [
        {
          "output_type": "execute_result",
          "data": {
            "text/html": [
              "<div>\n",
              "<style scoped>\n",
              "    .dataframe tbody tr th:only-of-type {\n",
              "        vertical-align: middle;\n",
              "    }\n",
              "\n",
              "    .dataframe tbody tr th {\n",
              "        vertical-align: top;\n",
              "    }\n",
              "\n",
              "    .dataframe thead th {\n",
              "        text-align: right;\n",
              "    }\n",
              "</style>\n",
              "<table border=\"1\" class=\"dataframe\">\n",
              "  <thead>\n",
              "    <tr style=\"text-align: right;\">\n",
              "      <th></th>\n",
              "      <th>max_speed</th>\n",
              "      <th>shield</th>\n",
              "    </tr>\n",
              "  </thead>\n",
              "  <tbody>\n",
              "    <tr>\n",
              "      <th>mark i</th>\n",
              "      <td>12</td>\n",
              "      <td>2</td>\n",
              "    </tr>\n",
              "    <tr>\n",
              "      <th>mark ii</th>\n",
              "      <td>0</td>\n",
              "      <td>4</td>\n",
              "    </tr>\n",
              "  </tbody>\n",
              "</table>\n",
              "</div>"
            ],
            "text/plain": [
              "         max_speed  shield\n",
              "mark i          12       2\n",
              "mark ii          0       4"
            ]
          },
          "metadata": {
            "tags": []
          },
          "execution_count": 109
        }
      ]
    },
    {
      "cell_type": "code",
      "metadata": {
        "id": "gk-jvPM-1Cr7",
        "outputId": "0722309c-1a85-4b32-ebde-fe6d05c74b1f",
        "colab": {
          "base_uri": "https://localhost:8080/"
        }
      },
      "source": [
        "df.loc[('cobra', 'mark ii')]"
      ],
      "execution_count": 110,
      "outputs": [
        {
          "output_type": "execute_result",
          "data": {
            "text/plain": [
              "max_speed    0\n",
              "shield       4\n",
              "Name: (cobra, mark ii), dtype: int64"
            ]
          },
          "metadata": {
            "tags": []
          },
          "execution_count": 110
        }
      ]
    },
    {
      "cell_type": "code",
      "metadata": {
        "id": "XysYETKa1Cr8"
      },
      "source": [
        ""
      ],
      "execution_count": 110,
      "outputs": []
    },
    {
      "cell_type": "markdown",
      "metadata": {
        "id": "vRVlO9ev1Cr8"
      },
      "source": [
        "### Dropping Entries from an Axis"
      ]
    },
    {
      "cell_type": "code",
      "metadata": {
        "id": "bPqBhA_M1Cr8",
        "outputId": "81ce930c-866c-481c-bf11-04dff92641f7"
      },
      "source": [
        "obj = pd.Series(np.arange(5.), index=['a', 'b', 'c', 'd', 'e'])\n",
        "obj"
      ],
      "execution_count": null,
      "outputs": [
        {
          "output_type": "execute_result",
          "data": {
            "text/plain": [
              "a    0.0\n",
              "b    1.0\n",
              "c    2.0\n",
              "d    3.0\n",
              "e    4.0\n",
              "dtype: float64"
            ]
          },
          "metadata": {
            "tags": []
          },
          "execution_count": 24
        }
      ]
    },
    {
      "cell_type": "code",
      "metadata": {
        "id": "JMQUbItQ1Cr8",
        "outputId": "f731250f-710b-47f0-c567-c2b350c8ffa9"
      },
      "source": [
        "new_obj = obj.drop('c')\n",
        "new_obj"
      ],
      "execution_count": null,
      "outputs": [
        {
          "output_type": "execute_result",
          "data": {
            "text/plain": [
              "a    0.0\n",
              "b    1.0\n",
              "d    3.0\n",
              "e    4.0\n",
              "dtype: float64"
            ]
          },
          "metadata": {
            "tags": []
          },
          "execution_count": 25
        }
      ]
    },
    {
      "cell_type": "code",
      "metadata": {
        "id": "7FyXXuX71Cr8",
        "outputId": "71de44f4-84e4-4413-9dd9-df224c8384da"
      },
      "source": [
        "obj.drop(['d', 'c'])"
      ],
      "execution_count": null,
      "outputs": [
        {
          "output_type": "execute_result",
          "data": {
            "text/plain": [
              "a    0.0\n",
              "b    1.0\n",
              "e    4.0\n",
              "dtype: float64"
            ]
          },
          "metadata": {
            "tags": []
          },
          "execution_count": 26
        }
      ]
    },
    {
      "cell_type": "code",
      "metadata": {
        "id": "4QR1sOdz1Cr8",
        "outputId": "ec645515-a035-4fdf-87de-ce3acbb2ffa0"
      },
      "source": [
        "data = pd.DataFrame(np.arange(16).reshape((4, 4)),\n",
        "                    index=['Ohio', 'Colorado', 'Utah', 'New York'],\n",
        "                    columns=['one', 'two', 'three', 'four'])\n",
        "data"
      ],
      "execution_count": null,
      "outputs": [
        {
          "output_type": "execute_result",
          "data": {
            "text/html": [
              "<div>\n",
              "<style scoped>\n",
              "    .dataframe tbody tr th:only-of-type {\n",
              "        vertical-align: middle;\n",
              "    }\n",
              "\n",
              "    .dataframe tbody tr th {\n",
              "        vertical-align: top;\n",
              "    }\n",
              "\n",
              "    .dataframe thead th {\n",
              "        text-align: right;\n",
              "    }\n",
              "</style>\n",
              "<table border=\"1\" class=\"dataframe\">\n",
              "  <thead>\n",
              "    <tr style=\"text-align: right;\">\n",
              "      <th></th>\n",
              "      <th>one</th>\n",
              "      <th>two</th>\n",
              "      <th>three</th>\n",
              "      <th>four</th>\n",
              "    </tr>\n",
              "  </thead>\n",
              "  <tbody>\n",
              "    <tr>\n",
              "      <th>Ohio</th>\n",
              "      <td>0</td>\n",
              "      <td>1</td>\n",
              "      <td>2</td>\n",
              "      <td>3</td>\n",
              "    </tr>\n",
              "    <tr>\n",
              "      <th>Colorado</th>\n",
              "      <td>4</td>\n",
              "      <td>5</td>\n",
              "      <td>6</td>\n",
              "      <td>7</td>\n",
              "    </tr>\n",
              "    <tr>\n",
              "      <th>Utah</th>\n",
              "      <td>8</td>\n",
              "      <td>9</td>\n",
              "      <td>10</td>\n",
              "      <td>11</td>\n",
              "    </tr>\n",
              "    <tr>\n",
              "      <th>New York</th>\n",
              "      <td>12</td>\n",
              "      <td>13</td>\n",
              "      <td>14</td>\n",
              "      <td>15</td>\n",
              "    </tr>\n",
              "  </tbody>\n",
              "</table>\n",
              "</div>"
            ],
            "text/plain": [
              "          one  two  three  four\n",
              "Ohio        0    1      2     3\n",
              "Colorado    4    5      6     7\n",
              "Utah        8    9     10    11\n",
              "New York   12   13     14    15"
            ]
          },
          "metadata": {
            "tags": []
          },
          "execution_count": 27
        }
      ]
    },
    {
      "cell_type": "code",
      "metadata": {
        "id": "5rWQ6KHW1Cr9",
        "outputId": "9f0dfc85-446c-439d-cbc6-72ffb2ee68e7"
      },
      "source": [
        "data.drop(['Colorado', 'Ohio'])"
      ],
      "execution_count": null,
      "outputs": [
        {
          "output_type": "execute_result",
          "data": {
            "text/html": [
              "<div>\n",
              "<style scoped>\n",
              "    .dataframe tbody tr th:only-of-type {\n",
              "        vertical-align: middle;\n",
              "    }\n",
              "\n",
              "    .dataframe tbody tr th {\n",
              "        vertical-align: top;\n",
              "    }\n",
              "\n",
              "    .dataframe thead th {\n",
              "        text-align: right;\n",
              "    }\n",
              "</style>\n",
              "<table border=\"1\" class=\"dataframe\">\n",
              "  <thead>\n",
              "    <tr style=\"text-align: right;\">\n",
              "      <th></th>\n",
              "      <th>one</th>\n",
              "      <th>two</th>\n",
              "      <th>three</th>\n",
              "      <th>four</th>\n",
              "    </tr>\n",
              "  </thead>\n",
              "  <tbody>\n",
              "    <tr>\n",
              "      <th>Utah</th>\n",
              "      <td>8</td>\n",
              "      <td>9</td>\n",
              "      <td>10</td>\n",
              "      <td>11</td>\n",
              "    </tr>\n",
              "    <tr>\n",
              "      <th>New York</th>\n",
              "      <td>12</td>\n",
              "      <td>13</td>\n",
              "      <td>14</td>\n",
              "      <td>15</td>\n",
              "    </tr>\n",
              "  </tbody>\n",
              "</table>\n",
              "</div>"
            ],
            "text/plain": [
              "          one  two  three  four\n",
              "Utah        8    9     10    11\n",
              "New York   12   13     14    15"
            ]
          },
          "metadata": {
            "tags": []
          },
          "execution_count": 28
        }
      ]
    },
    {
      "cell_type": "code",
      "metadata": {
        "id": "P5Enrkfo1Cr9",
        "outputId": "17ed1d2c-b1ef-42c3-b0f1-6b2830ca5fc1"
      },
      "source": [
        "data.drop('two', axis=1)"
      ],
      "execution_count": null,
      "outputs": [
        {
          "output_type": "execute_result",
          "data": {
            "text/html": [
              "<div>\n",
              "<style scoped>\n",
              "    .dataframe tbody tr th:only-of-type {\n",
              "        vertical-align: middle;\n",
              "    }\n",
              "\n",
              "    .dataframe tbody tr th {\n",
              "        vertical-align: top;\n",
              "    }\n",
              "\n",
              "    .dataframe thead th {\n",
              "        text-align: right;\n",
              "    }\n",
              "</style>\n",
              "<table border=\"1\" class=\"dataframe\">\n",
              "  <thead>\n",
              "    <tr style=\"text-align: right;\">\n",
              "      <th></th>\n",
              "      <th>one</th>\n",
              "      <th>three</th>\n",
              "      <th>four</th>\n",
              "    </tr>\n",
              "  </thead>\n",
              "  <tbody>\n",
              "    <tr>\n",
              "      <th>Ohio</th>\n",
              "      <td>0</td>\n",
              "      <td>2</td>\n",
              "      <td>3</td>\n",
              "    </tr>\n",
              "    <tr>\n",
              "      <th>Colorado</th>\n",
              "      <td>4</td>\n",
              "      <td>6</td>\n",
              "      <td>7</td>\n",
              "    </tr>\n",
              "    <tr>\n",
              "      <th>Utah</th>\n",
              "      <td>8</td>\n",
              "      <td>10</td>\n",
              "      <td>11</td>\n",
              "    </tr>\n",
              "    <tr>\n",
              "      <th>New York</th>\n",
              "      <td>12</td>\n",
              "      <td>14</td>\n",
              "      <td>15</td>\n",
              "    </tr>\n",
              "  </tbody>\n",
              "</table>\n",
              "</div>"
            ],
            "text/plain": [
              "          one  three  four\n",
              "Ohio        0      2     3\n",
              "Colorado    4      6     7\n",
              "Utah        8     10    11\n",
              "New York   12     14    15"
            ]
          },
          "metadata": {
            "tags": []
          },
          "execution_count": 29
        }
      ]
    },
    {
      "cell_type": "code",
      "metadata": {
        "id": "lI3amOSD1Cr9",
        "outputId": "9fdb1574-b7b0-4017-a845-d9e18d611959"
      },
      "source": [
        "data.drop(['two', 'four'], axis='columns')"
      ],
      "execution_count": null,
      "outputs": [
        {
          "output_type": "execute_result",
          "data": {
            "text/html": [
              "<div>\n",
              "<style scoped>\n",
              "    .dataframe tbody tr th:only-of-type {\n",
              "        vertical-align: middle;\n",
              "    }\n",
              "\n",
              "    .dataframe tbody tr th {\n",
              "        vertical-align: top;\n",
              "    }\n",
              "\n",
              "    .dataframe thead th {\n",
              "        text-align: right;\n",
              "    }\n",
              "</style>\n",
              "<table border=\"1\" class=\"dataframe\">\n",
              "  <thead>\n",
              "    <tr style=\"text-align: right;\">\n",
              "      <th></th>\n",
              "      <th>one</th>\n",
              "      <th>three</th>\n",
              "    </tr>\n",
              "  </thead>\n",
              "  <tbody>\n",
              "    <tr>\n",
              "      <th>Ohio</th>\n",
              "      <td>0</td>\n",
              "      <td>2</td>\n",
              "    </tr>\n",
              "    <tr>\n",
              "      <th>Colorado</th>\n",
              "      <td>4</td>\n",
              "      <td>6</td>\n",
              "    </tr>\n",
              "    <tr>\n",
              "      <th>Utah</th>\n",
              "      <td>8</td>\n",
              "      <td>10</td>\n",
              "    </tr>\n",
              "    <tr>\n",
              "      <th>New York</th>\n",
              "      <td>12</td>\n",
              "      <td>14</td>\n",
              "    </tr>\n",
              "  </tbody>\n",
              "</table>\n",
              "</div>"
            ],
            "text/plain": [
              "          one  three\n",
              "Ohio        0      2\n",
              "Colorado    4      6\n",
              "Utah        8     10\n",
              "New York   12     14"
            ]
          },
          "metadata": {
            "tags": []
          },
          "execution_count": 30
        }
      ]
    },
    {
      "cell_type": "code",
      "metadata": {
        "id": "nJ9ODpPv1Cr9",
        "outputId": "0062eb46-03f6-48ec-d606-8773c917ac52"
      },
      "source": [
        "data"
      ],
      "execution_count": null,
      "outputs": [
        {
          "output_type": "execute_result",
          "data": {
            "text/html": [
              "<div>\n",
              "<style scoped>\n",
              "    .dataframe tbody tr th:only-of-type {\n",
              "        vertical-align: middle;\n",
              "    }\n",
              "\n",
              "    .dataframe tbody tr th {\n",
              "        vertical-align: top;\n",
              "    }\n",
              "\n",
              "    .dataframe thead th {\n",
              "        text-align: right;\n",
              "    }\n",
              "</style>\n",
              "<table border=\"1\" class=\"dataframe\">\n",
              "  <thead>\n",
              "    <tr style=\"text-align: right;\">\n",
              "      <th></th>\n",
              "      <th>one</th>\n",
              "      <th>two</th>\n",
              "      <th>three</th>\n",
              "      <th>four</th>\n",
              "    </tr>\n",
              "  </thead>\n",
              "  <tbody>\n",
              "    <tr>\n",
              "      <th>Ohio</th>\n",
              "      <td>0</td>\n",
              "      <td>1</td>\n",
              "      <td>2</td>\n",
              "      <td>3</td>\n",
              "    </tr>\n",
              "    <tr>\n",
              "      <th>Colorado</th>\n",
              "      <td>4</td>\n",
              "      <td>5</td>\n",
              "      <td>6</td>\n",
              "      <td>7</td>\n",
              "    </tr>\n",
              "    <tr>\n",
              "      <th>Utah</th>\n",
              "      <td>8</td>\n",
              "      <td>9</td>\n",
              "      <td>10</td>\n",
              "      <td>11</td>\n",
              "    </tr>\n",
              "    <tr>\n",
              "      <th>New York</th>\n",
              "      <td>12</td>\n",
              "      <td>13</td>\n",
              "      <td>14</td>\n",
              "      <td>15</td>\n",
              "    </tr>\n",
              "  </tbody>\n",
              "</table>\n",
              "</div>"
            ],
            "text/plain": [
              "          one  two  three  four\n",
              "Ohio        0    1      2     3\n",
              "Colorado    4    5      6     7\n",
              "Utah        8    9     10    11\n",
              "New York   12   13     14    15"
            ]
          },
          "metadata": {
            "tags": []
          },
          "execution_count": 31
        }
      ]
    },
    {
      "cell_type": "code",
      "metadata": {
        "id": "W_aHSRdJ1Cr9",
        "outputId": "60435559-a7b0-40a7-c5e9-b2b5ef0d1b30"
      },
      "source": [
        "obj = pd.Series(np.arange(5.), index=['a', 'b', 'c', 'd', 'e'])\n",
        "obj.drop('c', inplace=True)\n",
        "obj"
      ],
      "execution_count": null,
      "outputs": [
        {
          "output_type": "execute_result",
          "data": {
            "text/plain": [
              "a    0.0\n",
              "b    1.0\n",
              "d    3.0\n",
              "e    4.0\n",
              "dtype: float64"
            ]
          },
          "metadata": {
            "tags": []
          },
          "execution_count": 32
        }
      ]
    },
    {
      "cell_type": "markdown",
      "metadata": {
        "id": "tgGizNQy1Cr-"
      },
      "source": [
        "### Indexing, Selection, and Filtering"
      ]
    },
    {
      "cell_type": "code",
      "metadata": {
        "id": "2nqlILjz1Cr-",
        "outputId": "9ffd3a82-369b-4269-cc9d-9c6ce3765525",
        "colab": {
          "base_uri": "https://localhost:8080/"
        }
      },
      "source": [
        "obj = pd.Series(np.arange(4.), index=['a', 'b', 'c', 'd'])\n",
        "obj"
      ],
      "execution_count": 116,
      "outputs": [
        {
          "output_type": "execute_result",
          "data": {
            "text/plain": [
              "a    0.0\n",
              "b    1.0\n",
              "c    2.0\n",
              "d    3.0\n",
              "dtype: float64"
            ]
          },
          "metadata": {
            "tags": []
          },
          "execution_count": 116
        }
      ]
    },
    {
      "cell_type": "code",
      "metadata": {
        "id": "AC6QUUPQ1Cr-",
        "outputId": "2ac78452-c2d3-4e92-c7bd-2c59c14b2ca5",
        "colab": {
          "base_uri": "https://localhost:8080/"
        }
      },
      "source": [
        "obj['b']"
      ],
      "execution_count": 117,
      "outputs": [
        {
          "output_type": "execute_result",
          "data": {
            "text/plain": [
              "1.0"
            ]
          },
          "metadata": {
            "tags": []
          },
          "execution_count": 117
        }
      ]
    },
    {
      "cell_type": "code",
      "metadata": {
        "id": "k_wsc0Fn1Cr-",
        "outputId": "7be39c5f-b141-4814-ad37-c6df34429386",
        "colab": {
          "base_uri": "https://localhost:8080/"
        }
      },
      "source": [
        "obj[1]"
      ],
      "execution_count": 118,
      "outputs": [
        {
          "output_type": "execute_result",
          "data": {
            "text/plain": [
              "1.0"
            ]
          },
          "metadata": {
            "tags": []
          },
          "execution_count": 118
        }
      ]
    },
    {
      "cell_type": "code",
      "metadata": {
        "id": "rFCxE4LQ1Cr-",
        "outputId": "8127c916-d058-44b4-a931-e1e148681803",
        "colab": {
          "base_uri": "https://localhost:8080/"
        }
      },
      "source": [
        "obj[2:4]"
      ],
      "execution_count": 119,
      "outputs": [
        {
          "output_type": "execute_result",
          "data": {
            "text/plain": [
              "c    2.0\n",
              "d    3.0\n",
              "dtype: float64"
            ]
          },
          "metadata": {
            "tags": []
          },
          "execution_count": 119
        }
      ]
    },
    {
      "cell_type": "code",
      "metadata": {
        "id": "4RB3v5BY1Cr-",
        "outputId": "cf2cf236-67bc-4a40-8535-2c5b67a330fd",
        "colab": {
          "base_uri": "https://localhost:8080/"
        }
      },
      "source": [
        "obj[['b', 'a', 'd']]"
      ],
      "execution_count": 120,
      "outputs": [
        {
          "output_type": "execute_result",
          "data": {
            "text/plain": [
              "b    1.0\n",
              "a    0.0\n",
              "d    3.0\n",
              "dtype: float64"
            ]
          },
          "metadata": {
            "tags": []
          },
          "execution_count": 120
        }
      ]
    },
    {
      "cell_type": "code",
      "metadata": {
        "id": "M7JB07bu1Cr_",
        "outputId": "f67c8973-5cea-4ebc-b299-b2cd6e08072b",
        "colab": {
          "base_uri": "https://localhost:8080/"
        }
      },
      "source": [
        "obj[[1, 3]]"
      ],
      "execution_count": 121,
      "outputs": [
        {
          "output_type": "execute_result",
          "data": {
            "text/plain": [
              "b    1.0\n",
              "d    3.0\n",
              "dtype: float64"
            ]
          },
          "metadata": {
            "tags": []
          },
          "execution_count": 121
        }
      ]
    },
    {
      "cell_type": "code",
      "metadata": {
        "id": "xajj2ax01Cr_",
        "outputId": "fa98a40b-0943-4c95-b75d-b2a6d60affac",
        "colab": {
          "base_uri": "https://localhost:8080/"
        }
      },
      "source": [
        "obj[obj < 2]"
      ],
      "execution_count": 122,
      "outputs": [
        {
          "output_type": "execute_result",
          "data": {
            "text/plain": [
              "a    0.0\n",
              "b    1.0\n",
              "dtype: float64"
            ]
          },
          "metadata": {
            "tags": []
          },
          "execution_count": 122
        }
      ]
    },
    {
      "cell_type": "code",
      "metadata": {
        "id": "VlkSIlx91Cr_",
        "outputId": "6f7752cd-7f27-455e-a8ee-3a328da089b2",
        "colab": {
          "base_uri": "https://localhost:8080/"
        }
      },
      "source": [
        "obj['b':'c']"
      ],
      "execution_count": 123,
      "outputs": [
        {
          "output_type": "execute_result",
          "data": {
            "text/plain": [
              "b    1.0\n",
              "c    2.0\n",
              "dtype: float64"
            ]
          },
          "metadata": {
            "tags": []
          },
          "execution_count": 123
        }
      ]
    },
    {
      "cell_type": "code",
      "metadata": {
        "id": "07aYDNtx1Cr_",
        "outputId": "2eccd330-763a-4421-c458-665efd887b35",
        "colab": {
          "base_uri": "https://localhost:8080/"
        }
      },
      "source": [
        "obj['b':'c'] = 5\n",
        "obj"
      ],
      "execution_count": 124,
      "outputs": [
        {
          "output_type": "execute_result",
          "data": {
            "text/plain": [
              "a    0.0\n",
              "b    5.0\n",
              "c    5.0\n",
              "d    3.0\n",
              "dtype: float64"
            ]
          },
          "metadata": {
            "tags": []
          },
          "execution_count": 124
        }
      ]
    },
    {
      "cell_type": "code",
      "metadata": {
        "id": "1jTGp1r_1Cr_",
        "outputId": "568c6693-b463-4896-d73d-1be52020e72e",
        "colab": {
          "base_uri": "https://localhost:8080/",
          "height": 172
        }
      },
      "source": [
        "data = pd.DataFrame(np.arange(16).reshape((4, 4)),\n",
        "                    index=['Ohio', 'Colorado', 'Utah', 'New York'],\n",
        "                    columns=['one', 'two', 'three', 'four'])\n",
        "data"
      ],
      "execution_count": 125,
      "outputs": [
        {
          "output_type": "execute_result",
          "data": {
            "text/html": [
              "<div>\n",
              "<style scoped>\n",
              "    .dataframe tbody tr th:only-of-type {\n",
              "        vertical-align: middle;\n",
              "    }\n",
              "\n",
              "    .dataframe tbody tr th {\n",
              "        vertical-align: top;\n",
              "    }\n",
              "\n",
              "    .dataframe thead th {\n",
              "        text-align: right;\n",
              "    }\n",
              "</style>\n",
              "<table border=\"1\" class=\"dataframe\">\n",
              "  <thead>\n",
              "    <tr style=\"text-align: right;\">\n",
              "      <th></th>\n",
              "      <th>one</th>\n",
              "      <th>two</th>\n",
              "      <th>three</th>\n",
              "      <th>four</th>\n",
              "    </tr>\n",
              "  </thead>\n",
              "  <tbody>\n",
              "    <tr>\n",
              "      <th>Ohio</th>\n",
              "      <td>0</td>\n",
              "      <td>1</td>\n",
              "      <td>2</td>\n",
              "      <td>3</td>\n",
              "    </tr>\n",
              "    <tr>\n",
              "      <th>Colorado</th>\n",
              "      <td>4</td>\n",
              "      <td>5</td>\n",
              "      <td>6</td>\n",
              "      <td>7</td>\n",
              "    </tr>\n",
              "    <tr>\n",
              "      <th>Utah</th>\n",
              "      <td>8</td>\n",
              "      <td>9</td>\n",
              "      <td>10</td>\n",
              "      <td>11</td>\n",
              "    </tr>\n",
              "    <tr>\n",
              "      <th>New York</th>\n",
              "      <td>12</td>\n",
              "      <td>13</td>\n",
              "      <td>14</td>\n",
              "      <td>15</td>\n",
              "    </tr>\n",
              "  </tbody>\n",
              "</table>\n",
              "</div>"
            ],
            "text/plain": [
              "          one  two  three  four\n",
              "Ohio        0    1      2     3\n",
              "Colorado    4    5      6     7\n",
              "Utah        8    9     10    11\n",
              "New York   12   13     14    15"
            ]
          },
          "metadata": {
            "tags": []
          },
          "execution_count": 125
        }
      ]
    },
    {
      "cell_type": "code",
      "metadata": {
        "id": "5B6Kare71CsA",
        "outputId": "cd96da7d-fb68-4ff3-a240-6831ba47066e",
        "colab": {
          "base_uri": "https://localhost:8080/"
        }
      },
      "source": [
        "data['two']"
      ],
      "execution_count": 126,
      "outputs": [
        {
          "output_type": "execute_result",
          "data": {
            "text/plain": [
              "Ohio         1\n",
              "Colorado     5\n",
              "Utah         9\n",
              "New York    13\n",
              "Name: two, dtype: int64"
            ]
          },
          "metadata": {
            "tags": []
          },
          "execution_count": 126
        }
      ]
    },
    {
      "cell_type": "code",
      "metadata": {
        "id": "5V3tFzwh1CsA",
        "outputId": "7e86d46e-1303-4bc8-e52d-d297cfcadb90",
        "colab": {
          "base_uri": "https://localhost:8080/",
          "height": 172
        }
      },
      "source": [
        "data[['three', 'one']]"
      ],
      "execution_count": 127,
      "outputs": [
        {
          "output_type": "execute_result",
          "data": {
            "text/html": [
              "<div>\n",
              "<style scoped>\n",
              "    .dataframe tbody tr th:only-of-type {\n",
              "        vertical-align: middle;\n",
              "    }\n",
              "\n",
              "    .dataframe tbody tr th {\n",
              "        vertical-align: top;\n",
              "    }\n",
              "\n",
              "    .dataframe thead th {\n",
              "        text-align: right;\n",
              "    }\n",
              "</style>\n",
              "<table border=\"1\" class=\"dataframe\">\n",
              "  <thead>\n",
              "    <tr style=\"text-align: right;\">\n",
              "      <th></th>\n",
              "      <th>three</th>\n",
              "      <th>one</th>\n",
              "    </tr>\n",
              "  </thead>\n",
              "  <tbody>\n",
              "    <tr>\n",
              "      <th>Ohio</th>\n",
              "      <td>2</td>\n",
              "      <td>0</td>\n",
              "    </tr>\n",
              "    <tr>\n",
              "      <th>Colorado</th>\n",
              "      <td>6</td>\n",
              "      <td>4</td>\n",
              "    </tr>\n",
              "    <tr>\n",
              "      <th>Utah</th>\n",
              "      <td>10</td>\n",
              "      <td>8</td>\n",
              "    </tr>\n",
              "    <tr>\n",
              "      <th>New York</th>\n",
              "      <td>14</td>\n",
              "      <td>12</td>\n",
              "    </tr>\n",
              "  </tbody>\n",
              "</table>\n",
              "</div>"
            ],
            "text/plain": [
              "          three  one\n",
              "Ohio          2    0\n",
              "Colorado      6    4\n",
              "Utah         10    8\n",
              "New York     14   12"
            ]
          },
          "metadata": {
            "tags": []
          },
          "execution_count": 127
        }
      ]
    },
    {
      "cell_type": "code",
      "metadata": {
        "id": "xZ6QVDcn1CsA",
        "outputId": "b09b5406-742c-4d81-8e6f-71ce8c72ce3d",
        "colab": {
          "base_uri": "https://localhost:8080/",
          "height": 110
        }
      },
      "source": [
        "data[:2] #행 선택"
      ],
      "execution_count": 128,
      "outputs": [
        {
          "output_type": "execute_result",
          "data": {
            "text/html": [
              "<div>\n",
              "<style scoped>\n",
              "    .dataframe tbody tr th:only-of-type {\n",
              "        vertical-align: middle;\n",
              "    }\n",
              "\n",
              "    .dataframe tbody tr th {\n",
              "        vertical-align: top;\n",
              "    }\n",
              "\n",
              "    .dataframe thead th {\n",
              "        text-align: right;\n",
              "    }\n",
              "</style>\n",
              "<table border=\"1\" class=\"dataframe\">\n",
              "  <thead>\n",
              "    <tr style=\"text-align: right;\">\n",
              "      <th></th>\n",
              "      <th>one</th>\n",
              "      <th>two</th>\n",
              "      <th>three</th>\n",
              "      <th>four</th>\n",
              "    </tr>\n",
              "  </thead>\n",
              "  <tbody>\n",
              "    <tr>\n",
              "      <th>Ohio</th>\n",
              "      <td>0</td>\n",
              "      <td>1</td>\n",
              "      <td>2</td>\n",
              "      <td>3</td>\n",
              "    </tr>\n",
              "    <tr>\n",
              "      <th>Colorado</th>\n",
              "      <td>4</td>\n",
              "      <td>5</td>\n",
              "      <td>6</td>\n",
              "      <td>7</td>\n",
              "    </tr>\n",
              "  </tbody>\n",
              "</table>\n",
              "</div>"
            ],
            "text/plain": [
              "          one  two  three  four\n",
              "Ohio        0    1      2     3\n",
              "Colorado    4    5      6     7"
            ]
          },
          "metadata": {
            "tags": []
          },
          "execution_count": 128
        }
      ]
    },
    {
      "cell_type": "code",
      "metadata": {
        "id": "aCFK84CW1CsA",
        "outputId": "6cbc13fb-ed2f-4026-fa0c-7b876921e00a",
        "colab": {
          "base_uri": "https://localhost:8080/"
        }
      },
      "source": [
        "data['three'] > 5"
      ],
      "execution_count": 129,
      "outputs": [
        {
          "output_type": "execute_result",
          "data": {
            "text/plain": [
              "Ohio        False\n",
              "Colorado     True\n",
              "Utah         True\n",
              "New York     True\n",
              "Name: three, dtype: bool"
            ]
          },
          "metadata": {
            "tags": []
          },
          "execution_count": 129
        }
      ]
    },
    {
      "cell_type": "code",
      "metadata": {
        "id": "aJ2YiCZw1CsA",
        "outputId": "5504beb6-a2f2-434d-a46f-24bd0f80c1b1",
        "colab": {
          "base_uri": "https://localhost:8080/",
          "height": 141
        }
      },
      "source": [
        "data[data['three'] > 5]"
      ],
      "execution_count": 130,
      "outputs": [
        {
          "output_type": "execute_result",
          "data": {
            "text/html": [
              "<div>\n",
              "<style scoped>\n",
              "    .dataframe tbody tr th:only-of-type {\n",
              "        vertical-align: middle;\n",
              "    }\n",
              "\n",
              "    .dataframe tbody tr th {\n",
              "        vertical-align: top;\n",
              "    }\n",
              "\n",
              "    .dataframe thead th {\n",
              "        text-align: right;\n",
              "    }\n",
              "</style>\n",
              "<table border=\"1\" class=\"dataframe\">\n",
              "  <thead>\n",
              "    <tr style=\"text-align: right;\">\n",
              "      <th></th>\n",
              "      <th>one</th>\n",
              "      <th>two</th>\n",
              "      <th>three</th>\n",
              "      <th>four</th>\n",
              "    </tr>\n",
              "  </thead>\n",
              "  <tbody>\n",
              "    <tr>\n",
              "      <th>Colorado</th>\n",
              "      <td>4</td>\n",
              "      <td>5</td>\n",
              "      <td>6</td>\n",
              "      <td>7</td>\n",
              "    </tr>\n",
              "    <tr>\n",
              "      <th>Utah</th>\n",
              "      <td>8</td>\n",
              "      <td>9</td>\n",
              "      <td>10</td>\n",
              "      <td>11</td>\n",
              "    </tr>\n",
              "    <tr>\n",
              "      <th>New York</th>\n",
              "      <td>12</td>\n",
              "      <td>13</td>\n",
              "      <td>14</td>\n",
              "      <td>15</td>\n",
              "    </tr>\n",
              "  </tbody>\n",
              "</table>\n",
              "</div>"
            ],
            "text/plain": [
              "          one  two  three  four\n",
              "Colorado    4    5      6     7\n",
              "Utah        8    9     10    11\n",
              "New York   12   13     14    15"
            ]
          },
          "metadata": {
            "tags": []
          },
          "execution_count": 130
        }
      ]
    },
    {
      "cell_type": "code",
      "metadata": {
        "id": "zyo4vpn21CsA",
        "outputId": "d4a263a3-d1b8-4358-a857-961a5e597e07",
        "colab": {
          "base_uri": "https://localhost:8080/",
          "height": 172
        }
      },
      "source": [
        "data < 5"
      ],
      "execution_count": 131,
      "outputs": [
        {
          "output_type": "execute_result",
          "data": {
            "text/html": [
              "<div>\n",
              "<style scoped>\n",
              "    .dataframe tbody tr th:only-of-type {\n",
              "        vertical-align: middle;\n",
              "    }\n",
              "\n",
              "    .dataframe tbody tr th {\n",
              "        vertical-align: top;\n",
              "    }\n",
              "\n",
              "    .dataframe thead th {\n",
              "        text-align: right;\n",
              "    }\n",
              "</style>\n",
              "<table border=\"1\" class=\"dataframe\">\n",
              "  <thead>\n",
              "    <tr style=\"text-align: right;\">\n",
              "      <th></th>\n",
              "      <th>one</th>\n",
              "      <th>two</th>\n",
              "      <th>three</th>\n",
              "      <th>four</th>\n",
              "    </tr>\n",
              "  </thead>\n",
              "  <tbody>\n",
              "    <tr>\n",
              "      <th>Ohio</th>\n",
              "      <td>True</td>\n",
              "      <td>True</td>\n",
              "      <td>True</td>\n",
              "      <td>True</td>\n",
              "    </tr>\n",
              "    <tr>\n",
              "      <th>Colorado</th>\n",
              "      <td>True</td>\n",
              "      <td>False</td>\n",
              "      <td>False</td>\n",
              "      <td>False</td>\n",
              "    </tr>\n",
              "    <tr>\n",
              "      <th>Utah</th>\n",
              "      <td>False</td>\n",
              "      <td>False</td>\n",
              "      <td>False</td>\n",
              "      <td>False</td>\n",
              "    </tr>\n",
              "    <tr>\n",
              "      <th>New York</th>\n",
              "      <td>False</td>\n",
              "      <td>False</td>\n",
              "      <td>False</td>\n",
              "      <td>False</td>\n",
              "    </tr>\n",
              "  </tbody>\n",
              "</table>\n",
              "</div>"
            ],
            "text/plain": [
              "            one    two  three   four\n",
              "Ohio       True   True   True   True\n",
              "Colorado   True  False  False  False\n",
              "Utah      False  False  False  False\n",
              "New York  False  False  False  False"
            ]
          },
          "metadata": {
            "tags": []
          },
          "execution_count": 131
        }
      ]
    },
    {
      "cell_type": "code",
      "metadata": {
        "id": "-CkMrLNc1CsB",
        "outputId": "a7841b93-a43d-4857-ce52-fe4c7b70b094",
        "colab": {
          "base_uri": "https://localhost:8080/",
          "height": 172
        }
      },
      "source": [
        "data[data < 5] = 0\n",
        "data"
      ],
      "execution_count": 132,
      "outputs": [
        {
          "output_type": "execute_result",
          "data": {
            "text/html": [
              "<div>\n",
              "<style scoped>\n",
              "    .dataframe tbody tr th:only-of-type {\n",
              "        vertical-align: middle;\n",
              "    }\n",
              "\n",
              "    .dataframe tbody tr th {\n",
              "        vertical-align: top;\n",
              "    }\n",
              "\n",
              "    .dataframe thead th {\n",
              "        text-align: right;\n",
              "    }\n",
              "</style>\n",
              "<table border=\"1\" class=\"dataframe\">\n",
              "  <thead>\n",
              "    <tr style=\"text-align: right;\">\n",
              "      <th></th>\n",
              "      <th>one</th>\n",
              "      <th>two</th>\n",
              "      <th>three</th>\n",
              "      <th>four</th>\n",
              "    </tr>\n",
              "  </thead>\n",
              "  <tbody>\n",
              "    <tr>\n",
              "      <th>Ohio</th>\n",
              "      <td>0</td>\n",
              "      <td>0</td>\n",
              "      <td>0</td>\n",
              "      <td>0</td>\n",
              "    </tr>\n",
              "    <tr>\n",
              "      <th>Colorado</th>\n",
              "      <td>0</td>\n",
              "      <td>5</td>\n",
              "      <td>6</td>\n",
              "      <td>7</td>\n",
              "    </tr>\n",
              "    <tr>\n",
              "      <th>Utah</th>\n",
              "      <td>8</td>\n",
              "      <td>9</td>\n",
              "      <td>10</td>\n",
              "      <td>11</td>\n",
              "    </tr>\n",
              "    <tr>\n",
              "      <th>New York</th>\n",
              "      <td>12</td>\n",
              "      <td>13</td>\n",
              "      <td>14</td>\n",
              "      <td>15</td>\n",
              "    </tr>\n",
              "  </tbody>\n",
              "</table>\n",
              "</div>"
            ],
            "text/plain": [
              "          one  two  three  four\n",
              "Ohio        0    0      0     0\n",
              "Colorado    0    5      6     7\n",
              "Utah        8    9     10    11\n",
              "New York   12   13     14    15"
            ]
          },
          "metadata": {
            "tags": []
          },
          "execution_count": 132
        }
      ]
    },
    {
      "cell_type": "markdown",
      "metadata": {
        "id": "WB95TzAo1CsB"
      },
      "source": [
        "#### Selection with loc and iloc"
      ]
    },
    {
      "cell_type": "code",
      "metadata": {
        "id": "-FwIXmeJ1CsB",
        "outputId": "06e495bd-ca20-490f-a530-74f42ef0ebd1",
        "colab": {
          "base_uri": "https://localhost:8080/",
          "height": 172
        }
      },
      "source": [
        "data"
      ],
      "execution_count": 133,
      "outputs": [
        {
          "output_type": "execute_result",
          "data": {
            "text/html": [
              "<div>\n",
              "<style scoped>\n",
              "    .dataframe tbody tr th:only-of-type {\n",
              "        vertical-align: middle;\n",
              "    }\n",
              "\n",
              "    .dataframe tbody tr th {\n",
              "        vertical-align: top;\n",
              "    }\n",
              "\n",
              "    .dataframe thead th {\n",
              "        text-align: right;\n",
              "    }\n",
              "</style>\n",
              "<table border=\"1\" class=\"dataframe\">\n",
              "  <thead>\n",
              "    <tr style=\"text-align: right;\">\n",
              "      <th></th>\n",
              "      <th>one</th>\n",
              "      <th>two</th>\n",
              "      <th>three</th>\n",
              "      <th>four</th>\n",
              "    </tr>\n",
              "  </thead>\n",
              "  <tbody>\n",
              "    <tr>\n",
              "      <th>Ohio</th>\n",
              "      <td>0</td>\n",
              "      <td>0</td>\n",
              "      <td>0</td>\n",
              "      <td>0</td>\n",
              "    </tr>\n",
              "    <tr>\n",
              "      <th>Colorado</th>\n",
              "      <td>0</td>\n",
              "      <td>5</td>\n",
              "      <td>6</td>\n",
              "      <td>7</td>\n",
              "    </tr>\n",
              "    <tr>\n",
              "      <th>Utah</th>\n",
              "      <td>8</td>\n",
              "      <td>9</td>\n",
              "      <td>10</td>\n",
              "      <td>11</td>\n",
              "    </tr>\n",
              "    <tr>\n",
              "      <th>New York</th>\n",
              "      <td>12</td>\n",
              "      <td>13</td>\n",
              "      <td>14</td>\n",
              "      <td>15</td>\n",
              "    </tr>\n",
              "  </tbody>\n",
              "</table>\n",
              "</div>"
            ],
            "text/plain": [
              "          one  two  three  four\n",
              "Ohio        0    0      0     0\n",
              "Colorado    0    5      6     7\n",
              "Utah        8    9     10    11\n",
              "New York   12   13     14    15"
            ]
          },
          "metadata": {
            "tags": []
          },
          "execution_count": 133
        }
      ]
    },
    {
      "cell_type": "code",
      "metadata": {
        "id": "p6bFpuzW1CsB",
        "outputId": "62ca1faa-33c7-467d-acab-4e955dfae8b4",
        "colab": {
          "base_uri": "https://localhost:8080/"
        }
      },
      "source": [
        "data.loc['Colorado', ['two', 'three']]"
      ],
      "execution_count": 134,
      "outputs": [
        {
          "output_type": "execute_result",
          "data": {
            "text/plain": [
              "two      5\n",
              "three    6\n",
              "Name: Colorado, dtype: int64"
            ]
          },
          "metadata": {
            "tags": []
          },
          "execution_count": 134
        }
      ]
    },
    {
      "cell_type": "code",
      "metadata": {
        "id": "UtvbN9On1CsB",
        "outputId": "086f7705-33a1-40cb-c289-aafaa2204703",
        "colab": {
          "base_uri": "https://localhost:8080/"
        }
      },
      "source": [
        "data.iloc[2, [3, 0, 1]]"
      ],
      "execution_count": 135,
      "outputs": [
        {
          "output_type": "execute_result",
          "data": {
            "text/plain": [
              "four    11\n",
              "one      8\n",
              "two      9\n",
              "Name: Utah, dtype: int64"
            ]
          },
          "metadata": {
            "tags": []
          },
          "execution_count": 135
        }
      ]
    },
    {
      "cell_type": "code",
      "metadata": {
        "id": "tfVEVUqe1CsB",
        "outputId": "cb680085-3f45-48e5-e94d-851a3edad145",
        "colab": {
          "base_uri": "https://localhost:8080/"
        }
      },
      "source": [
        "data.iloc[2]"
      ],
      "execution_count": 136,
      "outputs": [
        {
          "output_type": "execute_result",
          "data": {
            "text/plain": [
              "one       8\n",
              "two       9\n",
              "three    10\n",
              "four     11\n",
              "Name: Utah, dtype: int64"
            ]
          },
          "metadata": {
            "tags": []
          },
          "execution_count": 136
        }
      ]
    },
    {
      "cell_type": "code",
      "metadata": {
        "id": "tC0x2M171CsC",
        "outputId": "a106ec69-3ec7-4b3f-e118-402748781070",
        "colab": {
          "base_uri": "https://localhost:8080/",
          "height": 110
        }
      },
      "source": [
        "data.iloc[[1, 2], [3, 0, 1]]"
      ],
      "execution_count": 137,
      "outputs": [
        {
          "output_type": "execute_result",
          "data": {
            "text/html": [
              "<div>\n",
              "<style scoped>\n",
              "    .dataframe tbody tr th:only-of-type {\n",
              "        vertical-align: middle;\n",
              "    }\n",
              "\n",
              "    .dataframe tbody tr th {\n",
              "        vertical-align: top;\n",
              "    }\n",
              "\n",
              "    .dataframe thead th {\n",
              "        text-align: right;\n",
              "    }\n",
              "</style>\n",
              "<table border=\"1\" class=\"dataframe\">\n",
              "  <thead>\n",
              "    <tr style=\"text-align: right;\">\n",
              "      <th></th>\n",
              "      <th>four</th>\n",
              "      <th>one</th>\n",
              "      <th>two</th>\n",
              "    </tr>\n",
              "  </thead>\n",
              "  <tbody>\n",
              "    <tr>\n",
              "      <th>Colorado</th>\n",
              "      <td>7</td>\n",
              "      <td>0</td>\n",
              "      <td>5</td>\n",
              "    </tr>\n",
              "    <tr>\n",
              "      <th>Utah</th>\n",
              "      <td>11</td>\n",
              "      <td>8</td>\n",
              "      <td>9</td>\n",
              "    </tr>\n",
              "  </tbody>\n",
              "</table>\n",
              "</div>"
            ],
            "text/plain": [
              "          four  one  two\n",
              "Colorado     7    0    5\n",
              "Utah        11    8    9"
            ]
          },
          "metadata": {
            "tags": []
          },
          "execution_count": 137
        }
      ]
    },
    {
      "cell_type": "code",
      "metadata": {
        "id": "9ic7wo9f1CsC",
        "outputId": "1680b543-8d6f-4994-db88-f421525669a7",
        "colab": {
          "base_uri": "https://localhost:8080/"
        }
      },
      "source": [
        "data.loc[:'Utah', 'two']"
      ],
      "execution_count": 138,
      "outputs": [
        {
          "output_type": "execute_result",
          "data": {
            "text/plain": [
              "Ohio        0\n",
              "Colorado    5\n",
              "Utah        9\n",
              "Name: two, dtype: int64"
            ]
          },
          "metadata": {
            "tags": []
          },
          "execution_count": 138
        }
      ]
    },
    {
      "cell_type": "code",
      "metadata": {
        "id": "Dsthuyoe1CsC",
        "outputId": "ce535571-8ffa-4c7a-a7ab-5710be247b16",
        "colab": {
          "base_uri": "https://localhost:8080/",
          "height": 172
        }
      },
      "source": [
        "data.iloc[:, :3]"
      ],
      "execution_count": 139,
      "outputs": [
        {
          "output_type": "execute_result",
          "data": {
            "text/html": [
              "<div>\n",
              "<style scoped>\n",
              "    .dataframe tbody tr th:only-of-type {\n",
              "        vertical-align: middle;\n",
              "    }\n",
              "\n",
              "    .dataframe tbody tr th {\n",
              "        vertical-align: top;\n",
              "    }\n",
              "\n",
              "    .dataframe thead th {\n",
              "        text-align: right;\n",
              "    }\n",
              "</style>\n",
              "<table border=\"1\" class=\"dataframe\">\n",
              "  <thead>\n",
              "    <tr style=\"text-align: right;\">\n",
              "      <th></th>\n",
              "      <th>one</th>\n",
              "      <th>two</th>\n",
              "      <th>three</th>\n",
              "    </tr>\n",
              "  </thead>\n",
              "  <tbody>\n",
              "    <tr>\n",
              "      <th>Ohio</th>\n",
              "      <td>0</td>\n",
              "      <td>0</td>\n",
              "      <td>0</td>\n",
              "    </tr>\n",
              "    <tr>\n",
              "      <th>Colorado</th>\n",
              "      <td>0</td>\n",
              "      <td>5</td>\n",
              "      <td>6</td>\n",
              "    </tr>\n",
              "    <tr>\n",
              "      <th>Utah</th>\n",
              "      <td>8</td>\n",
              "      <td>9</td>\n",
              "      <td>10</td>\n",
              "    </tr>\n",
              "    <tr>\n",
              "      <th>New York</th>\n",
              "      <td>12</td>\n",
              "      <td>13</td>\n",
              "      <td>14</td>\n",
              "    </tr>\n",
              "  </tbody>\n",
              "</table>\n",
              "</div>"
            ],
            "text/plain": [
              "          one  two  three\n",
              "Ohio        0    0      0\n",
              "Colorado    0    5      6\n",
              "Utah        8    9     10\n",
              "New York   12   13     14"
            ]
          },
          "metadata": {
            "tags": []
          },
          "execution_count": 139
        }
      ]
    },
    {
      "cell_type": "code",
      "metadata": {
        "id": "GVZdh2Uy1CsC",
        "outputId": "17152c13-da0f-4feb-e490-ca598e3974e5",
        "colab": {
          "base_uri": "https://localhost:8080/",
          "height": 141
        }
      },
      "source": [
        "data.iloc[:, :3][data.three > 5]"
      ],
      "execution_count": 140,
      "outputs": [
        {
          "output_type": "execute_result",
          "data": {
            "text/html": [
              "<div>\n",
              "<style scoped>\n",
              "    .dataframe tbody tr th:only-of-type {\n",
              "        vertical-align: middle;\n",
              "    }\n",
              "\n",
              "    .dataframe tbody tr th {\n",
              "        vertical-align: top;\n",
              "    }\n",
              "\n",
              "    .dataframe thead th {\n",
              "        text-align: right;\n",
              "    }\n",
              "</style>\n",
              "<table border=\"1\" class=\"dataframe\">\n",
              "  <thead>\n",
              "    <tr style=\"text-align: right;\">\n",
              "      <th></th>\n",
              "      <th>one</th>\n",
              "      <th>two</th>\n",
              "      <th>three</th>\n",
              "    </tr>\n",
              "  </thead>\n",
              "  <tbody>\n",
              "    <tr>\n",
              "      <th>Colorado</th>\n",
              "      <td>0</td>\n",
              "      <td>5</td>\n",
              "      <td>6</td>\n",
              "    </tr>\n",
              "    <tr>\n",
              "      <th>Utah</th>\n",
              "      <td>8</td>\n",
              "      <td>9</td>\n",
              "      <td>10</td>\n",
              "    </tr>\n",
              "    <tr>\n",
              "      <th>New York</th>\n",
              "      <td>12</td>\n",
              "      <td>13</td>\n",
              "      <td>14</td>\n",
              "    </tr>\n",
              "  </tbody>\n",
              "</table>\n",
              "</div>"
            ],
            "text/plain": [
              "          one  two  three\n",
              "Colorado    0    5      6\n",
              "Utah        8    9     10\n",
              "New York   12   13     14"
            ]
          },
          "metadata": {
            "tags": []
          },
          "execution_count": 140
        }
      ]
    },
    {
      "cell_type": "markdown",
      "metadata": {
        "id": "u-dqnQll1CsC"
      },
      "source": [
        "### Integer Indexes"
      ]
    },
    {
      "cell_type": "markdown",
      "metadata": {
        "id": "pEHxdF1Q1CsC"
      },
      "source": [
        "ser = pd.Series(np.arange(3.))\n",
        "ser\n",
        "ser[-1]"
      ]
    },
    {
      "cell_type": "code",
      "metadata": {
        "id": "FxCwr1og1CsC"
      },
      "source": [
        "ser = pd.Series(np.arange(3.))\n",
        "ser"
      ],
      "execution_count": null,
      "outputs": []
    },
    {
      "cell_type": "code",
      "metadata": {
        "id": "Ujf0aGog1CsC"
      },
      "source": [
        "ser[0]\n",
        "#ser[-1] # 색인 자체가 정수, -1을 라벨로 인지하고 검색, 오류 발생"
      ],
      "execution_count": null,
      "outputs": []
    },
    {
      "cell_type": "code",
      "metadata": {
        "id": "epe8fbXr1CsD"
      },
      "source": [
        "ser2 = pd.Series(np.arange(3.), index=['a', 'b', 'c'])\n",
        "ser2[-1]"
      ],
      "execution_count": null,
      "outputs": []
    },
    {
      "cell_type": "code",
      "metadata": {
        "id": "ok23Hho81CsD"
      },
      "source": [
        "ser[:1]"
      ],
      "execution_count": null,
      "outputs": []
    },
    {
      "cell_type": "code",
      "metadata": {
        "id": "c9Nz3jov1CsD"
      },
      "source": [
        "ser.loc[:1]"
      ],
      "execution_count": null,
      "outputs": []
    },
    {
      "cell_type": "code",
      "metadata": {
        "id": "lnimBuZl1CsD"
      },
      "source": [
        "ser.iloc[:1]"
      ],
      "execution_count": null,
      "outputs": []
    },
    {
      "cell_type": "markdown",
      "metadata": {
        "id": "V_P9Qz1x1CsD"
      },
      "source": [
        "### Arithmetic and Data Alignment"
      ]
    },
    {
      "cell_type": "code",
      "metadata": {
        "id": "1X7MHw0j1CsD",
        "outputId": "663e56df-6fe6-491b-c775-7f4378ecf661",
        "colab": {
          "base_uri": "https://localhost:8080/"
        }
      },
      "source": [
        "s1 = pd.Series([7.3, -2.5, 3.4, 1.5], index=['a', 'c', 'd', 'e'])\n",
        "s2 = pd.Series([-2.1, 3.6, -1.5, 4, 3.1],\n",
        "               index=['a', 'c', 'e', 'f', 'g'])\n",
        "s1"
      ],
      "execution_count": 141,
      "outputs": [
        {
          "output_type": "execute_result",
          "data": {
            "text/plain": [
              "a    7.3\n",
              "c   -2.5\n",
              "d    3.4\n",
              "e    1.5\n",
              "dtype: float64"
            ]
          },
          "metadata": {
            "tags": []
          },
          "execution_count": 141
        }
      ]
    },
    {
      "cell_type": "code",
      "metadata": {
        "id": "cqlH9NcM1CsD",
        "outputId": "686c5e84-6608-4af6-a35b-b4bcb7c56015",
        "colab": {
          "base_uri": "https://localhost:8080/"
        }
      },
      "source": [
        "s2"
      ],
      "execution_count": 142,
      "outputs": [
        {
          "output_type": "execute_result",
          "data": {
            "text/plain": [
              "a   -2.1\n",
              "c    3.6\n",
              "e   -1.5\n",
              "f    4.0\n",
              "g    3.1\n",
              "dtype: float64"
            ]
          },
          "metadata": {
            "tags": []
          },
          "execution_count": 142
        }
      ]
    },
    {
      "cell_type": "code",
      "metadata": {
        "id": "TzqEntoi1CsD",
        "outputId": "4f1c160f-dd08-4ebb-fc58-af188818a241",
        "colab": {
          "base_uri": "https://localhost:8080/"
        }
      },
      "source": [
        "s1 + s2"
      ],
      "execution_count": 143,
      "outputs": [
        {
          "output_type": "execute_result",
          "data": {
            "text/plain": [
              "a    5.2\n",
              "c    1.1\n",
              "d    NaN\n",
              "e    0.0\n",
              "f    NaN\n",
              "g    NaN\n",
              "dtype: float64"
            ]
          },
          "metadata": {
            "tags": []
          },
          "execution_count": 143
        }
      ]
    },
    {
      "cell_type": "code",
      "metadata": {
        "id": "Ijw7OFVQ1CsE",
        "outputId": "227da84e-c0b9-4b99-a815-1b619403813f",
        "colab": {
          "base_uri": "https://localhost:8080/",
          "height": 141
        }
      },
      "source": [
        "df1 = pd.DataFrame(np.arange(9.).reshape((3, 3)), columns=list('bcd'),\n",
        "                   index=['Ohio', 'Texas', 'Colorado'])\n",
        "df2 = pd.DataFrame(np.arange(12.).reshape((4, 3)), columns=list('bde'),\n",
        "                   index=['Utah', 'Ohio', 'Texas', 'Oregon'])\n",
        "df1"
      ],
      "execution_count": 144,
      "outputs": [
        {
          "output_type": "execute_result",
          "data": {
            "text/html": [
              "<div>\n",
              "<style scoped>\n",
              "    .dataframe tbody tr th:only-of-type {\n",
              "        vertical-align: middle;\n",
              "    }\n",
              "\n",
              "    .dataframe tbody tr th {\n",
              "        vertical-align: top;\n",
              "    }\n",
              "\n",
              "    .dataframe thead th {\n",
              "        text-align: right;\n",
              "    }\n",
              "</style>\n",
              "<table border=\"1\" class=\"dataframe\">\n",
              "  <thead>\n",
              "    <tr style=\"text-align: right;\">\n",
              "      <th></th>\n",
              "      <th>b</th>\n",
              "      <th>c</th>\n",
              "      <th>d</th>\n",
              "    </tr>\n",
              "  </thead>\n",
              "  <tbody>\n",
              "    <tr>\n",
              "      <th>Ohio</th>\n",
              "      <td>0.0</td>\n",
              "      <td>1.0</td>\n",
              "      <td>2.0</td>\n",
              "    </tr>\n",
              "    <tr>\n",
              "      <th>Texas</th>\n",
              "      <td>3.0</td>\n",
              "      <td>4.0</td>\n",
              "      <td>5.0</td>\n",
              "    </tr>\n",
              "    <tr>\n",
              "      <th>Colorado</th>\n",
              "      <td>6.0</td>\n",
              "      <td>7.0</td>\n",
              "      <td>8.0</td>\n",
              "    </tr>\n",
              "  </tbody>\n",
              "</table>\n",
              "</div>"
            ],
            "text/plain": [
              "            b    c    d\n",
              "Ohio      0.0  1.0  2.0\n",
              "Texas     3.0  4.0  5.0\n",
              "Colorado  6.0  7.0  8.0"
            ]
          },
          "metadata": {
            "tags": []
          },
          "execution_count": 144
        }
      ]
    },
    {
      "cell_type": "code",
      "metadata": {
        "id": "PloM4ELE1CsE",
        "outputId": "1289f8ce-93ff-43f2-cbf8-012f0a1e3783",
        "colab": {
          "base_uri": "https://localhost:8080/",
          "height": 172
        }
      },
      "source": [
        "df2"
      ],
      "execution_count": 145,
      "outputs": [
        {
          "output_type": "execute_result",
          "data": {
            "text/html": [
              "<div>\n",
              "<style scoped>\n",
              "    .dataframe tbody tr th:only-of-type {\n",
              "        vertical-align: middle;\n",
              "    }\n",
              "\n",
              "    .dataframe tbody tr th {\n",
              "        vertical-align: top;\n",
              "    }\n",
              "\n",
              "    .dataframe thead th {\n",
              "        text-align: right;\n",
              "    }\n",
              "</style>\n",
              "<table border=\"1\" class=\"dataframe\">\n",
              "  <thead>\n",
              "    <tr style=\"text-align: right;\">\n",
              "      <th></th>\n",
              "      <th>b</th>\n",
              "      <th>d</th>\n",
              "      <th>e</th>\n",
              "    </tr>\n",
              "  </thead>\n",
              "  <tbody>\n",
              "    <tr>\n",
              "      <th>Utah</th>\n",
              "      <td>0.0</td>\n",
              "      <td>1.0</td>\n",
              "      <td>2.0</td>\n",
              "    </tr>\n",
              "    <tr>\n",
              "      <th>Ohio</th>\n",
              "      <td>3.0</td>\n",
              "      <td>4.0</td>\n",
              "      <td>5.0</td>\n",
              "    </tr>\n",
              "    <tr>\n",
              "      <th>Texas</th>\n",
              "      <td>6.0</td>\n",
              "      <td>7.0</td>\n",
              "      <td>8.0</td>\n",
              "    </tr>\n",
              "    <tr>\n",
              "      <th>Oregon</th>\n",
              "      <td>9.0</td>\n",
              "      <td>10.0</td>\n",
              "      <td>11.0</td>\n",
              "    </tr>\n",
              "  </tbody>\n",
              "</table>\n",
              "</div>"
            ],
            "text/plain": [
              "          b     d     e\n",
              "Utah    0.0   1.0   2.0\n",
              "Ohio    3.0   4.0   5.0\n",
              "Texas   6.0   7.0   8.0\n",
              "Oregon  9.0  10.0  11.0"
            ]
          },
          "metadata": {
            "tags": []
          },
          "execution_count": 145
        }
      ]
    },
    {
      "cell_type": "code",
      "metadata": {
        "id": "HrghN0MI1CsE",
        "outputId": "437c3786-85b5-4fc4-9d6d-eeca84148e24",
        "colab": {
          "base_uri": "https://localhost:8080/",
          "height": 203
        }
      },
      "source": [
        "df1 + df2"
      ],
      "execution_count": 146,
      "outputs": [
        {
          "output_type": "execute_result",
          "data": {
            "text/html": [
              "<div>\n",
              "<style scoped>\n",
              "    .dataframe tbody tr th:only-of-type {\n",
              "        vertical-align: middle;\n",
              "    }\n",
              "\n",
              "    .dataframe tbody tr th {\n",
              "        vertical-align: top;\n",
              "    }\n",
              "\n",
              "    .dataframe thead th {\n",
              "        text-align: right;\n",
              "    }\n",
              "</style>\n",
              "<table border=\"1\" class=\"dataframe\">\n",
              "  <thead>\n",
              "    <tr style=\"text-align: right;\">\n",
              "      <th></th>\n",
              "      <th>b</th>\n",
              "      <th>c</th>\n",
              "      <th>d</th>\n",
              "      <th>e</th>\n",
              "    </tr>\n",
              "  </thead>\n",
              "  <tbody>\n",
              "    <tr>\n",
              "      <th>Colorado</th>\n",
              "      <td>NaN</td>\n",
              "      <td>NaN</td>\n",
              "      <td>NaN</td>\n",
              "      <td>NaN</td>\n",
              "    </tr>\n",
              "    <tr>\n",
              "      <th>Ohio</th>\n",
              "      <td>3.0</td>\n",
              "      <td>NaN</td>\n",
              "      <td>6.0</td>\n",
              "      <td>NaN</td>\n",
              "    </tr>\n",
              "    <tr>\n",
              "      <th>Oregon</th>\n",
              "      <td>NaN</td>\n",
              "      <td>NaN</td>\n",
              "      <td>NaN</td>\n",
              "      <td>NaN</td>\n",
              "    </tr>\n",
              "    <tr>\n",
              "      <th>Texas</th>\n",
              "      <td>9.0</td>\n",
              "      <td>NaN</td>\n",
              "      <td>12.0</td>\n",
              "      <td>NaN</td>\n",
              "    </tr>\n",
              "    <tr>\n",
              "      <th>Utah</th>\n",
              "      <td>NaN</td>\n",
              "      <td>NaN</td>\n",
              "      <td>NaN</td>\n",
              "      <td>NaN</td>\n",
              "    </tr>\n",
              "  </tbody>\n",
              "</table>\n",
              "</div>"
            ],
            "text/plain": [
              "            b   c     d   e\n",
              "Colorado  NaN NaN   NaN NaN\n",
              "Ohio      3.0 NaN   6.0 NaN\n",
              "Oregon    NaN NaN   NaN NaN\n",
              "Texas     9.0 NaN  12.0 NaN\n",
              "Utah      NaN NaN   NaN NaN"
            ]
          },
          "metadata": {
            "tags": []
          },
          "execution_count": 146
        }
      ]
    },
    {
      "cell_type": "code",
      "metadata": {
        "id": "1Q8lCnl_1CsE",
        "outputId": "cdff4ce0-486a-4072-c67a-fea959e84115",
        "colab": {
          "base_uri": "https://localhost:8080/",
          "height": 110
        }
      },
      "source": [
        "df1 = pd.DataFrame({'A': [1, 2]})\n",
        "df2 = pd.DataFrame({'B': [3, 4]})\n",
        "df1"
      ],
      "execution_count": 147,
      "outputs": [
        {
          "output_type": "execute_result",
          "data": {
            "text/html": [
              "<div>\n",
              "<style scoped>\n",
              "    .dataframe tbody tr th:only-of-type {\n",
              "        vertical-align: middle;\n",
              "    }\n",
              "\n",
              "    .dataframe tbody tr th {\n",
              "        vertical-align: top;\n",
              "    }\n",
              "\n",
              "    .dataframe thead th {\n",
              "        text-align: right;\n",
              "    }\n",
              "</style>\n",
              "<table border=\"1\" class=\"dataframe\">\n",
              "  <thead>\n",
              "    <tr style=\"text-align: right;\">\n",
              "      <th></th>\n",
              "      <th>A</th>\n",
              "    </tr>\n",
              "  </thead>\n",
              "  <tbody>\n",
              "    <tr>\n",
              "      <th>0</th>\n",
              "      <td>1</td>\n",
              "    </tr>\n",
              "    <tr>\n",
              "      <th>1</th>\n",
              "      <td>2</td>\n",
              "    </tr>\n",
              "  </tbody>\n",
              "</table>\n",
              "</div>"
            ],
            "text/plain": [
              "   A\n",
              "0  1\n",
              "1  2"
            ]
          },
          "metadata": {
            "tags": []
          },
          "execution_count": 147
        }
      ]
    },
    {
      "cell_type": "code",
      "metadata": {
        "id": "T90aPqP51CsE",
        "outputId": "2e82169d-fd80-47ee-ef8e-4de49d83e184",
        "colab": {
          "base_uri": "https://localhost:8080/",
          "height": 110
        }
      },
      "source": [
        "df2"
      ],
      "execution_count": 148,
      "outputs": [
        {
          "output_type": "execute_result",
          "data": {
            "text/html": [
              "<div>\n",
              "<style scoped>\n",
              "    .dataframe tbody tr th:only-of-type {\n",
              "        vertical-align: middle;\n",
              "    }\n",
              "\n",
              "    .dataframe tbody tr th {\n",
              "        vertical-align: top;\n",
              "    }\n",
              "\n",
              "    .dataframe thead th {\n",
              "        text-align: right;\n",
              "    }\n",
              "</style>\n",
              "<table border=\"1\" class=\"dataframe\">\n",
              "  <thead>\n",
              "    <tr style=\"text-align: right;\">\n",
              "      <th></th>\n",
              "      <th>B</th>\n",
              "    </tr>\n",
              "  </thead>\n",
              "  <tbody>\n",
              "    <tr>\n",
              "      <th>0</th>\n",
              "      <td>3</td>\n",
              "    </tr>\n",
              "    <tr>\n",
              "      <th>1</th>\n",
              "      <td>4</td>\n",
              "    </tr>\n",
              "  </tbody>\n",
              "</table>\n",
              "</div>"
            ],
            "text/plain": [
              "   B\n",
              "0  3\n",
              "1  4"
            ]
          },
          "metadata": {
            "tags": []
          },
          "execution_count": 148
        }
      ]
    },
    {
      "cell_type": "code",
      "metadata": {
        "id": "mcEQf6Bf1CsE",
        "outputId": "1fa37505-5c53-4ef9-c6d0-eeabe8ae3672",
        "colab": {
          "base_uri": "https://localhost:8080/",
          "height": 110
        }
      },
      "source": [
        "df1 - df2"
      ],
      "execution_count": 149,
      "outputs": [
        {
          "output_type": "execute_result",
          "data": {
            "text/html": [
              "<div>\n",
              "<style scoped>\n",
              "    .dataframe tbody tr th:only-of-type {\n",
              "        vertical-align: middle;\n",
              "    }\n",
              "\n",
              "    .dataframe tbody tr th {\n",
              "        vertical-align: top;\n",
              "    }\n",
              "\n",
              "    .dataframe thead th {\n",
              "        text-align: right;\n",
              "    }\n",
              "</style>\n",
              "<table border=\"1\" class=\"dataframe\">\n",
              "  <thead>\n",
              "    <tr style=\"text-align: right;\">\n",
              "      <th></th>\n",
              "      <th>A</th>\n",
              "      <th>B</th>\n",
              "    </tr>\n",
              "  </thead>\n",
              "  <tbody>\n",
              "    <tr>\n",
              "      <th>0</th>\n",
              "      <td>NaN</td>\n",
              "      <td>NaN</td>\n",
              "    </tr>\n",
              "    <tr>\n",
              "      <th>1</th>\n",
              "      <td>NaN</td>\n",
              "      <td>NaN</td>\n",
              "    </tr>\n",
              "  </tbody>\n",
              "</table>\n",
              "</div>"
            ],
            "text/plain": [
              "    A   B\n",
              "0 NaN NaN\n",
              "1 NaN NaN"
            ]
          },
          "metadata": {
            "tags": []
          },
          "execution_count": 149
        }
      ]
    },
    {
      "cell_type": "markdown",
      "metadata": {
        "id": "j23Hb2oP1CsE"
      },
      "source": [
        "#### Arithmetic methods with fill values"
      ]
    },
    {
      "cell_type": "code",
      "metadata": {
        "id": "OXLMEjxS1CsF",
        "outputId": "67c4870a-95e3-4507-ba21-a4f55c12378f",
        "colab": {
          "base_uri": "https://localhost:8080/",
          "height": 141
        }
      },
      "source": [
        "df1 = pd.DataFrame(np.arange(12.).reshape((3, 4)),\n",
        "                   columns=list('abcd'))\n",
        "df1"
      ],
      "execution_count": 150,
      "outputs": [
        {
          "output_type": "execute_result",
          "data": {
            "text/html": [
              "<div>\n",
              "<style scoped>\n",
              "    .dataframe tbody tr th:only-of-type {\n",
              "        vertical-align: middle;\n",
              "    }\n",
              "\n",
              "    .dataframe tbody tr th {\n",
              "        vertical-align: top;\n",
              "    }\n",
              "\n",
              "    .dataframe thead th {\n",
              "        text-align: right;\n",
              "    }\n",
              "</style>\n",
              "<table border=\"1\" class=\"dataframe\">\n",
              "  <thead>\n",
              "    <tr style=\"text-align: right;\">\n",
              "      <th></th>\n",
              "      <th>a</th>\n",
              "      <th>b</th>\n",
              "      <th>c</th>\n",
              "      <th>d</th>\n",
              "    </tr>\n",
              "  </thead>\n",
              "  <tbody>\n",
              "    <tr>\n",
              "      <th>0</th>\n",
              "      <td>0.0</td>\n",
              "      <td>1.0</td>\n",
              "      <td>2.0</td>\n",
              "      <td>3.0</td>\n",
              "    </tr>\n",
              "    <tr>\n",
              "      <th>1</th>\n",
              "      <td>4.0</td>\n",
              "      <td>5.0</td>\n",
              "      <td>6.0</td>\n",
              "      <td>7.0</td>\n",
              "    </tr>\n",
              "    <tr>\n",
              "      <th>2</th>\n",
              "      <td>8.0</td>\n",
              "      <td>9.0</td>\n",
              "      <td>10.0</td>\n",
              "      <td>11.0</td>\n",
              "    </tr>\n",
              "  </tbody>\n",
              "</table>\n",
              "</div>"
            ],
            "text/plain": [
              "     a    b     c     d\n",
              "0  0.0  1.0   2.0   3.0\n",
              "1  4.0  5.0   6.0   7.0\n",
              "2  8.0  9.0  10.0  11.0"
            ]
          },
          "metadata": {
            "tags": []
          },
          "execution_count": 150
        }
      ]
    },
    {
      "cell_type": "code",
      "metadata": {
        "id": "EFtgrcFV1CsF",
        "outputId": "3e66c41e-c376-4545-940c-8d965a03e5b9",
        "colab": {
          "base_uri": "https://localhost:8080/",
          "height": 172
        }
      },
      "source": [
        "df2 = pd.DataFrame(np.arange(20.).reshape((4, 5)),\n",
        "                   columns=list('abcde'))\n",
        "df2.loc[1, 'b'] = np.nan\n",
        "df2"
      ],
      "execution_count": 151,
      "outputs": [
        {
          "output_type": "execute_result",
          "data": {
            "text/html": [
              "<div>\n",
              "<style scoped>\n",
              "    .dataframe tbody tr th:only-of-type {\n",
              "        vertical-align: middle;\n",
              "    }\n",
              "\n",
              "    .dataframe tbody tr th {\n",
              "        vertical-align: top;\n",
              "    }\n",
              "\n",
              "    .dataframe thead th {\n",
              "        text-align: right;\n",
              "    }\n",
              "</style>\n",
              "<table border=\"1\" class=\"dataframe\">\n",
              "  <thead>\n",
              "    <tr style=\"text-align: right;\">\n",
              "      <th></th>\n",
              "      <th>a</th>\n",
              "      <th>b</th>\n",
              "      <th>c</th>\n",
              "      <th>d</th>\n",
              "      <th>e</th>\n",
              "    </tr>\n",
              "  </thead>\n",
              "  <tbody>\n",
              "    <tr>\n",
              "      <th>0</th>\n",
              "      <td>0.0</td>\n",
              "      <td>1.0</td>\n",
              "      <td>2.0</td>\n",
              "      <td>3.0</td>\n",
              "      <td>4.0</td>\n",
              "    </tr>\n",
              "    <tr>\n",
              "      <th>1</th>\n",
              "      <td>5.0</td>\n",
              "      <td>NaN</td>\n",
              "      <td>7.0</td>\n",
              "      <td>8.0</td>\n",
              "      <td>9.0</td>\n",
              "    </tr>\n",
              "    <tr>\n",
              "      <th>2</th>\n",
              "      <td>10.0</td>\n",
              "      <td>11.0</td>\n",
              "      <td>12.0</td>\n",
              "      <td>13.0</td>\n",
              "      <td>14.0</td>\n",
              "    </tr>\n",
              "    <tr>\n",
              "      <th>3</th>\n",
              "      <td>15.0</td>\n",
              "      <td>16.0</td>\n",
              "      <td>17.0</td>\n",
              "      <td>18.0</td>\n",
              "      <td>19.0</td>\n",
              "    </tr>\n",
              "  </tbody>\n",
              "</table>\n",
              "</div>"
            ],
            "text/plain": [
              "      a     b     c     d     e\n",
              "0   0.0   1.0   2.0   3.0   4.0\n",
              "1   5.0   NaN   7.0   8.0   9.0\n",
              "2  10.0  11.0  12.0  13.0  14.0\n",
              "3  15.0  16.0  17.0  18.0  19.0"
            ]
          },
          "metadata": {
            "tags": []
          },
          "execution_count": 151
        }
      ]
    },
    {
      "cell_type": "code",
      "metadata": {
        "id": "A43UUPJR1CsF",
        "outputId": "8ab82996-770b-419b-ee37-5924a475f2b6",
        "colab": {
          "base_uri": "https://localhost:8080/",
          "height": 172
        }
      },
      "source": [
        "df1 + df2"
      ],
      "execution_count": 152,
      "outputs": [
        {
          "output_type": "execute_result",
          "data": {
            "text/html": [
              "<div>\n",
              "<style scoped>\n",
              "    .dataframe tbody tr th:only-of-type {\n",
              "        vertical-align: middle;\n",
              "    }\n",
              "\n",
              "    .dataframe tbody tr th {\n",
              "        vertical-align: top;\n",
              "    }\n",
              "\n",
              "    .dataframe thead th {\n",
              "        text-align: right;\n",
              "    }\n",
              "</style>\n",
              "<table border=\"1\" class=\"dataframe\">\n",
              "  <thead>\n",
              "    <tr style=\"text-align: right;\">\n",
              "      <th></th>\n",
              "      <th>a</th>\n",
              "      <th>b</th>\n",
              "      <th>c</th>\n",
              "      <th>d</th>\n",
              "      <th>e</th>\n",
              "    </tr>\n",
              "  </thead>\n",
              "  <tbody>\n",
              "    <tr>\n",
              "      <th>0</th>\n",
              "      <td>0.0</td>\n",
              "      <td>2.0</td>\n",
              "      <td>4.0</td>\n",
              "      <td>6.0</td>\n",
              "      <td>NaN</td>\n",
              "    </tr>\n",
              "    <tr>\n",
              "      <th>1</th>\n",
              "      <td>9.0</td>\n",
              "      <td>NaN</td>\n",
              "      <td>13.0</td>\n",
              "      <td>15.0</td>\n",
              "      <td>NaN</td>\n",
              "    </tr>\n",
              "    <tr>\n",
              "      <th>2</th>\n",
              "      <td>18.0</td>\n",
              "      <td>20.0</td>\n",
              "      <td>22.0</td>\n",
              "      <td>24.0</td>\n",
              "      <td>NaN</td>\n",
              "    </tr>\n",
              "    <tr>\n",
              "      <th>3</th>\n",
              "      <td>NaN</td>\n",
              "      <td>NaN</td>\n",
              "      <td>NaN</td>\n",
              "      <td>NaN</td>\n",
              "      <td>NaN</td>\n",
              "    </tr>\n",
              "  </tbody>\n",
              "</table>\n",
              "</div>"
            ],
            "text/plain": [
              "      a     b     c     d   e\n",
              "0   0.0   2.0   4.0   6.0 NaN\n",
              "1   9.0   NaN  13.0  15.0 NaN\n",
              "2  18.0  20.0  22.0  24.0 NaN\n",
              "3   NaN   NaN   NaN   NaN NaN"
            ]
          },
          "metadata": {
            "tags": []
          },
          "execution_count": 152
        }
      ]
    },
    {
      "cell_type": "code",
      "metadata": {
        "id": "2Py7ly-F1CsF",
        "outputId": "7f9368ad-85e2-4bf2-ea46-ac4c61ec46a5",
        "colab": {
          "base_uri": "https://localhost:8080/",
          "height": 172
        }
      },
      "source": [
        "df1.add(df2, fill_value=0)"
      ],
      "execution_count": 153,
      "outputs": [
        {
          "output_type": "execute_result",
          "data": {
            "text/html": [
              "<div>\n",
              "<style scoped>\n",
              "    .dataframe tbody tr th:only-of-type {\n",
              "        vertical-align: middle;\n",
              "    }\n",
              "\n",
              "    .dataframe tbody tr th {\n",
              "        vertical-align: top;\n",
              "    }\n",
              "\n",
              "    .dataframe thead th {\n",
              "        text-align: right;\n",
              "    }\n",
              "</style>\n",
              "<table border=\"1\" class=\"dataframe\">\n",
              "  <thead>\n",
              "    <tr style=\"text-align: right;\">\n",
              "      <th></th>\n",
              "      <th>a</th>\n",
              "      <th>b</th>\n",
              "      <th>c</th>\n",
              "      <th>d</th>\n",
              "      <th>e</th>\n",
              "    </tr>\n",
              "  </thead>\n",
              "  <tbody>\n",
              "    <tr>\n",
              "      <th>0</th>\n",
              "      <td>0.0</td>\n",
              "      <td>2.0</td>\n",
              "      <td>4.0</td>\n",
              "      <td>6.0</td>\n",
              "      <td>4.0</td>\n",
              "    </tr>\n",
              "    <tr>\n",
              "      <th>1</th>\n",
              "      <td>9.0</td>\n",
              "      <td>5.0</td>\n",
              "      <td>13.0</td>\n",
              "      <td>15.0</td>\n",
              "      <td>9.0</td>\n",
              "    </tr>\n",
              "    <tr>\n",
              "      <th>2</th>\n",
              "      <td>18.0</td>\n",
              "      <td>20.0</td>\n",
              "      <td>22.0</td>\n",
              "      <td>24.0</td>\n",
              "      <td>14.0</td>\n",
              "    </tr>\n",
              "    <tr>\n",
              "      <th>3</th>\n",
              "      <td>15.0</td>\n",
              "      <td>16.0</td>\n",
              "      <td>17.0</td>\n",
              "      <td>18.0</td>\n",
              "      <td>19.0</td>\n",
              "    </tr>\n",
              "  </tbody>\n",
              "</table>\n",
              "</div>"
            ],
            "text/plain": [
              "      a     b     c     d     e\n",
              "0   0.0   2.0   4.0   6.0   4.0\n",
              "1   9.0   5.0  13.0  15.0   9.0\n",
              "2  18.0  20.0  22.0  24.0  14.0\n",
              "3  15.0  16.0  17.0  18.0  19.0"
            ]
          },
          "metadata": {
            "tags": []
          },
          "execution_count": 153
        }
      ]
    },
    {
      "cell_type": "code",
      "metadata": {
        "id": "bAFnsnjL1CsF",
        "outputId": "8c1ce284-de2d-48ec-9525-ed0e8cfc7fd2",
        "colab": {
          "base_uri": "https://localhost:8080/",
          "height": 141
        }
      },
      "source": [
        "1 / df1"
      ],
      "execution_count": 154,
      "outputs": [
        {
          "output_type": "execute_result",
          "data": {
            "text/html": [
              "<div>\n",
              "<style scoped>\n",
              "    .dataframe tbody tr th:only-of-type {\n",
              "        vertical-align: middle;\n",
              "    }\n",
              "\n",
              "    .dataframe tbody tr th {\n",
              "        vertical-align: top;\n",
              "    }\n",
              "\n",
              "    .dataframe thead th {\n",
              "        text-align: right;\n",
              "    }\n",
              "</style>\n",
              "<table border=\"1\" class=\"dataframe\">\n",
              "  <thead>\n",
              "    <tr style=\"text-align: right;\">\n",
              "      <th></th>\n",
              "      <th>a</th>\n",
              "      <th>b</th>\n",
              "      <th>c</th>\n",
              "      <th>d</th>\n",
              "    </tr>\n",
              "  </thead>\n",
              "  <tbody>\n",
              "    <tr>\n",
              "      <th>0</th>\n",
              "      <td>inf</td>\n",
              "      <td>1.000000</td>\n",
              "      <td>0.500000</td>\n",
              "      <td>0.333333</td>\n",
              "    </tr>\n",
              "    <tr>\n",
              "      <th>1</th>\n",
              "      <td>0.250</td>\n",
              "      <td>0.200000</td>\n",
              "      <td>0.166667</td>\n",
              "      <td>0.142857</td>\n",
              "    </tr>\n",
              "    <tr>\n",
              "      <th>2</th>\n",
              "      <td>0.125</td>\n",
              "      <td>0.111111</td>\n",
              "      <td>0.100000</td>\n",
              "      <td>0.090909</td>\n",
              "    </tr>\n",
              "  </tbody>\n",
              "</table>\n",
              "</div>"
            ],
            "text/plain": [
              "       a         b         c         d\n",
              "0    inf  1.000000  0.500000  0.333333\n",
              "1  0.250  0.200000  0.166667  0.142857\n",
              "2  0.125  0.111111  0.100000  0.090909"
            ]
          },
          "metadata": {
            "tags": []
          },
          "execution_count": 154
        }
      ]
    },
    {
      "cell_type": "code",
      "metadata": {
        "id": "Sxpx1BBq1CsF",
        "outputId": "ac5c662c-e913-4960-d647-4085c6429ba4",
        "colab": {
          "base_uri": "https://localhost:8080/",
          "height": 141
        }
      },
      "source": [
        "df1.rdiv(1) # 1 / df1 와 같은 연산"
      ],
      "execution_count": 155,
      "outputs": [
        {
          "output_type": "execute_result",
          "data": {
            "text/html": [
              "<div>\n",
              "<style scoped>\n",
              "    .dataframe tbody tr th:only-of-type {\n",
              "        vertical-align: middle;\n",
              "    }\n",
              "\n",
              "    .dataframe tbody tr th {\n",
              "        vertical-align: top;\n",
              "    }\n",
              "\n",
              "    .dataframe thead th {\n",
              "        text-align: right;\n",
              "    }\n",
              "</style>\n",
              "<table border=\"1\" class=\"dataframe\">\n",
              "  <thead>\n",
              "    <tr style=\"text-align: right;\">\n",
              "      <th></th>\n",
              "      <th>a</th>\n",
              "      <th>b</th>\n",
              "      <th>c</th>\n",
              "      <th>d</th>\n",
              "    </tr>\n",
              "  </thead>\n",
              "  <tbody>\n",
              "    <tr>\n",
              "      <th>0</th>\n",
              "      <td>inf</td>\n",
              "      <td>1.000000</td>\n",
              "      <td>0.500000</td>\n",
              "      <td>0.333333</td>\n",
              "    </tr>\n",
              "    <tr>\n",
              "      <th>1</th>\n",
              "      <td>0.250</td>\n",
              "      <td>0.200000</td>\n",
              "      <td>0.166667</td>\n",
              "      <td>0.142857</td>\n",
              "    </tr>\n",
              "    <tr>\n",
              "      <th>2</th>\n",
              "      <td>0.125</td>\n",
              "      <td>0.111111</td>\n",
              "      <td>0.100000</td>\n",
              "      <td>0.090909</td>\n",
              "    </tr>\n",
              "  </tbody>\n",
              "</table>\n",
              "</div>"
            ],
            "text/plain": [
              "       a         b         c         d\n",
              "0    inf  1.000000  0.500000  0.333333\n",
              "1  0.250  0.200000  0.166667  0.142857\n",
              "2  0.125  0.111111  0.100000  0.090909"
            ]
          },
          "metadata": {
            "tags": []
          },
          "execution_count": 155
        }
      ]
    },
    {
      "cell_type": "code",
      "metadata": {
        "id": "S3TmQHwj1CsG",
        "outputId": "4ee0096a-ad10-475b-802c-107f41e7b647",
        "colab": {
          "base_uri": "https://localhost:8080/",
          "height": 141
        }
      },
      "source": [
        "df1.reindex(columns=df2.columns, fill_value=0)"
      ],
      "execution_count": 156,
      "outputs": [
        {
          "output_type": "execute_result",
          "data": {
            "text/html": [
              "<div>\n",
              "<style scoped>\n",
              "    .dataframe tbody tr th:only-of-type {\n",
              "        vertical-align: middle;\n",
              "    }\n",
              "\n",
              "    .dataframe tbody tr th {\n",
              "        vertical-align: top;\n",
              "    }\n",
              "\n",
              "    .dataframe thead th {\n",
              "        text-align: right;\n",
              "    }\n",
              "</style>\n",
              "<table border=\"1\" class=\"dataframe\">\n",
              "  <thead>\n",
              "    <tr style=\"text-align: right;\">\n",
              "      <th></th>\n",
              "      <th>a</th>\n",
              "      <th>b</th>\n",
              "      <th>c</th>\n",
              "      <th>d</th>\n",
              "      <th>e</th>\n",
              "    </tr>\n",
              "  </thead>\n",
              "  <tbody>\n",
              "    <tr>\n",
              "      <th>0</th>\n",
              "      <td>0.0</td>\n",
              "      <td>1.0</td>\n",
              "      <td>2.0</td>\n",
              "      <td>3.0</td>\n",
              "      <td>0</td>\n",
              "    </tr>\n",
              "    <tr>\n",
              "      <th>1</th>\n",
              "      <td>4.0</td>\n",
              "      <td>5.0</td>\n",
              "      <td>6.0</td>\n",
              "      <td>7.0</td>\n",
              "      <td>0</td>\n",
              "    </tr>\n",
              "    <tr>\n",
              "      <th>2</th>\n",
              "      <td>8.0</td>\n",
              "      <td>9.0</td>\n",
              "      <td>10.0</td>\n",
              "      <td>11.0</td>\n",
              "      <td>0</td>\n",
              "    </tr>\n",
              "  </tbody>\n",
              "</table>\n",
              "</div>"
            ],
            "text/plain": [
              "     a    b     c     d  e\n",
              "0  0.0  1.0   2.0   3.0  0\n",
              "1  4.0  5.0   6.0   7.0  0\n",
              "2  8.0  9.0  10.0  11.0  0"
            ]
          },
          "metadata": {
            "tags": []
          },
          "execution_count": 156
        }
      ]
    },
    {
      "cell_type": "markdown",
      "metadata": {
        "id": "zcsD3OyN1CsG"
      },
      "source": [
        "#### Operations between DataFrame and Series"
      ]
    },
    {
      "cell_type": "code",
      "metadata": {
        "id": "RRgc9wRk1CsG"
      },
      "source": [
        "arr = np.arange(12.).reshape((3, 4))\n",
        "arr"
      ],
      "execution_count": null,
      "outputs": []
    },
    {
      "cell_type": "code",
      "metadata": {
        "id": "pC776NkA1CsG"
      },
      "source": [
        "arr[0]"
      ],
      "execution_count": null,
      "outputs": []
    },
    {
      "cell_type": "code",
      "metadata": {
        "id": "W0oGumNv1CsG"
      },
      "source": [
        "arr - arr[0]"
      ],
      "execution_count": null,
      "outputs": []
    },
    {
      "cell_type": "code",
      "metadata": {
        "id": "I2b7H3MF1CsG"
      },
      "source": [
        "frame = pd.DataFrame(np.arange(12.).reshape((4, 3)),\n",
        "                     columns=list('bde'),\n",
        "                     index=['Utah', 'Ohio', 'Texas', 'Oregon'])\n",
        "frame"
      ],
      "execution_count": null,
      "outputs": []
    },
    {
      "cell_type": "code",
      "metadata": {
        "id": "v_IHhjJo1CsG"
      },
      "source": [
        "series = frame.iloc[0]\n",
        "series"
      ],
      "execution_count": null,
      "outputs": []
    },
    {
      "cell_type": "code",
      "metadata": {
        "id": "y-qGxXxx1CsG"
      },
      "source": [
        "frame - series"
      ],
      "execution_count": null,
      "outputs": []
    },
    {
      "cell_type": "code",
      "metadata": {
        "id": "tbRxxizB1CsG"
      },
      "source": [
        "frame"
      ],
      "execution_count": null,
      "outputs": []
    },
    {
      "cell_type": "code",
      "metadata": {
        "id": "OPsqwzLr1CsH"
      },
      "source": [
        "series2 = pd.Series(range(3), index=['b', 'e', 'f'])\n",
        "series2"
      ],
      "execution_count": null,
      "outputs": []
    },
    {
      "cell_type": "code",
      "metadata": {
        "id": "QL5u_cAS1CsH"
      },
      "source": [
        "frame + series2"
      ],
      "execution_count": null,
      "outputs": []
    },
    {
      "cell_type": "code",
      "metadata": {
        "id": "IXfAwIIu1CsH"
      },
      "source": [
        "series3 = frame['d']\n",
        "series3"
      ],
      "execution_count": null,
      "outputs": []
    },
    {
      "cell_type": "code",
      "metadata": {
        "id": "FPsQRxDf1CsH"
      },
      "source": [
        "frame"
      ],
      "execution_count": null,
      "outputs": []
    },
    {
      "cell_type": "code",
      "metadata": {
        "id": "y58KgSn91CsH"
      },
      "source": [
        "frame.sub(series3, axis=0)"
      ],
      "execution_count": null,
      "outputs": []
    },
    {
      "cell_type": "code",
      "metadata": {
        "id": "wEFkUbO11CsH"
      },
      "source": [
        "frame.sub(series3)"
      ],
      "execution_count": null,
      "outputs": []
    },
    {
      "cell_type": "markdown",
      "metadata": {
        "id": "QF-Xi3Fk1CsH"
      },
      "source": [
        "### Function Application and Mapping"
      ]
    },
    {
      "cell_type": "code",
      "metadata": {
        "id": "u2ruY_5w1CsH",
        "outputId": "27a21da2-472e-49ec-acc9-4f8d928ba61c"
      },
      "source": [
        "frame = pd.DataFrame(np.random.randn(4, 3), columns=list('bde'),\n",
        "                     index=['Utah', 'Ohio', 'Texas', 'Oregon'])\n",
        "frame"
      ],
      "execution_count": null,
      "outputs": [
        {
          "output_type": "execute_result",
          "data": {
            "text/html": [
              "<div>\n",
              "<style scoped>\n",
              "    .dataframe tbody tr th:only-of-type {\n",
              "        vertical-align: middle;\n",
              "    }\n",
              "\n",
              "    .dataframe tbody tr th {\n",
              "        vertical-align: top;\n",
              "    }\n",
              "\n",
              "    .dataframe thead th {\n",
              "        text-align: right;\n",
              "    }\n",
              "</style>\n",
              "<table border=\"1\" class=\"dataframe\">\n",
              "  <thead>\n",
              "    <tr style=\"text-align: right;\">\n",
              "      <th></th>\n",
              "      <th>b</th>\n",
              "      <th>d</th>\n",
              "      <th>e</th>\n",
              "    </tr>\n",
              "  </thead>\n",
              "  <tbody>\n",
              "    <tr>\n",
              "      <th>Utah</th>\n",
              "      <td>-0.204708</td>\n",
              "      <td>0.478943</td>\n",
              "      <td>-0.519439</td>\n",
              "    </tr>\n",
              "    <tr>\n",
              "      <th>Ohio</th>\n",
              "      <td>-0.555730</td>\n",
              "      <td>1.965781</td>\n",
              "      <td>1.393406</td>\n",
              "    </tr>\n",
              "    <tr>\n",
              "      <th>Texas</th>\n",
              "      <td>0.092908</td>\n",
              "      <td>0.281746</td>\n",
              "      <td>0.769023</td>\n",
              "    </tr>\n",
              "    <tr>\n",
              "      <th>Oregon</th>\n",
              "      <td>1.246435</td>\n",
              "      <td>1.007189</td>\n",
              "      <td>-1.296221</td>\n",
              "    </tr>\n",
              "  </tbody>\n",
              "</table>\n",
              "</div>"
            ],
            "text/plain": [
              "               b         d         e\n",
              "Utah   -0.204708  0.478943 -0.519439\n",
              "Ohio   -0.555730  1.965781  1.393406\n",
              "Texas   0.092908  0.281746  0.769023\n",
              "Oregon  1.246435  1.007189 -1.296221"
            ]
          },
          "metadata": {
            "tags": []
          },
          "execution_count": 52
        }
      ]
    },
    {
      "cell_type": "code",
      "metadata": {
        "id": "HP3Mln4u1CsI",
        "outputId": "12d92866-976c-438e-920f-2e212e70c605"
      },
      "source": [
        "np.abs(frame)"
      ],
      "execution_count": null,
      "outputs": [
        {
          "output_type": "execute_result",
          "data": {
            "text/html": [
              "<div>\n",
              "<style scoped>\n",
              "    .dataframe tbody tr th:only-of-type {\n",
              "        vertical-align: middle;\n",
              "    }\n",
              "\n",
              "    .dataframe tbody tr th {\n",
              "        vertical-align: top;\n",
              "    }\n",
              "\n",
              "    .dataframe thead th {\n",
              "        text-align: right;\n",
              "    }\n",
              "</style>\n",
              "<table border=\"1\" class=\"dataframe\">\n",
              "  <thead>\n",
              "    <tr style=\"text-align: right;\">\n",
              "      <th></th>\n",
              "      <th>b</th>\n",
              "      <th>d</th>\n",
              "      <th>e</th>\n",
              "    </tr>\n",
              "  </thead>\n",
              "  <tbody>\n",
              "    <tr>\n",
              "      <th>Utah</th>\n",
              "      <td>0.204708</td>\n",
              "      <td>0.478943</td>\n",
              "      <td>0.519439</td>\n",
              "    </tr>\n",
              "    <tr>\n",
              "      <th>Ohio</th>\n",
              "      <td>0.555730</td>\n",
              "      <td>1.965781</td>\n",
              "      <td>1.393406</td>\n",
              "    </tr>\n",
              "    <tr>\n",
              "      <th>Texas</th>\n",
              "      <td>0.092908</td>\n",
              "      <td>0.281746</td>\n",
              "      <td>0.769023</td>\n",
              "    </tr>\n",
              "    <tr>\n",
              "      <th>Oregon</th>\n",
              "      <td>1.246435</td>\n",
              "      <td>1.007189</td>\n",
              "      <td>1.296221</td>\n",
              "    </tr>\n",
              "  </tbody>\n",
              "</table>\n",
              "</div>"
            ],
            "text/plain": [
              "               b         d         e\n",
              "Utah    0.204708  0.478943  0.519439\n",
              "Ohio    0.555730  1.965781  1.393406\n",
              "Texas   0.092908  0.281746  0.769023\n",
              "Oregon  1.246435  1.007189  1.296221"
            ]
          },
          "metadata": {
            "tags": []
          },
          "execution_count": 53
        }
      ]
    },
    {
      "cell_type": "code",
      "metadata": {
        "id": "V48lmi_H1CsI",
        "outputId": "f8138824-ac17-447c-ed64-b10e39f15964"
      },
      "source": [
        "f = lambda x: x.max() - x.min()\n",
        "frame.apply(f)"
      ],
      "execution_count": null,
      "outputs": [
        {
          "output_type": "execute_result",
          "data": {
            "text/plain": [
              "b    1.802165\n",
              "d    1.684034\n",
              "e    2.689627\n",
              "dtype: float64"
            ]
          },
          "metadata": {
            "tags": []
          },
          "execution_count": 54
        }
      ]
    },
    {
      "cell_type": "code",
      "metadata": {
        "id": "T2zjgHx31CsI"
      },
      "source": [
        "frame.apply(f, axis='columns')"
      ],
      "execution_count": null,
      "outputs": []
    },
    {
      "cell_type": "code",
      "metadata": {
        "id": "tjfTatqB1CsI"
      },
      "source": [
        "def f(x):\n",
        "    return pd.Series([x.min(), x.max()], index=['min', 'max'])\n",
        "frame"
      ],
      "execution_count": null,
      "outputs": []
    },
    {
      "cell_type": "code",
      "metadata": {
        "id": "HG-8fGiV1CsI"
      },
      "source": [
        "frame.apply(f)"
      ],
      "execution_count": null,
      "outputs": []
    },
    {
      "cell_type": "code",
      "metadata": {
        "id": "wwJQ_FD61CsI"
      },
      "source": [
        "frame.apply(f, axis=1)"
      ],
      "execution_count": null,
      "outputs": []
    },
    {
      "cell_type": "code",
      "metadata": {
        "id": "FT6mkNjN1CsI"
      },
      "source": [
        "format = lambda x: '%.2f' % x\n",
        "frame"
      ],
      "execution_count": null,
      "outputs": []
    },
    {
      "cell_type": "code",
      "metadata": {
        "id": "zaqXM37i1CsJ"
      },
      "source": [
        "frame.applymap(format)"
      ],
      "execution_count": null,
      "outputs": []
    },
    {
      "cell_type": "code",
      "metadata": {
        "id": "4yP2rm6f1CsJ"
      },
      "source": [
        "frame['e'].map(format)"
      ],
      "execution_count": null,
      "outputs": []
    },
    {
      "cell_type": "markdown",
      "metadata": {
        "id": "82ntVOHY1CsJ"
      },
      "source": [
        "### 문제"
      ]
    },
    {
      "cell_type": "code",
      "metadata": {
        "id": "K4QEwBcX1CsJ",
        "outputId": "bc0ee19e-a38a-4102-878b-12060e4fca23"
      },
      "source": [
        "df = pd.DataFrame([[-1, 2], [1, -2]])\n",
        "df"
      ],
      "execution_count": null,
      "outputs": [
        {
          "output_type": "execute_result",
          "data": {
            "text/html": [
              "<div>\n",
              "<style scoped>\n",
              "    .dataframe tbody tr th:only-of-type {\n",
              "        vertical-align: middle;\n",
              "    }\n",
              "\n",
              "    .dataframe tbody tr th {\n",
              "        vertical-align: top;\n",
              "    }\n",
              "\n",
              "    .dataframe thead th {\n",
              "        text-align: right;\n",
              "    }\n",
              "</style>\n",
              "<table border=\"1\" class=\"dataframe\">\n",
              "  <thead>\n",
              "    <tr style=\"text-align: right;\">\n",
              "      <th></th>\n",
              "      <th>0</th>\n",
              "      <th>1</th>\n",
              "    </tr>\n",
              "  </thead>\n",
              "  <tbody>\n",
              "    <tr>\n",
              "      <th>0</th>\n",
              "      <td>-1</td>\n",
              "      <td>2</td>\n",
              "    </tr>\n",
              "    <tr>\n",
              "      <th>1</th>\n",
              "      <td>1</td>\n",
              "      <td>-2</td>\n",
              "    </tr>\n",
              "  </tbody>\n",
              "</table>\n",
              "</div>"
            ],
            "text/plain": [
              "   0  1\n",
              "0 -1  2\n",
              "1  1 -2"
            ]
          },
          "metadata": {
            "tags": []
          },
          "execution_count": 7
        }
      ]
    },
    {
      "cell_type": "code",
      "metadata": {
        "id": "ZwNHOKlg1CsJ",
        "outputId": "a37e18a2-188d-4659-9bf9-8e3dbdeb0334"
      },
      "source": [
        "ab = np.abs(df)\n",
        "ab"
      ],
      "execution_count": null,
      "outputs": [
        {
          "output_type": "execute_result",
          "data": {
            "text/html": [
              "<div>\n",
              "<style scoped>\n",
              "    .dataframe tbody tr th:only-of-type {\n",
              "        vertical-align: middle;\n",
              "    }\n",
              "\n",
              "    .dataframe tbody tr th {\n",
              "        vertical-align: top;\n",
              "    }\n",
              "\n",
              "    .dataframe thead th {\n",
              "        text-align: right;\n",
              "    }\n",
              "</style>\n",
              "<table border=\"1\" class=\"dataframe\">\n",
              "  <thead>\n",
              "    <tr style=\"text-align: right;\">\n",
              "      <th></th>\n",
              "      <th>0</th>\n",
              "      <th>1</th>\n",
              "    </tr>\n",
              "  </thead>\n",
              "  <tbody>\n",
              "    <tr>\n",
              "      <th>0</th>\n",
              "      <td>1</td>\n",
              "      <td>2</td>\n",
              "    </tr>\n",
              "    <tr>\n",
              "      <th>1</th>\n",
              "      <td>1</td>\n",
              "      <td>2</td>\n",
              "    </tr>\n",
              "  </tbody>\n",
              "</table>\n",
              "</div>"
            ],
            "text/plain": [
              "   0  1\n",
              "0  1  2\n",
              "1  1  2"
            ]
          },
          "metadata": {
            "tags": []
          },
          "execution_count": 10
        }
      ]
    },
    {
      "cell_type": "code",
      "metadata": {
        "id": "EC2a8lJZ1CsK",
        "outputId": "f06bb2e1-d600-4d82-eda2-8e795786614e"
      },
      "source": [
        "ab.sum()"
      ],
      "execution_count": null,
      "outputs": [
        {
          "output_type": "execute_result",
          "data": {
            "text/plain": [
              "0    2\n",
              "1    4\n",
              "dtype: int64"
            ]
          },
          "metadata": {
            "tags": []
          },
          "execution_count": 13
        }
      ]
    },
    {
      "cell_type": "code",
      "metadata": {
        "id": "d36OWnbW1CsK",
        "outputId": "1490e266-eb23-4dbe-92b0-215a82ee65e5"
      },
      "source": [
        "a = pd.DataFrame([[-1, 2], [1, -2]])\n",
        "np.abs(a).sum().sum()"
      ],
      "execution_count": null,
      "outputs": [
        {
          "output_type": "execute_result",
          "data": {
            "text/plain": [
              "6"
            ]
          },
          "metadata": {
            "tags": []
          },
          "execution_count": 14
        }
      ]
    },
    {
      "cell_type": "code",
      "metadata": {
        "id": "kWBDAtz71CsK"
      },
      "source": [
        ""
      ],
      "execution_count": null,
      "outputs": []
    },
    {
      "cell_type": "markdown",
      "metadata": {
        "id": "Y2Zql7UJ1CsK"
      },
      "source": [
        "### Sorting and Ranking"
      ]
    },
    {
      "cell_type": "code",
      "metadata": {
        "id": "OJoE351k1CsK",
        "outputId": "e0520697-320b-4edf-af5a-b76eda9a5401"
      },
      "source": [
        "obj = pd.Series(range(4), index=['d', 'a', 'b', 'c'])\n",
        "obj"
      ],
      "execution_count": null,
      "outputs": [
        {
          "output_type": "execute_result",
          "data": {
            "text/plain": [
              "d    0\n",
              "a    1\n",
              "b    2\n",
              "c    3\n",
              "dtype: int64"
            ]
          },
          "metadata": {
            "tags": []
          },
          "execution_count": 35
        }
      ]
    },
    {
      "cell_type": "code",
      "metadata": {
        "id": "o4fl6YIG1CsK",
        "outputId": "3c01f9a2-5df1-47a7-b592-cf6044b45c0e"
      },
      "source": [
        "obj.sort_index()"
      ],
      "execution_count": null,
      "outputs": [
        {
          "output_type": "execute_result",
          "data": {
            "text/plain": [
              "a    1\n",
              "b    2\n",
              "c    3\n",
              "d    0\n",
              "dtype: int64"
            ]
          },
          "metadata": {
            "tags": []
          },
          "execution_count": 36
        }
      ]
    },
    {
      "cell_type": "code",
      "metadata": {
        "id": "uDBnbhX71CsL",
        "outputId": "5d43ba46-fd28-40ee-ccb5-7124f6794116"
      },
      "source": [
        "frame = pd.DataFrame(np.arange(8).reshape((2, 4)),\n",
        "                     index=['three', 'one'],\n",
        "                     columns=['d', 'a', 'b', 'c'])\n",
        "frame"
      ],
      "execution_count": null,
      "outputs": [
        {
          "output_type": "execute_result",
          "data": {
            "text/html": [
              "<div>\n",
              "<style scoped>\n",
              "    .dataframe tbody tr th:only-of-type {\n",
              "        vertical-align: middle;\n",
              "    }\n",
              "\n",
              "    .dataframe tbody tr th {\n",
              "        vertical-align: top;\n",
              "    }\n",
              "\n",
              "    .dataframe thead th {\n",
              "        text-align: right;\n",
              "    }\n",
              "</style>\n",
              "<table border=\"1\" class=\"dataframe\">\n",
              "  <thead>\n",
              "    <tr style=\"text-align: right;\">\n",
              "      <th></th>\n",
              "      <th>d</th>\n",
              "      <th>a</th>\n",
              "      <th>b</th>\n",
              "      <th>c</th>\n",
              "    </tr>\n",
              "  </thead>\n",
              "  <tbody>\n",
              "    <tr>\n",
              "      <th>three</th>\n",
              "      <td>0</td>\n",
              "      <td>1</td>\n",
              "      <td>2</td>\n",
              "      <td>3</td>\n",
              "    </tr>\n",
              "    <tr>\n",
              "      <th>one</th>\n",
              "      <td>4</td>\n",
              "      <td>5</td>\n",
              "      <td>6</td>\n",
              "      <td>7</td>\n",
              "    </tr>\n",
              "  </tbody>\n",
              "</table>\n",
              "</div>"
            ],
            "text/plain": [
              "       d  a  b  c\n",
              "three  0  1  2  3\n",
              "one    4  5  6  7"
            ]
          },
          "metadata": {
            "tags": []
          },
          "execution_count": 43
        }
      ]
    },
    {
      "cell_type": "code",
      "metadata": {
        "id": "y60dSL3S1CsL",
        "outputId": "adb1773d-91c4-446a-f552-73a66f53cd1b"
      },
      "source": [
        "frame.sort_index()"
      ],
      "execution_count": null,
      "outputs": [
        {
          "output_type": "execute_result",
          "data": {
            "text/html": [
              "<div>\n",
              "<style scoped>\n",
              "    .dataframe tbody tr th:only-of-type {\n",
              "        vertical-align: middle;\n",
              "    }\n",
              "\n",
              "    .dataframe tbody tr th {\n",
              "        vertical-align: top;\n",
              "    }\n",
              "\n",
              "    .dataframe thead th {\n",
              "        text-align: right;\n",
              "    }\n",
              "</style>\n",
              "<table border=\"1\" class=\"dataframe\">\n",
              "  <thead>\n",
              "    <tr style=\"text-align: right;\">\n",
              "      <th></th>\n",
              "      <th>d</th>\n",
              "      <th>a</th>\n",
              "      <th>b</th>\n",
              "      <th>c</th>\n",
              "    </tr>\n",
              "  </thead>\n",
              "  <tbody>\n",
              "    <tr>\n",
              "      <th>one</th>\n",
              "      <td>4</td>\n",
              "      <td>5</td>\n",
              "      <td>6</td>\n",
              "      <td>7</td>\n",
              "    </tr>\n",
              "    <tr>\n",
              "      <th>three</th>\n",
              "      <td>0</td>\n",
              "      <td>1</td>\n",
              "      <td>2</td>\n",
              "      <td>3</td>\n",
              "    </tr>\n",
              "  </tbody>\n",
              "</table>\n",
              "</div>"
            ],
            "text/plain": [
              "       d  a  b  c\n",
              "one    4  5  6  7\n",
              "three  0  1  2  3"
            ]
          },
          "metadata": {
            "tags": []
          },
          "execution_count": 44
        }
      ]
    },
    {
      "cell_type": "code",
      "metadata": {
        "id": "Vydp2m-51CsL"
      },
      "source": [
        "frame.sort_index(axis=1)"
      ],
      "execution_count": null,
      "outputs": []
    },
    {
      "cell_type": "code",
      "metadata": {
        "id": "rJHdcnu11CsL"
      },
      "source": [
        "frame.sort_index(axis=1, ascending=False)"
      ],
      "execution_count": null,
      "outputs": []
    },
    {
      "cell_type": "code",
      "metadata": {
        "id": "AB5sVypu1CsL"
      },
      "source": [
        "obj = pd.Series([4, 7, -3, 2])\n",
        "obj.sort_values()"
      ],
      "execution_count": null,
      "outputs": []
    },
    {
      "cell_type": "code",
      "metadata": {
        "id": "X4lg1i3e1CsL"
      },
      "source": [
        "obj = pd.Series([4, np.nan, 7, np.nan, -3, 2])\n",
        "obj.sort_values()"
      ],
      "execution_count": null,
      "outputs": []
    },
    {
      "cell_type": "code",
      "metadata": {
        "id": "oBEwQF4s1CsL"
      },
      "source": [
        "frame = pd.DataFrame({'b': [4, 7, -3, 2], 'a': [0, 1, 0, 1]})\n",
        "frame"
      ],
      "execution_count": null,
      "outputs": []
    },
    {
      "cell_type": "code",
      "metadata": {
        "id": "NyEu1RZj1CsM"
      },
      "source": [
        "frame.sort_values()"
      ],
      "execution_count": null,
      "outputs": []
    },
    {
      "cell_type": "code",
      "metadata": {
        "id": "huPnQK0V1CsM"
      },
      "source": [
        "frame.sort_values(by='b')"
      ],
      "execution_count": null,
      "outputs": []
    },
    {
      "cell_type": "code",
      "metadata": {
        "id": "mDvhouCo1CsM"
      },
      "source": [
        "frame.sort_values(by=['a', 'b'])"
      ],
      "execution_count": null,
      "outputs": []
    },
    {
      "cell_type": "markdown",
      "metadata": {
        "id": "18PHDzQu1CsM"
      },
      "source": [
        "* 다양한 정렬"
      ]
    },
    {
      "cell_type": "code",
      "metadata": {
        "id": "exyaoS0U1CsM"
      },
      "source": [
        "frame.sort_values?"
      ],
      "execution_count": null,
      "outputs": []
    },
    {
      "cell_type": "code",
      "metadata": {
        "id": "7HM0Y50T1CsM",
        "outputId": "547e7041-b700-40cf-e049-90bfd05970dd",
        "colab": {
          "base_uri": "https://localhost:8080/",
          "height": 234
        }
      },
      "source": [
        "df = pd.DataFrame({\n",
        "    'col1': ['A', 'A', 'B', np.nan, 'D', 'C'],\n",
        "    'col2': [2, 1, 9, 8, 7, 4],\n",
        "    'col3': [0, 1, 9, 4, 2, 3],\n",
        "})\n",
        "df"
      ],
      "execution_count": 157,
      "outputs": [
        {
          "output_type": "execute_result",
          "data": {
            "text/html": [
              "<div>\n",
              "<style scoped>\n",
              "    .dataframe tbody tr th:only-of-type {\n",
              "        vertical-align: middle;\n",
              "    }\n",
              "\n",
              "    .dataframe tbody tr th {\n",
              "        vertical-align: top;\n",
              "    }\n",
              "\n",
              "    .dataframe thead th {\n",
              "        text-align: right;\n",
              "    }\n",
              "</style>\n",
              "<table border=\"1\" class=\"dataframe\">\n",
              "  <thead>\n",
              "    <tr style=\"text-align: right;\">\n",
              "      <th></th>\n",
              "      <th>col1</th>\n",
              "      <th>col2</th>\n",
              "      <th>col3</th>\n",
              "    </tr>\n",
              "  </thead>\n",
              "  <tbody>\n",
              "    <tr>\n",
              "      <th>0</th>\n",
              "      <td>A</td>\n",
              "      <td>2</td>\n",
              "      <td>0</td>\n",
              "    </tr>\n",
              "    <tr>\n",
              "      <th>1</th>\n",
              "      <td>A</td>\n",
              "      <td>1</td>\n",
              "      <td>1</td>\n",
              "    </tr>\n",
              "    <tr>\n",
              "      <th>2</th>\n",
              "      <td>B</td>\n",
              "      <td>9</td>\n",
              "      <td>9</td>\n",
              "    </tr>\n",
              "    <tr>\n",
              "      <th>3</th>\n",
              "      <td>NaN</td>\n",
              "      <td>8</td>\n",
              "      <td>4</td>\n",
              "    </tr>\n",
              "    <tr>\n",
              "      <th>4</th>\n",
              "      <td>D</td>\n",
              "      <td>7</td>\n",
              "      <td>2</td>\n",
              "    </tr>\n",
              "    <tr>\n",
              "      <th>5</th>\n",
              "      <td>C</td>\n",
              "      <td>4</td>\n",
              "      <td>3</td>\n",
              "    </tr>\n",
              "  </tbody>\n",
              "</table>\n",
              "</div>"
            ],
            "text/plain": [
              "  col1  col2  col3\n",
              "0    A     2     0\n",
              "1    A     1     1\n",
              "2    B     9     9\n",
              "3  NaN     8     4\n",
              "4    D     7     2\n",
              "5    C     4     3"
            ]
          },
          "metadata": {
            "tags": []
          },
          "execution_count": 157
        }
      ]
    },
    {
      "cell_type": "code",
      "metadata": {
        "id": "C01wIa6v1CsM"
      },
      "source": [
        "df.sort_values(by=['col1'])"
      ],
      "execution_count": null,
      "outputs": []
    },
    {
      "cell_type": "code",
      "metadata": {
        "id": "AiJW1cXf1CsN"
      },
      "source": [
        "df.sort_values(by=['col1', 'col2'])"
      ],
      "execution_count": null,
      "outputs": []
    },
    {
      "cell_type": "code",
      "metadata": {
        "id": "5qBZUS8L1CsN"
      },
      "source": [
        "df.sort_values(by='col1', ascending=False)"
      ],
      "execution_count": null,
      "outputs": []
    },
    {
      "cell_type": "code",
      "metadata": {
        "id": "-2ATRD6-1CsN"
      },
      "source": [
        "df.sort_values(by='col1', ascending=False, na_position='first')"
      ],
      "execution_count": null,
      "outputs": []
    },
    {
      "cell_type": "code",
      "metadata": {
        "id": "2JPTKDHl1CsN"
      },
      "source": [
        "df"
      ],
      "execution_count": null,
      "outputs": []
    },
    {
      "cell_type": "code",
      "metadata": {
        "id": "7VH30YKy1CsN"
      },
      "source": [
        "df.sort_values(by=3, axis=1)"
      ],
      "execution_count": null,
      "outputs": []
    },
    {
      "cell_type": "code",
      "metadata": {
        "id": "J8J1j4oN1CsN",
        "outputId": "63ef15e4-61b9-44c4-a93b-2e31ecf981ce",
        "colab": {
          "base_uri": "https://localhost:8080/"
        }
      },
      "source": [
        "obj = pd.Series([7, -5, 7, 4, 2, 0, 4])\n",
        "obj.rank()"
      ],
      "execution_count": 158,
      "outputs": [
        {
          "output_type": "execute_result",
          "data": {
            "text/plain": [
              "0    6.5\n",
              "1    1.0\n",
              "2    6.5\n",
              "3    4.5\n",
              "4    3.0\n",
              "5    2.0\n",
              "6    4.5\n",
              "dtype: float64"
            ]
          },
          "metadata": {
            "tags": []
          },
          "execution_count": 158
        }
      ]
    },
    {
      "cell_type": "code",
      "metadata": {
        "id": "bALRA-Au1CsN",
        "outputId": "0efdc97a-a6bc-46da-fda0-7f56237ca678",
        "colab": {
          "base_uri": "https://localhost:8080/"
        }
      },
      "source": [
        "obj.rank(method='first')"
      ],
      "execution_count": 159,
      "outputs": [
        {
          "output_type": "execute_result",
          "data": {
            "text/plain": [
              "0    6.0\n",
              "1    1.0\n",
              "2    7.0\n",
              "3    4.0\n",
              "4    3.0\n",
              "5    2.0\n",
              "6    5.0\n",
              "dtype: float64"
            ]
          },
          "metadata": {
            "tags": []
          },
          "execution_count": 159
        }
      ]
    },
    {
      "cell_type": "code",
      "metadata": {
        "id": "gMzU055X1CsN",
        "outputId": "311c9871-13d4-40c6-9e96-af261a487e11",
        "colab": {
          "base_uri": "https://localhost:8080/"
        }
      },
      "source": [
        "# Assign tie values the maximum rank in the group\n",
        "obj.rank(ascending=False, method='max')"
      ],
      "execution_count": 160,
      "outputs": [
        {
          "output_type": "execute_result",
          "data": {
            "text/plain": [
              "0    2.0\n",
              "1    7.0\n",
              "2    2.0\n",
              "3    4.0\n",
              "4    5.0\n",
              "5    6.0\n",
              "6    4.0\n",
              "dtype: float64"
            ]
          },
          "metadata": {
            "tags": []
          },
          "execution_count": 160
        }
      ]
    },
    {
      "cell_type": "code",
      "metadata": {
        "id": "viTsTQL41CsO",
        "outputId": "bfe3b350-c7ba-453f-8a23-0acff242ebe2",
        "colab": {
          "base_uri": "https://localhost:8080/",
          "height": 172
        }
      },
      "source": [
        "frame = pd.DataFrame({'b': [4.3, 7, -3, 2], 'a': [0, 1, 0, 1],\n",
        "                      'c': [-2, 5, 8, -2.5]})\n",
        "frame"
      ],
      "execution_count": 161,
      "outputs": [
        {
          "output_type": "execute_result",
          "data": {
            "text/html": [
              "<div>\n",
              "<style scoped>\n",
              "    .dataframe tbody tr th:only-of-type {\n",
              "        vertical-align: middle;\n",
              "    }\n",
              "\n",
              "    .dataframe tbody tr th {\n",
              "        vertical-align: top;\n",
              "    }\n",
              "\n",
              "    .dataframe thead th {\n",
              "        text-align: right;\n",
              "    }\n",
              "</style>\n",
              "<table border=\"1\" class=\"dataframe\">\n",
              "  <thead>\n",
              "    <tr style=\"text-align: right;\">\n",
              "      <th></th>\n",
              "      <th>b</th>\n",
              "      <th>a</th>\n",
              "      <th>c</th>\n",
              "    </tr>\n",
              "  </thead>\n",
              "  <tbody>\n",
              "    <tr>\n",
              "      <th>0</th>\n",
              "      <td>4.3</td>\n",
              "      <td>0</td>\n",
              "      <td>-2.0</td>\n",
              "    </tr>\n",
              "    <tr>\n",
              "      <th>1</th>\n",
              "      <td>7.0</td>\n",
              "      <td>1</td>\n",
              "      <td>5.0</td>\n",
              "    </tr>\n",
              "    <tr>\n",
              "      <th>2</th>\n",
              "      <td>-3.0</td>\n",
              "      <td>0</td>\n",
              "      <td>8.0</td>\n",
              "    </tr>\n",
              "    <tr>\n",
              "      <th>3</th>\n",
              "      <td>2.0</td>\n",
              "      <td>1</td>\n",
              "      <td>-2.5</td>\n",
              "    </tr>\n",
              "  </tbody>\n",
              "</table>\n",
              "</div>"
            ],
            "text/plain": [
              "     b  a    c\n",
              "0  4.3  0 -2.0\n",
              "1  7.0  1  5.0\n",
              "2 -3.0  0  8.0\n",
              "3  2.0  1 -2.5"
            ]
          },
          "metadata": {
            "tags": []
          },
          "execution_count": 161
        }
      ]
    },
    {
      "cell_type": "code",
      "metadata": {
        "id": "Xo1kUpWJ1CsO",
        "outputId": "ade353db-a5b4-43a1-cab0-6b17bd4d6be0",
        "colab": {
          "base_uri": "https://localhost:8080/",
          "height": 172
        }
      },
      "source": [
        "frame.rank(axis='columns')"
      ],
      "execution_count": 162,
      "outputs": [
        {
          "output_type": "execute_result",
          "data": {
            "text/html": [
              "<div>\n",
              "<style scoped>\n",
              "    .dataframe tbody tr th:only-of-type {\n",
              "        vertical-align: middle;\n",
              "    }\n",
              "\n",
              "    .dataframe tbody tr th {\n",
              "        vertical-align: top;\n",
              "    }\n",
              "\n",
              "    .dataframe thead th {\n",
              "        text-align: right;\n",
              "    }\n",
              "</style>\n",
              "<table border=\"1\" class=\"dataframe\">\n",
              "  <thead>\n",
              "    <tr style=\"text-align: right;\">\n",
              "      <th></th>\n",
              "      <th>b</th>\n",
              "      <th>a</th>\n",
              "      <th>c</th>\n",
              "    </tr>\n",
              "  </thead>\n",
              "  <tbody>\n",
              "    <tr>\n",
              "      <th>0</th>\n",
              "      <td>3.0</td>\n",
              "      <td>2.0</td>\n",
              "      <td>1.0</td>\n",
              "    </tr>\n",
              "    <tr>\n",
              "      <th>1</th>\n",
              "      <td>3.0</td>\n",
              "      <td>1.0</td>\n",
              "      <td>2.0</td>\n",
              "    </tr>\n",
              "    <tr>\n",
              "      <th>2</th>\n",
              "      <td>1.0</td>\n",
              "      <td>2.0</td>\n",
              "      <td>3.0</td>\n",
              "    </tr>\n",
              "    <tr>\n",
              "      <th>3</th>\n",
              "      <td>3.0</td>\n",
              "      <td>2.0</td>\n",
              "      <td>1.0</td>\n",
              "    </tr>\n",
              "  </tbody>\n",
              "</table>\n",
              "</div>"
            ],
            "text/plain": [
              "     b    a    c\n",
              "0  3.0  2.0  1.0\n",
              "1  3.0  1.0  2.0\n",
              "2  1.0  2.0  3.0\n",
              "3  3.0  2.0  1.0"
            ]
          },
          "metadata": {
            "tags": []
          },
          "execution_count": 162
        }
      ]
    },
    {
      "cell_type": "code",
      "metadata": {
        "id": "F9gZ_XdZ1CsO",
        "outputId": "d8a2b127-c49a-4d0f-c2ea-305e5f043b10",
        "colab": {
          "base_uri": "https://localhost:8080/",
          "height": 172
        }
      },
      "source": [
        "frame.rank(axis=1)"
      ],
      "execution_count": 163,
      "outputs": [
        {
          "output_type": "execute_result",
          "data": {
            "text/html": [
              "<div>\n",
              "<style scoped>\n",
              "    .dataframe tbody tr th:only-of-type {\n",
              "        vertical-align: middle;\n",
              "    }\n",
              "\n",
              "    .dataframe tbody tr th {\n",
              "        vertical-align: top;\n",
              "    }\n",
              "\n",
              "    .dataframe thead th {\n",
              "        text-align: right;\n",
              "    }\n",
              "</style>\n",
              "<table border=\"1\" class=\"dataframe\">\n",
              "  <thead>\n",
              "    <tr style=\"text-align: right;\">\n",
              "      <th></th>\n",
              "      <th>b</th>\n",
              "      <th>a</th>\n",
              "      <th>c</th>\n",
              "    </tr>\n",
              "  </thead>\n",
              "  <tbody>\n",
              "    <tr>\n",
              "      <th>0</th>\n",
              "      <td>3.0</td>\n",
              "      <td>2.0</td>\n",
              "      <td>1.0</td>\n",
              "    </tr>\n",
              "    <tr>\n",
              "      <th>1</th>\n",
              "      <td>3.0</td>\n",
              "      <td>1.0</td>\n",
              "      <td>2.0</td>\n",
              "    </tr>\n",
              "    <tr>\n",
              "      <th>2</th>\n",
              "      <td>1.0</td>\n",
              "      <td>2.0</td>\n",
              "      <td>3.0</td>\n",
              "    </tr>\n",
              "    <tr>\n",
              "      <th>3</th>\n",
              "      <td>3.0</td>\n",
              "      <td>2.0</td>\n",
              "      <td>1.0</td>\n",
              "    </tr>\n",
              "  </tbody>\n",
              "</table>\n",
              "</div>"
            ],
            "text/plain": [
              "     b    a    c\n",
              "0  3.0  2.0  1.0\n",
              "1  3.0  1.0  2.0\n",
              "2  1.0  2.0  3.0\n",
              "3  3.0  2.0  1.0"
            ]
          },
          "metadata": {
            "tags": []
          },
          "execution_count": 163
        }
      ]
    },
    {
      "cell_type": "code",
      "metadata": {
        "id": "grXeZQWH1CsO",
        "outputId": "0378c879-e791-4564-f505-75e2245956ed",
        "colab": {
          "base_uri": "https://localhost:8080/",
          "height": 172
        }
      },
      "source": [
        "frame.rank()"
      ],
      "execution_count": 164,
      "outputs": [
        {
          "output_type": "execute_result",
          "data": {
            "text/html": [
              "<div>\n",
              "<style scoped>\n",
              "    .dataframe tbody tr th:only-of-type {\n",
              "        vertical-align: middle;\n",
              "    }\n",
              "\n",
              "    .dataframe tbody tr th {\n",
              "        vertical-align: top;\n",
              "    }\n",
              "\n",
              "    .dataframe thead th {\n",
              "        text-align: right;\n",
              "    }\n",
              "</style>\n",
              "<table border=\"1\" class=\"dataframe\">\n",
              "  <thead>\n",
              "    <tr style=\"text-align: right;\">\n",
              "      <th></th>\n",
              "      <th>b</th>\n",
              "      <th>a</th>\n",
              "      <th>c</th>\n",
              "    </tr>\n",
              "  </thead>\n",
              "  <tbody>\n",
              "    <tr>\n",
              "      <th>0</th>\n",
              "      <td>3.0</td>\n",
              "      <td>1.5</td>\n",
              "      <td>2.0</td>\n",
              "    </tr>\n",
              "    <tr>\n",
              "      <th>1</th>\n",
              "      <td>4.0</td>\n",
              "      <td>3.5</td>\n",
              "      <td>3.0</td>\n",
              "    </tr>\n",
              "    <tr>\n",
              "      <th>2</th>\n",
              "      <td>1.0</td>\n",
              "      <td>1.5</td>\n",
              "      <td>4.0</td>\n",
              "    </tr>\n",
              "    <tr>\n",
              "      <th>3</th>\n",
              "      <td>2.0</td>\n",
              "      <td>3.5</td>\n",
              "      <td>1.0</td>\n",
              "    </tr>\n",
              "  </tbody>\n",
              "</table>\n",
              "</div>"
            ],
            "text/plain": [
              "     b    a    c\n",
              "0  3.0  1.5  2.0\n",
              "1  4.0  3.5  3.0\n",
              "2  1.0  1.5  4.0\n",
              "3  2.0  3.5  1.0"
            ]
          },
          "metadata": {
            "tags": []
          },
          "execution_count": 164
        }
      ]
    },
    {
      "cell_type": "code",
      "metadata": {
        "id": "YvliTpJx1CsO",
        "outputId": "1dcd753b-fe83-4333-d205-9e3252a9f28c",
        "colab": {
          "base_uri": "https://localhost:8080/",
          "height": 172
        }
      },
      "source": [
        "frame"
      ],
      "execution_count": 165,
      "outputs": [
        {
          "output_type": "execute_result",
          "data": {
            "text/html": [
              "<div>\n",
              "<style scoped>\n",
              "    .dataframe tbody tr th:only-of-type {\n",
              "        vertical-align: middle;\n",
              "    }\n",
              "\n",
              "    .dataframe tbody tr th {\n",
              "        vertical-align: top;\n",
              "    }\n",
              "\n",
              "    .dataframe thead th {\n",
              "        text-align: right;\n",
              "    }\n",
              "</style>\n",
              "<table border=\"1\" class=\"dataframe\">\n",
              "  <thead>\n",
              "    <tr style=\"text-align: right;\">\n",
              "      <th></th>\n",
              "      <th>b</th>\n",
              "      <th>a</th>\n",
              "      <th>c</th>\n",
              "    </tr>\n",
              "  </thead>\n",
              "  <tbody>\n",
              "    <tr>\n",
              "      <th>0</th>\n",
              "      <td>4.3</td>\n",
              "      <td>0</td>\n",
              "      <td>-2.0</td>\n",
              "    </tr>\n",
              "    <tr>\n",
              "      <th>1</th>\n",
              "      <td>7.0</td>\n",
              "      <td>1</td>\n",
              "      <td>5.0</td>\n",
              "    </tr>\n",
              "    <tr>\n",
              "      <th>2</th>\n",
              "      <td>-3.0</td>\n",
              "      <td>0</td>\n",
              "      <td>8.0</td>\n",
              "    </tr>\n",
              "    <tr>\n",
              "      <th>3</th>\n",
              "      <td>2.0</td>\n",
              "      <td>1</td>\n",
              "      <td>-2.5</td>\n",
              "    </tr>\n",
              "  </tbody>\n",
              "</table>\n",
              "</div>"
            ],
            "text/plain": [
              "     b  a    c\n",
              "0  4.3  0 -2.0\n",
              "1  7.0  1  5.0\n",
              "2 -3.0  0  8.0\n",
              "3  2.0  1 -2.5"
            ]
          },
          "metadata": {
            "tags": []
          },
          "execution_count": 165
        }
      ]
    },
    {
      "cell_type": "code",
      "metadata": {
        "id": "BJhJy02B1CsO",
        "outputId": "77a9c475-5bb6-4842-de45-b308d4594783"
      },
      "source": [
        "frame.rank(axis=0)"
      ],
      "execution_count": null,
      "outputs": [
        {
          "output_type": "execute_result",
          "data": {
            "text/html": [
              "<div>\n",
              "<style scoped>\n",
              "    .dataframe tbody tr th:only-of-type {\n",
              "        vertical-align: middle;\n",
              "    }\n",
              "\n",
              "    .dataframe tbody tr th {\n",
              "        vertical-align: top;\n",
              "    }\n",
              "\n",
              "    .dataframe thead th {\n",
              "        text-align: right;\n",
              "    }\n",
              "</style>\n",
              "<table border=\"1\" class=\"dataframe\">\n",
              "  <thead>\n",
              "    <tr style=\"text-align: right;\">\n",
              "      <th></th>\n",
              "      <th>b</th>\n",
              "      <th>a</th>\n",
              "      <th>c</th>\n",
              "    </tr>\n",
              "  </thead>\n",
              "  <tbody>\n",
              "    <tr>\n",
              "      <th>0</th>\n",
              "      <td>3.0</td>\n",
              "      <td>1.5</td>\n",
              "      <td>2.0</td>\n",
              "    </tr>\n",
              "    <tr>\n",
              "      <th>1</th>\n",
              "      <td>4.0</td>\n",
              "      <td>3.5</td>\n",
              "      <td>3.0</td>\n",
              "    </tr>\n",
              "    <tr>\n",
              "      <th>2</th>\n",
              "      <td>1.0</td>\n",
              "      <td>1.5</td>\n",
              "      <td>4.0</td>\n",
              "    </tr>\n",
              "    <tr>\n",
              "      <th>3</th>\n",
              "      <td>2.0</td>\n",
              "      <td>3.5</td>\n",
              "      <td>1.0</td>\n",
              "    </tr>\n",
              "  </tbody>\n",
              "</table>\n",
              "</div>"
            ],
            "text/plain": [
              "     b    a    c\n",
              "0  3.0  1.5  2.0\n",
              "1  4.0  3.5  3.0\n",
              "2  1.0  1.5  4.0\n",
              "3  2.0  3.5  1.0"
            ]
          },
          "metadata": {
            "tags": []
          },
          "execution_count": 60
        }
      ]
    },
    {
      "cell_type": "code",
      "metadata": {
        "id": "thc34MK8n1Lx",
        "outputId": "206cff27-34bf-44f7-d2a5-9d7913abb6f0",
        "colab": {
          "base_uri": "https://localhost:8080/",
          "height": 110
        }
      },
      "source": [
        "a=pd.DataFrame([[-1,2],[1,-2]])\n",
        "a"
      ],
      "execution_count": 168,
      "outputs": [
        {
          "output_type": "execute_result",
          "data": {
            "text/html": [
              "<div>\n",
              "<style scoped>\n",
              "    .dataframe tbody tr th:only-of-type {\n",
              "        vertical-align: middle;\n",
              "    }\n",
              "\n",
              "    .dataframe tbody tr th {\n",
              "        vertical-align: top;\n",
              "    }\n",
              "\n",
              "    .dataframe thead th {\n",
              "        text-align: right;\n",
              "    }\n",
              "</style>\n",
              "<table border=\"1\" class=\"dataframe\">\n",
              "  <thead>\n",
              "    <tr style=\"text-align: right;\">\n",
              "      <th></th>\n",
              "      <th>0</th>\n",
              "      <th>1</th>\n",
              "    </tr>\n",
              "  </thead>\n",
              "  <tbody>\n",
              "    <tr>\n",
              "      <th>0</th>\n",
              "      <td>-1</td>\n",
              "      <td>2</td>\n",
              "    </tr>\n",
              "    <tr>\n",
              "      <th>1</th>\n",
              "      <td>1</td>\n",
              "      <td>-2</td>\n",
              "    </tr>\n",
              "  </tbody>\n",
              "</table>\n",
              "</div>"
            ],
            "text/plain": [
              "   0  1\n",
              "0 -1  2\n",
              "1  1 -2"
            ]
          },
          "metadata": {
            "tags": []
          },
          "execution_count": 168
        }
      ]
    },
    {
      "cell_type": "code",
      "metadata": {
        "id": "mrS_pSDeoFOb",
        "outputId": "da3a4268-6403-4620-afdc-2bf7b5bb643d",
        "colab": {
          "base_uri": "https://localhost:8080/"
        }
      },
      "source": [
        "np.abs(a).sum()"
      ],
      "execution_count": 170,
      "outputs": [
        {
          "output_type": "execute_result",
          "data": {
            "text/plain": [
              "0    2\n",
              "1    4\n",
              "dtype: int64"
            ]
          },
          "metadata": {
            "tags": []
          },
          "execution_count": 170
        }
      ]
    },
    {
      "cell_type": "code",
      "metadata": {
        "id": "Xm5n-6uiof9F",
        "outputId": "2596065c-108c-4077-b710-08063caf93c8",
        "colab": {
          "base_uri": "https://localhost:8080/"
        }
      },
      "source": [
        "np.abs(a).sum().sum()"
      ],
      "execution_count": 171,
      "outputs": [
        {
          "output_type": "execute_result",
          "data": {
            "text/plain": [
              "6"
            ]
          },
          "metadata": {
            "tags": []
          },
          "execution_count": 171
        }
      ]
    },
    {
      "cell_type": "markdown",
      "metadata": {
        "id": "GWT4eZXj1CsO"
      },
      "source": [
        "### Axis Indexes with Duplicate Labels"
      ]
    },
    {
      "cell_type": "code",
      "metadata": {
        "id": "YZIw3pcN1CsO"
      },
      "source": [
        "obj = pd.Series(range(5), index=['a', 'a', 'b', 'b', 'c'])\n",
        "obj"
      ],
      "execution_count": null,
      "outputs": []
    },
    {
      "cell_type": "code",
      "metadata": {
        "id": "-hWmrzIB1CsP"
      },
      "source": [
        "obj.index.is_unique"
      ],
      "execution_count": null,
      "outputs": []
    },
    {
      "cell_type": "code",
      "metadata": {
        "id": "I1rbCwqq1CsP"
      },
      "source": [
        "obj['a']"
      ],
      "execution_count": null,
      "outputs": []
    },
    {
      "cell_type": "code",
      "metadata": {
        "id": "rIinf9sc1CsP"
      },
      "source": [
        "obj['c']"
      ],
      "execution_count": null,
      "outputs": []
    },
    {
      "cell_type": "code",
      "metadata": {
        "id": "mp1pX3kR1CsP",
        "outputId": "21db5236-cf15-4c40-9e89-36f30272ee82",
        "colab": {
          "base_uri": "https://localhost:8080/",
          "height": 172
        }
      },
      "source": [
        "df = pd.DataFrame(np.random.randn(4, 3), index=['a', 'a', 'b', 'b'])\n",
        "df"
      ],
      "execution_count": 174,
      "outputs": [
        {
          "output_type": "execute_result",
          "data": {
            "text/html": [
              "<div>\n",
              "<style scoped>\n",
              "    .dataframe tbody tr th:only-of-type {\n",
              "        vertical-align: middle;\n",
              "    }\n",
              "\n",
              "    .dataframe tbody tr th {\n",
              "        vertical-align: top;\n",
              "    }\n",
              "\n",
              "    .dataframe thead th {\n",
              "        text-align: right;\n",
              "    }\n",
              "</style>\n",
              "<table border=\"1\" class=\"dataframe\">\n",
              "  <thead>\n",
              "    <tr style=\"text-align: right;\">\n",
              "      <th></th>\n",
              "      <th>0</th>\n",
              "      <th>1</th>\n",
              "      <th>2</th>\n",
              "    </tr>\n",
              "  </thead>\n",
              "  <tbody>\n",
              "    <tr>\n",
              "      <th>a</th>\n",
              "      <td>-0.204708</td>\n",
              "      <td>0.478943</td>\n",
              "      <td>-0.519439</td>\n",
              "    </tr>\n",
              "    <tr>\n",
              "      <th>a</th>\n",
              "      <td>-0.555730</td>\n",
              "      <td>1.965781</td>\n",
              "      <td>1.393406</td>\n",
              "    </tr>\n",
              "    <tr>\n",
              "      <th>b</th>\n",
              "      <td>0.092908</td>\n",
              "      <td>0.281746</td>\n",
              "      <td>0.769023</td>\n",
              "    </tr>\n",
              "    <tr>\n",
              "      <th>b</th>\n",
              "      <td>1.246435</td>\n",
              "      <td>1.007189</td>\n",
              "      <td>-1.296221</td>\n",
              "    </tr>\n",
              "  </tbody>\n",
              "</table>\n",
              "</div>"
            ],
            "text/plain": [
              "          0         1         2\n",
              "a -0.204708  0.478943 -0.519439\n",
              "a -0.555730  1.965781  1.393406\n",
              "b  0.092908  0.281746  0.769023\n",
              "b  1.246435  1.007189 -1.296221"
            ]
          },
          "metadata": {
            "tags": []
          },
          "execution_count": 174
        }
      ]
    },
    {
      "cell_type": "code",
      "metadata": {
        "id": "zU6aRYwV1CsP"
      },
      "source": [
        "df.loc['b']"
      ],
      "execution_count": null,
      "outputs": []
    },
    {
      "cell_type": "code",
      "metadata": {
        "id": "AWoUceN_1CsP",
        "outputId": "62601475-2a9b-4c43-ae56-e63eef40c979",
        "colab": {
          "base_uri": "https://localhost:8080/",
          "height": 631
        }
      },
      "source": [
        "df[1] #열 자체의 레이블이 1"
      ],
      "execution_count": 173,
      "outputs": [
        {
          "output_type": "error",
          "ename": "KeyError",
          "evalue": "ignored",
          "traceback": [
            "\u001b[0;31m---------------------------------------------------------------------------\u001b[0m",
            "\u001b[0;31mKeyError\u001b[0m                                  Traceback (most recent call last)",
            "\u001b[0;32m/usr/local/lib/python3.7/dist-packages/pandas/core/indexes/base.py\u001b[0m in \u001b[0;36mget_loc\u001b[0;34m(self, key, method, tolerance)\u001b[0m\n\u001b[1;32m   2897\u001b[0m             \u001b[0;32mtry\u001b[0m\u001b[0;34m:\u001b[0m\u001b[0;34m\u001b[0m\u001b[0;34m\u001b[0m\u001b[0m\n\u001b[0;32m-> 2898\u001b[0;31m                 \u001b[0;32mreturn\u001b[0m \u001b[0mself\u001b[0m\u001b[0;34m.\u001b[0m\u001b[0m_engine\u001b[0m\u001b[0;34m.\u001b[0m\u001b[0mget_loc\u001b[0m\u001b[0;34m(\u001b[0m\u001b[0mcasted_key\u001b[0m\u001b[0;34m)\u001b[0m\u001b[0;34m\u001b[0m\u001b[0;34m\u001b[0m\u001b[0m\n\u001b[0m\u001b[1;32m   2899\u001b[0m             \u001b[0;32mexcept\u001b[0m \u001b[0mKeyError\u001b[0m \u001b[0;32mas\u001b[0m \u001b[0merr\u001b[0m\u001b[0;34m:\u001b[0m\u001b[0;34m\u001b[0m\u001b[0;34m\u001b[0m\u001b[0m\n",
            "\u001b[0;32mpandas/_libs/index.pyx\u001b[0m in \u001b[0;36mpandas._libs.index.IndexEngine.get_loc\u001b[0;34m()\u001b[0m\n",
            "\u001b[0;32mpandas/_libs/index.pyx\u001b[0m in \u001b[0;36mpandas._libs.index.IndexEngine.get_loc\u001b[0;34m()\u001b[0m\n",
            "\u001b[0;32mpandas/_libs/hashtable_class_helper.pxi\u001b[0m in \u001b[0;36mpandas._libs.hashtable.PyObjectHashTable.get_item\u001b[0;34m()\u001b[0m\n",
            "\u001b[0;32mpandas/_libs/hashtable_class_helper.pxi\u001b[0m in \u001b[0;36mpandas._libs.hashtable.PyObjectHashTable.get_item\u001b[0;34m()\u001b[0m\n",
            "\u001b[0;31mKeyError\u001b[0m: 1",
            "\nThe above exception was the direct cause of the following exception:\n",
            "\u001b[0;31mKeyError\u001b[0m                                  Traceback (most recent call last)",
            "\u001b[0;32m<ipython-input-173-9deece23922d>\u001b[0m in \u001b[0;36m<module>\u001b[0;34m()\u001b[0m\n\u001b[0;32m----> 1\u001b[0;31m \u001b[0mdf\u001b[0m\u001b[0;34m[\u001b[0m\u001b[0;36m1\u001b[0m\u001b[0;34m]\u001b[0m \u001b[0;31m#열 자체의 레이블이 1\u001b[0m\u001b[0;34m\u001b[0m\u001b[0;34m\u001b[0m\u001b[0m\n\u001b[0m",
            "\u001b[0;32m/usr/local/lib/python3.7/dist-packages/pandas/core/frame.py\u001b[0m in \u001b[0;36m__getitem__\u001b[0;34m(self, key)\u001b[0m\n\u001b[1;32m   2904\u001b[0m             \u001b[0;32mif\u001b[0m \u001b[0mself\u001b[0m\u001b[0;34m.\u001b[0m\u001b[0mcolumns\u001b[0m\u001b[0;34m.\u001b[0m\u001b[0mnlevels\u001b[0m \u001b[0;34m>\u001b[0m \u001b[0;36m1\u001b[0m\u001b[0;34m:\u001b[0m\u001b[0;34m\u001b[0m\u001b[0;34m\u001b[0m\u001b[0m\n\u001b[1;32m   2905\u001b[0m                 \u001b[0;32mreturn\u001b[0m \u001b[0mself\u001b[0m\u001b[0;34m.\u001b[0m\u001b[0m_getitem_multilevel\u001b[0m\u001b[0;34m(\u001b[0m\u001b[0mkey\u001b[0m\u001b[0;34m)\u001b[0m\u001b[0;34m\u001b[0m\u001b[0;34m\u001b[0m\u001b[0m\n\u001b[0;32m-> 2906\u001b[0;31m             \u001b[0mindexer\u001b[0m \u001b[0;34m=\u001b[0m \u001b[0mself\u001b[0m\u001b[0;34m.\u001b[0m\u001b[0mcolumns\u001b[0m\u001b[0;34m.\u001b[0m\u001b[0mget_loc\u001b[0m\u001b[0;34m(\u001b[0m\u001b[0mkey\u001b[0m\u001b[0;34m)\u001b[0m\u001b[0;34m\u001b[0m\u001b[0;34m\u001b[0m\u001b[0m\n\u001b[0m\u001b[1;32m   2907\u001b[0m             \u001b[0;32mif\u001b[0m \u001b[0mis_integer\u001b[0m\u001b[0;34m(\u001b[0m\u001b[0mindexer\u001b[0m\u001b[0;34m)\u001b[0m\u001b[0;34m:\u001b[0m\u001b[0;34m\u001b[0m\u001b[0;34m\u001b[0m\u001b[0m\n\u001b[1;32m   2908\u001b[0m                 \u001b[0mindexer\u001b[0m \u001b[0;34m=\u001b[0m \u001b[0;34m[\u001b[0m\u001b[0mindexer\u001b[0m\u001b[0;34m]\u001b[0m\u001b[0;34m\u001b[0m\u001b[0;34m\u001b[0m\u001b[0m\n",
            "\u001b[0;32m/usr/local/lib/python3.7/dist-packages/pandas/core/indexes/base.py\u001b[0m in \u001b[0;36mget_loc\u001b[0;34m(self, key, method, tolerance)\u001b[0m\n\u001b[1;32m   2898\u001b[0m                 \u001b[0;32mreturn\u001b[0m \u001b[0mself\u001b[0m\u001b[0;34m.\u001b[0m\u001b[0m_engine\u001b[0m\u001b[0;34m.\u001b[0m\u001b[0mget_loc\u001b[0m\u001b[0;34m(\u001b[0m\u001b[0mcasted_key\u001b[0m\u001b[0;34m)\u001b[0m\u001b[0;34m\u001b[0m\u001b[0;34m\u001b[0m\u001b[0m\n\u001b[1;32m   2899\u001b[0m             \u001b[0;32mexcept\u001b[0m \u001b[0mKeyError\u001b[0m \u001b[0;32mas\u001b[0m \u001b[0merr\u001b[0m\u001b[0;34m:\u001b[0m\u001b[0;34m\u001b[0m\u001b[0;34m\u001b[0m\u001b[0m\n\u001b[0;32m-> 2900\u001b[0;31m                 \u001b[0;32mraise\u001b[0m \u001b[0mKeyError\u001b[0m\u001b[0;34m(\u001b[0m\u001b[0mkey\u001b[0m\u001b[0;34m)\u001b[0m \u001b[0;32mfrom\u001b[0m \u001b[0merr\u001b[0m\u001b[0;34m\u001b[0m\u001b[0;34m\u001b[0m\u001b[0m\n\u001b[0m\u001b[1;32m   2901\u001b[0m \u001b[0;34m\u001b[0m\u001b[0m\n\u001b[1;32m   2902\u001b[0m         \u001b[0;32mif\u001b[0m \u001b[0mtolerance\u001b[0m \u001b[0;32mis\u001b[0m \u001b[0;32mnot\u001b[0m \u001b[0;32mNone\u001b[0m\u001b[0;34m:\u001b[0m\u001b[0;34m\u001b[0m\u001b[0;34m\u001b[0m\u001b[0m\n",
            "\u001b[0;31mKeyError\u001b[0m: 1"
          ]
        }
      ]
    },
    {
      "cell_type": "code",
      "metadata": {
        "id": "phW7SZH-1CsP"
      },
      "source": [
        "df[0] #열 자체의 레이블이 0"
      ],
      "execution_count": null,
      "outputs": []
    },
    {
      "cell_type": "markdown",
      "metadata": {
        "id": "cuKLGg8_1CsP"
      },
      "source": [
        "## Summarizing and Computing Descriptive Statistics"
      ]
    },
    {
      "cell_type": "code",
      "metadata": {
        "id": "kX-ve6eE1CsP",
        "outputId": "07900959-b6f5-4f78-8132-06a14546e939"
      },
      "source": [
        "df = pd.DataFrame([[1.4, np.nan], [7.1, -4.5],\n",
        "                   [np.nan, np.nan], [0.75, -1.3]],\n",
        "                  index=['a', 'b', 'c', 'd'],\n",
        "                  columns=['one', 'two'])\n",
        "df"
      ],
      "execution_count": null,
      "outputs": [
        {
          "output_type": "execute_result",
          "data": {
            "text/html": [
              "<div>\n",
              "<style scoped>\n",
              "    .dataframe tbody tr th:only-of-type {\n",
              "        vertical-align: middle;\n",
              "    }\n",
              "\n",
              "    .dataframe tbody tr th {\n",
              "        vertical-align: top;\n",
              "    }\n",
              "\n",
              "    .dataframe thead th {\n",
              "        text-align: right;\n",
              "    }\n",
              "</style>\n",
              "<table border=\"1\" class=\"dataframe\">\n",
              "  <thead>\n",
              "    <tr style=\"text-align: right;\">\n",
              "      <th></th>\n",
              "      <th>one</th>\n",
              "      <th>two</th>\n",
              "    </tr>\n",
              "  </thead>\n",
              "  <tbody>\n",
              "    <tr>\n",
              "      <th>a</th>\n",
              "      <td>1.40</td>\n",
              "      <td>NaN</td>\n",
              "    </tr>\n",
              "    <tr>\n",
              "      <th>b</th>\n",
              "      <td>7.10</td>\n",
              "      <td>-4.5</td>\n",
              "    </tr>\n",
              "    <tr>\n",
              "      <th>c</th>\n",
              "      <td>NaN</td>\n",
              "      <td>NaN</td>\n",
              "    </tr>\n",
              "    <tr>\n",
              "      <th>d</th>\n",
              "      <td>0.75</td>\n",
              "      <td>-1.3</td>\n",
              "    </tr>\n",
              "  </tbody>\n",
              "</table>\n",
              "</div>"
            ],
            "text/plain": [
              "    one  two\n",
              "a  1.40  NaN\n",
              "b  7.10 -4.5\n",
              "c   NaN  NaN\n",
              "d  0.75 -1.3"
            ]
          },
          "metadata": {
            "tags": []
          },
          "execution_count": 26
        }
      ]
    },
    {
      "cell_type": "code",
      "metadata": {
        "id": "6wMZznCu1CsQ",
        "outputId": "6773e266-5ceb-49e4-c190-5baa46c24ad6"
      },
      "source": [
        "df.sum(axis='index')"
      ],
      "execution_count": null,
      "outputs": [
        {
          "output_type": "execute_result",
          "data": {
            "text/plain": [
              "one    9.25\n",
              "two   -5.80\n",
              "dtype: float64"
            ]
          },
          "metadata": {
            "tags": []
          },
          "execution_count": 29
        }
      ]
    },
    {
      "cell_type": "code",
      "metadata": {
        "id": "oTxlU_9V1CsQ",
        "outputId": "a168f135-2c35-4cba-a9c5-48fb8c5896d1"
      },
      "source": [
        "df.sum(axis='columns')"
      ],
      "execution_count": null,
      "outputs": [
        {
          "output_type": "execute_result",
          "data": {
            "text/plain": [
              "a    1.40\n",
              "b    2.60\n",
              "c    0.00\n",
              "d   -0.55\n",
              "dtype: float64"
            ]
          },
          "metadata": {
            "tags": []
          },
          "execution_count": 30
        }
      ]
    },
    {
      "cell_type": "code",
      "metadata": {
        "id": "i4jnuMHE1CsQ",
        "outputId": "13acd38a-3fc3-4346-c9c0-c4ba297be367"
      },
      "source": [
        "df.mean(axis='columns', skipna=False)"
      ],
      "execution_count": null,
      "outputs": [
        {
          "output_type": "execute_result",
          "data": {
            "text/plain": [
              "a      NaN\n",
              "b    1.300\n",
              "c      NaN\n",
              "d   -0.275\n",
              "dtype: float64"
            ]
          },
          "metadata": {
            "tags": []
          },
          "execution_count": 31
        }
      ]
    },
    {
      "cell_type": "code",
      "metadata": {
        "id": "hm7_oiyR1CsQ",
        "outputId": "7fb1b020-c09d-4105-976b-6c7bedea4ffb"
      },
      "source": [
        "df"
      ],
      "execution_count": null,
      "outputs": [
        {
          "output_type": "execute_result",
          "data": {
            "text/html": [
              "<div>\n",
              "<style scoped>\n",
              "    .dataframe tbody tr th:only-of-type {\n",
              "        vertical-align: middle;\n",
              "    }\n",
              "\n",
              "    .dataframe tbody tr th {\n",
              "        vertical-align: top;\n",
              "    }\n",
              "\n",
              "    .dataframe thead th {\n",
              "        text-align: right;\n",
              "    }\n",
              "</style>\n",
              "<table border=\"1\" class=\"dataframe\">\n",
              "  <thead>\n",
              "    <tr style=\"text-align: right;\">\n",
              "      <th></th>\n",
              "      <th>one</th>\n",
              "      <th>two</th>\n",
              "    </tr>\n",
              "  </thead>\n",
              "  <tbody>\n",
              "    <tr>\n",
              "      <th>a</th>\n",
              "      <td>1.40</td>\n",
              "      <td>NaN</td>\n",
              "    </tr>\n",
              "    <tr>\n",
              "      <th>b</th>\n",
              "      <td>7.10</td>\n",
              "      <td>-4.5</td>\n",
              "    </tr>\n",
              "    <tr>\n",
              "      <th>c</th>\n",
              "      <td>NaN</td>\n",
              "      <td>NaN</td>\n",
              "    </tr>\n",
              "    <tr>\n",
              "      <th>d</th>\n",
              "      <td>0.75</td>\n",
              "      <td>-1.3</td>\n",
              "    </tr>\n",
              "  </tbody>\n",
              "</table>\n",
              "</div>"
            ],
            "text/plain": [
              "    one  two\n",
              "a  1.40  NaN\n",
              "b  7.10 -4.5\n",
              "c   NaN  NaN\n",
              "d  0.75 -1.3"
            ]
          },
          "metadata": {
            "tags": []
          },
          "execution_count": 32
        }
      ]
    },
    {
      "cell_type": "code",
      "metadata": {
        "id": "Q5hUB1Az1CsQ",
        "outputId": "668e20a6-194c-4b00-893a-912ec8fed708"
      },
      "source": [
        "df.idxmax()"
      ],
      "execution_count": null,
      "outputs": [
        {
          "output_type": "execute_result",
          "data": {
            "text/plain": [
              "one    b\n",
              "two    d\n",
              "dtype: object"
            ]
          },
          "metadata": {
            "tags": []
          },
          "execution_count": 33
        }
      ]
    },
    {
      "cell_type": "code",
      "metadata": {
        "id": "qGY4BWNB1CsQ",
        "outputId": "a63d84d4-6e28-4c6a-9fdb-bfa8e46807d9"
      },
      "source": [
        "df.idxmax(axis=1)"
      ],
      "execution_count": null,
      "outputs": [
        {
          "output_type": "execute_result",
          "data": {
            "text/plain": [
              "a    one\n",
              "b    one\n",
              "c    NaN\n",
              "d    one\n",
              "dtype: object"
            ]
          },
          "metadata": {
            "tags": []
          },
          "execution_count": 34
        }
      ]
    },
    {
      "cell_type": "code",
      "metadata": {
        "id": "0lyBbYh41CsQ",
        "outputId": "28567cdb-217e-4e63-848d-5780005a7990"
      },
      "source": [
        "df.cumsum()"
      ],
      "execution_count": null,
      "outputs": [
        {
          "output_type": "execute_result",
          "data": {
            "text/html": [
              "<div>\n",
              "<style scoped>\n",
              "    .dataframe tbody tr th:only-of-type {\n",
              "        vertical-align: middle;\n",
              "    }\n",
              "\n",
              "    .dataframe tbody tr th {\n",
              "        vertical-align: top;\n",
              "    }\n",
              "\n",
              "    .dataframe thead th {\n",
              "        text-align: right;\n",
              "    }\n",
              "</style>\n",
              "<table border=\"1\" class=\"dataframe\">\n",
              "  <thead>\n",
              "    <tr style=\"text-align: right;\">\n",
              "      <th></th>\n",
              "      <th>one</th>\n",
              "      <th>two</th>\n",
              "    </tr>\n",
              "  </thead>\n",
              "  <tbody>\n",
              "    <tr>\n",
              "      <th>a</th>\n",
              "      <td>1.40</td>\n",
              "      <td>NaN</td>\n",
              "    </tr>\n",
              "    <tr>\n",
              "      <th>b</th>\n",
              "      <td>8.50</td>\n",
              "      <td>-4.5</td>\n",
              "    </tr>\n",
              "    <tr>\n",
              "      <th>c</th>\n",
              "      <td>NaN</td>\n",
              "      <td>NaN</td>\n",
              "    </tr>\n",
              "    <tr>\n",
              "      <th>d</th>\n",
              "      <td>9.25</td>\n",
              "      <td>-5.8</td>\n",
              "    </tr>\n",
              "  </tbody>\n",
              "</table>\n",
              "</div>"
            ],
            "text/plain": [
              "    one  two\n",
              "a  1.40  NaN\n",
              "b  8.50 -4.5\n",
              "c   NaN  NaN\n",
              "d  9.25 -5.8"
            ]
          },
          "metadata": {
            "tags": []
          },
          "execution_count": 35
        }
      ]
    },
    {
      "cell_type": "code",
      "metadata": {
        "id": "TXmVcxvN1CsR",
        "outputId": "b140de89-84ce-46cf-8234-5745cb3f027e"
      },
      "source": [
        "df.cumsum(axis=1)"
      ],
      "execution_count": null,
      "outputs": [
        {
          "output_type": "execute_result",
          "data": {
            "text/html": [
              "<div>\n",
              "<style scoped>\n",
              "    .dataframe tbody tr th:only-of-type {\n",
              "        vertical-align: middle;\n",
              "    }\n",
              "\n",
              "    .dataframe tbody tr th {\n",
              "        vertical-align: top;\n",
              "    }\n",
              "\n",
              "    .dataframe thead th {\n",
              "        text-align: right;\n",
              "    }\n",
              "</style>\n",
              "<table border=\"1\" class=\"dataframe\">\n",
              "  <thead>\n",
              "    <tr style=\"text-align: right;\">\n",
              "      <th></th>\n",
              "      <th>one</th>\n",
              "      <th>two</th>\n",
              "    </tr>\n",
              "  </thead>\n",
              "  <tbody>\n",
              "    <tr>\n",
              "      <th>a</th>\n",
              "      <td>1.40</td>\n",
              "      <td>NaN</td>\n",
              "    </tr>\n",
              "    <tr>\n",
              "      <th>b</th>\n",
              "      <td>7.10</td>\n",
              "      <td>2.60</td>\n",
              "    </tr>\n",
              "    <tr>\n",
              "      <th>c</th>\n",
              "      <td>NaN</td>\n",
              "      <td>NaN</td>\n",
              "    </tr>\n",
              "    <tr>\n",
              "      <th>d</th>\n",
              "      <td>0.75</td>\n",
              "      <td>-0.55</td>\n",
              "    </tr>\n",
              "  </tbody>\n",
              "</table>\n",
              "</div>"
            ],
            "text/plain": [
              "    one   two\n",
              "a  1.40   NaN\n",
              "b  7.10  2.60\n",
              "c   NaN   NaN\n",
              "d  0.75 -0.55"
            ]
          },
          "metadata": {
            "tags": []
          },
          "execution_count": 36
        }
      ]
    },
    {
      "cell_type": "code",
      "metadata": {
        "id": "QsxRJKfY1CsR",
        "outputId": "96ec13a1-37e1-4c2a-c899-bc6044d917cb"
      },
      "source": [
        "df"
      ],
      "execution_count": null,
      "outputs": [
        {
          "output_type": "execute_result",
          "data": {
            "text/html": [
              "<div>\n",
              "<style scoped>\n",
              "    .dataframe tbody tr th:only-of-type {\n",
              "        vertical-align: middle;\n",
              "    }\n",
              "\n",
              "    .dataframe tbody tr th {\n",
              "        vertical-align: top;\n",
              "    }\n",
              "\n",
              "    .dataframe thead th {\n",
              "        text-align: right;\n",
              "    }\n",
              "</style>\n",
              "<table border=\"1\" class=\"dataframe\">\n",
              "  <thead>\n",
              "    <tr style=\"text-align: right;\">\n",
              "      <th></th>\n",
              "      <th>one</th>\n",
              "      <th>two</th>\n",
              "    </tr>\n",
              "  </thead>\n",
              "  <tbody>\n",
              "    <tr>\n",
              "      <th>a</th>\n",
              "      <td>1.40</td>\n",
              "      <td>NaN</td>\n",
              "    </tr>\n",
              "    <tr>\n",
              "      <th>b</th>\n",
              "      <td>7.10</td>\n",
              "      <td>-4.5</td>\n",
              "    </tr>\n",
              "    <tr>\n",
              "      <th>c</th>\n",
              "      <td>NaN</td>\n",
              "      <td>NaN</td>\n",
              "    </tr>\n",
              "    <tr>\n",
              "      <th>d</th>\n",
              "      <td>0.75</td>\n",
              "      <td>-1.3</td>\n",
              "    </tr>\n",
              "  </tbody>\n",
              "</table>\n",
              "</div>"
            ],
            "text/plain": [
              "    one  two\n",
              "a  1.40  NaN\n",
              "b  7.10 -4.5\n",
              "c   NaN  NaN\n",
              "d  0.75 -1.3"
            ]
          },
          "metadata": {
            "tags": []
          },
          "execution_count": 37
        }
      ]
    },
    {
      "cell_type": "code",
      "metadata": {
        "id": "eLpe2xyK1CsR",
        "outputId": "85cdbab1-098e-40cd-8d05-22b80ca4791f"
      },
      "source": [
        "df.describe()"
      ],
      "execution_count": null,
      "outputs": [
        {
          "output_type": "execute_result",
          "data": {
            "text/html": [
              "<div>\n",
              "<style scoped>\n",
              "    .dataframe tbody tr th:only-of-type {\n",
              "        vertical-align: middle;\n",
              "    }\n",
              "\n",
              "    .dataframe tbody tr th {\n",
              "        vertical-align: top;\n",
              "    }\n",
              "\n",
              "    .dataframe thead th {\n",
              "        text-align: right;\n",
              "    }\n",
              "</style>\n",
              "<table border=\"1\" class=\"dataframe\">\n",
              "  <thead>\n",
              "    <tr style=\"text-align: right;\">\n",
              "      <th></th>\n",
              "      <th>one</th>\n",
              "      <th>two</th>\n",
              "    </tr>\n",
              "  </thead>\n",
              "  <tbody>\n",
              "    <tr>\n",
              "      <th>count</th>\n",
              "      <td>3.000000</td>\n",
              "      <td>2.000000</td>\n",
              "    </tr>\n",
              "    <tr>\n",
              "      <th>mean</th>\n",
              "      <td>3.083333</td>\n",
              "      <td>-2.900000</td>\n",
              "    </tr>\n",
              "    <tr>\n",
              "      <th>std</th>\n",
              "      <td>3.493685</td>\n",
              "      <td>2.262742</td>\n",
              "    </tr>\n",
              "    <tr>\n",
              "      <th>min</th>\n",
              "      <td>0.750000</td>\n",
              "      <td>-4.500000</td>\n",
              "    </tr>\n",
              "    <tr>\n",
              "      <th>25%</th>\n",
              "      <td>1.075000</td>\n",
              "      <td>-3.700000</td>\n",
              "    </tr>\n",
              "    <tr>\n",
              "      <th>50%</th>\n",
              "      <td>1.400000</td>\n",
              "      <td>-2.900000</td>\n",
              "    </tr>\n",
              "    <tr>\n",
              "      <th>75%</th>\n",
              "      <td>4.250000</td>\n",
              "      <td>-2.100000</td>\n",
              "    </tr>\n",
              "    <tr>\n",
              "      <th>max</th>\n",
              "      <td>7.100000</td>\n",
              "      <td>-1.300000</td>\n",
              "    </tr>\n",
              "  </tbody>\n",
              "</table>\n",
              "</div>"
            ],
            "text/plain": [
              "            one       two\n",
              "count  3.000000  2.000000\n",
              "mean   3.083333 -2.900000\n",
              "std    3.493685  2.262742\n",
              "min    0.750000 -4.500000\n",
              "25%    1.075000 -3.700000\n",
              "50%    1.400000 -2.900000\n",
              "75%    4.250000 -2.100000\n",
              "max    7.100000 -1.300000"
            ]
          },
          "metadata": {
            "tags": []
          },
          "execution_count": 38
        }
      ]
    },
    {
      "cell_type": "code",
      "metadata": {
        "id": "y7TGOow01CsR"
      },
      "source": [
        "obj = pd.Series(['b', 'ab', 'a', 'b', 'c', 'b'] * 4)"
      ],
      "execution_count": null,
      "outputs": []
    },
    {
      "cell_type": "code",
      "metadata": {
        "id": "0rI44Xzv1CsR",
        "outputId": "0c157970-4c84-4559-ee03-6fa78f52e59f"
      },
      "source": [
        "obj.describe()"
      ],
      "execution_count": null,
      "outputs": [
        {
          "output_type": "execute_result",
          "data": {
            "text/plain": [
              "count     24\n",
              "unique     4\n",
              "top        b\n",
              "freq      12\n",
              "dtype: object"
            ]
          },
          "metadata": {
            "tags": []
          },
          "execution_count": 42
        }
      ]
    },
    {
      "cell_type": "markdown",
      "metadata": {
        "id": "uhavXyd81CsR"
      },
      "source": [
        "### Correlation and Covariance"
      ]
    },
    {
      "cell_type": "markdown",
      "metadata": {
        "id": "1DnRX-7n1CsR"
      },
      "source": [
        "conda install pandas-datareader"
      ]
    },
    {
      "cell_type": "code",
      "metadata": {
        "id": "fs3hioBRu-w1",
        "outputId": "af34ef5c-c689-4e3e-b865-33b0c35b0e0c",
        "colab": {
          "resources": {
            "http://localhost:8080/nbextensions/google.colab/files.js": {
              "data": "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",
              "ok": true,
              "headers": [
                [
                  "content-type",
                  "application/javascript"
                ]
              ],
              "status": 200,
              "status_text": ""
            }
          },
          "base_uri": "https://localhost:8080/",
          "height": 114
        }
      },
      "source": [
        "from google.colab import files\n",
        "files.upload()"
      ],
      "execution_count": 177,
      "outputs": [
        {
          "output_type": "display_data",
          "data": {
            "text/html": [
              "\n",
              "     <input type=\"file\" id=\"files-7f2308ae-7408-43fd-9110-573e06f4016f\" name=\"files[]\" multiple disabled\n",
              "        style=\"border:none\" />\n",
              "     <output id=\"result-7f2308ae-7408-43fd-9110-573e06f4016f\">\n",
              "      Upload widget is only available when the cell has been executed in the\n",
              "      current browser session. Please rerun this cell to enable.\n",
              "      </output>\n",
              "      <script src=\"/nbextensions/google.colab/files.js\"></script> "
            ],
            "text/plain": [
              "<IPython.core.display.HTML object>"
            ]
          },
          "metadata": {
            "tags": []
          }
        },
        {
          "output_type": "stream",
          "text": [
            "Saving yahoo_price.pkl to yahoo_price.pkl\n"
          ],
          "name": "stdout"
        },
        {
          "output_type": "execute_result",
          "data": {
            "text/plain": [
              "{'yahoo_price.pkl': b'\\x80\\x04\\x95M\\x0e\\x01\\x00\\x00\\x00\\x00\\x00\\x8c\\x11pandas.core.frame\\x94\\x8c\\tDataFrame\\x94\\x93\\x94)\\x81\\x94}\\x94(\\x8c\\t_metadata\\x94]\\x94\\x8c\\x04_typ\\x94\\x8c\\tdataframe\\x94\\x8c\\x05_data\\x94\\x8c\\x15pandas.core.internals\\x94\\x8c\\x0cBlockManager\\x94\\x93\\x94)\\x81\\x94(]\\x94(\\x8c\\x13pandas.indexes.base\\x94\\x8c\\n_new_Index\\x94\\x93\\x94h\\x0f\\x8c\\x05Index\\x94\\x93\\x94}\\x94(\\x8c\\x04data\\x94\\x8c\\x15numpy.core.multiarray\\x94\\x8c\\x0c_reconstruct\\x94\\x93\\x94\\x8c\\x05numpy\\x94\\x8c\\x07ndarray\\x94\\x93\\x94K\\x00\\x85\\x94C\\x01b\\x94\\x87\\x94R\\x94(K\\x01K\\x04\\x85\\x94\\x8c\\x05numpy\\x94\\x8c\\x05dtype\\x94\\x93\\x94\\x8c\\x02O8\\x94K\\x00K\\x01\\x87\\x94R\\x94(K\\x03\\x8c\\x01|\\x94NNNJ\\xff\\xff\\xff\\xffJ\\xff\\xff\\xff\\xffK?t\\x94b\\x89]\\x94(\\x8c\\x04AAPL\\x94\\x8c\\x04GOOG\\x94\\x8c\\x03IBM\\x94\\x8c\\x04MSFT\\x94et\\x94b\\x8c\\x04name\\x94Nu\\x86\\x94R\\x94\\x8c\\x14pandas.tseries.index\\x94\\x8c\\x12_new_DatetimeIndex\\x94\\x93\\x94h2\\x8c\\rDatetimeIndex\\x94\\x93\\x94}\\x94(h\\x15h\\x18h\\x1bK\\x00\\x85\\x94h\\x1d\\x87\\x94R\\x94(K\\x01M\\xb2\\x06\\x85\\x94h#\\x8c\\x02M8\\x94K\\x00K\\x01\\x87\\x94R\\x94(K\\x04\\x8c\\x01<\\x94NNNJ\\xff\\xff\\xff\\xffJ\\xff\\xff\\xff\\xffK\\x00}\\x94(C\\x02ns\\x94K\\x01K\\x01K\\x01t\\x94\\x86\\x94t\\x94b\\x89B\\x905\\x00\\x00\\x00\\x00{\\x82\\x8a\\x86\\x85\\x11\\x00\\x00\\xca\\x13\\x1f\\xd5\\x85\\x11\\x00\\x00\\x19\\xa5\\xb3#\\x86\\x11\\x00\\x00h6Hr\\x86\\x11\\x00\\x00\\xb7\\xc7\\xdc\\xc0\\x86\\x11\\x00\\x00\\xa4{\\x9a\\xac\\x87\\x11\\x00\\x00\\xf3\\x0c/\\xfb\\x87\\x11\\x00\\x00B\\x9e\\xc3I\\x88\\x11\\x00\\x00\\x91/X\\x98\\x88\\x11\\x00\\x00\\xe0\\xc0\\xec\\xe6\\x88\\x11\\x00\\x00\\x1c\\x06?!\\x8a\\x11\\x00\\x00k\\x97\\xd3o\\x8a\\x11\\x00\\x00\\xba(h\\xbe\\x8a\\x11\\x00\\x00\\t\\xba\\xfc\\x0c\\x8b\\x11\\x00\\x00\\xf6m\\xba\\xf8\\x8b\\x11\\x00\\x00E\\xffNG\\x8c\\x11\\x00\\x00\\x94\\x90\\xe3\\x95\\x8c\\x11\\x00\\x00\\xe3!x\\xe4\\x8c\\x11\\x00\\x002\\xb3\\x0c3\\x8d\\x11\\x00\\x00\\x1fg\\xca\\x1e\\x8e\\x11\\x00\\x00n\\xf8^m\\x8e\\x11\\x00\\x00\\xbd\\x89\\xf3\\xbb\\x8e\\x11\\x00\\x00\\x0c\\x1b\\x88\\n\\x8f\\x11\\x00\\x00[\\xac\\x1cY\\x8f\\x11\\x00\\x00H`\\xdaD\\x90\\x11\\x00\\x00\\x97\\xf1n\\x93\\x90\\x11\\x00\\x00\\xe6\\x82\\x03\\xe2\\x90\\x11\\x00\\x005\\x14\\x980\\x91\\x11\\x00\\x00\\x84\\xa5,\\x7f\\x91\\x11\\x00\\x00\\xc0\\xea~\\xb9\\x92\\x11\\x00\\x00\\x0f|\\x13\\x08\\x93\\x11\\x00\\x00^\\r\\xa8V\\x93\\x11\\x00\\x00\\xad\\x9e<\\xa5\\x93\\x11\\x00\\x00\\x9aR\\xfa\\x90\\x94\\x11\\x00\\x00\\xe9\\xe3\\x8e\\xdf\\x94\\x11\\x00\\x008u#.\\x95\\x11\\x00\\x00\\x87\\x06\\xb8|\\x95\\x11\\x00\\x00\\xd6\\x97L\\xcb\\x95\\x11\\x00\\x00\\xc3K\\n\\xb7\\x96\\x11\\x00\\x00\\x12\\xdd\\x9e\\x05\\x97\\x11\\x00\\x00an3T\\x97\\x11\\x00\\x00\\xb0\\xff\\xc7\\xa2\\x97\\x11\\x00\\x00\\xff\\x90\\\\\\xf1\\x97\\x11\\x00\\x00\\xecD\\x1a\\xdd\\x98\\x11\\x00\\x00;\\xd6\\xae+\\x99\\x11\\x00\\x00\\x8agCz\\x99\\x11\\x00\\x00\\xd9\\xf8\\xd7\\xc8\\x99\\x11\\x00\\x00(\\x8al\\x17\\x9a\\x11\\x00\\x00\\x15>*\\x03\\x9b\\x11\\x00\\x00d\\xcf\\xbeQ\\x9b\\x11\\x00\\x00\\xb3`S\\xa0\\x9b\\x11\\x00\\x00\\x02\\xf2\\xe7\\xee\\x9b\\x11\\x00\\x00Q\\x83|=\\x9c\\x11\\x00\\x00>7:)\\x9d\\x11\\x00\\x00\\x8d\\xc8\\xcew\\x9d\\x11\\x00\\x00\\xdcYc\\xc6\\x9d\\x11\\x00\\x00+\\xeb\\xf7\\x14\\x9e\\x11\\x00\\x00z|\\x8cc\\x9e\\x11\\x00\\x00g0JO\\x9f\\x11\\x00\\x00\\xb6\\xc1\\xde\\x9d\\x9f\\x11\\x00\\x00\\x05Ss\\xec\\x9f\\x11\\x00\\x00T\\xe4\\x07;\\xa0\\x11\\x00\\x00\\x90)Zu\\xa1\\x11\\x00\\x00\\xdf\\xba\\xee\\xc3\\xa1\\x11\\x00\\x00.L\\x83\\x12\\xa2\\x11\\x00\\x00}\\xdd\\x17a\\xa2\\x11\\x00\\x00\\xccn\\xac\\xaf\\xa2\\x11\\x00\\x00\\xb9\"j\\x9b\\xa3\\x11\\x00\\x00\\x08\\xb4\\xfe\\xe9\\xa3\\x11\\x00\\x00WE\\x938\\xa4\\x11\\x00\\x00\\xa6\\xd6\\'\\x87\\xa4\\x11\\x00\\x00\\xf5g\\xbc\\xd5\\xa4\\x11\\x00\\x00\\xe2\\x1bz\\xc1\\xa5\\x11\\x00\\x001\\xad\\x0e\\x10\\xa6\\x11\\x00\\x00\\x80>\\xa3^\\xa6\\x11\\x00\\x00\\xcf\\xcf7\\xad\\xa6\\x11\\x00\\x00\\x1ea\\xcc\\xfb\\xa6\\x11\\x00\\x00\\x0b\\x15\\x8a\\xe7\\xa7\\x11\\x00\\x00Z\\xa6\\x1e6\\xa8\\x11\\x00\\x00\\xa97\\xb3\\x84\\xa8\\x11\\x00\\x00\\xf8\\xc8G\\xd3\\xa8\\x11\\x00\\x00GZ\\xdc!\\xa9\\x11\\x00\\x004\\x0e\\x9a\\r\\xaa\\x11\\x00\\x00\\x83\\x9f.\\\\\\xaa\\x11\\x00\\x00\\xd20\\xc3\\xaa\\xaa\\x11\\x00\\x00!\\xc2W\\xf9\\xaa\\x11\\x00\\x00pS\\xecG\\xab\\x11\\x00\\x00]\\x07\\xaa3\\xac\\x11\\x00\\x00\\xac\\x98>\\x82\\xac\\x11\\x00\\x00\\xfb)\\xd3\\xd0\\xac\\x11\\x00\\x00J\\xbbg\\x1f\\xad\\x11\\x00\\x00\\x99L\\xfcm\\xad\\x11\\x00\\x00\\x86\\x00\\xbaY\\xae\\x11\\x00\\x00\\xd5\\x91N\\xa8\\xae\\x11\\x00\\x00$#\\xe3\\xf6\\xae\\x11\\x00\\x00s\\xb4wE\\xaf\\x11\\x00\\x00\\xc2E\\x0c\\x94\\xaf\\x11\\x00\\x00\\xaf\\xf9\\xc9\\x7f\\xb0\\x11\\x00\\x00\\xfe\\x8a^\\xce\\xb0\\x11\\x00\\x00M\\x1c\\xf3\\x1c\\xb1\\x11\\x00\\x00\\x9c\\xad\\x87k\\xb1\\x11\\x00\\x00\\xeb>\\x1c\\xba\\xb1\\x11\\x00\\x00\\'\\x84n\\xf4\\xb2\\x11\\x00\\x00v\\x15\\x03C\\xb3\\x11\\x00\\x00\\xc5\\xa6\\x97\\x91\\xb3\\x11\\x00\\x00\\x148,\\xe0\\xb3\\x11\\x00\\x00\\x01\\xec\\xe9\\xcb\\xb4\\x11\\x00\\x00P}~\\x1a\\xb5\\x11\\x00\\x00\\x9f\\x0e\\x13i\\xb5\\x11\\x00\\x00\\xee\\x9f\\xa7\\xb7\\xb5\\x11\\x00\\x00=1<\\x06\\xb6\\x11\\x00\\x00*\\xe5\\xf9\\xf1\\xb6\\x11\\x00\\x00yv\\x8e@\\xb7\\x11\\x00\\x00\\xc8\\x07#\\x8f\\xb7\\x11\\x00\\x00\\x17\\x99\\xb7\\xdd\\xb7\\x11\\x00\\x00f*L,\\xb8\\x11\\x00\\x00S\\xde\\t\\x18\\xb9\\x11\\x00\\x00\\xa2o\\x9ef\\xb9\\x11\\x00\\x00\\xf1\\x003\\xb5\\xb9\\x11\\x00\\x00@\\x92\\xc7\\x03\\xba\\x11\\x00\\x00\\x8f#\\\\R\\xba\\x11\\x00\\x00|\\xd7\\x19>\\xbb\\x11\\x00\\x00\\xcbh\\xae\\x8c\\xbb\\x11\\x00\\x00\\x1a\\xfaB\\xdb\\xbb\\x11\\x00\\x00i\\x8b\\xd7)\\xbc\\x11\\x00\\x00\\xb8\\x1clx\\xbc\\x11\\x00\\x00\\xf4a\\xbe\\xb2\\xbd\\x11\\x00\\x00C\\xf3R\\x01\\xbe\\x11\\x00\\x00\\x92\\x84\\xe7O\\xbe\\x11\\x00\\x00\\xe1\\x15|\\x9e\\xbe\\x11\\x00\\x00\\xce\\xc99\\x8a\\xbf\\x11\\x00\\x00\\x1d[\\xce\\xd8\\xbf\\x11\\x00\\x00l\\xecb\\'\\xc0\\x11\\x00\\x00\\xbb}\\xf7u\\xc0\\x11\\x00\\x00\\n\\x0f\\x8c\\xc4\\xc0\\x11\\x00\\x00\\xf7\\xc2I\\xb0\\xc1\\x11\\x00\\x00FT\\xde\\xfe\\xc1\\x11\\x00\\x00\\x95\\xe5rM\\xc2\\x11\\x00\\x00\\xe4v\\x07\\x9c\\xc2\\x11\\x00\\x003\\x08\\x9c\\xea\\xc2\\x11\\x00\\x00 \\xbcY\\xd6\\xc3\\x11\\x00\\x00oM\\xee$\\xc4\\x11\\x00\\x00\\xbe\\xde\\x82s\\xc4\\x11\\x00\\x00\\rp\\x17\\xc2\\xc4\\x11\\x00\\x00\\\\\\x01\\xac\\x10\\xc5\\x11\\x00\\x00I\\xb5i\\xfc\\xc5\\x11\\x00\\x00\\x98F\\xfeJ\\xc6\\x11\\x00\\x00\\xe7\\xd7\\x92\\x99\\xc6\\x11\\x00\\x006i\\'\\xe8\\xc6\\x11\\x00\\x00\\x85\\xfa\\xbb6\\xc7\\x11\\x00\\x00r\\xaey\"\\xc8\\x11\\x00\\x00\\xc1?\\x0eq\\xc8\\x11\\x00\\x00\\x10\\xd1\\xa2\\xbf\\xc8\\x11\\x00\\x00_b7\\x0e\\xc9\\x11\\x00\\x00\\xae\\xf3\\xcb\\\\\\xc9\\x11\\x00\\x00\\x9b\\xa7\\x89H\\xca\\x11\\x00\\x00\\xea8\\x1e\\x97\\xca\\x11\\x00\\x009\\xca\\xb2\\xe5\\xca\\x11\\x00\\x00\\x88[G4\\xcb\\x11\\x00\\x00\\xd7\\xec\\xdb\\x82\\xcb\\x11\\x00\\x00\\xc4\\xa0\\x99n\\xcc\\x11\\x00\\x00\\x132.\\xbd\\xcc\\x11\\x00\\x00b\\xc3\\xc2\\x0b\\xcd\\x11\\x00\\x00\\xb1TWZ\\xcd\\x11\\x00\\x00\\x00\\xe6\\xeb\\xa8\\xcd\\x11\\x00\\x00\\xed\\x99\\xa9\\x94\\xce\\x11\\x00\\x00<+>\\xe3\\xce\\x11\\x00\\x00\\x8b\\xbc\\xd21\\xcf\\x11\\x00\\x00\\xdaMg\\x80\\xcf\\x11\\x00\\x00)\\xdf\\xfb\\xce\\xcf\\x11\\x00\\x00e$N\\t\\xd1\\x11\\x00\\x00\\xb4\\xb5\\xe2W\\xd1\\x11\\x00\\x00\\x03Gw\\xa6\\xd1\\x11\\x00\\x00R\\xd8\\x0b\\xf5\\xd1\\x11\\x00\\x00?\\x8c\\xc9\\xe0\\xd2\\x11\\x00\\x00\\x8e\\x1d^/\\xd3\\x11\\x00\\x00\\xdd\\xae\\xf2}\\xd3\\x11\\x00\\x00,@\\x87\\xcc\\xd3\\x11\\x00\\x00{\\xd1\\x1b\\x1b\\xd4\\x11\\x00\\x00h\\x85\\xd9\\x06\\xd5\\x11\\x00\\x00\\xb7\\x16nU\\xd5\\x11\\x00\\x00\\x06\\xa8\\x02\\xa4\\xd5\\x11\\x00\\x00U9\\x97\\xf2\\xd5\\x11\\x00\\x00\\xa4\\xca+A\\xd6\\x11\\x00\\x00\\x91~\\xe9,\\xd7\\x11\\x00\\x00\\xe0\\x0f~{\\xd7\\x11\\x00\\x00/\\xa1\\x12\\xca\\xd7\\x11\\x00\\x00~2\\xa7\\x18\\xd8\\x11\\x00\\x00\\xcd\\xc3;g\\xd8\\x11\\x00\\x00\\xbaw\\xf9R\\xd9\\x11\\x00\\x00\\t\\t\\x8e\\xa1\\xd9\\x11\\x00\\x00X\\x9a\"\\xf0\\xd9\\x11\\x00\\x00\\xa7+\\xb7>\\xda\\x11\\x00\\x00\\xf6\\xbcK\\x8d\\xda\\x11\\x00\\x00\\xe3p\\ty\\xdb\\x11\\x00\\x002\\x02\\x9e\\xc7\\xdb\\x11\\x00\\x00\\x81\\x932\\x16\\xdc\\x11\\x00\\x00\\xd0$\\xc7d\\xdc\\x11\\x00\\x00\\x1f\\xb6[\\xb3\\xdc\\x11\\x00\\x00\\x0cj\\x19\\x9f\\xdd\\x11\\x00\\x00[\\xfb\\xad\\xed\\xdd\\x11\\x00\\x00\\xaa\\x8cB<\\xde\\x11\\x00\\x00\\xf9\\x1d\\xd7\\x8a\\xde\\x11\\x00\\x00H\\xafk\\xd9\\xde\\x11\\x00\\x005c)\\xc5\\xdf\\x11\\x00\\x00\\x84\\xf4\\xbd\\x13\\xe0\\x11\\x00\\x00\\xd3\\x85Rb\\xe0\\x11\\x00\\x00\"\\x17\\xe7\\xb0\\xe0\\x11\\x00\\x00q\\xa8{\\xff\\xe0\\x11\\x00\\x00^\\\\9\\xeb\\xe1\\x11\\x00\\x00\\xad\\xed\\xcd9\\xe2\\x11\\x00\\x00\\xfc~b\\x88\\xe2\\x11\\x00\\x00K\\x10\\xf7\\xd6\\xe2\\x11\\x00\\x00\\x9a\\xa1\\x8b%\\xe3\\x11\\x00\\x00\\x87UI\\x11\\xe4\\x11\\x00\\x00\\xd6\\xe6\\xdd_\\xe4\\x11\\x00\\x00%xr\\xae\\xe4\\x11\\x00\\x00t\\t\\x07\\xfd\\xe4\\x11\\x00\\x00\\xc3\\x9a\\x9bK\\xe5\\x11\\x00\\x00\\xb0NY7\\xe6\\x11\\x00\\x00\\xff\\xdf\\xed\\x85\\xe6\\x11\\x00\\x00Nq\\x82\\xd4\\xe6\\x11\\x00\\x00\\x9d\\x02\\x17#\\xe7\\x11\\x00\\x00\\xec\\x93\\xabq\\xe7\\x11\\x00\\x00\\xd9Gi]\\xe8\\x11\\x00\\x00(\\xd9\\xfd\\xab\\xe8\\x11\\x00\\x00wj\\x92\\xfa\\xe8\\x11\\x00\\x00\\x15\\x8d\\xbb\\x97\\xe9\\x11\\x00\\x00\\x02Ay\\x83\\xea\\x11\\x00\\x00Q\\xd2\\r\\xd2\\xea\\x11\\x00\\x00\\xa0c\\xa2 \\xeb\\x11\\x00\\x00\\xef\\xf46o\\xeb\\x11\\x00\\x00>\\x86\\xcb\\xbd\\xeb\\x11\\x00\\x00+:\\x89\\xa9\\xec\\x11\\x00\\x00z\\xcb\\x1d\\xf8\\xec\\x11\\x00\\x00\\xc9\\\\\\xb2F\\xed\\x11\\x00\\x00\\x18\\xeeF\\x95\\xed\\x11\\x00\\x00g\\x7f\\xdb\\xe3\\xed\\x11\\x00\\x00T3\\x99\\xcf\\xee\\x11\\x00\\x00\\xa3\\xc4-\\x1e\\xef\\x11\\x00\\x00\\xf2U\\xc2l\\xef\\x11\\x00\\x00A\\xe7V\\xbb\\xef\\x11\\x00\\x00\\x90x\\xeb\\t\\xf0\\x11\\x00\\x00},\\xa9\\xf5\\xf0\\x11\\x00\\x00\\xcc\\xbd=D\\xf1\\x11\\x00\\x00\\x1bO\\xd2\\x92\\xf1\\x11\\x00\\x00j\\xe0f\\xe1\\xf1\\x11\\x00\\x00\\xa6%\\xb9\\x1b\\xf3\\x11\\x00\\x00\\xf5\\xb6Mj\\xf3\\x11\\x00\\x00DH\\xe2\\xb8\\xf3\\x11\\x00\\x00\\x93\\xd9v\\x07\\xf4\\x11\\x00\\x00\\xe2j\\x0bV\\xf4\\x11\\x00\\x00\\xcf\\x1e\\xc9A\\xf5\\x11\\x00\\x00\\x1e\\xb0]\\x90\\xf5\\x11\\x00\\x00mA\\xf2\\xde\\xf5\\x11\\x00\\x00\\xbc\\xd2\\x86-\\xf6\\x11\\x00\\x00\\x0bd\\x1b|\\xf6\\x11\\x00\\x00\\xf8\\x17\\xd9g\\xf7\\x11\\x00\\x00G\\xa9m\\xb6\\xf7\\x11\\x00\\x00\\x96:\\x02\\x05\\xf8\\x11\\x00\\x00\\xe5\\xcb\\x96S\\xf8\\x11\\x00\\x004]+\\xa2\\xf8\\x11\\x00\\x00p\\xa2}\\xdc\\xf9\\x11\\x00\\x00\\xbf3\\x12+\\xfa\\x11\\x00\\x00\\x0e\\xc5\\xa6y\\xfa\\x11\\x00\\x00]V;\\xc8\\xfa\\x11\\x00\\x00J\\n\\xf9\\xb3\\xfb\\x11\\x00\\x00\\x99\\x9b\\x8d\\x02\\xfc\\x11\\x00\\x00\\xe8,\"Q\\xfc\\x11\\x00\\x007\\xbe\\xb6\\x9f\\xfc\\x11\\x00\\x00\\x86OK\\xee\\xfc\\x11\\x00\\x00s\\x03\\t\\xda\\xfd\\x11\\x00\\x00\\xc2\\x94\\x9d(\\xfe\\x11\\x00\\x00\\x11&2w\\xfe\\x11\\x00\\x00`\\xb7\\xc6\\xc5\\xfe\\x11\\x00\\x00\\xafH[\\x14\\xff\\x11\\x00\\x00\\x9c\\xfc\\x18\\x00\\x00\\x12\\x00\\x00\\xeb\\x8d\\xadN\\x00\\x12\\x00\\x00:\\x1fB\\x9d\\x00\\x12\\x00\\x00\\x89\\xb0\\xd6\\xeb\\x00\\x12\\x00\\x00\\xd8Ak:\\x01\\x12\\x00\\x00\\xc5\\xf5(&\\x02\\x12\\x00\\x00\\x14\\x87\\xbdt\\x02\\x12\\x00\\x00c\\x18R\\xc3\\x02\\x12\\x00\\x00\\xb2\\xa9\\xe6\\x11\\x03\\x12\\x00\\x00\\x01;{`\\x03\\x12\\x00\\x00=\\x80\\xcd\\x9a\\x04\\x12\\x00\\x00\\x8c\\x11b\\xe9\\x04\\x12\\x00\\x00\\xdb\\xa2\\xf67\\x05\\x12\\x00\\x00*4\\x8b\\x86\\x05\\x12\\x00\\x00\\x17\\xe8Hr\\x06\\x12\\x00\\x00fy\\xdd\\xc0\\x06\\x12\\x00\\x00\\xb5\\nr\\x0f\\x07\\x12\\x00\\x00\\x04\\x9c\\x06^\\x07\\x12\\x00\\x00S-\\x9b\\xac\\x07\\x12\\x00\\x00@\\xe1X\\x98\\x08\\x12\\x00\\x00\\x8fr\\xed\\xe6\\x08\\x12\\x00\\x00\\xde\\x03\\x825\\t\\x12\\x00\\x00-\\x95\\x16\\x84\\t\\x12\\x00\\x00|&\\xab\\xd2\\t\\x12\\x00\\x00i\\xdah\\xbe\\n\\x12\\x00\\x00\\xb8k\\xfd\\x0c\\x0b\\x12\\x00\\x00\\x07\\xfd\\x91[\\x0b\\x12\\x00\\x00V\\x8e&\\xaa\\x0b\\x12\\x00\\x00\\xa5\\x1f\\xbb\\xf8\\x0b\\x12\\x00\\x00\\x92\\xd3x\\xe4\\x0c\\x12\\x00\\x00\\xe1d\\r3\\r\\x12\\x00\\x000\\xf6\\xa1\\x81\\r\\x12\\x00\\x00\\x7f\\x876\\xd0\\r\\x12\\x00\\x00\\xce\\x18\\xcb\\x1e\\x0e\\x12\\x00\\x00\\xbb\\xcc\\x88\\n\\x0f\\x12\\x00\\x00\\n^\\x1dY\\x0f\\x12\\x00\\x00Y\\xef\\xb1\\xa7\\x0f\\x12\\x00\\x00\\xa8\\x80F\\xf6\\x0f\\x12\\x00\\x00\\xf7\\x11\\xdbD\\x10\\x12\\x00\\x00\\xe4\\xc5\\x980\\x11\\x12\\x00\\x003W-\\x7f\\x11\\x12\\x00\\x00\\x82\\xe8\\xc1\\xcd\\x11\\x12\\x00\\x00\\xd1yV\\x1c\\x12\\x12\\x00\\x00 \\x0b\\xebj\\x12\\x12\\x00\\x00\\r\\xbf\\xa8V\\x13\\x12\\x00\\x00\\\\P=\\xa5\\x13\\x12\\x00\\x00\\xab\\xe1\\xd1\\xf3\\x13\\x12\\x00\\x00\\xfarfB\\x14\\x12\\x00\\x00I\\x04\\xfb\\x90\\x14\\x12\\x00\\x006\\xb8\\xb8|\\x15\\x12\\x00\\x00\\x85IM\\xcb\\x15\\x12\\x00\\x00\\xd4\\xda\\xe1\\x19\\x16\\x12\\x00\\x00#lvh\\x16\\x12\\x00\\x00_\\xb1\\xc8\\xa2\\x17\\x12\\x00\\x00\\xaeB]\\xf1\\x17\\x12\\x00\\x00\\xfd\\xd3\\xf1?\\x18\\x12\\x00\\x00Le\\x86\\x8e\\x18\\x12\\x00\\x00\\x9b\\xf6\\x1a\\xdd\\x18\\x12\\x00\\x00\\x88\\xaa\\xd8\\xc8\\x19\\x12\\x00\\x00\\xd7;m\\x17\\x1a\\x12\\x00\\x00&\\xcd\\x01f\\x1a\\x12\\x00\\x00u^\\x96\\xb4\\x1a\\x12\\x00\\x00\\xc4\\xef*\\x03\\x1b\\x12\\x00\\x00\\xb1\\xa3\\xe8\\xee\\x1b\\x12\\x00\\x00\\x005}=\\x1c\\x12\\x00\\x00O\\xc6\\x11\\x8c\\x1c\\x12\\x00\\x00\\x9eW\\xa6\\xda\\x1c\\x12\\x00\\x00\\xed\\xe8:)\\x1d\\x12\\x00\\x00\\xda\\x9c\\xf8\\x14\\x1e\\x12\\x00\\x00).\\x8dc\\x1e\\x12\\x00\\x00x\\xbf!\\xb2\\x1e\\x12\\x00\\x00\\xc7P\\xb6\\x00\\x1f\\x12\\x00\\x00\\x16\\xe2JO\\x1f\\x12\\x00\\x00\\x03\\x96\\x08; \\x12\\x00\\x00R\\'\\x9d\\x89 \\x12\\x00\\x00\\xa1\\xb81\\xd8 \\x12\\x00\\x00\\xf0I\\xc6&!\\x12\\x00\\x00?\\xdbZu!\\x12\\x00\\x00{ \\xad\\xaf\"\\x12\\x00\\x00\\xca\\xb1A\\xfe\"\\x12\\x00\\x00\\x19C\\xd6L#\\x12\\x00\\x00h\\xd4j\\x9b#\\x12\\x00\\x00U\\x88(\\x87$\\x12\\x00\\x00\\xa4\\x19\\xbd\\xd5$\\x12\\x00\\x00\\xf3\\xaaQ$%\\x12\\x00\\x00B<\\xe6r%\\x12\\x00\\x00\\x91\\xcdz\\xc1%\\x12\\x00\\x00~\\x818\\xad&\\x12\\x00\\x00\\xcd\\x12\\xcd\\xfb&\\x12\\x00\\x00\\x1c\\xa4aJ\\'\\x12\\x00\\x00k5\\xf6\\x98\\'\\x12\\x00\\x00\\xba\\xc6\\x8a\\xe7\\'\\x12\\x00\\x00\\xa7zH\\xd3(\\x12\\x00\\x00\\xf6\\x0b\\xdd!)\\x12\\x00\\x00E\\x9dqp)\\x12\\x00\\x00\\x94.\\x06\\xbf)\\x12\\x00\\x00\\xe3\\xbf\\x9a\\r*\\x12\\x00\\x00\\xd0sX\\xf9*\\x12\\x00\\x00\\x1f\\x05\\xedG+\\x12\\x00\\x00n\\x96\\x81\\x96+\\x12\\x00\\x00\\xbd\\'\\x16\\xe5+\\x12\\x00\\x00\\x0c\\xb9\\xaa3,\\x12\\x00\\x00H\\xfe\\xfcm-\\x12\\x00\\x00\\x97\\x8f\\x91\\xbc-\\x12\\x00\\x00\\xe6 &\\x0b.\\x12\\x00\\x005\\xb2\\xbaY.\\x12\\x00\\x00\"fxE/\\x12\\x00\\x00q\\xf7\\x0c\\x94/\\x12\\x00\\x00\\xc0\\x88\\xa1\\xe2/\\x12\\x00\\x00\\x0f\\x1a610\\x12\\x00\\x00^\\xab\\xca\\x7f0\\x12\\x00\\x00K_\\x88k1\\x12\\x00\\x00\\x9a\\xf0\\x1c\\xba1\\x12\\x00\\x00\\xe9\\x81\\xb1\\x082\\x12\\x00\\x008\\x13FW2\\x12\\x00\\x00\\x87\\xa4\\xda\\xa52\\x12\\x00\\x00tX\\x98\\x913\\x12\\x00\\x00\\xc3\\xe9,\\xe03\\x12\\x00\\x00\\x12{\\xc1.4\\x12\\x00\\x00a\\x0cV}4\\x12\\x00\\x00\\xb0\\x9d\\xea\\xcb4\\x12\\x00\\x00\\x9dQ\\xa8\\xb75\\x12\\x00\\x00\\xec\\xe2<\\x066\\x12\\x00\\x00;t\\xd1T6\\x12\\x00\\x00\\x8a\\x05f\\xa36\\x12\\x00\\x00\\xd9\\x96\\xfa\\xf16\\x12\\x00\\x00\\xc6J\\xb8\\xdd7\\x12\\x00\\x00\\x15\\xdcL,8\\x12\\x00\\x00dm\\xe1z8\\x12\\x00\\x00\\xb3\\xfeu\\xc98\\x12\\x00\\x00\\x02\\x90\\n\\x189\\x12\\x00\\x00\\xefC\\xc8\\x03:\\x12\\x00\\x00>\\xd5\\\\R:\\x12\\x00\\x00\\x8df\\xf1\\xa0:\\x12\\x00\\x00\\xdc\\xf7\\x85\\xef:\\x12\\x00\\x00+\\x89\\x1a>;\\x12\\x00\\x00\\x18=\\xd8)<\\x12\\x00\\x00g\\xcelx<\\x12\\x00\\x00\\xb6_\\x01\\xc7<\\x12\\x00\\x00\\x05\\xf1\\x95\\x15=\\x12\\x00\\x00T\\x82*d=\\x12\\x00\\x00A6\\xe8O>\\x12\\x00\\x00\\x90\\xc7|\\x9e>\\x12\\x00\\x00\\xdfX\\x11\\xed>\\x12\\x00\\x00.\\xea\\xa5;?\\x12\\x00\\x00}{:\\x8a?\\x12\\x00\\x00\\xb9\\xc0\\x8c\\xc4@\\x12\\x00\\x00\\x08R!\\x13A\\x12\\x00\\x00W\\xe3\\xb5aA\\x12\\x00\\x00\\xa6tJ\\xb0A\\x12\\x00\\x00\\x93(\\x08\\x9cB\\x12\\x00\\x00\\xe2\\xb9\\x9c\\xeaB\\x12\\x00\\x001K19C\\x12\\x00\\x00\\x80\\xdc\\xc5\\x87C\\x12\\x00\\x00\\xcfmZ\\xd6C\\x12\\x00\\x00\\xbc!\\x18\\xc2D\\x12\\x00\\x00\\x0b\\xb3\\xac\\x10E\\x12\\x00\\x00ZDA_E\\x12\\x00\\x00\\xa9\\xd5\\xd5\\xadE\\x12\\x00\\x00\\xf8fj\\xfcE\\x12\\x00\\x00\\xe5\\x1a(\\xe8F\\x12\\x00\\x004\\xac\\xbc6G\\x12\\x00\\x00\\x83=Q\\x85G\\x12\\x00\\x00\\xd2\\xce\\xe5\\xd3G\\x12\\x00\\x00!`z\"H\\x12\\x00\\x00\\x0e\\x148\\x0eI\\x12\\x00\\x00]\\xa5\\xcc\\\\I\\x12\\x00\\x00\\xac6a\\xabI\\x12\\x00\\x00\\xfb\\xc7\\xf5\\xf9I\\x12\\x00\\x00JY\\x8aHJ\\x12\\x00\\x007\\rH4K\\x12\\x00\\x00\\x86\\x9e\\xdc\\x82K\\x12\\x00\\x00\\xd5/q\\xd1K\\x12\\x00\\x00$\\xc1\\x05 L\\x12\\x00\\x00sR\\x9anL\\x12\\x00\\x00`\\x06XZM\\x12\\x00\\x00\\xaf\\x97\\xec\\xa8M\\x12\\x00\\x00\\xfe(\\x81\\xf7M\\x12\\x00\\x00M\\xba\\x15FN\\x12\\x00\\x00\\x9cK\\xaa\\x94N\\x12\\x00\\x00\\x89\\xffg\\x80O\\x12\\x00\\x00\\xd8\\x90\\xfc\\xceO\\x12\\x00\\x00\\'\"\\x91\\x1dP\\x12\\x00\\x00v\\xb3%lP\\x12\\x00\\x00\\xc5D\\xba\\xbaP\\x12\\x00\\x00\\xb2\\xf8w\\xa6Q\\x12\\x00\\x00\\x01\\x8a\\x0c\\xf5Q\\x12\\x00\\x00P\\x1b\\xa1CR\\x12\\x00\\x00\\x9f\\xac5\\x92R\\x12\\x00\\x00\\xee=\\xca\\xe0R\\x12\\x00\\x00\\xdb\\xf1\\x87\\xccS\\x12\\x00\\x00*\\x83\\x1c\\x1bT\\x12\\x00\\x00y\\x14\\xb1iT\\x12\\x00\\x00\\xc8\\xa5E\\xb8T\\x12\\x00\\x00\\x177\\xda\\x06U\\x12\\x00\\x00\\x04\\xeb\\x97\\xf2U\\x12\\x00\\x00S|,AV\\x12\\x00\\x00\\xa2\\r\\xc1\\x8fV\\x12\\x00\\x00\\xf1\\x9eU\\xdeV\\x12\\x00\\x00@0\\xea,W\\x12\\x00\\x00-\\xe4\\xa7\\x18X\\x12\\x00\\x00|u<gX\\x12\\x00\\x00\\xcb\\x06\\xd1\\xb5X\\x12\\x00\\x00i)\\xfaRY\\x12\\x00\\x00V\\xdd\\xb7>Z\\x12\\x00\\x00\\xa5nL\\x8dZ\\x12\\x00\\x00\\xf4\\xff\\xe0\\xdbZ\\x12\\x00\\x00C\\x91u*[\\x12\\x00\\x00\\x92\"\\ny[\\x12\\x00\\x00\\x7f\\xd6\\xc7d\\\\\\x12\\x00\\x00\\xceg\\\\\\xb3\\\\\\x12\\x00\\x00\\x1d\\xf9\\xf0\\x01]\\x12\\x00\\x00l\\x8a\\x85P]\\x12\\x00\\x00\\xbb\\x1b\\x1a\\x9f]\\x12\\x00\\x00\\xa8\\xcf\\xd7\\x8a^\\x12\\x00\\x00\\xf7`l\\xd9^\\x12\\x00\\x00F\\xf2\\x00(_\\x12\\x00\\x00\\x95\\x83\\x95v_\\x12\\x00\\x00\\xe4\\x14*\\xc5_\\x12\\x00\\x00\\xd1\\xc8\\xe7\\xb0`\\x12\\x00\\x00 Z|\\xff`\\x12\\x00\\x00o\\xeb\\x10Na\\x12\\x00\\x00\\xbe|\\xa5\\x9ca\\x12\\x00\\x00\\r\\x0e:\\xeba\\x12\\x00\\x00IS\\x8c%c\\x12\\x00\\x00\\x98\\xe4 tc\\x12\\x00\\x00\\xe7u\\xb5\\xc2c\\x12\\x00\\x006\\x07J\\x11d\\x12\\x00\\x00rL\\x9cKe\\x12\\x00\\x00\\xc1\\xdd0\\x9ae\\x12\\x00\\x00\\x10o\\xc5\\xe8e\\x12\\x00\\x00_\\x00Z7f\\x12\\x00\\x00L\\xb4\\x17#g\\x12\\x00\\x00\\x9bE\\xacqg\\x12\\x00\\x00\\xea\\xd6@\\xc0g\\x12\\x00\\x009h\\xd5\\x0eh\\x12\\x00\\x00\\x88\\xf9i]h\\x12\\x00\\x00\\xc4>\\xbc\\x97i\\x12\\x00\\x00\\x13\\xd0P\\xe6i\\x12\\x00\\x00ba\\xe54j\\x12\\x00\\x00\\xb1\\xf2y\\x83j\\x12\\x00\\x00\\x9e\\xa67ok\\x12\\x00\\x00\\xed7\\xcc\\xbdk\\x12\\x00\\x00<\\xc9`\\x0cl\\x12\\x00\\x00\\x8bZ\\xf5Zl\\x12\\x00\\x00\\xda\\xeb\\x89\\xa9l\\x12\\x00\\x00\\xc7\\x9fG\\x95m\\x12\\x00\\x00\\x161\\xdc\\xe3m\\x12\\x00\\x00e\\xc2p2n\\x12\\x00\\x00\\xb4S\\x05\\x81n\\x12\\x00\\x00\\x03\\xe5\\x99\\xcfn\\x12\\x00\\x00\\xf0\\x98W\\xbbo\\x12\\x00\\x00?*\\xec\\tp\\x12\\x00\\x00\\x8e\\xbb\\x80Xp\\x12\\x00\\x00\\xddL\\x15\\xa7p\\x12\\x00\\x00,\\xde\\xa9\\xf5p\\x12\\x00\\x00\\x19\\x92g\\xe1q\\x12\\x00\\x00h#\\xfc/r\\x12\\x00\\x00\\xb7\\xb4\\x90~r\\x12\\x00\\x00\\x06F%\\xcdr\\x12\\x00\\x00U\\xd7\\xb9\\x1bs\\x12\\x00\\x00\\x91\\x1c\\x0cVt\\x12\\x00\\x00\\xe0\\xad\\xa0\\xa4t\\x12\\x00\\x00/?5\\xf3t\\x12\\x00\\x00~\\xd0\\xc9Au\\x12\\x00\\x00k\\x84\\x87-v\\x12\\x00\\x00\\xba\\x15\\x1c|v\\x12\\x00\\x00\\t\\xa7\\xb0\\xcav\\x12\\x00\\x00X8E\\x19w\\x12\\x00\\x00\\xa7\\xc9\\xd9gw\\x12\\x00\\x00\\x94}\\x97Sx\\x12\\x00\\x00\\xe3\\x0e,\\xa2x\\x12\\x00\\x002\\xa0\\xc0\\xf0x\\x12\\x00\\x00\\x811U?y\\x12\\x00\\x00\\xd0\\xc2\\xe9\\x8dy\\x12\\x00\\x00\\xbdv\\xa7yz\\x12\\x00\\x00\\x0c\\x08<\\xc8z\\x12\\x00\\x00[\\x99\\xd0\\x16{\\x12\\x00\\x00\\xaa*ee{\\x12\\x00\\x00\\xf9\\xbb\\xf9\\xb3{\\x12\\x00\\x00\\xe6o\\xb7\\x9f|\\x12\\x00\\x005\\x01L\\xee|\\x12\\x00\\x00\\x84\\x92\\xe0<}\\x12\\x00\\x00\\xd3#u\\x8b}\\x12\\x00\\x00\"\\xb5\\t\\xda}\\x12\\x00\\x00\\x0fi\\xc7\\xc5~\\x12\\x00\\x00^\\xfa[\\x14\\x7f\\x12\\x00\\x00\\xad\\x8b\\xf0b\\x7f\\x12\\x00\\x00\\xfc\\x1c\\x85\\xb1\\x7f\\x12\\x00\\x00K\\xae\\x19\\x00\\x80\\x12\\x00\\x008b\\xd7\\xeb\\x80\\x12\\x00\\x00\\x87\\xf3k:\\x81\\x12\\x00\\x00\\xd6\\x84\\x00\\x89\\x81\\x12\\x00\\x00%\\x16\\x95\\xd7\\x81\\x12\\x00\\x00a[\\xe7\\x11\\x83\\x12\\x00\\x00\\xb0\\xec{`\\x83\\x12\\x00\\x00\\xff}\\x10\\xaf\\x83\\x12\\x00\\x00N\\x0f\\xa5\\xfd\\x83\\x12\\x00\\x00\\x9d\\xa09L\\x84\\x12\\x00\\x00\\x8aT\\xf77\\x85\\x12\\x00\\x00\\xd9\\xe5\\x8b\\x86\\x85\\x12\\x00\\x00(w \\xd5\\x85\\x12\\x00\\x00w\\x08\\xb5#\\x86\\x12\\x00\\x00\\xc6\\x99Ir\\x86\\x12\\x00\\x00\\xb3M\\x07^\\x87\\x12\\x00\\x00\\x02\\xdf\\x9b\\xac\\x87\\x12\\x00\\x00Qp0\\xfb\\x87\\x12\\x00\\x00\\xa0\\x01\\xc5I\\x88\\x12\\x00\\x00\\xef\\x92Y\\x98\\x88\\x12\\x00\\x00\\xdcF\\x17\\x84\\x89\\x12\\x00\\x00+\\xd8\\xab\\xd2\\x89\\x12\\x00\\x00zi@!\\x8a\\x12\\x00\\x00\\xc9\\xfa\\xd4o\\x8a\\x12\\x00\\x00\\x18\\x8ci\\xbe\\x8a\\x12\\x00\\x00\\x05@\\'\\xaa\\x8b\\x12\\x00\\x00T\\xd1\\xbb\\xf8\\x8b\\x12\\x00\\x00\\xa3bPG\\x8c\\x12\\x00\\x00\\xf2\\xf3\\xe4\\x95\\x8c\\x12\\x00\\x00A\\x85y\\xe4\\x8c\\x12\\x00\\x00.97\\xd0\\x8d\\x12\\x00\\x00}\\xca\\xcb\\x1e\\x8e\\x12\\x00\\x00\\xcc[`m\\x8e\\x12\\x00\\x00\\x1b\\xed\\xf4\\xbb\\x8e\\x12\\x00\\x00j~\\x89\\n\\x8f\\x12\\x00\\x00W2G\\xf6\\x8f\\x12\\x00\\x00\\xa6\\xc3\\xdbD\\x90\\x12\\x00\\x00\\xf5Tp\\x93\\x90\\x12\\x00\\x00D\\xe6\\x04\\xe2\\x90\\x12\\x00\\x00\\x93w\\x990\\x91\\x12\\x00\\x00\\xcf\\xbc\\xebj\\x92\\x12\\x00\\x00\\x1eN\\x80\\xb9\\x92\\x12\\x00\\x00m\\xdf\\x14\\x08\\x93\\x12\\x00\\x00\\xbcp\\xa9V\\x93\\x12\\x00\\x00\\xa9$gB\\x94\\x12\\x00\\x00\\xf8\\xb5\\xfb\\x90\\x94\\x12\\x00\\x00GG\\x90\\xdf\\x94\\x12\\x00\\x00\\x96\\xd8$.\\x95\\x12\\x00\\x00\\xe5i\\xb9|\\x95\\x12\\x00\\x00\\xd2\\x1dwh\\x96\\x12\\x00\\x00!\\xaf\\x0b\\xb7\\x96\\x12\\x00\\x00p@\\xa0\\x05\\x97\\x12\\x00\\x00\\xbf\\xd14T\\x97\\x12\\x00\\x00\\x0ec\\xc9\\xa2\\x97\\x12\\x00\\x00\\xfb\\x16\\x87\\x8e\\x98\\x12\\x00\\x00J\\xa8\\x1b\\xdd\\x98\\x12\\x00\\x00\\x999\\xb0+\\x99\\x12\\x00\\x00\\xe8\\xcaDz\\x99\\x12\\x00\\x007\\\\\\xd9\\xc8\\x99\\x12\\x00\\x00$\\x10\\x97\\xb4\\x9a\\x12\\x00\\x00s\\xa1+\\x03\\x9b\\x12\\x00\\x00\\xc22\\xc0Q\\x9b\\x12\\x00\\x00\\x11\\xc4T\\xa0\\x9b\\x12\\x00\\x00`U\\xe9\\xee\\x9b\\x12\\x00\\x00M\\t\\xa7\\xda\\x9c\\x12\\x00\\x00\\x9c\\x9a;)\\x9d\\x12\\x00\\x00:\\xbdd\\xc6\\x9d\\x12\\x00\\x00\\x89N\\xf9\\x14\\x9e\\x12\\x00\\x00v\\x02\\xb7\\x00\\x9f\\x12\\x00\\x00\\xc5\\x93KO\\x9f\\x12\\x00\\x00\\x14%\\xe0\\x9d\\x9f\\x12\\x00\\x00c\\xb6t\\xec\\x9f\\x12\\x00\\x00\\xb2G\\t;\\xa0\\x12\\x00\\x00\\x9f\\xfb\\xc6&\\xa1\\x12\\x00\\x00\\xee\\x8c[u\\xa1\\x12\\x00\\x00=\\x1e\\xf0\\xc3\\xa1\\x12\\x00\\x00\\x8c\\xaf\\x84\\x12\\xa2\\x12\\x00\\x00\\xdb@\\x19a\\xa2\\x12\\x00\\x00\\xc8\\xf4\\xd6L\\xa3\\x12\\x00\\x00\\x17\\x86k\\x9b\\xa3\\x12\\x00\\x00f\\x17\\x00\\xea\\xa3\\x12\\x00\\x00\\xb5\\xa8\\x948\\xa4\\x12\\x00\\x00\\x04:)\\x87\\xa4\\x12\\x00\\x00\\xf1\\xed\\xe6r\\xa5\\x12\\x00\\x00@\\x7f{\\xc1\\xa5\\x12\\x00\\x00\\x8f\\x10\\x10\\x10\\xa6\\x12\\x00\\x00\\xde\\xa1\\xa4^\\xa6\\x12\\x00\\x00-39\\xad\\xa6\\x12\\x00\\x00\\x1a\\xe7\\xf6\\x98\\xa7\\x12\\x00\\x00ix\\x8b\\xe7\\xa7\\x12\\x00\\x00\\xb8\\t 6\\xa8\\x12\\x00\\x00\\x07\\x9b\\xb4\\x84\\xa8\\x12\\x00\\x00V,I\\xd3\\xa8\\x12\\x00\\x00C\\xe0\\x06\\xbf\\xa9\\x12\\x00\\x00\\x92q\\x9b\\r\\xaa\\x12\\x00\\x00\\xe1\\x020\\\\\\xaa\\x12\\x00\\x000\\x94\\xc4\\xaa\\xaa\\x12\\x00\\x00\\x7f%Y\\xf9\\xaa\\x12\\x00\\x00l\\xd9\\x16\\xe5\\xab\\x12\\x00\\x00\\xbbj\\xab3\\xac\\x12\\x00\\x00\\n\\xfc?\\x82\\xac\\x12\\x00\\x00Y\\x8d\\xd4\\xd0\\xac\\x12\\x00\\x00\\xa8\\x1ei\\x1f\\xad\\x12\\x00\\x00\\x95\\xd2&\\x0b\\xae\\x12\\x00\\x00\\xe4c\\xbbY\\xae\\x12\\x00\\x003\\xf5O\\xa8\\xae\\x12\\x00\\x00\\x82\\x86\\xe4\\xf6\\xae\\x12\\x00\\x00\\xd1\\x17yE\\xaf\\x12\\x00\\x00\\r]\\xcb\\x7f\\xb0\\x12\\x00\\x00\\\\\\xee_\\xce\\xb0\\x12\\x00\\x00\\xab\\x7f\\xf4\\x1c\\xb1\\x12\\x00\\x00\\xfa\\x10\\x89k\\xb1\\x12\\x00\\x00\\xe7\\xc4FW\\xb2\\x12\\x00\\x006V\\xdb\\xa5\\xb2\\x12\\x00\\x00\\x85\\xe7o\\xf4\\xb2\\x12\\x00\\x00\\xd4x\\x04C\\xb3\\x12\\x00\\x00#\\n\\x99\\x91\\xb3\\x12\\x00\\x00\\x10\\xbeV}\\xb4\\x12\\x00\\x00_O\\xeb\\xcb\\xb4\\x12\\x00\\x00\\xae\\xe0\\x7f\\x1a\\xb5\\x12\\x00\\x00\\xfdq\\x14i\\xb5\\x12\\x00\\x00L\\x03\\xa9\\xb7\\xb5\\x12\\x00\\x009\\xb7f\\xa3\\xb6\\x12\\x00\\x00\\x88H\\xfb\\xf1\\xb6\\x12\\x00\\x00\\xd7\\xd9\\x8f@\\xb7\\x12\\x00\\x00&k$\\x8f\\xb7\\x12\\x00\\x00u\\xfc\\xb8\\xdd\\xb7\\x12\\x00\\x00b\\xb0v\\xc9\\xb8\\x12\\x00\\x00\\xb1A\\x0b\\x18\\xb9\\x12\\x00\\x00\\x00\\xd3\\x9ff\\xb9\\x12\\x00\\x00Od4\\xb5\\xb9\\x12\\x00\\x00\\x9e\\xf5\\xc8\\x03\\xba\\x12\\x00\\x00\\x8b\\xa9\\x86\\xef\\xba\\x12\\x00\\x00\\xda:\\x1b>\\xbb\\x12\\x00\\x00)\\xcc\\xaf\\x8c\\xbb\\x12\\x00\\x00x]D\\xdb\\xbb\\x12\\x00\\x00\\xc7\\xee\\xd8)\\xbc\\x12\\x00\\x00\\xb4\\xa2\\x96\\x15\\xbd\\x12\\x00\\x00\\x034+d\\xbd\\x12\\x00\\x00R\\xc5\\xbf\\xb2\\xbd\\x12\\x00\\x00\\xa1VT\\x01\\xbe\\x12\\x00\\x00\\xf0\\xe7\\xe8O\\xbe\\x12\\x00\\x00\\xdd\\x9b\\xa6;\\xbf\\x12\\x00\\x00,-;\\x8a\\xbf\\x12\\x00\\x00{\\xbe\\xcf\\xd8\\xbf\\x12\\x00\\x00\\xcaOd\\'\\xc0\\x12\\x00\\x00\\x19\\xe1\\xf8u\\xc0\\x12\\x00\\x00\\xa4\\xb7\\xdf\\xfe\\xc1\\x12\\x00\\x00\\xf3HtM\\xc2\\x12\\x00\\x00B\\xda\\x08\\x9c\\xc2\\x12\\x00\\x00/\\x8e\\xc6\\x87\\xc3\\x12\\x00\\x00~\\x1f[\\xd6\\xc3\\x12\\x00\\x00\\xcd\\xb0\\xef$\\xc4\\x12\\x00\\x00\\x1cB\\x84s\\xc4\\x12\\x00\\x00k\\xd3\\x18\\xc2\\xc4\\x12\\x00\\x00X\\x87\\xd6\\xad\\xc5\\x12\\x00\\x00\\xa7\\x18k\\xfc\\xc5\\x12\\x00\\x00\\xf6\\xa9\\xffJ\\xc6\\x12\\x00\\x00E;\\x94\\x99\\xc6\\x12\\x00\\x00\\x94\\xcc(\\xe8\\xc6\\x12\\x00\\x00\\x81\\x80\\xe6\\xd3\\xc7\\x12\\x00\\x00\\xd0\\x11{\"\\xc8\\x12\\x00\\x00\\x1f\\xa3\\x0fq\\xc8\\x12\\x00\\x00\\xbd\\xc58\\x0e\\xc9\\x12\\x00\\x00\\xaay\\xf6\\xf9\\xc9\\x12\\x00\\x00\\xf9\\n\\x8bH\\xca\\x12\\x00\\x00H\\x9c\\x1f\\x97\\xca\\x12\\x00\\x00\\x97-\\xb4\\xe5\\xca\\x12\\x00\\x00\\xe6\\xbeH4\\xcb\\x12\\x00\\x00\\xd3r\\x06 \\xcc\\x12\\x00\\x00\"\\x04\\x9bn\\xcc\\x12\\x00\\x00q\\x95/\\xbd\\xcc\\x12\\x00\\x00\\xc0&\\xc4\\x0b\\xcd\\x12\\x00\\x00\\x0f\\xb8XZ\\xcd\\x12\\x00\\x00\\xfck\\x16F\\xce\\x12\\x00\\x00K\\xfd\\xaa\\x94\\xce\\x12\\x00\\x00\\x9a\\x8e?\\xe3\\xce\\x12\\x00\\x00\\xe9\\x1f\\xd41\\xcf\\x12\\x00\\x008\\xb1h\\x80\\xcf\\x12\\x00\\x00%e&l\\xd0\\x12\\x00\\x00t\\xf6\\xba\\xba\\xd0\\x12\\x00\\x00\\xc3\\x87O\\t\\xd1\\x12\\x00\\x00\\x12\\x19\\xe4W\\xd1\\x12\\x00\\x00a\\xaax\\xa6\\xd1\\x12\\x00\\x00N^6\\x92\\xd2\\x12\\x00\\x00\\xec\\x80_/\\xd3\\x12\\x00\\x00;\\x12\\xf4}\\xd3\\x12\\x00\\x00\\x8a\\xa3\\x88\\xcc\\xd3\\x12\\x00\\x00wWF\\xb8\\xd4\\x12\\x00\\x00\\x15zoU\\xd5\\x12\\x00\\x00d\\x0b\\x04\\xa4\\xd5\\x12\\x00\\x00\\xb3\\x9c\\x98\\xf2\\xd5\\x12\\x00\\x00\\xa0PV\\xde\\xd6\\x12\\x00\\x00\\xef\\xe1\\xea,\\xd7\\x12\\x00\\x00>s\\x7f{\\xd7\\x12\\x00\\x00\\x8d\\x04\\x14\\xca\\xd7\\x12\\x00\\x00\\xdc\\x95\\xa8\\x18\\xd8\\x12\\x00\\x00\\xc9If\\x04\\xd9\\x12\\x00\\x00\\x18\\xdb\\xfaR\\xd9\\x12\\x00\\x00gl\\x8f\\xa1\\xd9\\x12\\x00\\x00\\xb6\\xfd#\\xf0\\xd9\\x12\\x00\\x00\\x05\\x8f\\xb8>\\xda\\x12\\x00\\x00A\\xd4\\ny\\xdb\\x12\\x00\\x00\\x90e\\x9f\\xc7\\xdb\\x12\\x00\\x00\\xdf\\xf63\\x16\\xdc\\x12\\x00\\x00.\\x88\\xc8d\\xdc\\x12\\x00\\x00\\x1b<\\x86P\\xdd\\x12\\x00\\x00j\\xcd\\x1a\\x9f\\xdd\\x12\\x00\\x00\\xb9^\\xaf\\xed\\xdd\\x12\\x00\\x00\\x08\\xf0C<\\xde\\x12\\x00\\x00W\\x81\\xd8\\x8a\\xde\\x12\\x00\\x00D5\\x96v\\xdf\\x12\\x00\\x00\\x93\\xc6*\\xc5\\xdf\\x12\\x00\\x00\\xe2W\\xbf\\x13\\xe0\\x12\\x00\\x001\\xe9Sb\\xe0\\x12\\x00\\x00\\x80z\\xe8\\xb0\\xe0\\x12\\x00\\x00m.\\xa6\\x9c\\xe1\\x12\\x00\\x00\\xbc\\xbf:\\xeb\\xe1\\x12\\x00\\x00\\x0bQ\\xcf9\\xe2\\x12\\x00\\x00Z\\xe2c\\x88\\xe2\\x12\\x00\\x00\\xa9s\\xf8\\xd6\\xe2\\x12\\x00\\x00\\xe5\\xb8J\\x11\\xe4\\x12\\x00\\x004J\\xdf_\\xe4\\x12\\x00\\x00\\x83\\xdbs\\xae\\xe4\\x12\\x00\\x00\\xd2l\\x08\\xfd\\xe4\\x12\\x00\\x00\\xbf \\xc6\\xe8\\xe5\\x12\\x00\\x00\\x0e\\xb2Z7\\xe6\\x12\\x00\\x00]C\\xef\\x85\\xe6\\x12\\x00\\x00\\xac\\xd4\\x83\\xd4\\xe6\\x12\\x00\\x00\\xfbe\\x18#\\xe7\\x12\\x00\\x00\\xe8\\x19\\xd6\\x0e\\xe8\\x12\\x00\\x007\\xabj]\\xe8\\x12\\x00\\x00\\x86<\\xff\\xab\\xe8\\x12\\x00\\x00\\xd5\\xcd\\x93\\xfa\\xe8\\x12\\x00\\x00$_(I\\xe9\\x12\\x00\\x00\\x11\\x13\\xe64\\xea\\x12\\x00\\x00`\\xa4z\\x83\\xea\\x12\\x00\\x00\\xaf5\\x0f\\xd2\\xea\\x12\\x00\\x00\\xfe\\xc6\\xa3 \\xeb\\x12\\x00\\x00MX8o\\xeb\\x12\\x00\\x00:\\x0c\\xf6Z\\xec\\x12\\x00\\x00\\x89\\x9d\\x8a\\xa9\\xec\\x12\\x00\\x00\\xd8.\\x1f\\xf8\\xec\\x12\\x00\\x00\\'\\xc0\\xb3F\\xed\\x12\\x00\\x00vQH\\x95\\xed\\x12\\x00\\x00c\\x05\\x06\\x81\\xee\\x12\\x00\\x00\\xb2\\x96\\x9a\\xcf\\xee\\x12\\x00\\x00\\x01(/\\x1e\\xef\\x12\\x00\\x00P\\xb9\\xc3l\\xef\\x12\\x00\\x00\\x8c\\xfe\\x15\\xa7\\xf0\\x12\\x00\\x00\\xdb\\x8f\\xaa\\xf5\\xf0\\x12\\x00\\x00*!?D\\xf1\\x12\\x00\\x00y\\xb2\\xd3\\x92\\xf1\\x12\\x00\\x00\\xc8Ch\\xe1\\xf1\\x12\\x00\\x00\\xb5\\xf7%\\xcd\\xf2\\x12\\x00\\x00\\x04\\x89\\xba\\x1b\\xf3\\x12\\x00\\x00S\\x1aOj\\xf3\\x12\\x00\\x00\\xa2\\xab\\xe3\\xb8\\xf3\\x12\\x00\\x00\\xf1<x\\x07\\xf4\\x12\\x00\\x00\\xde\\xf05\\xf3\\xf4\\x12\\x00\\x00-\\x82\\xcaA\\xf5\\x12\\x00\\x00|\\x13_\\x90\\xf5\\x12\\x00\\x00\\xcb\\xa4\\xf3\\xde\\xf5\\x12\\x00\\x00\\x1a6\\x88-\\xf6\\x12\\x00\\x00\\x07\\xeaE\\x19\\xf7\\x12\\x00\\x00V{\\xdag\\xf7\\x12\\x00\\x00\\xa5\\x0co\\xb6\\xf7\\x12\\x00\\x00\\xf4\\x9d\\x03\\x05\\xf8\\x12\\x00\\x00C/\\x98S\\xf8\\x12\\x00\\x000\\xe3U?\\xf9\\x12\\x00\\x00\\x7ft\\xea\\x8d\\xf9\\x12\\x00\\x00\\xce\\x05\\x7f\\xdc\\xf9\\x12\\x00\\x00\\x1d\\x97\\x13+\\xfa\\x12\\x00\\x00l(\\xa8y\\xfa\\x12\\x00\\x00Y\\xdcee\\xfb\\x12\\x00\\x00\\xa8m\\xfa\\xb3\\xfb\\x12\\x00\\x00\\xf7\\xfe\\x8e\\x02\\xfc\\x12\\x00\\x00F\\x90#Q\\xfc\\x12\\x00\\x00\\x95!\\xb8\\x9f\\xfc\\x12\\x00\\x00\\x82\\xd5u\\x8b\\xfd\\x12\\x00\\x00\\xd1f\\n\\xda\\xfd\\x12\\x00\\x00 \\xf8\\x9e(\\xfe\\x12\\x00\\x00o\\x893w\\xfe\\x12\\x00\\x00\\xbe\\x1a\\xc8\\xc5\\xfe\\x12\\x00\\x00\\xab\\xce\\x85\\xb1\\xff\\x12\\x00\\x00\\xfa_\\x1a\\x00\\x00\\x13\\x00\\x00I\\xf1\\xaeN\\x00\\x13\\x00\\x00\\x98\\x82C\\x9d\\x00\\x13\\x00\\x00\\xe7\\x13\\xd8\\xeb\\x00\\x13\\x00\\x00#Y*&\\x02\\x13\\x00\\x00r\\xea\\xbet\\x02\\x13\\x00\\x00\\xc1{S\\xc3\\x02\\x13\\x00\\x00\\x10\\r\\xe8\\x11\\x03\\x13\\x00\\x00\\xfd\\xc0\\xa5\\xfd\\x03\\x13\\x00\\x00LR:L\\x04\\x13\\x00\\x00\\x9b\\xe3\\xce\\x9a\\x04\\x13\\x00\\x00\\xeatc\\xe9\\x04\\x13\\x00\\x009\\x06\\xf87\\x05\\x13\\x00\\x00&\\xba\\xb5#\\x06\\x13\\x00\\x00uKJr\\x06\\x13\\x00\\x00\\xc4\\xdc\\xde\\xc0\\x06\\x13\\x00\\x00\\x13ns\\x0f\\x07\\x13\\x00\\x00b\\xff\\x07^\\x07\\x13\\x00\\x00O\\xb3\\xc5I\\x08\\x13\\x00\\x00\\x9eDZ\\x98\\x08\\x13\\x00\\x00\\xed\\xd5\\xee\\xe6\\x08\\x13\\x00\\x00<g\\x835\\t\\x13\\x00\\x00\\x8b\\xf8\\x17\\x84\\t\\x13\\x00\\x00x\\xac\\xd5o\\n\\x13\\x00\\x00\\xc7=j\\xbe\\n\\x13\\x00\\x00\\x16\\xcf\\xfe\\x0c\\x0b\\x13\\x00\\x00e`\\x93[\\x0b\\x13\\x00\\x00\\xb4\\xf1\\'\\xaa\\x0b\\x13\\x00\\x00\\xa1\\xa5\\xe5\\x95\\x0c\\x13\\x00\\x00\\xf06z\\xe4\\x0c\\x13\\x00\\x00?\\xc8\\x0e3\\r\\x13\\x00\\x00\\xdd\\xea7\\xd0\\r\\x13\\x00\\x00\\xca\\x9e\\xf5\\xbb\\x0e\\x13\\x00\\x00\\x190\\x8a\\n\\x0f\\x13\\x00\\x00h\\xc1\\x1eY\\x0f\\x13\\x00\\x00\\xb7R\\xb3\\xa7\\x0f\\x13\\x00\\x00\\x06\\xe4G\\xf6\\x0f\\x13\\x00\\x00\\xf3\\x97\\x05\\xe2\\x10\\x13\\x00\\x00B)\\x9a0\\x11\\x13\\x00\\x00\\x91\\xba.\\x7f\\x11\\x13\\x00\\x00\\xe0K\\xc3\\xcd\\x11\\x13\\x00\\x00/\\xddW\\x1c\\x12\\x13\\x00\\x00\\x1c\\x91\\x15\\x08\\x13\\x13\\x00\\x00k\"\\xaaV\\x13\\x13\\x00\\x00\\xba\\xb3>\\xa5\\x13\\x13\\x00\\x00\\tE\\xd3\\xf3\\x13\\x13\\x00\\x00X\\xd6gB\\x14\\x13\\x00\\x00E\\x8a%.\\x15\\x13\\x00\\x00\\x94\\x1b\\xba|\\x15\\x13\\x00\\x00\\xe3\\xacN\\xcb\\x15\\x13\\x00\\x002>\\xe3\\x19\\x16\\x13\\x00\\x00\\x81\\xcfwh\\x16\\x13\\x00\\x00n\\x835T\\x17\\x13\\x00\\x00\\xbd\\x14\\xca\\xa2\\x17\\x13\\x00\\x00\\x0c\\xa6^\\xf1\\x17\\x13\\x00\\x00[7\\xf3?\\x18\\x13\\x00\\x00\\xaa\\xc8\\x87\\x8e\\x18\\x13\\x00\\x00\\x97|Ez\\x19\\x13\\x00\\x00\\xe6\\r\\xda\\xc8\\x19\\x13\\x00\\x005\\x9fn\\x17\\x1a\\x13\\x00\\x00\\x840\\x03f\\x1a\\x13\\x00\\x00\\xd3\\xc1\\x97\\xb4\\x1a\\x13\\x00\\x00\\xc0uU\\xa0\\x1b\\x13\\x00\\x00\\x0f\\x07\\xea\\xee\\x1b\\x13\\x00\\x00^\\x98~=\\x1c\\x13\\x00\\x00\\xad)\\x13\\x8c\\x1c\\x13\\x00\\x00\\xfc\\xba\\xa7\\xda\\x1c\\x13\\x00\\x00\\xe9ne\\xc6\\x1d\\x13\\x00\\x008\\x00\\xfa\\x14\\x1e\\x13\\x00\\x00\\x87\\x91\\x8ec\\x1e\\x13\\x00\\x00\\xd6\"#\\xb2\\x1e\\x13\\x00\\x00%\\xb4\\xb7\\x00\\x1f\\x13\\x00\\x00a\\xf9\\t; \\x13\\x00\\x00\\xb0\\x8a\\x9e\\x89 \\x13\\x00\\x00\\xff\\x1b3\\xd8 \\x13\\x00\\x00N\\xad\\xc7&!\\x13\\x00\\x00;a\\x85\\x12\"\\x13\\x00\\x00\\x8a\\xf2\\x19a\"\\x13\\x00\\x00\\xd9\\x83\\xae\\xaf\"\\x13\\x00\\x00(\\x15C\\xfe\"\\x13\\x00\\x00w\\xa6\\xd7L#\\x13\\x00\\x00dZ\\x958$\\x13\\x00\\x00\\xb3\\xeb)\\x87$\\x13\\x00\\x00\\x02}\\xbe\\xd5$\\x13\\x00\\x00Q\\x0eS$%\\x13\\x00\\x00\\xa0\\x9f\\xe7r%\\x13\\x00\\x00\\x8dS\\xa5^&\\x13\\x00\\x00\\xdc\\xe49\\xad&\\x13\\x00\\x00+v\\xce\\xfb&\\x13\\x00\\x00z\\x07cJ\\'\\x13\\x00\\x00\\xc9\\x98\\xf7\\x98\\'\\x13\\x00\\x00\\xb6L\\xb5\\x84(\\x13\\x00\\x00\\x05\\xdeI\\xd3(\\x13\\x00\\x00To\\xde!)\\x13\\x00\\x00\\xa3\\x00sp)\\x13\\x00\\x00\\xf2\\x91\\x07\\xbf)\\x13\\x00\\x00\\xdfE\\xc5\\xaa*\\x13\\x00\\x00.\\xd7Y\\xf9*\\x13\\x00\\x00}h\\xeeG+\\x13\\x00\\x00\\xcc\\xf9\\x82\\x96+\\x13\\x00\\x00\\x1b\\x8b\\x17\\xe5+\\x13\\x00\\x00\\x08?\\xd5\\xd0,\\x13\\x00\\x00W\\xd0i\\x1f-\\x13\\x00\\x00\\xa6a\\xfem-\\x13\\x00\\x00\\xf5\\xf2\\x92\\xbc-\\x13\\x00\\x00D\\x84\\'\\x0b.\\x13\\x00\\x0018\\xe5\\xf6.\\x13\\x00\\x00\\x80\\xc9yE/\\x13\\x00\\x00\\xcfZ\\x0e\\x94/\\x13\\x00\\x00\\x1e\\xec\\xa2\\xe2/\\x13\\x00\\x00m}710\\x13\\x00\\x00Z1\\xf5\\x1c1\\x13\\x00\\x00\\xa9\\xc2\\x89k1\\x13\\x00\\x00\\xf8S\\x1e\\xba1\\x13\\x00\\x00G\\xe5\\xb2\\x082\\x13\\x00\\x00\\x96vGW2\\x13\\x00\\x00\\x83*\\x05C3\\x13\\x00\\x00\\xd2\\xbb\\x99\\x913\\x13\\x00\\x00!M.\\xe03\\x13\\x00\\x00p\\xde\\xc2.4\\x13\\x00\\x00\\xbfoW}4\\x13\\x00\\x00\\xac#\\x15i5\\x13\\x00\\x00\\xfb\\xb4\\xa9\\xb75\\x13\\x00\\x00JF>\\x066\\x13\\x00\\x00\\x99\\xd7\\xd2T6\\x13\\x00\\x00\\xe8hg\\xa36\\x13\\x00\\x00\\xd5\\x1c%\\x8f7\\x13\\x00\\x00$\\xae\\xb9\\xdd7\\x13\\x00\\x00s?N,8\\x13\\x00\\x00\\xc2\\xd0\\xe2z8\\x13\\x00\\x00\\x11bw\\xc98\\x13\\x00\\x00\\xfe\\x155\\xb59\\x13\\x00\\x00M\\xa7\\xc9\\x03:\\x13\\x00\\x00\\x9c8^R:\\x13\\x00\\x00:[\\x87\\xef:\\x13\\x00\\x00\\'\\x0fE\\xdb;\\x13\\x00\\x00v\\xa0\\xd9)<\\x13\\x00\\x00\\xc51nx<\\x13\\x00\\x00\\x14\\xc3\\x02\\xc7<\\x13\\x00\\x00cT\\x97\\x15=\\x13\\x00\\x00P\\x08U\\x01>\\x13\\x00\\x00\\x9f\\x99\\xe9O>\\x13\\x00\\x00\\xee*~\\x9e>\\x13\\x00\\x00=\\xbc\\x12\\xed>\\x13\\x00\\x00\\x8cM\\xa7;?\\x13\\x00\\x00y\\x01e\\'@\\x13\\x00\\x00\\xc8\\x92\\xf9u@\\x13\\x00\\x00\\x17$\\x8e\\xc4@\\x13\\x00\\x00f\\xb5\"\\x13A\\x13\\x00\\x00\\xb5F\\xb7aA\\x13\\x00\\x00\\xa2\\xfatMB\\x13\\x00\\x00\\xf1\\x8b\\t\\x9cB\\x13\\x00\\x00\\x8f\\xae29C\\x13\\x00\\x00\\xde?\\xc7\\x87C\\x13\\x00\\x00\\xcb\\xf3\\x84sD\\x13\\x00\\x00\\x1a\\x85\\x19\\xc2D\\x13\\x00\\x00\\xb8\\xa7B_E\\x13\\x00\\x00\\x079\\xd7\\xadE\\x13\\x00\\x00\\xf4\\xec\\x94\\x99F\\x13\\x00\\x00C~)\\xe8F\\x13\\x00\\x00\\x92\\x0f\\xbe6G\\x13\\x00\\x00\\xe1\\xa0R\\x85G\\x13\\x00\\x0002\\xe7\\xd3G\\x13\\x00\\x00\\x1d\\xe6\\xa4\\xbfH\\x13\\x00\\x00lw9\\x0eI\\x13\\x00\\x00\\xbb\\x08\\xce\\\\I\\x13\\x00\\x00\\n\\x9ab\\xabI\\x13\\x00\\x00Y+\\xf7\\xf9I\\x13\\x00\\x00\\x95pI4K\\x13\\x00\\x00\\xe4\\x01\\xde\\x82K\\x13\\x00\\x003\\x93r\\xd1K\\x13\\x00\\x00\\x82$\\x07 L\\x13\\x00\\x00o\\xd8\\xc4\\x0bM\\x13\\x00\\x00\\xbeiYZM\\x13\\x00\\x00\\r\\xfb\\xed\\xa8M\\x13\\x00\\x00\\\\\\x8c\\x82\\xf7M\\x13\\x00\\x00\\xab\\x1d\\x17FN\\x13\\x00\\x00\\x98\\xd1\\xd41O\\x13\\x00\\x00\\xe7bi\\x80O\\x13\\x00\\x006\\xf4\\xfd\\xceO\\x13\\x00\\x00\\x85\\x85\\x92\\x1dP\\x13\\x00\\x00\\xd4\\x16\\'lP\\x13\\x00\\x00\\xc1\\xca\\xe4WQ\\x13\\x00\\x00\\x10\\\\y\\xa6Q\\x13\\x00\\x00_\\xed\\r\\xf5Q\\x13\\x00\\x00\\xae~\\xa2CR\\x13\\x00\\x00\\xfd\\x0f7\\x92R\\x13\\x00\\x009U\\x89\\xccS\\x13\\x00\\x00\\x88\\xe6\\x1d\\x1bT\\x13\\x00\\x00\\xd7w\\xb2iT\\x13\\x00\\x00&\\tG\\xb8T\\x13\\x00\\x00\\x13\\xbd\\x04\\xa4U\\x13\\x00\\x00bN\\x99\\xf2U\\x13\\x00\\x00\\xb1\\xdf-AV\\x13\\x00\\x00\\x00q\\xc2\\x8fV\\x13\\x00\\x00O\\x02W\\xdeV\\x13\\x00\\x00<\\xb6\\x14\\xcaW\\x13\\x00\\x00\\x8bG\\xa9\\x18X\\x13\\x00\\x00\\xda\\xd8=gX\\x13\\x00\\x00)j\\xd2\\xb5X\\x13\\x00\\x00x\\xfbf\\x04Y\\x13\\x00\\x00e\\xaf$\\xf0Y\\x13\\x00\\x00\\xb4@\\xb9>Z\\x13\\x00\\x00\\x03\\xd2M\\x8dZ\\x13\\x00\\x00Rc\\xe2\\xdbZ\\x13\\x00\\x00\\xa1\\xf4v*[\\x13\\x00\\x00\\x8e\\xa84\\x16\\\\\\x13\\x00\\x00\\xdd9\\xc9d\\\\\\x13\\x00\\x00,\\xcb]\\xb3\\\\\\x13\\x00\\x00{\\\\\\xf2\\x01]\\x13\\x00\\x00\\xca\\xed\\x86P]\\x13\\x00\\x00\\xb7\\xa1D<^\\x13\\x00\\x00\\x063\\xd9\\x8a^\\x13\\x00\\x00U\\xc4m\\xd9^\\x13\\x00\\x00\\xa4U\\x02(_\\x13\\x00\\x00\\xf3\\xe6\\x96v_\\x13\\x00\\x00\\xe0\\x9aTb`\\x13\\x00\\x00/,\\xe9\\xb0`\\x13\\x00\\x00~\\xbd}\\xff`\\x13\\x00\\x00\\xcdN\\x12Na\\x13\\x00\\x00\\x1c\\xe0\\xa6\\x9ca\\x13\\x00\\x00\\t\\x94d\\x88b\\x13\\x00\\x00X%\\xf9\\xd6b\\x13\\x00\\x00\\xa7\\xb6\\x8d%c\\x13\\x00\\x00\\xf6G\"tc\\x13\\x00\\x00E\\xd9\\xb6\\xc2c\\x13\\x00\\x002\\x8dt\\xaed\\x13\\x00\\x00\\x81\\x1e\\t\\xfdd\\x13\\x00\\x00\\xd0\\xaf\\x9dKe\\x13\\x00\\x00\\x1fA2\\x9ae\\x13\\x00\\x00[\\x86\\x84\\xd4f\\x13\\x00\\x00\\xaa\\x17\\x19#g\\x13\\x00\\x00\\xf9\\xa8\\xadqg\\x13\\x00\\x00H:B\\xc0g\\x13\\x00\\x00\\x97\\xcb\\xd6\\x0eh\\x13\\x00\\x00\\x84\\x7f\\x94\\xfah\\x13\\x00\\x00\\xd3\\x10)Ii\\x13\\x00\\x00\"\\xa2\\xbd\\x97i\\x13\\x00\\x00q3R\\xe6i\\x13\\x00\\x00\\xc0\\xc4\\xe64j\\x13\\x00\\x00\\xadx\\xa4 k\\x13\\x00\\x00\\xfc\\t9ok\\x13\\x00\\x00K\\x9b\\xcd\\xbdk\\x13\\x00\\x00\\x9a,b\\x0cl\\x13\\x00\\x00\\xe9\\xbd\\xf6Zl\\x13\\x00\\x00\\xd6q\\xb4Fm\\x13\\x00\\x00%\\x03I\\x95m\\x13\\x00\\x00t\\x94\\xdd\\xe3m\\x13\\x00\\x00\\xc3%r2n\\x13\\x00\\x00\\x12\\xb7\\x06\\x81n\\x13\\x00\\x00\\xffj\\xc4lo\\x13\\x00\\x00N\\xfcX\\xbbo\\x13\\x00\\x00\\x9d\\x8d\\xed\\tp\\x13\\x00\\x00\\xec\\x1e\\x82Xp\\x13\\x00\\x00;\\xb0\\x16\\xa7p\\x13\\x00\\x00w\\xf5h\\xe1q\\x13\\x00\\x00\\xc6\\x86\\xfd/r\\x13\\x00\\x00\\x15\\x18\\x92~r\\x13\\x00\\x00d\\xa9&\\xcdr\\x13\\x00\\x00Q]\\xe4\\xb8s\\x13\\x00\\x00\\xa0\\xeex\\x07t\\x13\\x00\\x00\\xef\\x7f\\rVt\\x13\\x00\\x00>\\x11\\xa2\\xa4t\\x13\\x00\\x00\\x8d\\xa26\\xf3t\\x13\\x00\\x00zV\\xf4\\xdeu\\x13\\x00\\x00\\xc9\\xe7\\x88-v\\x13\\x00\\x00\\x18y\\x1d|v\\x13\\x00\\x00g\\n\\xb2\\xcav\\x13\\x00\\x00\\xb6\\x9bF\\x19w\\x13\\x00\\x00\\xa3O\\x04\\x05x\\x13\\x00\\x00\\xf2\\xe0\\x98Sx\\x13\\x00\\x00Ar-\\xa2x\\x13\\x00\\x00\\x90\\x03\\xc2\\xf0x\\x13\\x00\\x00\\xdf\\x94V?y\\x13\\x00\\x00\\xccH\\x14+z\\x13\\x00\\x00\\x1b\\xda\\xa8yz\\x13\\x00\\x00jk=\\xc8z\\x13\\x00\\x00\\xb9\\xfc\\xd1\\x16{\\x13\\x00\\x00\\x08\\x8efe{\\x13\\x00\\x00\\xf5A$Q|\\x13\\x00\\x00D\\xd3\\xb8\\x9f|\\x13\\x00\\x00\\x93dM\\xee|\\x13\\x00\\x00\\xe2\\xf5\\xe1<}\\x13\\x00\\x00\\x1e;4w~\\x13\\x00\\x00m\\xcc\\xc8\\xc5~\\x13\\x00\\x00\\xbc]]\\x14\\x7f\\x13\\x00\\x00\\x0b\\xef\\xf1b\\x7f\\x13\\x00\\x00Z\\x80\\x86\\xb1\\x7f\\x13\\x00\\x00G4D\\x9d\\x80\\x13\\x00\\x00\\x96\\xc5\\xd8\\xeb\\x80\\x13\\x00\\x00\\xe5Vm:\\x81\\x13\\x00\\x004\\xe8\\x01\\x89\\x81\\x13\\x00\\x00\\x83y\\x96\\xd7\\x81\\x13\\x00\\x00p-T\\xc3\\x82\\x13\\x00\\x00\\xbf\\xbe\\xe8\\x11\\x83\\x13\\x00\\x00\\x0eP}`\\x83\\x13\\x00\\x00]\\xe1\\x11\\xaf\\x83\\x13\\x00\\x00\\xacr\\xa6\\xfd\\x83\\x13\\x00\\x00\\x99&d\\xe9\\x84\\x13\\x00\\x00\\xe8\\xb7\\xf87\\x85\\x13\\x00\\x007I\\x8d\\x86\\x85\\x13\\x00\\x00\\x86\\xda!\\xd5\\x85\\x13\\x00\\x00\\xd5k\\xb6#\\x86\\x13\\x00\\x00\\xc2\\x1ft\\x0f\\x87\\x13\\x00\\x00\\x11\\xb1\\x08^\\x87\\x13\\x00\\x00`B\\x9d\\xac\\x87\\x13\\x00\\x00\\xaf\\xd31\\xfb\\x87\\x13\\x00\\x00\\xfed\\xc6I\\x88\\x13\\x00\\x00\\xeb\\x18\\x845\\x89\\x13\\x00\\x00:\\xaa\\x18\\x84\\x89\\x13\\x00\\x00\\x89;\\xad\\xd2\\x89\\x13\\x00\\x00\\xd8\\xccA!\\x8a\\x13\\x00\\x00\\'^\\xd6o\\x8a\\x13\\x00\\x00\\x14\\x12\\x94[\\x8b\\x13\\x00\\x00c\\xa3(\\xaa\\x8b\\x13\\x00\\x00\\xb24\\xbd\\xf8\\x8b\\x13\\x00\\x00\\x01\\xc6QG\\x8c\\x13\\x00\\x00PW\\xe6\\x95\\x8c\\x13\\x00\\x00=\\x0b\\xa4\\x81\\x8d\\x13\\x00\\x00\\x8c\\x9c8\\xd0\\x8d\\x13\\x00\\x00\\xdb-\\xcd\\x1e\\x8e\\x13\\x00\\x00*\\xbfam\\x8e\\x13\\x00\\x00yP\\xf6\\xbb\\x8e\\x13\\x00\\x00\\xb5\\x95H\\xf6\\x8f\\x13\\x00\\x00\\x04\\'\\xddD\\x90\\x13\\x00\\x00S\\xb8q\\x93\\x90\\x13\\x00\\x00\\xa2I\\x06\\xe2\\x90\\x13\\x00\\x00\\x8f\\xfd\\xc3\\xcd\\x91\\x13\\x00\\x00\\xde\\x8eX\\x1c\\x92\\x13\\x00\\x00- \\xedj\\x92\\x13\\x00\\x00|\\xb1\\x81\\xb9\\x92\\x13\\x00\\x00\\xcbB\\x16\\x08\\x93\\x13\\x00\\x00\\xb8\\xf6\\xd3\\xf3\\x93\\x13\\x00\\x00\\x07\\x88hB\\x94\\x13\\x00\\x00V\\x19\\xfd\\x90\\x94\\x13\\x00\\x00\\xa5\\xaa\\x91\\xdf\\x94\\x13\\x00\\x00\\xf4;&.\\x95\\x13\\x00\\x00\\xe1\\xef\\xe3\\x19\\x96\\x13\\x00\\x000\\x81xh\\x96\\x13\\x00\\x00\\x7f\\x12\\r\\xb7\\x96\\x13\\x00\\x00\\xce\\xa3\\xa1\\x05\\x97\\x13\\x00\\x00\\x1d56T\\x97\\x13\\x00\\x00\\n\\xe9\\xf3?\\x98\\x13\\x00\\x00Yz\\x88\\x8e\\x98\\x13\\x00\\x00\\xa8\\x0b\\x1d\\xdd\\x98\\x13\\x00\\x00\\xf7\\x9c\\xb1+\\x99\\x13\\x00\\x00F.Fz\\x99\\x13\\x00\\x003\\xe2\\x03f\\x9a\\x13\\x00\\x00\\x82s\\x98\\xb4\\x9a\\x13\\x00\\x00\\xd1\\x04-\\x03\\x9b\\x13\\x00\\x00 \\x96\\xc1Q\\x9b\\x13\\x00\\x00o\\'V\\xa0\\x9b\\x13\\x00\\x00\\\\\\xdb\\x13\\x8c\\x9c\\x13\\x00\\x00\\xabl\\xa8\\xda\\x9c\\x13\\x00\\x00\\xfa\\xfd<)\\x9d\\x13\\x00\\x00I\\x8f\\xd1w\\x9d\\x13\\x00\\x00\\x98 f\\xc6\\x9d\\x13\\x00\\x00\\x85\\xd4#\\xb2\\x9e\\x13\\x00\\x00\\xd4e\\xb8\\x00\\x9f\\x13\\x00\\x00#\\xf7LO\\x9f\\x13\\x00\\x00r\\x88\\xe1\\x9d\\x9f\\x13\\x00\\x00\\xc1\\x19v\\xec\\x9f\\x13\\x00\\x00\\xae\\xcd3\\xd8\\xa0\\x13\\x00\\x00\\xfd^\\xc8&\\xa1\\x13\\x00\\x00L\\xf0\\\\u\\xa1\\x13\\x00\\x00\\x9b\\x81\\xf1\\xc3\\xa1\\x13\\x00\\x00\\xea\\x12\\x86\\x12\\xa2\\x13\\x00\\x00\\xd7\\xc6C\\xfe\\xa2\\x13\\x00\\x00&X\\xd8L\\xa3\\x13\\x00\\x00u\\xe9l\\x9b\\xa3\\x13\\x00\\x00\\xc4z\\x01\\xea\\xa3\\x13\\x00\\x00\\x13\\x0c\\x968\\xa4\\x13\\x00\\x00\\x00\\xc0S$\\xa5\\x13\\x00\\x00OQ\\xe8r\\xa5\\x13\\x00\\x00\\x9e\\xe2|\\xc1\\xa5\\x13\\x00\\x00\\xeds\\x11\\x10\\xa6\\x13\\x00\\x00<\\x05\\xa6^\\xa6\\x13\\x00\\x00)\\xb9cJ\\xa7\\x13\\x00\\x00xJ\\xf8\\x98\\xa7\\x13\\x00\\x00\\xc7\\xdb\\x8c\\xe7\\xa7\\x13\\x00\\x00\\x16m!6\\xa8\\x13\\x00\\x00e\\xfe\\xb5\\x84\\xa8\\x13\\x00\\x00R\\xb2sp\\xa9\\x13\\x00\\x00\\xa1C\\x08\\xbf\\xa9\\x13\\x00\\x00\\xf0\\xd4\\x9c\\r\\xaa\\x13\\x00\\x00\\x8e\\xf7\\xc5\\xaa\\xaa\\x13\\x00\\x00{\\xab\\x83\\x96\\xab\\x13\\x00\\x00\\xca<\\x18\\xe5\\xab\\x13\\x00\\x00\\x19\\xce\\xac3\\xac\\x13\\x00\\x00h_A\\x82\\xac\\x13\\x00\\x00\\xb7\\xf0\\xd5\\xd0\\xac\\x13\\x00\\x00\\xa4\\xa4\\x93\\xbc\\xad\\x13\\x00\\x00\\xf35(\\x0b\\xae\\x13\\x00\\x00B\\xc7\\xbcY\\xae\\x13\\x00\\x00\\x91XQ\\xa8\\xae\\x13\\x00\\x00\\xe0\\xe9\\xe5\\xf6\\xae\\x13\\x00\\x00\\xcd\\x9d\\xa3\\xe2\\xaf\\x13\\x00\\x00\\x1c/81\\xb0\\x13\\x00\\x00k\\xc0\\xcc\\x7f\\xb0\\x13\\x00\\x00\\xbaQa\\xce\\xb0\\x13\\x00\\x00\\t\\xe3\\xf5\\x1c\\xb1\\x13\\x00\\x00\\xf6\\x96\\xb3\\x08\\xb2\\x13\\x00\\x00E(HW\\xb2\\x13\\x00\\x00\\x94\\xb9\\xdc\\xa5\\xb2\\x13\\x00\\x002\\xdc\\x05C\\xb3\\x13\\x00\\x00\\x1f\\x90\\xc3.\\xb4\\x13\\x00\\x00n!X}\\xb4\\x13\\x00\\x00\\xbd\\xb2\\xec\\xcb\\xb4\\x13\\x00\\x00[\\xd5\\x15i\\xb5\\x13\\x00\\x00H\\x89\\xd3T\\xb6\\x13\\x00\\x00\\x97\\x1ah\\xa3\\xb6\\x13\\x00\\x00\\xe6\\xab\\xfc\\xf1\\xb6\\x13\\x00\\x005=\\x91@\\xb7\\x13\\x00\\x00\\x84\\xce%\\x8f\\xb7\\x13\\x00\\x00q\\x82\\xe3z\\xb8\\x13\\x00\\x00\\xc0\\x13x\\xc9\\xb8\\x13\\x00\\x00\\x0f\\xa5\\x0c\\x18\\xb9\\x13\\x00\\x00^6\\xa1f\\xb9\\x13\\x00\\x00\\xad\\xc75\\xb5\\xb9\\x13\\x00\\x00\\xe9\\x0c\\x88\\xef\\xba\\x13\\x00\\x008\\x9e\\x1c>\\xbb\\x13\\x00\\x00\\x87/\\xb1\\x8c\\xbb\\x13\\x00\\x00\\xd6\\xc0E\\xdb\\xbb\\x13\\x00\\x00\\xc3t\\x03\\xc7\\xbc\\x13\\x00\\x00\\x12\\x06\\x98\\x15\\xbd\\x13\\x00\\x00a\\x97,d\\xbd\\x13\\x00\\x00\\xb0(\\xc1\\xb2\\xbd\\x13\\x00\\x00\\xff\\xb9U\\x01\\xbe\\x13\\x00\\x00\\xecm\\x13\\xed\\xbe\\x13\\x00\\x00;\\xff\\xa7;\\xbf\\x13\\x00\\x00\\x8a\\x90<\\x8a\\xbf\\x13\\x00\\x00\\xd9!\\xd1\\xd8\\xbf\\x13\\x00\\x00(\\xb3e\\'\\xc0\\x13\\x00\\x00\\x15g#\\x13\\xc1\\x13\\x00\\x00d\\xf8\\xb7a\\xc1\\x13\\x00\\x00\\xb3\\x89L\\xb0\\xc1\\x13\\x00\\x00\\x02\\x1b\\xe1\\xfe\\xc1\\x13\\x00\\x00Q\\xacuM\\xc2\\x13\\x00\\x00\\x8d\\xf1\\xc7\\x87\\xc3\\x13\\x00\\x00\\xdc\\x82\\\\\\xd6\\xc3\\x13\\x00\\x00+\\x14\\xf1$\\xc4\\x13\\x00\\x00z\\xa5\\x85s\\xc4\\x13\\x00\\x00gYC_\\xc5\\x13\\x00\\x00\\xb6\\xea\\xd7\\xad\\xc5\\x13\\x00\\x00\\x05|l\\xfc\\xc5\\x13\\x00\\x00T\\r\\x01K\\xc6\\x13\\x00\\x00\\xa3\\x9e\\x95\\x99\\xc6\\x13\\x00\\x00\\x90RS\\x85\\xc7\\x13\\x00\\x00\\xdf\\xe3\\xe7\\xd3\\xc7\\x13\\x00\\x00.u|\"\\xc8\\x13\\x00\\x00}\\x06\\x11q\\xc8\\x13\\x00\\x00\\xcc\\x97\\xa5\\xbf\\xc8\\x13\\x00\\x00\\xb9Kc\\xab\\xc9\\x13\\x00\\x00\\x08\\xdd\\xf7\\xf9\\xc9\\x13\\x00\\x00Wn\\x8cH\\xca\\x13\\x00\\x00\\xa6\\xff \\x97\\xca\\x13\\x00\\x00\\xf5\\x90\\xb5\\xe5\\xca\\x13\\x00\\x00\\xe2Ds\\xd1\\xcb\\x13\\x00\\x001\\xd6\\x07 \\xcc\\x13\\x00\\x00\\x80g\\x9cn\\xcc\\x13\\x00\\x00\\xcf\\xf80\\xbd\\xcc\\x13\\x00\\x00\\x1e\\x8a\\xc5\\x0b\\xcd\\x13\\x00\\x00\\x0b>\\x83\\xf7\\xcd\\x13\\x00\\x00Z\\xcf\\x17F\\xce\\x13\\x00\\x00\\xa9`\\xac\\x94\\xce\\x13\\x00\\x00\\xf8\\xf1@\\xe3\\xce\\x13\\x00\\x00G\\x83\\xd51\\xcf\\x13\\x00\\x0047\\x93\\x1d\\xd0\\x13\\x00\\x00\\x83\\xc8\\'l\\xd0\\x13\\x00\\x00\\xd2Y\\xbc\\xba\\xd0\\x13\\x00\\x00!\\xebP\\t\\xd1\\x13\\x00\\x00]0\\xa3C\\xd2\\x13\\x00\\x00\\xac\\xc17\\x92\\xd2\\x13\\x00\\x00\\xfbR\\xcc\\xe0\\xd2\\x13\\x00\\x00J\\xe4`/\\xd3\\x13\\x00\\x00\\x99u\\xf5}\\xd3\\x13\\x00\\x00\\x86)\\xb3i\\xd4\\x13\\x00\\x00\\xd5\\xbaG\\xb8\\xd4\\x13\\x00\\x00$L\\xdc\\x06\\xd5\\x13\\x00\\x00s\\xddpU\\xd5\\x13\\x00\\x00\\xc2n\\x05\\xa4\\xd5\\x13\\x00\\x00\\xaf\"\\xc3\\x8f\\xd6\\x13\\x00\\x00\\xfe\\xb3W\\xde\\xd6\\x13\\x00\\x00ME\\xec,\\xd7\\x13\\x00\\x00\\x9c\\xd6\\x80{\\xd7\\x13\\x00\\x00\\xebg\\x15\\xca\\xd7\\x13\\x00\\x00\\xd8\\x1b\\xd3\\xb5\\xd8\\x13\\x00\\x00\\'\\xadg\\x04\\xd9\\x13\\x00\\x00v>\\xfcR\\xd9\\x13\\x00\\x00\\xc5\\xcf\\x90\\xa1\\xd9\\x13\\x00\\x00\\x14a%\\xf0\\xd9\\x13\\x00\\x00\\x01\\x15\\xe3\\xdb\\xda\\x13\\x00\\x00P\\xa6w*\\xdb\\x13\\x00\\x00\\x9f7\\x0cy\\xdb\\x13\\x00\\x00\\xee\\xc8\\xa0\\xc7\\xdb\\x13\\x00\\x00=Z5\\x16\\xdc\\x13\\x00\\x00*\\x0e\\xf3\\x01\\xdd\\x13\\x00\\x00y\\x9f\\x87P\\xdd\\x13\\x00\\x00\\xc80\\x1c\\x9f\\xdd\\x13\\x00\\x00\\x17\\xc2\\xb0\\xed\\xdd\\x13\\x00\\x00fSE<\\xde\\x13\\x00\\x00S\\x07\\x03(\\xdf\\x13\\x00\\x00\\xa2\\x98\\x97v\\xdf\\x13\\x00\\x00\\xf1),\\xc5\\xdf\\x13\\x00\\x00@\\xbb\\xc0\\x13\\xe0\\x13\\x00\\x00\\x8fLUb\\xe0\\x13\\x00\\x00\\xcb\\x91\\xa7\\x9c\\xe1\\x13\\x00\\x00\\x1a#<\\xeb\\xe1\\x13\\x00\\x00i\\xb4\\xd09\\xe2\\x13\\x00\\x00\\xb8Ee\\x88\\xe2\\x13\\x00\\x00\\xa5\\xf9\"t\\xe3\\x13\\x00\\x00\\xf4\\x8a\\xb7\\xc2\\xe3\\x13\\x00\\x00C\\x1cL\\x11\\xe4\\x13\\x00\\x00\\x92\\xad\\xe0_\\xe4\\x13\\x00\\x00\\xe1>u\\xae\\xe4\\x13\\x00\\x00\\xce\\xf22\\x9a\\xe5\\x13\\x00\\x00\\x1d\\x84\\xc7\\xe8\\xe5\\x13\\x00\\x00l\\x15\\\\7\\xe6\\x13\\x00\\x00\\xbb\\xa6\\xf0\\x85\\xe6\\x13\\x00\\x00\\n8\\x85\\xd4\\xe6\\x13\\x00\\x00\\xf7\\xebB\\xc0\\xe7\\x13\\x00\\x00F}\\xd7\\x0e\\xe8\\x13\\x00\\x00\\x95\\x0el]\\xe8\\x13\\x00\\x00\\xe4\\x9f\\x00\\xac\\xe8\\x13\\x00\\x0031\\x95\\xfa\\xe8\\x13\\x00\\x00 \\xe5R\\xe6\\xe9\\x13\\x00\\x00ov\\xe74\\xea\\x13\\x00\\x00\\xbe\\x07|\\x83\\xea\\x13\\x00\\x00\\r\\x99\\x10\\xd2\\xea\\x13\\x00\\x00\\\\*\\xa5 \\xeb\\x13\\x00\\x00I\\xdeb\\x0c\\xec\\x13\\x00\\x00\\x98o\\xf7Z\\xec\\x13\\x00\\x00\\xe7\\x00\\x8c\\xa9\\xec\\x13\\x00\\x006\\x92 \\xf8\\xec\\x13\\x00\\x00r\\xd7r2\\xee\\x13\\x00\\x00\\xc1h\\x07\\x81\\xee\\x13\\x00\\x00\\x10\\xfa\\x9b\\xcf\\xee\\x13\\x00\\x00_\\x8b0\\x1e\\xef\\x13\\x00\\x00\\xae\\x1c\\xc5l\\xef\\x13\\x00\\x00\\x9b\\xd0\\x82X\\xf0\\x13\\x00\\x00\\xeaa\\x17\\xa7\\xf0\\x13\\x00\\x009\\xf3\\xab\\xf5\\xf0\\x13\\x00\\x00\\x88\\x84@D\\xf1\\x13\\x00\\x00\\xd7\\x15\\xd5\\x92\\xf1\\x13\\x00\\x00\\xc4\\xc9\\x92~\\xf2\\x13\\x00\\x00\\x13[\\'\\xcd\\xf2\\x13\\x00\\x00b\\xec\\xbb\\x1b\\xf3\\x13\\x00\\x00\\xb1}Pj\\xf3\\x13\\x00\\x00\\x00\\x0f\\xe5\\xb8\\xf3\\x13\\x00\\x00\\xed\\xc2\\xa2\\xa4\\xf4\\x13\\x00\\x00<T7\\xf3\\xf4\\x13\\x00\\x00\\x8b\\xe5\\xcbA\\xf5\\x13\\x00\\x00\\xdav`\\x90\\xf5\\x13\\x00\\x00)\\x08\\xf5\\xde\\xf5\\x13\\x00\\x00\\x16\\xbc\\xb2\\xca\\xf6\\x13\\x00\\x00eMG\\x19\\xf7\\x13\\x00\\x00\\xb4\\xde\\xdbg\\xf7\\x13\\x00\\x00\\x03pp\\xb6\\xf7\\x13\\x00\\x00R\\x01\\x05\\x05\\xf8\\x13\\x00\\x00?\\xb5\\xc2\\xf0\\xf8\\x13\\x00\\x00\\x8eFW?\\xf9\\x13\\x00\\x00\\xdd\\xd7\\xeb\\x8d\\xf9\\x13\\x00\\x00,i\\x80\\xdc\\xf9\\x13\\x00\\x00{\\xfa\\x14+\\xfa\\x13\\x00\\x00h\\xae\\xd2\\x16\\xfb\\x13\\x00\\x00\\xb7?ge\\xfb\\x13\\x00\\x00\\x06\\xd1\\xfb\\xb3\\xfb\\x13\\x00\\x00Ub\\x90\\x02\\xfc\\x13\\x00\\x00\\xa4\\xf3$Q\\xfc\\x13\\x00\\x00\\x91\\xa7\\xe2<\\xfd\\x13\\x00\\x00\\xe08w\\x8b\\xfd\\x13\\x00\\x00/\\xca\\x0b\\xda\\xfd\\x13\\x00\\x00~[\\xa0(\\xfe\\x13\\x00\\x00\\xcd\\xec4w\\xfe\\x13\\x00\\x00\\xba\\xa0\\xf2b\\xff\\x13\\x00\\x00\\t2\\x87\\xb1\\xff\\x13\\x00\\x00X\\xc3\\x1b\\x00\\x00\\x14\\x00\\x00\\xa7T\\xb0N\\x00\\x14\\x00\\x00\\xf6\\xe5D\\x9d\\x00\\x14\\x00\\x002+\\x97\\xd7\\x01\\x14\\x00\\x00\\x81\\xbc+&\\x02\\x14\\x00\\x00\\xd0M\\xc0t\\x02\\x14\\x00\\x00\\x1f\\xdfT\\xc3\\x02\\x14\\x00\\x00\\x0c\\x93\\x12\\xaf\\x03\\x14\\x00\\x00[$\\xa7\\xfd\\x03\\x14\\x00\\x00\\xaa\\xb5;L\\x04\\x14\\x00\\x00\\xf9F\\xd0\\x9a\\x04\\x14\\x00\\x00H\\xd8d\\xe9\\x04\\x14\\x00\\x005\\x8c\"\\xd5\\x05\\x14\\x00\\x00\\x84\\x1d\\xb7#\\x06\\x14\\x00\\x00\\xd3\\xaeKr\\x06\\x14\\x00\\x00\"@\\xe0\\xc0\\x06\\x14\\x00\\x00q\\xd1t\\x0f\\x07\\x14\\x00\\x00^\\x852\\xfb\\x07\\x14\\x00\\x00\\xad\\x16\\xc7I\\x08\\x14\\x00\\x00\\xfc\\xa7[\\x98\\x08\\x14\\x00\\x00K9\\xf0\\xe6\\x08\\x14\\x00\\x00\\x9a\\xca\\x845\\t\\x14\\x00\\x00\\x87~B!\\n\\x14\\x00\\x00\\xd6\\x0f\\xd7o\\n\\x14\\x00\\x00%\\xa1k\\xbe\\n\\x14\\x00\\x00t2\\x00\\r\\x0b\\x14\\x00\\x00\\xc3\\xc3\\x94[\\x0b\\x14\\x00\\x00\\xb0wRG\\x0c\\x14\\x00\\x00\\xff\\x08\\xe7\\x95\\x0c\\x14\\x00\\x00N\\x9a{\\xe4\\x0c\\x14\\x00\\x00\\x9d+\\x103\\r\\x14\\x00\\x00\\xec\\xbc\\xa4\\x81\\r\\x14\\x00\\x00\\xd9pbm\\x0e\\x14\\x00\\x00(\\x02\\xf7\\xbb\\x0e\\x14\\x00\\x00w\\x93\\x8b\\n\\x0f\\x14\\x00\\x00\\xc6$ Y\\x0f\\x14\\x00\\x00\\x15\\xb6\\xb4\\xa7\\x0f\\x14\\x00\\x00\\x02jr\\x93\\x10\\x14\\x00\\x00Q\\xfb\\x06\\xe2\\x10\\x14\\x00\\x00\\xa0\\x8c\\x9b0\\x11\\x14\\x00\\x00\\xef\\x1d0\\x7f\\x11\\x14\\x00\\x00>\\xaf\\xc4\\xcd\\x11\\x14\\x00\\x00+c\\x82\\xb9\\x12\\x14\\x00\\x00z\\xf4\\x16\\x08\\x13\\x14\\x00\\x00\\xc9\\x85\\xabV\\x13\\x14\\x00\\x00\\x18\\x17@\\xa5\\x13\\x14\\x00\\x00g\\xa8\\xd4\\xf3\\x13\\x14\\x00\\x00T\\\\\\x92\\xdf\\x14\\x14\\x00\\x00\\xa3\\xed&.\\x15\\x14\\x00\\x00\\xf2~\\xbb|\\x15\\x14\\x00\\x00A\\x10P\\xcb\\x15\\x14\\x00\\x00\\x90\\xa1\\xe4\\x19\\x16\\x14\\x00\\x00}U\\xa2\\x05\\x17\\x14\\x00\\x00\\xcc\\xe66T\\x17\\x14\\x00\\x00\\x1bx\\xcb\\xa2\\x17\\x14\\x00\\x00j\\t`\\xf1\\x17\\x14\\x00\\x00\\xb9\\x9a\\xf4?\\x18\\x14\\x00\\x00\\xa6N\\xb2+\\x19\\x14\\x00\\x00\\xf5\\xdfFz\\x19\\x14\\x00\\x00Dq\\xdb\\xc8\\x19\\x14\\x00\\x00\\xe2\\x93\\x04f\\x1a\\x14\\x00\\x00\\xcfG\\xc2Q\\x1b\\x14\\x00\\x00\\x1e\\xd9V\\xa0\\x1b\\x14\\x00\\x00mj\\xeb\\xee\\x1b\\x14\\x00\\x00\\xbc\\xfb\\x7f=\\x1c\\x14\\x00\\x00\\x0b\\x8d\\x14\\x8c\\x1c\\x14\\x00\\x00\\xf8@\\xd2w\\x1d\\x14\\x00\\x00G\\xd2f\\xc6\\x1d\\x14\\x00\\x00\\x96c\\xfb\\x14\\x1e\\x14\\x00\\x00\\xe5\\xf4\\x8fc\\x1e\\x14\\x00\\x004\\x86$\\xb2\\x1e\\x14\\x00\\x00!:\\xe2\\x9d\\x1f\\x14\\x00\\x00p\\xcbv\\xec\\x1f\\x14\\x00\\x00\\xbf\\\\\\x0b; \\x14\\x00\\x00\\x0e\\xee\\x9f\\x89 \\x14\\x00\\x00]\\x7f4\\xd8 \\x14\\x00\\x00J3\\xf2\\xc3!\\x14\\x00\\x00\\x99\\xc4\\x86\\x12\"\\x14\\x00\\x00\\xe8U\\x1ba\"\\x14\\x00\\x007\\xe7\\xaf\\xaf\"\\x14\\x00\\x00s,\\x02\\xea#\\x14\\x00\\x00\\xc2\\xbd\\x968$\\x14\\x00\\x00\\x11O+\\x87$\\x14\\x00\\x00`\\xe0\\xbf\\xd5$\\x14\\x00\\x00\\x9c%\\x12\\x10&\\x14\\x00\\x00\\xeb\\xb6\\xa6^&\\x14\\x00\\x00:H;\\xad&\\x14\\x00\\x00\\x89\\xd9\\xcf\\xfb&\\x14\\x00\\x00\\xd8jdJ\\'\\x14\\x00\\x00\\xc5\\x1e\"6(\\x14\\x00\\x00\\x14\\xb0\\xb6\\x84(\\x14\\x00\\x00cAK\\xd3(\\x14\\x00\\x00\\xb2\\xd2\\xdf!)\\x14\\x00\\x00\\x01dtp)\\x14\\x00\\x00=\\xa9\\xc6\\xaa*\\x14\\x00\\x00\\x8c:[\\xf9*\\x14\\x00\\x00\\xdb\\xcb\\xefG+\\x14\\x00\\x00*]\\x84\\x96+\\x14\\x00\\x00\\x17\\x11B\\x82,\\x14\\x00\\x00f\\xa2\\xd6\\xd0,\\x14\\x00\\x00\\xb53k\\x1f-\\x14\\x00\\x00\\x04\\xc5\\xffm-\\x14\\x00\\x00SV\\x94\\xbc-\\x14\\x00\\x00@\\nR\\xa8.\\x14\\x00\\x00\\x8f\\x9b\\xe6\\xf6.\\x14\\x00\\x00\\xde,{E/\\x14\\x00\\x00-\\xbe\\x0f\\x94/\\x14\\x00\\x00|O\\xa4\\xe2/\\x14\\x00\\x00i\\x03b\\xce0\\x14\\x00\\x00\\xb8\\x94\\xf6\\x1c1\\x14\\x00\\x00\\x07&\\x8bk1\\x14\\x00\\x00V\\xb7\\x1f\\xba1\\x14\\x00\\x00\\xa5H\\xb4\\x082\\x14\\x00\\x00\\xe1\\x8d\\x06C3\\x14\\x00\\x000\\x1f\\x9b\\x913\\x14\\x00\\x00\\x7f\\xb0/\\xe03\\x14\\x00\\x00\\xceA\\xc4.4\\x14\\x00\\x00\\xbb\\xf5\\x81\\x1a5\\x14\\x00\\x00\\n\\x87\\x16i5\\x14\\x00\\x00Y\\x18\\xab\\xb75\\x14\\x00\\x00\\xa8\\xa9?\\x066\\x14\\x00\\x00\\xf7:\\xd4T6\\x14\\x00\\x00\\xe4\\xee\\x91@7\\x14\\x00\\x003\\x80&\\x8f7\\x14\\x00\\x00\\x82\\x11\\xbb\\xdd7\\x14\\x00\\x00\\xd1\\xa2O,8\\x14\\x00\\x00 4\\xe4z8\\x14\\x00\\x00\\r\\xe8\\xa1f9\\x14\\x00\\x00\\\\y6\\xb59\\x14\\x00\\x00\\xab\\n\\xcb\\x03:\\x14\\x00\\x00\\xfa\\x9b_R:\\x14\\x00\\x00I-\\xf4\\xa0:\\x14\\x00\\x006\\xe1\\xb1\\x8c;\\x14\\x00\\x00\\x85rF\\xdb;\\x14\\x00\\x00\\xd4\\x03\\xdb)<\\x14\\x00\\x00#\\x95ox<\\x14\\x00\\x00r&\\x04\\xc7<\\x14\\x00\\x00_\\xda\\xc1\\xb2=\\x14\\x00\\x00\\xaekV\\x01>\\x14\\x00\\x00\\xfd\\xfc\\xeaO>\\x14\\x00\\x00L\\x8e\\x7f\\x9e>\\x14\\x00\\x00\\x88\\xd3\\xd1\\xd8?\\x14\\x00\\x00\\xd7df\\'@\\x14\\x00\\x00&\\xf6\\xfau@\\x14\\x00\\x00u\\x87\\x8f\\xc4@\\x14\\x00\\x00\\xc4\\x18$\\x13A\\x14\\x00\\x00\\xb1\\xcc\\xe1\\xfeA\\x14\\x00\\x00\\x00^vMB\\x14\\x00\\x00O\\xef\\n\\x9cB\\x14\\x00\\x00\\x9e\\x80\\x9f\\xeaB\\x14\\x00\\x00\\xed\\x1149C\\x14\\x00\\x00\\xda\\xc5\\xf1$D\\x14\\x00\\x00)W\\x86sD\\x14\\x00\\x00x\\xe8\\x1a\\xc2D\\x14\\x00\\x00\\xc7y\\xaf\\x10E\\x14\\x00\\x00\\x16\\x0bD_E\\x14\\x00\\x00\\x03\\xbf\\x01KF\\x14\\x00\\x00RP\\x96\\x99F\\x14\\x00\\x00\\xa1\\xe1*\\xe8F\\x14\\x00\\x00\\xf0r\\xbf6G\\x14\\x00\\x00?\\x04T\\x85G\\x14\\x00\\x00,\\xb8\\x11qH\\x14\\x00\\x00{I\\xa6\\xbfH\\x14\\x00\\x00\\xca\\xda:\\x0eI\\x14\\x00\\x00\\x19l\\xcf\\\\I\\x14\\x00\\x00h\\xfdc\\xabI\\x14\\x00\\x00U\\xb1!\\x97J\\x14\\x00\\x00\\xa4B\\xb6\\xe5J\\x14\\x00\\x00\\xf3\\xd3J4K\\x14\\x00\\x00Be\\xdf\\x82K\\x14\\x00\\x00\\x91\\xf6s\\xd1K\\x14\\x00\\x00~\\xaa1\\xbdL\\x14\\x00\\x00\\xcd;\\xc6\\x0bM\\x14\\x00\\x00\\x1c\\xcdZZM\\x14\\x00\\x00k^\\xef\\xa8M\\x14\\x00\\x00\\xba\\xef\\x83\\xf7M\\x14\\x00\\x00\\xa7\\xa3A\\xe3N\\x14\\x00\\x00\\xf64\\xd61O\\x14\\x00\\x00E\\xc6j\\x80O\\x14\\x00\\x00\\x94W\\xff\\xceO\\x14\\x00\\x00\\xe3\\xe8\\x93\\x1dP\\x14\\x00\\x00\\xd0\\x9cQ\\tQ\\x14\\x00\\x00\\x1f.\\xe6WQ\\x14\\x00\\x00n\\xbfz\\xa6Q\\x14\\x00\\x00\\xbdP\\x0f\\xf5Q\\x14\\x00\\x00\\x0c\\xe2\\xa3CR\\x14\\x00\\x00H\\'\\xf6}S\\x14\\x00\\x00\\x97\\xb8\\x8a\\xccS\\x14\\x00\\x00\\xe6I\\x1f\\x1bT\\x14\\x00\\x005\\xdb\\xb3iT\\x14\\x00\\x00\"\\x8fqUU\\x14\\x00\\x00q \\x06\\xa4U\\x14\\x00\\x00\\xc0\\xb1\\x9a\\xf2U\\x14\\x00\\x00\\x0fC/AV\\x14\\x00\\x00^\\xd4\\xc3\\x8fV\\x14\\x00\\x00K\\x88\\x81{W\\x14\\x00\\x00\\x9a\\x19\\x16\\xcaW\\x14\\x00\\x00\\xe9\\xaa\\xaa\\x18X\\x14\\x00\\x008<?gX\\x14\\x00\\x00\\x87\\xcd\\xd3\\xb5X\\x14\\x00\\x00t\\x81\\x91\\xa1Y\\x14\\x00\\x00\\xc3\\x12&\\xf0Y\\x14\\x00\\x00\\x12\\xa4\\xba>Z\\x14\\x00\\x00a5O\\x8dZ\\x14\\x00\\x00\\xb0\\xc6\\xe3\\xdbZ\\x14\\x00\\x00\\x9dz\\xa1\\xc7[\\x14\\x00\\x00\\xec\\x0b6\\x16\\\\\\x14\\x00\\x00;\\x9d\\xcad\\\\\\x14\\x00\\x00\\x8a._\\xb3\\\\\\x14\\x00\\x00\\xd9\\xbf\\xf3\\x01]\\x14\\x00\\x00\\x15\\x05F<^\\x14\\x00\\x00d\\x96\\xda\\x8a^\\x14\\x00\\x00\\xb3\\'o\\xd9^\\x14\\x00\\x00\\x02\\xb9\\x03(_\\x14\\x00\\x00\\xefl\\xc1\\x13`\\x14\\x00\\x00>\\xfeUb`\\x14\\x00\\x00\\x8d\\x8f\\xea\\xb0`\\x14\\x00\\x00\\xdc \\x7f\\xff`\\x14\\x00\\x00+\\xb2\\x13Na\\x14\\x00\\x00\\x18f\\xd19b\\x14\\x00\\x00g\\xf7e\\x88b\\x14\\x00\\x00\\xb6\\x88\\xfa\\xd6b\\x14\\x00\\x00\\x05\\x1a\\x8f%c\\x14\\x00\\x00T\\xab#tc\\x14\\x00\\x00A_\\xe1_d\\x14\\x00\\x00\\x90\\xf0u\\xaed\\x14\\x00\\x00\\xdf\\x81\\n\\xfdd\\x14\\x00\\x00.\\x13\\x9fKe\\x14\\x00\\x00}\\xa43\\x9ae\\x14\\x00\\x00jX\\xf1\\x85f\\x14\\x00\\x00\\xb9\\xe9\\x85\\xd4f\\x14\\x00\\x00\\x08{\\x1a#g\\x14\\x00\\x00W\\x0c\\xafqg\\x14\\x00\\x00\\xa6\\x9dC\\xc0g\\x14\\x00\\x00\\x93Q\\x01\\xach\\x14\\x00\\x00\\xe2\\xe2\\x95\\xfah\\x14\\x00\\x001t*Ii\\x14\\x00\\x00\\x80\\x05\\xbf\\x97i\\x14\\x00\\x00\\xcf\\x96S\\xe6i\\x14\\x00\\x00\\xbcJ\\x11\\xd2j\\x14\\x00\\x00\\x0b\\xdc\\xa5 k\\x14\\x00\\x00Zm:ok\\x14\\x00\\x00\\xa9\\xfe\\xce\\xbdk\\x14\\x00\\x00\\xf8\\x8fc\\x0cl\\x14\\x00\\x00\\xe5C!\\xf8l\\x14\\x00\\x004\\xd5\\xb5Fm\\x14\\x00\\x00\\x83fJ\\x95m\\x14\\x00\\x00\\xd2\\xf7\\xde\\xe3m\\x14\\x00\\x00!\\x89s2n\\x14\\x00\\x00\\x0e=1\\x1eo\\x14\\x00\\x00]\\xce\\xc5lo\\x14\\x00\\x00\\xac_Z\\xbbo\\x14\\x00\\x00\\xfb\\xf0\\xee\\tp\\x14\\x00\\x00J\\x82\\x83Xp\\x14\\x00\\x00\\x86\\xc7\\xd5\\x92q\\x14\\x00\\x00\\xd5Xj\\xe1q\\x14\\x00\\x00$\\xea\\xfe/r\\x14\\x00\\x00s{\\x93~r\\x14\\x00\\x00`/Qjs\\x14\\x00\\x00\\xaf\\xc0\\xe5\\xb8s\\x14\\x00\\x00\\xfeQz\\x07t\\x14\\x00\\x00M\\xe3\\x0eVt\\x14\\x00\\x00\\x9ct\\xa3\\xa4t\\x14\\x00\\x00\\x89(a\\x90u\\x14\\x00\\x00\\xd8\\xb9\\xf5\\xdeu\\x14\\x00\\x00\\'K\\x8a-v\\x14\\x00\\x00v\\xdc\\x1e|v\\x14\\x00\\x00\\xc5m\\xb3\\xcav\\x14\\x00\\x00\\xb2!q\\xb6w\\x14\\x00\\x00\\x01\\xb3\\x05\\x05x\\x14\\x00\\x00PD\\x9aSx\\x14\\x00\\x00\\x9f\\xd5.\\xa2x\\x14\\x00\\x00\\xeef\\xc3\\xf0x\\x14\\x00\\x00\\xdb\\x1a\\x81\\xdcy\\x14\\x00\\x00*\\xac\\x15+z\\x14\\x00\\x00y=\\xaayz\\x14\\x00\\x00\\xc8\\xce>\\xc8z\\x14\\x00\\x00\\x17`\\xd3\\x16{\\x14\\x00\\x00\\x04\\x14\\x91\\x02|\\x14\\x00\\x00S\\xa5%Q|\\x14\\x00\\x00\\xa26\\xba\\x9f|\\x14\\x00\\x00\\xf1\\xc7N\\xee|\\x14\\x00\\x00@Y\\xe3<}\\x14\\x00\\x00-\\r\\xa1(~\\x14\\x00\\x00|\\x9e5w~\\x14\\x00\\x00\\xcb/\\xca\\xc5~\\x14\\x00\\x00\\x1a\\xc1^\\x14\\x7f\\x14\\x00\\x00iR\\xf3b\\x7f\\x14\\x94t\\x94bh/\\x8c\\x04Date\\x94\\x8c\\x04freq\\x94N\\x8c\\x02tz\\x94Nu\\x86\\x94R\\x94e]\\x94h\\x18h\\x1bK\\x00\\x85\\x94h\\x1d\\x87\\x94R\\x94(K\\x01K\\x04M\\xb2\\x06\\x86\\x94h#\\x8c\\x02f8\\x94K\\x00K\\x01\\x87\\x94R\\x94(K\\x03h?NNNJ\\xff\\xff\\xff\\xffJ\\xff\\xff\\xff\\xffK\\x00t\\x94b\\x89B@\\xd6\\x00\\x00\\x1e\\xa6}s\\x7f\\xfd;@t\\t\\x87\\xde\\xe2\\t<@a\\xc2hV\\xb6\\x97;@i\\xe4\\xf3\\x8a\\xa7\\x8a;@\\xf6\\x97\\xdd\\x93\\x87\\xb9;@d=\\xb5\\xfa\\xeaz;@g\\r\\xdeW\\xe5*;@Tt$\\x97\\xff\\x8c;@\\xe0\\xd5rg&d;@\\xe1{\\x7f\\x83\\xf6\\xee:@\\xb5\\xfe\\x96\\x00\\xfc\\x1f<@\\xf2\\xf2t\\xae(\\xb1;@\\xd9\\x06\\xee@\\x9d6;@U\\x16\\x85]\\x14\\xdd9@>\\xad\\xa2?4\\x8f:@\\x03\\xb5\\x18<L\\xef:@\\xdf\\xa7\\xaa\\xd0@0;@\\xd6\\x02{L\\xa4\\x10:@\\x15\\x1c^\\x10\\x91\\x1e9@\\xdb\\xa4\\xa2\\xb1\\xf6w9@ A\\xf1c\\xcc\\x9d9@\\x0c\\xac\\xe3\\xf8\\xa1\\x0e:@\\xf3\\xe2\\xc4W;\\x1e9@f2\\x1c\\xcfg\\x909@\\xa2\\xd5\\xc9\\x19\\x8ac9@\\x91\\xb7\\\\\\xfd\\xd8\\xa89@\\x15r\\xa5\\x9e\\x05\\x859@{\\xfa\\x08\\xfc\\xe1\\xfb9@\\x95\\xbad\\x1c#5:@\\x0f,G\\xc8@\\x9a:@3\\xe0,%\\xcb}:@\\t\\x85\\x088\\x84\\x8a:@R\\xf1\\x7fGT`:@\\x1b\\x9f\\xc9\\xfey6:@\\xb0u\\xa9\\x11\\xfa\\xc59@\\xff\\n\\x99+\\x83>:@\\xc2g\\xeb\\xe0`k:@\\xe1\\xd21\\xe7\\x19\\xc3:@\\xe2\\xd1\\xc6\\x11kU;@\\xac\\xa9,\\n\\xbbP;@2\\x92=B\\xcd`;@{\\xd3\\xf4\\xd9\\x01\\x8f;@1\\x98\\xbfB\\xe6\\xa2<@\\xa4\\x8f\\xf9\\x80@\\xa7<@\\x85\\xd4\\xed\\xec++=@-\"\\x8a\\xc9\\x1bh=@\\xae\\x06(\\r5~=@\\x91\\xf7\\xaa\\x95\\t\\xa3=@\\xfbt<f\\xa0F=@4D\\x15\\xfe\\x0c[=@e\\xc5pu\\x00P=@\\x92\\xcb\\x7fH\\xbfa=@tb\\x0f\\xedc\\x11=@\\xe1\\x06|~\\x18e=@\\x11\\xe6v/\\xf7\\xdd=@\\x05\\xc4$\\\\\\xc8\\xff=@\\xf7%\\x1b\\x0f\\xb6\\xa4=@dw\\x81\\x92\\x023>@\\xde=@\\xf7\\xe5d>@\\xf8\\xaa\\x95\\t\\xbf\\xd8>@\\xbdVBwI\\xbc>@\\xe9`\\xfd\\x9f\\xc3\\xdc>@\\xf9\\x7f\\xd5\\x91#1?@\\x14:\\xaf\\xb1KT?@oF\\xcdW\\xc9w?@Q\\x8aV\\xee\\x05b?@<J%<\\xa1\\x9f?@F\\x94\\xf6\\x06_\\xb0?@{\\xbc\\x90\\x0e\\x0f\\xb5?@LU\\xda\\xe2\\x1a\\x11@@\\x19\\xea\\xb0\\xc2-G@@Y5\\x08s\\xbb-@@\\xf0\\xf5\\xb5.5(@@\\xb7\\xb91=a\\xfd?@9)\\xcc{\\x9c\\xf3@@\\xba\\xd5s\\xd2\\xfblA@\\t\\xc1\\xaaz\\xf9\\xb5A@\\t\\xab\\xb1\\x84\\xb5\\x9fA@\\xa6&\\xc1\\x1b\\xd2\"A@w\\xa0Nyt\\x1bA@\\x8a\\xe8\\xd7\\xd6O\\x91A@\\x82V`\\xc8\\xea\\x12A@\\xc2\\xfa?\\x87\\xf9jA@\\xf0\\x111%\\x92\\xea@@=\\x10Y\\xa4\\x89\\xbd@@t\\xb6\\x80\\xd0z\\x1a@@\\xba\\xdb\\xf5\\xd2\\x14\\xd9>@\\nc\\x0bA\\x0e\\x9c@@S\\x93\\xe0\\ri\\xc6@@\\x1b-\\x07z\\xa8#A@\\xbaf\\xf2\\xcd6\\xe5@@m\\xfd\\xf4\\x9f5\\x99@@\\x9b\\x00\\xc3\\xf2\\xe7\\x9f@@\\x83gB\\x93\\xc4\\x80@@\\x8d`\\xe3\\xfaw=@@o\\xf2[t\\xb2\\x18?@iP4\\x0f`\\xb1?@9|\\xd2\\x89\\x04#@@\\x9a}\\x1e\\xa3<\\t@@\\xef\\xe1\\x92\\xe3N\\xed?@\\xec\\xa9\\xd5WW\\x91@@=$|\\xefo\\xcc@@og_y\\x90\\x0eA@bJ$\\xd1\\xcbBA@\\xf5ei\\xa7\\xe64A@+2: \\t\\xbd@@\\x9cT4\\xd6\\xfeh@@6\\x92\\x04\\xe1\\nN@@\\x8c.o\\x0e\\xd7\\xce?@\\\\sG\\xff\\xcba@@\\'\\xf7;\\x14\\x05\\x94@@00+\\x14\\xe9\\xa0@@\\xbc|\\xeb\\xc3z\\xfb@@\\xb3\\xb3\\xe8\\x9d\\nzA@\\x15\\x8e \\x95b\\xc7A@7n1?7\\xecA@9B\\x06\\xf2\\xec\\xaaA@\\x96u\\xffX\\x88\\xe8A@SY\\x14vQ\\xb8A@\\x03\\x06I\\x9fV\\x97A@{\\xf7\\xc7{\\xd5pA@\\xc1\\x90\\xd5\\xad\\x9e\\x8bA@\\xca\\x1a\\xf5\\x10\\x8d\\xc0@@\\x17\\x83\\x87i\\xdfr@@\\xa7t\\xb0\\xfe\\xcf?@@\\xc6\\x86n\\xf6\\x07&@@\\xb2-\\x03\\xceRB@@\\x00m\\xabYg\\xea@@F_A\\x9a\\xb1\\xe0@@\\xf6\\xb8o\\xb5N\\xfa@@\\\\\\xcc\\xcf\\rM\\xd3@@\\x1a\\x17\\x0e\\x84dw@@_\\x9dc@\\xf6\\x86@@a\\x1a\\x86\\x8f\\x88q@@\\x90\\x87\\xbe\\xbb\\x95W@@\\x84\\x0e\\xba\\x84C\\x0f@@\\x02\\x14#K\\xe6x@@\\xec\\xbd\\xf8\\xa2=\\xa0@@\\x8a\\xe5\\x96VC\\xf0@@\\x9d\\xd7\\xd8%\\xaa\\xff@@\\x9d\\xd4\\x97\\xa5\\x9d\\xf4@@\\x8c\\xb9k\\t\\xf9DA@W\\xe7\\x18\\x90\\xbd\\x10A@g\\x98\\xdaR\\x07\\xe1@@\\xe9\\xd5\\x00\\xa5\\xa1\\xd2@@Y\\xfb;\\xdb\\xa3\\x1fA@\\xdf\\xdf\\xa0\\xbd\\xfa A@\\x1cA*\\xc5\\x8e2A@OB\\xe9\\x0b!\\x1dA@\\xe9\\x7f\\xb9\\x16-\\x02A@\\x82Y\\xa1H\\xf7\\x1dA@\\x86TQ\\xbc\\xca\\xf6@@\\xb4T\\xde\\x8ep\\\\@@*r\\x88\\xb89w@@4\\x81\"\\x161J@@J\\xebo\\t\\xc01@@\\x87\\xf8\\x87-=z@@\\xf7p\\xc9q\\xa7\\x8c@@nN%\\x03@W@@}\\x98\\xbdl;S@@\\xe3\\x17^I\\xf2\\x12@@\\r\\x18$}Za?@\\x1c;\\xa8\\xc4u\\xc4?@\\x7f\\x114f\\x12m?@\\xe5eM,\\xf0\\x99?@\\x84el\\xe8f\\xb7?@\\xde\\xea9\\xe9}\\xcb?@\\xcfh\\xab\\x92\\xc8^@@\\xc5\\xc8\\x929\\x96}@@\\xd8\\x0eF\\xec\\x13\\xec@@\\x82\\xaa\\xd1\\xab\\x01\\xdc@@\\xb8\\x95^\\x9b\\x8d1A@\\x93\\xca\\x14s\\x104A@\\\\\"\\x17\\x9c\\xc19A@\\x14\\xcb-\\xad\\x86vA@\\xcf\\xdam\\x17\\x9a\\x87A@mY\\xbe.\\xc3\\xabA@-\\xd1Yf\\x11\\x16B@\\xe5\\xb6}\\x8f\\xfa\\x01B@t><K\\x90\\x85B@|fI\\x80\\x9a\\x8eB@/\\xfbu\\xa7;\\xd1B@\\xf4\\xc3\\x08\\xe1\\xd1\\xe4B@\\x1c\\xcfg@\\xbd\\x1dC@\\x17\\'\\xbe\\xdaQ\\nC@-\\xe7R\\\\U\\xc2B@#1A\\r\\xdf\\xcaB@Z-\\xb0\\xc7D\\x8eB@\\x005\\xb5l\\xadyB@$B#\\xd8\\xb88B@\\x16\\xfd\\xa1\\x99\\'\\xe5B@h\\xcb\\xb9\\x14W\\xe9B@z\\xa9\\xd8\\x98\\xd7\\xe9B@m!\\xc8A\\t;C@\\x9c8\\xb9\\xdf\\xa1PC@\\xf3\\xc6Ia\\xde\\x85C@i\\xe4\\xf3\\x8a\\xa7\\xa0C@\\xc7\\x83-v\\xfb\\xc4C@D\\xdf\\xdd\\xca\\x12\\x95D@R\\xd6o&\\xa6\\xcbD@\\xf4\\xdf\\x83\\xd7.=D@\\x00\\xad\\xf9\\xf1\\x97ND@v1\\xcdt\\xaf=D@\\xa0\\xf9\\x9c\\xbb]\\x1bD@\\xe4\\x81\\xc8\"M2D@\\xea\\x93\\xdca\\x13%D@\\\\\\x06\\x9c\\xa5d!D@=\\xb7\\xd0\\x95\\x08\\xf6C@\\xc6m4\\x80\\xb7\\xaeC@?5^\\xbaI\\xe4C@\\x0b`\\xca\\xc0\\x01;D@v\\xdd[\\x91\\x98tD@\\x96Y\\x84b+\\xd0D@\\xe3n\\x10\\xad\\x15\\xbdD@ \\xd2o_\\x07\\xd6D@\\xa6\\r\\x87\\xa5\\x81\\xabD@\\xa5\\xa3\\x1c\\xcc&\\xccD@\\x00\\x03A\\x80\\x0c\\xb5D@\\x99\\xd6\\xa6\\xb1\\xbd$D@a\\x18\\xb0\\xe4*\\x14D@c\\xd5 \\xcc\\xed\\xb8C@\\xe3\\x01eS\\xae\\xa6C@\\xc7\\xd9t\\x04p+D@\\xeb\\x8dZa\\xfa\\x0eD@\\x9f>\\x02\\x7f\\xf8}D@M\\xbfD\\xbcu0D@\\xd8\\x0eF\\xec\\x13\\x96D@W\\xce\\xde\\x19m\\x99D@\\xd0\\x7f\\x0f^\\xbb\\xb8D@\\xce\\xa8\\xf9*\\xf9XD@\\x1d\\xa8S\\x1e\\xdd\\xb0D@\\x9d~P\\x17)\\xceD@)u\\xc98F\\xc2D@\\xd0+\\x9ez\\xa4\\xefD@\\x02*\\x1cA*\\xcfD@N\\xeew(\\n\\xfeD@\\x03A\\x80\\x0c\\x1d\\xe9D@\\xed\\xd3\\xf1\\x98\\x81\\xf6D@\\x8f\\xe0F\\xca\\x16\\tE@\\xea?k~\\xfc\\xf1D@o\\x14Yk(\\xf3D@@\\xa4\\xdf\\xbe\\x0e\\x02E@\\x92^\\xd4\\xeeW\\xf7D@\\x96\\x08T\\xff \\x12E@\\x08\\x95\\xb8\\x8eq3E@-u\\x90\\xd7\\x83CE@m=C8f)E@\\xbc|\\xeb\\xc3z;E@\\xe5\\xees|\\xb4HE@\\x88ht\\x07\\xb1EE@\\x00m\\xabYg*E@\\x90\\xf4i\\x15\\xfd\\x17E@ \\xeb\\xa9\\xd5W\\x8dE@\\x8f\\xe3\\x87J#\\xaaE@e\\x1e\\xf9\\x83\\x81\\xd7E@\\xf0\\x16HP\\xfc\\xd2E@\\x8f\\xa6z2\\xff\\xfaE@.\\xe5|\\xb1\\xf7dF@\\xe39[@hWF@O\\xb4\\xab\\x90\\xf2\\x85F@\\xfayS\\x91\\n\\x9bF@F>\\xafx\\xea\\xc9F@{\\xf7\\xc7{\\xd5FF@\\x96u\\xffX\\x88(F@$)\\xe9ah\\xc1E@` \\x08\\x90\\xa1]E@\\x90\\xbcs(C\\x11F@\\xf0\\x83\\xf3\\xa9cSF@\\xf5\\xbe\\xf1\\xb5g|F@\\xd5\\x05\\xbc\\xcc\\xb0qF@mm\\xe1y\\xa9\\xfaE@\\tn\\xa4l\\x910F@\\xeb\\x1b\\x98\\xdc(\\x90F@w\\x12\\x11\\xfeE\\x84F@\\xd7\\x16\\x9e\\x97\\x8auF@6\\xca\\xfa\\xcd\\xc4\\xa8F@oI\\x0e\\xd8\\xd5\\x02G@#\\xdb\\xf9~j:G@\\xaa\\xec\\xbb\"\\xf8kG@\\xe2\\xe8*\\xdd]/G@\\xcc\\x0f\\\\\\xe5\\tVG@f\\xfc\\xfb\\x8c\\x0b}G@:\\x1e3P\\x19\\x89G@\\xc6\\xc3{\\x0e,\\xbfG@\\xc5\\x00\\x89&PnG@pC\\x8c\\xd7\\xbc\\xecF@\\x95d\\x1d\\x8e\\xae$F@Z\\xd7h9\\xd0gF@m\\xc6i\\x88*lF@\\x10\\x93p!\\x8f\\xc4F@\\xe1\\xd21\\xe7\\x19\\x19G@\\xb3\"j\\xa2\\xcf\\xd7F@1{\\xd9v\\xda\\x06G@q\\xc60\\'h\\x83G@\\xa1L\\xa3\\xc9\\xc5\\x8aG@\\x1d9\\xd2\\x19\\x18=G@K<\\xa0l\\xcaCG@\\xeawak\\xb6\\x0cG@b\\xbc\\xe6U\\x9d\\xabF@x\\x7f\\xbcW\\xad\\x04G@jK\\x1d\\xe4\\xf5\\x1eG@\\xd7/\\xd8\\r\\xdb\\x96F@\\xc1\\xe4F\\x91\\xb5\\x94E@\\x13d\\x04T8\\xe2E@\\x91c\\xeb\\x19\\xc2\\x9fE@\\xe74\\x0b\\xb4;0F@\\xb3\\xb3\\xe8\\x9d\\nPF@ \\xee\\xeaUd.F@\\x86p\\xcc\\xb2\\'\\x8fF@\\xe7\\xe0\\x99\\xd0$\\xfdF@\\xa6\\xec\\xf4\\x83\\xba\\xeaF@\\\\W\\xcc\\x08o\\xf3F@\\x93\\xe6\\x8fim\\xccF@\\x9a\\x0b\\\\\\x1ek\\xcaF@i\\xc8x\\x94J\\x88F@R\\x9b8\\xb9\\xdfOF@\\xca\\x8c\\xb7\\x95^)F@;oc\\xb3#\\x1bF@\\x7f\\xe1\\x95$\\xcf\\x1bF@b\\xa0k_@\\xe9E@z\\xe3\\xa40\\xef\\xa1E@\\xef\\x00OZ\\xb8\\xbcE@\\x7fK\\x00\\xfe)\\xfbE@\\x10:\\xe8\\x12\\x0e\\xbdE@\\xe6\\x07\\xae\\xf2\\x04jE@\\xb7D.8\\x83\\xb3E@\\xaed\\xc7F \\x18F@\\xbc\\xee\\xadHLdF@Ih\\xcb\\xb9\\x14\\xefF@2\\x8f\\xfc\\xc1\\xc0\\x15G@V/\\xbf\\xd3d\\xeaF@\\x10\\xac\\xaa\\x97\\xdf\\xe5F@\\x18%\\xe8/\\xf4\\xacF@\\xefr\\x11\\xdf\\x89\\xe5F@fM,\\xf0\\x15\\xa5F@S\\x05\\xa3\\x92:\\xc5F@\\xc7\\x11k\\xf1)\\xdcF@\\x18%\\xe8/\\xf4\\xacF@r\\x17a\\x8ar\\xabF@\\xa6B<\\x12/\\xbbF@\\xce67\\xa6\\'\\xdaF@\\xcc\\x0c\\x1be\\xfd\\xb4F@\\x8a\\x1aL\\xc3\\xf0\\xa9F@\\x00\\xcbJ\\x93RDF@\\xb15[y\\xc9\\xcbE@\\xb1\\xdf\\x13\\xebT\\xfbE@A*\\xc5\\x8e\\xc69F@\\x82\\x1c\\x940\\xd3DF@\\x9e\\xed\\xd1\\x1b\\xee\\xebE@!\\xae\\x9c\\xbd3\\xdeE@P\\x18\\x94i4\\xb9E@_%\\x1f\\xbb\\x0b\\x06F@\\xfd\\xf4\\x9f5?\\xe8E@MJA\\xb7\\x97\\x10F@7\\xe0\\xf3\\xc3\\x08\\xbfF@\\x8d\\x98\\xd9\\xe71\\x98F@\\t\\xc7,{\\x12\\xa2F@\\xd7\\x16\\x9e\\x97\\x8auF@;oc\\xb3#\\x1bF@\\x04p\\xb3x\\xb1\\xb6E@\\xb3\\xb3\\xe8\\x9d\\n\\xbaE@\\xcc\\xb3\\x92V|\\xadE@$\\xd0`S\\xe7OE@gE\\xd4D\\x9f[E@2s\\x81\\xcbc\\xbdE@r\\xfe&\\x14\"^E@-u\\x90\\xd7\\x83CE@\\x97r\\xbe\\xd8{\\xf1D@\\xcfh\\xab\\x92\\xc8\\x9eD@H\\x89]\\xdb\\xdbEE@\\xc3\\x0b\"R\\xd3\\x18E@*8\\xbc \"\\xa9E@\\x86\\xea\\xe6\\xe2oWE@\\x04p\\xb3x\\xb1\\xb6E@\\x10\\xe4\\xa0\\x84\\x99\\xecE@\\xa7\\x90+\\xf5,\\xd8E@/\\x8c\\xf4\\xa2v\\xf3E@y\\x90\\x9e\"\\x87rF@\\xac\\xfd\\x9d\\xed\\xd1\\xd9F@vn\\xda\\x8c\\xd3\\x00G@U\\x88G\\xe2\\xe5[G@|\\x7f\\x83\\xf6\\xea\\x85G@\\xdc\\xc0\\x1d\\xa8S&G@\\xb8v\\xa2$$\"G@\\x90\\xd8\\xee\\x1e\\xa0iG@\\xaf}\\x01\\xbdpeG@\\x89\\x0c\\xabx#\\xddG@\\xd3\\xa3\\xa9\\x9e\\xccqH@\\x00\\xc3\\xf2\\xe7\\xdb\\xa4H@?\\xa7 ?\\x1bMI@}\\x05i\\xc6\\xa2SI@t%\\x02\\xd5?\\xb8I@O\\x1e\\x16jM\\x0fJ@H9\\x98M\\x80aJ@\\x00\\x1c{\\xf6\\\\\\xacI@(g(\\xeex\\x9fI@\\xc58\\x7f\\x13\\n\\x89I@\\xd0G\\x19q\\x01\\xf2I@\\xa3\\xe8\\x81\\x8f\\xc1nI@\\xdf\\xe2\\xe1=\\x07\\xacI@\\'\\xa1\\xf4\\x85\\x90\\xadH@v\\x1d\\xaa)\\xc9nH@\\xe1\\xd21\\xe7\\x19\\x19G@r\\x8cd\\x8fPuH@0\\x14\\xb0\\x1d\\x8c\\xc8G@+\\x86\\xab\\x03 pH@\\x1b\\xd7\\xbf\\xeb3\\xa7H@\\xa1\\x12\\xd71\\xae\\x12I@+\\xdf3\\x12\\xa1\\xe1H@\\xb8\\xe8d\\xa9\\xf5\\xe0H@LR\\x99b\\x0e\\xf0G@O\\xd0&\\x87OHG@=\\xf4\\xdd\\xad,OG@T\\xe4\\x10qsnH@@\\x9f\\xc8\\x93\\xa4\\x99H@M\\xbfD\\xbcupH@\\xcd\\x04\\xc3\\xb9\\x86\\x15I@\\xd0\\xee\\x90b\\x80\\x80I@\\xf2\\'*\\x1b\\xd6\\x80I@\\x89%\\xe5\\xees*I@c\\x9bT4\\xd6\\xeaH@\\xb5\\xfe\\x96\\x00\\xfcuH@vs\\xf1\\xb7=\\xd5H@V}\\xae\\xb6b\\x1bI@6U\\xf7\\xc8\\xe6\\x1eI@\\xef\\xe7\\x14\\xe4g\\xafH@\\xe3\\xc7\\x98\\xbb\\x96\\xd8H@\\xa9M\\x9c\\xdc\\xef&I@\\x9fW<\\xf5HuI@\\xdbQ\\x9c\\xa3\\x8e\\xb2I@\\xf2>\\x8e\\xe6\\xc80J@Q\\xde\\xc7\\xd1\\x1c\\xebJ@%\\x05\\x16\\xc0\\x94\\tK@E(\\xb6\\x82\\xa6\\xf3J@\\x03\\xb0\\x01\\x11\\xe2FJ@\\xd8\\xd9\\x90\\x7ffpJ@V\\x830\\xb7{]J@h\\xb2\\x7f\\x9e\\x06\\x1cJ@\\xe36\\x1a\\xc0[\\xf6I@\\xac5\\x94\\xda\\x8b\\x8aI@\\x88ht\\x07\\xb1\\xefH@\\xed\\xba\\xb7\"1\\x7fH@\\xe3k\\xcf,\\t\\\\H@\\xc7\\x9cg\\xecK\\xbcH@\\'\\xa1\\xf4\\x85\\x90\\xadH@\\xfe\\xd5\\xe3\\xbe\\xd5.H@\\xfb\\xca\\x83\\xf4\\x14mI@\\x12gE\\xd4D-J@\\xde\\xe5\"\\xbe\\x13MJ@\\x96\\'\\x10v\\x8a\\xb5J@\\xc6m4\\x80\\xb7\\x98K@\\xa4\\x1baQ\\x11wK@\\xb8#\\x9c\\x16\\xbc\\x9cK@H\\xf9I\\xb5O\\x11J@\\x07\\xeb\\xff\\x1c\\xe6\\xd9I@5D\\x15\\xfe\\x0c\\xb1I@dw\\x81\\x92\\x02\\x89J@\\xfb\\xca\\x83\\xf4\\x14\\x03J@\\x9a\\\\\\x8c\\x81u2J@\\x158\\xd9\\x06\\xeevJ@\\xb8\\xb3\\xaf<H{J@\\x8b\\xc1\\xc3\\xb4oxJ@O\\x05\\xdc\\xf3\\xfc\\xedI@\\x10:\\xe8\\x12\\x0e\\xfdI@~\\xe1\\x95$\\xcf[J@\\xdfO\\x8d\\x97n,J@\\xea\\x05\\x9f\\xe6\\xe4#J@\\xb56\\x8d\\xed\\xb5\\x90J@\\xb5\\x1dSwe\\xd9I@\\x86\\x94\\x9fT\\xfb0I@\\xa9M\\x9c\\xdc\\xef&I@\\xc2\\x8b\\xbe\\x824\\xcdH@\\x1d\\x04\\x1d\\xadjmI@%z\\x19\\xc5r)I@j\\x13\\'\\xf7;\\xaeH@\\xb6\\x12\\xbaK\\xe2\\x84H@\\x03\\xe8\\xf7\\xfd\\x9b!H@\\xa9\\xde\\x1a\\xd8*\\x9fH@\\x80}t\\xea\\xca\\xffG@69|\\xd2\\x89\\xc6G@\\xaco`r\\xa3\\x98H@&\\xe1B\\x1e\\xc1gH@(d\\xe7ml\\xfeH@,Kt\\x96Y^I@\\xcdZ\\nH\\xfb{I@OX\\xe2\\x01e\\xb3I@G\\x8c\\x9e[\\xe8\\x90I@0\\xf3\\x1d\\xfc\\xc4qI@#\\xbf~\\x88\\r\\x8cI@\\x1cDkE\\x9b\\xbdI@I\\xa0\\xc1\\xa6\\xce\\x9fI@\\xfb\\xca\\x83\\xf4\\x14mI@\\x06\\x12\\x14?\\xc6\\xdcH@\\x1amU\\x12\\xd9\\xc7H@\\x02\\x83\\xa4O\\xab\\xeaH@Y\\xf8\\xfaZ\\x97\\xfeH@\\xb60\\x0b\\xed\\x9c\\xe4I@\\xba\\xd5s\\xd2\\xfb\\xecI@\\xc4$\\\\\\xc8#\\x10J@\\x92\\xd0\\x96s)`J@\\x0b\\x98\\xc0\\xad\\xbb\\x95J@>\\x00\\xa9M\\x9cTJ@U\\x19\\xc6\\xdd ~J@[>\\x92\\x92\\x1e|J@#\\xdb\\xf9~j\\xe4J@4`\\x90\\xf4i\\tK@Dm\\x1bFAVK@\\xf4p\\x02\\xd3i\\x9fK@\\xc3\\xd9\\xade2\\x94K@Q\\xfaB\\xc8y\\xadK@\\xfe)U\\xa2\\xec\\xa1K@\\xf9\\x81\\xab<\\x81\\x8eK@\\x17\\x11\\xc5\\xe4\\rtK@{\\x7f\\x83\\xf6\\xea\\xc5K@o\\xf5\\x9c\\xf4\\xbe\\x0fL@\\x1b\\x12\\xf7X\\xfa\\xf8K@\\xea!\\x1a\\xddA|K@Q\\xba\\xf4/I\\xf3K@\\x81\\xe4\\x9dC\\x19~K@\\x12\\xe1_\\x04\\x8d5M@]\\xe2\\xc8\\x03\\x91\\x13M@\\x0ea\\xfc4\\xee?M@\\xd2X\\xfb;\\xdb\\x9fM@O\\xb4\\xab\\x90\\xf2\\xd9M@)\\xe7\\x8b\\xbd\\x17\\xd5M@\\x0b<\\xf7\\x1e.\\xc3M@\\tkc\\xec\\x84\\x0fN@\\xc2\\x16\\xbb}VWN@\\x87\\x1a\\x85$\\xb3\\xa8N@\\xe5\\r0\\xf3\\x1d,O@\\xad\\xf9\\xf1\\x97\\x16 P@\\x06e\\x1aM.\"P@n\\xa3\\x01\\xbc\\x05oP@\\x90J\\xb1\\xa3q\\xa8P@\\xc1\\x01-]\\xc1EP@Ot]\\xf8\\xc1kP@|\\xed\\x99%\\x01kP@\\xfe\\r\\xda\\xab\\x8f\\xd5P@S\\x93\\xe0\\ri\\xc6P@\\x96\\xd3\\x9e\\x92s\\xe2P@\\xc2oC\\x8c\\xd7\\x14Q@]\\xe1].\\xe20Q@\\xcd\\x8f\\xbf\\xb4\\xa8\\x81Q@_a\\xc1\\xfd\\x80\\xbcQ@_\\xaf\\xb0\\xe0~\\xcdQ@\\xd2m\\x89\\\\p\\xd3Q@\\xc3\\x0b\"R\\xd3nQ@q\\xe9\\x98\\xf3\\x8cVQ@\\xb1Q\\xd6o&ZQ@\\xd5\"\\xa2\\x98\\xbc\\xb8Q@[\\x9b\\xc6\\xf6Z\\xd3Q@\\xd3\\xdb\\x9f\\x8b\\x86\\x0cR@\\xb0\\x8e\\xe3\\x87J\\x93R@BC\\xff\\x04\\x17GS@\\xc7\\xbf\\xcf\\xb8p%S@\\'P\\xc4\"\\x86%S@oJy\\xad\\x84\\xa7S@\\xf8\\x1a\\x82\\xe32\\xd0S@\\xb1\\xbf\\xec\\x9e<\\xb3S@\\xceN\\x06G\\xc9\\x98S@\\x9e\\xecfF?}S@\\xd5\"\\xa2\\x98\\xbc\\xd8S@\\xe0\\xd7H\\x12\\x84\\x17T@\\xeb\\xe5w\\x9a\\xcc1T@\\xf7\\xb0\\x17\\n\\xd8\\xf0S@\\x06\\x81\\x95C\\x8b\\x9aS@P\\x1b\\xd5\\xe9@:T@\\xa5\\xb8\\xaa\\xec\\xbb\\x93T@\\xf7\\x931>\\xcciT@M.\\xc6\\xc0:\\xb8T@\\xbb\\x9c\\x12\\x10\\x93\\xcdT@w28J^\\x8cT@\\xe5\\x80]M\\x9eyT@\\xeeZB>\\xe8\\\\T@\\xad\\xf9\\xf1\\x97\\x16\\xcaS@\\x90\\xf4i\\x15\\xfd\\xf7R@X\\x8a\\xe4+\\x81\\xefS@O\\x90\\xd8\\xee\\x1e\\xe4S@\\xe3\\xa8\\xdcD-5S@\\x835\\xce\\xa6#\\xbcR@c|\\x98\\xbdl\\xb1R@\\xc3\\xbd2o\\xd5QR@\\xbct\\x93\\x18\\x04\\xf2S@\\xc0\\xb3=z\\xc3\\xdeS@\\xd5\\th\"l\\xb7S@\\x9cMG\\x007\\x18S@)\\xcb\\x10\\xc7\\xba\\x08S@5$\\xee\\xb1\\xf4(S@fPmp\"\\x06S@P\\xa9\\x12eo{R@\\x03_\\xd1\\xad\\xd7\\x9eR@\\x0bC\\xe4\\xf4\\xf5\\x93R@\\x10\\xe8L\\xdaT\\x9cR@\\xd0\\x0bw.\\x8c\\xa7R@\\xfe-\\x01\\xf8\\xa7\\x87R@\\xbe\\xd7\\x10\\x1c\\x97@R@\\xd670\\xb9Q\\x16R@4\\x88\\x0f\\xec\\xf8\\xdaQ@\\x04Wy\\x02aUQ@\\xd5\\x94d\\x1d\\x8eWQ@n1?74ZR@\\xa2\\xb6\\r\\xa3 6R@\\t\\x87\\xde\\xe2\\xe1\\xa7R@3\\x8bPl\\x05|R@\\xd3f\\x9c\\x86\\xa8bR@\\x10w\\xf5*2\\xb6R@\\xad\\x88\\x9a\\xe8\\xf3\\xefR@I\\xda\\x8d>\\xe6\\xe3R@\\xdcJ\\xaf\\xcd\\xc6WR@m=C8fsR@0,\\x7f\\xbe-gR@\\xc4\\xd2\\xc0\\x8fj\\xafR@\\xadRz\\xa6\\x97\\xb1R@\\x97\\x92\\xe5$\\x94\\xf9R@\\xd7\\xba\\xd4\\x08\\xfd\\xacR@\\xae|\\x96\\xe7\\xc1\\xd6R@e\\x8dz\\x88F\\xb5R@M\\x83\\xa2y\\x00\\xb0R@T\\xfdJ\\xe7\\xc3\\xc5R@v\\xc4!\\x1bH\\'S@\\x92sb\\x0f\\xed4S@T\\x8b\\x88b\\xf2&S@\\xde\\xca\\x12\\x9de\\xe3R@\\x80d:tz\\x08S@\\x9a\\xea\\xc9\\xfc\\xa3\\xa9R@q\\xcd\\x1d\\xfd/\\xb4R@*V\\r\\xc2\\xdc\\xc8R@\\xc2\\xf6\\x931>\\x9bR@\\xe6#)\\xe9a\\x18S@u\\xaf\\x93\\xfa\\xb2_S@@\\xbd\\x195_\\x99S@Re\\x18w\\x83\\xf1S@\\x9df\\x81v\\x87\\xcfS@\\xea\\x06\\n\\xbc\\x93\\x12T@[\\xd0{c\\x08\\xe3S@\\xc1\\xe5\\xb1fd\\xc3S@\\xfe\\xd17i\\x1a\\x95S@\\xc4y8\\x81\\xe9\\xc7S@Kr\\xc0\\xae&\\xd8S@\\xb4\\xe9\\x08\\xe0f\\xd8S@[\\x051\\xd0\\xb5\\xd2S@B\\xb1\\x154-\\x16T@\\xe4g#\\xd7M\\xc2S@j\\x84~\\xa6^\\xbeS@\\x88Md\\xe6\\x02\\xa6S@\\xa39\\xb2\\xf2\\xcb\\xccR@\\xe9\\xf4\\xbc\\x1b\\x0b\\xccR@0\\xbeh\\x8f\\x17\"S@\\xa9\\xa2x\\x95\\xb5tS@o\\rl\\x95`\\xf8S@\\xbf)\\xacTP\\xd7S@{\\xf82Q\\x84\\xdfS@\\x95\\x81\\x03Z\\xba!T@?V\\xf0\\xdb\\x10[T@\\x1bH\\x17\\x9bVMT@}\\x97R\\x97\\x8cDT@\\xf3\\xa8\\xf8\\xbf#bT@\\x80\\xf0\\xa1DKjT@\\xa3\\x1baQ\\x11\\xb0T@\\x83\\xa6%VF\\xbeT@\\xdcF\\x03x\\x0b\\xb7T@\\xc4\\xe9$[]\\xe5T@`U\\xbd\\xfcNHU@|c\\x08\\x00\\x8e\\xd7U@\\xdcf*\\xc4#\\x8bU@/\\xa8o\\x99\\xd3\\xf6U@d\\xad\\xa1\\xd4^\\xc2U@4\\xd8\\xd4yT\\xc7U@\\xde\\xff\\xc7\\t\\x130V@\\xa8\\x03YO\\xad(V@r\\x1a\\xa2\\n\\x7f\\x1dV@DK\\x1eO\\xcb\\xccU@\\x90\\xbf\\xb4\\xa8O\\xd8U@\\xe7u\\xc4!\\x1b*V@\\x91\\xd6\\x18tB\\x02V@\\x07\\\\W\\xcc\\x085V@x\\x9ex\\xce\\x16XV@c\\xd7\\xf6vK\\xc3U@6:\\xe7\\xa78\\xb1U@\\xd4`\\x1a\\x86\\x8f\\xfeU@\\xa3\\xcfG\\x19qmV@\\xc6\\xfa\\x06&7\\xb3V@U\\xdd#\\x9b\\xab\\xfaV@\\x97\\xac\\x8ap\\x93\\x0cW@\\x01\\xdc,^,\\x0eW@q:\\xc9V\\x97\\xf1V@\\xa6|\\x08\\xaaF\\xfdV@\\x0b\\xb4;\\xa4\\x18\\xafV@\\xb3\\xeas\\xb5\\x15\\x1eV@75\\xd0|\\xce\\xd7U@\\xf0\\x89u\\xaa|_V@\\x96z\\x16\\x84\\xf2\\xe7U@*8\\xbc \"\\xa7U@0L\\xa6\\nF\\xb7U@-u\\x90\\xd7\\x83\\x0cV@\\xec1\\x91\\xd2l\\xe5U@c&Q/\\xf8mU@\\xb5\\xa1b\\x9c\\xbf\\xf4T@\\t\\xa3Y\\xd9>\\xe1T@\\xf2X32\\xc8\\x0bU@\\x88\\xd5\\x1fa\\x18\\xa0T@=J%<\\xa1\\xadT@=\\xba\\x11\\x16\\x15\\xd8T@\\xe5&jinVU@\\xd4\\x11\\xc0\\xcd\\xe2*U@\\xe40\\x98\\xbfB\\xc6T@\\xe8j+\\xf6\\x97\\x06T@\\x19s\\xd7\\x12\\xf2\\xd1T@G:\\x03#/$T@\\xa88\\x0e\\xbcZAT@\\'\\xe0\\xd7H\\x12\\x04T@k) \\xed\\x7f\\xd5S@\\xcc\\xd0x\"\\x88\\x8cS@\\xc2\\xa0L\\xa3\\xc9\\x96S@\\x80f\\x10\\x1f\\xd8\\xf0R@\\xd2\\x90\\xf1(\\x952S@\\xdf1<\\xf6\\xb3#S@Hq\\x8e::hR@xC\\x1a\\x158\\xbdQ@\\x9e\\x99`8\\xd7\\x0bR@\\x02\\r6u\\x1e\\xe8Q@[\\x051\\xd0\\xb5\\xe8Q@\\xd5\\x93\\xf9G\\xdf\\xb5Q@v7Ou\\xc8VQ@\\xe3\\x8e7\\xf9-hQ@\\xed\\xd3\\xf1\\x98\\x81\\xa9R@2\\x92=B\\xcd\\x80R@\\x92\\x03v5y\\x87R@\\x17\\xb9\\xa7\\xab;\\xdaR@\\x13,\\x0eg~rS@\\x98\\xa0\\x86oaJS@z\\xa9\\xd8\\x98\\xd7:S@\\xf9\\xddt\\xcb\\x0eqS@i\\xfbWV\\x9aNS@?5^\\xbaIVS@\\xce\\xdcC\\xc2\\xf7\\xfeR@M\\x83\\xa2y\\x00\\xc6Q@\\xb9o\\xb5N\\\\\\rR@\\xcc\\xb7>\\xac7\\x97Q@\\x92$\\x08W@zQ@ML\\x17b\\xf5\\xdbQ@\\xd0\\xb6\\x9au\\xc6\\xc7Q@\\xc2\\xa2\"N\\'yQ@)\\x99\\x9c\\xda\\x19\\xd1P@\\xcc|\\x07?q\\x1dQ@\\x92zO\\xe5\\xb4\\x9cQ@\\x16S\\xe9\\'\\x9c\\\\Q@\\xb5\\x15\\xfb\\xcb\\xee5Q@\\xdf\\xc6fG\\xaa!Q@\\x1a\\x19\\xe4.\\xc2(Q@\\x14\\xcc\\x98\\x825\\xecP@\\x81#\\x81\\x06\\x9b\\xfdP@\\x00\\x1f\\xbcvi\\xcfP@5a\\xfb\\xc9\\x18\\x8eQ@\\x8c\\x12\\xf4\\x17z\\x1cR@\\xa1\\xda\\xe0D\\xf4\\xe1Q@\\xb5n\\x83\\xdaobQ@\\xe5J=\\x0bBHQ@\\x8b\\xdf\\x14V*TQ@\\xc9\\x94\\x0fA\\xd5\\x0eQ@\\xed\\x0f\\x94\\xdb\\xf6DQ@Z\\x0e\\xf4P\\xdb)Q@\\x80\\x9c0a4\\x8dP@\\x1b\\xbc\\xaf\\xca\\x85\\x07P@\\xdd\\x06\\xb5\\xdf\\xda\\xb1P@\\nIf\\xf5\\x0e\\x95P@o\\x10\\xad\\x15m~P@\\x9d\\x0ed=\\xb5\\xa6P@R*\\xe1\\t\\xbd\\xf4P@l\\\\\\xff\\xae\\xcf\\xb8M@\\xc6\\xa5*mq\\x05M@w\\xf1~\\xdc~\\xadM@\\x9aWuV\\x0b<N@\\x01R\\x9b8\\xb9#N@e\\x19\\xe2X\\x17\\rN@)\\xec\\xa2\\xe8\\x81\\xedM@\\'\\xf5ei\\xa7.M@|\\x0e,G\\xc84N@\\xbeOU\\xa1\\x81,N@\\xc4AB\\x94/\\x12O@\\xdf\\xfc\\x86\\x89\\x06\\x85O@\\x9eG\\xc5\\xff\\x1d\\xd9O@\">\\xb0\\xe3\\xbf\\x0cO@\\x0c\\xc6\\x88D\\xa1\\xfdN@\\xee;\\x86\\xc7~\\xf6N@\\xdeY\\xbb\\xedB\\x89N@\\xbc\\xc4X\\xa6_\\x86N@\\x85\\xb7\\x07! \\xc9M@`&\\x8a\\x90\\xba\\x99M@4\\x12\\xa1\\x11l\\xeaM@s+\\x84\\xd5XbM@O\\xc7c\\x06*\\xcbM@#\\xdb\\xf9~j\\x80M@\\xfe\\xf34`\\x90JM@\\x16\\x1b\\xf3:\\xe2\\x90L@\\x8e\\x01\\xd9\\xeb\\xdd\\xdfK@0\\x9a\\x95\\xedC\\x9cL@0zn\\xa1+?L@9f\\xd9\\x93\\xc0\\x92L@zW=`\\x1e\\xa6L@\\x06j1x\\x98\\x0eM@\\x18\\xed\\xf1B:nL@;\\x8d\\xb4T\\xdelL@\\xf9\\x10T\\x8d^\\xb3L@B\\xb8\\x02\\n\\xf5pM@\\x05\\xad\\xc0\\x90\\xd5=N@\\xfd\\xa7\\x1b(\\xf0(N@xd\\xac6\\xff\\xffM@\\xf4\\xbc\\x1b\\x0b\\n\\x0bN@\\x7fo\\xd3\\x9f\\xfd\\xa6N@A%\\xaec\\\\\\xc3N@5\\x07\\x08\\xe6\\xe8\\x99N@xd\\xac6\\xff\\xffM@\\t\\xf5\\xf4\\x11\\xf8_M@t\\xb0\\xfe\\xcfavL@\\x10\\xe8L\\xdaT\\x85L@Vb\\x9e\\x95\\xb4\\xaaL@\\xcc\\xce\\xa2w*bL@\\x16\\xc2j,a\\x15L@\\xc3\\xd8B\\x90\\x83HL@\\x0bA\\x0eJ\\x98UL@o\\x81\\x04\\xc5\\x8f\\xe9L@\\xa6\\nF%u\\xd2L@\\xb9\\xac\\xc2f\\x80\\x85L@\\'\\x81\\xcd9x\\xdcK@J\\xb3y\\x1c\\x06IL@\\xf9\\x80@g\\xd2\\xbaJ@\\x98\\x12I\\xf42\\x04J@W\\xcb\\x9d\\x99`\\xeaI@\\x1b\\x13b.\\xa9tJ@\\x08\\xac\\x1cZd\\xf3J@|\\xb9O\\x8e\\x02\\xe8J@\\xe5\\x9a\\x02\\x99\\x9d\\x19K@\\x9b\\xaa{ds\\xafK@\\xea<*\\xfe\\xef\\x8aL@d\\x91&\\xde\\x01bM@\\xcc*l\\x06\\xb8&M@4\\x9d\\x9d\\x0c\\x8e\\x90M@.O\\xe7\\x8aR\\xdcM@\\xfeDe\\xc3\\x9a\\x92N@\\x0b\\xb5\\xa6y\\xc7oN@\\xa6\\xef5\\x04\\xc7\\xc7N@2#\\xbc=\\x08\\x83N@\\xdc\\x12\\xb9\\xe0\\x0cBN@f\\xc4\\x05\\xa0Q`N@\\xae\\xbby\\xaaC\\xa6M@\\x1f\\x14\\x94\\xa2\\x95\\xa5L@\\xd9\\xcfb)\\x92\\x07M@\\xb3|]\\x86\\xff\\xf0L@\\x8a\\xeb\\x18W\\\\\\x96M@\\xea\\x95\\xb2\\x0cq^M@]\\x1d\\x00qW{M@\\x8a\\xc6\\xda\\xdf\\xd9\\x88M@\\xf4\\x1c\\x91\\xefR\\xbcM@-wf\\x82\\xe1|M@\\x0c\\x8e\\x92W\\xe7\\xb8M@\\xdc\\xa37\\xdcG*N@/\\x1a2\\x1e\\xa5\\nN@\\x02c}\\x03\\x93\\x1bN@\\x0b\\xb6\\x11Ov\\x03N@\\x88\\x7f\\xd8\\xd2\\xa3\\xbbM@\\x04\\x1b\\xd7\\xbf\\xebIM@z\\xab\\xaeC5\\x83M@q;4,FQM@\\xfcU\\x80\\xef6;M@\\xc7\\t\\x13F\\xb3\\xdeL@\\xae\\x9bR^+\\x1fM@\\x04\\x8fo\\xef\\x1a\\xbaL@\\xad\\x15m\\x8es\\xdbL@\\xe5\\x94\\x80\\x98\\x84\\xd7L@T\\x048\\xbd\\x8bAL@\\x9e\\x9b6\\xe34\\xd8K@#*T7\\x17\\x9fK@\\x96\\xe6V\\x08\\xab\\xe3J@\\xf7\\xcc\\x92\\x005\\xe5J@\\xe2\\x91xy:\\x97J@\\xbe\\x85u\\xe3\\xddMJ@aP\\xa6\\xd1\\xe4|J@\\x8b\\xc9\\x1b`\\xe6UK@\\xa5\\x85\\xcb*l\\xf4K@\\x9f!\\x1c\\xb3\\xec\\x1bL@\\xba\\x12\\x81\\xea\\x1f\\xe2K@\\xa0\\x8a\\x1b\\xb7\\x98\\xb9K@\\x1b\\x82\\xe32n6L@\\xc4\\x05\\xa0Q\\xba\\x1aL@\\xa7\\x94\\xd7J\\xe8\\x8aL@\\xa3\\x8e\\x8e\\xab\\x91}L@\\x99\\xdaR\\x07y\\x8dL@\\xb4\\xe5\\\\\\x8a\\xab\\xbcL@:\\x8e\\x1f*\\x8d\\xbeL@,e\\x19\\xe2X\\xd7L@\\xfb\\x8a5\\\\\\xe4bL@\\x8d{\\xf3\\x1b&zL@\\xec\\xc1\\xa4\\xf8\\xf8\\xfcK@\\t\\xa7\\x05/\\xfalM@o\\xb8\\x8f\\xdc\\x9aJM@\\x0b\\x08\\xad\\x87/uM@@\\xc3\\x9b5x\\xe9M@\\xe4k\\xcf,\\tHN@DO\\xca\\xa4\\x86:N@\\xa2\\xb8\\xe3M~\\x81N@\\'\\xf8\\xa6\\xe9\\xb3\\xe5N@\\xe1[X7\\xde[O@\\x8e\\xa9\\xbb\\xb2\\x0b\\x14O@\\\\\\x8b\\x16\\xa0m\\x0fO@\\x83\\xa5\\xba\\x80\\x97\\xffN@\\xf6\\xd4\\xea\\xab\\xab\\x8eN@\\xfbV\\xeb\\xc4\\xe5lO@v\\x8fl\\xae\\x9auP@5c\\xd1tv\\xc2P@\\xeb\\xe0`ob\\xbdP@\\xe0\\x83\\xd7.m\\xe3P@\\xea%\\xc62\\xfd\\x11Q@\\xbf%\\x00\\xff\\x94\\xd8P@5B?S\\xaf\\xe3P@+\\xd8F<\\xd9\\xe8P@]\\xdd\\xb1\\xd8&\\xd8P@\\x8bN\\x96Z\\xef\\xe8P@O\\x93\\x19o+mP@_\\xf1\\xd4#\\r\\x81P@\\xc1\\x8fj\\xd8\\xef\\x87P@L\\x1d\\xe4\\xf5`aP@HN&n\\x15mP@@\\xf5\\x0f\"\\x19\\xc4P@\\x80\\xd8\\xd2\\xa3\\xa9\\xa6P@;\\x01M\\x84\\r\\xc0P@z\\xa7\\x02\\xeey\\x04Q@\\x1cB\\x95\\x9a=\\xa1P@\\xcf\\xbf]\\xf6\\xebrO@q\\t\\xc0?\\xa5\\xc8O@\\xac\\x01JC\\x8dBO@l\\r\\xa5\\xf6\"DN@M\\x198\\xa0\\xa5\\x9dN@m?\\x19\\xe3\\xc3>O@37\\xdf\\x88\\xee\\xc1O@\\xf0k$\\t\\xc2mO@\\xcbJ\\x93R\\xd0~P@\\xc9\\xcc\\x05.\\x8fqP@H\\x19q\\x01h0P@\\xd6\\xa7\\x1c\\x93\\xc5XP@\\xf51\\x1f\\x10\\xe8:P@\\x8a\\xcb\\xf1\\nD\\x07P@\\xeb\\xfc\\xdbe\\xbfgP@oJy\\xad\\x84uP@\\xad\\x86\\xc4=\\x96@P@\\xee\\x93\\xa3\\x00Q=P@\\xd3\\xe0\\xb6\\xb6\\xf0eP@\\xff\\x96\\x00\\xfcS+P@\\xa7\\x97\\x18\\xcb\\xf4[P@>\\x93\\xfd\\xf34vP@1_^\\x80}\\x91P@uv28J\\xadP@\\xe0~\\xc0\\x03\\x03\\xc4P@3k) \\xed\\xd8P@.V\\xd4`\\x1a\\xf6P@\\xb6\\xf8\\x14\\x00\\xe3\\x1bQ@8\\x88\\xd6\\x8a6\\x87Q@\\x98R\\x97\\x8cczQ@L\\x8f\\xa6z2\\xa6Q@o\\xf1\\xf0\\x9e\\x03\\xe2Q@\\xd8F<\\xd9\\xcd\\xaeQ@Z\\xf5\\xb9\\xda\\x8a\\xd0Q@\\xaf>\\x1e\\xfa\\xee^Q@\\xe3\\x01eS\\xae\\xa5Q@\\xce\\xfd\\xd5\\xe3\\xbe\\x92Q@O&n\\x15\\xc4{Q@\\xdbn\\x82o\\x9a\\xb5Q@_\\rP\\x1aj\\xaaQ@\\xcf\\xdam\\x17\\x9a\\x9dQ@[\\x97\\x1a\\xa1\\x9fTQ@[@h=|\\x9aQ@\\x0b\\xb3\\xd0\\xcei\\x8dQ@\\xa1IbI\\xb9\\x95Q@\\x06\\x11\\xa9i\\x17\\x9bQ@\\xee(\\xceQG\\xdcQ@\\x98\\xf6\\xcd\\xfd\\xd5\\xc0Q@\\x1d:=\\xef\\xc6\\x89Q@\\x93\\xff\\xc9\\xdf\\xbd\\x91Q@\\xd2\\xffr-ZjQ@\\xd5\\x91#\\x9d\\x81\\x9fQ@\\xe3\\xc6-\\xe6\\xe7\\x93Q@\\xe0d\\x1b\\xb8\\x03\\xb6Q@#\\xa0\\xc2\\x11\\xa4\\tR@\\xc3\\x9b5x_vR@\\xb4\\xaa%\\x1d\\xe5\\xcdR@l\\xd0\\x97\\xde\\xfe\\xa3R@\\x12\\x9de\\x16\\xa1&S@\\xf1)\\x00\\xc63\\x1bS@\\x0e\\xfb=\\xb1N4S@\\xfa|\\x94\\x11\\x17\\xf0R@O\\xb2\\xd5\\xe5\\x94\\'S@R\\xef\\xa9\\x9c\\xf6\\x1fS@\\x05\\x8aX\\xc4\\xb0\\xfbR@\\x83\\xa5\\xba\\x80\\x97\\xf4R@\\x99\\x9f\\x1b\\x9a\\xb2\\xbfR@S\"\\x89^F\\xdaR@\\x9b\\xca\\xa2\\xb0\\x8b\\xc4R@\\x1c\\x97qS\\x03\\xa0R@\\xbcB\\x1f,ciR@\\xc5v\\xf7\\x00\\xdd\\x90R@\\xcb\\xba\\x7f,DGS@f\\xde\\xaa\\xebP2S@\\xef\\xaf\\x1e\\xf7\\xad\\x11S@\\xbd\\x8f\\xa39\\xb2\\xf0R@\\xeb\\x1a-\\x07z\\xc0R@z\\x89\\xb1L\\xbf\\xf8R@ \\xd7\\x86\\x8aq\\xb4R@\\r\\xdeW\\xe5BKR@\\xeb\\xe5w\\x9a\\xccdR@\\x07\\xb0\\xc8\\xaf\\x1fCR@\\x95g^\\x0e\\xbb`R@\\x9fY\\x12\\xa0\\xa6$R@\\x14V*\\xa8\\xa8\\x05R@6\\x01\\x86\\xe5\\xcf\\x1dR@\\xe1\\x06|~\\x18zR@\\xe6>9\\n\\x10\\xd9R@\\x0c\\xeb\\xc6\\xbb#\\xbeR@[z4\\xd5\\x93HR@\\x9e\\xef\\xa7\\xc6K\\x91R@\\x934\\x7fLk\\xa6R@\\xf0\\xbf\\x95\\xec\\xd8\\xceR@\\xe7n\\xd7KSwR@<g\\x0b\\x08\\xad\\x9dR@\\xb3\\xeb\\xde\\x8a\\xc4 Q@T\\xc2\\x13z\\xfd\\xeeP@\\x1d\\xc6\\xa4\\xbf\\x97\\xe6P@\\xa0\\xaaB\\x03\\xb1\\xedP@]\\xa4P\\x16\\xbe\\xf5P@e\\x8c\\x0f\\xb3\\x974Q@\\xf6F\\xad0}UQ@\\x7f\\x8bN\\x96ZoQ@\\xaa\\x10\\x8f\\xc4\\xcb\\xadQ@\\x8d\\xb3\\xe9\\x08\\xe0\\xfeQ@V\\xbd\\xfcN\\x93;R@\\xd6\\xfdc!:;R@\\x15q:\\xc9V\\x85R@\\x11\\xaa\\xd4\\xec\\x81\\x81R@\\xf8Rx\\xd0\\xec\\x92R@\\xdd\\x06\\xb5\\xdf\\xdaGR@pZ\\xf0\\xa2\\xaf\\x11R@\\xcc%U\\xdbM\\xdeQ@\\x81A\\xd2\\xa7U\\xf2Q@\\\\\\xab=\\xec\\x85\\xc2Q@p\\xcc\\xb2\\'\\x81\\x99Q@\\xfe\\x7f\\x9c0a\\xf3Q@\\n\\xbei\\xfa\\xec\\xe6Q@n\\xe0\\x0e\\xd4)\\xf4Q@\\xe0\\xbabFx\\x12R@}\\xe6\\xacO9\\x1cR@\\x92!\\xc7\\xd63\\x0eR@\\x94\\xbc:\\xc7\\x80\\x0bR@\\x00\\x01k\\xd5\\xae\\x0fR@\\\\\\x1f\\xd6\\x1b\\xb5<R@\\xa0T\\xfbt<AR@\\x81[w\\xf3T\\rR@\\t1\\x97Tm\\xd9Q@S\\xee>\\xc7G\\xebQ@\\xdc\\xb8\\xc5\\xfc\\xdc\\x13R@M3\\xdd\\xeb\\xa4\\x12R@\\xa3\\x95{\\x81Y\\xfcQ@\\xdf\\xc6fG\\xaa R@\\xb6j\\xd7\\x84\\xb4WR@\\xd8e\\xf8O7\\x8aR@\\x14\\xca\\xc2\\xd7\\xd7\\\\R@Mg\\'\\x83\\xa3HR@\\x0b\\xb3\\xd0\\xceiCR@\\xa6\\xb6\\xd4A^BR@\\xf5\\x10\\x8d\\xee mR@\\xab\\x06an\\xf7tR@\\xd71\\xae\\xb88TR@\\x0f(\\x9br\\x85\\x17R@s\\x81\\xcbc\\xcd\\xceQ@\\xd7\\x16\\x9e\\x97\\x8a\\xceQ@\\x18~p>u\\nR@V\\xd66\\xc5\\xe3\\xceQ@\\x8f\\xe6\\xc8\\xca/\\xadQ@\\x91\\xb92\\xa86\\xbfQ@<\\xa4\\x18 \\xd1\\x9eQ@L2r\\x16\\xf6\\xa7Q@\\xce\\xc0\\xc8\\xcb\\x9a\\xdbQ@\\xc5\\x90\\x9cL\\xdc\\x11R@\\xaa+\\x9f\\xe5y\\x16R@\\xf5h\\xaa\\'\\xf3\\xd9Q@R\\xb9\\x89Z\\x9aPS@\\x8e\\xeat \\xebtS@)\\x1f\\x82\\xaa\\xd15T@\\xcc\\x7fH\\xbf}&T@\\x1a\\xde\\xac\\xc1\\xfb\\x12T@x\\x9ex\\xce\\x16\\x1fT@\\x91\\x0fz6\\xab(T@\\x881\\xe9\\xef\\xa5qT@\\xf2\\x96\\xab\\x1f\\x9b8T@\\xcc\\x7fH\\xbf}&T@\\x86\\xad\\xd9\\xcaK\\x1dT@\\x15\\xe4g#\\xd7\\x07T@\\x1d\\x1a\\x16\\xa3\\xaeGT@\\xff#\\xd3\\xa1\\xd3OT@\\xc8]\\x84)\\xcaPT@\\x0f_&\\x8a\\x90$T@\\x14\\x08;\\xc5\\xaapT@\\xfc\\xab\\xc7}\\xab\\xaeT@\\xe9)r\\x88\\xb8\\xafT@\\xca\\xa82\\x8c\\xbb\\xbdT@;oc\\xb3#\\xc6T@7n1?7\\x02U@uZ\\xb7A\\xedfU@\\xa5\\x84`U\\xbdXU@\\xd1\\xaeB\\xcaO\\xbcU@\\xcfOq\\x1cx\\xa7U@\\xfe\\xb3\\xe6\\xc7_\\x81U@\\xe8hUK:\\xcfU@\\x0eJ\\x98i\\xfb\\x0eV@\\xd0\\xd2\\x15l#%V@\\xb8\\xaf\\x03\\xe7\\x8c\\x15V@\\xe0d\\x1b\\xb8\\x03pV@5_%\\x1f\\xbb\\x91V@5\\x99\\xf1\\xb6\\xd2yV@\\x97\\x92\\xe5$\\x94\\x19V@z\\x01\\xf6\\xd1\\xa9\\xdbU@\\xf2\\xec\\xf2\\xad\\x0f\\x14V@n\\xa4l\\x91\\xb4\\x0cV@?\\xc5q\\xe0\\xd5\\x12V@\\xf0\\x8d!\\x008\\xffU@V\\x10\\x03]\\xfb\\xc4U@7\\x17\\x7f\\xdb\\x13\\xc0U@\\xca\\xda\\xa6x\\\\\\x9eU@\\x01\\x16\\xf9\\xf5C\\xa3U@\\xe7\\xa5bc^\\xc4U@\\xb5\\xc55>\\x93\\x06V@6\\x01\\x86\\xe5\\xcf@V@\\xd9\\x08\\xc4\\xeb\\xfadV@\\xa3=^H\\x87bV@\\x9e\\x06\\x0c\\x92>\\x84V@\\xba/g\\xb6+\\xfbV@\\x9dd\\xab\\xcb)\\xd5V@-am\\x8c\\x9d\\xd7V@\\xbb\\x97\\xfb\\xe4(\\xc2V@\\xc3\\xf3R\\xb11\\xcdV@\\x06j1x\\x98\\x18W@}\\xd2\\x89\\x04S\\xd3V@\\x96B \\x978\\xb2V@JF\\xce\\xc2\\x9eJV@$y\\xae\\xef\\xc3\\x9cV@T\\x92u8\\xba~V@k`\\xab\\x04\\x8b\\xaeV@\\xe8l\\x01\\xa1\\xf5EW@\\x938+\\xa2&<W@3\\xa7\\xcbbbcW@R\\x97\\x8cc$\\xb6W@\\x9b\\xe6\\x1d\\xa7\\xe8\\x8eW@\\xefT\\xc0=\\xcf\\x80W@UO\\xe6\\x1f}\\xe4V@\\xb52\\xe1\\x97\\xfa\\x04W@\\xce\\xa2w*\\xe0\\xe3V@\\xf2\\xd2Mb\\x10\\xc7V@\\x9d\\x9ewcA\\xbdV@\\xa0\\xc1\\xa6\\xce\\xa3\\xbcV@!\\x04\\xe4K\\xa8\\xccV@Ic\\xb4\\x8e\\xaa\\x19W@\\x86\\x04\\x8c.o\\x18W@Z\\x80\\xb6\\xd5\\xacfW@4\\xf4Op\\xb1vW@\\x07\\xed\\xd5\\xc7C\\x94W@}\\xb6\\x0e\\x0e\\xf6\\xdcW@\\xbf,\\xed\\xd4\\\\1X@\\x9f\\x1b\\x9a\\xb2\\xd33X@\\xaec\\\\qq4X@\\x1a\\xe1\\xedA\\x08bX@\\x13f\\xda\\xfe\\x95oX@\\x1f\\xdd\\x08\\x8b\\x8aGX@!\\xb2H\\x13\\xef\\x93X@\\xab<\\x81\\xb0S\\x9bX@whX\\x8c\\xba\\xaaX@\\xe0d\\x1b\\xb8\\x03\\xdcX@l\\xefSUh\\xcfW@V\\xd66\\xc5\\xe3\\x9cW@=\\x96>tA\\xd1W@+\\xfc\\x19\\xde\\xac\\xabW@\\xbc\\x03<i\\xe1\\x94W@\\x9a\\x1f\\x7fiQNX@\\x96#d \\xcfhX@\\x9d\\xf0\\x12\\x9c\\xfavX@\\x8aZ\\x9a[!uX@L6\\x1el\\xb1EX@\\xf3T\\x87\\xdc\\x0crX@\\xde\\x91\\xb1\\xda\\xfc~X@\\xba0\\xd2\\x8b\\xdaKX@?mT\\xa7\\x03RX@\\xc6Q\\xb9\\x89Z\\xb3X@\\x15\\xe5\\xd2\\xf8\\x85|X@\\x8a\\xaa_\\xe9|\\x8dW@\\xd0\\xf3\\xa7\\x8d\\xea>X@\\xd2p\\xca\\xdc|\\x17X@\\xd0\\xf3\\xa7\\x8d\\xea>X@@\\x157n1\\xdeW@\\xe73\\xa0\\xde\\x8c\\nX@Ja\\xde\\xe3L\\xf9W@Ja\\xde\\xe3L\\xf9W@D\\x11R\\xb7\\xb3\\xc3W@\\xa7\\xe8H.\\xffAX@_~\\xa7\\xc9\\x8cOX@\\x0c\\x95\\x7f-\\xaf=X@/PR`\\x01\\x05X@D\\x11R\\xb7\\xb3\\xc3W@\\xfd\\xa0.R(yW@\\x1a\\xddA\\xecL*W@U\\x84\\x9b\\x8c*\\x81W@\\x98J?\\xe1\\xec\\x01X@\\xbc\\x03<i\\xe1\\xa8X@\\x17\\xba\\x12\\x81\\xea\\xc8X@\\x8fT\\xdf\\xf9E:Y@\\xa9i\\x17\\xd3LRY@-\\'\\xa1\\xf4\\x85KY@I\\x11\\x19V\\xf1\\xafY@e\\xa5I)\\xe8\\xd4Y@whX\\x8c\\xba\\xbeY@hv\\xdd[\\x91\\xfdY@\\xd7\\xc4\\x02_\\xd1SZ@\\x85\\n\\x0e/\\x88\"Z@_~\\xa7\\xc9\\x8c2Z@\\xac\\xa9,\\n\\xbbEZ@\\x0b@\\xa3t\\xe9XZ@\\xbeK\\xa9K\\xc6MZ@\\x87\\xfa]\\xd8\\x9a\\x83Z@@\\x14\\xcc\\x98\\x82\\xe3Z@\\x04\\x1f\\x83\\x15\\xa7D[@J\\xd4\\x0b>\\xcd\\x98[@\\xef\\xb1\\xf4\\xa1\\x0b\\x8d[@8\\xdb\\xdc\\x98\\x9e\\xe8[@\\x9d- \\xb4\\x1e\\xb7[@\\xd0(]\\xfa\\x97\\x1c\\\\@\\xfa\\xe9?k~&\\\\@\\x9a]\\xf7V$\\xac\\\\@\\xa7\\xed_Yil\\\\@Ct\\x08\\x1c\\t\\xc3\\\\@\\xd4\\x83\\x82R\\xb4\\xbe\\\\@^c\\x97\\xa8\\xde\\xcf[@F\\\\\\x00\\x1a\\xa5\\xb4[@C\\x91\\xee\\xe7\\x14\\x05\\\\@*\\x8aWY\\xdb\\xe9[@\\xeer\\x11\\xdf\\x89\\xcb[@8\\xf8\\xc2d\\xaa*[@\\x00Tq\\xe3\\x16\\x95[@\\xe1>rk\\xd2\\x0e[@\\xe9*\\xdd]g\\xfaZ@\\xfaJ %v\\x85Z@\\xbcr\\xbdm\\xa6(Z@sI\\xd5v\\x13\\xcdY@\\xccu\\x1ai\\xa9qZ@\\xdc\\x9at[\":[@\\xd2\\xfc1\\xadM\\x04[@\\xefP\\x14\\xe8\\x13L[@\\x17\\xd9\\xce\\xf7S3[@\\x85\\xf0h\\xe3\\x88\\x12[@\\xef\\xb1\\xf4\\xa1\\x0b\\x8d[@\\x9a@\\x11\\x8b\\x18\\x88[@\\xcb\\xf8\\xf7\\x19\\x172[@5v\\x89\\xea\\xad\\xadZ@7\\x15\\xa90\\xb6lZ@\\x11\\xc2\\xa3\\x8d#\\xaeY@82\\x8f\\xfc\\xc1\\xaeY@N\\x9a\\x06E\\xf3\\nZ@\\x98\\xbe\\xd7\\x10\\x1c\\x0b[@\\x85\\xf0h\\xe3\\x88\\x12[@\\x8ari\\xfc\\xc2gZ@5bf\\x9f\\xc7\\xa3Z@i;\\xa6\\xee\\xca\\x89Z@\\xe39[@h\\xd1Y@/m8,\\r\\x9eY@\\xf9\\x89\\x03\\xe8\\xf7FZ@\\xc3\\x98\\xf4\\xf7RzZ@8\\xf8\\xc2d\\xaa*[@.\\xe0e\\x86\\x8dN[@\\xd9\"i7\\xfaU[@\\xc5\\xb0\\xc3\\x98\\xf4`Z@\\xf5\\xd7+,\\xb8\\xde[@\\xa3\"N\\'\\xd9\\xbc\\\\@\\xd0\\xd5V\\xec/Q\\\\@\\x9a]\\xf7V$\\xac\\\\@\\xfe\\x7f\\x9c0a\\xad\\\\@\\x06\\xbe\\xa2[\\xaf\\xe5\\\\@%\\xe5\\xees|\\x1a]@\\xc9&\\xf9\\x11\\xbf\\xdb\\\\@\\xac\\xfd\\x9d\\xed\\xd1\\x0c]@\\x99\\xd3e1\\xb1\\x9b]@\\xc7k^\\xd5YM^@\\xa8[v\\x88\\x7f\\xaf^@\\xe1~\\xc0\\x03\\x03\\xd6^@\\xac\\x04\\x8b\\xc3\\x99\\x04_@\\xbb\\xcf\\xf1\\xd1\\xe2;_@\\xa48G\\x1d\\x1d+_@\\x1cH\\x17\\x9bVl_@\\xb1\\x89\\xcc\\\\\\xe0\"`@\\xa5\\xd4%\\xe3\\x18\\t`@\\x11\\xe2\\xca\\xd9;@_@\\xa9\\xc3\\n\\xb7|\\xa5_@\\x81\\xc8\"M\\xbc+_@\\xbek\\xd0\\x97\\xdeR_@\\xd6\\x02{L\\xa4c_@\\x1bJ\\xedE\\xb40_@2Y\\xdc\\x7fd\\xac^@\\xd4^D\\xdb1\\xb8^@\\xda\\xdf\\xd9\\x1e\\xbd\\xd9^@\\xc3\\xcf\\x7f\\x0f^6^@\\x12\\xbb\\xb6\\xb7[\\xa9]@q=\\n\\xd7\\xa32^@\\xde\"0\\xd67\\xfd]@]m\\xc5\\xfe\\xb2Q^@\\xc7-\\xe6\\xe7\\x86\\xd3^@\\xc57\\x14>[,_@\\x82\\xca\\xf8\\xf7\\x19\\xf0^@\\xc1\\xca\\xa1E\\xb6\\x8c^@r\\xe1@H\\x16\\xde^@\\xa5\\xa1F!\\xc9\\xbd^@\\x19\\x1e\\xfbY,\\xf0]@\\xac8\\xd5Z\\x98%^@qy\\xac\\x19\\x19\\xe8]@\\x19\\x08\\x02d\\xe8\\xa9^@\\x90-\\xcb\\xd7e1^@2\\x97Tm7&^@\\xa1\\xf81\\xe6\\xaeh^@\\xb7&\\xdd\\x96\\xc8\\xe6^@q\\x1d\\xe3\\x8a\\x8b\\x93^@\\x13A\\x9c\\x87\\x13z^@\\xba\\rj\\xbf\\xb5\\xb5^@\\xc1\\x8e\\xff\\x02A\\xd7^@\\xca\\xf6!o\\xb9\\xc7^@\\x81\\x06\\x9b:\\x8f\\xa5^@4\\xf5\\xbaE`\\xc3^@\\x98r\\xbe\\xd8{\\x9d^@\\x1e\\xc7\\x0f\\x95FE^@\\xad\\xbe\\xba*P\\xf6^@\\x1f\\x89\\x97\\xa7s\\xcb^@O\\xec\\xa1}\\xac5_@\\xde=@\\xf7\\xe5v_@{\\xc0<d\\xca\\x9c_@\\xff\\xcb\\xb5h\\x01\\x18`@\\xee\\x08\\xa7\\x05/\\xae_@\\x88-=\\x9a\\xea6_@\\xde\\x02\\t\\x8a\\x1f^^@x&4I,J_@\\x82\\x8eV\\xb5\\xa4:_@\\x94\\xd6\\xdf\\x12\\x80\\x86^@\\xb0\\xff:7mU^@5\\x97\\x1b\\x0cu\\x85^@\\x1a\\xc5rK\\xab\\x18_@\\x14\\xb4\\xc9\\xe1\\x93\\xc7^@\\xb2\\xa1\\x9b\\xfd\\x81\\xab^@\\x1dB\\x95\\x9a=\\xb4^@\\x00\\x18\\xcf\\xa0\\xa1k_@\\xd2\\xe8\\x0ebg`_@\\x91BY\\xf8\\xfa\\xb8_@\\xd6\\xf9\\xb7\\xcb~\\xb1_@\\xb2\\xbd\\x16\\xf4\\xde\\xb0_@\\xed\\x7f\\x80\\xb5\\xea\\x01`@(\\x9a\\x07\\xb0\\xc8%`@\\xdb\\xc6\\x9f\\xa8l\\x95_@\\x8e\\xcc#\\x7f0\\x16`@\\xfbWV\\x9a\\x14\\x0e`@*Z\\xb9\\x17\\x98\\xbe_@MCT\\xe1\\xcf\\xce_@\\xa7\\xcc\\xcd7\\xa2\\xaa_@\\x10bg\\n\\x9d\\xb4_@\\xb5\\xdd\\x04\\xdf4\\x85_@{\\x7f\\x83\\xf6\\xeaX_@\\x8a\\xe3\\xc0\\xab\\xe5#_@\\xf8N\\xccz1\\x0c_@\\x19X\\xc7\\xf1Cg_@\\x1e\\xdb2\\xe0,U_@_\\x81\\xe8I\\x99\\xfc^@\\xc3\\xb3\\x04\\x19\\x01\\xed^@jm\\x1a\\xdbk\\x17_@=\\x06+N\\xb5\\x04_@?\\xae\\r\\x15\\xe3(_@\\xe9\\xf4\\xbc\\x1b\\x0b\\xd9^@N\\xba-\\x91\\x0b\\x18_@\\xf4\\xe0\\xee\\xac\\xdd\\xf3^@\\x83U\\xf5\\xf2;7_@\\x05Ku\\x01/\\x11_@\\x1f\\xa0\\xfbrf\\xe2^@\\xa5\\x12\\x9e\\xd0\\xebW^@\\xc3hV\\xb6\\x0f\\x90^@\\xe9\\xf4\\xbc\\x1b\\x0b\\xd9^@(.\\xc7+\\x10\\xcf^@9\\xf5\\x81\\xe4\\x9d\\xb3^@@\\x83M\\x9dG\\xa0^@\\xa9\\x9f7\\x15\\xa9\\xdd]@[\\xd1\\xe68\\xb7A]@\\x8a\\xcc\\\\\\xe0\\xf2\\t^@\\x1eR\\x0c\\x90h\\x9e^@3\\x87\\xa4\\x16J\\x9b^@`\\x91_?\\xc4\\xe6^@\\x11\\xdf\\x89Y/P_@\\xdb\\xc6\\x9f\\xa8l\\x95_@mu9% \\x17`@;\\xc4?l\\xe9\\xdb_@/\\x19\\xc7H\\xf6\\x82^@\\xd2tv28\\x7f^@\\x83\\xe1\\\\\\xc3\\x0cV^@q\\xe4\\x81\\xc8\"\\xea]@\\xed\\xee\\x01\\xba/\\x10^@\\xe9\\x80$\\xec\\xdb\\xf7]@\\xe1Z\\xeda/\\xd1]@ \\xf1+\\xd6p\\x8e]@\\x07(\\r5\\n\\xdc\\\\@\\xb3H\\x13\\xef\\x00\\xef[@e\\xfe\\xd17i\\x1e\\\\@\\xa3\\xcdqn\\x13.\\\\@\\x81\\xe9\\xb4n\\x83F\\\\@k\\x83\\x13\\xd1\\xafM]@\\xad\\xbe\\xba*P\\xc7[@\\xb1\\xc3\\x98\\xf4\\xf74\\\\@\\n+\\x15TT/\\\\@\\xd0\\x03\\x1f\\x83\\x15b\\\\@\\xb8\\xe7\\xf9\\xd3F\\xad\\\\@d#\\x10\\xaf\\xeb\\x83\\\\@\"\\x18\\x07\\x97\\x8e&\\\\@$\\x0b\\x98\\xc0\\xad\\x92[@Tq\\xe3\\x16\\xf3\\xe2Y@n\\xfc\\x89\\xca\\x86=Y@\\xf3\\x05-$`dY@\\xc7b\\x9bT4\\xd9Z@A\\x82\\xe2\\xc7\\x98\\xa3[@\\x11r\\xde\\xff\\xc7\\xba[@2\\x01\\xbfF\\x92\\x99[@\\xc0\\xb3=z\\xc3]Z@ \\x978\\xf2@\\x7f[@[\\xd7h9\\xd0\\x03[@\\xb6\\xf8\\x14\\x00\\xe3\\xbeZ@.8\\x83\\xbf_}[@%\\xa9L1\\x07\\xf6Z@\\xf01Xq\\xaa\\x8d[@\\xce\\xfe@\\xb9m\\xf4[@0\\xee\\x06\\xd1Z9\\\\@G7\\xc2\\xa2\"v\\\\@\\xbd\\x8a\\x8c\\x0eH~\\\\@I*S\\xccA\\xe2[@ \\xf3\\x01\\x81\\xce\\xc4[@\\xd6\\xa6\\xb1\\xbd\\x163\\\\@\\x1fh\\x05\\x86\\xac\\xc1[@\\xdc\\xf4g?R\\xfb[@oi5$\\xee%\\\\@\\xd3Ry;\\xc2\\x13\\\\@\\xbc\\xcd\\x1b\\'\\x85\\x85[@M\\xbb\\x98f\\xba\\xb1Z@\\xda\\xac\\xfa\\\\m\\xffZ@\\xb9lt\\xceO\\xd2Z@\\xb4T\\xde\\x8ep\\x04[@_a\\xc1\\xfd\\x80\\x1d[@=\\xd2\\xe0\\xb6\\xb6>[@_a\\xc1\\xfd\\x80\\x1d[@\\x85\\x934\\x7fL\\xcdZ@F\\x9ax\\x07xq[@\\xda\\xe8\\x9c\\x9f\\xe2P[@\\x1c\\xb8\\x03u\\xca\\\\[@\\xf2$\\xe9\\x9a\\xc9\\xf9Z@\\x83\\xa0\\xa3U-a[@![\\x96\\xaf\\xcb-[@O<g\\x0b\\x08Y[@\\x96&\\xa5\\xa0\\xdb\\xd8[@#gaO;\\xd8[@r\\xbdm\\xa6BE\\\\@~\\x1c\\xcd\\x91\\x95%]@?\\x8fQ\\x9ey7\\\\@\\xc4\\xd1U\\xba\\xbb\\t\\\\@~\\xfc\\xa5E}1]@1\\\\\\x1d\\x00q\\x80]@O\\x97\\xc5\\xc4\\xe6?]@\\xd1q5\\xb2+\\xa9]@\\xb95\\xe9\\xb6D\\x00^@M\\xf9\\x10T\\x8d\\xdc]@r\\xa6\\t\\xdbO\\xb9]@\\xd3n\\xf41\\x1f\\xc2]@\\xa5\\x14t{I\\xa3]@Q\\xfb\\xad\\x9d(\\xb4\\\\@\\xa3C\\xe0H\\xa0\\x8a\\\\@\\xd0\\x03\\x1f\\x83\\x15r\\\\@\\x86\\x01K\\xaeb\\x9d[@\\xe3\\xc2\\x81\\x90,\\x11\\\\@\\xb6h\\x01\\xdaV\\xf2[@\\xf8\\x1b\\xed\\xb8\\xe1\\xd4\\\\@/\\x1a2\\x1e\\xa52]@\\xbe\\xf8\\xa2=^S]@\\x05\\xe1\\n(\\xd4\\xf1\\\\@t\\xf2\"\\x13\\xf08]@\\xae/\\x12\\xdar\\x03]@]M\\x9e\\xb2\\x9a\\xf5\\\\@\\xcc\\x96\\xac\\x8ap\\x14]@\\x86\\xb1\\x85 \\x07\\xd8\\\\@$\\xa1-\\xe7R\\x95\\\\@)\\xe3\\xdfg\\\\Q\\\\@\\x9f\\x91\\x08\\x8d`B]@\\x1e\\xa7\\xe8H.\\x13]@\\xa8S\\x1e\\xdd\\x08\\x10]@t\\xe9_\\x92\\xcak\\\\@\\xfb\\xafs\\xd3f\\x8e\\\\@\\xd9\\x1e\\xbd\\xe1>\\xd2[@)\\xb9\\xc3&2\\xa6[@\\xb7\\x9au\\xc6\\xf7([@\\x94\\x9fT\\xfbt^[@C \\x978\\xf2\\xc9Z@\\xcc\\x0b\\xb0\\x8fN\\x10Z@\\x15\\xacq6\\x1dbZ@\\xd0\\xd3\\x80A\\xd2[Z@\\xc7\\x9e=\\x97\\xa9\\xb2Z@\\xc7\\x11k\\xf1)\\x8eZ@P\\xa4\\xfb9\\x05BZ@DN_\\xcf\\xd7\\xbaZ@I\\xd5v\\x13|aZ@\\xf6b(\\'\\xda\\xdfY@od\\x1e\\xf9\\x83\\xe5Y@3\\xa7\\xcbbb?Y@m\\xca\\x15\\xde\\xe5\\xc0X@\\xee\\x04\\xfb\\xafs\\xb5W@\\xcaN?\\xa8\\x8b\\xd5W@\\xf1f\\r\\xdeW8X@\\xb7\\xb6\\xf0\\xbcT\\x92X@\\x9f<,\\xd4\\x9a\\xf0W@\\x17\\xf2\\x08n\\xa4vX@K\\xac\\x8cF>\\xe0W@\\xb5\\xff\\x01\\xd6\\xaa\\xc2W@I\\xf1\\xf1\\t\\xd9\\xcaW@\\x1c\\x97qS\\x03\\xacW@\\xb5\\xdd\\x04\\xdf4\\xeeX@i\\xc7\\r\\xbf\\x9bqX@\\xd7KS\\x048\\x94X@\\xca\\xc5\\x18X\\xc7\\xf6V@CT\\xe1\\xcf\\xf0 W@\\xb8u7Ou\\xedW@\\x99F\\x93\\x8b1\\xb4W@m\\xc5\\xfe\\xb2{9W@\\x92\\xea;\\xbf(\\xafW@\\x93p!\\x8f\\xe0\\xdfW@\\x9a\\xea\\xc9\\xfc\\xa3<W@\\x94\\xf7q4G{W@\\xda\\xa7\\xe31\\x03zW@\\xff;\\xa2BuLW@\\xde\\xe4\\xb7\\xe8d(W@]\\xa4P\\x16\\xbe:W@\\xc5 \\xb0rh\\xe2W@\\x94f\\xf38\\x0c@X@_\\n\\x0f\\x9a]\\xcaW@NA~6r\\xbcW@MJA\\xb7\\x97\\xf1W@\\xc0\\xaf\\x91$\\x08gW@\\xe0\\x0f?\\xff=\\xc0W@)\\xad\\xbf%\\x00\\xeaW@\\xcc\\x7fH\\xbf}\\xf3W@\\xbb\\xb6\\xb7[\\x92\\xe5W@2\\xca3/\\x87\\xd8X@C\\x93\\xc4\\x92r\\xe6X@[E\\x7fh\\xe6\\x15Y@\\x7f\\x13\\n\\x11puY@$#gaO-Y@\\xe5*\\x16\\xbf)\\xf8X@\\rq\\xac\\x8b\\xdb\\xfdX@\\xc2\\x17&S\\x05\\x01Y@gaO;\\xfcEY@P\\xa9\\x12eoVY@\\x1en\\x87\\x86\\xc5\\xd8Y@\\xc6m4\\x80\\xb70Z@\\xac:\\xab\\x05\\xf6%Z@\\xd0\\xd7,\\x97\\x8d-Z@L\\xe1A\\xb3\\xeb,Z@\\xf5a\\xbdQ+`Z@\\x1b\\xbbD\\xf5\\xd6:Z@j\\x86TQ\\xbc\\x1dZ@qu\\x00\\xc4]\\xffY@A\\xb5\\xc1\\x89\\xe8\\x9cZ@\\xd7/\\xd8\\r\\xdb\\x13[@\\xb6\\xd8\\xed\\xb3\\xca\\xefZ@3\\xdc\\x80\\xcf\\x0f/[@\\xf3\\x93j\\x9f\\x8ev[@<\\x81\\xb0S\\xac#[@t\\x99\\x9a\\x04ol[@\\xfa\\r\\x13\\rR\\xd3Z@^\\x9a\"\\xc0\\xe9\\xdaZ@\\xf3\\x1eg\\x9a\\xb0\\xf1Z@J\\xd8\\xb7\\x93\\x88K[@%y\\xae\\xef\\xc3\\xb0[@\\xb6Go\\xb8\\x8f\\xb4[@V\\xefp;4&[@\\xeb;\\xbf(A\\x90Z@\\xca\\xe4\\xd4\\xce0lZ@\\x98\\xbe\\xd7\\x10\\x1czZ@\\xc6m4\\x80\\xb70Z@F\\xae\\x9bR^\\x1eZ@\\xe9\\x108\\x12h\\xf8Y@1}\\xaf!8\\xcaY@9\\x7f\\x13\\n\\x11-X@\\x9d\\x9c\\xa1\\xb8\\xe3oW@\\xf8Rx\\xd0\\xec*W@L\\x16\\xf7\\x1f\\x99$W@\\xae*\\xfb\\xae\\x08\\x86W@\\x0eO\\xaf\\x94eGW@ zR&5/W@9\\xd0Cm\\x1b\\x0eW@z\\x15\\x19\\x1d\\x90\\x12W@O:\\x91`\\xaa:W@\\xa5\\x84`U\\xbd\\x00W@\\xb7dU\\x84\\x9bvV@\\xce\\xe2\\xc5\\xc2\\x10\\x82V@<I\\xbaf\\xf2WW@y=\\x98\\x14\\x1f?W@\\x1d\\x90\\x84};\\x83W@\\xd6Q\\xd5\\x04QlW@\\xb1q\\xfd\\xbb>\\xadW@\\xbf\\x0c\\xc6\\x88D\\xfaW@V\\xd3\\xf5D\\xd7WX@F]k\\xefS\\xc5X@\\x15\\x1f\\x9f\\x90\\x9d\\xf7X@\\xc1R]\\xc0\\xcb\\xf3X@Xv\\xc1\\xe0\\x9a\\xd4X@\\x01\\xf5f\\xd4|{X@\\'\\x13\\xb7\\nbLX@\\x8c\\xf6x!\\x1dYX@\\xd2\\xc8\\xe7\\x15O\\x86X@\\xdc~\\xf9d\\xc5\\x9fX@f\\x16\\xa1\\xd8\\n\\x9aX@\\xc3*\\xde\\xc8<\\xc7X@x\\x9b7N\\n\\x93X@j\\xc2\\xf6\\x9314X@\\x87\\xa5\\x81\\x1f\\xd5;X@\\x05\\xdf4}v\\'X@?\\xfdg\\xcd\\x8fAX@\\x9e\\xecfF?\\xb4W@{L\\xa44\\x9b\\xa5W@\\xc1 \\xe9\\xd3*\\xd9W@z\\xe29[@\\xc2W@\\xdeY\\xbb\\xedB\\xe5W@\\x1a\\x17\\x0e\\x84d9W@q\\xcbGR\\xd2\\xe2V@8P\\xe0\\x9d|EW@}$%=\\x0cyW@-\\xd3/\\x11o\\xc5W@J\\x0e\\xd8\\xd5\\xe4\\xd7W@\\x8d\\xd1:\\xaa\\x9a\\x9eW@\\x03\\xd0(]\\xfa\\xc0W@=\\xee[\\xad\\x13\\xdbW@\\x18\\xd0\\x0bw.\\nX@ds\\xd5<G\\x1dX@\\xdao\\xedDI9X@w\\xf8k\\xb2F\\x16X@\\xcce\\xa3s~\\x90X@\\x83\\xbb\\xb3v\\xdb\\x8fX@\\xdb\\xa8N\\x07\\xb2\\xd2X@\\x9f \\xb1\\xdd=\\xd5X@\\x16\\x89\\tj\\xf8\\xdaX@\\xe74\\x0b\\xb4;\\xb9X@\\xa8\\xc7\\xb6\\x0c8\\x88X@j\\xc2\\xf6\\x9314X@\\xd0%\\x1cz\\x8b\\tX@\\xf7\\x06_\\x98L\\x99Y@\\x1d \\x98\\xa3\\xc7\\xf1Y@\\xf9\\x81\\xab<\\x81\\xe9Y@\\x1f1zn\\xa1^Z@\\xc9W\\x02)\\xb1\\xfaY@\\x7f\\xc3D\\x83\\x14NZ@\\x00\\x1b\\x10!\\xaewZ@\\xd7\\xbe\\x80^\\xb8\\xdeZ@\\x00\\x1b\\x10!\\xae\\x17[@\\xd3\\xf4\\xd9\\x01\\xd73[@\\x00\\x00\\x00\\x00\\x00\\x00[@\\xecQ\\xb8\\x1e\\x85\\xfbZ@\\xecQ\\xb8\\x1e\\x85\\x0b[@\\xd7\\xbe\\x80^\\xb8^[@\\x00\\xe5\\xef\\xdeQX[@\\x96\\x05\\x13\\x7f\\x14N[@Vg\\xb5\\xc0\\x1eE[@\\xbfa\\xa2A\\nW[@A\\xb9m\\xdf\\xa3 [@\\x96\\xea\\x02^f6[@j\\xfa\\xec\\x80\\xeb\\x01[@\\x14\\xaeG\\xe1z\\xe4Z@-\\x0b&\\xfe(\\xbcZ@\\x14\\xaeG\\xe1z\\xb4Z@\\x00\\x00\\x00\\x00\\x00\\x80Z@\\x96\\xea\\x02^f\\x86Z@\\xd7\\xbe\\x80^\\xb8\\xaeZ@\\xd7\\xbe\\x80^\\xb8\\xeeZ@\\x14\\x937\\xc0\\xcc\\xecZ@\\xbfa\\xa2A\\n\\x17[@)A\\x7f\\xa1GaZ@\\x00\\xe5\\xef\\xdeQ\\xc8Y@-\\x0b&\\xfe(\\\\Z@\\x14\\x937\\xc0\\xcc\\xfcZ@)A\\x7f\\xa1G\\xf1[@\\x14\\xaeG\\xe1z\\xe4\\\\@\\xaa\\x98J?\\xe1\\xba\\\\@Vg\\xb5\\xc0\\x1ee\\\\@\\x14\\xaeG\\xe1zd\\\\@\\xecl\\xc8?3c\\\\@\\x00\\x1b\\x10!\\xae\\xa7\\\\@UL\\xa5\\x9fp-\\\\@\\x00\\xe5\\xef\\xdeQ8\\\\@U1\\x95~\\xc2E\\\\@\\x14\\x937\\xc0\\xcc|\\\\@\\xecQ\\xb8\\x1e\\x85\\x0b\\\\@\\xecl\\xc8?3C\\\\@)A\\x7f\\xa1G!\\\\@\\x00\\x00\\x00\\x00\\x00@\\\\@\\xecl\\xc8?3C\\\\@A\\x9e]\\xbe\\xf5x\\\\@\\xd3\\xf4\\xd9\\x01\\xd7\\x83\\\\@\\xecl\\xc8?3\\x03]@\\xecl\\xc8?3\\x13]@U1\\x95~\\xc2U]@\\xd7\\xbe\\x80^\\xb8>]@\\x00\\xe5\\xef\\xdeQh]@\\xecl\\xc8?3c]@\\x96\\x05\\x13\\x7f\\x14^]@\\x00\\x1b\\x10!\\xaeG]@\\xd3\\xf4\\xd9\\x01\\xd7C]@\\x96\\xea\\x02^f&]@\\xbf\\x10r\\xde\\xff\\x90s@\\x0e\\xf9g\\x06\\xf1zs@\\x80\\xf1\\x0c\\x1a:\\xfdr@I\\x86\\x1c[\\x0f\\x8cr@\\x07\\'\\xa2_[\\xcbr@?RD\\x86\\x15\\xc4r@7\\x00\\x1b\\x10!or@R\\xba\\xf4/\\tTr@}A\\x0b\\t\\x18jr@\\x9a\\xeeuR_\\x1br@\\x12M\\xa0\\x88EXr@I\\xda\\x8d>\\xa6\\x1er@\\xcfH\\x84F03r@(`;\\x18\\xb1+q@\\x10\\x1em\\x1c\\xb1\\xdbp@\\xde;jL\\x08\\xefp@\\xad\\xddv\\xa1y\\xecp@\\x90f,\\x9a\\x0e\\xaep@\\x9e\\x96\\x1f\\xb8J\\x8bp@\\xfa{)<\\xe8\\xa3p@~s\\x7f\\xf5\\xb8\\x94p@Ze\\xa6\\xb4>\\xe2p@\\x81\\xb1\\xbe\\x81\\trp@o\\xf0\\x85\\xc9\\x14\\x96p@G\\x1f\\xf3\\x01\\x81\\xa7p@\\x88k\\xb5\\x87=\\xbfp@\\x8c\\xd5\\xe6\\xffU\\xafp@\\xea\\xb3\\x03\\xae\\xeb\\xbep@n\\x17\\x9a\\xeb\\xb4\\xa4p@\\x872T\\xc5\\x14\\xe6p@6?\\xfe\\xd2b\\xcdp@<g\\x0b\\x08m\\xf5p@\\xd1\\x91\\\\\\xfe\\xc3\\xe1p@_\\xed(\\xce\\x11\\xf2p@\\x03v5yJ\\xb4p@V{\\xd8\\x0b\\x85\\x97p@\\xa8\\xa9ek=op@3M\\xd8~2rp@\\xd4\\x0f\\xea\"E\\xa1p@\\x17\\xd4\\xb7\\xcc)\\xe4p@S\\x96!\\x8e5\\x06q@\\xe2\\x90\\r\\xa4KPq@\\x83\\x13\\xd1\\xaf-\\x9dq@r\\xf79>Z\\x8fq@2\\x1f\\x10\\xe8\\x0c}q@\\x06J\\n,\\x00\\xffq@\\xdb\\x13$\\xb6{$r@\\xa5M\\xd5=\\xb2\\x17r@\\xab\\x97\\xdfi\\xf2\\x94q@\\x86W\\x92<\\x17\\xa5q@Um7\\xc1\\xf7\\xa7q@PP\\x8aV\\xae\\xaeq@U\\x86q7\\x88{q@M\\xf9\\x10T\\x8dgq@;\\x00\\xe2\\xae\\x9e#q@[|\\n\\x801fq@dU\\x84\\x9b\\x8c\\x92q@\\x88\\xbc\\xe5\\xea\\x07\\x91q@\\xcbM\\xd4\\xd2\\x1c\\x8fq@\\x8c\\xa01\\x93(\\xb1q@\\xb5\\xfbU\\x80o\\xb4q@\\xad\\xc1\\xfb\\xaa\\xdc\\xc1q@e\\x1aM.\\x86\\xd3q@ZiR\\n:\\xbdq@z\\xad\\x84\\xee\\xd2\\x97q@z\\x1fGsd\\xb7q@i\\xc57\\x14>\\xadq@H\\xa8\\x19RE\\xe1q@!\\\\\\x01\\x85zQr@\\x11\\xe1_\\x04Mcr@\\xdb\\xfe\\x95\\x95\\xa6\\x95r@r3\\xdc\\x80\\xcf,q@\\xdfm\\xde8i,q@g\\xb4UI\\xe4Sq@\\x92\\\\\\xfeC\\xfaMq@!@\\x86\\x8e\\x1d\\x14q@,*\\xe2t\\x92\\x03q@H\\xf8\\xde\\xdf\\xe0\\x98p@\\x05\\xfc\\x1aIB\\x84p@\\xd30|DL\\x85p@\\x17\\x0e\\x84d\\xc1\\x9bp@\\xc8_Z\\xd4gip@\\xb3\\xee\\x1f\\x0b\\x91\\x90p@h\\xcb\\xb9\\x14\\xd7\\x9do@\\x986\\x1c\\x96\\x06\\xd4o@\\x020\\x9eA\\xc3\"o@S\\xb5\\xdd\\x04_\\xcan@\\x1c\\xd2\\xa8\\xc0\\tIp@H\\xfb\\x1f`\\xad\\xc8o@\\x8fN]\\xf9,\\x8eo@DIH\\xa4\\xed\\xe5o@\\x03=\\xd4\\xb6a\\xb0o@\"h\\xcc$j\\xb7o@\\xb7\\x9au\\xc6\\xf7\\x1do@\\xa1\\xd2\\x88\\x99\\xfd\\xden@\\xc1\\xb2\\xd2\\xa4\\x94\\xa8m@xF[\\x95Dym@\\x1f\\xbd\\xe1>\\xf2\\xcam@\\xb2\\xa1\\x9b\\xfd\\x81\\xc9m@\\xf7\\x04\\x89\\xed\\xee\\xafm@r\\x85w\\xb9\\x88\\x9fn@\\xf3[t\\xb2TRn@`Z\\xd4\\'9\\x1en@\\x94f\\xf38\\x0c\\xcen@\\xbb\\xd8\\xb4R\\x88\\x91o@j\\xaa\\'\\xf3\\x8f#o@m\\x19p\\x96\\x92Pn@\\xc3i\\xc1\\x8b\\xbeDn@\\xba*P\\x8b\\xc1\\x98m@\\xa3s~\\x8achn@\\xcd\\xac\\xa5\\x804\\x80n@?\\xf9\\xbbwT+n@\\xb57\\xf8\\xc2\\xe4\\x17o@\\xacp\\xcbGRLo@\\x02\\x9bs\\xf0L9o@\\x8f\\xff\\x02A\\x808o@,d\\xae\\x0c*\\x81n@\"\\x8c\\x9f\\xc6=\\\\n@\\xbc\\xae_\\xb0\\x1b\\x19n@-\\xce\\x18\\xe6\\x04\\xaam@Q\\xa3\\x90dV\\x83m@z\\x89\\xb1L\\xbfym@_\\'\\xf5e\\xe9\\\\l@R\\xd3.\\xa6\\x19\\xc8k@\\xec+\\x0f\\xd2\\xd3pk@{\\xf7\\xc7{\\xd5Ak@mm\\xe1y):k@\\x8d\\xf0\\xf6 \\x04\\x1cl@\\x7f\\xe3k\\xcf\\xac\\x81l@\\'-\\\\Va0m@\\x930\\xd3\\xf6\\xaf\\xb5m@>\\xed\\xf0\\xd7d\\x8bn@\\xb1\\xdbg\\x95\\x99\\xadn@\\x91\\x0b\\xce\\xe0o\\xd8n@3k) m\\xb2l@\\x0e\\xf9g\\x06q\\x1bm@\\x85\\\\\\xa9g\\xc1\\x11n@\\x98\\xa0\\x86oa\\xd0m@\\x12\\xbd\\x8cb9En@L\\xdaT\\xdd#\\x99n@=+i\\xc5\\xb7\\x87n@\\xf5\\xd7+,8\\xc2n@\\xdbj\\xd6\\x19\\xdf=n@\\xe1\\xd21\\xe7\\x19Hn@ZM\\xd7\\x13\\xddEn@\\xff\\xe9\\x06\\n\\xbc\\x9en@X9\\xb4\\xc8v\\x95n@\\xf5/Ie\\n\\x9do@\\xcc\\xf2u\\x19~\\xb9o@\\x8a \\xce\\xc3\\x89;o@T\\xdf\\xf9E\\x89\\x8do@_\\xd3\\x83\\x82Rso@\\x8av\\x15R\\xfe\\xb3n@\\xc5\\xa7\\x00\\x18O\\xb8n@z\\xc3}\\xe4\\xd6]n@\\xab\\xcb)\\x01\\xb1Qn@\\x90M\\xf2#~\\xa0n@\\t\\xc5V\\xd0\\xb4\\x1an@\\x82\\xc7\\xb7w\\r8m@\\xe3\\x8a\\x8b\\xa3\\xf2\\xd8l@\\x9dMG\\x00\\xb7\\xf9l@y\\xb5\\xdc\\x99\\t/l@\\xfbR?o\\xaabl@h\\xee!\\xe1{(l@ML\\x17b\\xf5\\xa5l@\\xb3\\xee\\x1f\\x0b\\xd1Cl@\\xb2\\xb9j\\x9e#\\x19l@\\xbc\\xd22R\\xef\\xbdl@~\\xfc\\xa5E}\\xebl@\\xf2\\xd6\\xf9\\xb7K]m@76;R\\xfd\\xfel@\\x19$}Z\\xc5am@Ral!H\\xbbm@\\x0b\\xd1!p\\xa4\\xbam@\\xc73h\\xe8\\x9f\\x1cn@\\xde\\xc9\\xa7\\xc76\\xffm@\\xfd2\\x18#\\x92\\x02n@\\xf9\\x15k\\xb8H\\tn@\\x07\\x06\\x10>\\x94\\x9an@\\x9a\\x08\\x1b\\x9e^\\xbco@E)!X\\x95\\x07p@\\xecm3\\x15\\xe2\\x1bp@\\xd1<\\x80E\\xbe\\x07p@V(\\xd2\\xfd\\x1cvp@\\xd6U\\x81Z\\x0c\\x8fp@\\xf7p\\xc9q\\'up@\\xc3\\xf5(\\\\Oyp@F\\xed~\\x15 jp@TpxA\\xc4hp@\\xce\\xe1Z\\xed\\xa1Np@\\x9b\\xca\\xa2\\xb0\\x8b\\xcdp@\\xe0\\xb9\\xf7p\\x89\\xaep@\\xe4\\xf76\\xfd\\xd9\\x8bp@\\t\\xde\\x90F\\x85\\xbep@\\x1c]\\xa5\\xbbk\\xd2p@\\xb8\\xaf\\x03\\xe7\\xcc\\xe6p@x\\xd6n\\xbb\\x10\\xf6p@\\xc3\\x0ec\\xd2\\x1f\\xe3p@#LQ.\\xcd\\xc6r@\\xf7vKr\\xc0Hs@4\\xfa\\xd1p\\xca\\xf9r@\\xedJ\\xcbH\\xfd\\xfar@\\xfb \\xcb\\x82\\t\\x1bs@\\xfe\\xd17iZ\\x1fs@\\xe9_\\x92\\xca\\x14?s@\\x86\\x1f\\x9cO\\xddOs@\\x8f\\xc6\\xa1~\\xd7>s@\\x9a\\x03\\x04s\\xb4Os@!!\\xca\\x17\\xb4(s@_\\xb52\\xe1\\x173s@e\\xa9\\xf5~\\xe37s@XZF\\xea}\\\\s@h\\x1f+\\xf8-}s@\\xbcX\\x18\"\\xa7\\x83s@q\\xac\\x8b\\xdb(\\x91s@\\x14\\xcen-\\x93\\x81s@\\xf9\\r\\x13\\r\\x12rs@,\\xf2\\xeb\\x87\\x98Ds@\\x17\\x81\\xb1\\xbe\\x81\\xd5r@\\x05\\xfc\\x1aI\\x02\\x97r@\\xa5\\xa0\\xdbK\\x1a9r@\\xb3#\\xd5w\\xbe7r@\\xb4[\\xcbd\\xb8\\x9fr@\\x10\\x08t&\\xedqr@\\xbeG\\xfd\\xf5\\nur@x\\xf2\\xe9\\xb1m3r@\\xed\\x12\\xd5[\\x03\\x93r@\\t3m\\xffJkr@\\xf3;Mf<,r@r\\x1a\\xa2\\n?Yq@GV~\\x19L\\x9eq@\\x80\\xd3\\xbbx\\xff\\xd9q@\\xe5@\\x0f\\xb5m\\xe3q@\\xc5pu\\x00D\\x0er@\\xe5\\x7f\\xf2woTr@\\xbf\\xd3d\\xc6\\x9bor@\\x19n\\xc0\\xe7Gwr@\\xc2\\x8b\\xbe\\x82\\xf4|r@\\x13\\x0b|E7\\x90r@d?\\x8b\\xa5\\x88\\x92r@\\xca\\xe4\\xd4\\xce\\xb0mr@\\xa9\\xa2x\\x95\\xf5xr@\\xe2\\xcd\\x1a\\xbc\\xafqr@\\xa3 x|\\xbb\\x93r@\\x92>\\xad\\xa2\\xbf\\xd3r@\\xd9\\xcb\\xb6\\xd3\\x16\\xe7r@\\xbf\\x7f\\xf3\\xe2\\x04\\xddr@\\xd6<G\\xe4;\\xcer@r\\x15\\x8b\\xdf\\x94\\xb2r@$\\xb9\\xfc\\x874\\xc3r@\\xeaAA)\\x1a\\xb2r@\\xf4\\xc0\\xc7`\\x05\\x8br@\\x1e7\\xfcn\\xfa\\xddr@-\\xb2\\x9d\\xef\\'\\xccr@\\x9c\\xaa{d\\xb3\\x03s@Oz\\xdf\\xf8\\x1a\\'s@a\\x8cH\\x14\\x9a>s@\\xf6\\x97\\xdd\\x93\\xc7,s@M\\x15\\x8cJ*;s@\\xfb\\x93\\xf8\\xdc\\tBs@\\x13\\t\\xa6\\x9a\\x99@s@8\\xa2{\\xd6u|s@k\\x83\\x13\\xd1\\xef\\xf7s@\\xd0*3\\xa5\\xf5\\xb8s@q\\xac\\x8b\\xdb(\\x91s@L\\xc2\\x85<\\xc2\\x19s@\\x81\\\\\\xe2\\xc8\\xc3\\x13s@\\xba\\xc1P\\x87UZs@\\xe9_\\x92\\xca\\x14?s@:\\x94\\xa1*fAs@\\xe0\\x9a;\\xfa\\x1f\\xc3r@\\xfa|\\x94\\x11\\x17\\xber@\\xe4\\xa40\\xefq\\x13s@>?\\x8c\\x10\\x1e\\x1bs@\\x07\\xecj\\xf2T\\x0cs@\\x0e\\xc1q\\x19\\xf7\\x12s@2\\x07AGk-s@\\x01\\xdd\\x973\\x1bNs@\\xe9_\\x92\\xca\\x14?s@a\\x8cH\\x14\\x9a>s@i\\x00o\\x81\\x04\\x7fs@#0\\xd670\\x9cs@\\x90\\xf8\\x15k8|s@\\x0e\\xda\\xab\\x8f\\xc7|s@\\xa3\\xe3jd\\x17\\x85s@\\xcer\\xd9\\xe8\\x9c\\xabs@\\xdd\\xcf)\\xc8\\xcf\\x0cs@\\xf1\\xba~\\xc1\\xae\\x15s@\\xe8-\\x1e\\xde\\xb3\\x01s@\\xebR#\\xf4s\\x0bs@\\xa2^\\xf0iN&s@fJ\\xeboI\\xc1r@\\x0f\\xf4P\\xdb\\x86\\xc1r@\\xbe\\x85u\\xe3\\x9d\\x07s@\\x1cwJ\\x07+\\xc0r@\\x16\\xddzM\\x8fxr@\\xe8\\x16\\xba\\x12\\xc1}r@2v\\xc2Kpyr@\\xe00\\xd1 \\xc5\\x1dr@\\xae\\xd4\\xb3 \\x14\\x01r@\\x81\\xac\\xa7V_\\xcbq@m5\\xeb\\x8c\\xef\\xc7q@\\xe0+\\xba\\xf5Zdq@\\x1c\\xee#\\xb7f\\x86q@\\\\<\\xbc\\xe7\\x00\\x84q@\\xe7\\x1f}\\x93f\\xffq@\\xaa\\xd6\\xc2,\\xf4\\x05r@\\x86\\x01K\\xae\\xa2,r@\\x7f\\x13\\n\\x11pRr@>tA}K\\x19r@\\xa5\\xfa\\xce/J\\xf6q@r\\x8a\\x8e\\xe42)r@\\x8d#\\xd6\\xe2\\x13*r@+N\\xb5\\x16fQr@\\xd9\\x1f(\\xb7\\xadyr@\\xe80_^\\xc0Xr@\\xfe\\xf5\\n\\x0b.\\xc4q@\\xc5\\x1do\\xf2\\xdb\\xecq@\\x9a\\xeeuR_\\x1br@\\xa6\\xb9\\x15\\xc2\\xaa\\x0cr@=\\x9c\\xc0tZ\\x06r@\\xf9L\\xf6\\xcfS\\xd0q@\\xdcL\\x85x\\xa4\\xfdq@\\x7f\\xc1n\\xd8v\\x0fr@\\'\\x8a\\x90\\xba]\\x91p@\\t\\x85\\x088\\x84rp@\\xbd\\x1a\\xa04\\x14Hp@\\xf6\\x99\\xb3>\\xa5ip@\\x89\\xeb\\x18W\\x9cdp@\\xf6%\\x1b\\x0f6dp@(\\xd5>\\x1dO\\xa2p@\\xb1\\x1b\\xb6-\\xca\\xc9p@x\\xd0\\xec\\xbaw\\xcbp@\\xd5\\x01\\x10wu\\xfcp@\\x0eGW\\xe9.\\xd0p@\\x9e\\x08\\xe2<\\xdc\\xaap@h!\\x01\\xa3\\x0b\\xbap@\\xa5J\\x94\\xbd\\xe5\\xadp@FF\\x07$!\\xb6p@\\xf0\\x1b_{&\\xc9p@N\\x9a\\x06E\\xf3\\xf0p@\\x84\\'\\xf4\\xfaS\\xb7p@\\x19Z\\x9d\\x9c!\\xb4p@\\xa1F!\\xc9,\\x88p@\\xb9\\x8b0E9/p@i\\x1b\\x7f\\xa2r\\x8fp@J\\xd1\\xca\\xbd@\\x8ap@\\xd28\\xd4\\xef\\xc2\\x95p@\\xc6\\xa7\\x00\\x18\\x0f\\\\p@\\xd9aL\\xfa\\xfb.p@\\x84\\x9c\\xf7\\xff\\xf1-p@\\xde\\xc9\\xa7\\xc769p@0\\xd7\\xa2\\x05\\xe8,p@\\xd7\\xfc\\xf8K\\x0bCp@\\xe1\\xb3up\\xf0\\x83p@\\xa1\\xd4^D\\x9bhp@\\x87\\x19\\x1aOD|p@\\xae+f\\x84wTp@\\xd3k\\xb3\\xb1RDp@\\xb5\\x8d?Q\\x194p@\\xfe`\\xe0\\xb975p@\\xcc\\xb7>\\xac\\xb7!p@\\x7fM\\xd6\\xa8\\x07\\xd0o@s\\xbfCQ\\xa0\\x83o@\\xfb\\x02z\\xe1\\xce\\xbdo@\\xde\\xeb\\xa4\\xbe,go@V\\xf3\\x1c\\x91\\xef=o@\\xf06o\\x9c\\x94Hn@\\xd0\\x0bw.\\x8cAn@\\xcc/\\x831\"\\xc8n@\\xa3s~\\x8achn@\\xc0`7l\\xdb\\xfbm@\\x17()\\xb0\\x80\\xa6m@FY\\xbf\\x99\\x18%n@\\xbb\\xb3v\\xdb\\x85\\xd2n@\\xb9T\\xa5-.\\x11o@T\\xe7Q\\xf1\\xff\\x9do@\\xa51ZG\\x15Dp@\\xa7#\\x80\\x9bE\\x9fp@\\xce\\x19Q\\xda\\x9b\\xb6p@\\xde\\x8epZp\\x10q@\"\\x008\\xf6\\xac\\x9bp@a\\x1a\\x86\\x8f\\x08vp@\\xfd\\xbf\\xea\\xc8\\xd1\\xabp@\\xc9\\x04\\xfc\\x1a\\xc9\\xcdp@\\xa6D\\x12\\xbdL\\x83p@\\xfb\\x00\\xa461\\xa8r@Dio\\xf0\\xc5\\x92r@\\xc7\\xb9M\\xb8\\x97\\xcfr@\\xf3T\\x87\\xdc\\x0c\\x96r@\\xea\\x06\\n\\xbc\\x13\\xf3r@\\xc2\\xfb\\xaa\\\\\\xe8Ls@\\x8caN\\xd0\\xe6Rs@+\\xf8m\\x881os@\\xb1g\\xcfe\\xea\\xf4r@p\\t\\xc0?\\xa5\\x12s@\\t\\xdf\\xfb\\x1b\\xb4\\xd8r@e\\xc4\\x05\\xa0Q\\xf1r@\\x9e$]3y~r@\\x156\\x03\\\\\\x90\\xc4r@\\xc9\\x8d\"k\\x8d\\x07r@\\x8cd\\x8fP\\xb3\\x13r@\\x05\\xa6\\xd3\\xba\\xcd\\x0bq@G\\x1c\\xb2\\x81\\xb4\\xe6q@0\\x0e.\\x1d\\xb3#q@\\x9a\\xef\\xe0\\'\\x8e\\x8cq@\\xf4\\xfd\\xd4x\\xa9\\x99q@5\\xf1\\x0e\\xf0deq@\\x19\\xcc_!\\xb3\\xd3p@NA~6\\xf2\\xa4p@2q\\xab \\x06\\x86o@\\xb6\\xf8\\x14\\x00\\xe3\\xa6n@\\xd1]\\x12g\\xc5\\x1ao@%Y\\x87\\xa3k2p@v\\xe0\\x9c\\x11%Vp@\\xa2\\xed\\x98\\xba+<p@\\xbc \"5\\xadrp@\\xd9\\xcb\\xb6\\xd3V\\xd4p@I\\xbe\\x12HI\\xe1p@k\\xb8\\xc8=]\\xe3p@\\xf7vKr\\xc0\\x9fp@\\xe1`ob\\x88bp@\\xdcdT\\x19FMp@5\\xec\\xf7\\xc4\\xfa\\xabp@aL\\xfa{i\\xb3p@\\xd7n\\xbb\\xd0\\x9cbp@\\x86!r\\xfa\\xba\\x8cp@\\xc1\\x1c=~\\xef\\x87p@\\xe3\\xff\\x8e\\xa8P\\x9cp@(\\x0f\\x0b\\xb5&\\xf0p@\\x19\\xfe\\xd3\\r\\x14\\x11q@$\\xf0\\x87\\x9f\\xff\\x10q@\\x868\\xd6\\xc5\\xad\\x10q@8\\x83\\xbf_L\\xd5p@\\x19\\x8e\\xe73 Ap@\\xeb\\xc6\\xbb#\\xe3gp@\\xfbt<f\\xe0\\x9ap@\\xfc\\xc5l\\xc9j\\xd6p@\\xfa(#.\\x80\\x82p@\\xe5\\\\\\x8a\\xab\\xcawp@\\x91\\xd3\\xd7\\xf35\\x14p@\\xf4p\\x02\\xd3i\\xf0n@\\xc6\\xbc\\x8e8dVo@d[\\x06\\x9c%\\x83o@\\xf0\\xf7\\x8b\\xd9\\x92\\x11p@R\\xd3.\\xa6\\xd9\\x14p@\\x1a\\xa5K\\xff\\x12\\xc5p@\\x19\\x1ff/\\x1b\\xf5p@\"\\x17\\x9c\\xc1\\x9f\\x1fq@g&\\x18\\xceusq@\\x01\\xf9\\x12*\\xb8xr@r\\xfe&\\x14\\xa2.r@\\x91\\x99\\x0b\\\\^or@L\\xfe\\'\\x7f\\xf7 r@\\x8cJ\\xea\\x04\\xb48r@\\xa6}s\\x7f5or@j\\x88*\\xfc\\x99\\x9er@\\x04\\xe4K\\xa8\\xa04r@\\xde\\xaa\\xebP\\xcdMr@\\xc0\\x98-Y\\x95\\xb0r@\\xf0\\xa9\\x9c\\xf6T\\xbcr@\\xd6\\x02{Ld\\x80r@\\x90\\x14\\x91a\\x95\\x10r@\\xc3}\\xe4\\xd6\\xe4Ar@#\\xda\\x8e\\xa9;\\xa7r@\\xd6\\xe1\\xe8*]\\x9cr@L\\xe3\\x17^\\xc9\\xfdr@\\xd4($\\x99\\xd5\\x1ds@\\nc\\x0bA\\xce\\xc2r@U\\xbc\\x91y\\xe4\\x93r@6\\xff\\xaf:\\xf2\\xfdr@\\xe9\\x80$\\xec\\x1b#s@\\xbfCQ\\xa0\\x8f?s@}\\xac\\xe0\\xb7\\xe1\\x16s@\\xd0\\xf3\\xa7\\x8d*\\xc2r@\\xbc\\x95%:K\\x92r@\\tm9\\x97\\xe2\"r@\\x9a\\xeeuR_\\x1br@\\xe1c\\xb0\\xe2T\\xccq@\\xc3\\x0c\\x8d\\'\\x82\\x93q@p\\x97\\xfd\\xba\\xd3\\\\r@<\\x83\\x86\\xfe\\xc92r@\\xaa\\xd4\\xec\\x81V\\xb6r@f\\x82\\xe1\\\\C)s@?\\xe5\\x98,\\xee]s@\\x1b\\xa3uT5\\x88s@\\x89\\xb6c\\xea.ys@\\xcf\\x84&\\x89%vs@\\xea\\xcc=$|;s@\\x90\\xf6?\\xc0Z\\x96s@\\xf8\\xa8\\xbf^!\\x86s@\\xb5\\x17\\xd1v\\x0c\\x88s@\\xc5\\x8c\\xf0\\xf6\\xa0Ks@\\xf5\\x9d_\\x94`Ws@V\\xf3\\x1c\\x91\\xaf\\x8as@o\\xf6\\x07\\xca\\xadis@\\x1e\\xa7\\xe8H\\xee\\xads@\\x92\\xb0o\\'\\x91\\x89s@\\x14A\\x9c\\x87\\x93\\xa8s@><K\\x90\\x11\\xc4s@\\xe2#bJ\\xe4\\xfcs@6u\\x1e\\x15\\x7f\\xf8s@\\x11\\xa9i\\x17\\x13\\x0et@\\x12\\x88\\xd7\\xf5\\x0b*t@3\\x15\\xe2\\x91\\xf8\\xc5t@N\\xd6\\xa8\\x87\\xe8\\xdct@\\xbe\\xdb\\xbcq\\xd2\\x92t@\\x89\\x07\\x94M\\xf9Jt@U\\x14\\xaf\\xb2\\xb6ns@\\xa2\\x98\\xbc\\x01&ts@V\\xf3\\x1c\\x91\\xaf\\x8as@>]\\xdd\\xb1\\x18\\xa8s@\\x8c\\xdbh\\x00\\xef\\x82s@\\xbd7\\x86\\x00\\xa0\\x9fs@\\xc4\\xeb\\xfa\\x05;\\xc2s@\\xe2\\xaf\\xc9\\x1au\\xf7s@\\xaeL\\xf8\\xa5>Kr@v\\x8d\\x96\\x03}Gr@\\x13_\\xed(\\xce\"r@i\\xc3ai`\\xc7q@\\xfb\\xb1I~D\\xbcq@\\xae\\xd2\\xddu6\\x1br@\\xbc\\n)?\\xe9\\x08r@\\x02\\x982p@\\x1cr@\\xa0\\xc3|y\\x01\"r@\\x14\\xb2\\xf366Dr@\\xb3z\\x87\\xdb\\xe1\\x9dr@\\x86\\xc6\\x13A\\xdc\\x03s@e\\xc4\\x05\\xa0Q\\xf1r@\\x0f\\xba\\x84C\\xef\\ts@;\\x8e\\x1f*\\xcd\\x16s@~\\xc5\\x1a.r\\xear@\\x10\\xe6v/\\xb7\\x1cs@X\\xac\\xe1\"7\\ts@\\xa5\\xbd\\xc1\\x17\\xa6\\xe7r@\\x00X\\x1d9R\\xefr@\\xe8\\xda\\x17\\xd0K\\xe0r@\\xe1\\xd21\\xe7\\x19+s@O\\x93\\x19o\\xab\\xfar@Pl\\x05M\\x0b\\xecr@\\xa2\\x7f\\x82\\x8bU\\ns@\\x0b\\t\\x18]\\x9e\\x05s@\\xf7\\xea\\xe3\\xa1/Ns@\\xac\\x17C9\\x11Ms@\\xcd@e\\xfc;ns@\\x95\\rk*\\x0bes@\\x94O\\x8fm\\x19-s@\\x199\\x0b{\\xda\\xe2r@\\rnk\\x0b\\x8f\\xf1r@\\xf0gx\\xb3F\\xf4r@XSY\\x146\\xbdr@\\xf6\\xd1\\xa9+_\\xe4r@=\\xd8b\\xb7OIs@b\\xf9\\xf3m\\x01;s@6Vb\\x9e\\x15ds@\\x1f\\xa1fHU\\x83s@;\\x1f\\x9e%\\xc8\\xcas@\\x9d\\xd4\\x97\\xa5\\xdd\\xc6s@\\xca\\x1b`\\xe6\\xbb\\xfas@\\x18\\xe9E\\xed>+t@\\xb5\\xc1\\x89\\xe8\\x97\\x0ft@\\xcc\\x05.\\x8fuEt@h\\x91\\xed|\\xff2t@\\xea\\xe8\\xb8\\x1a\\xd9xt@\\x10#\\x84G\\x1b>t@\\xe4g#\\xd7\\xcd\\x04t@\\xf5\\xf5|\\xcd22t@\\x96\\xebm3\\xd5\\x0ft@\\xaa~\\xa5\\xf3!\\xd4s@-u\\x90\\xd7\\x83\\xbds@VfJ\\xeb\\xaf\\xb1s@\\'\\xba.\\xfc\\xe0\\x91s@x\\'\\x9f\\x1e\\x9b\\xdas@\\x8cKU\\xda\\xe2Rt@\\x8f\\x8bj\\x11\\xd1\\x7fs@\\xb3\\xb4Ss\\xb9\\xebr@\\xb4\\x93\\xc1Q\\xb2\\x07s@,\\xb8\\x1f\\xf0\\xc0\\xf6r@\\xf3\\xc6Ia\\x9e\\xb5r@\\x9br\\x85w\\xb9\\x9br@Ie\\x8a9\\x08\\xa8r@;\\xc1\\xfe\\xeb\\\\\\xc5r@\\xba\\xf4/I\\xe5\\x08s@\\x10\\xe4\\xa0\\x84\\xd96s@t\\x99\\x9a\\x04\\xef2s@\\xfe\\x9f\\xc3|\\xf9\\xe1r@X\\xa6_\"\\x9e\\xder@O\\x1f\\x81?<\\xf5r@1\\t\\x17\\xf2H\\x13s@\\xdc\\xb6\\xefQ\\xff\\xa2r@\\xd9\\xd3\\x0e\\x7f\\x8d\\xf7r@!\\xcc\\xed^n!s@]\\xaa\\xd2\\x16W\\x04s@K\\xe9\\x99^b(s@\\xb7\\xd1\\x00\\xde\\x02\\xe5r@\\xbf\\x9e\\xafY.\\xdbr@a\\x86\\xc6\\x13\\x01\\x14s@\\x96?\\xdf\\x16l\\xa2s@\\xeb\\x8a\\x19\\xe1mss@\\x984F\\xebh\\xber@J|\\xee\\x04\\xfb+s@\\x04\\x02\\x9dI\\x9b\\xc1r@\\x12j\\x86T\\xd1\\x06s@\\xdb\\xa4\\xa2\\xb1v\\xd8r@\\xc2\\x17&S\\x85wr@\\x06\\xf5-s\\xfa\\x8dr@\\x94\\xdf\\xa2\\x93%]r@\\xce\\xfd\\xd5\\xe3>\"r@\\x85\\xf0h\\xe3H\\xd3q@?\\xc1\\xc5\\x8a\\x1a\\x10r@\\'\\xa6\\x0b\\xb1\\xba\\xceq@~\\xc9\\xc6\\x83\\xed\\x1fr@q\\xab \\x06:\\rr@\\xe7\\x91?\\x18\\xf8\\x1er@g\\x7f\\xa0\\xdcv\\xbfq@\\x12\\xbc!\\x8dJ\\xa4q@\\x04\\xe6!S>\\x84q@\\xf0\\xf9a\\x84\\xf0sq@D\\xc58\\x7f\\x93\\x9fq@\\xb6\\xbb\\x07\\xe8>\\xd2q@R\\xd3.\\xa6\\x99\\'r@\\xd4\\x7f\\xd6\\xfcx\\x07r@{e\\xde\\xaa+\\xa5q@\\x9d\\xd9\\xae\\xd0G\\xd7q@\\x8d&\\x17c \\x81q@5B?S\\xef\\xa0q@\\xc5\\xaaA\\x98\\xdb\\xc5q@\\xaa\\x9e\\xcc?\\xfa\\x9dq@f\\xe0\\x80\\x96\\xee\\x1br@\\xd1\\xad\\xd7\\xf4 \\x1fr@\\xa1\\x81X6\\xf3Yr@R\\x9f\\xe4\\x0e\\x9b\\x9ar@\\xb8>\\xac7*Kr@\\xe5x\\x05\\xa2gKr@\\xca\\xe0(y\\xf5(r@M\\xa5\\x9fp\\xf6\\xd4q@\\xa4\\x87\\xa1\\xd5I\\xcfq@\\xd1;\\x15p\\x8f\\xffq@\\x15\\xe5\\xd2\\xf8\\xc5\\xf2q@ap\\xcd\\x1d=\\x01r@\"\\xe2\\xe6Tr!r@\\xb3|]\\x86\\xbf\\x83r@^b,\\xd3\\xaf\\x11s@4,F]+7s@\\x8bo(|\\xb6\\xf7r@\\xe2X\\x17\\xb7\\x11\\xfbr@\\x05\\xa7>\\x90\\xfc%s@\\xcd\\xe5\\x06C\\x9d\\xd2s@\\xc8\\xe9\\xeb\\xf9Z\\xbds@M\\xbfD\\xbc\\xb5\\xc2s@I\\x9b\\xaa{d\\xc0s@\\xae\\xb4\\x8c\\xd4\\xfb\\xa0s@\\x9au\\xc6\\xf7\\x85\\x05t@\\xb6\\xa2\\xcdqn\\x11t@2Xq\\xaa5\\xffs@\\x1f,cC\\xb7\\x0ct@~\\xe3k\\xcf\\xac\\rt@\\xa5\\xdb\\x12\\xb9\\xe0\\nt@\\xb6-\\xcal\\xd0\\x9at@\\xcf\\x87g\\t\\xf2\\xdft@x~Q\\x82\\xfe\\xd6t@w\\x84\\xd3\\x82\\x97\\x01u@.\\xe5|\\xb1\\xb7#u@q\\x8e::\\xee\\x16u@\\xc0x\\x06\\r\\xbd\\xe6t@\\xcb\\x9c.\\x8b\\t$u@J\\xebo\\t\\x00!u@I\\x12\\x84+\\xa0/u@oD\\xf7\\xack\\xe4t@\\x97\\x8e9\\xcf\\x98$u@\\xf4\\xa5\\xb7?\\x97zu@\\xc4\\xcd\\xa9d\\x00Hu@G\\x1f\\xf3\\x01Acu@\\x9a\\x91A\\xee\\xe2Bu@j3NCT@u@\\x85\\xebQ\\xb8\\x9e\\xd5u@Z\\xbd\\xc3\\xed\\x90\\x0bv@AaP\\xa6\\x91\\xe0u@\\xf4\\xf8\\xbdM\\xff\\x9bu@\\x88\\xd6\\x8a6\\x87\\x91u@\\xf0\\x13\\x07\\xd0\\xaf\\nv@\\x02F\\x977\\xc7\\'v@\\x81\\x08q\\xe5,*v@\\xc1Z\\xb5k\\x82lv@o\\x7f.\\x1a2\\xb6v@\\xe7\\x1f}\\x93&\\xbbv@\\x9c\\xc6\\xf6Z\\x10\\xeav@F\\xd4D\\x9f\\x0few@\\xc1\\x91@\\x83Mcw@\\xe7\\x1b\\xd1=\\xab\\x85w@\\xa5I)\\xe8\\xf6\\x9dw@\\xb5\\xa5\\x0e\\xf2\\xfa\\x8dw@J\\n,\\x80)\\xc8w@\\xc8$#g\\xe1\\xa1w@\\xaf\\xb5\\xf7\\xa9\\xea\\xcdw@k~\\xfc\\xa5E\\xfaw@\\xff\\xb0\\xa5G\\x13\\xf7w@\\xba\\x15\\xc2j\\xac\\xa8w@1\\x96\\xe9\\x97\\xc8:w@\\x1bE\\xd6\\x1a\\x8a>w@\\xe2\\x93N$\\xd8uw@F\\xee\\xe9\\xea\\x0e@w@\\xa7v\\x86\\xa9\\xed!w@-\\x98\\xf8\\xa3\\xa8?w@\\xb8\\xe9\\xcf~\\xe4\\x95w@\\x00VG\\x8et\\xb2u@f\\xf7\\xe4a\\xe1Hu@\\xe7\\xc95\\x05\\xf2/u@\\xde\\x8f\\xdb/_=u@*T7\\x17\\xff$u@\\x1f\\xf5\\xd7+\\xac(u@\\xfb\\xce/J\\xd0\\x13u@K\\xca\\xdd\\xe7\\xf8<u@O\\xacS\\xe5;wu@=\\x98\\x14\\x1f\\xdfyu@O\\xc6\\xf80;Ru@b\\x85[>RHu@\\xd3\\x84\\xed\\'\\xa3\\xd3t@\\x91\\xb3\\xb0\\xa7\\x1d]t@\\x89?\\x8a:\\xf3\\xb2t@\\x1dp]1\\xe3\\xc9t@[\\x93nK$\\x93t@:>Z\\x9c1_t@\\xd9\\xef\\x89u\\xea4t@\\x9d\\x80&\\xc2F4t@\\x82\\xe4\\x9dCY\\xdct@\\xb5\\x19\\xa7!j\\xeat@v\\xc6\\xf7\\xc5\\xa5\\xc9t@\\x12\\x86\\x01Kn\\xdat@\\xf8Rx\\xd0\\xec\\xa3t@\\x8bq\\xfe&T\\xf0t@\\xf8\\xe3\\xf6\\xcb\\xe7Wu@v6\\xe4\\x9f\\x99\\x99u@\\xe5\\xef\\xdeQc\\xcdu@f\\xc2/\\xf5s\\xb4u@\\xc7\\xb7w\\r\\xba\\x92u@\\x17\\r\\x19\\x8f\\x12yu@t\\xd3f\\x9c\\x86\\x93u@\\xae\\x84\\xee\\x928\\\\u@5\\x0b\\xb4;\\xe4eu@\\xca\\xc2\\xd7\\xd7z\\xc1u@\\x91\\xb6\\xf1\\'\\xea\\xc6u@\\xec\\xa3SW\\xfe\\xefu@\\x9c\\xdc\\xefP\\x14\\xeau@\\xc9\\xe7\\x15O}\\x80v@\\xcc\\x0b\\xb0\\x8f\\xce\\x82v@\\xbe\\x81\\xc9\\x8d\"{v@\\x14\\x92\\xcc\\xea\\x1d\\x8dv@\\xb1l\\xe6\\x90TWv@T;\\xc3\\xd4V&v@\\xe7\\x8c(\\xedM!v@\\xa3\\x90dV\\xaf\\x0cv@\\x07~T\\xc3~\\xdau@\\xcc_!se\\x15v@\\xa3:\\x1d\\xc8:\\x94v@H4\\x81\"\\x96\\x97v@\\xcar\\x12J\\xdf\\tw@#\\xbag]#\\xf0v@\\xdf\\xc4\\x90\\x9c\\x8c\\xe4v@\\x08T\\xff \\x12\\x0bw@\\xbf_\\xcc\\x96\\xec%w@\\xa52\\xc5\\x1c\\x04\\x1aw@\\xa3:\\x1d\\xc8:\\x94v@\\xe9\\x108\\x12\\xa8\\xa1v@!W\\xeaY\\xd0Sv@]T\\x8b\\x88\\xe24v@\\x00\\xaf\\xcf\\x9cu\\xfeu@\\xde Z+Z\\xf1u@r\\xfb\\xe5\\x93\\x15&w@\\xb2\\x81t\\xb1\\xa9\\x8bw@\\xae\\xd0\\x07\\xcbX\\x87w@\\x17.\\xab\\xb0\\xd9ow@l^\\xd5Ym\\x87w@\\xab?\\xc20\\xa0\\x88w@\\x8a\\x90\\xba\\x9d}\\x97w@e\\xfb\\x90\\xb7\\x9c6x@\\x99\\xf2!\\xa8\\x1a\\xb2w@\\x8d\\x9a\\xaf\\x92\\xcf\\xe7w@\\xba\\xd9\\x1f(7\\x0bx@N_\\xcf\\xd7l)x@\\x0e\\xdf\\xc2\\xba\\xb1\\x84x@\\xb8\\xae\\x98\\x11\\x1emx@\\x9c\\xa0M\\x0e__x@\\xc23\\xa1I\\xa2px@\\xfd\\x152WF\\x98x@\\x12\\xa2|A\\xcb\\xc0x@wf\\x82\\xe1\\\\0y@x\\x9a\\xccx[\\xbdx@\\xdeq\\x8a\\x8e\\xe4\\xd5x@,\\xd5\\x05\\xbcL\\xf7x@\\x8a\\xc6\\xda\\xdf\\xd9\\xafx@a\\x8ari\\xbc\\xaax@\\xaa\\xb6\\x9b\\xe0\\xdb\\xf7x@G\\x02\\r65\\x03y@b\\x0e\\x82\\x8e\\x16+y@K\\x1cy r\\xa5y@\\x1b*\\xc6\\xf9\\x1b.z@\\x96)\\xe6 h\\xf4y@\\x12\\xbe\\xf77(\\xfey@\\xa6|\\x08\\xaa\\x86\\xf5y@\\x87\\xa4\\x16J\\xe6\\x0fz@\\xf6\\xb1\\x82\\xdfF\\xd6y@\\x88K\\x8e;\\xe5\\xc3y@od\\x1e\\xf9\\xc3\\xa5y@x\\xb7\\xb2D\\xe7ky@\\x99\\xd4\\xd0\\x06\\xe07y@B]\\xa4P\\x16Ty@_#I\\x10.oy@\\xf2\\t\\xd9y\\x9bSy@T\\xfdJ\\xe7\\x03Ly@\\x83\\x17}\\x05\\xa9Fy@\\xe6\\xca\\xa0\\xda\\xe0\\\\y@4\\xf5\\xbaE\\xe0\\x0ey@P6\\xe5\\n/\\xcbx@Q\\xf4\\xc0\\xc7 \\x03y@]k\\xefS\\xd5ay@X\\x1c\\xce\\xfc*+y@\\xe9\\xd0\\xe9y7\\xd2x@\\xec\\xdc\\xb4\\x19\\'rx@ &\\xe1B\\x9e0x@!\\xe5\\'\\xd5\\xfeFx@\\xf5Op\\xb1\"\\xabx@\\t\\x15\\x1c^\\xd0\\xacx@\\xa0\\x8a\\x1b\\xb7\\x18\\xaax@\\x96\\xd3\\x9e\\x923ix@\\xb9\\xde6S\\xa1\\xc4x@\\xc9\\x01\\xbb\\x9a<nx@\\x7f\\x17\\xb6f+\\xe9w@\\xdb3K\\x02\\x94\\xf8x@\\x98\\xa2\\\\\\x1a\\x7f\\xfax@\\x02~\\x8d$\\xc18y@\\xbfF\\x92 \\x1cey@\\xcdv\\x85>XBy@\\xccD\\x11R\\xf7\\x04y@R\\xf3U\\xf2\\xf1\\x91y@8\\x84*5\\xfb\\xbdy@\\xd5\\xe8\\xd5\\x00\\xe5\\x9cy@\\xe7U\\x9d\\xd5B\\xe6y@{\\x9f\\xaaB\\x03gz@\\xb5\\xc2\\xf4\\xbd\\x86\\xe5z@\\xa4\\x1c\\xcc&\\x00\\xc3z@\\x89\\x9a\\xe8\\xf3\\x11F{@\\x0b\\x05l\\x07\\xe34{@\\xd1z\\xf82\\xd1z{@\\xf5F\\xad0=e{@}s\\x7f\\xf5\\xb8\\xb1{@$\\t\\xc2\\x15\\xd0\\x97|@\\'\\x15\\x8d\\xb5\\xbf7|@s\\x7f\\xf5\\xb8/b|@U5A\\xd4\\xfd\\\\|@\\xf3\\xa6\"\\x15\\x86P|@\\x9fu\\x8d\\x96C\\xc4{@\\xb0\\xeb\\x17\\xecF\\x8f{@\\xff9\\xcc\\x97\\x97C{@f\\x84\\xb7\\x07!\\x83{@\\xf9\\x11\\xbfb\\x8d\\x1b{@o\\xd9!\\xfe!/{@\\xb0\\x8a72\\xcf2{@\\x7f.\\x1a2\\x1e\\x16{@@\\xfb\\x91\"\\xf2\\xd1z@\\xcc\\x7fH\\xbf\\xbd\\xd6z@\\x07\\xb6J\\xb08\\xfez@\\xb9\\x91\\xb2E\\xd2v{@\\xfe\\xa0.R\\xa8\\xca{@y\\x91\\t\\xf8uw{@r\\xfe&\\x14\\xe28{@n4\\x80\\xb7\\x00a{@\\xe3\\xc7\\x98\\xbbVQ{@\\x8c\\x82\\xe0\\xf1\\xed\\xaa{@\\x8c\\xa2\\x07>\\xc6\\x1d|@a\\x86\\xc6\\x13A\\x1e|@\\xbf\\xb9\\xbfz\\xdc\\x9e{@\\x82\\x8a\\xaa_i\\x80{@\\x1f1zna\\'{@\\xee\\xd4\\\\n\\xb0\\n{@t\\xb6\\x80\\xd0:F{@\\xb4\\x95\\x97\\xfc\\x8fa{@\\x1bN\\x99\\x9b\\xef{{@\\xf2\\x82\\x88\\xd4\\xf4\\xb7{@\\x82\\x1ej\\xdbp\\x8b{@t\\r34^\\xac{@\\x83/L\\xa6\\xca\\xe4{@\\xdd)\\x1d\\xac\\x7fA|@\\xe3\\x8a\\x8b\\xa3\\xb2B|@\\xae\\xf0.\\x17\\xb1H|@\\x17\\xd9\\xce\\xf7\\x93\\xba|@\\xc8\\xf0\\xd8\\xcf\\xa2\\xd0|@}DL\\x89$\\xde|@0\\xbb\\'\\x0f\\x8b\\xb5|@)\\x05\\xdd^\\x12\\xad|@\\x84\\xbaH\\xa1,n|@\\x87\\xbe\\xbb\\x95\\xa5\\xfd{@o\\xd6\\xe0}Un|@\\xe1\\xb3up07|@\\x10\\xedc\\x05\\xff/|@\\n\\xf85\\x92\\x84\\xb6{@@L\\xc2\\x85\\xbc\\xa3{@^\\xd6\\xc4\\x02\\x1f\\x8b{@\\xaf\\xb0\\xe0~@\\xd0{@\\x9d\\xbd3\\xda\\xea\\xb6{@\\x00\\x1d\\xe6\\xcb\\x8b:|@\\x01I\\xd8\\xb7SM|@\\xac\\xacm\\x8a\\xc7@|@\\xdf\\x14V*h\\xfd{@\\x97\\xa8\\xde\\x1a\\x18\\xce{@}ZE\\x7f(\\xde{@\\xd99\\xcd\\x02-\\xcc{@=\\xbb|\\xeb\\x03\\xa5{@\\xb4\\xe8\\x9d\\n\\xf8\\x82{@\\tM\\x12K\\x8a\\'{@.\\xc8\\x96\\xe5k\\xd6z@r\\xbe\\xd8{q\\xc0z@\\xf4\\x15\\xa4\\x19K\\x06{@z\\xc5S\\x8ft\\x04{@\\xdc\\x7fd:\\xb4#{@\\xfc\\x89\\xca\\x86\\xb5F{@\\xc4*\\xde\\xc8\\xbc*{@\\xcbm\\xfb\\x1e5\\x0c{@.o\\x0e\\xd7j\\x8az@\\xaa\\x98J?\\xa1}z@M\\x9f\\x1dp\\x9d\\xb4z@Z|\\n\\x80qpz@\\xcc\\xf3\\xe0\\xee,\\xdcz@\\x13f\\xda\\xfe\\x156{@\\xc6\\x14\\xacqvu{@\\xb10DN\\x9fu{@\\xe3\\xff\\x8e\\xa8P\\xb9{@Z\\xa0\\xdd!E\\xbe{@^c\\x97\\xa8^\\xfa{@\\xe9\\'\\x9c\\xddZ\\xe1{@\\xc6m4\\x80w\\xc1{@\\x92\\xcb\\x7fH\\xff\\xb6{@{/\\xbeh\\xcf\\xa9{@\\xb3\\xe6\\xc7_Z3|@\\xe8-\\x1e\\xde\\xf3\\x0b|@\\x9f!\\x1c\\xb3\\xac1|@x\\x7f\\xbcW\\xed\\xac{@[y\\xc9\\xff\\xa4\\xaf{@\\xaf\\x04Rb\\xd7b{@W\\x03\\x94\\x86Zj{@\\xb4!\\xff\\xcc \\\\{@\\x86TQ\\xbcJX{@W\\xe8\\x83e\\xec\\xb0{@\\x92\\xac\\xc3\\xd1\\xd5\\xb8{@n\\xdf\\xa3\\xfe\\xbaY{@5\"\\x18\\x07\\xd7;{@s\\xa3\\xc8Z\\x03\\x07{@\\x1bj\\x14\\x92\\x8c\\xa6z@\\xe8\\xa6\\xcd8\\r\\xb8z@{0)>\\xfe\\x1a{@g\\x0cs\\x82\\xf68{@Y\\xfb;\\xdb\\xe3Y{@=\\xdc\\x0e\\r\\x0b\\x89{@R\\x98\\xf78\\x13\\t|@kGq\\x8e:\\xbf{@\\x83\\x8d\\xeb\\xdf5\\x93\\x7f@\\xe7S\\xc7*eR\\x7f@\\x81Y\\xa1H\\xf7o\\x7f@\\xc7\\xba\\xb8\\x8d\\x86\\x19\\x80@g\\xee!\\xe1\\x1b\\x02\\x80@M\\x10u\\x1f\\x80\\xb1\\x7f@\\xb4\\xe9\\x08\\xe0\\xe6\\xaf\\x7f@0\\x81[w\\xd3,\\x80@\\xc5\\x18X\\xc7\\x91\\x15\\x80@DP5z5\\x16\\x80@\\xf5\\x84%\\x1e\\x10\\x08\\x80@\\x9c\\x8c*\\xc3X\\x04\\x80@\\x87\\xda6\\x8c\\x02\\xe4\\x7f@\\x7f\\r\\x88\\x10\\xd7\\xed\\x7f@\\x1ef/\\xdb\\x8ew\\x7f@\\xd9uoE\"\\xb8\\x7f@9F\\xb2G\\xa8\\x8c\\x7f@\\x0e1^\\xf3*\\x96\\x7f@\\x88Md\\xe6\\xc2\\x1d\\x80@9\\xd1\\xaeB\\xca(\\x80@_}<\\xf4\\x1d\"\\x80@F\\x9cN\\xb2\\x15\\x1a\\x80@8\\xa2{\\xd6\\xb5\\x00\\x80@\\xf0\\xf7\\x8b\\xd9R\\xea\\x7f@\\xe5x\\x05\\xa2\\'$\\x80@7\\x19U\\x86q\\x1b\\x80@-;\\xc4?\\x8cS\\x80@\\xea\\xcd\\xa8\\xf9j\\x85\\x80@\\xb3y\\x1c\\x063\\x98\\x80@v\\xfc\\x17\\x08\"\\x8a\\x80@\\xc3b\\xd4\\xb5\\xb6u\\x80@B\\xd0\\xd1\\xaa\\xd6p\\x80@\\xac\\xa5\\x80\\xb4\\x7f\\x84\\x80@\\x08\\xac\\x1cZ$\\x81\\x80@\\x98i\\xfbW6\\xb3\\x80@\\xe4\\xbdjeB\\xd4\\x80@j\\xf6@+P\\xee\\x80@a\\xfd\\x9f\\xc3\\xdc\\xd0\\x80@Mh\\x92X\\x92\\xb3\\x80@\\xbf\\xb8T\\xa5\\xed\\x8e\\x80@]\\xf9,\\xcf\\xa3\\xbf\\x80@\\xba\\xa2\\x94\\x10,\\xb3\\x80@\\x1f\\xf5\\xd7+\\xac\\xee\\x80@\\x9a=\\xd0\\n\\x8c\\xf4\\x80@o\\xa2\\x96\\xe6\\x16.\\x81@#\\x87\\x88\\x9b\\xf3g\\x81@\\x01OZ\\xb8\\xecZ\\x81@\\x02d\\xe8\\xd8aq\\x81@:#J{#u\\x81@,d\\xae\\x0cjQ\\x81@P\\x1d\\xab\\x94^~\\x81@*\\x8b\\xc2.\\n`\\x81@\\x7f\\xa7\\xc9\\x8c\\x97?\\x81@\\x84\\x82R\\xb4\\xd2p\\x81@\\x19p\\x96\\x92\\xe5\\xc6\\x81@\\xd7\\x13]\\x17^\\xd0\\x81@\\xc5W;\\x8as\\xa4\\x81@\\x1d\\xae\\xd5\\x1e6\\xa4\\x81@p\\xb3x\\xb1p\\x87\\x81@\\x90\\xa2\\xce\\xdc\\x03\\xf1\\x81@\\xd7\\x1aJ\\xed\\xe5\\xed\\x81@\\x13\\xf4\\x17zD\\x0c\\x82@\\x10&\\xc5\\xc7\\x87\\xf5\\x81@\\x8dy\\x1dq(*\\x82@\\xa2\\xd1\\x1d\\xc4n/\\x82@z\\xc4\\xe8\\xb9\\xc5\\x1b\\x82@\\xe9+H3\\xd6\\x8a\\x81@\\xcc+\\xd7\\xdb\\x860\\x81@\\x87P\\xa5f\\x8f\\x87\\x81@\\x96y\\xab\\xaeCG\\x81@mU\\x12\\xd9\\x07\\xb9\\x81@\\n\\x7f\\x867+o\\x82@(\\x9f\\x1e\\xdb2\\xb1\\x81@\\xfe\\x9f\\xc3|\\x19\\xc4\\x81@\\xfb\\x90\\xb7\\\\=\\xd8\\x81@\\xf2\\x9aWu6\\x1b\\x82@t\\xf2\"\\x13\\x10a\\x82@\\xfcR?o\\nO\\x82@K\\xca\\xdd\\xe7\\xf8\\x93\\x82@\\xe2!\\x8c\\x9f\\x06\\x86\\x82@V\\xd9wE\\xd0\\xba\\x82@\\x90\\x86S\\xe6f\\xc6\\x82@F\\x06\\xb9\\x8b\\xb0\\xe6\\x82@\\xd2m\\x89\\\\\\x90\\xc4\\x82@\\xc6\\x17\\xed\\xf1\\xa2\\xcb\\x82@\\x91(\\xb4\\xac[\\xca\\x82@x\\x06\\r\\xfd3\\xed\\x82@\\x0b\\xd3\\xf7\\x1a\"\\x0b\\x83@\\xa0Q\\xba\\xf4\\xcf\\x0b\\x83@}\\xcc\\x07\\x04\\xfa\\x07\\x83@\\x12k\\xf1)\\xc0\\xf9\\x82@\\xdb1uW\\xf6\\xc5\\x82@D\\xff\\x04\\x17\\xcb\\xf6\\x82@gF?\\x1a.\\x04\\x83@Ps\\xf2\"\\x93\\t\\x83@\\xba+\\xbb`P\\xf6\\x82@AG\\xabZr\\xe9\\x82@\\n\\xd8\\x0eF,\\xbb\\x82@)_\\xd0Bb\\xd8\\x82@\\x9f\\xc5R$\\x7f\\x8f\\x82@]8\\x10\\x92\\x85N\\x82@\\xa5d9\\t\\xa5\\x9b\\x82@$\\x9fW<5\\xe8\\x82@F\\xb4\\x1dS7\\xb8\\x82@\\x8f\\x1b~7\\xdd\\xaf\\x82@\\xc2\\xc1\\xde\\xc4pw\\x82@\\xe3\\xab\\x1d\\xc5\\x19\\x13\\x82@{\\xfa\\x08\\xfcA\\x16\\x82@\\x8a\\x1d\\x8dC]\\xab\\x81@\\xdbM\\xf0M\\xb3s\\x81@<1\\xeb\\xc5\\xf0\\x7f\\x81@\\x19\"\\xa7\\xaf\\xc7g\\x81@\\xa0m5\\xebL\\xb9\\x81@\\x8fn\\x84E\\x05\\xb8\\x81@\\xaa\\x7f\\x10\\xc9\\xf0\\xcd\\x81@\\xe7\\x87\\x11\\xc2#\\xf9\\x80@\\xa1\\xf0\\xd9:8\\xd1\\x80@nnLO8W\\x81@\\x87\\xa6\\xec\\xf4#\\xa1\\x81@\\rU1\\x95\\x9e\\xe7\\x80@\\xfa\\x9a\\xe5\\xb2\\xd1\\x94\\x80@\\x89]\\xdb\\xdb-\\xa4\\x80@~r\\x14 \\x8a\\xc3\\x80@BC\\xff\\x04Wd\\x81@\\xe2X\\x17\\xb7\\xd1\\xc0\\x80@\\x94\\xf40\\xb4\\xfa\\x84\\x80@\\x9f\\xab\\xad\\xd8\\x7f\\xb6\\x80@\\\\\\xe8J\\x04\\x8aw\\x80@\\xa5\\xf8\\xf8\\x84Li\\x80@\\xe1\"\\xf7tu!\\x80@\\x02\\xd2\\xfe\\x078)\\x80@\\x11S\"\\x89\\x9e}\\x80@\\x1aj\\x14\\x92Lu\\x80@\\xba\\xf7p\\xc9\\xd1\\x9a\\x80@r\\xfb\\xe5\\x93u\\x7f\\x80@B|`\\xc7\\x7f~\\x80@\\xeb9\\xe9}#\\x19\\x80@\\x10t\\xb4\\xaae\\xdf\\x7f@\\xb15[y\\t\\xf0\\x7f@D\\x8bl\\xe7\\xdb5\\x80@\\x94/h!a\\x8f\\x80@\\x86\\x1f\\x9cO\\xbd\\xa8\\x80@%\\\\\\xc8#8u\\x80@\\x9cp\\xaf\\xcc\\xdb?\\x80@\\xde\\xe9\\xce\\x13\\x0fE\\x80@\\xeb\\xaa@-\\xe6\\x86\\x80@\\xbc\\x06}\\xe9-\\x8e\\x80@\\x00\\x05\\x17+\\x8a\\xd7\\x80@\\xba\\x12\\x81\\xea\\x7f\\x08\\x81@\\x9d- \\xb4\\x9eE\\x81@\\xe6?\\xa4\\xdf\\x9e\\xaf\\x81@jK\\x1d\\xe4u\\x8d\\x81@w\\xf6\\x95\\x07\\xa9\\x80\\x81@\\x01\\x16\\xf9\\xf5#\\x7f\\x81@M\\xbfD\\xbcuO\\x81@\\x8a\\x93\\xfb\\x1d\\x8a\\x07\\x81@\\x8c\\xdd>\\xabL\\x05\\x81@bMeQ8O\\x81@\\x936U\\xf7\\xa8b\\x81@y\\x00\\x8b\\xfc\\xfa\\x90\\x81@q\\x1d\\xe3\\x8ak\\x84\\x81@M\\x9f\\x1dp\\xbdv\\x81@\\x00\\xe5\\xef\\xde\\xd1:\\x81@$(~\\x8c\\x19>\\x81@\\x19\\x8c\\x11\\x89B\\x02\\x81@\\xc2\\xfa?\\x87\\x19\\xf8\\x80@\\r\\x8bQ\\xd7\\xfaJ\\x81@nnLO8W\\x81@~\\xa84b\\xe6b\\x81@\\xda\\x1e\\xbd\\xe1\\x9e\\xa7\\x81@>[\\x07\\x07\\xfb\\xa4\\x81@\\xe4+\\x81\\x948\\x15\\x82@H\\xa8\\x19R\\x05\\x00\\x82@\\xb5\\xc7\\x0b\\xe9\\xf0\\t\\x82@:=\\xef\\xc6B\\xfa\\x81@\\n\\x14\\xb1\\x88a5\\x82@V\\t\\x16\\x87\\xb32\\x82@\\xbe\\xb9\\xbfz\\xdcE\\x82@\\xf0\\xc2\\xd6l\\x052\\x82@G\\xc8@\\x9e\\xbd\\xd8\\x81@\\xd0\\'\\xf2$\\xa9\\x00\\x82@=\\xd6\\x8c\\x0c\\xd2\\xd8\\x81@9\\xee\\x94\\x0ev\\x19\\x82@\\xdaT\\xdd#\\xfbF\\x82@\\\\\\xc7\\xb8\\xe2BF\\x82@\\x14\\x06e\\x1aM5\\x82@\\xe4\\xf5`R\\xdc\\xed\\x81@\\x14<\\x85\\\\\\xa9\\x98\\x82@\\xf2\\x0c\\x1a\\xfa\\xc7k\\x82@\\x83j\\x83\\x13\\xf1\\x95\\x82@\\xe6Az\\x8a\\xdc\\x9f\\x82@\\xfbY,E\\xd2\\x8a\\x82@\\xecI`s.h\\x82@-\\x03\\xceR\\xd2t\\x82@\\x9a[!\\xac\\xe6L\\x82@<\\xbdR\\x96a[\\x82@\\xa6&\\xc1\\x1b\\xd2\\xdc\\x81@\\x0cw.\\x8c\\x94\\xb0\\x81@\\xfdmO\\x908\\xe9\\x81@\\x00VG\\x8e\\x94\\xa8\\x81@D\\xf8\\x17A\\x03\\xb3\\x81@\\xdc\\xd7\\x81s\\xe6\\x9a\\x81@F\\x08\\x8f6.\\xc6\\x81@j\\x10\\xe6v\\x0f\\xbf\\x81@WBwI\\xdc\\x95\\x81@\\xd0\\xec\\xba\\xb7B\\xf6\\x81@\\xab_\\xe9|8\\xf5\\x81@\\x981\\x05k\\xdc\\xeb\\x81@\\xab\\xb50\\x0bM1\\x82@\\xfc\\x88_\\xb1\\xe6V\\x82@^\\xbb\\xb4\\xe1\\xf0C\\x82@,cC7\\xfb:\\x82@\\xd9\\xearJ\\x804\\x82@;s\\x0f\\t\\x9f!\\x82@DO\\xca\\xa4\\xe6\\x0e\\x82@\\x02\\xbb\\x9a<\\x05\\xd8\\x81@_\\xaf\\xb0\\xe0\\x9e\\xc9\\x81@\\xa6&\\xc1\\x1b\\xd2\\xdc\\x81@\\xef\\x8c\\xb6*\\xa9\\n\\x82@\\xcd\\xce\\xa2w\\x8a\\x0f\\x82@\\xe7\\x1afh\\xdc/\\x82@\\\\\\x02\\xf0O\\xa9P\\x82@H\\x19q\\x01\\xc8m\\x82@\\x83\\xa3\\xe4\\xd5\\x19(\\x82@$\\xbb\\xd22\\xd28\\x82@\\x1f\\xbd\\xe1>\\xd2*\\x82@\\xcb\\x0e\\xf1\\x0f\\xfb\\xfc\\x81@_`V(\\xd2\\xe8\\x81@\\xe5f\\xb8\\x01\\x9f\\x1f\\x82@\\\\qqT.F\\x82@CV\\xb7z.j\\x82@ ]lZ\\xa9\\xa0\\x82@\\\\\\xe7\\xdf.\\xfbZ\\x82@\\xb3\"j\\xa2\\x0f)\\x82@.7\\x18\\xea\\xf0_\\x82@\\xce\\xa2w*\\x80\\xf8\\x81@\\x8f\\xe4\\xf2\\x1f\\xd2\\x08\\x82@\\xcf\\xdd\\xae\\x97\\xe6\\x02\\x82@\\xdb\\xfe\\x95\\x95\\xe6\\n\\x82@\\xe7\\xffUG.\\xc2\\x81@;Q\\x12\\x12\\xa9\\xd0\\x81@:=\\xef\\xc6B\\xfa\\x81@\\xe5\\xf0I\\'\\xd2\\n\\x82@Xq\\xaa\\xb5\\xf0\\x9d\\x81@x,\\xb6I\\x05\\xe4\\x81@\\r\\xe1\\x98e\\x0f\\x87\\x81@\\x85\\xd0A\\x97\\xf0\\x03\\x81@\\xef\\x1e\\xa0\\xfb\\xb2\\xa9\\x80@\\xe9\\x9b4\\r\\x8a\\xcf\\x80@\\xc5X\\xa6_B\\x90\\x80@*\\xffZ^\\x19d\\x80@\\xff>\\xe3\\xc2\\xc1\\xf2\\x7f@\\x8c\\xf6x!\\xbdF\\x80@\\xea\\xea\\x8e\\xc5Vt\\x80@LN\\xed\\x0c\\xb3\\xa5\\x80@&r\\xc1\\x19\\xdc\\xff\\x80@3\\xa7\\xcbbB\\xde\\x80@I\\xbaf\\xf2-\\xe6\\x80@\\x1c`\\xe6;8\\'\\x81@6\\x07\\x08\\xe6\\xa8*\\x81@V\\x0cW\\x07\\x802\\x81@k\\xd5\\xae\\t\\xa9x\\x81@W\\xec/\\xbb\\xc7Y\\x81@\\x10Z\\x0f_\\xe6P\\x81@\\xaa\\x98J?a\\x0f\\x81@\\xa1K8\\xf4V\\xf0\\x80@\\xaa\\xb8q\\x8b\\x19\\xe8\\x80@\\xec\\xfbp\\x90\\xf0\\x1b\\x81@a\\xa8\\xc3\\nW2\\x81@)a\\xa6\\xed\\x7f\\x1a\\x81@a\\xc8\\xeaV\\x0f\\x0b\\x81@?\\xc3\\x9b58\\x03\\x81@\\x07\\x9c\\xa5d\\x19\\xc4\\x80@N\\x0e\\x9ftB\\xb8\\x80@{\\x88Fw\\xf0\\xc7\\x80@\\x95\\x0fA\\xd5\\xa8\\xb6\\x80@\\x1d\\xaf@\\xf4\\x04\\xcc\\x80@\\xde\\x90F\\x05.\\xda\\x80@3\\xe2\\x02\\xd0\\xa8\\xe8\\x80@%\\xcd\\x1f\\xd3\\xfa\\xe2\\x80@\\xf2>\\x8e\\xe6\\xa8\\xee\\x80@\\xd7\\xfc\\xf8Kk\\xae\\x80@\\xf6&\\x86\\xe4\\x04\\xae\\x80@\\x07\\x06\\x10>\\x94\\x9a\\x80@d\\x06*\\xe3\\x7f\\xca\\x80@\\xe0\\x13\\xebT\\x19j\\x80@\\xf9\\x9f\\xfc\\xdd\\xdbw\\x80@\\xc7\\x9d\\xd2\\xc1\\xfa\\xaa\\x80@v\\xfe\\xed\\xb2\\x7fp\\x80@\\x96>tA\\xbd\\x82\\x80@\\xb1\\x19\\xe0\\x82L5\\x80@MG\\x007k\\x0e\\x80@\\xe2!\\x8c\\x9fF\\xf6~@\\'6\\x1f\\xd7F\\x8e\\x7f@\\'l?\\x19\\xa3\\xf1\\x7f@\\xa5gz\\x89\\xd1\"\\x80@\\xb14\\xf0\\xa3\\xfaf\\x80@\\x05\\x8d\\x99D\\xbd\\x94\\x80@\\xb0\\xe5\\x95\\xeb-\\x86\\x80@7\\xa5\\xbcVB\\xb0\\x80@\\xb8r\\xf6\\xce\\xa8\\x92\\x80@7\\x00\\x1b\\x10a\\x93\\x80@\\x11\\x18\\xeb\\x1b8s\\x80@\\x1e\\x19\\xab\\xcd\\x7ff\\x80@\\xd6p\\x91{\\xfa\\x0e\\x80@\\xf0\\xc2\\xd6le_\\x7f@\\xd66\\xc5\\xe3\\xa2Q\\x7f@\\xd2\\x18\\xad\\xa3\\xeaj\\x7f@\\xeb\\xae\\xec\\x82\\xc1\\x02\\x7f@6\\xc9\\x8f\\xf8\\xd5\\xc8~@\\x9cJ\\x06\\x80\\xea\\x02\\x7f@\\x14\\xe6=\\xce\\xf4M\\x7f@\\x1b)[$\\xad\\\\\\x7f@\\xa7\\xcd8\\rQ\\xc1\\x7f@\\tV\\xd5\\xcbo\\xae\\x7f@\\xde\\xc9\\xa7\\xc7V0\\x80@\\xbe\\xdaQ\\x9c#\\xb3\\x80@\\x014J\\x97\\x9e\\xdf\\x80@\\xce\\xe0\\xef\\x17\\xb3\\xb9\\x80@\\xc6\\xa7\\x00\\x18\\x0f5\\x80@\\x12c\\x99~\\t\\xe0\\x7f@A\\x82\\xe2\\xc7\\x98\\xea\\x7f@\\xac\\xe7\\xa4\\xf7-\\xb4\\x80@\\xb1\\xd9\\x91\\xea\\xdb\\x83\\x80@gDio\\xf0\\x89\\x80@\\x1b\\xb9nJ\\x19V\\x80@\\xe1\\xd3\\x9c\\xbc\\xa8|\\x80@)\\xd0\\'\\xf2\\x04\\x98\\x80@\\xf4\\x17z\\xc4\\xa8~\\x80@\\xddzM\\x0f\\x8a\\xc7\\x80@\\xbc\\xcbE|\\xc7\\xbf\\x80@|C\\xe1\\xb3u\\xf7\\x80@V\\xd1\\x1f\\x9a\\x19(\\x81@\\xf4m\\xc1R\\xbd\\xf6\\x80@\\xed\\xefl\\x8f\\x9e\\xdd\\x80@\\xdf\\xdf\\xa0\\xbd\\xfa\\xf6\\x80@\\xf5\\x12c\\x99\\x9e\\xd7\\x80@\\xef\\xe3h\\x8eL\\x9f\\x80@\\xedJ\\xcbH\\xbd\\xc0\\x80@\\xf5H\\x83\\xdb\\xfa\\xfe\\x80@`>Y1\\xdc[\\x81@>\\xea\\xafW8s\\x81@\\x9d\\xd4\\x97\\xa5\\xbd\\xda\\x81@\\xa90\\xb6\\x10$\\xed\\x81@]\\xc0\\xcb\\x0c\\xfb\\xea\\x81@\\xd7J\\xe8.\\xa9\\xfa\\x81@\\xd3\\xa0h\\x1e\\x80\\xbd\\x81@\\xcf\\x87g\\t\\xd2\\xc6\\x81@\\xa8\\xdf\\x85\\xad\\x19X\\x81@=\\xa0l\\xcau9\\x81@K\\xb08\\x9c\\x19\\\\\\x81@\\xe5\\xees|\\x94\\x1a\\x81@?\\x8fQ\\x9e\\x19T\\x81@\\xa1\\x86oa\\xbd6\\x81@\\x85&\\x89%\\x05|\\x81@\\x1a\\xa7!\\xaa\\xf0o\\x81@\\xb8t\\xccy\\xe6\\x82\\x81@b->\\x05\\x80v\\x81@v\\xc2Kp\\x8a\\xd1\\x81@\\x98J?\\xe1Lv\\x81@\\xb9\\xde6SaY\\x81@\\xe7s\\xeev\\xbd\"\\x81@o\\x98h\\x90B@\\x81@KZ\\xf1\\r\\x05 \\x81@\\xf5\\xb7\\x04\\xe0\\x7f\\xf4\\x80@\\xad\\x16\\xd8cB\\xbc\\x80@;oc\\xb3#\\xc6\\x80@f\\xfa%\\xe2-\\xc8\\x80@\\x87\\xa4\\x16J\\xe6\\xec\\x80@I\\x10\\xae\\x80B\\xe6\\x80@\\x94O\\x8fm\\x19\\xe0\\x80@`\\xad\\xda5a\\xd9\\x80@K\\x8e;\\xa5#\\x93\\x80@\\x89\\xb3\"jB\\xa4\\x80@\\xd7\\xfc\\xf8Kk\\xae\\x80@&\\xe6YIk`\\x80@\\xd5\\xed\\xec+\\x0f\\xbb\\x80@\\xa4\\x89w\\x80\\xc7\\xaf\\x80@;\\xe5\\xd1\\x8d\\xf0\\xda\\x80@?9\\n\\x10\\x05\\x18\\x81@\\x0bH\\xfb\\x1f\\x80\\xa8\\x81@xE\\xf0\\xbf\\xf5Z\\x81@\\x12\\x84+\\xa0pM\\x81@\\xfe\\xf0\\xf3\\xdf\\xa3(\\x81@\\x0ef\\x13`\\xb8\\xca\\x80@\\xecl\\xc8?3\\xcf\\x80@t\\'\\xd8\\x7f=\\xe6\\x80@\\x8a\\xc9\\x1b`f\\x96\\x80@\\x8c\\xd8\\'\\x80\\xc2a\\x80@v6\\xe4\\x9f\\x99\\x95\\x80@\\x8c\\xd8\\'\\x80\\xc2\\xd1\\x80@v6\\xe4\\x9f\\x99\\xbd\\x80@zT\\xfc\\xdfQ\\x88\\x80@xE\\xf0\\xbf\\xf5\\x8c\\x80@\\xecl\\xc8?3\\xd3\\x80@\\x14\\x937\\xc0\\xcc\\xae\\x80@\\x8a\\xc9\\x1b`f\\xa2\\x80@g\\xd0\\xd0?\\xe1\\xca\\x80@!\\xea>\\x00)\\xda\\x80@\\x10u\\x1f\\x80\\x14\\xf4\\x80@g\\xd0\\xd0?\\xe1\\xe0\\x80@\\xee{\\xd4_\\x8f\\xa2\\x80@zT\\xfc\\xdfQ\\xde\\x80@t\\'\\xd8\\x7f=\\xde\\x80@g\\xd0\\xd0?\\xe1\\xa0\\x80@\\xf0\\x8a\\xe0\\x7f\\xeb\\xaf\\x80@\\x12\\x84+\\xa0p\\xd9\\x80@\\x9b>;\\xe0z\\xe2\\x80@v6\\xe4\\x9f\\x99\\xc5\\x80@\\xfe\\xf0\\xf3\\xdf\\xa3\\xaa\\x80@\\xfe\\xf0\\xf3\\xdf\\xa3v\\x80@e\\xc1\\xc4\\x1f\\x85u\\x80@e\\xc1\\xc4\\x1f\\x85\\xc5\\x80@g\\xd0\\xd0?\\xe1\\xb4\\x80@\\xfe\\xf0\\xf3\\xdf\\xa3\\xa2\\x80@v6\\xe4\\x9f\\x99y\\x80@\\xecl\\xc8?3\\x81\\x80@\\x10u\\x1f\\x80\\x14\\x8a\\x80@\\xdf\\x15\\xc1\\xff\\xd6\\xc5\\x80@e\\xc1\\xc4\\x1f\\x85\\xc5\\x80@e\\xc1\\xc4\\x1f\\x85\\xd1\\x80@\\xdf\\x15\\xc1\\xff\\xd6\\xe3\\x80@\\x0ef\\x13`\\xb8\\xce\\x80@\\xdf\\x15\\xc1\\xff\\xd6\\xb9\\x80@e\\xc1\\xc4\\x1f\\x85\\x9d\\x80@!\\xea>\\x00)L\\x80@\\x10u\\x1f\\x80\\x14D\\x80@\\x0ef\\x13`\\xb8N\\x80@\\xecl\\xc8?3[\\x80@g\\xd0\\xd0?\\xe1V\\x80@!\\xea>\\x00)h\\x80@\\xfe\\xf0\\xf3\\xdf\\xa3&\\x80@\\x12\\x84+\\xa0pE\\x80@\\x88\\xba\\x0f@\\n\\x91\\x80@\\x8a\\xc9\\x1b`f\\x14\\x81@\\x14\\x937\\xc0\\xcc\\x88\\x81@\\x8c\\xd8\\'\\x80\\xc2\\x81\\x81@\\x14\\x937\\xc0\\xcc\\x1e\\x82@\\x12\\x84+\\xa0p\\x07\\x85@!\\xea>\\x00)\\xb8\\x84@\\x8a\\xc9\\x1b`f\\xb2\\x84@\\x14\\x937\\xc0\\xcc\\xb0\\x84@t\\'\\xd8\\x7f=\"\\x84@\\x9b>;\\xe0z|\\x83@\\x10u\\x1f\\x80\\x14\\x9a\\x83@\\x00\\x00\\x00\\x00\\x00\\xa0\\x83@\\x12\\x84+\\xa0p\\xbf\\x83@\\x0ef\\x13`\\xb8\\xc4\\x83@g\\xd0\\xd0?\\xe1\\x8c\\x83@\\x86\\xab\\x03 \\xae\\xb9\\x83@\\x00\\x00\\x00\\x00\\x00\\xaa\\x83@t\\'\\xd8\\x7f=\\x1e\\x84@\\x12\\x84+\\xa0p\\x15\\x84@\\x8a\\xc9\\x1b`f\\xda\\x83@\\xdf\\x15\\xc1\\xff\\xd6\\xcd\\x83@t\\'\\xd8\\x7f=\\xa6\\x84@\\x9b>;\\xe0z\\x9c\\x84@v6\\xe4\\x9f\\x99\\x83\\x84@xE\\xf0\\xbf\\xf5\\x88\\x84@xE\\xf0\\xbf\\xf5\\xa6\\x84@\\x88\\xba\\x0f@\\n\\x81\\x84@\\xecl\\xc8?3\\xa7\\x84@\\xfe\\xf0\\xf3\\xdf\\xa36\\x84@\\xdf\\x15\\xc1\\xff\\xd6#\\x83@g\\xd0\\xd0?\\xe1l\\x82@\\x9b>;\\xe0z0\\x82@xE\\xf0\\xbf\\xf5\\xa4\\x83@g\\xd0\\xd0?\\xe1\\xec\\x83@\\x88\\xba\\x0f@\\n\\xb3\\x83@\\x00\\x00\\x00\\x00\\x00R\\x83@zT\\xfc\\xdfQ\\xae\\x82@\\x0ef\\x13`\\xb82\\x83@\\x00\\x00\\x00\\x00\\x00\\xf2\\x82@v6\\xe4\\x9f\\x99\\xc5\\x82@\\xf2\\x99\\xec\\x9fG5\\x83@\\x8c\\xd8\\'\\x80\\xc2%\\x83@\\x14\\x937\\xc0\\xccj\\x83@!\\xea>\\x00)\\x8e\\x83@\\xf0\\x8a\\xe0\\x7f\\xeby\\x83@\\x99//\\xc0\\x1e\\xd9\\x83@\\xdf\\x15\\xc1\\xff\\xd6\\xdf\\x83@\\xecl\\xc8?3\\x17\\x84@\\x00\\x00\\x00\\x00\\x00\\xaa\\x83@e\\xc1\\xc4\\x1f\\x85\\xdb\\x83@e\\xc1\\xc4\\x1f\\x85u\\x83@g\\xd0\\xd0?\\xe1r\\x83@\\x8a\\xc9\\x1b`f\\x8e\\x83@\\x8c\\xd8\\'\\x80\\xc2\\x1f\\x83@\\x99//\\xc0\\x1e\\x97\\x82@\\x8c\\xd8\\'\\x80\\xc2\\x97\\x82@\\x02\\x0f\\x0c \\\\\\x03\\x83@zT\\xfc\\xdfQ\\x1a\\x83@\\xf2\\x99\\xec\\x9fG\\x97\\x83@\\x8c\\xd8\\'\\x80\\xc2\\x0b\\x84@e\\xc1\\xc4\\x1f\\x85+\\x84@g\\xd0\\xd0?\\xe1\\x12\\x84@\\xf2\\x99\\xec\\x9fG\\xf9\\x83@g\\xd0\\xd0?\\xe1\\x1c\\x84@\\x02\\x0f\\x0c \\\\5\\x84@\\x8a\\xc9\\x1b`fb\\x84@\\xf2\\x99\\xec\\x9fGY\\x84@\\xf0\\x8a\\xe0\\x7f\\xeb\\xad\\x84@v6\\xe4\\x9f\\x99\\xb1\\x84@\\x14\\x937\\xc0\\xcc\\xd0\\x84@t\\'\\xd8\\x7f=R\\x84@g\\xd0\\xd0?\\xe1\\x14\\x84@zT\\xfc\\xdfQ^\\x84@\\x00\\x00\\x00\\x00\\x00\\xf0\\x85@t\\'\\xd8\\x7f=F\\x86@\\xf0\\x8a\\xe0\\x7f\\xeb#\\x86@v6\\xe4\\x9f\\x99G\\x86@\\x02\\x0f\\x0c \\\\g\\x86@\\x9b>;\\xe0z6\\x86@g\\xd0\\xd0?\\xe1\\x88\\x86@\\xf2\\x99\\xec\\x9fG\\x91\\x86@g\\xd0\\xd0?\\xe1\\xc0\\x86@\\x00\\x00\\x00\\x00\\x00\\xda\\x86@\\x10u\\x1f\\x80\\x14\\xee\\x86@\\x99//\\xc0\\x1e\\xa7\\x86@\\xee{\\xd4_\\x8f\\xc2\\x86@\\xecl\\xc8?3\\xfb\\x86@\\xdf\\x15\\xc1\\xff\\xd6\\xd9\\x86@\\x00\\x00\\x00\\x00\\x00h\\x86@\\x86\\xab\\x03 \\xae\\xc7\\x86@\\x8a\\xc9\\x1b`f\\xaa\\x86@\\x00\\x00\\x00\\x00\\x00 \\x87@\\xf2\\x99\\xec\\x9fG\\x13\\x87@\\x14\\x937\\xc0\\xcc\\xa4\\x87@\\xdf\\x15\\xc1\\xff\\xd6\\x9f\\x87@t\\'\\xd8\\x7f=b\\x87@\\xecl\\xc8?3a\\x87@\\x10u\\x1f\\x80\\x14r\\x87@\\x14\\x937\\xc0\\xcc4\\x87@zT\\xfc\\xdfQ\\xf8\\x87@\\x88\\xba\\x0f@\\n\\xd3\\x87@zT\\xfc\\xdfQ\\x84\\x87@\\x9b>;\\xe0z\\xf6\\x87@\\x00\\x00\\x00\\x00\\x00\\xda\\x87@xE\\xf0\\xbf\\xf5\\xd2\\x87@g\\xd0\\xd0?\\xe1|\\x87@\\x86\\xab\\x03 \\xaek\\x87@xE\\xf0\\xbf\\xf5\\x16\\x87@!\\xea>\\x00)^\\x87@\\xecl\\xc8?3;\\x87@\\x0ef\\x13`\\xb8\\xb0\\x87@\\x12\\x84+\\xa0pk\\x87@\\x9b>;\\xe0z\\x1a\\x87@!\\xea>\\x00)^\\x87@\\x00\\x00\\x00\\x00\\x00p\\x87@\\x9b>;\\xe0zr\\x87@\\xecl\\xc8?3c\\x87@\\x10u\\x1f\\x80\\x14\\xd4\\x87@\\x14\\x937\\xc0\\xccD\\x88@\\x00\\x00\\x00\\x00\\x00\\x18\\x88@\\x88\\xba\\x0f@\\n\\xb7\\x87@\\x0ef\\x13`\\xb8.\\x87@\\xfe\\xf0\\xf3\\xdf\\xa34\\x87@xE\\xf0\\xbf\\xf5<\\x87@\\x99//\\xc0\\x1e\\xb3\\x86@\\x8c\\xd8\\'\\x80\\xc2S\\x86@t\\'\\xd8\\x7f=`\\x86@\\xee{\\xd4_\\x8f\\xb0\\x86@\\x9b>;\\xe0z\\xe4\\x85@\\x8c\\xd8\\'\\x80\\xc2U\\x86@v6\\xe4\\x9f\\x99\\xb3\\x85@zT\\xfc\\xdfQ\\xee\\x85@v6\\xe4\\x9f\\x99\\xd3\\x85@\\x0ef\\x13`\\xb8\\x14\\x86@\\x00\\x00\\x00\\x00\\x00\\xaa\\x86@\\x02\\x0f\\x0c \\\\=\\x86@zT\\xfc\\xdfQH\\x86@\\xf0\\x8a\\xe0\\x7f\\xeb\\xdf\\x85@\\x86\\xab\\x03 \\xae\\xd7\\x86@v6\\xe4\\x9f\\x997\\x87@\\x00\\x00\\x00\\x00\\x00\\x80\\x87@\\xecl\\xc8?3\\xe5\\x87@v6\\xe4\\x9f\\x99\\xb7\\x86@\\x10u\\x1f\\x80\\x14 \\x86@\\xee{\\xd4_\\x8f\\\\\\x85@\\xf0\\x8a\\xe0\\x7f\\xebU\\x85@g\\xd0\\xd0?\\xe10\\x85@xE\\xf0\\xbf\\xf5`\\x85@g\\xd0\\xd0?\\xe1X\\x85@\\xecl\\xc8?3S\\x85@\\x00\\x00\\x00\\x00\\x00\\x98\\x85@\\xecl\\xc8?3#\\x86@\\x14\\x937\\xc0\\xcc\\xca\\x85@\\xf2\\x99\\xec\\x9fG\\xe7\\x85@\\x86\\xab\\x03 \\xae\\x13\\x86@\\x14\\x937\\xc0\\xcc\\xbe\\x85@\\x9b>;\\xe0z\\xdc\\x85@\\x00\\x00\\x00\\x00\\x00\\x0e\\x86@\\xee{\\xd4_\\x8f\\x08\\x86@!\\xea>\\x00)\\xce\\x85@\\x9b>;\\xe0zv\\x86@\\x14\\x937\\xc0\\xccv\\x86@\\x02\\x0f\\x0c \\\\C\\x86@\\x99//\\xc0\\x1e7\\x86@\\xf2\\x99\\xec\\x9fG\\xb9\\x85@\\x8c\\xd8\\'\\x80\\xc2\\xaf\\x85@\\xf0\\x8a\\xe0\\x7f\\xeb\\t\\x86@\\xee{\\xd4_\\x8fF\\x86@\\xee{\\xd4_\\x8f\\xb6\\x86@\\xf0\\x8a\\xe0\\x7f\\xeb\\xd3\\x86@\\xfe\\xf0\\xf3\\xdf\\xa3\\xc2\\x86@\\x0ef\\x13`\\xb8\\x00\\x87@t\\'\\xd8\\x7f=\\x0e\\x87@\\x14\\x937\\xc0\\xcc\\x0c\\x87@\\x0ef\\x13`\\xb80\\x87@\\x00\\x00\\x00\\x00\\x00&\\x87@\\x9b>;\\xe0z\\x10\\x87@\\x8a\\xc9\\x1b`f\\xfa\\x86@t\\'\\xd8\\x7f=\\xec\\x86@!\\xea>\\x00)F\\x87@t\\'\\xd8\\x7f=t\\x87@v6\\xe4\\x9f\\x99G\\x87@\\xf2\\x99\\xec\\x9fGo\\x87@zT\\xfc\\xdfQJ\\x87@\\x8a\\xc9\\x1b`f\\x0e\\x87@e\\xc1\\xc4\\x1f\\x85M\\x87@t\\'\\xd8\\x7f=\"\\x87@\\xecl\\xc8?3\\x19\\x87@\\x14\\x937\\xc0\\xcc\\x00\\x87@\\x0ef\\x13`\\xb88\\x87@\\x8c\\xd8\\'\\x80\\xc2}\\x87@v6\\xe4\\x9f\\x99\\x89\\x87@\\x00\\x00\\x00\\x00\\x00\\xb8\\x87@g\\xd0\\xd0?\\xe1\\xf4\\x87@\\x12\\x84+\\xa0p\\x8f\\x87@\\x02\\x0f\\x0c \\\\\\x85\\x87@\\x99//\\xc0\\x1e\\xb9\\x87@!\\xea>\\x00)v\\x86@\\xecl\\xc8?3\\x99\\x86@\\x99//\\xc0\\x1e!\\x86@\\x0ef\\x13`\\xb8\\x0e\\x86@!\\xea>\\x00)\\x98\\x85@\\x10u\\x1f\\x80\\x14\\xa8\\x85@\\x86\\xab\\x03 \\xae\\xd1\\x85@g\\xd0\\xd0?\\xe1\\xa2\\x85@v6\\xe4\\x9f\\x99\\xbd\\x85@\\x12\\x84+\\xa0p\\xeb\\x85@xE\\xf0\\xbf\\xf58\\x86@\\xecl\\xc8?3G\\x86@\\x12\\x84+\\xa0p\\x99\\x86@zT\\xfc\\xdfQZ\\x86@\\x9b>;\\xe0zJ\\x86@\\xfe\\xf0\\xf3\\xdf\\xa36\\x86@\\xf0\\x8a\\xe0\\x7f\\xebc\\x86@\\xdf\\x15\\xc1\\xff\\xd6\\x11\\x86@\\x88\\xba\\x0f@\\n\\x15\\x86@\\xee{\\xd4_\\x8f\\xe2\\x85@\\xf0\\x8a\\xe0\\x7f\\xeb-\\x86@\\xf0\\x8a\\xe0\\x7f\\xeb\\x01\\x86@\\x0ef\\x13`\\xb8\\x80\\x86@!\\xea>\\x00)\\xaa\\x86@xE\\xf0\\xbf\\xf5\\xa0\\x86@\\xf2\\x99\\xec\\x9fG\\xe5\\x86@\\x8c\\xd8\\'\\x80\\xc2\\xfd\\x86@\\xecl\\xc8?3\\xf1\\x86@\\xecl\\xc8?3\\xd3\\x86@\\x0ef\\x13`\\xb8\\x92\\x86@\\x8a\\xc9\\x1b`fd\\x86@\\xecl\\xc8?3e\\x86@t\\'\\xd8\\x7f=\\xc2\\x86@\\xfe\\xf0\\xf3\\xdf\\xa3\\xc4\\x86@\\xf2\\x99\\xec\\x9fG{\\x86@g\\xd0\\xd0?\\xe1r\\x86@!\\xea>\\x00)r\\x86@\\x02\\x0f\\x0c \\\\w\\x86@g\\xd0\\xd0?\\xe12\\x86@\\x8c\\xd8\\'\\x80\\xc2\\x9d\\x85@\\x86\\xab\\x03 \\xae\\xad\\x85@e\\xc1\\xc4\\x1f\\x85\\xbf\\x85@\\x86\\xab\\x03 \\xae\\xcb\\x85@xE\\xf0\\xbf\\xf5\\xee\\x85@\\x8c\\xd8\\'\\x80\\xc2\\x19\\x85@\\x10u\\x1f\\x80\\x14\\xe2\\x84@zT\\xfc\\xdfQ@\\x85@g\\xd0\\xd0?\\xe1`\\x85@\\x14\\x937\\xc0\\xcc\\xa0\\x85@\\x86\\xab\\x03 \\xae\\xd9\\x85@v6\\xe4\\x9f\\x99\\xb7\\x85@!\\xea>\\x00)\\xce\\x85@g\\xd0\\xd0?\\xe1\\xba\\x85@\\x88\\xba\\x0f@\\n\\r\\x86@\\x0ef\\x13`\\xb8X\\x86@\\x99//\\xc0\\x1e\\x85\\x86@\\xdf\\x15\\xc1\\xff\\xd6g\\x86@v6\\xe4\\x9f\\x99\\x87\\x86@\\x14\\x937\\xc0\\xcc~\\x86@t\\'\\xd8\\x7f=\\xee\\x86@\\x86\\xab\\x03 \\xae\\x07\\x87@e\\xc1\\xc4\\x1f\\x85)\\x87@\\x88\\xba\\x0f@\\n\\x15\\x87@\\xf0\\x8a\\xe0\\x7f\\xeb5\\x87@!\\xea>\\x00)\\x1e\\x87@\\x02\\x0f\\x0c \\\\\\x13\\x87@!\\xea>\\x00).\\x87@\\xf2\\x99\\xec\\x9fGO\\x87@zT\\xfc\\xdfQ\\x06\\x88@\\x88\\xba\\x0f@\\n\\'\\x88@\\xee{\\xd4_\\x8f\\x18\\x88@\\x12\\x84+\\xa0p)\\x88@g\\xd0\\xd0?\\xe1\\x1c\\x88@\\x8c\\xd8\\'\\x80\\xc2q\\x88@\\x10u\\x1f\\x80\\x14n\\x88@\\x10u\\x1f\\x80\\x14\\x82\\x88@\\x12\\x84+\\xa0p\\x85\\x88@\\x14\\x937\\xc0\\xcc\\x86\\x88@\\x8c\\xd8\\'\\x80\\xc2y\\x88@e\\xc1\\xc4\\x1f\\x85s\\x88@\\x99//\\xc0\\x1eI\\x88@\\xf2\\x99\\xec\\x9fG_\\x88@\\x00\\x00\\x00\\x00\\x00L\\x88@\\x02\\x0f\\x0c \\\\;\\x88@\\xecl\\xc8?3!\\x88@\\xfe\\xf0\\xf3\\xdf\\xa3 \\x88@\\x99//\\xc0\\x1e\\r\\x88@\\xf2\\x99\\xec\\x9fG\\x0b\\x88@zT\\xfc\\xdfQ\\x0c\\x88@\\xecl\\xc8?3!\\x88@\\x0ef\\x13`\\xb8\\x08\\x88@\\x8a\\xc9\\x1b`f\\xf8\\x87@t\\'\\xd8\\x7f=\\x06\\x88@\\x86\\xab\\x03 \\xae\\x1b\\x88@\\xfe\\xf0\\xf3\\xdf\\xa3`\\x88@\\x14\\x937\\xc0\\xccb\\x88@\\xee{\\xd4_\\x8f:\\x88@\\xf2\\x99\\xec\\x9fG\\xbd\\x87@!\\xea>\\x00)\\x08\\x88@e\\xc1\\xc4\\x1f\\x85\\xbd\\x87@\\xf0\\x8a\\xe0\\x7f\\xeb\\xd3\\x87@\\x10u\\x1f\\x80\\x14\\x1e\\x88@\\x88\\xba\\x0f@\\n\\x07\\x88@v6\\xe4\\x9f\\x99\\xed\\x87@\\xf2\\x99\\xec\\x9fG\\x1b\\x88@\\x8c\\xd8\\'\\x80\\xc2A\\x88@\\x86\\xab\\x03 \\xae\\x99\\x88@\\xecl\\xc8?3\\x97\\x88@\\x86\\xab\\x03 \\xae1\\x88@\\x10u\\x1f\\x80\\x14x\\x88@\\x9b>;\\xe0zl\\x88@\\x10u\\x1f\\x80\\x148\\x88@zT\\xfc\\xdfQJ\\x88@\\x9b>;\\xe0z$\\x88@\\x12\\x84+\\xa0pC\\x88@\\x8c\\xd8\\'\\x80\\xc2C\\x88@g\\xd0\\xd0?\\xe1F\\x88@\\xfe\\xf0\\xf3\\xdf\\xa38\\x88@e\\xc1\\xc4\\x1f\\x85\\x8f\\x88@\\xee{\\xd4_\\x8fx\\x88@\\x99//\\xc0\\x1e\\x91\\x88@e\\xc1\\xc4\\x1f\\x85Q\\x88@t\\'\\xd8\\x7f=T\\x88@\\x86\\xab\\x03 \\xae_\\x88@\\x10u\\x1f\\x80\\x14\\xda\\x88@\\x00\\x00\\x00\\x00\\x00\\x0c\\x89@\\x8c\\xd8\\'\\x80\\xc2\\xe7\\x88@xE\\xf0\\xbf\\xf5\\xfa\\x88@\\x1a\\x1d\\x90\\x84}S\\\\@&8\\xf5\\x81\\xe4\\xfb[@\\xcc\\x0e\\xf1\\x0f[\\xcd[@\\xcc*l\\x06\\xb8\\xb4[@&8\\xf5\\x81\\xe4\\xfb[@\\xbb\\xcf\\xf1\\xd1\\xe2\\xb0[@\\xcaR\\xeb\\xfdF\\xe9[@\\x07\\xee@\\x9d\\xf2\\xd9[@\\xc3\\x0b\"R\\xd3K\\\\@=\\xf2\\x07\\x03\\xcf.\\\\@\\xa52\\xc5\\x1c\\x04\\xb0\\\\@\\x8f\\xc3`\\xfe\\n\\xdb[@\\xbd;2V\\x9b\\x96[@\\xd8\\xd4yT\\xfc\\xd6Z@\\x87\\xab\\x03 \\xee\\xf8Z@\\x9b\\x89\\xe9B\\xac\\xe4Z@\\x93\\xe6\\x8fim\\x04[@g\\xa1\\x9d\\xd3,wZ@\\r4\\x9fs\\xb7,Z@\\x06\\x81\\x95C\\x8b\\xa9Z@\\xbfB\\xe6\\xca\\xa0\\xd8Z@\\xb6\\xbb\\x07\\xe8\\xbe\\xdfZ@\\x03A\\x80\\x0c\\x1dNZ@\\xbaN#-\\x95jZ@\\xe7\\x87\\x11\\xc2\\xa3.Z@\\xb2i\\xa5\\x10\\xc8wZ@@\\xdc\\xd5\\xab\\xc8aZ@\\xaa%\\x1d\\xe5`\\x94Z@}\\xcc\\x07\\x04:\\xa3Z@M\\xf8\\xa5~\\xde\\xe6Z@f\\xfb\\x90\\xb7\\\\#[@\\x92\\x975\\xb1\\xc0t[@\\xf7V$&\\xa8R[@\\x06\\x86\\xacn\\xf5?[@\\xaa\\xb0\\x19\\xe0\\x82*[@\\x0f\\xb3\\x97m\\xa7h[@o(|\\xb6\\x0eL[@\\xacW\\x91\\xd1\\x01Q[@\\x82n/i\\x8c\\x9e[@O\\x04q\\x1eN_[@:Cq\\xc7\\x9bA[@\\xa8\\x8eUJ\\xcf8[@v\\x13|\\xd3\\xf4U[@[\\xee\\xcc\\x04\\xc3\\'[@\\xc9\\x929\\x96w\\xf8Z@\\x8f\\x8bj\\x11Q\\xfcZ@>\\xad\\xa2?4i[@H\\xc0\\xe8\\xf2\\xe6{[@\\x07\\xce\\x19Q\\xdau[@#\\xf3\\xc8\\x1f\\x0c\\xa4[@A\\xd5\\xe8\\xd5\\x00r[@5GV~\\x19\\x94[@\\x80\\x9fq\\xe1@o[@\\xc3\\xb9\\x86\\x19\\x1a~[@\\xb3&\\x16\\xf8\\x8a\\xca[@\\x96\\x01g)Y\\x9c[@\\xc7\\xa2\\xe9\\xecd\\xc3[@s4GV~\\xc4[@\\x16\\xbe\\xbe\\xd6\\xa5\\x9f[@\\x8f\\x1c\\xe9\\x0c\\x8c\\xa9[@\\x95`q8\\xf3\\x8c[@\\x95`q8\\xf3\\x8c[@\\x08\\x95\\xb8\\x8eq\\xc9[@\\xaf]\\xdapX\\xb2[@\\xed\\r\\xbe0\\x99\\x99[@\\x86\\xe9{\\r\\xc1i[@\\xee\\xae\\xb3!\\xff\\xa8[@\\xd6R@\\xda\\xff\\x92[@\\x1b\\x87\\xfa]\\xd8\\xb7[@\\xc2\\xc3\\xb4o\\xee1\\\\@\\xb2\\xed\\xb45\"\\x1e\\\\@(\\x83\\xa3\\xe4\\xd5\\x0f\\\\@j\\xda\\xc54\\xd3g\\\\@\\xa14\\xd4($\\xdc[@\\x10\\x01\\x87P\\xa5\\xb5[@\\x85\\xb0\\x1aKX\\xbd[@\\x17\\x0c\\xae\\xb9\\xa3\\xec[@\\xc8\\x07=\\x9bU\\x15\\\\@8\\x10\\x92\\x05L\\xac[@X\\xfe|[\\xb0\\xf2[@g\\xd4|\\x95|\\x06\\\\@\\xe7\\xc95\\x052\\xb6[@\\xd5x\\xe9&1\\xd7[@\\xdf7\\xbe\\xf6\\xcc\\x85[@\\xc9\\xfd\\x0eE\\x81a[@\\xf0k$\\t\\xc2\\xc1Z@\\xc1\\x88}\\x02(]Z@\\xa4\\xfc\\xa4\\xda\\xa7C[@\\x8d\\x9c\\x85=\\xede[@3\\x88\\x0f\\xec\\xf8\\xa5\\\\@\\xeeDIH\\xa4c\\\\@\\xeb\\x8b\\x84\\xb6\\x9cS\\\\@\\xf8\\xe3\\xf6\\xcb\\'*\\\\@\\x1aL\\xc3\\xf0\\x11\\x0f\\\\@\\x0c\\x06\\xd7\\xdc\\xd1\\xd2[@\\xfc\\x01\\x0f\\x0c \\xbbZ@\\xbfyq\\xe2\\xab\\x14[@v\\x19\\xfe\\xd3\\r\\xdfZ@\\x93\\x8d\\x07[\\xec\\xe2Z@\\\\\\xcbd8\\x9e\\x9bZ@\\xf1\\x97\\x16\\xf5IJ[@\\xb2\\x86\\x8b\\xdc\\xd3\\x0b[@V^\\xf2?\\xf9\\xd8Z@m\\x1f\\xf2\\x96\\xab\\x82[@\\xde\\x19mU\\x12\\xa1[@\\x9e\\xd3,\\xd0\\xee\\x0c[@\\x17D\\xa4\\xa6]\\xcdZ@\\xc8\\xefm\\xfa\\xb3\\xb6Z@\\x04\\x1f\\x83\\x15\\xa7\\xc0Z@\\x9a\\xcd\\xe30\\x98\\x91[@K>v\\x17(\\xbc[@\\x94\\xa7\\xac\\xa6\\xeb\\xbe[@\\xcbiO\\xc99\\x06\\\\@\\x1e\\xa7\\xe8H.%\\\\@T@\\xda\\xff\\x00H\\\\@C\\xc8y\\xff\\x1f\\x1a\\\\@\\xdd\\xcc\\xe8G\\xc35\\\\@\\xa14\\xd4($\\xeb[@\\x83p\\x05\\x14\\xea\\x17\\\\@Kp\\xea\\x03\\xc9\\xad[@\\xfa\\xf2\\x02\\xec\\xa3r[@\\xe8-\\x1e\\xdes\\xd9[@3\\xc4\\xb1.n\\x02[@\\x9d,\\xb5\\xdeo\\xa9Z@Y\\xa2\\xb3\\xcc\"wZ@\\x80\\x83\\xf6\\xea\\xe3OZ@o\\xf0\\x85\\xc9T\\xa8Z@\\xc4\\x99_\\xcd\\x01l[@\\xf6\\xb7\\x04\\xe0\\x9f\\xa1[@\\xde\\x19mU\\x12\\xa1[@\\xa1\\xf6[;Q\\xc8[@\\xb8;k\\xb7],\\\\@TrN\\xec\\xa19\\\\@TrN\\xec\\xa19\\\\@\\xe4K\\xa8\\xe0\\xf0\\xa4[@\\xcbiO\\xc99\\x06\\\\@Z\\xbcX\\x18\"S[@n\\xf3\\xc6Ia\\x0c[@[\\xb3\\x95\\x97\\xfc\\x85[@\\x9f=\\x97\\xa9I\\xb8[@\\xa2(\\xd0\\'\\xf2\\xb9[@\\xf7\\xe0\\xb5K\\x1b\\xc6[@\\x1d\\x02G\\x02\\r\\xbb[@&\\xdflsc\\xa4[@\\x1b\\x17\\x0e\\x84d\\xb9[@\\xfd\\x87\\xf4\\xdb\\xd7;\\\\@\\x98\\x80_#I&\\\\@ \\x9e%\\xc8\\x08X\\\\@\\xa868\\x11\\xfdv\\\\@\\x13~\\xa9\\x9f7=\\\\@\\xa2\\xd5\\xc9\\x19\\x8a\\xa4\\\\@\\xf8\\x8an\\xbd\\xa6\\x9b\\\\@H\\xe0\\x0f?\\xff+\\\\@\\xcap<\\x9f\\x01\\xd7[@\\x85\\xebQ\\xb8\\x1e\\xbf[@\\xe0\\xda\\x89\\x92\\x90\\xb9[@\\xeb\\xc3z\\xa3V\\xdf[@\\xd5\\x94d\\x1d\\x8e\\x13\\\\@\\x1bb\\xbc\\xe6U\\xf8[@E\\xa0\\xfa\\x07\\x91\\xaa[@=\\xb6e\\xc0Yq[@\\xa7%VF#\\x1a[@v\\xfd\\x82\\xdd\\xb0.[@:\\xe6<c_\\xa4Z@@\\x88d\\xc8\\xb1\\x10[@+S\\xccA\\xd0\\xc6Z@\\x1f\\xa5\\x12\\x9e\\xd0\\xb7Z@\\xed\\x82\\xc15wJ[@\\x0b&\\xfe(\\xea![@\\x8d$A\\xb8\\x02\\xaf[@\\x82\\xe6s\\xeevT[@)\\x94\\x85\\xaf\\xaf[[@\\xf2\\x94\\xd5t=k[@\\xa5\\xa1F!\\xc9\\xc5[@\\x83\\x19S\\xb0\\xc6\\x1f\\\\@\\x88\\xddw\\x0c\\x8f\\xf5[@\\x95\\x84D\\xda\\xc6\\x15\\\\@\\x9f\\x95\\xb4\\xe2\\x1b#\\\\@Ze\\xa6\\xb4\\xfe?\\\\@\\x9aa\\xa3\\xac\\xdf\\x98\\\\@\\\\\\x8b\\x16\\xa0m\\xa3\\\\@\\xa4\\x8c\\xb8\\x004\\xc4\\\\@\\x91\\xed|?5\\x92\\\\@\\xe0N\"\\xc2\\xbf\\x19]@-\\x06\\x0f\\xd3\\xbe7]@\\x1f\\xd5\\xb0\\xdf\\x13E]@\\xb5s\\x9a\\x05\\xdae]@\\xe1\\xebk]j\\x1b]@^\\xbe\\xf5a\\xbdn]@J\\x9c\\x15Q\\x13Y]@\\x95`q8\\xf3\\xde]@\\xb9P\\xf9\\xd7\\xf2\\xe8]@\\x9f\\xe7O\\x1b\\xd5\\x19^@F\\x95a\\xdc\\r!^@\\x88\\xb89\\x95\\x0cN^@4\\xa0\\xde\\x8c\\x9aX^@$\\xcbI(}u^@\\xd1\\xc5\\xa6\\x95B\\xb4^@`z\\xfbs\\xd1\\x9b^@\\xd0\\xb8p $\\xfe^@f8\\x9e\\xcf\\x80\\xf3]@\\xf4\\x19PoF-^@\\xefU+\\x13~W^@E\\x0b\\xd0\\xb6\\x9aN^@\\xac\\xa8\\xc14\\x0cX^@4\\x16Mg\\'\\x86^@/R(\\x0b_\\xb0^@\\xb6/\\xa0\\x17\\xee\\x92^@R\\xech\\x1c\\xea(_@\\x8a\\xeb\\x18W\\\\\\x19_@\\x92XR\\xee>6_@\\xa2@\\x9f\\xc8\\x93H_@,\\xd4\\x9a\\xe6\\x1d\\xda_@\\xbb?\\xde\\xabV\\xe1_@\\xd2\\xe0\\xb6\\xb6\\xf0\\xeb_@T\\xe2:\\xc6\\x15\\xda_@\\x8e!\\x008\\xf6\\xf0_@\\xb7\\r\\xa3 x\\xb2_@\\xfb\\x04P\\x8c,T_@B\\x9c\\x87\\x13\\x98N_@\\xea\\x00\\x88\\xbbz\\x00_@\\xbc\\xee\\xadHL\\xf0^@\\xfa\\xb1I~\\xc4v_@~\\x1d8gD\\x9d_@K\\xe0\\xd6\\xdd<\\xb0_@\\x9e\\x07wg\\xed4_@\\xba\\xa2\\x94\\x10\\xac\\xc7_@p_\\x07\\xce\\x19]_@9\\x9a#+\\xbf$_@\\x94\\x12\\x82U\\xf5\\xd4^@d\\x07\\x95\\xb8\\x8ey_@\\xbc\\xcd\\x1b\\'\\x85\\xa4_@0\\x9f\\xac\\x18\\xae\\xaf_@\\xf8\\x86\\xc2g\\xeb\\x99_@D1y\\x03\\xccc_@\\x12\\xa1\\x11l\\\\\\x99_@v\\x1b\\xd4~ks_@\\x9eFZ*o\\x90_@s\\xf4\\xf8\\xbdMr_@\\xa1\\x88E\\x0c;\\xc8_@\\xe3\\xdd\\x91\\xb1\\xda\\x8a_@\\x88\\x9d)t^\\x81_@-\\n\\xbb(z\\x9a_@T\\xcb\\xd6\\xfa\"\\x7f_@\\x01\\x89&P\\xc4\\xc3_@\\xdf8)\\xcc{\\xcf_@Y\\xa2\\xb3\\xcc\"\\xcc_@\\xfb\\xccY\\x9fr\\xad_@\\xca\\xdeR\\xce\\x17\\xc2_@Ww,\\xb6I\\xef_@\\x98N\\xeb6\\xa8\\xf7_@l\\xd1\\x02\\xb4\\xad\\xfc_@\\x92sb\\x0fm\\x12`@2s\\x81\\xcb\\xe3\\x16`@\\xceqn\\x13n\\x06`@\\xcc\\xe9\\xb2\\x98X3`@\\xf1J\\x92\\xe7\\xfa\\x1e`@2s\\x81\\xcb\\xe3\\x16`@J~\\xc4\\xaf\\xd8\\x0c`@\\x85^\\x7f\\x12\\x9f?`@a\\xc8\\xeaV\\xcf7`@5\\xec\\xf7\\xc4\\xbaX`@\\xdc\\xb8\\xc5\\xfc\\xdcj`@\\nh\"lx\\xf7`@\\x01\\xde\\x02\\t\\x8a\\xfa`@O\\x93\\x19o+\\xf2`@\\xe5b\\x0c\\xaccea@-\\xd0\\xee\\x90\\xe2\\x97a@*r\\x88\\xb8\\xb9\\x8ca@\\xaa\\x99\\xb5\\x14\\x90\\x8da@\\xae\\x81\\xad\\x12\\xacYa@v\\xfc\\x17\\x08\\x82\\xa7a@\\xc1\\xc96p\\x07\\xd3a@)\\xe8\\xf6\\x92\\xc6\\xcba@\\x9a\\xd3e11\\xd2a@y>\\x03\\xeaM\\xdfa@\\xbf\\x9e\\xafY.\\xf6a@\\xf8q4G\\xd6*b@\\xc63h\\xe8\\x9f\\x03b@m\\x8es\\x9b\\xf0\\xf3a@\\xe9C\\x17\\xd47\\xeda@\\x9d\\x9d\\x0c\\x8e\\x92\\xdba@\\'0\\x9d\\xd6\\xed\\xd0a@\\x80\\xd5\\x91#\\x9d\\xe0a@Xni5$\\xf8a@\\xfbY,E\\xf2\\x08b@\\x00s-Z\\x00\\xb8a@\\xb7\\xd6\\x17\\tm\\x86a@\\xb96T\\x8c\\xf3\\x96a@\\xce\\x8a\\xa8\\x89>\\xc1a@f\\xa3s~\\n\\xb6a@\\x83\\x15\\xa7Z\\x8b\\x80a@\\xb8;k\\xb7\\xdd\\x85a@m\\x93\\x8a\\xc6\\xda\\xe2a@\\xbeM\\x7f\\xf6\\xa3\\xb4a@\\xd4|\\x95|l\\x7fa@\\xce\\x8a\\xa8\\x89>\\xc1a@\\xc3Kp\\xea\\x83%b@\\xff\\x94*Q\\xf6\\xb9a@`9B\\x06r\\xc5a@\\xa7\\xcd8\\rQ\\xa8a@\\xbbE`\\xac\\xefea@\\xe7\\xfb\\xa9\\xf1R\\xbd`@.8\\x83\\xbf_\\xde`@\\xe3\\xe2\\xa8\\xdcD\\x0ea@+\\x1ak\\x7fg@a@\\x00u\\x03\\x05^Ia@l\\x95`q8ta@\\x1d\\xe5`6\\x81\\x82a@\\x8a\\x00\\xa7wq\\xbea@\\\\\"\\x17\\x9c\\xc1\\xa7a@\\xd6\\xc8\\xae\\xb4\\x0c\\xd2a@\\x13\\x0b|E7\\xe6a@\\x0b\\xefr\\x11_\\xd7a@\\xa9\\xf7TN\\xfb\\xf8a@R+L\\xdfk\\xf8a@\\x835\\xce\\xa6#\\xf1a@\\xc58\\x7f\\x13\\x8a\\xf2a@\\xf2_ \\x08\\x10\\xfca@#H\\xa5\\xd8\\xd1\\xf2a@\\xd4\\x9c\\xbc\\xc8\\x04\\xf0a@\\xee&\\xf8\\xa6i\\xdca@\\xd4\\x9c\\xbc\\xc8\\x04\\xf0a@\\x9b\\x8e\\x00n\\x96\\x0cb@\\xe8/\\xf4\\x88Q/b@\\xaf\\ti\\x8d\\xc1\\'b@T\\xff \\x92\\xa1\\x18b@\\n\\xbei\\xfal\\x06b@V)=\\xd3Kib@U.T\\xfe5Xb@\\xe3\\x1b\\n\\x9f-ob@\\x1b\\xef\\x8e\\x8c\\xd5\\xa3b@\\xe3\\xe5\\xe9\\\\Q\\xafb@\\xa8\\xe1[X\\xb7\\xa9b@^H\\x87\\x87\\xb0\\xd5b@\\xa8\\xab;\\x16\\xdb\\xe9b@\\xf2\\'*\\x1b\\xd6\\xaab@\\x93\\x92\\x1e\\x86Vnb@\\xcc)\\x011\\x89\\x8fb@\\x19\\x00\\xaa\\xb8q\\x95b@\\x95,\\'\\xa1t\\xb9b@\\xb1\\xe1\\xe9\\x95\\xb2\\xa0b@\\x16\\xa2C\\xe0\\xc8\\xedb@\\xf2\\\\\\xdf\\x87\\x83\\xacb@\\xed\\xba\\xb7\"\\xb1\\x8eb@\\xf9\\xa5~\\xde\\xd4\\xbcb@G\\xe9\\xd2\\xbf$\\xbbb@\\x89\\xd1s\\x0b]\\xbfb@\\x12\\x81\\xea\\x1fD\\xb3b@1\\xb7{\\xb9\\xcf}b@\\x97vj.7vb@j1x\\x98vob@\\x81{\\x9e?m_b@\\x158\\xd9\\x06nhb@\\xc7+\\x10=\\xa9\\x90b@\\x7f0\\xf0\\xdc\\xfbMb@\\xa8\\x8b\\x14\\xca\\xc2@b@e\\xc5pu\\x80#b@\\x87\\xc3\\xd2\\xc0\\x0f\\x1bb@\\x81!\\xab[=\\xfda@n\\xfc\\x89\\xca\\x86\\x0fb@\\x0b\\xce\\xe0\\xef\\x97\\x1db@VId\\x1f\\xe4\\xeea@-\\x95\\xb7#\\x9c\\xeea@\\xecPMIV\\tb@\\xaa\\x9e\\xcc?\\xfa\\xd6a@\\x83\\xa2y\\x00\\x8b\\xe0a@\\x80\\r\\x88\\x10W\\x12b@\\x86V\\'g\\xa8\"b@\\x9a\\x0b\\\\\\x1ekDb@\\x8f\\xc4\\xcb\\xd395b@\\x87\\xfa]\\xd8\\x9aAb@\\x0f_&\\x8a\\x10$b@y\\xb10D\\xcekb@wg\\xed\\xb6\\x0b\\xafb@\\xf4\\xa7\\x8d\\xea\\xf4\\xbdb@\\xcar\\x12J_\\xdab@+\\xfb\\xae\\x08~.c@8\\xfa\\x98\\x0f\\x88Gc@`=\\xee[\\xad\\x87c@\\t\\xc7,{\\x12ec@\\x96\\xcd\\x1c\\x92Zec@\\xa5\\x16J&\\';c@\\x0e\\x0fa\\xfc\\xb4 c@\\x0e\\xa2\\xb5\\xa2M(c@$EdX\\xc5%c@r\\xbfCQ\\xa0Jc@\\xf5\\x11\\xf8\\xc3OCc@\\x18\\xd0\\x0bw\\xaeZd@\\x10\\nJ\\xd1\\xca.d@\\xac\\xc7}\\xab\\xf5Qd@\\xd4\\x0e\\x7fM\\xd6Yd@\\x98\\x12I\\xf420d@\\xef\\x8c\\xb6*\\x89\\x1ad@\\xfb\\xb0\\xde\\xa8\\x15\\xeec@\\x1b\\x9b\\x1d\\xa9\\xbe\\xfac@\\xa5\\xa3\\x1c\\xcc&\\xfcc@?\\xad\\xa2?4\\xddc@:A\\x9b\\x1c>\\x91c@\\x0b{\\xda\\xe1/\\xa7c@\\x96\\xd0]\\x12g\\xd8b@\\x88\\x870~\\x9a\\x02c@@i\\xa8Q\\xc8Xb@\\xcf\\x12d\\x04\\xd4\\xd4b@\\xc18\\xb8t\\xcc\\xf0a@4\\xf4Op1gb@j\\xba\\x9e\\xe8\\xba\\x90b@\\xba\\xf5\\x9a\\x1e\\x14\\x18c@1)>>\\xa1\\xe6b@5z5@i\\xedb@\\xfd\\xda\\xfa\\xe9?\\x15b@\\xf2B:<\\x84ca@\\xb0\\x93\\xfa\\xb24\\x8ca@)\\xcd\\xe6q\\x18#b@\\xadi\\xdeq\\nhb@\\x87\\xa7W\\xca\\xb2Fb@\\x98L\\x15\\x8cJ\\xabb@\\x8b\\x1b\\xb7\\x98\\x9f\\rc@\\xe6\\xae%\\xe4\\x83\\nc@c`\\x1d\\xc7\\x8f\\xf9b@\\x88-=\\x9a\\xea\\xccb@\\x02d\\xe8\\xd8Anb@p^\\x9c\\xf8j9b@\\xf0\\xa9\\x9c\\xf6\\x94wb@\\x9aa\\xa3\\xac_=b@\\xf3!\\xa8\\x1a\\xbd\\xcfa@\\xb9\\xff\\xc8th\\xeda@Hj\\xa1d\\xf2\\tb@\\x81\\xb0S\\xac\\x9aub@\\x1e\\x8a\\x02}\"\\xc6b@\\xba\\xf5\\x9a\\x1e\\x14\\x18c@\\xd8\\xd7\\xba\\xd4\\x08\\x1cc@\"\\xf8\\xdfJ\\xf6Hc@3k) \\xed\\x18c@\\xdc\\xa2\\xcc\\x06\\x99\\x9cb@\\xc0[ A\\xf1\\xb0b@2\\xca3/\\x07Cc@6\\xe5\\n\\xefr\\x9dc@\\xf78\\xd3\\x84\\xed\\x98c@\\xbc\\xce\\x86\\xfc\\xb3\\xc6c@\\xa5\\xa6]L3Mc@\\xbdR\\x96!\\x8e c@D\\xc2\\xf7\\xfe\\x86Ic@4J\\x97\\xfe%\\x85c@\\xc4\\x93\\xdd\\xcc\\xe8\\rd@|a2U\\xb0!d@\\xcc^\\xb6\\x9d6\\x99d@\\x08\\xc9\\x02&pkd@=\\xa0l\\xca\\x15\\x8bd@Y\\xc0\\x04n\\xdd\\x9ed@\\xec\\x13@1\\xb2\\x07e@G\\xc8@\\x9e]\\x98d@\\xcd\\x94\\xd6\\xdf\\x12\\xbfc@\\xadk\\xb4\\x1ch\\x94c@\\x83h\\xadhs\\x90c@\\xbaf\\xf2\\xcd6\\x0cd@S^+\\xa1\\xbb\\x1dd@\\xac\\xaf\\xae\\nT\\xe8c@\\x0cy\\x047\\xd2\\x15d@+.\\x8e\\xcaM\\x84d@Ic\\xb4\\x8e\\xaa\\xb0d@>Ab\\xbb\\xfb`d@s\\x81\\xcbcM\\x04d@\\xbdTl\\xcc\\xebLd@\\xc8\\xb46\\x8dm\\xacd@\\xc7\\r\\xbf\\x9bn\\x92d@\\xe9~NA\\xfe\\xacd@i\\x89\\x95\\xd1H\\xc0d@\\xaaz\\xf9\\x9d&2d@)\\xea\\xcc=\\xa4Qd@\\xbc=\\x08\\x01\\xf9\\xc3d@&VF#\\x1f\\xc3d@o\\xa2\\x96\\xe6\\xd6\\xead@\\x1d8gDi\\xaed@\\x92\\xd0\\x96s)\\x95d@\\xb4\\xac\\xfb\\xc7B\\x87d@\\x0cuX\\xe1\\x96\\x1cd@x\\xd3-;\\xc4\\x17d@\\x7f\\xdf\\xbfyq\\xb8c@\\xff\\x98\\xd6\\xa61\\x9fc@ \\xb4\\x1e\\xbeL1d@\\xc5\\xc9\\xfd\\x0eE\\rd@\\xec\\x15\\x16\\xdc\\x8f\\xd5d@\\x93\\xc8>\\xc8\\xb2\\xfed@\\xce\\xa9d\\x00\\xa8\\x04e@\\x18\\xcd\\xca\\xf6!&e@\\xdfp\\x1f\\xb9\\xb5ae@Q\\xbf\\x0b[3\\x81e@\\xe42nj ;e@\\x0e\\xa4\\x8bM\\xab\\x8fe@@k~\\xfc%Le@\\xb6IEc\\xed.e@\\xe4\\xdb\\xbb\\x06\\xfd\\xe9d@\\x13\\xb8u7\\xcf\\xc6d@\\x1b\\xf2\\xcf\\x0c\\xe2Wd@q:\\xc9V\\x97Dd@\\xb3b\\xb8:\\x00\\xc0d@UN{JN\\x1cd@\\'\\xc0\\xb0\\xfcy,d@f\\x156\\x03\\\\yd@\\x84};\\x89\\x08\\x7fd@,b\\xd8a\\xcccd@9(a\\xa6\\xed\\xa1d@\\xb9nJy\\xad`d@\\xc9\\x94\\x0fAU\\xa5d@6\\xb0U\\x82\\xc5\\x8fd@\\xc6\\xc1\\xa5c\\xcevd@,~SX\\xa9:d@\\x8b\\x89\\xcd\\xc7\\xb5\\x1fd@x\\xd3-;\\xc4\\x17d@\\x93\\xa7\\xac\\xa6k4d@> \\xd0\\x994\\x02d@\\xb9\\x1bDk\\xc5\\xdac@\\xe7\\x1c<\\x13\\x9a\\xf2c@\\x18~p>\\xf5\\x10d@\\xb4Y\\xf5\\xb9Z\\x01d@\\xc5s\\xb6\\x80P\\xe4d@\\x17,\\xd5\\x05\\xbc\\re@\\xc3\\x9c\\xa0M\\x0eEe@\\x99\\x13\\xb4\\xc9a?e@\"\\xa8\\x1a\\xbd\\x1a*e@\\xae\\x9c\\xbd3Z\\x1be@\\xee?2\\x1d:Ue@\\xb6-\\xcal\\x10Xe@${\\x84\\x9a\\xa1Xe@z\\xab\\xaeC\\xb59e@\\xf7u\\xe0\\x9c\\x91ue@\\xa85\\xcd;N^e@9\\xbaJwWme@\\xc0\\xd0#FOwe@\\x80\\xa0\\xdc\\xb6o|e@U\\x87\\xdc\\x0c7he@M\\xbc\\x03<\\xe9me@Q1\\xce\\xdf\\x84be@\\x10\\xac\\xaa\\x97_ce@\\xaf\\x99|\\xb3Mye@\\xb7E\\x99\\r\\xb2\\x84e@\\xf7\\xca\\xbcU\\xd7\\x83e@\\x04\\xe2u\\xfd\\x82\\x91e@\\x14\\xb1\\x88a\\x07\\xfce@\\xbb\\xd4\\x08\\xfdL\\x00f@\\x03%\\x05\\x16\\xc0\\xf9e@]\\xe2\\xc8\\x03\\x91\\x06f@\\x9a\\x9boD\\xf7\\xe2e@\\x03%\\x05\\x16\\xc0\\xf9e@n\\xa4l\\x914\\x1ef@\\x8b\\xfde\\xf7\\xe4Rf@\\x10\\x06\\x9e{\\x0f\\xf2e@6\\xc9\\x8f\\xf8\\x95\\x00f@\\xd0b)\\x92\\xaf:f@O\\x8e\\x02D\\xc1Qf@\\x14\\xb4\\xc9\\xe1\\x93\\\\f@\\x97\\xe1?\\xdd\\xc0\\xabf@z\\xaaCn\\x86\\xc6f@\\xf1J\\x92\\xe7\\xfa\\xeaf@\\x13\\x0e\\xbd\\xc5C\\xebf@\\xdch\\x00o\\x01\\xe3f@\\x835\\xce\\xa6#\\xb9f@\\xc6PN\\xb4\\xab\\xc5f@$\\xb9\\xfc\\x87t\\xdcf@\\xa8\\xc4u\\x8c+\\xdcf@\\xf1\\xf6 \\x04d\\x1dg@\\xb9\\xa7\\xab;\\x96\\x0cg@~\\x8d$A\\xb8\\x0fg@\\xa7\\xe6r\\x83\\xa1+g@\\x06\\xba\\xf6\\x05t6g@\\x02\\xdaV\\xb3\\xceMg@\\xc1T3k\\xa9Ng@B\\\\9{g\\xecf@\\x86\\x01K\\xae\\xe2\\xdbf@\\x1b\\xb8\\x03u\\xca\\xccf@\\xdce\\xbf\\xeet\\x82f@2\\xcdt\\xaf\\x93\\x89f@\\xdf\\xdd\\xca\\x12\\x9d\\xd7f@\\xd3\\xda4\\xb6\\xd7\\x8ff@\\xc2N\\xb1j\\x90\\x8df@\\xac\\xc6\\x12\\xd6F\\x14g@ \\xb4\\x1e\\xbe\\xccCf@\\x1d\\xc9\\xe5?$2f@\\xb6j\\xd7\\x84\\xb44f@\\x8c\\x11\\x89B\\xcb\\x18f@\\xb2\\xf5\\x0c\\xe1\\x18@f@q\\xc8\\x06\\xd2\\xc5\\xa5f@W\\x08\\xab\\xb1\\x04\\xdff@pvk\\x99\\x0c\\x02g@d\\x95\\xd23\\xbd\\tg@\\xb5\\xc7\\x0b\\xe9\\xf0#g@(\\x9c\\xddZ\\xa6%g@\\x86\\xad\\xd9\\xcaK\\x0eg@m\\xc9\\xaa\\x087\\xcef@\\xd7fc%\\xe6\\xaaf@]N\\t\\x88I\\x82f@e6\\xc8$#{f@\\xfc5Y\\xa3\\x1eif@]L3\\xddkyf@\\xb4\\xadf\\x9d\\xf1Gf@\\xb2H\\x13\\xef\\x80<f@\\x93\\xa6A\\xd1<Pf@,\\xee?2\\x9d\\x1bf@\\x012t\\xec \\xe2e@O\\xcb\\x0f\\\\\\xe5\\x17f@\\xda\\xa7\\xe31\\x03\\xfde@7\\x1c\\x96\\x06\\xfe\\xe8e@\\xad\\x16\\xd8c\"\\xe8e@\\xfc\\x8dv\\xdc\\xf0\\xb4e@%vmo\\xb7\\xf2e@\\xc8{\\xd5\\xca\\x84\\xbbe@\\x19\\xc9\\x1e\\xa1\\xe6\\x8ce@\\x10Z\\x0f_\\xa6\\x1fe@\\xd3\\xf6\\xaf\\xac4\\x10e@+O \\xec\\x14#e@\\xf0j\\xb93\\x13\\xace@7\\x8c\\x82\\xe0\\xf1\\xb8e@v\\xc5\\x8c\\xf0\\xf6\\xcce@\\xd9\\x91\\xea;\\xbf\\x81e@\\xf4\\xa5\\xb7?\\x17\\xbce@\\xc0\\x03\\x03\\x08\\x9f\\x92e@\\x8f\\xe4\\xf2\\x1f\\xd2\\xcbe@\\x1f\\x85\\xebQ8>f@\\xca\\x00P\\xc5\\r\\'f@\\x01P\\xc5\\x8d[9f@\\\\U\\xf6]\\x115f@\\xac\\x1d\\xc59\\xea\\x9ae@\\xac\\x1f\\x9b\\xe4\\xc7\\xa3e@2\\xe8\\x84\\xd0\\xc1\\x8be@\\xe2w\\xd3-\\xbbqe@m\\xe6\\x90\\xd4\\xc2\\x8fe@;\\x18\\xb1O\\x00be@_\\x0bzo\\x8c\\xd9e@W#\\xbb\\xd2\\xb2\\xe0e@R\\x0f\\xd1\\xe8\\x8e\\xe3e@\\x1a\\xc0[ A\\xd1e@\\xfeE\\xd0\\x98Ibe@\\x91y\\xe4\\x0f\\x860e@\\x83\\xf8\\xc0\\x8e\\xff\\xced@D\\xbd\\xe0\\xd3\\x1c\\xb2d@\\x10\\xb4\\x02CVtd@\\x8b\\xe0\\x7f+\\xd9\\xc7d@;n\\xf8\\xdd\\xf4\\xa4d@\\x13\\xef\\x00OZ\\x84d@\\xf4\\xfd\\xd4x\\xe9\\x07e@\\xc4\\xce\\x14:\\xaf\\xd2e@\\xd2\\xa7U\\xf4\\x07\\x80e@\\xda\\x01\\xd7\\x15\\xb3Qe@S\\xce\\x17{\\xafCe@\\xd2\\x19\\x18y\\xd9Xe@\\xa47\\xdcG\\xee\\xaae@[^\\xb9\\xde\\xb6\\xf0e@;W\\x94\\x12\\x02\\xf9e@\\xfc\\x1d\\x8a\\x02\\xfd\\xe4e@]\\xa6&\\xc1\\x1b\\xcee@\\x95g^\\x0e;\\xb9e@\\xfb@\\xf2\\xce\\xa1-f@0+\\x14\\xe9~4f@\\xe2\\xaf\\xc9\\x1a\\xf5Uf@\\xd3\\x82\\x17}\\x85Tf@w\\xbd4E\\x00Cf@\\x0e\\x89{,\\xfd[f@<I\\xbaf\\xf2Sf@\\xad\\xa1\\xd4^D?f@\\xe0\\x83\\xd7.mBf@^\\xbaI\\x0c\\x82\\x88f@\\xbd\\xc7\\x99&l\\x93f@. \\xb4\\x1e\\xbe~f@uu\\xc7b\\x9bIf@\\x84\\x99\\xb6\\x7fe!f@?\\x89\\xcf\\x9d\\xe0\\xf4e@R\\xd7\\xda\\xfbT0f@\\x9bt[\"\\x97\\xf4e@~\\xff\\xe6\\xc5\\t\\xdde@?\\xafx\\xea\\x11\\xe3e@\\xf44`\\x90\\xf4\\xb1e@@\\xf7\\xe5\\xccv\\xdce@\\xe6X\\xdeU\\x8f\\xd3e@\\x10<\\xbe\\xbd\\xeb\\xe1e@=D\\xa3;\\x88Vf@\\xce8\\rQ\\x05bf@\\x91\\x9cL\\xdc\\xaa\\x8bf@8\\xdcGnM\\xcef@b\\xbf\\'\\xd6\\xa9\\xdcf@\\xdc\\xf8\\x13\\x95\\r\\'g@3T\\xc5T\\xfa3g@c\\xeeZB\\xbe=g@\\xc6\\x8b\\x85!r;g@\\xe0g\\\\8\\x10)g@?U\\x85\\x06\\xe2!g@}\\xeb\\xc3z#\\x1cg@\\x1dq\\xc8\\x06R\\x08g@\\x1d\\x04\\x1d\\xadj\\xfff@_w\\xba\\xf3D\\xe3f@x|{\\xd7 \\x1ag@\\xcbgy\\x1e\\\\Fg@j\\x15\\xfd\\xa1\\x19\\x9dg@w\\x16\\xbdS\\x01\\x8bg@?W[\\xb1?\\x9eg@g`\\xe4e\\xcd\\x9ag@6\\xeb\\x8c\\xef\\x8b\\xa0g@9\\x0e\\xbcZn\\x8ag@#\\xbe\\x13\\xb3\\xdeUg@\\xdd\\xd3\\xd5\\x1d\\x8b\\x17g@\\x17\\'\\xbe\\xda\\xd1\\x15g@\\xee&\\xf8\\xa6iPg@\\xb2\\xd7\\xbb?\\xdepg@\\xc4%\\xc7\\x9dR\\xacg@\\xeb\\x1a-\\x07z\\x82f@s\\xd9\\xe8\\x9c\\x9f\\xdfe@[A\\xd3\\x12\\xab\\xb1e@\\x83I\\xf1\\xf1\\x89\\xcfe@u\\xb1i\\xa5\\x10ue@\\x1b\\xa1\\x9f\\xa9\\xd7ee@\\xa3\\x91\\xcf+\\x1e\\x7fe@\\xc0\\x98-Y\\x15\\xafe@MeQ\\xd8E\\xd3e@\\xf7\\xcb\\'+\\x86\\x1ef@`\\xb0\\x1b\\xb6\\xad\\xb3e@JC\\x8dB\\x12\\xc8e@\\xa5\\xbb\\xebl\\xc8\\xe2e@voEb\\x82\\x8ae@t\\xb3?P\\xeeke@\\'4I,\\xa9^e@w\\xf6\\x95\\x07iSe@x_\\x95\\x0b\\x958e@\\xd4\\x0f\\xea\"\\x85\\xe7d@@\\x86\\x8e\\x1dT\\xf1d@\\xf53\\xf5\\xba\\xc5\\x10e@X\\xe1\\x96\\x8f$se@\\xce\\xdcC\\xc2\\xf7Qe@\\x82\\x8a\\xaa_iqe@\\xd7\\x17\\tm\\xb9\\xcde@\\xf5\\x9d_\\x94 \\xbce@\\xae^EF\\x87\\x8ce@\\\\\\xe8J\\x04*\\xa2e@<\\xa6\\xee\\xca.\\x95e@\\xb6\\xa0\\xf7\\xc6\\x10ke@f\\xfc\\xfb\\x8c\\x0bZe@\\x84\\xf3\\xa9c\\x95Ve@^gC\\xfe\\x19Be@\\x978\\xf2@d`e@\\x9e\\xd5\\x02{L\\xa1e@\\xf0SUh\\xa0\\xb4e@\\xb0\\x93\\xfa\\xb24\\xe2e@.\\x8d_x%\\xbee@}\\x04\\xfe\\xf0s\\xa2e@*\\xacTP\\xd1\\x9be@\\x80\\x0b\\xb2ey\\xd1e@A\\xbc\\xae_0\\rf@_B\\x05\\x87\\x97\\xfbe@\\n\\x10\\x053\\xa6\\xf2e@D\\xf7\\xack\\xb4\\xcbe@\\xca8F\\xb2G\\xaee@\\x9e\\xd5\\x02{L\\xa1e@x\\x9c\\xa2#9\\xb7e@\\x9a]\\xf7V$de@%\\xad\\xf8\\x86\\xc2\\x95e@\\xcaO\\xaa}: f@\\xd3k\\xb3\\xb1\\x12\\x01f@\\x9fs\\xb7\\xeb%\\xdce@\\xae\\xd7\\xf4\\xa0\\xa0\\xc3e@\\xd4\\x81\\xac\\xa7\\xd6\\xbbe@\\xbc=\\x08\\x01\\xf9\\xabe@\\xf5\\x9d_\\x94 \\xbce@\\x94\\xc1Q\\xf2j\\xe9e@\\xf0SUh\\xa0\\xb4e@\\x0eK\\x03?*\\xb1e@=b\\xf4\\xdc\\xc2\\xb3e@?\\x1e\\xfa\\xeeV\\xd2e@}\\xc8[\\xae\\xfe\\xe9e@\\xf0\\xf9a\\x84p\\x18f@#d \\xcf\\xae\\x11g@\\x97\\x1cwJ\\x07\\tg@\\x08\\x92w\\x0e\\xe5\\x18g@(c|\\x98\\xbd\\x17g@\\xe5\\xb9\\xbe\\x0f\\x07\\xfaf@W\\x98\\xbe\\xd7\\x10\\xeff@*5{\\xa0\\x15\\xe2f@\\x0c\\x91\\xd3\\xd7\\xf3\\x1eg@\\xcc\\x9b\\xc3\\xb5\\xda\\xf6f@;\\xe4f\\xb8\\x01\\xdaf@CY\\xf8\\xfaZ\\xbff@\\x17}\\x05iF\\x9af@\\xf2~\\xdc~y\\xd2f@[\\t\\xdd%q\\xa6f@L\\x8b\\xfa$\\xf7\\xa2f@\\x1d\\x1e\\xc2\\xf8i\\xa4f@yZ~\\xe0\\xaa\\x97f@v\\xc98F2\\xbef@\\xd3\\xc4;\\xc0\\x13\\xabf@k\\x9b\\xe2q\\xd1\\x8df@\\xce\\xfe@\\xb9mqf@\\'\\x13\\xb7\\nb\\xc1f@O\\xec\\xa1}\\xacYf@\\xf0\\xdc{\\xb8\\xe4\\x88f@\\xea\\xb1-\\x03N\\xe5f@[B>\\xe8\\xd9\\xb9f@\\xa4\\xf9cZ\\x1b\\xf6f@\\xe6\\xeb2\\xfc\\'8g@\\xf2~\\xdc~\\xf9^g@\\xe0\\xc0\\xe4F\\x91\\x94g@R\\xf3U\\xf2\\xb1\\xb2g@\\xe7\\x89\\xe7l\\x81\\xceg@ZJ\\x96\\x93\\xd0\\xc5g@ni5$n\\xd3g@\\x01\\xdc,^,\\xffg@Q\\xbe\\xa0\\x85\\x84kh@\\xfd\\x152W\\x06Rh@\\x7f\\x89x\\xeb| h@\\xdb\\xfe\\x95\\x95&\\'h@\\x13\\x9a$\\x96\\x14Vh@\\xec\\xf5\\xee\\x8f\\xf7\\x04h@b\\x13\\x99\\xb9\\xc0\\xffg@V\\x80\\xef6\\xef\\xd8g@\\x8f\\x1b~7\\xdd\\x07h@p\\x07\\xea\\x94G\\xddg@\\xc4z\\xa3V\\x18#h@\\xfbs\\xd1\\x90q\\x08h@\\xa3\\x05h[\\xcdAh@(|\\xb6\\x0e\\x8e\\x10h@\\xb4\\x93\\xc1Qr\\xe9g@N\\xf0M\\xd3g\\xb2g@\\t\\xff\"h\\xcc\\xafg@f\\xd9\\x93\\xc0\\xe6\\xacg@ %vmo\\xfdg@\\xe9+H3\\x16\\x18h@\\xf2~\\xdc~y\\xebg@\\xda7\\xf7W\\x0f\\xaeg@ %vmo\\xfdg@\\x1a\\xc1\\xc6\\xf5\\xef\\xb9g@ %vm\\xefpg@\\x97\\xfd\\xba\\xd3\\x1d\\x80e@\\tUj\\xf6@Ae@\\xcc\\x95A\\xb5\\xc1\\xaee@{\\xdc\\xb7Z\\xa7\\xb1e@\\xe3\\x1d\\xe0I\\x8b\\xf2e@Q\\x14\\xe8\\x13\\xf9\\xfce@\\xf4\\xdf\\x83\\xd7.\\x89f@\\xd9\\xce\\xf7Sc\\xebf@e3\\x87\\xa4\\x16\\x97f@\\xbeG\\xfd\\xf5\\n\\xe7f@}]\\x86\\xfft$g@\\x9e\\x99`8W\\xf2f@\\x81\\xe6s\\xee\\xf6\\ng@\\xc8\\x0cT\\xc6?Ig@\\xf07\\xdaqC\\x1bg@\\x81\\xec\\xf5\\xee\\x0f?g@O\\x94\\x84D\\xda\\x04g@tb\\x0f\\xedc\\x1ag@kc\\xec\\x84\\x97\\x1dg@d\\xcd\\xc8 wEg@]\\xa6&\\xc1\\x9b\\xb2g@\\xa9\\x9f7\\x15)\\x9ag@\\xe3\\xdfg\\\\\\xb8\\xb8g@\\xf51\\x1f\\x10h\\x88g@D\\xa1e\\xdd?pg@\\x7f\\xdf\\xbfyqcg@\\xa8\\xe2\\xc6-f\\x9fg@\\x1b\\xb9nJy\\xa3g@\\x80\\xb7@\\x82b\\xcdg@\\x03#/kb\\xa6g@6\\xcbe\\xa3s\\xc1g@\\xcc\\x97\\x17`\\x1fqg@&\\xaa\\xb7\\x06\\xb6\\x0cg@\\xbc\\x91y\\xe4\\x8f+g@\\xac\\xacm\\x8a\\xc7ug@?\\xafx\\xea\\x11Og@\\xbb\\xd4\\x08\\xfd\\xcc0g@\\xd9A%\\xae\\xe3\\xdff@A\\xbc\\xae_\\xb0*g@x~Q\\x82\\xfe\\xfcf@+\\x85@.q\\x15g@b\\x10X9\\xb4Jg@\\t1\\x97Tm\\xf5f@]QJ\\x08\\xd6of@\\x17\\xd9\\xce\\xf7\\xd38f@\\x07{\\x13C\\xf2\\x00f@ly\\xe5z\\xdb*f@e\\xe1\\xebk]\\'f@$\\xb3z\\x87[>f@l\\x08\\x8e\\xcb8\\xbae@[\\xb4\\x00m+\\xbfe@J\\xb6\\xba\\x9c\\x92\\xc5e@\\x117\\xa7\\x92\\x81\\xf8e@xD\\x85\\xeaf)f@ly\\xe5z\\xdb*f@\\xd3\\x13\\x96x\\xc0\\xbfe@~\\x1bb\\xbcf\\xdbe@<\\xde\\xe4\\xb7h\\xebe@t\\xb7\\xeb\\xa5)\\xd6e@F\\x9cN\\xb2U\\x0ef@\\xc2.\\x8a\\x1e\\xf8\\tf@\\x03_\\xd1\\xadW\\x1ef@\\x9a\\xb5\\x14\\x90v\\x82f@\\x07{\\x13C\\xf2\\x00f@\\xc4=\\x96>\\xf4\\x10f@ly\\xe5z\\xdb*f@,b\\xd8aLZf@\\xee\\xf0\\xd7d\\rlf@]QJ\\x08\\xd6of@K>v\\x17\\xa8Nf@{j\\xf5\\xd5\\xd5Hf@d${\\x84\\x9a,f@\\x10\\xe9\\xb7\\xaf\\x03Cf@\\xc3\\xed\\xd0\\xb0\\x180f@\\xa2E\\xb6\\xf3\\xfd9f@q\\x91{\\xba\\xba\\xb6e@V\\xd9wEp\\x8be@j\\xc1\\x8b\\xbe\\x02ye@\\x1b\\x9e^)\\xcbue@\\x85Co\\xf1\\xf0\\x9ae@\\x86=\\xed\\xf0W\\x87e@+mq\\x8dOme@|\\x99(Bj:e@\\xd9]\\xa0\\xa4@-e@\"\\xc3*\\xde\\xc8\\x0ce@&\\xe2\\xad\\xf3o\\x16e@\\x0e\\xdb\\x16e6\\x1fe@\\x12\\xfa\\x99z\\xdd(e@Yk(\\xb5\\x97/e@o\\xbe\\x11\\xdd\\xb3\\x1be@Q29\\xb53\\xe1d@\\xc9\\x01\\xbb\\x9a<\\xd0d@\\x94\\x84D\\xdaF\\xded@qVDMt\\xd3d@\\xbcB\\x1f,\\xe3\\x04e@\\xb0\\x00\\xa6\\x0c\\x9c\\xecd@\\x96\\x94\\xbb\\xcfq\\ne@\\xf4R\\xb11\\xaf\\xe9d@\\xa1\\xd64\\xef\\xb8\"e@\\xb1\\x8dx\\xb2\\x1bRe@C\\x01\\xdb\\xc1\\x08\\xcae@jH\\xdcc\\xe9\\xcae@2#\\xbc=\\x08\\xf5e@\\x04\\xc9;\\x87\\xb2\\x11f@F|\\'f\\xbd\\xf4e@\\xd3\\xc0\\x8fj\\xd86f@\\x9c3\\xa2\\xb4\\xb7\\x18f@XT\\xc4\\xe9$\\xb6e@?S\\xaf[\\x84\\xd2e@\\xf4lV}\\xae\\xb4e@\\xecI`s\\x0e\\xa6e@x~Q\\x82\\xfe\\xbbe@o\\xd4\\n\\xd3w[e@\\xcd!\\xa9\\x85\\x92(e@U\\xc3~O\\xacKe@\\xca\\x88\\x0b@#\"e@\\xff\\x94*Q\\xf6\\x01e@\\x97\\xff\\x90~\\xfb\\x08e@\\xa9lXS\\xd9\\xcbd@\\xf1\\xbb\\xe9\\x96\\x9dkd@\\xc7\\xf7\\xc5\\xa5\\xaa\\xb7d@\\x96\\x05\\x13\\x7f\\x94\\x1ce@\\xf9\\xf8\\x84\\xec<Ee@\\xd4\\xbbx?\\xee\\\\e@\\xe3\\x8f\\xa2\\xce\\\\\\x19e@;Q\\x12\\x12\\xe9Ue@i\\x19\\xa9\\xf7\\xd4\\xf9c@\\xf6\\xebNw\\x1e\\xdbc@t\\xd4\\xd1q5\\xc0c@9\\xb53L\\xed\\xfdc@)\\xd1\\x92\\xc7S\\x15d@b\\x83\\x85\\x93\\xb4Pd@\\xb8$\\x07\\xec\\xea4d@\\xbeG\\xfd\\xf5\\x8aCd@]\\xe2\\xc8\\x03\\x11\\xcfd@g\\x9d\\xf1}q\\x95d@\\x00\\x17d\\xcb\\xf2yd@\\xe4\\x85tx\\x88zd@_\\xebR#\\xf4\\x98d@\\xc6j\\xf3\\xff*Rd@j\\xc1\\x8b\\xbe\\x82\\x95d@:\"\\xdf\\xa5T\\xadd@\\x96\\xce\\x87g\\t\\xadd@\\xf7\\xcb\\'+\\x06\\x02e@\\xce\\xff\\xab\\x8e\\x9c\\x07e@\\xfa`\\x19\\x1b\\xba\\x15e@\\x00X\\x1d9R\\xeed@\\xfa\\xf2\\x02\\xec#\\x0be@^\\x82S\\x1f\\xc80e@\\xe9\\xb6D.\\xb8Ge@G\\x1c\\xb2\\x81\\xf4Ee@\\x0b\\x0e/\\x88\\xc8&e@@\\x8a:s\\x8f\\xd3d@\\xfd\\x13\\\\\\xac(\\x8ed@H\\x8b3\\x869^d@Na\\xa5\\x82\\n\\x8fd@:vP\\x89\\xeb\\xa3d@q\\xc5\\xc5Q9cd@\\xe1B\\x1e\\xc1\\r:d@\\x8e\\xce\\xf9)\\x0e0d@\\xe1B\\x1e\\xc1\\r:d@H\\xf9I\\xb5\\xcfhd@*\\x1e\\x17\\xd5\\xa2bd@}x\\x96 \\xa3Xd@r\\xc2\\x84\\xd1, d@N\\xd3g\\x07\\\\\\xeac@;\\xab\\x05\\xf6\\x98\\xd9c@o\\xb8\\x8f\\xdc\\x1and@\\xe1\\x96\\x8f\\xa4\\xa40d@4\\xba\\x83\\xd8\\x19\\x87d@V\\x82\\xc5\\xe1\\xcc\\xb3d@\\xe7\\x1b\\xd1=\\xeb\\xadd@H\\xff\\xcb\\xb5\\xe8\\xeed@K@L\\xc2\\x05\\x0ce@\\xce\\x02\\xed\\x0e\\xa9Je@\\xc0|\\xb2b\\xb8Be@\\x162W\\x06\\xd5ie@7\\x8c\\x82\\xe0\\xf1\\x8be@\\x9b\\x90\\xd6\\x18\\xf4Oe@\\xd5\\xe5\\x94\\x80\\x98pe@#\\x9e\\xecf\\xc6]e@]\\xa2zk\\xe0\\xcae@ zR&\\xb5\\x97e@ly\\xe5z[\\x86e@\\xdb3K\\x02\\xd4\\x82e@[[x^\\xaa\\'e@\\xe0*O l[e@a\\xc6\\x14\\xac\\xf1\\x90e@[#\\x82q\\xf0\\xaee@\\xa6\\xb7?\\x17\\r\\xd6e@\\xac\\x02\\xb5\\x18<\\xa5e@\\xf4\\xf8\\xbdM\\x7f\\xefd@!Z+\\xda\\x9c\\xfdd@E\\xd5\\xaft\\xbe\\xa2d@\\x08\\xad\\x87/\\x93od@\\xc8#\\xb8\\x91\\xb2Pd@\\x88\\xbdP\\xc0vCd@:\\xb1\\x87\\xf6\\xb1_d@F\\xb8\\xc9\\xa8\\xb2Kd@\\xc6\\xc5Q\\xb9\\x89\\xdcc@0L\\xa6\\n\\xc6\\xdac@\\x19\\x00\\xaa\\xb8\\xf1\\x03d@\\x0f\\xd3\\xbe\\xb9\\xbf,d@\\xa8\\xc6K7\\tyd@\\xe7\\xaay\\x8e\\xc8ud@\\x91\\xcf+\\x9ez\\xc1d@\\x13\\x9c\\xfa@r\\xd1d@\\x0e\\x12\\xa2|\\xc1\\x00e@;\\xe1%8u7e@\\x96\\xb2\\x0cq\\xac(e@\\x1a\\x8b\\xa6\\xb3\\x93!e@\\xadK\\x8d\\xd0OHe@\\x14\\xb0\\x1d\\x8c\\xd8\\x1ce@\\xb3\\x98\\xd8|\\\\0e@%@M-\\xdb)e@\\x19\\xe3\\xc3\\xeceBe@\\x96\\x98g%-fe@\\x19;\\xe1%8ce@\\xadK\\x8d\\xd0OHe@\\x1en\\x87\\x86\\xc5\\x88e@W\\x05j1x\\x9de@\\xf1\\x12\\x9c\\xfa@\\xace@\\x8c\\xc1\\xc3\\xb4o\\xade@\\xe6\\xcf\\xb7\\x05K\\x87e@\\xc3\\xd1U\\xba;\\x92e@\\x90\\x15\\xfc6D\\x82e@\\x14\\x08;\\xc5\\xaa=e@Qf\\x83L\\xb2\\x0be@\\xcaT\\xc1\\xa8$ve@\\x08\\x91\\x0c9\\xb6\\x93e@g\\xecK6\\x9eUe@\\x0e\\xf9g\\x06\\xf1\\xb3e@\\xfd\\xa5E}\\x92\\x8fe@W]\\x87jJ\\xbee@\\xce\\x89=\\xb4\\x0f\\x87f@/PR`\\x81?f@\\xb2\\x14\\xc9W\\x02\\xede@h>\\xe7nW\\xffe@\\xcdu\\x1ai\\xa9;f@\\x9a\\xcd\\xe30\\x18wf@\\x94/h!\\x01[f@a\\xde\\xe3L\\x93Af@\\xa6\\x0f]P_&f@\\x95\\xbd\\xa5\\x9c\\xafwf@\\x1e\\x18@\\xf8PSf@#1A\\r_\\xb6f@s\\x8269\\xfc\\x99f@\\x83\\x85\\x934\\x7f\\x8bf@\\x1cy \\xb2\\xc8\\xd7f@\\xabCn\\x86\\x9b\\xc1f@\\x9b\\xe8\\xf3QF\\xaff@X\\xae\\xb7\\xcdT\\xf2e@?\\x1d\\x8f\\x19(5f@\\xd4\\xf0-\\xac\\x9b1f@\\xbdP\\xc0v0%f@\\x8a\\x06)x\\x8a\\xf8e@\\x1d\\xac\\xffs\\x18\\xe7e@\\xc3MF\\x95\\xe1Nf@\\x01\\x18\\xcf\\xa0!\\x89f@\\xcdv\\x85>X\\xb1f@\\xa6`\\x8d\\xb3iZf@V\\x9b\\xffW\\x9d\\x1cf@c\\xf1\\x9b\\xc2J\\x17f@F}\\x92;\\xec\\xf2e@]\\x18\\xe9E\\xed\\xfde@\"\\xfa\\xb5\\xf5S\\xf2e@\\xd2TO\\xe6\\x1f\\x15f@Z\\xd9>\\xe4-_f@\\xec\\xa1}\\xac\\xe0Sf@x\\x7f\\xbcW\\xad\\xece@\\x8e\\x94-\\x92v\\xa9e@\\x19\\x1c%\\xafN\\xbbe@\\x98P\\xc1\\xe1\\x85\\xb9e@~\\x03\\x93\\x1b\\xc5ze@\\xe6\\xb0\\xfb\\x8ea\\xa7e@\\xc0&k\\xd4C\\x92e@\\x1e\\xa6}s\\xff\\x99e@<2V\\x9b\\x7fwe@[#\\x82q\\xf0De@\\\\u\\x1d\\xaa)Ye@A.q\\xe4\\x01ke@\\xe6>9\\n\\x90\\x92e@\\x0e\\x15\\xe3\\xfcMke@\\x10\\xcc\\xd1\\xe3woe@\\xb8\\x93\\x88\\xf0/\\x9be@\\xf2\\xb1\\xbb@\\xc9\\xa6e@\"\\x14[AS\\xa2e@\\x98J?\\xe1\\xeche@2\\x02*\\x1cA,e@y=\\x98\\x14\\x9f\\re@\\xec4\\xd2Ry5e@\\x9a\\xcb\\r\\x86:/e@\\x00\\xe9\\x9b4\\x8d,e@\\xbf\\xf0J\\x92gTe@J\\xb4\\xe4\\xf14=e@2\\x90g\\x97o\\x17e@\\xf00\\xed\\x9b\\xfb(e@\\xf3\\x03Wy\\x82\\x03e@\\to\\x0fB\\xc0\\xfed@\\\\\\x1d\\x00qW\\xf4d@(F\\x96\\xcc1\\x1ce@-\"\\x8a\\xc9\\x1b\\x0fe@L\\xc3\\xf0\\x111\\xa6e@\\xbf,\\xed\\xd4\\xdc\\xe2e@\\xc1\\xe3\\xdb\\xbb\\x06\\xe7e@\\x12\\xdb\\xdd\\x03t\\xd8e@\\x10\\xd2S\\xe4\\x10\\xc0e@\\x7f\\x12\\x9f;\\xc1\\xe3e@\\x8c\\xa1\\x9chW\\xcee@\\x84\\x0e\\xba\\x84C\\xd7e@[\\xd3\\xbc\\xe3\\x94\\x0ef@\\'\\xf6\\xd0>\\xd6\\xe5e@\\xaf>\\x1e\\xfa\\xeeXf@\\xe5\\x0e\\x9b\\xc8\\xcc\\\\f@\\xb2\\xf5\\x0c\\xe1\\x18]f@z\\xaaCn\\x06,f@]T\\x8b\\x88b\\x8cf@\\xd4\\x83\\x82R\\xb4~f@q\\xe1@H\\x96\\xaef@\"\\xa8\\x1a\\xbd\\x9a\\x95f@{\\x9d\\xd4\\x97\\xa5\\xbef@2U0*\\xa9\\x9af@\\x1b\\xa3uT\\xb5\\x89f@\\x89\\xd4\\xb4\\x8biDf@@j\\x13\\'w\\xf9e@\\xe3Q*\\xe1\\t\\x08f@\\x00\\x1a\\xa5K\\x7f\\xbce@5GV~\\x99\\xbbe@)\\x04r\\x89\\xa3\\x89e@\\xd9\\x97l<X\\xcfe@\\xfe\\x9f\\xc3|y\\xe8e@\\x0c\\x1c\\xd0\\xd2\\x95\\xe4e@\\xbc\\xe6U\\x9d\\xd5\\xf6e@W\\xe7\\x18\\x90\\xbd\\xf4e@\\xb7\\xb3\\xaf<\\xc8\\xe5e@?S\\xaf[\\x04!f@\\xd8)V\\rB6f@\\xec\\xc2\\x0f\\xce\\'7f@\\xb8[\\x92\\x03\\xf6Xf@h\\x1f+\\xf8m@f@G;n\\xf8\\xddVf@b\\xbc\\xe6U\\x9d\\x8df@\\xc2mm\\xe1ywf@lC\\xc58\\xffof@\\xaa\\xd2\\x16\\xd7\\xf8xf@\\n\\x84\\x9db\\xd5bf@\\x83\\xde\\x1bC\\x80nf@/\\xc3\\x7f\\xba\\x81Hf@\\x99\\xa1\\xf1D\\x10Xf@=)\\x93\\x1aZ8f@\\xd0\\n\\x0cY\\xdd3f@)\\x97\\xc6/<bf@\\x0e\\xa1J\\xcd\\x9egf@\\xa1\\xc0;\\xf9tZf@T\\x8d^\\rPjf@O#-\\x95\\xb7\\x8cf@?\\xe5\\x98,\\xee\\x87f@\\x8a\\xc6\\xda\\xdfY\\xa4f@\\xd5\\xcf\\x9b\\x8a\\xd4\\xabf@\\xbbA\\xb4V4\\x91f@0\\xb6\\x10\\xe4\\xa0df@\\xe8\\x9f\\xe0bEyf@$\\x80\\x9b\\xc5\\x8b\\x16f@A+0d\\xf55f@\\xa9\\x16\\x11\\xc5d)f@\\xcc\\xed^\\xee\\x13/f@\\xcb1Y\\xdc\\x7f\\xdfe@6:\\xe7\\xa7\\xb8\\xd7e@\\x93\\x8a\\xc6\\xda_\\x0cf@7\\x19U\\x86q\\x17f@\\xacp\\xcbG\\xd2\\xb3e@?S\\xaf[\\x04!f@\\xe0\\xf4.\\xde\\x0f\\xc9e@\\x8a\\xafv\\x14g\\xbae@+.\\x8e\\xcaMre@\\x89\\xd0\\x086\\xaeze@C\\x00p\\xecY=e@ `\\xad\\xda5\\x04e@vn\\xda\\x8cSFe@\\xef\\xe7\\x14\\xe4\\xe7\\xc2c@c\\xd7\\xf6vK\\x13c@\\xcc\\xd1\\xe3\\xf76\\xe8b@E,b\\xd8\\xe1\\xf3b@\\xc1r\\x84\\x0c\\xe4\\xf0b@\\xc8\\xcfF\\xae\\x9b\\xeab@_\\x97\\xe1?]\\x1ec@0F$\\n-\\x1ac@J\\xd4\\x0b>\\xcd4c@\\xd9\\x07Y\\x16L6c@\\x88\\xa1\\xd5\\xc9\\x195c@\\xc6\\xa5*m\\xf1\\x01c@9\\x9c\\xf9\\xd5\\x1c\\xe9b@\\xc5T\\xfa\\tg\\xffb@\\xdcJ\\xaf\\xcd\\xc6\\x11c@\\xdc\\x9f\\x8b\\x86\\x8c<c@M\\xc1\\x1ag\\xd36c@\\xc0\\xe7\\x87\\x11B\\rc@\\xf3\\xe6p\\xadv\\'c@GW\\xe9\\xee\\xbaPc@GW\\xe9\\xee\\xbaPc@\\x90\\xf6?\\xc0Z\\x0cc@HS=\\x99\\x7f\\xfeb@?:u\\xe5\\xb3\\xe6b@G\\xaa\\xef\\xfc\"\\xefb@\\xb8 [\\x96/\\x14c@V\\xd9wEp\\x08c@\\xe5\\xb7\\xe8d)\\x0ec@\\x98f\\xba\\xd7\\xc9\\x14c@\\xa1*\\xa6\\xd2\\xcf\\x01c@V\\x85\\x06b\\xd9#c@\\x86\\xcek\\xec\\x92[c@\\xed\\x7f\\x80\\xb5jMc@(\\xf1\\xb9\\x13\\xec5c@k&\\xdfls\\x0bc@ \\x81?\\xfc|-c@\\xf8\\xfb\\xc5l\\xc9\\xe2b@c\\r\\x17\\xb9\\xa7\\xf3b@\\xba\\xdc`\\xa8CHb@\\xfee\\xf7\\xe4a\\x02b@\\xfa\\xb6`\\xa9\\xae\\xd0a@>\\xea\\xafWX\\xe0a@<\\xdc\\x0e\\r\\x8b\\x8db@\\x06\\x81\\x95C\\x8b\\xa6b@\\xe5\\x0e\\x9b\\xc8\\xcc\\xfeb@\\x8b\\xe3\\xc0\\xab\\xe5\\x16c@\\xf7\\xaa\\x95\\t?\\nc@H\\xff\\xcb\\xb5\\xe8\\x19c@\\xf8\\xfb\\xc5l\\xc9\\xe2b@\\t\\x8a\\x1fc\\xee\\xd4b@l\\xd1\\x02\\xb4\\xad\\xe0b@?\\x8fQ\\x9ey\\x11c@\\x7f\\xbe-X\\xaa\\xc4b@\\x06\\xda\\x1dR\\x0c]b@\\xa05?\\xfeR>b@\\x8d\\xef\\x8bK\\xd5\\xa3b@\\xd9\\xecH\\xf5\\x9d\\xb8b@|\\xba\\xbac1hb@\\xfe\\xbb>sVsb@A\\xf4\\xa4L\\xeaTb@\\xd0}9\\xb3\\xdd/b@\\x17c`\\x1dG}b@\\x88\\x84\\xef\\xfd\\x8dwb@\\xa9\\xf8\\xbf#*\\xe5a@\\xfdfb\\xba\\x90Hb@\\xd9?O\\x03\\x06Wb@R\\xd4\\x99{\\xc8eb@\\x14\\\\\\xac\\xa8\\xc1\\x14b@x^*6\\xe6\\xd4a@w\\xf8k\\xb2FKb@\\xd6\\xe4)\\xab\\xe9\\tb@=\\xee[\\xad\\x932b@\\x9e&3\\xdeV\\xa5b@%@M-\\xdbwb@\\x8dF>\\xafx\\x94b@\\xda\\xc54\\xd3\\xbd\\x91b@\\x95H\\xa2\\x97Qtb@\\x1d\\xe8\\xa1\\xb6\\x8d\\xc9b@\\x83i\\x18>\\xa2\\xbeb@\\xfd\\xa1\\x99\\'W\\xc8b@_\\n\\x0f\\x9a]\\x01c@\\xba\\xbd\\xa41Z\\x12c@D\\xc0!T\\xa97c@\\x06\\x82\\x00\\x19:kc@0(\\xd3h\\xf2cc@\\x83\\xde\\x1bC\\x80Mc@i\\xdf\\xdc_\\xbd\\x87c@.\\xe5|\\xb1wJc@\\x96\\xc9p<\\x9f\\x0fc@=a\\x89\\x07\\x140c@\\x04\\xe9b\\xd3\\xca\\x03c@\\xd4e1\\xb1y\\x14c@\\xdcf*\\xc4\\xa3\\xe3b@\\x86\\xcb*l\\x06\\x19c@Afg\\xd1\\xbb\\xc7b@\\x8f\\xe0F\\xca\\x96\\x0cc@\\xf0\\x88\\n\\xd5\\xcd\\xb2b@\\x7f\\xa4\\x88\\x0c+\\x94b@^*6\\xe6\\xf5\\xb7b@\\x1d\\xaa)\\xc9\\xbaGb@\\x7fe\\xa5I\\xa9\\x9cb@\\xbc@I\\x81\\x05\\x99b@oG8-x\\xefb@oG8-x\\xefb@\\x95\\x9d~P\\x97Lc@\\x01\\xdc,^\\xac\\x81c@X\\xc2\\xda\\x18;Pc@\\xc3H/j\\xf7\\xdcb@\\x96\\x08T\\xff \\x07c@_\\n\\x0f\\x9a]\\x01c@\\xae\\x84\\xee\\x928Fc@\\xc0$\\x95)f\\x04c@\\x06\\r\\xfd\\x13\\\\\\xdcb@\\x15\\xa8\\xc5\\xe0\\xe1\\x02c@EJ\\xb3y\\x1c3c@\\x8c\\xbc\\xac\\x89\\x054c@g}\\xca1Y-c@\\x02G\\x02\\r6<c@\\xd9aL\\xfa\\xfbKc@{\\xbef\\xb9l=c@\\xd6\\xdf\\x12\\x80\\xff:c@\\xe7\\xfc\\x14\\xc7\\x81rc@\\xa8\\x1d\\xfe\\x9a,Tc@/\\xc6\\xc0:\\x8e\\tc@T\\xfc\\xdf\\x11\\x15\\xb0c@\\xdd&\\xdc+svc@} y\\xe7\\xd0\\x97c@\\xf7W\\x8f\\xfb\\xd6+d@\\xfd\\xbe\\x7f\\xf3\\xe2\\x1dd@\\x86\\x00\\xe0\\xd8\\xb3:d@|\\x9ci\\xc2v\\x9bd@\\xd9?O\\x03\\x06\\xaad@\\x88\\x82\\x19S\\xb0Kd@i\\x1c\\xeaw\\xe1\\x93d@&\\x199\\x0b\\xfb\\x9cd@yY\\x13\\x0b\\xfc\\x81d@\\x92Z(\\x99\\x1cMd@9G\\x1d\\x1d\\xd7id@`\\xe3\\xfaw}\\x9dd@\\xc5\\x00\\x89&\\xd0md@\\xd3P\\xa3\\x90d\\\\d@\\x19X\\xc7\\xf1C\\x91d@}\\xca1Y\\\\\\xc7d@\\x85~\\xa6^7\\xafd@\\xe0\\xb8\\x8c\\x9b\\x1a\\xa9d@=\\n\\xd7\\xa3\\xf0\\xb5d@\\xc5t!V\\x7f\\xbed@tD\\xbeK\\xa9\\xb1d@>X\\xc6\\x86n\\x8fd@\\x81 @\\x86\\x8eOd@\\x91\\xed|?\\xb5\\x88d@\\'\\xa8\\xe1[\\xd8\\x7fd@\\xfd\\xbe\\x7f\\xf3\\xe2@d@*5{\\xa0\\x15Qd@\\xfd\\xbe\\x7f\\xf3\\xe2@d@\\xaco`r#Id@&S\\x05\\xa3\\x12\\x1ad@m\\x1c\\xb1\\x16\\x1f\\xfcc@\\x9dd\\xab\\xcb)\\xbdc@\\xff\\xce\\xf6\\xe8\\x8d\\xc7c@8\\xa4Q\\x81\\x93*d@n\\xde8)L&d@M\\xd7\\x13]\\x97\\xefc@.\\x8b\\x89\\xcdG\\xd9c@S&5\\xb4\\x01\\xebc@\\xdc\\xd6\\x16\\x9e\\x17\\xf5c@Ah=|\\x19\\x16d@M\\xd7\\x13]\\x97\\xefc@\\xf7\\xcc\\x92\\x005\\x06d@\\x9bs\\xf0Lh!d@8\\x11\\xfd\\xda\\xfa\\xeec@\\x94j\\x9f\\x8e\\xc7\\xd3c@\\x9ft\"\\xc1\\xd4\\xc0c@M\\xa1\\xf3\\x1a\\xbbtc@\\xd8\\xb6(\\xb3Akc@\\x17)\\x94\\x85/\\xa3c@\\xf7X\\xfa\\xd0\\x85\\xb5c@\\x81(\\x981\\x85\\xaac@0\\xd9x\\xb0\\xc5\\xb2c@\\r\\x8c\\xbc\\xac\\x89zc@\\x0em\\x006\\xa0\\x8fc@/l\\xcdV^\\xeec@\\xa7?\\xfb\\x91\\xa28d@\\xb8\\x98\\x9f\\x1b\\x1a!d@\\xd4\\xf3n,\\xa8\\x1ed@\\x11\\x01\\x87P%jd@\\xaa\\x9dajK\\x98d@\\xc0D\\xbcu\\xfe\\xadd@F\\x0c;\\x8c\\xc9wc@c\\xf3qm\\xa8$c@\\x16\\xa5\\x84`\\xd5Nc@*\\x92\\xaf\\x04R\\x12c@Z\\x9c1\\xcc\\x89\\xfdb@\\xc6\\xc2\\x109}\\x1bc@\\x0c\\xe9\\xf0\\x10F;c@\\x7f/\\x85\\x07M7c@\\xe1z\\x14\\xae\\xc7Vc@\\xe3k\\xcf,\\x89\\xf2b@\\x92Z(\\x99\\x9c\\xd0b@\\xe1z\\x14\\xae\\xc7\\xd9b@\\n\\xf6_\\xe7&\\xd1b@BX\\x8d%,\\xacb@\\x96\\xd0]\\x12g\\xdeb@\\xca\\xe4\\xd4\\xce0\\xb8b@6:\\xe7\\xa78\\xccb@\\x07b\\xd9\\xcc\\xa1\\xaab@\\x01n\\x16/\\x96\\xbfb@\\x86=\\xed\\xf0\\xd7\\xd0b@\\x9a&l?\\x99\\xc7b@\\x84+\\xa0P\\xcf\\x87b@\\xa6\\xd0y\\x8d]`b@\\x00\\xc9t\\xe8\\xf4\\xeaa@\\xbb\\xd6\\xde\\xa7*Ea@\\x95H\\xa2\\x97\\xd1\\xf7`@-\\xcf\\x83\\xbb\\xb3\\xa8a@\\x90\\xf9\\x80@g\\xe1a@\\x0b*\\xaa~%\\xd0a@p\\xb4\\xe3\\x86_\\xcda@)\\x05\\xdd^\\xd2,a@\\x84H\\x86\\x1c\\xdbua@\\x9d\\xbd3\\xda*\\xaba@m\\xa7\\xad\\x11ALa@\\xd8\\xd7\\xba\\xd4\\x08\\xb9a@\\x84H\\x86\\x1c\\xdbua@h\\xae\\xd3HK\\x99a@\\xfcS\\xaaDY\\xbda@\\x0ef\\x13`X\\x88a@\\xd0\\x0f#\\x84G\\xc2a@\\xf05\\x04\\xc7e\\xdda@\\xde\\xe5\"\\xbe\\x13\\xd5a@U\\x87\\xdc\\x0c7ea@\\xa5\\x85\\xcb*\\xec\\xa1a@\\xf1\\xb9\\x13\\xec\\xbfba@hY\\xf7\\x8f\\x05Ka@\\x8f\\x8a\\xff;\"ba@[\\x95D\\xf6A\\x81a@\\xafz\\xc0<\\xe4\\'a@&t\\x97\\xc4Y&a@\\x14Z\\xd6\\xfdcsa@0\\x13EH\\xddHa@\\x8e\\xcd\\x8eT_ga@T\\x1a1\\xb3\\xcf\\xf0a@\\xc7\\x82\\xc2\\xa0\\xcc\\xe8a@\\x7f\\xa4\\x88\\x0c+\\x11b@W\\xec/\\xbb\\xa7Tb@\\x95\\x80\\x98\\x84\\x0bXb@\\x9e\\r\\xf9g\\x861b@\\x88)\\x91D\\xaf\\x02b@\\x0f\\xb6\\xd8\\xed\\xb3\\x0eb@\\x7f\\xa4\\x88\\x0c+\\x11b@k\\xbb\\t\\xbei\\x1ab@\\xd7\\x153\\xc2[\\xf6a@\\xf9\\xf1\\x97\\x16\\xf5\\xed`@6\\xc9\\x8f\\xf8\\x95\\xf6`@\\xf53\\xf5\\xbaEXa@T\\xcak%tja@hY\\xf7\\x8f\\x05Ka@\\xb7\\xf2\\x92\\xffI\\x98`@\\x9bS\\xc9\\x00\\xd0\\xf3`@_|\\xd1\\x1e/\\xeb`@t\"\\xc1T\\xb3\\xdc`@\\xdc\\x80\\xcf\\x0f\\xa3\\xe5`@\\xc6\\xdd Z+\\x14a@X\\xac\\xe1\"w\\x0ca@\\xc7\\x9f\\xa8l\\xd8\\xd6`@\\x96Ea\\x17E\\xcc`@;\\xfd\\xa0.\\xd2p`@\\xc7\\x0f\\x95F\\xccu`@\\xaf\\xb3!\\xff\\xccg`@\\x0e\\xdb\\x16e6*`@6<\\xbdR\\x16\\x02`@\\x88\\x11\\xc2\\xa3\\r?`@\\x92v\\xa3\\x8fyB`@)!XU\\xaf\\x80`@\\xa9\\xdcD-M\\x9d`@\\xe8\\xda\\x17\\xd0\\x0b\\xd4`@\\xae&OY\\xcd\\xd2`@\\xf7V$&(\\xd7`@B\\xb0\\xaa^~\\xc4`@\\xae&OY\\xcd\\xd2`@t\\xb7\\xeb\\xa5\\xa9\\xf0`@\\xb6\\x10\\xe4\\xa0\\x84*a@\\x05\\x18\\x96?_\\xf9`@\\xce\\x8c~4\\x1c\\xe1`@\\xba\\xf5\\x9a\\x1e\\x14\\x10a@\\xc1\\xfe\\xeb\\xdc\\xb4\\xf4`@\\xd0~\\xa4\\x88\\x0c\\xc6`@[\\x95D\\xf6A\\x99`@\\xee\\xb1\\xf4\\xa1\\x8b\\x9e`@\\x8a6\\xc7\\xb9\\xcdY`@\\xe7u\\xc4!\\x1b\\x84`@4\\xf0\\xa3\\x1a\\xf6\\xbd`@\\x1aO\\x04q\\x9e\\xec`@\\xa4\\xc5\\x19\\xc3\\x9c\\x9d`@\\\\U\\xf6]\\x11d`@\\x05\\xdb\\x88\\'\\xbbv`@} y\\xe7P\\xc2`@-\\xb0\\xc7DJ\\xd5`@\\x96Ea\\x17E\\xcc`@\\xa7\\xea\\x1e\\xd9\\\\\\xb8`@\\xc5\\x90\\x9cL\\xdc\\xfb`@\\xa8\\x1d\\xfe\\x9a,\\xee`@\\xa2\\xd3\\xf3n\\xac\\xb8`@*X\\xe3l\\xba\\x84`@g\\xecK6\\x9e\\x81`@\\xf2\\xcc\\xcbawl`@\\x8c\\xf6x!\\x9d$`@b\\xdc\\r\\xa2\\xb5\\xfc_@\\xd8\\xb8\\xfe]\\x1f0`@\\xc5\\xaaA\\x98\\xdb%`@\\x88\\xef\\xc4\\xac\\x17\\xe0_@\\x0e\\xa4\\x8bM+&`@a\\xe4eM,\\x99_@\\xca\\xc2\\xd7\\xd7\\xba!_@\\x9a\\x98.\\xc4\\xea\\x9c]@K\\xe0\\xd6\\xdd<\\xde]@wN\\xb3@\\xbb\\xc4]@\\xc3,\\xb4s\\x9a\\xaa]@\\x05T8\\x82T\\xca]@\\xe0\\xf6\\x04\\x89\\xedd]@U\\x8d^\\rP\\xb3]@\\x17hwH1S^@\\xe2\\x01eS\\xaeU^@\\xc9v\\xbe\\x9f\\x1a\\xe0]@\\xcd7\\xa2{\\xd6N^@J\\x07\\xeb\\xff\\x1c\\x05_@\\xa3\\xaf \\xcdX>_@y=\\x98\\x14\\x1f,_@\\xd4{*\\xa7=u^@\\xc0\\x97\\xc2\\x83f\\x81]@\\x14W\\x95}W\\xee\\\\@)\\x1f\\x82\\xaa\\xd1\\xb6]@\\xe6\\xeb2\\xfc\\xa7!^@\\xf4\\xdd\\xad,\\xd1\\xf4^@\\xf5)\\xc7d\\xf1A`@\\xe1)\\xe4J\\xbdU`@\\x8d\\xd0\\xcf\\xd4kk`@\\x88\\x83\\x84(_@`@\\x9d\\x85=\\xed\\xf0L`@\\x06\\r\\xfd\\x13\\\\\\x82`@!\\xe5\\'\\xd5\\xbe4`@\\xc4%\\xc7\\x9dR\\x15`@\\xcal\\x90IF~`@@\\xc0Z\\xb5\\xeb\\xba`@@\\xbe\\x84\\n\\x0e\\xea`@@\\xbe\\x84\\n\\x0e\\xea`@Hg`\\xe4\\xe53a@j\\xbeJ>\\xf6\\x11a@\\xc2\\xa79y\\x11<a@W\\xec/\\xbb\\'5a@\\x03_\\xd1\\xadWya@\\xd7\\xa3p=\\x8a\\x86a@\\x81\\xea\\x1fD2\\x8ca@\\xda\\x01\\xd7\\x15\\xb3\\xc5a@Tn\\xa2\\x96f\\x0cb@\\xc2\\x14\\xe5\\xd2\\xf8\\rb@\\xd0\\x97\\xde\\xfe\\\\>b@\\xc1\\xe4F\\x91\\xb5-b@\\xb8\\xae\\x98\\x11\\xde\\xd8a@x\\xf1~\\xdc\\xfe(b@\\xb8\\xaa\\xec\\xbb\"7b@\\xdd_=\\xee[Tb@Z\\xbb\\xedBs7b@\\x1b,\\x9c\\xa4\\xf9\\x96b@\\xdc\\xa2\\xcc\\x06\\x99\\xb8b@\\xa6\\nF%u\\xaab@\\x89\\xd4\\xb4\\x8biib@\\x96\\'\\x10v\\njb@\\xbd\\xc7\\x99&l2b@\\xe9\\xb2\\x98\\xd8\\xfcTb@\\x0ef\\x13`\\xd8Qb@\"6X8\\xc9]b@\\xa4O\\xab\\xe8\\x0f\\x90b@\\x83\\x87i\\xdf\\xdc\\x8db@\\xf4\\x8d\\xe8\\x9eu\\x9fb@;\\xc4?l\\xe9\\xb8b@\\x93\\xfd\\xf34\\xe0\\xaca@r\\xa8\\xdf\\x85-\\xefa@|\\x0cV\\x9cjSb@\\x88\\xd6\\x8a6G:b@-\\xce\\x18\\xe6\\x04Db@\\x060e\\xe0\\x80Lb@\\xcb\\xbf\\x96W.xb@\\x02\\xd2\\xfe\\x07X\\rb@u\\x93\\x18\\x04\\xd6\\xe9a@\\xc9\\x1e\\xa1f\\xc8\\xd4a@\\xdc\\xbeG\\xfd\\xf5\\xb0a@k-\\xccB\\xbb\\xb4a@\\x84F\\xb0q}\\xfaa@.\\xc8\\x96\\xe5\\xeb@b@\\x9a_\\xcd\\x01\\x82Bb@\\x8aY/\\x86\\xf2\\x95b@\\xe9+H3\\x96ub@5a\\xfb\\xc9\\x18rb@\\x156\\x03\\\\\\x90Nb@Z\\xba\\x82m\\xc4\\x85b@\\xdd@\\x81wrWb@\\x9a_\\xcd\\x01\\x82Bb@\\x12\\xfb\\x04P\\x0c\\xf6a@\\x10@j\\x13\\xa7?b@\\x16l#\\x9el0b@\\xcf\\xf5}8Hab@\\x8d\\xf0\\xf6 \\x84\\xccb@[\\xf1\\r\\x85O\\xe4b@\\xca\\xa4\\x866\\x00\\xf1b@\\xc3)s\\xf3\\x8d\\rc@\\xa3#\\xb9\\xfc\\x87\\xe6b@\\x1a\\xa7!\\xaa\\xf0\\x05c@*\\x1b\\xd6T\\x96\\xf2b@\\x16\\xda9\\xcd\\x82\\xedb@\\x12\\x88\\xd7\\xf5\\x8b\\x00c@IG9\\x98\\xcd\\x15c@\\x90\\x86S\\xe6f\\x03c@\\xc5\\xae\\xed\\xed\\x16\\xe2b@\\xdcN[#\\x82\\xbfb@g\\x98\\xdaR\\x87\\xb8b@\\xe0\\xa0\\xbd\\xfax\\xacb@g\\x98\\xdaR\\x87\\xb8b@\\x8a\\xc7E\\xb5\\x08\\xd6b@\\xceqn\\x13n\\tc@\\xa9\\xbd\\x88\\xb6c\\x17c@T\\xc5T\\xfa\\x89\\xf3b@\\x12\\xf6\\xed$\\xa2@c@\\xc0=\\xcf\\x9f\\xb6*b@\\x0c<\\xf7\\x1e\\xae\\xc8a@\\x14\\xc8\\xec,z\\x0eb@\\xeeXl\\x93\\nfb@\\x0b\\xefr\\x11_\\xcfb@\\xdc\\xf2\\x91\\x94t\\xe1b@K\\x02\\xd4\\xd42\\xccb@\\xc5\\xae\\xed\\xed\\x16\\xe2b@zS\\x91\\nc\\xe9b@f\\x80\\x0b\\xb2e$c@\\xdd)\\x1d\\xac\\xff?c@\\xaa\\xf3\\xa8\\xf8?vc@!x|{W\\x95c@}Xo\\xd4\\n\\xddc@N\\xb8W\\xe6-\\xcdc@\\xd7\\xd8%\\xaa\\xb7\\xcfc@\\x10\\xce\\xa7\\x8e\\xd5\\xc6c@s\\xdaSrN\\xffc@\\x91\\x98\\xa0\\x86o\\xe2c@\"S>\\x04\\xd5\\x15d@\\x9a$\\x96\\x94;(d@4\\xb9\\x18\\x03k\\x17d@x\\xd0\\xec\\xba7\\x0ed@g\\xb8\\x01\\x9f\\x9f\\xffc@\\x9a\\xb7\\xea:\\xd4\\xe7c@\\xf1\\xd8\\xcfb)\\x02d@{/\\xbeh\\x8f\\xe6c@\\xf9-:Yj\\xe9c@\\xbc\\xe6U\\x9dU\\x05d@\\'\\x12L53Cd@4bf\\x9fGAd@A\\xb9m\\xdf\\xa38d@\\xab\\xb3Z`\\x8fBd@5}v\\xc0\\xf5pd@\\x8a\\xc9\\x1b`f>d@!\\xea>\\x00)<d@\\x8a\\xc9\\x1b`f\\x16d@\\x96\\x05\\x13\\x7f\\x14\\x0ed@\\xe00\\xd1 \\x85+d@4bf\\x9fG\\x01d@\\x00\\x00\\x00\\x00\\x00\\x00d@\\xf4\\xc3\\x08\\xe1Q\\x08d@v6\\xe4\\x9f\\x99\\xe1c@!\\xea>\\x00)\\xd4c@\\xb7\\xefQ\\x7f=\\xcac@\\xcb\\x82\\x89?\\n\\xf7c@\\x14\\x937\\xc0\\xcc\\xecc@!\\xea>\\x00)\\xdcc@4bf\\x9fG\\xf1c@v6\\xe4\\x9f\\x99\\xf1c@\\xecl\\xc8?3\\x0bd@ \\xcf.\\xdfz4d@\\x00\\x00\\x00\\x00\\x00\\xe0c@\\x96\\x05\\x13\\x7f\\x14vc@4bf\\x9fG\\xc9c@j\\xfa\\xec\\x80\\xebyc@v6\\xe4\\x9f\\x99Ac@Vg\\xb5\\xc0\\x1euc@\\xaa\\x98J?\\xe1:c@\\xdf\\x15\\xc1\\xff\\xd6[c@\\x8a\\xc9\\x1b`fNc@5}v\\xc0\\xf5pc@\\xe00\\xd1 \\x85\\x83c@\\xbfF\\x92 \\\\_c@\\xbfF\\x92 \\\\?c@A\\xb9m\\xdf\\xa3\\x98c@4bf\\x9fG\\xc9c@\\xe00\\xd1 \\x85\\xc3c@\\xecl\\xc8?3\\xdbc@\\xe00\\xd1 \\x85\\xb3c@\\xcc\\x9d\\x99`\\xb8\\x8ec@\\xab\\xb3Z`\\x8f\\xa2c@!\\xea>\\x00)\\x9cc@UL\\xa5\\x9fpuc@A\\xb9m\\xdf\\xa3\\xa0c@4bf\\x9fGYc@4bf\\x9fGIc@\\xcb\\x82\\x89?\\n7c@\\x8a\\xc9\\x1b`fNc@A\\xb9m\\xdf\\xa3Xc@\\xcb\\x82\\x89?\\n\\xd7b@\\xf4\\xc3\\x08\\xe1Q\\xe8b@A\\xb9m\\xdf\\xa3\\xf0b@!\\xea>\\x00)\\xb4b@FC\\xc6\\xa3T\\xe29@\\xbc\\xca\\xda\\xa6x\\xe49@!u;\\xfb\\xca\\xbb9@v\\xc4!\\x1bHw9@\\xe0\\x0f?\\xff=\\xa49@Q\\xf6\\x96r\\xbeP9@\\xfe)U\\xa2\\xec%9@L\\xde\\x003\\xdfa9@\\xbc\\xca\\xda\\xa6x\\xe49@4\\xdc\\x80\\xcf\\x0f\\xcf9@\\x84\\x9c\\xf7\\xffq\\x02:@\\xfc\\xa6\\xb0RA\\x959@\\xd27i\\x1a\\x14\\x199@}\\xcfH\\x84F88@\\xc6k^\\xd5Y\\x858@KB\"m\\xe3\\xab8@X\\x91\\xd1\\x01I\\xd08@q\\x93Qe\\x18c8@\\xff\\x93\\xbf{G\\x917@9\\xd5Z\\x98\\x85\\xc27@\\xadP\\xa4\\xfb9\\xcd7@\\x19\\xa8\\x8c\\x7f\\x9f\\xf17@\\x85\\xed\\'c|H7@\\xa9\\xbb\\xb2\\x0b\\x06o7@\\x8c\\x11\\x89B\\xcb.7@\\x93<\\xd7\\xf7\\xe1l7@\\xc3FY\\xbf\\x99h7@t\\x99\\x9a\\x04o\\x847@\\x98Tm7\\xc1[7@\\xd5\\xed\\xec+\\x0f\\xd27@\\x00\\x01k\\xd5\\xae\\x058@\\xb7\\nb\\xa0kW8@\\x19\\xc9\\x1e\\xa1f,8@\\x8c\\xf7\\xe3\\xf6\\xcb#8@\\x0e\\x85\\xcf\\xd6\\xc1\\xcd7@\\xec\\xda\\xdenI\\x0e8@31]\\x88\\xd5\\x078@y\\xac\\x19\\x19\\xe4\\x168@x\\x0c\\x8f\\xfd,b8@fKVE\\xb8\\xe97@fKVE\\xb8\\xe97@\\xec\\xda\\xdenI\\x0e8@\\x00\\x01k\\xd5\\xae\\x058@\\xec\\xda\\xdenI\\x0e8@\\xd2r\\xa0\\x87\\xda28@\\xb7\\nb\\xa0kW8@\\xcak%t\\x97\\x848@\\xd7O\\xffY\\xf3\\x978@\\x9d\\xb8\\x1c\\xaf@\\x9c8@vl\\x04\\xe2u\\xad8@\\xc8\\xf0\\xd8\\xcfb\\xe58@\\xa2\\x7f\\x82\\x8b\\x15\\xe18@\\xdb\\x16e6\\xc8\\xdc8@\\x0eGW\\xe9\\xee\\xde8@\\x86<\\x82\\x1b)\\x1b9@\\x8eY\\xf6$\\xb0\\xe98@\\x1f\\xf2\\x96\\xab\\x1f79@!\\x92!\\xc7\\xd6\\xeb8@\\xdb\\x16e6\\xc8\\xdc8@\\xf4\\xde\\x18\\x02\\x80\\x039@\\x9d\\xb8\\x1c\\xaf@\\x9c8@\\x04\\x03\\x08\\x1fJ\\x808@\\xd7O\\xffY\\xf3\\x978@\\xb6j\\xd7\\x84\\xb4\\xa28@\\xb0\\x03\\xe7\\x8c(\\xa98@\\x13\\x0e\\xbd\\xc5\\xc3#9@W\\xe9\\xee:\\x1b~9@\\x91\\x80\\xd1\\xe5\\xcdy9@+6\\xe6u\\xc4\\x959@O\\x07\\xb2\\x9eZ\\xe59@o\\x11\\x18\\xeb\\x1b\\xf09@\\x8f\\xe0F\\xca\\x16\\xc59@\\xf5\\xa0\\xa0\\x14\\xad\\x14:@\\xf9g\\x06\\xf1\\x81Y:@\\xa0\\xc6\\xbd\\xf9\\rS:@\\xb2\\x11\\x88\\xd7\\xf5_:@:\\x06d\\xafw\\x03:@\\x9a$\\x96\\x94\\xbb#:@\\xa8\\xa8\\xfa\\x95\\xce\\xeb9@[\\xeb\\x8b\\x84\\xb6\\xf89@\\xc7\\xd7\\x9eY\\x12\\x0c:@7\\x1a\\xc0[ \\xa99@\\xdc\\xd8\\xecH\\xf5\\xed9@\\xe5\\x7f\\xf2w\\xefP9@\\xcd\\x92\\x005\\xb5\\x149@\\xeb:TS\\x92Y8@\\xa8\\xff\\xac\\xf9\\xf1\\xb37@\\xfe`\\xe0\\xb9\\xf7P8@\\xaa&\\x88\\xba\\x0fD8@\\xbc\\xe7\\xc0r\\x84\\xbc8@\\xdc\\xb6\\xefQ\\x7f\\x918@k(\\xb5\\x17\\xd1N8@\\xfe`\\xe0\\xb9\\xf7P8@v\\xf7\\x00\\xdd\\x97#8@[\\x0b\\xb3\\xd0\\xce\\xd57@\\xc3I\\x9a?\\xa6\\xe16@\\xc5\\x1a.rO\\xa76@\\xc3\\xbc\\xc7\\x99&,6@\\x08V\\xd5\\xcb\\xef\\x006@\\x12eo)\\xe7\\x1b5@f\\x85\"\\xdd\\xcf\\xf15@\\x0b\\'i\\xfe\\x98\\xc65@\\xcb\\xdb\\x11N\\x0b\\xda5@\\xcd9x&4U6@B\\x07]\\xc2\\xa1\\xab6@\\xde\\x1bC\\x00p\\xc45@~\\x8e\\x8f\\x16gX5@\\xa0\\x1c\\x05\\x88\\x8215@|\\t\\x15\\x1c^\\xec4@\\x04s\\xf4\\xf8\\xbd\\x195@\\xc7\\x85\\x03!Y\\xa85@e\\x00\\xa8\\xe2\\xc6\\x855@\\xd7\\xdd<\\xd5!o6@\\xe9\\xa0K8\\xf466@\\xf0k$\\t\\xc2A6@\\x93<\\xd7\\xf7\\xe1P6@\\x9f\\xa9\\xd7-\\x02\\xe75@b/\\x14\\xb0\\x1d\\xc05@\\xb9\\x8b0E\\xb9\\\\5@\\x04s\\xf4\\xf8\\xbd\\x195@\\x8e\\xcc#\\x7f0\\xb44@\\xf7p\\xc9q\\xa7\\x844@\\x96^\\x9b\\x8d\\x95\\xac3@\\xf07\\xdaq\\xc3k3@C\\xcb\\xba\\x7f,\\x8c3@\\xdet\\xcb\\x0e\\xf1\\xa33@\\x05\\xde\\xc9\\xa7\\xc7\\x1a4@\\xe9~NA~\\x824@\\x85(_\\xd0B\\x9a4@@\\x87\\xf9\\xf2\\x02|4@\\xd5\\xea\\xab\\xab\\x02\\xf54@{\\x11m\\xc7\\xd455@\\xd1!p$\\xd0x5@t\\xf2\"\\x13\\xf0\\x875@h\\xc9\\xe3i\\xf9\\x015@\\x08\\xc9\\x02&pK5@\\x88\\x0b@\\xa3t\\x815@\\xae\\x0e\\x80\\xb8\\xab35@\\x04\\x00\\xc7\\x9e=\\xcf5@\\x1a\\x19\\xe4.\\xc2\\xc85@\\xf2<\\xb8;k\\x076@\\'\\x13\\xb7\\nb\\x146@\\x9f\\xa9\\xd7-\\x02\\xe75@Pl\\x05MK\\xf85@\\x1a\\x19\\xe4.\\xc2\\xc85@\\xf7\\x92\\xc6h\\x1d96@\\'\\x13\\xb7\\nb\\x146@iV\\xb6\\x0fy\\xb75@\\x8eY\\xf6$\\xb0i5@+\\xdc\\xf2\\x91\\x94\\x905@\\x00\\xaa\\xb8q\\x8b\\x9d5@G;n\\xf8\\xdd(5@\\xbf\\xd1\\x8e\\x1b~\\xfb4@6\\xeb\\x8c\\xef\\x8b\\xab4@\\x17.\\xab\\xb0\\x19\\x984@\\xa3\\xe5@\\x0f\\xb5\\xad4@c\\xd3J!\\x90\\xf74@\\xbeL\\x14!u\\x0f5@GXT\\xc4\\xe9\\xbc4@?\\xe7n\\xd7K\\x8f4@\\x86V\\'g(\\x9a4@t`9B\\x06f4@(b\\x11\\xc3\\x0es4@\\x1dv\\xdf1<64@\\x19\\xe7oB!N4@_y\\x90\\x9e\"\\x0f4@\\xaf\\x06(\\r5\\xea3@\\xcer\\xd9\\xe8\\x9cG4@\\xc6h\\x1dUMP4@4\\xd8\\xd4yT\\x9c4@\\x81t\\xb1i\\xa5T4@\\x19\\xe7oB!N4@\\xc9\\xe3i\\xf9\\x81_4@h\\xeau\\x8b\\xc0<4@x\\xba\\xf3\\xc4sN5@\\xc7\\xbd\\xf9\\r\\x13=5@&<\\xa1\\xd7\\x9fP5@\\x8d\\xb5\\xbf\\xb3=~5@2<\\xf6\\xb3Xf5@;\\xad\\xdb\\xa0\\xf6\\x935@/\\xc1\\xa9\\x0f$W5@\\xf7\\xca\\xbcU\\xd7\\xe14@\\x99\\xd6\\xa6\\xb1\\xbd\\xba4@\\x07F^\\xd6\\xc4\\x065@`\\xcelW\\xe8\\xfb4@YNB\\xe9\\x0b\\xf14@\\xfbY,E\\xf2\\xc94@M\\xd8~2\\xc6\\xc74@\\xf2^\\xb52\\xe1\\xaf4@\\x1c\\xecM\\x0c\\xc9I4@\\xe8\\xd9\\xac\\xfa\\\\\\xa94@\\x99\\xd6\\xa6\\xb1\\xbd\\xba4@F\\xce\\xc2\\x9ev\\xd04@\\xfe\\xd4x\\xe9&\\xd94@\\xfa\\xcf\\x9a\\x1f\\x7f\\xdd4@l\\xce\\xc13\\xa1\\x115@;7m\\xc6i\\x805@\\xe0\\xbd\\xa3\\xc6\\x84h5@\\x96&\\xa5\\xa0\\xdb\\xab5@_#I\\x10\\xae\\xe85@\\xca8F\\xb2GL5@\\x90\\xba\\x9d}\\xe5y5@\\xec3g}\\xca\\x915@\\xf3=#\\x11\\x1a\\x895@(\\xb7\\xed{\\xd4_5@\\x10 C\\xc7\\x0e\\xfa5@#\\xa0\\xc2\\x11\\xa4\\x1a6@(\\x0c\\xca4\\x9aL6@M\\x827\\xa4Q\\xa16@\\xb8v\\xa2$$\\xde6@\\xe4l:\\x02\\xb8=7@hs\\x9c\\xdb\\x84\\xef6@#\\xf5\\x9e\\xcai\\x077@\\xabvMHk\\xc86@\\xb3\\x80\\t\\xdc\\xba\\xbf6@\\xb8v\\xa2$$\\xde6@\\n\\xf5\\xf4\\x11\\xf8\\xdb6@\\xfb\\x03\\xe5\\xb6}\\xa36@\\xda\\x92U\\x11nJ6@w\\x0f\\xd0}9;6@\\x1d\\xe2\\x1f\\xb6\\xf4\\x086@\\xb2\\xd5\\xe5\\x94\\x80\\xd45@\\xb7D.8\\x83\\x0f6@\\xb8W\\xe6\\xad\\xba\\xee5@\\xa5\\x88\\x0c\\xabx\\xf75@\\x16\\x17G\\xe5&r5@\\xd4\\xf1\\x98\\x81\\xca\\xa85@\\xceo\\x98h\\x90\\x8e5@\\x005\\xb5l\\xad\\x9b5@!>\\xb0\\xe3\\xbf\\x905@\\xd7\\x17\\tm9;6@\\xd0\\x95\\x08T\\xff\\xf46@\\xca\\xdd\\xe7\\xf8h\\x117@\\x92\\x96\\xca\\xdb\\x11\\xea6@+\\xf9\\xd8]\\xa0\\xf06@\\xfc\\x8fL\\x87N?7@\\xfd\\xa2\\x04\\xfd\\x85\\x1e7@\\xafC5%YW7@B$C\\x8e\\xadC7@\\xa7x\\\\T\\x8b\\x947@\\xbf\\xb6~\\xfa\\xcf\\xc67@\\xca\\xdd\\xe7\\xf8h\\xe57@\\xfe\\xb5\\xbcr\\xbd\\xd17@\\x92\\x96\\xca\\xdb\\x11\\xbe7@D7\\xfb\\x03\\xe5\\xf67@\\xea\\xb0\\xc2-\\x1f\\x118@\\\\u\\x1d\\xaa))8@D7\\xfb\\x03\\xe5\\xf67@\\xb1i\\xa5\\x10\\xc8\\xe97@\\x83I\\xf1\\xf1\\t\\xe17@\\xbf\\xb6~\\xfa\\xcf\\xc67@Q\\x84\\xd4\\xed\\xec\\xd37@w\\x0f\\xd0}9\\xe37@*\\xc3\\xb8\\x1bD\\xfb7@\\xbe\\xa3\\xc6\\x84\\x98\\xe77@\\xbf\\xb6~\\xfa\\xcf\\x9a8@\\x9b>;\\xe0\\xbaj8@\\xe3\\x1b\\n\\x9f\\xad\\x178@qW\\xaf\"\\xa3\\xff7@\\x1aPoF\\xcd_8@\\xea\\xb0\\xc2-\\x1f\\x118@\\\\u\\x1d\\xaa))8@\\xcd\\x03X\\xe4\\xd7w8@\\xa1\\xf6[;QN8@\\xdcc\\xe9C\\x1748@\\x048\\xbd\\x8b\\xf7\\xeb7@\\xd5\\xce0\\xb5\\xa5:8@\\x9cQ\\xf3U\\xf2I8@\\xd3\\x85X\\xfd\\x11\\x928@?\\xa5J\\x94\\xbd\\xa58@_\\xd1\\xad\\xd7\\xf4\\xb07@\\x18=\\xb7\\xd0\\x95\\xac7@\\xca\\xdd\\xe7\\xf8h\\xe57@\\x8b\\xde\\xa9\\x80{\\xda7@\\x9f\\xe3\\xa3\\xc5\\x19\\x9b7@F]k\\xefS\\xb57@=\\x7f\\xda\\xa8N\\x138@\\xb6\\xd8\\xed\\xb3\\xca$8@\\x83I\\xf1\\xf1\\t\\xe17@\\xa1\\xf6[;Qz7@B$C\\x8e\\xadC7@\\xfc\\x8fL\\x87N?7@\\x7f\\xfa\\xcf\\x9a\\x1f\\'7@\\x8a\\xce2\\x8bP47@~\\x8f\\xfa\\xeb\\x15^7@EdX\\xc5\\x1b=7@L\\xa44\\x9b\\xc7\\xd56@L\\xa44\\x9b\\xc7\\xd56@\\x8a9\\x08:Z\\xfd6@\\xf0\\x16HP\\xfc\\xcc6@\\xf6\\x80y\\xc8\\x94\\xd36@o\\x82o\\x9a>w6@\\xf7V$&\\xa8e6@\\xcc\\x0f\\\\\\xe5\\t\\x806@\\xccz1\\x94\\x13I6@\\xdb4\\xb6\\xd7\\x82\\x166@p\\xedDIH@6@\\xc1\\xa6\\xce\\xa3\\xe2;6@q\\xc3\\xef\\xa6[\\xd25@\\x1f\\x9f\\x90\\x9d\\xb7\\r6@v\\xc2Kp\\xea\\x0f6@\\xc4|y\\x01\\xf6\\xcd5@A\\xd8)V\\rJ5@H\\xbd\\xa7r\\xdaG5@V\\x0cW\\x07@L5@Y\\xa0\\xdd!\\xc5\\xc05@T6\\xac\\xa9,\\xba5@>\\x97\\xa9I\\xf0\\xee5@\\xa9\\x83\\xbc\\x1eL*6@\\xb5\\xc2\\xf4\\xbd\\x86\\x006@q\\xc3\\xef\\xa6[\\xd25@\\x8a\\xe6\\x01,\\xf2\\xe35@^\\x9f9\\xebS\\xfe5@\\xc4|y\\x01\\xf6\\xcd5@3\\xc3FY\\xbf\\xe15@S\\xcb\\xd6\\xfa\"\\xf15@\\xe5\\x08\\x19\\xc8\\xb3#6@\\x17_\\xb4\\xc7\\x0bu6@\\xcc\\x0f\\\\\\xe5\\t\\x806@\\xff;\\xa2Buc6@1\\xed\\x9b\\xfb\\xabO6@\\xc3\\x11\\xa4R\\xec\\x046@k\\xee\\xe8\\x7f\\xb9\\x026@\\xc9\\xe6\\xaay\\x8e\\xd45@\\xb6-\\xcal\\x90\\xc95@[\\x0b\\xb3\\xd0\\xce\\x895@\\x1b\\x0b\\n\\x832\\x995@7\\xc2\\xa2\"N\\x1f6@\\x8fP3\\xa4\\x8a\\xea5@^\\x9f9\\xebS\\xfe5@t\\xec\\xa0\\x12\\xd7}6@h\\xadhs\\x9c\\xa76@\\x7fe\\xa5I)\\xf06@\\xc7\\x10\\x00\\x1c{B6@qX\\x1a\\xf8Q\\t6@\\xa9\\x83\\xbc\\x1eL*6@\\xa9\\x18\\xe7oBa6@=,\\xd4\\x9a\\xe6%6@UO\\xe6\\x1f}76@X\\xca2\\xc4\\xb1.6@\\xc8{\\xd5\\xca\\x84\\x0b6@_\\n\\x0f\\x9a]\\xc75@\\x03}\"O\\x92\\xbe5@\\xe8I\\x99\\xd4\\xd0~5@\\x06\\xbe\\xa2[\\xaf\\x195@\\xbb\\x0c\\xff\\xe9\\x0625@j2\\xe3m\\xa5W5@\\xe7\\x1d\\xa7\\xe8H^5@\\x9e)t^c+5@>{.S\\x93\\xe44@\\x9f\\xe6\\xe4E&\\xe04@\\xdc\\x0fx`\\x00\\xe94@l\\x95`q8S5@\\x83Os\\xf2\"g5@\\xca\\xe0(yu\\x9e5@\\xa4R\\xech\\x1c\\x1e5@\\xb8\\x03u\\xca\\xa3\\xef4@\\xd7\\xa3p=\\n\\xab4@\\x0e\\xa4\\x8bM+\\xc14@\\x88,\\xd2\\xc4;\\xcc4@\\xf4\\x86\\xfb\\xc8\\xad\\xb14@R,\\xb7\\xb4\\x1a\\xb64@\\x0b\\x9b\\x01.\\xc8~4@+\\x87\\x16\\xd9\\xce\\xc74@\\xb8\\x03u\\xca\\xa3\\xef4@(~\\x8c\\xb9k\\x854@\\x8fUJ\\xcf\\xf4\\xbe4@U5A\\xd4}\\xf84@\\xff\\x94*Q\\xf6&5@\\x83Os\\xf2\"g5@\\xce\\x00\\x17d\\xcbN5@/l\\xcdV^J5@PoF\\xcdW\\x015@\\x17\\x9bV\\n\\x81\\xc85@;\\xc6\\x15\\x17GM6@\\xaeI\\xb7%r%6@\\x07\\xcf\\x84&\\x89y6@\\xa6c\\xce3\\xf6}6@%\\xb2\\x0f\\xb2,\\x806@\\x87\\xc3\\xd2\\xc0\\x8f\\xc26@\\x1b\\x0f\\xb6\\xd8\\xed#7@\\xcc\\x97\\x17`\\x1fE7@H\\xdd\\xce\\xbe\\xf2\\x047@\\xd2\\x1a\\x83N\\x08\\xf16@H\\xdd\\xce\\xbe\\xf2\\x047@\\x19\\x06,\\xb9\\x8a\\xe16@;U\\xbeg$&7@\\xee\\x9a\\x90\\xd6\\x18\\xfc6@/O\\xe7\\x8aR\\xce7@]\\xdapX\\x1ad7@\\x9a\\x03\\x04s\\xf4l7@\\xb0\\x00\\xa6\\x0c\\x1c\\xcc7@\\n\\x86s\\r3 8@\\xb9\\xabW\\x91\\xd1E8@C\\x00p\\xec\\xd9\\x9f7@\\xbc\\xcbE|\\'\\xf67@\\\\\\x1d\\x00qW\\xaf7@I)\\xe8\\xf6\\x92\\x927@\\x98\\xfayS\\x91*7@\\xcc\\x97\\x17`\\x1fE7@\\x0e\\xf8\\xfc0Bl6@\\xa7 ?\\x1b\\xb926@\\x1f\\xdb2\\xe0,)5@\\x11\\x18\\xeb\\x1b\\x98\\x1c6@[^\\xb9\\xde6\\xeb4@\\x98L\\x15\\x8cJ\\xc65@\\x81\\x92\\x02\\x0b`\\xb25@\\xf8\\xfaZ\\x97\\x1a\\r6@\\xf8\\xfaZ\\x97\\x1a\\r6@\\x9f\\xcd\\xaa\\xcf\\xd5\\xf65@\\xef\\xc9\\xc3B\\xadu5@h\\xadhs\\x9c\\xeb4@\\x80\\x0e\\xf3\\xe5\\x05\\xdc4@\\xcbd8\\x9e\\xcf\\x805@\\x14\\xb3^\\x0c\\xe5\\xa85@\\x95\\x9c\\x13{h_5@\\x9f\\xcd\\xaa\\xcf\\xd5\\xf65@\\xb4[\\xcbd8z6@t\\x97\\xc4Y\\x11\\xd16@j\\xbeJ>v#7@h\\x93\\xc3\\'\\x9d\\xcc6@\\x9bS\\xc9\\x00Pq6@5E\\x80\\xd3\\xbb06@\\xf0\\xa5\\xf0\\xa0\\xd9\\x9d6@n\\x15\\xc4@\\xd7\\xce6@\\xb96T\\x8c\\xf3c6@\\xef\\xfex\\xafZ\\x856@g\\xb6+\\xf4\\xc1\\xa66@\\x10\\x91\\x9av1\\r7@\\xcc\\xf1\\nDOz7@7\\xa5\\xbcVB\\x977@\\xeaX\\xa5\\xf4L\\xab7@\\xc6o\\n+\\x15x7@\\xea#\\xf0\\x87\\x9f\\x9b6@P\\xfd\\x83H\\x86\\xcc5@P\\xfd\\x83H\\x86\\xcc5@L\\xa6\\nF%!6@q\\x8f\\xa5\\x0f]T6@}\\xec.PR@6@R(\\x0b__#6@\\x0e1^\\xf3\\xaa\\xa65@\\xbe\\x83\\x9f8\\x80V5@\\xf2xZ~\\xe0\\n6@\\xef\\xfex\\xafZ\\x856@\\xd4Fu:\\x90\\xe96@\\x80\\x9b\\xc5\\x8b\\x85\\xd56@\\xefV\\x96\\xe8,o7@\\xd1s\\x0b]\\x89|7@\\xbak\\t\\xf9\\xa0s7@\\x1a\\xc21\\xcb\\x9e\\xa47@mm\\xe1y\\xa9\\xb87@\\xc6o\\n+\\x15x7@D\\x86U\\xbc\\x91\\xc17@\\xfc7/N|\\x997@I\\x84F\\xb0q\\x857@\\x0e\\xbe0\\x99*\\xa07@ D2\\xe4\\xd8\\xa67@\\x83\\xa3\\xe4\\xd59R7@\\x054\\x116<!7@bi\\xe0G5\\xb47@\\xc6o\\n+\\x15x7@\\xdcL\\x85x$*7@\\xea#\\xf0\\x87\\x9f\\x9b6@U0*\\xa9\\x13\\xa06@\"\\x17\\x9c\\xc1\\xdf\\x137@\\x80\\x9b\\xc5\\x8b\\x85\\xd56@}!\\xe4\\xbc\\xffO7@\\x0e\\xbe0\\x99*\\xa07@\\xa4\\x00Q0c\\xca6@\\x92!\\xc7\\xd63\\xdc6@}\\xc8[\\xae~h7@\\xa6\\x08pz\\x17G7@\\x14\\xc8\\xec,zo7@c\\x9a\\xe9^\\'\\xd96@\\xce\\xa4M\\xd5=b6@&\\xab\"\\xdcd,6@%^\\x9e\\xce\\x15\\xe95@:y\\x91\\t\\xf8\\xb95@Nyt#,r5@\\xb5\\x1b}\\xcc\\x07L5@\\x1cwJ\\x07\\xeb\\xcb5@\\xffY\\xf3\\xe3/\\xc55@\\x1f,cC7k6@\\x1e\\xdf\\xde5\\xe8\\'6@C\\xadi\\xdeq\\x1a6@\\xf3\\xa8\\xf8\\xbf#\\x866@a2U0*}6@h\\xe74\\x0b\\xb4o6@\\xb1l\\xe6\\x90\\xd4B6@\\xf3\\xa8\\xf8\\xbf#\\x866@\\xb1\\x87\\xf6\\xb1\\x82[6@\\x8d\\xeb\\xdf\\xf5\\x99\\x936@\\xf4\\x8d\\xe8\\x9eum6@\\xd6p\\x91{\\xbaf6@\\xf5\\xf5|\\xcdr\\xc96@\\xfbB\\xc8y\\xff_6@\\x12\\x13\\xd4\\xf0-\\xd06@\\x8d\\xeb\\xdf\\xf5\\x99\\x936@\\xb3\\xd4z\\xbf\\xd1\\x9e6@\\x12\\x13\\xd4\\xf0-\\xd06@\\x87l ]l\\xd26@\\x866\\x00\\x1b\\x10\\xa16@>\\xb1N\\x95\\xef\\xcd6@\\x04w\\xa0Ny\\xc06@\\xd3\\xdc\\na5v7@\\xf3\\x93j\\x9f\\x8e\\x038@\\xec\\x14\\xab\\x06aB8@78\\x11\\xfd\\xda\\xa28@\\x86W\\x92<\\xd7O8@\\x12\\x19V\\xf1Ff8@=\\x9c\\xc0tZK8@6\\x1d\\x01\\xdc,\\x8a8@\\x12\\x81\\xea\\x1fD\\xc28@\\x88\\xda6\\x8c\\x82\\xc48@\\xca\\xc5\\x18X\\xc7\\xbd8@\\x0b\\x9a\\x96X\\x19\\xa58@\\xaaa\\xbf\\'\\xd6\\t:@\\xf3\\x1c\\x91\\xefR\\x0e:@;p\\xce\\x88\\xd2\\xb69@Y\\xbf\\x99\\x98.\\xe89@`tys\\xb8\\xda9@;U\\xbeg$\\x9e9@\\xbf\\x97\\xc2\\x83f\\xf39@~\\x91\\xd0\\x96s\\xe19@\\x18!<\\xda82:@R[\\xea \\xaf?:@\\x81F\\xe9\\xd2\\xbf\\x80:@0\\xbf\\xd3d\\xc6w:@\\x81a\\xf9\\xf3m\\x99:@U\\x10\\x03]\\xfb\\xde:@V+\\x13~\\xa9\\xf7:@1\\x0cXr\\x15\\xbb:@\\x13\\n\\x11p\\x08\\xcd:@7\\xaa\\xd3\\x81\\xac\\xaf:@\\x0b\\xed\\x9cf\\x81\\x82:@B\\x7f\\xa1G\\x8c\\x9a;@L\\x8e;\\xa5\\x83\\x91;@\\x99\\xd7\\x11\\x87l\\xbc;@\\xc7\\x86n\\xf6\\x07\\x96;@\\x8ci\\xa6{\\x9d\\xac;@\\xee\\xd0\\xb0\\x18u\\xc5;@\\x12qs*\\x19\\xa8;@f\\xd7\\xbd\\x15\\x89\\x1d<@H\\x88\\xf2\\x05-\\x00<@Vc\\tkc|<@\\xd0\\x10\\x8eY\\xf6L<@\\x18z\\xc4\\xe8\\xb9\\r<@8\\xbb\\xb5L\\x86\\xd7;@\\xaeb\\xf1\\x9b\\xc2\\x16<@@\\xc4\\x06\\x0b\\'=<@\\x05\\xbba\\xdb\\xa28<@9(a\\xa6\\xedC<@\\xae\\x06(\\r5\\xd2<@\\xb6\\xd8\\xed\\xb3\\xca\\xe8<@\\xbe\\xd3d\\xc6\\xdb\\xfa<@\\xa2\\x98\\xbc\\x01f\\xc2<@\\xce\\xfcj\\x0e\\x10h<@\\x05\\xbba\\xdb\\xa28<@\\xbb\\xd0\\\\\\xa7\\x91&<@D7\\xfb\\x03\\xe5:<@@\\xc4\\x06\\x0b\\'=<@\\xa6\\x0b\\xb1\\xfa#\\xc0<@\\x9a\\x9dE\\xefT\\xb0<@\\xef\\x88\\n\\xd5\\xcde<@\\xe3\\x1a\\x9f\\xc9\\xfeU<@\\\\\\xff\\xae\\xcf\\x9cu<@Vc\\tkc|<@tE)!X-<@\\xb5\\xa5\\x0e\\xf2z\\x88;@\\xe3\\xc1\\x16\\xbb}\\xce;@\\xf45\\xcbe\\xa3o;@\\x9cp\\xaf\\xcc[\\xe1:@\\xfc\\x8c\\x0b\\x07B\\xc6:@\\x12c\\x99~\\x89T;@A\\x12\\xf6\\xed$.;@y=\\x98\\x14\\x1fk;@\\x99\\xd7\\x11\\x87l\\xbc;@\\xa87\\xa3\\xe6\\xabx;@m\\xcf,\\tP[;@\\x92\\xcb\\x7fH\\xbf\\x99<@\\xe3\\x1a\\x9f\\xc9\\xfeU<@\\xf9L\\xf6\\xcf\\xd3(<@\\xce\\xfcj\\x0e\\x10h<@F\\x96\\xcc\\xb1\\xbcS<@\\xc9>\\xc8\\xb2`6<@\\xbe/.Ui?<@@\\xc4\\x06\\x0b\\'=<@\\x18z\\xc4\\xe8\\xb9\\r<@dx\\xecg\\xb1\\x04<@\\x12c\\x99~\\x89T;@\\xac=\\xec\\x85\\x02\\n;@S\\xe5{F\"\\xe8:@\\xae\\x9c\\xbd3\\xda\";@3\\xa4\\x8a\\xe2U\\x1e;@\\xc3\\'\\x9dH0};@c\\xb2\\xb8\\xff\\xc8\\x10;@S\\xad\\x85Yh\\xd3:@,,\\xb8\\x1f\\xf0\\x8c:@\\xf8r\\x9f\\x1c\\x05d:@\\xf5\\xa3\\xe1\\x94\\xb9\\xfd9@J?\\xe1\\xec\\xd6j:@\\xf0\\xd5\\x8e\\xe2\\x1cm:@\\r\\x18$}Z\\xd99@s\\xbdm\\xa6B\\xd09@\\xcc&\\xc0\\xb0\\xfc\\xcd9@p\\xef\\x1a\\xf4\\xa5?:@\\xe2\\xca\\xd9;\\xa3\\r:@\\x01\\xde\\x02\\t\\x8a\\xeb9@\\x83\\xc3\\x0b\"RC9@\\x82\\xc7\\xb7w\\rZ9@)\\\\\\x8f\\xc2\\xf5P9@\\x88a\\x871\\xe9\\x0f:@\\xfb@\\xf2\\xce\\xa1\\xf49@\\nL\\xa7u\\x1bT:@\\xe5\\x9a\\x02\\x99\\x9d\\xa99@B\\xd1<\\x80E\\x02:@\\x19V\\xf1F\\xe6\\xdd9@\\xe2\\xca\\xd9;\\xa3\\r:@\\xb9LM\\x827\\xa8:@\\x85\\x934\\x7fL\\x7f:@\\x91\\xce\\xc0\\xc8\\xcbB;@g\\x81v\\x87\\x14w;@\\x07~T\\xc3~\\xc3:@\\x91\\xce\\xc0\\xc8\\xcbB;@zW=`\\x1e\\x86:@\\xb9LM\\x827\\xa8:@\\xfaA]\\xa4P\\xca:@\\xd3\\xc2e\\x156\\x8f:@\\xaaD\\xd9[\\xca);@\\xb6\\x80\\xd0z\\xf8\";@8gDioP;@\\x91\\xce\\xc0\\xc8\\xcbB;@Ho\\xb8\\x8f\\xdc\\xce:@m\\x1f\\xf2\\x96\\xab\\xa3:@\\xa4\\xa83\\xf7\\x90h:@Gp#e\\x8b\\x04:@v\\x8d\\x96\\x03=l9@\\xe2\\xcc\\xaf\\xe6\\x00\\x19:@#\\xbe\\x13\\xb3^$:@\\xb0\\xe2TkaV:@\\x11\\xe6v/\\xf7\\t;@\\x9e\\n\\xb8\\xe7\\xf9;;@\\xfb?\\x87\\xf9\\xf2\\xbe:@\\x9b:\\x8f\\x8a\\xff\\xff9@f\\x83L2r\\xe29@\\x98k\\xd1\\x02\\xb4\\x999@\\r\\x1a\\xfa\\'\\xb8\\xe49@\\xf0\\xd5\\x8e\\xe2\\x1cm:@d\\xb5\\xf9\\x7f\\xd5Q:@\\xd5\\x92\\x8er0+:@/\\xfa\\n\\xd2\\x8c\\x1d:@\\x01\\xde\\x02\\t\\x8a\\xeb9@J?\\xe1\\xec\\xd6j:@m\\x1d\\x1c\\xecM\\x98:@\\x94\\x9e\\xe9%\\xc6\\xde:@\\x83\\xc5\\xe1\\xcc\\xaf\\xee:@\\x10\\xe8L\\xdaT\\x15;@\\x1d\"nN%\\x03;@(^emS\\xfc:@\\xa7a\\xf8\\x88\\x98\\xee:@\\xd9\\x06\\xee@\\x9d\\xfe:@i\\xff\\x03\\xacU\\x83;@\\xec\\x19\\xc21\\xcb\\x9e;@\\xa7\\\\\\xe1].z;@\\xe8i\\xc0 \\xe9\\x87;@\\x82\\xe32njL;@\\x1a\\x14\\xcd\\x03X\\x0c;@\\xa2E\\xb6\\xf3\\xfdP;@\\x17\\xf8\\x8an\\xbdn;@\\x94\\xfb\\x1d\\x8a\\x02a;@\\xf4L/1\\x96e;@[!\\xac\\xc6\\x12\\x1a;@H\\xbb\\xd1\\xc7|\\x8c;@M\\xd7\\x13]\\x17*;@M\\xd7\\x13]\\x17*;@HO\\x91C\\xc4\\x05<@\\xbem\\xa6B<\\xaa;@\\xe6\\x02\\x97\\xc7\\x9au;@y\\xb0\\xc5n\\x9f\\x85;@i\\xff\\x03\\xacU\\x83;@\\r\\xc5\\x1do\\xf2\\xa7;@$\\xf43\\xf5\\xba\\xe5;@$\\xf43\\xf5\\xba\\xe5;@S\\xe9\\'\\x9c\\xdd\\xde;@\\x7f.\\x1a2\\x1e\\xc1;@\\xab\\x07\\xccC\\xa6\\x1c<@\\x04\\x92\\xb0o\\'\\xe1;@i\\xff\\x03\\xacU\\x83;@M\\xd7\\x13]\\x17*;@\\xc8\\x0cT\\xc6\\xbf\\xf7:@\\x17d\\xcb\\xf2u\\xf5:@\\x8c\\x82\\xe0\\xf1\\xed\\x99:@\\xd5[\\x03[%\\\\:@*\\xca\\xa5\\xf1\\x0b\\x83:@\\x8f2\\xe2\\x02\\xd0\\xb0:@\\xe4\\xa0\\x84\\x99\\xb6\\xd7:@\\xde\\x89Y/\\x86\\xae:@\\xee\\xd3\\xf1\\x98\\x81\\x9e:@\\x00:\\xcc\\x97\\x17,:@7\\x19U\\x86q\\xe79@f\\x0eI-\\x94\\xe09@^\\xdb\\xdb-\\xc9\\x19:@\\x95\\xb5M\\xf1\\xb8`:@\\xd5[\\x03[%\\\\:@8\\x14>[\\x07s:@\\x86\\x04\\x8c.o^:@\\xeeDIH\\xa4\\x999@\\x1c?T\\x1a1\\x079@\\xad\\xa3\\xaa\\t\\xa2\\x129@\\x19\\x8fR\\tO\\xf08@Y5\\x08s\\xbb\\xeb8@\\xf2`\\x8b\\xdd>79@+\\x84\\xd5X\\xc2\\x829@F^\\xd6\\xc4\\x02c:@\\x86\\x04\\x8c.o^:@\\xb8\\xc7\\xd2\\x87.|:@\\x8f2\\xe2\\x02\\xd0\\xb0:@\\x9a\\xd1\\x8f\\x86S\\xfe9@B\\xb3\\xeb\\xde\\x8a\\xc09@\\xa3\\x04\\xfd\\x85\\x1e\\xc59@\\xa3\\t\\x14\\xb1\\x8899@\\x90\\xba\\x9d}\\xe5i8@\\x01\\xf9\\x12*808@\\x10\\x1em\\x1c\\xb1\\x068@2Y\\xdc\\x7fd\\xe67@\\xaf\\x04Rb\\xd7\\x168@\\x06\\x82\\x00\\x19:\\x128@R\\xed\\xd3\\xf1\\x98I8@\\xa2);\\xfd\\xa0\\xf68@\\xb6\\xd7\\x82\\xde\\x1b\\xaf8@\\x0cuX\\xe1\\x96g8@\\xca\\xfey\\x1a0\\xa88@R\\xed\\xd3\\xf1\\x98I8@\\xff\\x07X\\xabv\\xfd7@\\x8a\\xe7l\\x01\\xa1\\xd17@oF\\xcdW\\xc9\\xc37@\\x95c\\xb2\\xb8\\xff\\x088@\\xaf\\x04Rb\\xd7\\x168@w\\xc0u\\xc5\\x8c\\xd87@\\xce\\xa7\\x8eUJG8@\\x17\\xf1\\x9d\\x98\\xf5\\x9e8@\\xf4\\xc4s\\xb6\\x80\\x8c8@:=\\xef\\xc6\\x82n8@\\xd30|DL)8@\\x15\\x00\\xe3\\x194l8@\"m\\xe3OT\\xd68@\\x93\\xabX\\xfc\\xa6\\x9c8@\\x99\\x9e\\xb0\\xc4\\x03\\xf28@\\x12h\\xb0\\xa9\\xf3\\xbc8@b\\xf2\\x06\\x98\\xf9b8@\\n\\x84\\x9db\\xd548@6;R}\\xe7K8@\\x1e2\\xe5CP\\xed7@\\x06\\x82\\x00\\x19:\\x128@\\x7f\\xfd\\x10\\x1b,\\xe48@x\\n\\xb9R\\xcf\\x8e8@4J\\x97\\xfe%\\x198@\\x9e\\xee<\\xf1\\x9c\\r8@\\x1e2\\xe5CP\\xed7@\\xc3+I\\x9e\\xeb\\x0f8@w\\xc0u\\xc5\\x8c\\xd87@}\\xb3\\xcd\\x8d\\xe9-8@\\xf7\\\\\\xa6&\\xc1;8@\\xc5\\xfc\\xdc\\xd0\\x94\\x858@\\x9bV\\n\\x81\\\\^8@x\\n\\xb9R\\xcf\\x8e8@x\\n\\xb9R\\xcf\\x8e8@\\xab[=\\'\\xbdw8@\\xf9\\xb7\\xcb~\\xdd\\xe18@\\xc1S\\xc8\\x95z\\xe68@\\xf2\\x0c\\x1a\\xfa\\' 9@\\x7f\\xdd\\xe9\\xce\\x13\\'9@L\\x8ce\\xfa%>9@\\x054\\x116<\\x199@\\x12h\\xb0\\xa9\\xf3\\xbc8@(`;\\x18\\xb1+9@\\xed*\\xa4\\xfc\\xa4\\xba8@\\x07\\xccC\\xa6|\\xc88@\\xc1s\\xef\\xe1\\x92\\xa38@\\xa6\\xd2O8\\xbb\\x958@\\x9e\\'\\x9e\\xb3\\x05\\xd48@\\x89yV\\xd2\\x8a\\x1b9@\\xf2\\x0c\\x1a\\xfa\\' 9@\\xf6\\x0e\\xb7C\\xc3B9@zT\\xfc\\xdf\\x11E9@L\\x8ce\\xfa%>9@;\\xfb\\xca\\x83\\xf4|9@r\\xfb\\xe5\\x93\\x15S9@\\x88\\x82\\x19S\\xb0\\xfa8@\\xb9\\xe0\\x0c\\xfe~99@w\\x85>X\\xc6\\xde8@w\\x85>X\\xc6\\xde8@\\xd8\\x11\\x87l E9@>@\\xf7\\xe5\\xccB9@^\\xa1\\x0f\\x96\\xb1e9@[D\\x14\\x937\\x949@\\x99\\xd6\\xa6\\xb1\\xbd\\xc29@\\xa3A\\n\\x9eB\\x869@\\xc1r\\x84\\x0c\\xe4\\x919@}\\xd2\\x89\\x04Sq9@r\\xfb\\xe5\\x93\\x15S9@\\xf7Z\\xd0{c\\\\9@\\x90,`\\x02\\xb7^9@\\xc1r\\x84\\x0c\\xe4\\x919@\\xe3\\x18\\xc9\\x1e\\xa1z9@\\x9b\\x1b\\xd3\\x13\\x96\\x889@(\\xb9\\xc3&2\\x9b9@mY\\xbe.\\xc3\\xbb9@5\\xedb\\x9a\\xe9\\x8a9@z\\x8d]\\xa2z\\xab9@\\xf5\\x15\\xa4\\x19\\x8b\\x969@\\xf5\\x15\\xa4\\x19\\x8b\\x969@\\xccy\\xc6\\xbed\\xc79@0c\\n\\xd68\\xff9@0c\\n\\xd68\\xff9@\\x934\\x7fLk+:@0K;5\\x97\\xf39@\\x96\\x91zO\\xe5\\xfc9@\\xb6\\xda\\xc3^(\\x14:@\\xfd\\xbf\\xea\\xc8\\x91\\xfa9@\\x87W\\x92<\\xd7\\xe7:@\\xf2\\xea\\x1c\\x03\\xb2\\x83;@\\x1a\\xc4\\x07v\\xfcK:@;R}\\xe7\\x17):@\\x1c\\t4\\xd8\\xd4\\x11:@\\xa5I)\\xe8\\xf6R:@a\\xa9.\\xe0e2:@;R}\\xe7\\x17):@^\\xa3\\xe5@\\x0f\\r;@\\x0c\\x92>\\xad\\xa2\\x03<@Bz\\x8a\\x1c\"\\xce;@o\\xbae\\x87\\xf8\\xdb<@\\x1a\\xa1\\x9f\\xa9\\xd7\\x05=@;/\\x15\\x1b\\xf3\\xe2<@\\xe7<c_\\xb2\\xa1=@\\x06\\xf2\\xec\\xf2\\xad\\x13>@\\x9fW<\\xf5H\\xbb=@\\xa1\\xdbK\\x1a\\xa3!>@+4\\x10\\xcbfn>@\\x81\\xd1\\xe5\\xcd\\xe1\\xaa>@ E\\x9d\\xb9\\x87D>@\\xd0\\xb5/\\xa0\\x17\\xfa=@\\xa5e\\xa4\\xdeS\\xad=@2\\xeb\\xc5PN\\xb4=@\\xb4\\x1dSwe\\x03>@C\\x90\\x83\\x12f\\xae>@\\x9cp\\xaf\\xcc[\\xf9>@\\x9a}\\x1e\\xa3</?@\\x0e}w+K\\xe8?@?\\x8b\\xa5H\\xbe\\x0c@@\\x81\\t\\xdc\\xba\\x9b\\xe3?@\\x80\\x10\\xc9\\x90c\\xab?@\\xe9\\xbb[Y\\xa2??@9\\xb4\\xc8v\\xbe[?@[\\xd1\\xe68\\xb7\\x05@@w.\\x8c\\xf4\\xa2\\xea?@\\x9e\\xb6F\\x04\\xe3\\x06@@e\\xaa`TR\\xef?@\\x8c\\x12\\xf4\\x17zH@@!\\xae\\x9c\\xbd3\\x02@@2\\xcb\\x9e\\x046\\xd3?@L7\\x89A`\\xfd?@\\xf7\\x96r\\xbe\\xd8Q@@c\\x96=\\tl:@@\\x9b6\\xe34D\\xe1?@d\\x93\\xfc\\x88_\\x03@@K>v\\x17(\\xc5?@\\xf2]J]2z?@d\\x93\\xfc\\x88_\\x03@@\\x9d\\xd9\\xae\\xd0\\x07\\x01@@\\x92\\x94\\xf40\\xb4\\xa6?@J\\x7f/\\x85\\x07\\xa5>@\\xb3#\\xd5w~q>@\\xc4\\xad\\x82\\x18\\xe8\\xda>@\\x81\\x04\\xc5\\x8f1\\xcf>@\\x0e\\xbd\\xc5\\xc3{n?@\\x05\\xdb\\x88\\'\\xbb\\xad?@0\\xd2\\x8b\\xda\\xfd\\x9a?@wn\\xda\\x8c\\xd3p?@\\xd7*\\xc1\\xe2p\\x0e?@\\xc8`\\xc5\\xa9\\xd6\\x1e?@\\xd0H\\x84F\\xb0M?@\\x03(F\\x96\\xcci?@\\x0e\\xbd\\xc5\\xc3{n?@]\\xc2\\xa1\\xb7x\\xc0?@\\xee\\xd4\\\\n0T@@\\xf7\\x96r\\xbe\\xd8Q@@0\\xbd\\xfd\\xb9h\\x8c@@\\xd3n\\xf41\\x1f\\x98@@_%\\x1f\\xbb\\x0bZ@@\\xe8\\x83el\\xe86@@\\xc0\\xb4\\xa8Or\\xbb<@\\xbb?\\xde\\xabVJ=@\\x1b\\t4\\xd8\\xd4\\x1d=@[}uU\\xa0>=@\\x99\\xf2!\\xa8\\x1a\\xb9<@U\\x10\\x03]\\xfb\\xee<@@\\x18x\\xee=\\xdc<@\\xd1>V\\xf0\\xdb$=@\\xaa|\\xcfH\\x84\"=@\\xb7\\xd2k\\xb3\\xb1\\xfa<@\\x0c?8\\x9f:.=@l\\x08\\x8e\\xcb\\xb8\\x01=@\\xda \\x93\\x8c\\x9c\\xe5<@\\xa1\\xe0bE\\rV=@\\xf1\\xd7d\\x8dz\\x18>@R\\xa1\\xba\\xb9\\xf8\\xeb=@\\x03\\\\\\x90-\\xcb\\x13>@71$\\'\\x13\\xb3=@o\\xd9!\\xfea\\xcf=@\\x8f \\x95bGK=@\\xe1\\xca\\xd9;\\xa3M=@\\xd5\\xb0\\xdf\\x13\\xeb\\xec<@0F$\\n-#=@;\\xa4\\x18 \\xd1 =@AaP\\xa6\\xd1\\xd8=@0\\xd9x\\xb0\\xc5\\x02@@\\xacq6\\x1d\\x01x?@@\\xd8)V\\r\\xa6>@\\x14w\\xbc\\xc9om>@\\x16J&\\xa7v\\xea>@D\\xab\\x933\\x14\\xc7>@\\xe6\\xe2o{\\x82`=@/\\x8a\\x1e\\xf8\\x18\\xc0<@lxz\\xa5,\\xc7<@g`\\xe4eM\\xb4<@\\xc2\\xde\\xc4\\x90\\x9c,=@AaP\\xa6\\xd1\\xd8=@\\xd4\\x9e\\x92sb+>@\\xcb\\x85\\xca\\xbf\\x96\\x1f>@\\xc7):\\x92\\xcbo>@\\xae\\x83\\x83\\xbd\\x899>@\\x1b\\xbd\\x1a\\xa04X>@\\x9e\\x9b6\\xe34\\xb4>@\\x10\\x04\\xc8\\xd0\\xb1\\xff>@\\xfb\\xd0\\x05\\xf5-7>@\\xd4\\x9e\\x92sb+>@\\xfe,\\x96\"\\xf9\\xe6=@\\xd8\\x11\\x87l \\xf5=@\\x12\\x8d\\xee v2>@wi\\xc3ai\\xa8>@+\\x1cA*\\xc5\\xaa>@6\\x1f\\xd7\\x86\\x8a\\xf1>@\\xaf\\xe4*\\x16\\xbfA?@\\xd5\\xff9\\xcc\\x973?@_;\\x18\\xb1O8?@\\xb5W\\x1f\\x0f}\\xaf>@\\xde\\xe5\"\\xbe\\x13k>@\\x9a\\xb1h:;y>@F\\xac\\xc5\\xa7\\x00\\x1c?@\\xc3-\\x1fIIs?@\\xd6\\x8dwG\\xc6\\xbe?@\\xa8\\x15\\xa6\\xef5\\xc8?@}\\xb48c\\x98\\xeb?@\\x8f\\xcaM\\xd4\\xd2\\x16@@x\\x0ee\\xa8\\x8a\\x1b@@\\x07y=\\x98\\x14\\x1f@@\\xa3\\xcfG\\x19q\\xdd?@F\\xac\\xc5\\xa7\\x00\\x1c?@W\\x0b\\xec1\\x91\\x12?@\\xa1\\x13B\\x07]v@@mw\\x0f\\xd0}c@@Y\\xdeU\\x0f\\x98]@@N\\x80a\\xf9\\xf3_@@h_y\\x90\\x9eP@@\\xb2\\xb7\\x94\\xf3\\xc5^@@\\xb9\\xc4\\x91\\x07\"\\x8f@@\\xda\\x8e\\xa9\\xbb\\xb2\\xe1@@-\\x99cyW\\x97A@\\x00qW\\xaf\"GA@P\\xe1\\x08R)hA@\\xfdM(D\\xc0QA@\\xf0\\xfa\\xccY\\x9f6A@8\\xf7W\\x8f\\xfb\\x94A@(\\x81\\xcd9x\\x84A@.\\xc7+\\x10=oA@\\xbc^\\x9a\"\\xc0#A@\\xb3\\xb2}\\xc8[\\x0eA@~\\xaa\\n\\r\\xc46A@\\x92\\xce\\xc0\\xc8\\xcb\\\\A@\\xa7\\xce\\xa3\\xe2\\xffpA@\\xad\\x8ap\\x93QyA@\\x01\\xf7<\\x7f\\xdaVA@\\xe0\\xda\\x89\\x92\\x90tA@F\"4\\x82\\x8d\\xb3A@+\\xc2MF\\x95\\xd9A@\\x1fJ\\xb4\\xe4\\xf1\\xc8A@\\x83j\\x83\\x13\\xd1\\x13B@\\x8e^\\rP\\x1a\\xa4A@>\\xae\\r\\x15\\xe3\\xceA@\\\\Z\\r\\x89{\\xf8A@`\\xca\\xc0\\x01-\\xb1A@\\xa3\\x02\\'\\xdb\\xc0uA@\\x8a\"\\xa4ngGA@R_\\x96vj\\x08A@\\x12\\xdf\\x89Y/ A@\\x0e\\xdb\\x16e6\\xf4@@\\xc1\\xe2p\\xe6W\\xfb@@\\x19\\x1b\\xba\\xd9\\x1f\\xd4@@%\\xcbI(}\\x15A@\\x1d\\x1f-\\xce\\x18\\x00A@~\\xaa\\n\\r\\xc46A@\\xee\\n}\\xb0\\x8caA@\\x8f\\xdep\\x1f\\xb9OA@\\x8f\\xdep\\x1f\\xb9OA@\\xb5\\xfe\\x96\\x00\\xfc]A@\\xd7\\x1aJ\\xedE@A@\\xf86\\xfd\\xd9\\x8f\"A@\\xf4\\xfa\\x93\\xf8\\xdc\\xc5@@\\x0c\\xeb\\xc6\\xbb#\\xe7@@\\xaf\\x07\\x93\\xe2\\xe3\\x99@@\\x88\\xf7\\x1cX\\x8e~@@\\x08\\xe7S\\xc7*\\xbb@@\\xac\\xcb)\\x011=@@\\x96_\\x06cD\\x9c@@X\\x1bc\\'\\xbc\\x10A@\\x12\\xdf\\x89Y/ A@\\x02c}\\x03\\x93\\xe3@@\\x7f\\xbb\\xec\\xd7\\x9d\\xca@@5{\\xa0\\x15\\x18\\xae@@\\xee>\\xc7G\\x8b\\xbd@@\\xb9nJy\\xad\\x16A@tCSv\\xfa\\xb9@@\\x00s-Z\\x80\\xd6@@\\x1aS\\xb0\\xc6\\xd9\\x04A@\\xd8\\xd2\\xa3\\xa9\\x9e\\x1cA@\\x9b\\x8e\\x00n\\x16\\x91A@\\x12\\xa7\\x93lu\\xef@@X\\xe3l:\\x02\\xe0@@c\\x0f\\xedc\\x05\\xa1@@\\x13_\\xed(\\xce\\xcb@@\\xdb\\x8a\\xfde\\xf7\\xf8@@%\\xcbI(}\\x15A@)\\xcf\\xbc\\x1cvAA@\\x98\\x8a\\x8dy\\x1deA@\\xa3\\x02\\'\\xdb\\xc0uA@\\xc62\\xfd\\x12\\xf1vA@u\\x07\\xb13\\x85\\x80A@\\xafZ\\x99\\xf0K\\x8bA@m;m\\x8d\\x08\\xa8A@m\\x19p\\x96\\x92\\xc3A@V\\x85\\x06b\\xd9\\xa0A@t\\xef\\xe1\\x92\\xe3\\x8eA@\\x11\\xaa\\xd4\\xec\\x81\\x86A@\\xaf \\xcdX4\\xb5A@fM,\\xf0\\x15\\xebA@\\xc0\\\\\\x8b\\x16\\xa0\\xabA@\\xec/\\xbb\\'\\x0f\\xf7A@\\xb8\\x90Gp#\\xd3A@\\x980\\x9a\\x95\\xed\\xd7A@\\xc0D\\xbcu\\xfe\\xb9A@\\xcf\\x80z3j\\xb0A@M\\xb9\\xc2\\xbb\\\\\\xc8A@V)=\\xd3K\\xe6A@\\x02B\\xeb\\xe1\\xcb\\xb8A@\\x12\\x88\\xd7\\xf5\\x0b\\xa2A@\\xa1\\xda\\xe0D\\xf4\\xcbA@ur\\x86\\xe2\\x8e\\x7fB@Ie\\x8a9\\x08^B@$\\xd3\\xa1\\xd3\\xf3\\xdcB@\\xca7\\xdb\\xdc\\x98\\xc8B@\\x0e\\xfb=\\xb1N\\xf1B@obHN&\\xdeB@2SZ\\x7fK\\x9cB@\\x84\\xb8r\\xf6\\xcehB@`>Y1\\\\\\xd9B@\\xa3\\xc7\\xefm\\xfa+C@\\xe1\\xee\\xac\\xddv_C@\\xae-</\\x15WC@jj\\xd9Z_.C@\\xe1\\'\\x0e\\xa0\\xdf\\xa5B@~\\xe2\\x00\\xfa}\\x9dB@\\x86tx\\x08\\xe3\\x9fB@\\xba\\xd9\\x1f(\\xb7\\xedB@\\x84\\xb8r\\xf6\\xcehB@2\\xaf#\\x0e\\xd9VB@\\xde\\x8d\\x05\\x85ASB@#/kb\\x81\\x97B@W\\x94\\x12\\x82U\\xe5B@w.\\x8c\\xf4\\xa2\\xb6B@\\x14\\xe9~NA\\xaeB@\\xe0\\x0f?\\xff=\\xb4B@;\\xfd\\xa0.R\\x90B@f\\x14\\xcb-\\xad\\xa4B@\\xc1\\xc7`\\xc5\\xa9\\xaaB@\\xa4\\xdf\\xbe\\x0e\\x9c\\x1dC@X\\x8a\\xe4+\\x81\\xf2B@W\\x94\\x12\\x82U\\xe5B@,\\x9f\\xe5yp\\xb5B@;\\xfd\\xa0.R\\x90B@\\xe7\\xfd\\x7f\\x9c0qB@P\\x19\\xff>\\xe3DB@+\\xfb\\xae\\x08\\xfeoB@\\xe0I\\x0b\\x97U\\x8aB@*\\xe3\\xdfg\\\\~B@\\xd9}\\xc7\\xf0\\xd8\\xb1B@;s\\x0f\\t\\xdf\\tC@\\xf0\\xa4\\x85\\xcb*\\xf4B@*\\xe1\\t\\xbd\\xfe\\xa6B@\\xe8\\xdb\\x82\\xa5\\xba\\xc2B@=\\xba\\x11\\x16\\x15\\xb9B@\\xd6\\x02{L\\xa4\\xb0B@\\xd4\\xbbx?n\\x01C@\\x10\\xcbf\\x0eI\\xe3B@X\\xb0\\x8dx\\xb2\\xe5B@\\xbeg$B#\\xeeB@3\\xaa\\x0c\\xe3n\\xd8B@\\xd1@,\\x9b9\\x00C@\\x98\\xc6/\\xbc\\x92HC@\\xc6\\xdc\\xb5\\x84|6C@\\xe0\\xf2X32\\xfaB@Z\\xd7h9\\xd0\\xfdB@\\xd1 \\x05O!iC@;\\xffv\\xd9\\xaf\\x89C@6]Ot]pC@ \\t\\xfbv\\x12]C@-\\x94LN\\xed>C@\\xc1:\\x8e\\x1f*\\x1dC@H\\x8a\\xc8\\xb0\\x8akC@\\xb2h:;\\x19\\x8cC@=&R\\x9a\\xcd\\xa1C@\\xc4AB\\x94/\\x9eC@\\xb5\\xe3\\x86\\xdfM\\x8dC@=&R\\x9a\\xcd\\xa1C@eS\\xae\\xf0.\\xc7C@\\xa4\\xdd\\xe8c>\\xaaC@\\x117\\xa7\\x92\\x01\\xccC@+\\xf9\\xd8]\\xa0\\xa6C@[C\\xa9\\xbd\\x88\\xe6C@\\xb5\\x8f\\x15\\xfc6\\xa4C@\\xcc^\\xb6\\x9d\\xb6\\xb8C@\\xb7\\xb6\\xf0\\xbcT\\xbcC@\\x95+\\xbc\\xcbE\\xb0C@eS\\xae\\xf0.\\xc7C@\\x1e\\xc2\\xf8i\\xdc\\xadC@\\xca7\\xdb\\xdc\\x98\\xa0C@@\\xa1\\x9e>\\x02\\xa3C@E\\xefT\\xc0=\\xd3C@6=((E\\xd9C@]j\\x84~\\xa6\\xfeC@\\xab\\x97\\xdfi2\\xc3D@0\\xc0>:u\\xf9D@D\\x14\\x937\\xc0\\x0cE@V\\xed\\x9a\\x90\\xd6\\x1eE@TrN\\xec\\xa1\\x1dE@\\xd0\\xd1\\xaa\\x96t\"E@\\xd5?\\x88d\\xc8\\xe9D@\\xb5\\xdb.4\\xd7\\xf5D@V\\r\\xc2\\xdc\\xee\\xb5D@\\xab\\xebPMI\\xacD@\\xc5\\xad\\x82\\x18\\xe8\\x86D@I\\xf6\\x085CTD@\\x96\\xb7#\\x9c\\x160D@O\\x980\\x9a\\x95mD@\\xdf\\xc3%\\xc7\\x9dJD@=\\xb2\\xb9j\\x9e!D@\\xb0\\xad\\x9f\\xfe\\xb3\\\\D@6\\xc9\\x8f\\xf8\\x15YD@6\\xc9\\x8f\\xf8\\x15YD@`q8\\xf3\\xab\\x7fD@\\xab\\x97\\xdfi2\\xc3D@9\\xd0Cm\\x1b\\xdaD@\\x96#d \\xcf\\x18E@\\xc0\\xcb\\x0c\\x1be?E@\\x1c\\x9a\\xb2\\xd3\\x0f|E@\\xb2E\\xd2n\\xf4ME@a\\xa8\\xc3\\n\\xb7nE@\\xa8\\xad\\x11\\xc18fE@\\xe79\"\\xdf\\xa5hE@\\xf3\\xc8\\x1f\\x0c<UE@\\x80\\xd3\\xbbx?DE@\\xf9J %vEE@\\x8d\\x98\\xd9\\xe71\\x88E@%;6\\x02\\xf1^E@\\xbaI\\x0c\\x02+OE@!\\xb0rh\\x91sE@8gDio\\xc2E@E,b\\xd8a\\x06F@2\\x1bd\\x92\\x91)F@5\\t\\xde\\x90F3F@)z\\xe0c\\xb0FF@\\xc3\\x13z\\xfdI\"F@\\x98\\xc0\\xad\\xbby\\xeaE@2\\x1bd\\x92\\x91)F@N\\'\\xd9\\xear\\x0cF@B\\x98\\xdb\\xbd\\xdc\\x1fF@\\x05\\xc4$\\\\\\xc8\\x85F@\\xdbpX\\x1a\\xf8MF@\\x7f\\xa2\\xb2aM\\x11F@[\\xec\\xf6YePF@\\xa3Xni5\\xd2E@\\x935\\xea!\\x1a\\xffE@L9_\\xec\\xbd\\x02F@\\x8a:s\\x0f\\t\\xf9E@0c\\n\\xd68\\xc1E@|~\\x18!<\\xb0E@\\xacS\\xe5{F\\xd8E@\\xacS\\xe5{F\\xd8E@\\xcf\\x12d\\x04T\\x94E@\\xb3\\x96\\x02\\xd2\\xfe+F@\\xb6\\xf4h\\xaa\\'\\xbbE@\\xed+\\x0f\\xd2S\\xdeD@\\xc5\\xc6\\xbc\\x8e8\\xb0D@\\x87\\xc5\\xa8k\\xed\\xb9D@$\\xf3\\xc8\\x1f\\x0c|D@I\\xa0\\xc1\\xa6\\xceAD@DK\\x1eO\\xcb\\xadD@g\\x9a\\xb0\\xfdd\\xe4D@\\xf9J %vEE@\\x9e|zl\\xcb\\x08E@l@\\x84\\xb8rVE@\\xdd\\xce\\xbe\\xf2 \\xddE@8gDio\\xc2E@\\xc6\\xa7\\x00\\x18\\xcf\\x08F@\\xbf%\\x00\\xff\\x94\\x18F@\\xab\\\\\\xa8\\xfck\\xd3E@\\xf0\\xfa\\xccY\\x9f@F@\\xd2Q\\x0ef\\x13|F@=C8f\\xd9\\x8bF@m!\\xc8A\\t\\xafF@/M\\x11\\xe0\\xf4\\x14G@\\xaf\\xd1r\\xa0\\x87\\x12G@\\xac=\\xec\\x85\\x02,G@+\\xc2MF\\x95)G@\\xf0K\\xfd\\xbc\\xa9\\x1eG@|\\xefo\\xd0^\\x83G@\\xf4o\\x97\\xfd\\xba\\x7fG@\\xc0\\x06D\\x88+qG@9\\xb6\\x9e!\\x1c?G@\\xfc\\xc2+I\\x9e\\xffF@\\xb3\\'\\x81\\xcd9:G@\\xe9\\xd6kzP\\xe2F@{\\xa0\\x15\\x18\\xb2\\xb2F@\\xfa_\\xaeE\\x0b\\xa4F@S\\xeb\\xfdF;\\xc6F@4\\x83\\xf8\\xc0\\x8e\\xcdF@\\xa6\\nF%u0G@\\x9f;\\xc1\\xfe\\xeb\\x1cG@P\\xfd\\x83H\\x86\\xeeF@_\\xed(\\xceQKG@\\x19\\xad\\xa3\\xaa\\t\\x18G@\\xc0\\xcf\\xb8p \\xc0F@{\\xa0\\x15\\x18\\xb2\\xb2F@[\\xd5\\x92\\x8er^F@5`\\x90\\xf4i\\x7fF@\\xbdl;m\\x8ddF@Tv\\xfaA]BF@q\\xa7t\\xb0\\xfe\\x89E@\\x8f2\\xe2\\x02\\xd0\\xd0E@\\x8d{\\xf3\\x1b&\\xaaF@:A\\x9b\\x1c>\\xbbF@\\xe9\\xd6kzP\\xe2F@\\xc226t\\xb3\\x1bG@\\xf0\\xa5\\xf0\\xa0\\xd9\\xf5F@\\xf2#~\\xc5\\x1a\\xd6F@\\xcf\\xdam\\x17\\x9a\\xa1F@\\xac\\x91]i\\x19mF@\\xdc\\x82\\xa5\\xba\\x80\\'F@l ]lZMF@\\x8a\\xc6\\xda\\xdf\\xd9\\x18F@v\\x88\\x7f\\xd8\\xd2\\xc5E@#\\xa0\\xc2\\x11\\xa4\\x0cF@{\\xa0\\x15\\x18\\xb2\\xb2F@\\x90im\\x1a\\xdb\\x81F@eQ\\xd8E\\xd19F@\\xc3\\xd8B\\x90\\x83\\x1cF@\\xd7\\xa1\\x9a\\x92\\xac\\xebE@!=E\\x0e\\x11\\xb1E@q\\x1cx\\xb5\\xdc\\rF@\\xfb\\xea\\xaa@- F@Q\\x13}>\\xca\\xe6E@\\xf0\\xc0\\x00\\xc2\\x87zF@\\x83\\xdcE\\x98\\xa2\\x80F@]\\x15\\xa8\\xc5\\xe0kF@\\xaa\\rND\\xbfXD@\\r\\xdeW\\xe5B\\xa5C@\\xce\\xe1Z\\xeda\\tD@\\xc7\\xdbJ\\xaf\\xcdDC@\\xf7\\x03\\x1e\\x18@\\xb0C@\\xd6\\x1d\\x8bmR\\xd7C@\\xea\\tK<\\xa0\\xf4C@?\\xa7 ?\\x1b?D@\\x8a\\x94f\\xf38:D@&\\xfd\\xbd\\x14\\x1e4D@\\xc9uS\\xcakQD@Q\\x82\\xfeB\\x8f6D@\\xceV^\\xf2?\\x8dD@\\x07\\xccC\\xa6|\\xecD@T\\x8b\\x88b\\xf2\\xeeD@\\xc7\\x0f\\x95F\\xcc\\xe8D@W\\xcfI\\xef\\x1b\\xe5D@\\xe0\\x80\\x96\\xae`\\x11E@\\x13\\xd6\\xc6\\xd8\\t5E@\\xf1e\\xa2\\x08\\xa9-E@ZM\\xd7\\x13]!E@\\xb1\\xa9\\xf3\\xa8\\xf8)E@:!t\\xd0%\\x10E@\\xecPMI\\xd6\\x13E@\\xabZ\\xd2Q\\x0e\\xcaD@\\x12QL\\xde\\x00\\xafD@\\x8caN\\xd0&\\xb5D@9B\\x06\\xf2\\xecXD@\\xcaLi\\xfd-\\x95D@\\xf1Lh\\x92X0D@\\xa5\\xc0\\x02\\x982*D@\\x1c\\x08\\xc9\\x02&\\xb4C@\\xa6\\xb9\\x15\\xc2j\\xe0C@j\\x12\\xbc!\\x8d\\xf6C@\\x19\\xcb\\xf4K\\xc4\\x07D@\\xe8\\xfa>\\x1c$jD@\\xb3aMeQPD@}|Bv\\xde\\x98D@q\\xac\\x8b\\xdbh\\x96D@X\\xc8\\\\\\x19T\\x9bD@a\\x86\\xc6\\x13A\\xeaC@F\\xd1\\x03\\x1f\\x83\\xcbC@\\xd0{c\\x08\\x00\\xaeC@*\\x1cA*\\xc5\\xacC@\\x93V|C\\xe1\\x87C@\\xb4\\xc6\\xa0\\x13B\\x8fC@\\xd4\\xb87\\xbfaZC@\\xc4\\xb2\\x99CR\\xf5C@\\xb9\\xe2\\xe2\\xa8\\xdc\\xf2C@K\\xe6X\\xdeU\\xe5C@mV}\\xae\\xb6\\xecC@$\\x9b\\xab\\xe69\\nD@\\xc9\\xc7\\xee\\x02%\\x0fD@\\xcd>\\x8fQ\\x9e\\x01D@0\\xb6\\x10\\xe4\\xa0LD@i\\x19\\xa9\\xf7T@D@\\x1b\\x0f\\xb6\\xd8\\xed\\xfdC@\\xbd8\\xf1\\xd5\\x8e\\x9cD@\\x96\\xb3wF[{D@\\xba\\xf4/Ie\\xa6D@\\x9dFZ*o\\xd1D@2\\xc7\\xf2\\xaez\\xfeF@\\xecO\\xe2s\\'\\x12G@\\xd4\\xf0-\\xac\\x1b\\x9dG@\\rT\\xc6\\xbf\\xcf\\x90G@\\x91\\xb6\\xf1\\'*]G@\\x9c\\x86\\xa8\\xc2\\x9f_G@b\\xd8aL\\xfa+G@\\x0bBy\\x1fG\\xddF@)\\\\\\x8f\\xc2\\xf5:F@\\xa4\\xf9cZ\\x9bnF@`Z\\xd4\\'\\xb9\\xefF@\\xfb\\\\m\\xc5\\xfe\\xc0F@\\xef\\x8c\\xb6*\\x89\\xbeF@\\xbdqR\\x98\\xf7\\xe0F@\\x8fr0\\x9b\\x00gG@\\x13\\xd5[\\x03[3G@\\xe1\\x7f+\\xd9\\xb1\\x0fG@\\x14\\xca\\xc2\\xd7\\xd7\\x00G@\\x14\\xca\\xc2\\xd7\\xd7\\x00G@\\x07(\\r5\\n\\xedF@Su\\x8fl\\xae\\xacF@f\\xf8O7P\\x86F@\\xb7{\\xb9O\\x8e\\x04G@\\xeb\\xc8\\x91\\xce\\xc0\\xf0F@\\xc4\\xeb\\xfa\\x05\\xbb\\xa7F@\\xc7G\\x8b3\\x86\\xd5F@\\xda\\xcaK\\xfe\\'\\xafF@\\xa8\\x8f\\xc0\\x1f~\\xa6F@\\x97\\x8e9\\xcf\\xd8iF@t\\r34\\x9eNF@\\xe1\\'\\x0e\\xa0\\xdf\\x1bF@4\\x88\\x0f\\xec\\xf8\\x11F@-=\\x9a\\xea\\xc9\\x88F@E.8\\x83\\xbfsF@\\xcc\\xed^\\xee\\x939F@Jy\\xad\\x84\\xee\\xfcE@\\xc7\\x7f\\x81 @(F@\\xcc\\xed^\\xee\\x939F@\\xbf}\\x1d8g\\x96F@\\xe4\\x83\\x9e\\xcd\\xaaIF@>\\tl\\xce\\xc1YF@u\\x1f\\x80\\xd4&2F@\\x17,\\xd5\\x05\\xbc\\x10F@4\\x88\\x0f\\xec\\xf8\\x11F@\\'\\xf8\\xa6\\xe9\\xb3\\xe1E@/\\xfa\\n\\xd2\\x8csE@}\\xec.PRXE@M\\r4\\x9fs}E@\\x13\\x9b\\x8fkCwE@\\xf7>U\\x85\\x06vE@-C\\x1c\\xeb\\xe2jE@F\\xe8g\\xeaucE@P\\xc4\"\\x86\\x1d\\x86E@\\x1a\\xc0[ A\\x91E@\\xa2G\\x8c\\x9e[\\x04F@O\\xe7\\x8aRB\\x0eF@\\x83\\xd9\\x04\\x18\\x96\\x1fF@h\\xaf>\\x1e\\xfa\\x8eF@\\xd9%\\xaa\\xb7\\x06\\x8aF@\\xda\\xcaK\\xfe\\'\\xafF@\\x02\\xba/g\\xb6\\xdbF@\\xa2G\\x8c\\x9e[\\x04F@\\xd0[<\\xbc\\xe7JF@\\x17\\xd1vL\\xdd5F@\\xf1\\xf3\\xdf\\x83\\xd7\\xecE@F\\x0b\\xd0\\xb6\\x9a\\xebE@\\x95\\xd7J\\xe8.aF@\\x8c0E\\xb94\\xaaF@\\xf78\\xd3\\x84\\xed\\x93F@\\x89yV\\xd2\\x8a\\xa1F@\\xb5\\xc4\\xcah\\xe4\\xfbF@\\x14\\xca\\xc2\\xd7\\xd7\\x00G@\\xd9%\\xaa\\xb7\\x06\\x8aF@\\x87\\xc2g\\xeb\\xe0\\x98F@~\\x1bb\\xbc\\xe6\\xe1F@\\xd2\\x00\\xde\\x02\\tpF@\\x87\\xc2g\\xeb\\xe0\\x98F@jf-\\x05\\xa4\\x97F@\\xc9Y\\xd8\\xd3\\x0e\\xb9F@\\x91C\\xc4\\xcd\\xa9\\xe0F@\\xe1\\xb5K\\x1b\\x0e\\x01G@\\x10u\\x1f\\x80\\xd4\\xaeF@9\\xb8t\\xccy8F@\\xa3\\xeb\\xc2\\x0f\\xce\\xf5D@\\x00\\xfe)U\\xa2HD@KB\"m\\xe3\\xb1C@\\xcb\\x87\\xa0j\\xf4\\xc8D@\\x9d\\x81\\x91\\x975]E@\\x84\\x0f%Z\\xf2`E@\\xa1l\\xca\\x15\\xde-E@\\x02\\xd6\\xaa]\\x13ZD@\\xa9gA(\\xef\\x19E@\\xab?\\xc20`+E@\\xe3\\x8d\\xcc#\\x7f\\xbcD@j1x\\x98\\xf6[E@\\xa3\\xeb\\xc2\\x0f\\xce\\xf5D@\\xa8\\xfb\\x00\\xa46\\x11E@\\x86\\x8e\\x1dT\\xe2(E@\\xbc]/M\\x11\\xf2D@\\x8fN]\\xf9,gE@}Xo\\xd4\\n\\x8fE@q\\x1975\\xd0\\x88E@\\x86\\x8e\\x1dT\\xe2(E@\\x9f\\xc5R$_wE@\\x9d\\x81\\x91\\x975]E@u\\x04p\\xb3xYE@\\x8f\\xe2\\x1cut^E@vp\\xb071bE@\\xa8\\xfb\\x00\\xa46\\x11E@\\x9c4\\r\\x8a\\xe6#E@cz\\xc2\\x12\\x0f\\x8aE@z\\x01\\xf6\\xd1\\xa9\\xb5E@C\\x1f,cC-F@\\x06\\xa2\\'eR\\xb1F@\\x12M\\xa0\\x88E\\xc0F@\\xee\\x07<0\\x80\\xc6F@\\xfdky\\xe5z\\x17G@\\xea\\xb0\\xc2-\\x1f\\xedF@\\xff\\xeaq\\xdfj\\xdfF@\\xe4\\xa0\\x84\\x99\\xb6\\xd1F@\\x11\\xe1_\\x04\\x8d\\xb7F@\\xc1\\xc7`\\xc5\\xa9\\xe0F@\\xcb\\x87\\xa0j\\xf4\\x1eG@\\xb5M\\xf1\\xb8\\xa8,G@\\xebu\\x8b\\xc0X?G@\\x10\\xce\\xa7\\x8eU\\xf8F@\\x99\\xf0K\\xfd\\xbc_G@\\xb3\\xce\\xf8\\xbe\\xb8\\xbaI@\\x94\\xdf\\xa2\\x93\\xa5fJ@{\\x14\\xaeG\\xe1 J@\\x81\\x90,`\\x02EJ@\\xcb-\\xad\\x86\\xc4\\xf7I@\\xbc]/M\\x11\\x9eI@\\xee\\x06\\xd1Z\\xd1\\xe8I@\\xac\\xe5\\xceL0ZJ@\\x99\\x83\\xa0\\xa3UyJ@\\xa3V\\x98\\xbe\\xd7vJ@V\\x81Z\\x0c\\x1e\\xbaJ@\\x9eFZ*o[J@\\x8f\\xe2\\x1cut\\nJ@\\xd2\\xa9+\\x9f\\xe5\\x1bJ@\\xb1O\\x00\\xc5\\xc8\\xf2I@\\xcd@e\\xfc\\xfb\\xb6I@\\xae\\xd0\\x07\\xcb\\xd8*J@b\\xd9\\xcc!\\xa9\\xf3I@\\x8bT\\x18[\\x08bJ@\\x82\\xc3\\x0b\"RmJ@6\\x90.6\\xad\\x8cJ@6\\x90.6\\xad\\x8cJ@\"\\xae\\x9c\\xbd3\\x94J@\\xcf\\xf6\\xe8\\r\\xf7MJ@\\xd9v\\xda\\x1a\\x11lJ@\\xf2\\xed]\\x83\\xbe\\xa0J@\\xb3\\x0b\\x06\\xd7\\xdc\\rK@\\xc8\\xcfF\\xae\\x9b\\x0cK@PP\\x8aV\\xee\\x8dJ@\\x12\\xd8\\x9c\\x83gdK@B\\x98\\xdb\\xbd\\xdcWK@\\xae\\x0f\\xeb\\x8dZUK@\\xa8\\x8b\\x14\\xca\\xc2\\xefJ@\\x83i\\x18>\"\\x14K@Y\\xff\\xe70_|J@4e\\xa7\\x1f\\xd4\\x03K@ \\x83\\x15\\xa7Z\\x0bK@YK\\x01i\\xff\\x7fK@\\x86\\x1c[\\xcf\\x10JK@\\xbc\\xe5\\xea\\xc7&\\x85J@\\x07\\xee@\\x9d\\xf2\\xdcJ@\\xc0 \\xe9\\xd3*\\x1eK@\\xea\\xe4\\x0c\\xc5\\x1dYK@\\xd9\\xd3\\x0e\\x7fMFK@;\\xe9}\\xe3kiK@r\\xc2\\x84\\xd1\\xac\\xb4K@\\xa81!\\xe6\\x92\\x96K@\\x10%Z\\xf2x.K@Z\\xa5\\xf4L/\\xd9J@\\x0cr\\x17a\\x8a\\xf8J@??\\x8c\\x10\\x1e{J@\\x06\\xa2\\'eR\\x8fI@\\xd3jH\\xdcc\\xa3I@T\\xa6\\x98\\x83\\xa0\\x9fI@(\\xb7\\xed{\\xd4\\xdbI@a3\\xc0\\x05\\xd9LI@Z*oG8\\x05J@)x\\n\\xb9R\\xfbH@VId\\x1fd\\xc5H@v\\x8d\\x96\\x03=\\xe2H@\\xd7\\xa2\\x05h[\\xbbH@\\xacYg|_\\x9eI@D\\xc0!T\\xa9_I@\\x06\\xa2\\'eR\\x8fI@I\\xbc<\\x9d+\\x18I@\\x8c\\x155\\x98\\x86\\x81I@d\\x07\\x95\\xb8\\x8e\\xfdJ@a6\\x01\\x86\\xe5\\xcdJ@\\x9f\\xae\\xeeXl\\xf7I@\\\\U\\xf6]\\x11\\x8eI@\\xd0{c\\x08\\x00zI@\\xbf\\xef\\xdf\\xbc8\\x93H@u\\x05\\xdb\\x88\\'5H@%\\x01jj\\xd9$H@)\\xb4\\xac\\xfb\\xc7ZH@\\x95+\\xbc\\xcbEXH@k+\\xf6\\x97\\xdd\\xbdH@\\xff@\\xb9m\\xdf5I@Kvl\\x04\\xe2\\xddI@L\\xa7u\\x1b\\xd4\\xc0I@\\xa7\"\\x15\\xc6\\x16\\x92I@\\x8b4\\xf1\\x0e\\xf0\\xfaI@(\\xd6\\xa9\\xf2=AI@\\xd9\\x08\\xc4\\xeb\\xfaWI@\\xf4\\x8d\\xe8\\x9eu\\xb5I@x\\xd1W\\x90fPI@\\x86\\xb0\\x1aKX\\x1bI@\\xb8Y\\xbcX\\x18\\xf2I@-Z\\x80\\xb6\\xd5 J@x\\x9b7N\\n\\xd5I@ \\xb3\\xb3\\xe8\\x9d\\xacI@\\x9e\\tM\\x12K.I@\\t\\x8b\\x8a8\\x9d|I@\\x7f\\x867k\\xf0\\x12J@\\xa6\\xf1\\x0b\\xaf$\\xafI@~U.T\\xfe/J@I\\x12\\x84+\\xa0<J@\\xad\\xa6\\xeb\\x89\\xaeqJ@Ljh\\x03\\xb0\\xd1J@\\x02+\\x87\\x16\\xd9\\xf8J@\\xe2\\xe9\\x95\\xb2\\x0ceJ@\\x87n\\xf6\\x07\\xca\\x93J@\\x00\\xff\\x94*Q\\xaeJ@5B?S\\xaf\\xa1J@\\xa7\\xb4\\xfe\\x96\\x00\\xc0J@/\\x86r\\xa2]kJ@\\x7fK\\x00\\xfe)\\xffJ@\\xfei\\xa3:\\x1d*K@\\xae\\x9c\\xbd3\\xda@K@+\\xbb`p\\xcdkK@\\x86\\x05\\xf7\\x03\\x1eZK@7n1?7\\xecJ@\\xd0D\\xd8\\xf0\\xf42K@\\xfa=\\xb1N\\x95\\xdfJ@ E\\x9d\\xb9\\x87\\xdaJ@\\xe2\\xe4~\\x87\\xa2\\xccJ@_\\x03\"\\xc4\\x95\\xf7J@\\xcf\\x13\\xcf\\xd9\\x02PK@\\xb2*\\xc2MFQK@\\xe2\\xac\\x88\\x9a\\xe8uK@\\x00\\x91~\\xfb:\\xdcK@-\\xb6IEc\\xd3K@\\xb1\\xf9\\xb86TnK@\\xd5\\xcf\\x9b\\x8aT\\x86K@\\xcc)\\x011\\t\\x8dI@\\xd7\\xa4\\xdb\\x12\\xb9\\xb6I@\\x1f\\x87\\xc1\\xfc\\x15bI@ut\\\\\\x8d\\xec\"I@Y\\xc1oC\\x8c\\x9fH@ \\xf0\\xc0\\x00\\xc2\\x9bH@\\xab\\xe8\\x0f\\xcd<\\xf9H@\\xc7\\xd63\\x84c\\x90H@ \\xf0\\xc0\\x00\\xc2\\x9bH@\\xf2\\xca\\xf5\\xb6\\x99\\xa4H@NA~6r\\xddH@\\'\\xdd\\x96\\xc8\\x05\\xb5H@+f\\x84\\xb7\\x07-I@#H\\xa5\\xd8\\xd10I@\\xf1a\\xf6\\xb2\\xedjI@]\\x19T\\x1b\\x9c4I@\\x8a9\\x08:Z\\x93I@p\\xea\\x03\\xc9;\\x19I@C\\xaa(^e?I@{\\x88Fw\\x10\\x01I@\\xdc\\xd4@\\xf39\\'I@\\xe3\\xc2\\x81\\x90,\\xdcH@2\\x1e\\xa5\\x12\\x9e\\xa2I@\\x07B\\xb2\\x80\\t\\xe6I@\\x94j\\x9f\\x8e\\xc7\\xc8I@\\t\\x1a3\\x89z\\xffI@\\xc7\\x9d\\xd2\\xc1\\xfaUJ@\\xde=@\\xf7\\xe5BJ@\\x8d|^\\xf1\\xd4\\x13J@4\\xf6%\\x1b\\x0f\\xbcI@\\x13\\xb8u7O\\xe7I@`\\xc9U,~\\xe3I@}\\xca1Y\\xdc\\xdbI@\\xa3\\x1d7\\xfcn\\xa6I@\\xc63h\\xe8\\x9f\\x94I@O\\xad\\xbe\\xba*\\xeaH@#\\xda\\x8e\\xa9\\xbb\\xc2H@\\x04\\x012t\\xec\\xb0H@i\\xfd-\\x01\\xf8\\tI@\\x85&\\x89%\\xe5\\xe8H@a8\\xd70C\\xe1H@/n\\xa3\\x01\\xbcoI@n\\x85\\xb0\\x1aKVI@jg\\x98\\xdaR\\xcbI@#\\xda\\x8e\\xa9\\xbb\\xc2H@X\\xe1\\x96\\x8f\\xa4\\x10H@\\xbb,&6\\x1f\\x91H@S]\\xc0\\xcb\\x0c\\x1dI@\\x88\\xf5F\\xad0mI@\\xbdn\\x11\\x18\\xebkI@\\x88\\xf5F\\xad0mI@f\\xbf\\xeet\\xe7\\x87I@f\\xbf\\xeet\\xe7\\x87I@b\\xa1\\xd64\\xef\\xfcI@\\xf9f\\x9b\\x1b\\xd3!J@\\x93\\xfc\\x88_\\xb1pJ@\\xf6H\\x83\\xdb\\xda\\x96J@\\xa9\\x0f$\\xef\\x1c\\xb4J@-\\x9a\\xceN\\x06\\xafJ@\\x12qs*\\x19\\xd0J@\\\\\\x8b\\x16\\xa0maJ@\\x87\\x8aq\\xfe&\\xc8K@\\x1a\\xa04\\xd4(\\xbaK@o\\x11\\x18\\xeb\\x1b\\x1cL@\\xf3sCSv0L@ds\\xd5<G4L@\\x13\\xdar.\\xc5\\xebK@\\xe9\\xd6kzP\\xeeK@\\xda\\xfbT\\x15\\x1a*L@{\\x87\\xdb\\xa1a\\x1dL@{\\x87\\xdb\\xa1a\\x1dL@r\\xc1\\x19\\xfc\\xfdNL@\\xdb\\xfa\\xe9?k\\x84L@.\\x94LN\\xed\\xccL@\\xcf\\xf7S\\xe3\\xa5\\xd9L@\\xac\\xe1\"\\xf7t\\xebL@\\x81\\x06\\x9b:\\x8f\\xd4L@\\x0cV\\x9cj-\\xf8L@\\x87\\x1b\\xf0\\xf9a\\xcaL@\\xe1z\\x14\\xaeG\\xe1L@\\xe8\\xa2!\\xe3Q\\xb8L@\\x18]\\xde\\x1c\\xae\\xc7L@,\\xd5\\x05\\xbc\\xcc\\xccL@\\xbfF\\x92 \\\\\\xcfL@U1\\x95~\\xc2\\xd5L@\\x81<\\xbb|\\xeb\\xf1L@j\\x15\\xfd\\xa1\\x99\\xf9L@U1\\x95~\\xc2\\x15M@\\xd3\\xf4\\xd9\\x01\\xd7\\x03M@,\\xd5\\x05\\xbc\\xcc\\x0cM@\\x81<\\xbb|\\xeb\\xf1L@\\xaa\\x98J?\\xe1\\xbaL@\\xecQ\\xb8\\x1e\\x85\\xcbL@U1\\x95~\\xc2\\xd5L@\\x7f\\xc3D\\x83\\x14\\xceL@\\x14\\xaeG\\xe1z\\xd4L@\\xd7\\xa3p=\\n\\xb7L@\\xaa\\x98J?\\xe1\\x1aL@\\x96\\xea\\x02^f\\x86L@\\xd3\\xf4\\xd9\\x01\\xd7CL@@\\x83M\\x9dG!L@\\xe8\\xa2!\\xe3Q\\x98L@\\x00\\x00\\x00\\x00\\x00\\xa0L@\\xd7\\xa3p=\\nwL@\\x18]\\xde\\x1c\\xaegL@@\\x83M\\x9dG\\xe1L@)\\\\\\x8f\\xc2\\xf5\\xe8L@\\xd7\\xa3p=\\n\\xb7L@\\xd4*\\xfaC3sL@j\\x15\\xfd\\xa1\\x99\\xf9L@\\xd3\\xf4\\xd9\\x01\\xd7\\x03M@\\xd4*\\xfaC3\\xb3L@,\\xd5\\x05\\xbc\\xcc\\xccL@U1\\x95~\\xc2\\xb5L@\\xc0|\\xb2b\\xb8\\x9eL@\\x81<\\xbb|\\xeb\\xd1L@\\xc0|\\xb2b\\xb8\\xdeL@\\x96\\xea\\x02^f\\xe6L@Vg\\xb5\\xc0\\x1e\\x05M@\\xe8\\xa2!\\xe3Q\\x98L@\\x7f\\xc3D\\x83\\x14\\x8eL@U1\\x95~\\xc2uL@U1\\x95~\\xc2\\xb5L@-\\x0b&\\xfe(\\x9cL@\\x14\\xaeG\\xe1z\\xd4L@\\xd3\\xf4\\xd9\\x01\\xd7\\xc3L@\\x00\\x00\\x00\\x00\\x00\\xa0L@\\x14\\xaeG\\xe1z\\xd4M@\\x94t\\x94ba\\x95\\x9f\\x00\\x00\\x00\\x00\\x00\\x00\\x00]\\x94h\\x11h\\x13}\\x94(h\\x15h\\x18h\\x1bK\\x00\\x85\\x94h\\x1d\\x87\\x94R\\x94(K\\x01K\\x04\\x85\\x94h&\\x89]\\x94(h*h+h,h-et\\x94bh/Nu\\x86\\x94R\\x94a}\\x94\\x8c\\x060.14.1\\x94}\\x94(\\x8c\\x04axes\\x94h\\x0e\\x8c\\x06blocks\\x94]\\x94}\\x94(\\x8c\\x08mgr_locs\\x94\\x8c\\x08builtins\\x94\\x8c\\x05slice\\x94\\x93\\x94K\\x00K\\x04K\\x01\\x87\\x94R\\x94\\x8c\\x06values\\x94hOuaust\\x94bub.'}"
            ]
          },
          "metadata": {
            "tags": []
          },
          "execution_count": 177
        }
      ]
    },
    {
      "cell_type": "code",
      "metadata": {
        "id": "5X-A7f4t31ZE",
        "outputId": "7c8c0669-4613-461f-e395-0b34449ca616",
        "colab": {
          "base_uri": "https://localhost:8080/"
        }
      },
      "source": [
        "pd.Index(['a','b']).get_indexer(['b','a','c','x']).sum()"
      ],
      "execution_count": 193,
      "outputs": [
        {
          "output_type": "execute_result",
          "data": {
            "text/plain": [
              "-1"
            ]
          },
          "metadata": {
            "tags": []
          },
          "execution_count": 193
        }
      ]
    },
    {
      "cell_type": "code",
      "metadata": {
        "id": "4mQP__PS1CsS",
        "outputId": "106b4fcf-231b-4477-ac89-7289dbe2dec3",
        "colab": {
          "base_uri": "https://localhost:8080/",
          "height": 234
        }
      },
      "source": [
        "price = pd.read_pickle('yahoo_price.pkl')\n",
        "price.head()"
      ],
      "execution_count": 179,
      "outputs": [
        {
          "output_type": "execute_result",
          "data": {
            "text/html": [
              "<div>\n",
              "<style scoped>\n",
              "    .dataframe tbody tr th:only-of-type {\n",
              "        vertical-align: middle;\n",
              "    }\n",
              "\n",
              "    .dataframe tbody tr th {\n",
              "        vertical-align: top;\n",
              "    }\n",
              "\n",
              "    .dataframe thead th {\n",
              "        text-align: right;\n",
              "    }\n",
              "</style>\n",
              "<table border=\"1\" class=\"dataframe\">\n",
              "  <thead>\n",
              "    <tr style=\"text-align: right;\">\n",
              "      <th></th>\n",
              "      <th>AAPL</th>\n",
              "      <th>GOOG</th>\n",
              "      <th>IBM</th>\n",
              "      <th>MSFT</th>\n",
              "    </tr>\n",
              "    <tr>\n",
              "      <th>Date</th>\n",
              "      <th></th>\n",
              "      <th></th>\n",
              "      <th></th>\n",
              "      <th></th>\n",
              "    </tr>\n",
              "  </thead>\n",
              "  <tbody>\n",
              "    <tr>\n",
              "      <th>2010-01-04</th>\n",
              "      <td>27.990226</td>\n",
              "      <td>313.062468</td>\n",
              "      <td>113.304536</td>\n",
              "      <td>25.884104</td>\n",
              "    </tr>\n",
              "    <tr>\n",
              "      <th>2010-01-05</th>\n",
              "      <td>28.038618</td>\n",
              "      <td>311.683844</td>\n",
              "      <td>111.935822</td>\n",
              "      <td>25.892466</td>\n",
              "    </tr>\n",
              "    <tr>\n",
              "      <th>2010-01-06</th>\n",
              "      <td>27.592626</td>\n",
              "      <td>303.826685</td>\n",
              "      <td>111.208683</td>\n",
              "      <td>25.733566</td>\n",
              "    </tr>\n",
              "    <tr>\n",
              "      <th>2010-01-07</th>\n",
              "      <td>27.541619</td>\n",
              "      <td>296.753749</td>\n",
              "      <td>110.823732</td>\n",
              "      <td>25.465944</td>\n",
              "    </tr>\n",
              "    <tr>\n",
              "      <th>2010-01-08</th>\n",
              "      <td>27.724725</td>\n",
              "      <td>300.709808</td>\n",
              "      <td>111.935822</td>\n",
              "      <td>25.641571</td>\n",
              "    </tr>\n",
              "  </tbody>\n",
              "</table>\n",
              "</div>"
            ],
            "text/plain": [
              "                 AAPL        GOOG         IBM       MSFT\n",
              "Date                                                    \n",
              "2010-01-04  27.990226  313.062468  113.304536  25.884104\n",
              "2010-01-05  28.038618  311.683844  111.935822  25.892466\n",
              "2010-01-06  27.592626  303.826685  111.208683  25.733566\n",
              "2010-01-07  27.541619  296.753749  110.823732  25.465944\n",
              "2010-01-08  27.724725  300.709808  111.935822  25.641571"
            ]
          },
          "metadata": {
            "tags": []
          },
          "execution_count": 179
        }
      ]
    },
    {
      "cell_type": "code",
      "metadata": {
        "id": "LyhzDypL1CsS",
        "outputId": "0967df47-6c7f-45ab-dc46-1f45fa5395c3",
        "colab": {
          "base_uri": "https://localhost:8080/"
        }
      },
      "source": [
        "price.shape"
      ],
      "execution_count": 180,
      "outputs": [
        {
          "output_type": "execute_result",
          "data": {
            "text/plain": [
              "(1714, 4)"
            ]
          },
          "metadata": {
            "tags": []
          },
          "execution_count": 180
        }
      ]
    },
    {
      "cell_type": "code",
      "metadata": {
        "id": "7BLgIqfs1CsS",
        "outputId": "9a7c86ba-2fd9-46b7-c31a-01d9846c61e5",
        "colab": {
          "base_uri": "https://localhost:8080/",
          "height": 359
        }
      },
      "source": [
        "volume = pd.read_pickle('yahoo_volume.pkl')\n",
        "volume.head()"
      ],
      "execution_count": 182,
      "outputs": [
        {
          "output_type": "error",
          "ename": "FileNotFoundError",
          "evalue": "ignored",
          "traceback": [
            "\u001b[0;31m---------------------------------------------------------------------------\u001b[0m",
            "\u001b[0;31mFileNotFoundError\u001b[0m                         Traceback (most recent call last)",
            "\u001b[0;32m<ipython-input-182-b48c1ea20bc2>\u001b[0m in \u001b[0;36m<module>\u001b[0;34m()\u001b[0m\n\u001b[0;32m----> 1\u001b[0;31m \u001b[0mvolume\u001b[0m \u001b[0;34m=\u001b[0m \u001b[0mpd\u001b[0m\u001b[0;34m.\u001b[0m\u001b[0mread_pickle\u001b[0m\u001b[0;34m(\u001b[0m\u001b[0;34m'yahoo_volume.pkl'\u001b[0m\u001b[0;34m)\u001b[0m\u001b[0;34m\u001b[0m\u001b[0;34m\u001b[0m\u001b[0m\n\u001b[0m\u001b[1;32m      2\u001b[0m \u001b[0mvolume\u001b[0m\u001b[0;34m.\u001b[0m\u001b[0mhead\u001b[0m\u001b[0;34m(\u001b[0m\u001b[0;34m)\u001b[0m\u001b[0;34m\u001b[0m\u001b[0;34m\u001b[0m\u001b[0m\n",
            "\u001b[0;32m/usr/local/lib/python3.7/dist-packages/pandas/io/pickle.py\u001b[0m in \u001b[0;36mread_pickle\u001b[0;34m(filepath_or_buffer, compression)\u001b[0m\n\u001b[1;32m    167\u001b[0m     \u001b[0;32mif\u001b[0m \u001b[0;32mnot\u001b[0m \u001b[0misinstance\u001b[0m\u001b[0;34m(\u001b[0m\u001b[0mfp_or_buf\u001b[0m\u001b[0;34m,\u001b[0m \u001b[0mstr\u001b[0m\u001b[0;34m)\u001b[0m \u001b[0;32mand\u001b[0m \u001b[0mcompression\u001b[0m \u001b[0;34m==\u001b[0m \u001b[0;34m\"infer\"\u001b[0m\u001b[0;34m:\u001b[0m\u001b[0;34m\u001b[0m\u001b[0;34m\u001b[0m\u001b[0m\n\u001b[1;32m    168\u001b[0m         \u001b[0mcompression\u001b[0m \u001b[0;34m=\u001b[0m \u001b[0;32mNone\u001b[0m\u001b[0;34m\u001b[0m\u001b[0;34m\u001b[0m\u001b[0m\n\u001b[0;32m--> 169\u001b[0;31m     \u001b[0mf\u001b[0m\u001b[0;34m,\u001b[0m \u001b[0mfh\u001b[0m \u001b[0;34m=\u001b[0m \u001b[0mget_handle\u001b[0m\u001b[0;34m(\u001b[0m\u001b[0mfp_or_buf\u001b[0m\u001b[0;34m,\u001b[0m \u001b[0;34m\"rb\"\u001b[0m\u001b[0;34m,\u001b[0m \u001b[0mcompression\u001b[0m\u001b[0;34m=\u001b[0m\u001b[0mcompression\u001b[0m\u001b[0;34m,\u001b[0m \u001b[0mis_text\u001b[0m\u001b[0;34m=\u001b[0m\u001b[0;32mFalse\u001b[0m\u001b[0;34m)\u001b[0m\u001b[0;34m\u001b[0m\u001b[0;34m\u001b[0m\u001b[0m\n\u001b[0m\u001b[1;32m    170\u001b[0m \u001b[0;34m\u001b[0m\u001b[0m\n\u001b[1;32m    171\u001b[0m     \u001b[0;31m# 1) try standard library Pickle\u001b[0m\u001b[0;34m\u001b[0m\u001b[0;34m\u001b[0m\u001b[0;34m\u001b[0m\u001b[0m\n",
            "\u001b[0;32m/usr/local/lib/python3.7/dist-packages/pandas/io/common.py\u001b[0m in \u001b[0;36mget_handle\u001b[0;34m(path_or_buf, mode, encoding, compression, memory_map, is_text, errors)\u001b[0m\n\u001b[1;32m    497\u001b[0m         \u001b[0;32melse\u001b[0m\u001b[0;34m:\u001b[0m\u001b[0;34m\u001b[0m\u001b[0;34m\u001b[0m\u001b[0m\n\u001b[1;32m    498\u001b[0m             \u001b[0;31m# Binary mode\u001b[0m\u001b[0;34m\u001b[0m\u001b[0;34m\u001b[0m\u001b[0;34m\u001b[0m\u001b[0m\n\u001b[0;32m--> 499\u001b[0;31m             \u001b[0mf\u001b[0m \u001b[0;34m=\u001b[0m \u001b[0mopen\u001b[0m\u001b[0;34m(\u001b[0m\u001b[0mpath_or_buf\u001b[0m\u001b[0;34m,\u001b[0m \u001b[0mmode\u001b[0m\u001b[0;34m)\u001b[0m\u001b[0;34m\u001b[0m\u001b[0;34m\u001b[0m\u001b[0m\n\u001b[0m\u001b[1;32m    500\u001b[0m         \u001b[0mhandles\u001b[0m\u001b[0;34m.\u001b[0m\u001b[0mappend\u001b[0m\u001b[0;34m(\u001b[0m\u001b[0mf\u001b[0m\u001b[0;34m)\u001b[0m\u001b[0;34m\u001b[0m\u001b[0;34m\u001b[0m\u001b[0m\n\u001b[1;32m    501\u001b[0m \u001b[0;34m\u001b[0m\u001b[0m\n",
            "\u001b[0;31mFileNotFoundError\u001b[0m: [Errno 2] No such file or directory: 'yahoo_volume.pkl'"
          ]
        }
      ]
    },
    {
      "cell_type": "code",
      "metadata": {
        "id": "OMqcMi0f1CsS"
      },
      "source": [
        "volume.shape"
      ],
      "execution_count": null,
      "outputs": []
    },
    {
      "cell_type": "markdown",
      "metadata": {
        "id": "JHg5szji1CsS"
      },
      "source": [
        "import pandas_datareader.data as web\n",
        "all_data = {ticker: web.get_data_yahoo(ticker)\n",
        "            for ticker in ['AAPL', 'IBM', 'MSFT', 'GOOG']}\n",
        "\n",
        "price = pd.DataFrame({ticker: data['Adj Close']\n",
        "                     for ticker, data in all_data.items()})\n",
        "volume = pd.DataFrame({ticker: data['Volume']\n",
        "                      for ticker, data in all_data.items()})"
      ]
    },
    {
      "cell_type": "code",
      "metadata": {
        "id": "6lOQkCvx1CsT",
        "outputId": "b25021b2-f9f7-455f-f99d-b50be1dbfae9",
        "colab": {
          "base_uri": "https://localhost:8080/",
          "height": 448
        }
      },
      "source": [
        "price.pct_change() # 전날 대비 변화율"
      ],
      "execution_count": 184,
      "outputs": [
        {
          "output_type": "execute_result",
          "data": {
            "text/html": [
              "<div>\n",
              "<style scoped>\n",
              "    .dataframe tbody tr th:only-of-type {\n",
              "        vertical-align: middle;\n",
              "    }\n",
              "\n",
              "    .dataframe tbody tr th {\n",
              "        vertical-align: top;\n",
              "    }\n",
              "\n",
              "    .dataframe thead th {\n",
              "        text-align: right;\n",
              "    }\n",
              "</style>\n",
              "<table border=\"1\" class=\"dataframe\">\n",
              "  <thead>\n",
              "    <tr style=\"text-align: right;\">\n",
              "      <th></th>\n",
              "      <th>AAPL</th>\n",
              "      <th>GOOG</th>\n",
              "      <th>IBM</th>\n",
              "      <th>MSFT</th>\n",
              "    </tr>\n",
              "    <tr>\n",
              "      <th>Date</th>\n",
              "      <th></th>\n",
              "      <th></th>\n",
              "      <th></th>\n",
              "      <th></th>\n",
              "    </tr>\n",
              "  </thead>\n",
              "  <tbody>\n",
              "    <tr>\n",
              "      <th>2010-01-04</th>\n",
              "      <td>NaN</td>\n",
              "      <td>NaN</td>\n",
              "      <td>NaN</td>\n",
              "      <td>NaN</td>\n",
              "    </tr>\n",
              "    <tr>\n",
              "      <th>2010-01-05</th>\n",
              "      <td>0.001729</td>\n",
              "      <td>-0.004404</td>\n",
              "      <td>-0.012080</td>\n",
              "      <td>0.000323</td>\n",
              "    </tr>\n",
              "    <tr>\n",
              "      <th>2010-01-06</th>\n",
              "      <td>-0.015906</td>\n",
              "      <td>-0.025209</td>\n",
              "      <td>-0.006496</td>\n",
              "      <td>-0.006137</td>\n",
              "    </tr>\n",
              "    <tr>\n",
              "      <th>2010-01-07</th>\n",
              "      <td>-0.001849</td>\n",
              "      <td>-0.023280</td>\n",
              "      <td>-0.003462</td>\n",
              "      <td>-0.010400</td>\n",
              "    </tr>\n",
              "    <tr>\n",
              "      <th>2010-01-08</th>\n",
              "      <td>0.006648</td>\n",
              "      <td>0.013331</td>\n",
              "      <td>0.010035</td>\n",
              "      <td>0.006897</td>\n",
              "    </tr>\n",
              "    <tr>\n",
              "      <th>...</th>\n",
              "      <td>...</td>\n",
              "      <td>...</td>\n",
              "      <td>...</td>\n",
              "      <td>...</td>\n",
              "    </tr>\n",
              "    <tr>\n",
              "      <th>2016-10-17</th>\n",
              "      <td>-0.000680</td>\n",
              "      <td>0.001837</td>\n",
              "      <td>0.002072</td>\n",
              "      <td>-0.003483</td>\n",
              "    </tr>\n",
              "    <tr>\n",
              "      <th>2016-10-18</th>\n",
              "      <td>-0.000681</td>\n",
              "      <td>0.019616</td>\n",
              "      <td>-0.026168</td>\n",
              "      <td>0.007690</td>\n",
              "    </tr>\n",
              "    <tr>\n",
              "      <th>2016-10-19</th>\n",
              "      <td>-0.002979</td>\n",
              "      <td>0.007846</td>\n",
              "      <td>0.003583</td>\n",
              "      <td>-0.002255</td>\n",
              "    </tr>\n",
              "    <tr>\n",
              "      <th>2016-10-20</th>\n",
              "      <td>-0.000512</td>\n",
              "      <td>-0.005652</td>\n",
              "      <td>0.001719</td>\n",
              "      <td>-0.004867</td>\n",
              "    </tr>\n",
              "    <tr>\n",
              "      <th>2016-10-21</th>\n",
              "      <td>-0.003930</td>\n",
              "      <td>0.003011</td>\n",
              "      <td>-0.012474</td>\n",
              "      <td>0.042096</td>\n",
              "    </tr>\n",
              "  </tbody>\n",
              "</table>\n",
              "<p>1714 rows × 4 columns</p>\n",
              "</div>"
            ],
            "text/plain": [
              "                AAPL      GOOG       IBM      MSFT\n",
              "Date                                              \n",
              "2010-01-04       NaN       NaN       NaN       NaN\n",
              "2010-01-05  0.001729 -0.004404 -0.012080  0.000323\n",
              "2010-01-06 -0.015906 -0.025209 -0.006496 -0.006137\n",
              "2010-01-07 -0.001849 -0.023280 -0.003462 -0.010400\n",
              "2010-01-08  0.006648  0.013331  0.010035  0.006897\n",
              "...              ...       ...       ...       ...\n",
              "2016-10-17 -0.000680  0.001837  0.002072 -0.003483\n",
              "2016-10-18 -0.000681  0.019616 -0.026168  0.007690\n",
              "2016-10-19 -0.002979  0.007846  0.003583 -0.002255\n",
              "2016-10-20 -0.000512 -0.005652  0.001719 -0.004867\n",
              "2016-10-21 -0.003930  0.003011 -0.012474  0.042096\n",
              "\n",
              "[1714 rows x 4 columns]"
            ]
          },
          "metadata": {
            "tags": []
          },
          "execution_count": 184
        }
      ]
    },
    {
      "cell_type": "code",
      "metadata": {
        "id": "afDAG1Ac1CsT",
        "outputId": "0831ac57-61ce-41ac-ecb0-bd07beb67e95",
        "colab": {
          "base_uri": "https://localhost:8080/",
          "height": 234
        }
      },
      "source": [
        "returns = price.pct_change()\n",
        "returns.tail()"
      ],
      "execution_count": 185,
      "outputs": [
        {
          "output_type": "execute_result",
          "data": {
            "text/html": [
              "<div>\n",
              "<style scoped>\n",
              "    .dataframe tbody tr th:only-of-type {\n",
              "        vertical-align: middle;\n",
              "    }\n",
              "\n",
              "    .dataframe tbody tr th {\n",
              "        vertical-align: top;\n",
              "    }\n",
              "\n",
              "    .dataframe thead th {\n",
              "        text-align: right;\n",
              "    }\n",
              "</style>\n",
              "<table border=\"1\" class=\"dataframe\">\n",
              "  <thead>\n",
              "    <tr style=\"text-align: right;\">\n",
              "      <th></th>\n",
              "      <th>AAPL</th>\n",
              "      <th>GOOG</th>\n",
              "      <th>IBM</th>\n",
              "      <th>MSFT</th>\n",
              "    </tr>\n",
              "    <tr>\n",
              "      <th>Date</th>\n",
              "      <th></th>\n",
              "      <th></th>\n",
              "      <th></th>\n",
              "      <th></th>\n",
              "    </tr>\n",
              "  </thead>\n",
              "  <tbody>\n",
              "    <tr>\n",
              "      <th>2016-10-17</th>\n",
              "      <td>-0.000680</td>\n",
              "      <td>0.001837</td>\n",
              "      <td>0.002072</td>\n",
              "      <td>-0.003483</td>\n",
              "    </tr>\n",
              "    <tr>\n",
              "      <th>2016-10-18</th>\n",
              "      <td>-0.000681</td>\n",
              "      <td>0.019616</td>\n",
              "      <td>-0.026168</td>\n",
              "      <td>0.007690</td>\n",
              "    </tr>\n",
              "    <tr>\n",
              "      <th>2016-10-19</th>\n",
              "      <td>-0.002979</td>\n",
              "      <td>0.007846</td>\n",
              "      <td>0.003583</td>\n",
              "      <td>-0.002255</td>\n",
              "    </tr>\n",
              "    <tr>\n",
              "      <th>2016-10-20</th>\n",
              "      <td>-0.000512</td>\n",
              "      <td>-0.005652</td>\n",
              "      <td>0.001719</td>\n",
              "      <td>-0.004867</td>\n",
              "    </tr>\n",
              "    <tr>\n",
              "      <th>2016-10-21</th>\n",
              "      <td>-0.003930</td>\n",
              "      <td>0.003011</td>\n",
              "      <td>-0.012474</td>\n",
              "      <td>0.042096</td>\n",
              "    </tr>\n",
              "  </tbody>\n",
              "</table>\n",
              "</div>"
            ],
            "text/plain": [
              "                AAPL      GOOG       IBM      MSFT\n",
              "Date                                              \n",
              "2016-10-17 -0.000680  0.001837  0.002072 -0.003483\n",
              "2016-10-18 -0.000681  0.019616 -0.026168  0.007690\n",
              "2016-10-19 -0.002979  0.007846  0.003583 -0.002255\n",
              "2016-10-20 -0.000512 -0.005652  0.001719 -0.004867\n",
              "2016-10-21 -0.003930  0.003011 -0.012474  0.042096"
            ]
          },
          "metadata": {
            "tags": []
          },
          "execution_count": 185
        }
      ]
    },
    {
      "cell_type": "code",
      "metadata": {
        "id": "IjWgXGcu1CsT",
        "outputId": "c02661e3-f983-4b92-d897-abcfc15d7158",
        "colab": {
          "base_uri": "https://localhost:8080/"
        }
      },
      "source": [
        "returns['MSFT'].corr(returns['IBM'])"
      ],
      "execution_count": 186,
      "outputs": [
        {
          "output_type": "execute_result",
          "data": {
            "text/plain": [
              "0.4997636114415114"
            ]
          },
          "metadata": {
            "tags": []
          },
          "execution_count": 186
        }
      ]
    },
    {
      "cell_type": "code",
      "metadata": {
        "id": "s23gPiWX1CsT",
        "outputId": "0ddbf728-9196-4d12-fbe6-c516dc9c5773",
        "colab": {
          "base_uri": "https://localhost:8080/"
        }
      },
      "source": [
        "returns['MSFT'].cov(returns['IBM'])"
      ],
      "execution_count": 187,
      "outputs": [
        {
          "output_type": "execute_result",
          "data": {
            "text/plain": [
              "8.870655479703545e-05"
            ]
          },
          "metadata": {
            "tags": []
          },
          "execution_count": 187
        }
      ]
    },
    {
      "cell_type": "code",
      "metadata": {
        "id": "BvwLN2hC1CsT",
        "outputId": "65722c26-3c1a-4928-be90-d58c3180e892",
        "colab": {
          "base_uri": "https://localhost:8080/"
        }
      },
      "source": [
        "returns.MSFT.corr(returns.IBM)"
      ],
      "execution_count": 188,
      "outputs": [
        {
          "output_type": "execute_result",
          "data": {
            "text/plain": [
              "0.4997636114415114"
            ]
          },
          "metadata": {
            "tags": []
          },
          "execution_count": 188
        }
      ]
    },
    {
      "cell_type": "code",
      "metadata": {
        "id": "JHDtueGJ1CsT",
        "outputId": "446cd0dc-facb-4d12-fdb1-27d26339268d",
        "colab": {
          "base_uri": "https://localhost:8080/",
          "height": 172
        }
      },
      "source": [
        "returns.corr()"
      ],
      "execution_count": 189,
      "outputs": [
        {
          "output_type": "execute_result",
          "data": {
            "text/html": [
              "<div>\n",
              "<style scoped>\n",
              "    .dataframe tbody tr th:only-of-type {\n",
              "        vertical-align: middle;\n",
              "    }\n",
              "\n",
              "    .dataframe tbody tr th {\n",
              "        vertical-align: top;\n",
              "    }\n",
              "\n",
              "    .dataframe thead th {\n",
              "        text-align: right;\n",
              "    }\n",
              "</style>\n",
              "<table border=\"1\" class=\"dataframe\">\n",
              "  <thead>\n",
              "    <tr style=\"text-align: right;\">\n",
              "      <th></th>\n",
              "      <th>AAPL</th>\n",
              "      <th>GOOG</th>\n",
              "      <th>IBM</th>\n",
              "      <th>MSFT</th>\n",
              "    </tr>\n",
              "  </thead>\n",
              "  <tbody>\n",
              "    <tr>\n",
              "      <th>AAPL</th>\n",
              "      <td>1.000000</td>\n",
              "      <td>0.407919</td>\n",
              "      <td>0.386817</td>\n",
              "      <td>0.389695</td>\n",
              "    </tr>\n",
              "    <tr>\n",
              "      <th>GOOG</th>\n",
              "      <td>0.407919</td>\n",
              "      <td>1.000000</td>\n",
              "      <td>0.405099</td>\n",
              "      <td>0.465919</td>\n",
              "    </tr>\n",
              "    <tr>\n",
              "      <th>IBM</th>\n",
              "      <td>0.386817</td>\n",
              "      <td>0.405099</td>\n",
              "      <td>1.000000</td>\n",
              "      <td>0.499764</td>\n",
              "    </tr>\n",
              "    <tr>\n",
              "      <th>MSFT</th>\n",
              "      <td>0.389695</td>\n",
              "      <td>0.465919</td>\n",
              "      <td>0.499764</td>\n",
              "      <td>1.000000</td>\n",
              "    </tr>\n",
              "  </tbody>\n",
              "</table>\n",
              "</div>"
            ],
            "text/plain": [
              "          AAPL      GOOG       IBM      MSFT\n",
              "AAPL  1.000000  0.407919  0.386817  0.389695\n",
              "GOOG  0.407919  1.000000  0.405099  0.465919\n",
              "IBM   0.386817  0.405099  1.000000  0.499764\n",
              "MSFT  0.389695  0.465919  0.499764  1.000000"
            ]
          },
          "metadata": {
            "tags": []
          },
          "execution_count": 189
        }
      ]
    },
    {
      "cell_type": "code",
      "metadata": {
        "id": "sFPNyR8Z1CsT"
      },
      "source": [
        "returns.cov()"
      ],
      "execution_count": null,
      "outputs": []
    },
    {
      "cell_type": "code",
      "metadata": {
        "id": "o6a6VCKx1CsT",
        "outputId": "d02045f9-bfbd-42e4-b404-8c5995a5104c",
        "colab": {
          "base_uri": "https://localhost:8080/"
        }
      },
      "source": [
        "returns.corrwith(returns.IBM)"
      ],
      "execution_count": 190,
      "outputs": [
        {
          "output_type": "execute_result",
          "data": {
            "text/plain": [
              "AAPL    0.386817\n",
              "GOOG    0.405099\n",
              "IBM     1.000000\n",
              "MSFT    0.499764\n",
              "dtype: float64"
            ]
          },
          "metadata": {
            "tags": []
          },
          "execution_count": 190
        }
      ]
    },
    {
      "cell_type": "code",
      "metadata": {
        "id": "4BwKusQ21CsT"
      },
      "source": [
        "returns.corrwith(volume, axis=1)"
      ],
      "execution_count": null,
      "outputs": []
    },
    {
      "cell_type": "code",
      "metadata": {
        "id": "Tx9LB0Hp1CsU"
      },
      "source": [
        "import pandas_datareader.data as web"
      ],
      "execution_count": null,
      "outputs": []
    },
    {
      "cell_type": "code",
      "metadata": {
        "id": "vPkqf_Vz1CsU"
      },
      "source": [
        "conda install pandas-datareader"
      ],
      "execution_count": null,
      "outputs": []
    },
    {
      "cell_type": "code",
      "metadata": {
        "id": "SHG-I1XH1CsU"
      },
      "source": [
        "import pandas_datareader.data as web"
      ],
      "execution_count": null,
      "outputs": []
    },
    {
      "cell_type": "code",
      "metadata": {
        "id": "JAJsTG3t1CsU"
      },
      "source": [
        "all_data = {ticker: web.get_data_yahoo(ticker)\n",
        "            for ticker in ['AAPL', 'IBM', 'MSFT', 'GOOG']}\n",
        "all_data['IBM'].head()"
      ],
      "execution_count": null,
      "outputs": []
    },
    {
      "cell_type": "code",
      "metadata": {
        "id": "53bREOFw1CsU"
      },
      "source": [
        "price = pd.DataFrame({ticker: data['Adj Close']\n",
        "                     for ticker, data in all_data.items()})\n",
        "price"
      ],
      "execution_count": null,
      "outputs": []
    },
    {
      "cell_type": "code",
      "metadata": {
        "id": "kBWtfVJq1CsU"
      },
      "source": [
        "volume = pd.DataFrame({ticker: data['Volume']\n",
        "                      for ticker, data in all_data.items()})\n",
        "volume"
      ],
      "execution_count": null,
      "outputs": []
    },
    {
      "cell_type": "markdown",
      "metadata": {
        "id": "3-viD10z1CsU"
      },
      "source": [
        "### Unique Values, Value Counts, and Membership"
      ]
    },
    {
      "cell_type": "code",
      "metadata": {
        "id": "C6WZPROH1CsV"
      },
      "source": [
        "obj = pd.Series(['c', 'a', 'd', 'a', 'a', 'b', 'b', 'c', 'c'])"
      ],
      "execution_count": null,
      "outputs": []
    },
    {
      "cell_type": "code",
      "metadata": {
        "id": "innNoXH91CsV",
        "outputId": "18562ceb-67cc-4c1b-858b-f4402ec88e84"
      },
      "source": [
        "uniques = obj.unique()\n",
        "uniques"
      ],
      "execution_count": null,
      "outputs": [
        {
          "output_type": "execute_result",
          "data": {
            "text/plain": [
              "array(['c', 'a', 'd', 'b'], dtype=object)"
            ]
          },
          "metadata": {
            "tags": []
          },
          "execution_count": 46
        }
      ]
    },
    {
      "cell_type": "code",
      "metadata": {
        "id": "ULQGll431CsV",
        "outputId": "a12c3c3f-89c3-4e0d-f25b-46d3e5faa498"
      },
      "source": [
        "obj.value_counts() # 값을 내림차 순으로"
      ],
      "execution_count": null,
      "outputs": [
        {
          "output_type": "execute_result",
          "data": {
            "text/plain": [
              "a    3\n",
              "c    3\n",
              "b    2\n",
              "d    1\n",
              "dtype: int64"
            ]
          },
          "metadata": {
            "tags": []
          },
          "execution_count": 47
        }
      ]
    },
    {
      "cell_type": "code",
      "metadata": {
        "id": "ORN3MKTe1CsV",
        "outputId": "fb5df55d-a7b5-487f-da67-1aa186c150ba"
      },
      "source": [
        "pd.value_counts(obj.values, sort=False)"
      ],
      "execution_count": null,
      "outputs": [
        {
          "output_type": "execute_result",
          "data": {
            "text/plain": [
              "a    3\n",
              "d    1\n",
              "c    3\n",
              "b    2\n",
              "dtype: int64"
            ]
          },
          "metadata": {
            "tags": []
          },
          "execution_count": 48
        }
      ]
    },
    {
      "cell_type": "code",
      "metadata": {
        "id": "VGiE4Tz31CsW",
        "outputId": "bdce3f1c-bd46-4192-b606-168c61426265"
      },
      "source": [
        "pd.value_counts(obj.values, sort=True)"
      ],
      "execution_count": null,
      "outputs": [
        {
          "output_type": "execute_result",
          "data": {
            "text/plain": [
              "a    3\n",
              "c    3\n",
              "b    2\n",
              "d    1\n",
              "dtype: int64"
            ]
          },
          "metadata": {
            "tags": []
          },
          "execution_count": 49
        }
      ]
    },
    {
      "cell_type": "code",
      "metadata": {
        "id": "y5IzxI5I1CsW",
        "outputId": "9cec5aad-7b36-4a13-a931-32be10137e44"
      },
      "source": [
        "pd.value_counts(obj.values).sort_index() # 인덱스를 오름차 순으로"
      ],
      "execution_count": null,
      "outputs": [
        {
          "output_type": "execute_result",
          "data": {
            "text/plain": [
              "a    3\n",
              "b    2\n",
              "c    3\n",
              "d    1\n",
              "dtype: int64"
            ]
          },
          "metadata": {
            "tags": []
          },
          "execution_count": 50
        }
      ]
    },
    {
      "cell_type": "code",
      "metadata": {
        "id": "zIeeSnlu1CsW",
        "outputId": "87eee395-f1a0-4ab0-9ad0-789cb19e0869"
      },
      "source": [
        "obj"
      ],
      "execution_count": null,
      "outputs": [
        {
          "output_type": "execute_result",
          "data": {
            "text/plain": [
              "0    c\n",
              "1    a\n",
              "2    d\n",
              "3    a\n",
              "4    a\n",
              "5    b\n",
              "6    b\n",
              "7    c\n",
              "8    c\n",
              "dtype: object"
            ]
          },
          "metadata": {
            "tags": []
          },
          "execution_count": 51
        }
      ]
    },
    {
      "cell_type": "code",
      "metadata": {
        "id": "xSMhgSX41CsX",
        "outputId": "a676107e-6697-4e5c-bd9e-43e838c8f4cd"
      },
      "source": [
        "mask = obj.isin(['b', 'c'])\n",
        "mask"
      ],
      "execution_count": null,
      "outputs": [
        {
          "output_type": "execute_result",
          "data": {
            "text/plain": [
              "0     True\n",
              "1    False\n",
              "2    False\n",
              "3    False\n",
              "4    False\n",
              "5     True\n",
              "6     True\n",
              "7     True\n",
              "8     True\n",
              "dtype: bool"
            ]
          },
          "metadata": {
            "tags": []
          },
          "execution_count": 52
        }
      ]
    },
    {
      "cell_type": "code",
      "metadata": {
        "id": "gZDvzhL_1CsX",
        "outputId": "6b7f3b69-39de-4e83-a550-040aca08bade"
      },
      "source": [
        "obj[mask]"
      ],
      "execution_count": null,
      "outputs": [
        {
          "output_type": "execute_result",
          "data": {
            "text/plain": [
              "0    c\n",
              "5    b\n",
              "6    b\n",
              "7    c\n",
              "8    c\n",
              "dtype: object"
            ]
          },
          "metadata": {
            "tags": []
          },
          "execution_count": 53
        }
      ]
    },
    {
      "cell_type": "code",
      "metadata": {
        "id": "XWEF7uqc1CsX",
        "outputId": "c515b875-3c37-4f13-bb45-a13aa7331cdf"
      },
      "source": [
        "to_match = pd.Series(['c', 'a', 'b', 'b', 'c', 'a'])\n",
        "to_match"
      ],
      "execution_count": null,
      "outputs": [
        {
          "output_type": "execute_result",
          "data": {
            "text/plain": [
              "0    c\n",
              "1    a\n",
              "2    b\n",
              "3    b\n",
              "4    c\n",
              "5    a\n",
              "dtype: object"
            ]
          },
          "metadata": {
            "tags": []
          },
          "execution_count": 54
        }
      ]
    },
    {
      "cell_type": "code",
      "metadata": {
        "id": "mQdUO-XG1CsX",
        "outputId": "cec05dc8-f723-4f05-a0c3-5a3d7e558392"
      },
      "source": [
        "unique_vals = pd.Series(['c', 'b', 'a'])\n",
        "unique_vals"
      ],
      "execution_count": null,
      "outputs": [
        {
          "output_type": "execute_result",
          "data": {
            "text/plain": [
              "0    c\n",
              "1    b\n",
              "2    a\n",
              "dtype: object"
            ]
          },
          "metadata": {
            "tags": []
          },
          "execution_count": 55
        }
      ]
    },
    {
      "cell_type": "code",
      "metadata": {
        "id": "EyojjJge1CsY",
        "outputId": "91152d0c-f2c9-410d-b618-d048efd56fc5"
      },
      "source": [
        "pd.Index(unique_vals)"
      ],
      "execution_count": null,
      "outputs": [
        {
          "output_type": "execute_result",
          "data": {
            "text/plain": [
              "Index(['c', 'b', 'a'], dtype='object')"
            ]
          },
          "metadata": {
            "tags": []
          },
          "execution_count": 56
        }
      ]
    },
    {
      "cell_type": "code",
      "metadata": {
        "id": "p_77TD4f1CsY",
        "outputId": "ae32254e-7c70-43a3-dc8d-aaf1d413c73b"
      },
      "source": [
        "pd.Index(unique_vals).get_indexer(to_match)"
      ],
      "execution_count": null,
      "outputs": [
        {
          "output_type": "execute_result",
          "data": {
            "text/plain": [
              "array([0, 2, 1, 1, 0, 2], dtype=int64)"
            ]
          },
          "metadata": {
            "tags": []
          },
          "execution_count": 57
        }
      ]
    },
    {
      "cell_type": "code",
      "metadata": {
        "id": "fyYPTnFH1CsY",
        "outputId": "dc6064eb-1984-424d-dfe8-e6a838b9f0f1"
      },
      "source": [
        "index = pd.Index(['c', 'a', 'b'])\n",
        "index.get_indexer(['a', 'b', 'c', 'x'])"
      ],
      "execution_count": null,
      "outputs": [
        {
          "output_type": "execute_result",
          "data": {
            "text/plain": [
              "array([ 1,  2,  0, -1], dtype=int64)"
            ]
          },
          "metadata": {
            "tags": []
          },
          "execution_count": 59
        }
      ]
    },
    {
      "cell_type": "code",
      "metadata": {
        "id": "oklizl4s1CsY",
        "outputId": "6786606f-644c-4570-a8a4-661d86fe57f6"
      },
      "source": [
        "data = pd.DataFrame({'Qu1': [1, 3, 4, 3, 4],\n",
        "                     'Qu2': [2, 3, 1, 2, 3],\n",
        "                     'Qu3': [1, 5, 2, 4, 4]})\n",
        "data"
      ],
      "execution_count": null,
      "outputs": [
        {
          "output_type": "execute_result",
          "data": {
            "text/html": [
              "<div>\n",
              "<style scoped>\n",
              "    .dataframe tbody tr th:only-of-type {\n",
              "        vertical-align: middle;\n",
              "    }\n",
              "\n",
              "    .dataframe tbody tr th {\n",
              "        vertical-align: top;\n",
              "    }\n",
              "\n",
              "    .dataframe thead th {\n",
              "        text-align: right;\n",
              "    }\n",
              "</style>\n",
              "<table border=\"1\" class=\"dataframe\">\n",
              "  <thead>\n",
              "    <tr style=\"text-align: right;\">\n",
              "      <th></th>\n",
              "      <th>Qu1</th>\n",
              "      <th>Qu2</th>\n",
              "      <th>Qu3</th>\n",
              "    </tr>\n",
              "  </thead>\n",
              "  <tbody>\n",
              "    <tr>\n",
              "      <th>0</th>\n",
              "      <td>1</td>\n",
              "      <td>2</td>\n",
              "      <td>1</td>\n",
              "    </tr>\n",
              "    <tr>\n",
              "      <th>1</th>\n",
              "      <td>3</td>\n",
              "      <td>3</td>\n",
              "      <td>5</td>\n",
              "    </tr>\n",
              "    <tr>\n",
              "      <th>2</th>\n",
              "      <td>4</td>\n",
              "      <td>1</td>\n",
              "      <td>2</td>\n",
              "    </tr>\n",
              "    <tr>\n",
              "      <th>3</th>\n",
              "      <td>3</td>\n",
              "      <td>2</td>\n",
              "      <td>4</td>\n",
              "    </tr>\n",
              "    <tr>\n",
              "      <th>4</th>\n",
              "      <td>4</td>\n",
              "      <td>3</td>\n",
              "      <td>4</td>\n",
              "    </tr>\n",
              "  </tbody>\n",
              "</table>\n",
              "</div>"
            ],
            "text/plain": [
              "   Qu1  Qu2  Qu3\n",
              "0    1    2    1\n",
              "1    3    3    5\n",
              "2    4    1    2\n",
              "3    3    2    4\n",
              "4    4    3    4"
            ]
          },
          "metadata": {
            "tags": []
          },
          "execution_count": 60
        }
      ]
    },
    {
      "cell_type": "code",
      "metadata": {
        "id": "6W_lkhLP1CsZ",
        "outputId": "e29009d3-1345-42c2-d1e7-cc51f5b90f78"
      },
      "source": [
        "data.apply(pd.value_counts) #축 0에 따라 값의 수를 저장"
      ],
      "execution_count": null,
      "outputs": [
        {
          "output_type": "execute_result",
          "data": {
            "text/html": [
              "<div>\n",
              "<style scoped>\n",
              "    .dataframe tbody tr th:only-of-type {\n",
              "        vertical-align: middle;\n",
              "    }\n",
              "\n",
              "    .dataframe tbody tr th {\n",
              "        vertical-align: top;\n",
              "    }\n",
              "\n",
              "    .dataframe thead th {\n",
              "        text-align: right;\n",
              "    }\n",
              "</style>\n",
              "<table border=\"1\" class=\"dataframe\">\n",
              "  <thead>\n",
              "    <tr style=\"text-align: right;\">\n",
              "      <th></th>\n",
              "      <th>Qu1</th>\n",
              "      <th>Qu2</th>\n",
              "      <th>Qu3</th>\n",
              "    </tr>\n",
              "  </thead>\n",
              "  <tbody>\n",
              "    <tr>\n",
              "      <th>1</th>\n",
              "      <td>1.0</td>\n",
              "      <td>1.0</td>\n",
              "      <td>1.0</td>\n",
              "    </tr>\n",
              "    <tr>\n",
              "      <th>2</th>\n",
              "      <td>NaN</td>\n",
              "      <td>2.0</td>\n",
              "      <td>1.0</td>\n",
              "    </tr>\n",
              "    <tr>\n",
              "      <th>3</th>\n",
              "      <td>2.0</td>\n",
              "      <td>2.0</td>\n",
              "      <td>NaN</td>\n",
              "    </tr>\n",
              "    <tr>\n",
              "      <th>4</th>\n",
              "      <td>2.0</td>\n",
              "      <td>NaN</td>\n",
              "      <td>2.0</td>\n",
              "    </tr>\n",
              "    <tr>\n",
              "      <th>5</th>\n",
              "      <td>NaN</td>\n",
              "      <td>NaN</td>\n",
              "      <td>1.0</td>\n",
              "    </tr>\n",
              "  </tbody>\n",
              "</table>\n",
              "</div>"
            ],
            "text/plain": [
              "   Qu1  Qu2  Qu3\n",
              "1  1.0  1.0  1.0\n",
              "2  NaN  2.0  1.0\n",
              "3  2.0  2.0  NaN\n",
              "4  2.0  NaN  2.0\n",
              "5  NaN  NaN  1.0"
            ]
          },
          "metadata": {
            "tags": []
          },
          "execution_count": 61
        }
      ]
    },
    {
      "cell_type": "code",
      "metadata": {
        "id": "I2jqiWxu1CsZ",
        "outputId": "0483c73f-2a3d-4b80-fe35-19e3333e2fde"
      },
      "source": [
        "result = data.apply(pd.value_counts).fillna(0)\n",
        "result"
      ],
      "execution_count": null,
      "outputs": [
        {
          "output_type": "execute_result",
          "data": {
            "text/html": [
              "<div>\n",
              "<style scoped>\n",
              "    .dataframe tbody tr th:only-of-type {\n",
              "        vertical-align: middle;\n",
              "    }\n",
              "\n",
              "    .dataframe tbody tr th {\n",
              "        vertical-align: top;\n",
              "    }\n",
              "\n",
              "    .dataframe thead th {\n",
              "        text-align: right;\n",
              "    }\n",
              "</style>\n",
              "<table border=\"1\" class=\"dataframe\">\n",
              "  <thead>\n",
              "    <tr style=\"text-align: right;\">\n",
              "      <th></th>\n",
              "      <th>Qu1</th>\n",
              "      <th>Qu2</th>\n",
              "      <th>Qu3</th>\n",
              "    </tr>\n",
              "  </thead>\n",
              "  <tbody>\n",
              "    <tr>\n",
              "      <th>1</th>\n",
              "      <td>1.0</td>\n",
              "      <td>1.0</td>\n",
              "      <td>1.0</td>\n",
              "    </tr>\n",
              "    <tr>\n",
              "      <th>2</th>\n",
              "      <td>0.0</td>\n",
              "      <td>2.0</td>\n",
              "      <td>1.0</td>\n",
              "    </tr>\n",
              "    <tr>\n",
              "      <th>3</th>\n",
              "      <td>2.0</td>\n",
              "      <td>2.0</td>\n",
              "      <td>0.0</td>\n",
              "    </tr>\n",
              "    <tr>\n",
              "      <th>4</th>\n",
              "      <td>2.0</td>\n",
              "      <td>0.0</td>\n",
              "      <td>2.0</td>\n",
              "    </tr>\n",
              "    <tr>\n",
              "      <th>5</th>\n",
              "      <td>0.0</td>\n",
              "      <td>0.0</td>\n",
              "      <td>1.0</td>\n",
              "    </tr>\n",
              "  </tbody>\n",
              "</table>\n",
              "</div>"
            ],
            "text/plain": [
              "   Qu1  Qu2  Qu3\n",
              "1  1.0  1.0  1.0\n",
              "2  0.0  2.0  1.0\n",
              "3  2.0  2.0  0.0\n",
              "4  2.0  0.0  2.0\n",
              "5  0.0  0.0  1.0"
            ]
          },
          "metadata": {
            "tags": []
          },
          "execution_count": 62
        }
      ]
    },
    {
      "cell_type": "code",
      "metadata": {
        "id": "_XYkn3wm1CsZ",
        "outputId": "978bce02-342d-4355-8589-cec65ef0f313"
      },
      "source": [
        "data"
      ],
      "execution_count": null,
      "outputs": [
        {
          "output_type": "execute_result",
          "data": {
            "text/html": [
              "<div>\n",
              "<style scoped>\n",
              "    .dataframe tbody tr th:only-of-type {\n",
              "        vertical-align: middle;\n",
              "    }\n",
              "\n",
              "    .dataframe tbody tr th {\n",
              "        vertical-align: top;\n",
              "    }\n",
              "\n",
              "    .dataframe thead th {\n",
              "        text-align: right;\n",
              "    }\n",
              "</style>\n",
              "<table border=\"1\" class=\"dataframe\">\n",
              "  <thead>\n",
              "    <tr style=\"text-align: right;\">\n",
              "      <th></th>\n",
              "      <th>Qu1</th>\n",
              "      <th>Qu2</th>\n",
              "      <th>Qu3</th>\n",
              "    </tr>\n",
              "  </thead>\n",
              "  <tbody>\n",
              "    <tr>\n",
              "      <th>0</th>\n",
              "      <td>1</td>\n",
              "      <td>2</td>\n",
              "      <td>1</td>\n",
              "    </tr>\n",
              "    <tr>\n",
              "      <th>1</th>\n",
              "      <td>3</td>\n",
              "      <td>3</td>\n",
              "      <td>5</td>\n",
              "    </tr>\n",
              "    <tr>\n",
              "      <th>2</th>\n",
              "      <td>4</td>\n",
              "      <td>1</td>\n",
              "      <td>2</td>\n",
              "    </tr>\n",
              "    <tr>\n",
              "      <th>3</th>\n",
              "      <td>3</td>\n",
              "      <td>2</td>\n",
              "      <td>4</td>\n",
              "    </tr>\n",
              "    <tr>\n",
              "      <th>4</th>\n",
              "      <td>4</td>\n",
              "      <td>3</td>\n",
              "      <td>4</td>\n",
              "    </tr>\n",
              "  </tbody>\n",
              "</table>\n",
              "</div>"
            ],
            "text/plain": [
              "   Qu1  Qu2  Qu3\n",
              "0    1    2    1\n",
              "1    3    3    5\n",
              "2    4    1    2\n",
              "3    3    2    4\n",
              "4    4    3    4"
            ]
          },
          "metadata": {
            "tags": []
          },
          "execution_count": 63
        }
      ]
    },
    {
      "cell_type": "code",
      "metadata": {
        "id": "ZgTC7jmL1CsZ",
        "outputId": "7c0045e7-2678-4504-c0d9-0ff2a413a180"
      },
      "source": [
        "data.apply(pd.value_counts, axis=1)"
      ],
      "execution_count": null,
      "outputs": [
        {
          "output_type": "execute_result",
          "data": {
            "text/html": [
              "<div>\n",
              "<style scoped>\n",
              "    .dataframe tbody tr th:only-of-type {\n",
              "        vertical-align: middle;\n",
              "    }\n",
              "\n",
              "    .dataframe tbody tr th {\n",
              "        vertical-align: top;\n",
              "    }\n",
              "\n",
              "    .dataframe thead th {\n",
              "        text-align: right;\n",
              "    }\n",
              "</style>\n",
              "<table border=\"1\" class=\"dataframe\">\n",
              "  <thead>\n",
              "    <tr style=\"text-align: right;\">\n",
              "      <th></th>\n",
              "      <th>1</th>\n",
              "      <th>2</th>\n",
              "      <th>3</th>\n",
              "      <th>4</th>\n",
              "      <th>5</th>\n",
              "    </tr>\n",
              "  </thead>\n",
              "  <tbody>\n",
              "    <tr>\n",
              "      <th>0</th>\n",
              "      <td>2.0</td>\n",
              "      <td>1.0</td>\n",
              "      <td>NaN</td>\n",
              "      <td>NaN</td>\n",
              "      <td>NaN</td>\n",
              "    </tr>\n",
              "    <tr>\n",
              "      <th>1</th>\n",
              "      <td>NaN</td>\n",
              "      <td>NaN</td>\n",
              "      <td>2.0</td>\n",
              "      <td>NaN</td>\n",
              "      <td>1.0</td>\n",
              "    </tr>\n",
              "    <tr>\n",
              "      <th>2</th>\n",
              "      <td>1.0</td>\n",
              "      <td>1.0</td>\n",
              "      <td>NaN</td>\n",
              "      <td>1.0</td>\n",
              "      <td>NaN</td>\n",
              "    </tr>\n",
              "    <tr>\n",
              "      <th>3</th>\n",
              "      <td>NaN</td>\n",
              "      <td>1.0</td>\n",
              "      <td>1.0</td>\n",
              "      <td>1.0</td>\n",
              "      <td>NaN</td>\n",
              "    </tr>\n",
              "    <tr>\n",
              "      <th>4</th>\n",
              "      <td>NaN</td>\n",
              "      <td>NaN</td>\n",
              "      <td>1.0</td>\n",
              "      <td>2.0</td>\n",
              "      <td>NaN</td>\n",
              "    </tr>\n",
              "  </tbody>\n",
              "</table>\n",
              "</div>"
            ],
            "text/plain": [
              "     1    2    3    4    5\n",
              "0  2.0  1.0  NaN  NaN  NaN\n",
              "1  NaN  NaN  2.0  NaN  1.0\n",
              "2  1.0  1.0  NaN  1.0  NaN\n",
              "3  NaN  1.0  1.0  1.0  NaN\n",
              "4  NaN  NaN  1.0  2.0  NaN"
            ]
          },
          "metadata": {
            "tags": []
          },
          "execution_count": 64
        }
      ]
    },
    {
      "cell_type": "code",
      "metadata": {
        "id": "OqpLOW9n1Csa",
        "outputId": "643f4ea0-6d39-4997-9aa6-cb95851406a6"
      },
      "source": [
        "result = data.apply(pd.value_counts, axis=1).fillna(0)\n",
        "result"
      ],
      "execution_count": null,
      "outputs": [
        {
          "output_type": "execute_result",
          "data": {
            "text/html": [
              "<div>\n",
              "<style scoped>\n",
              "    .dataframe tbody tr th:only-of-type {\n",
              "        vertical-align: middle;\n",
              "    }\n",
              "\n",
              "    .dataframe tbody tr th {\n",
              "        vertical-align: top;\n",
              "    }\n",
              "\n",
              "    .dataframe thead th {\n",
              "        text-align: right;\n",
              "    }\n",
              "</style>\n",
              "<table border=\"1\" class=\"dataframe\">\n",
              "  <thead>\n",
              "    <tr style=\"text-align: right;\">\n",
              "      <th></th>\n",
              "      <th>1</th>\n",
              "      <th>2</th>\n",
              "      <th>3</th>\n",
              "      <th>4</th>\n",
              "      <th>5</th>\n",
              "    </tr>\n",
              "  </thead>\n",
              "  <tbody>\n",
              "    <tr>\n",
              "      <th>0</th>\n",
              "      <td>2.0</td>\n",
              "      <td>1.0</td>\n",
              "      <td>0.0</td>\n",
              "      <td>0.0</td>\n",
              "      <td>0.0</td>\n",
              "    </tr>\n",
              "    <tr>\n",
              "      <th>1</th>\n",
              "      <td>0.0</td>\n",
              "      <td>0.0</td>\n",
              "      <td>2.0</td>\n",
              "      <td>0.0</td>\n",
              "      <td>1.0</td>\n",
              "    </tr>\n",
              "    <tr>\n",
              "      <th>2</th>\n",
              "      <td>1.0</td>\n",
              "      <td>1.0</td>\n",
              "      <td>0.0</td>\n",
              "      <td>1.0</td>\n",
              "      <td>0.0</td>\n",
              "    </tr>\n",
              "    <tr>\n",
              "      <th>3</th>\n",
              "      <td>0.0</td>\n",
              "      <td>1.0</td>\n",
              "      <td>1.0</td>\n",
              "      <td>1.0</td>\n",
              "      <td>0.0</td>\n",
              "    </tr>\n",
              "    <tr>\n",
              "      <th>4</th>\n",
              "      <td>0.0</td>\n",
              "      <td>0.0</td>\n",
              "      <td>1.0</td>\n",
              "      <td>2.0</td>\n",
              "      <td>0.0</td>\n",
              "    </tr>\n",
              "  </tbody>\n",
              "</table>\n",
              "</div>"
            ],
            "text/plain": [
              "     1    2    3    4    5\n",
              "0  2.0  1.0  0.0  0.0  0.0\n",
              "1  0.0  0.0  2.0  0.0  1.0\n",
              "2  1.0  1.0  0.0  1.0  0.0\n",
              "3  0.0  1.0  1.0  1.0  0.0\n",
              "4  0.0  0.0  1.0  2.0  0.0"
            ]
          },
          "metadata": {
            "tags": []
          },
          "execution_count": 65
        }
      ]
    },
    {
      "cell_type": "markdown",
      "metadata": {
        "id": "FzTrEbTi1Csa"
      },
      "source": [
        "### 문제"
      ]
    },
    {
      "cell_type": "markdown",
      "metadata": {
        "id": "1H8amj-M1Csa"
      },
      "source": [
        "## Conclusion"
      ]
    },
    {
      "cell_type": "code",
      "metadata": {
        "id": "pGRYKcUh1Csa"
      },
      "source": [
        "pd.options.display.max_rows = PREVIOUS_MAX_ROWS"
      ],
      "execution_count": null,
      "outputs": []
    },
    {
      "cell_type": "code",
      "metadata": {
        "id": "8YupT7eb1Csb"
      },
      "source": [
        "df = pd.DataFrame(np.arange(20).reshape(4, 5),\n",
        "                 index = list('ABCD'), \n",
        "                 columns = ['java', 'C', 'C++', 'python', 'Go'])\n",
        "df"
      ],
      "execution_count": null,
      "outputs": []
    },
    {
      "cell_type": "code",
      "metadata": {
        "id": "wQNHS1331Csb"
      },
      "source": [
        "df[['java', 'C']]"
      ],
      "execution_count": null,
      "outputs": []
    },
    {
      "cell_type": "code",
      "metadata": {
        "id": "hz6usaH81Csb"
      },
      "source": [
        "df[['java', 'C']][1:3]"
      ],
      "execution_count": null,
      "outputs": []
    },
    {
      "cell_type": "code",
      "metadata": {
        "id": "EpB3_IeS1Csb"
      },
      "source": [
        "df[1:3]"
      ],
      "execution_count": null,
      "outputs": []
    },
    {
      "cell_type": "code",
      "metadata": {
        "id": "gosZv1lq1Csb"
      },
      "source": [
        "df.iloc[3]"
      ],
      "execution_count": null,
      "outputs": []
    },
    {
      "cell_type": "code",
      "metadata": {
        "id": "7BBVuSIl1Csc"
      },
      "source": [
        "df.iloc[3, 4]"
      ],
      "execution_count": null,
      "outputs": []
    },
    {
      "cell_type": "code",
      "metadata": {
        "id": "Ldsa6vol1Csc"
      },
      "source": [
        "df['C']"
      ],
      "execution_count": null,
      "outputs": []
    },
    {
      "cell_type": "code",
      "metadata": {
        "id": "o4fXKkwl1Csc"
      },
      "source": [
        "df.drop('B')"
      ],
      "execution_count": null,
      "outputs": []
    },
    {
      "cell_type": "code",
      "metadata": {
        "id": "xA4sTVpv1Csc"
      },
      "source": [
        "df"
      ],
      "execution_count": null,
      "outputs": []
    },
    {
      "cell_type": "code",
      "metadata": {
        "id": "NGKBplqw1Csc"
      },
      "source": [
        "df.drop('java', axis=1)"
      ],
      "execution_count": null,
      "outputs": []
    },
    {
      "cell_type": "code",
      "metadata": {
        "id": "6UWgs98v1Csc"
      },
      "source": [
        "df"
      ],
      "execution_count": null,
      "outputs": []
    },
    {
      "cell_type": "code",
      "metadata": {
        "id": "umD8pK8o1Csc"
      },
      "source": [
        "df"
      ],
      "execution_count": null,
      "outputs": []
    },
    {
      "cell_type": "code",
      "metadata": {
        "id": "gZ49XFT11Csd"
      },
      "source": [
        "df.iloc[0, 0] = np.nan"
      ],
      "execution_count": null,
      "outputs": []
    },
    {
      "cell_type": "code",
      "metadata": {
        "id": "vNuNIWt81Csd"
      },
      "source": [
        "df"
      ],
      "execution_count": null,
      "outputs": []
    },
    {
      "cell_type": "code",
      "metadata": {
        "id": "2kb1gZ6g1Csd"
      },
      "source": [
        "df.iloc[0, 0]"
      ],
      "execution_count": null,
      "outputs": []
    },
    {
      "cell_type": "code",
      "metadata": {
        "id": "FJCU1D0E1Csd"
      },
      "source": [
        "df.loc['A', 'java']"
      ],
      "execution_count": null,
      "outputs": []
    },
    {
      "cell_type": "code",
      "metadata": {
        "id": "LP6IhXYG1Csd"
      },
      "source": [
        "df.loc[['A'], ['java']]"
      ],
      "execution_count": null,
      "outputs": []
    },
    {
      "cell_type": "code",
      "metadata": {
        "id": "SHTHqjzL1Csd"
      },
      "source": [
        "df[0:1]"
      ],
      "execution_count": null,
      "outputs": []
    },
    {
      "cell_type": "code",
      "metadata": {
        "id": "5n3xpSS31Csd"
      },
      "source": [
        "df"
      ],
      "execution_count": null,
      "outputs": []
    },
    {
      "cell_type": "code",
      "metadata": {
        "id": "MNJbAWlN1Csd"
      },
      "source": [
        "df[df>3]"
      ],
      "execution_count": null,
      "outputs": []
    },
    {
      "cell_type": "code",
      "metadata": {
        "id": "IlDNN4b11Cse"
      },
      "source": [
        "df>3"
      ],
      "execution_count": null,
      "outputs": []
    },
    {
      "cell_type": "code",
      "metadata": {
        "id": "9ye6inxh1Cse"
      },
      "source": [
        "df['python']>8"
      ],
      "execution_count": null,
      "outputs": []
    },
    {
      "cell_type": "code",
      "metadata": {
        "id": "c8xnUCZq1Cse"
      },
      "source": [
        "df[df['python']>8]"
      ],
      "execution_count": null,
      "outputs": []
    },
    {
      "cell_type": "code",
      "metadata": {
        "id": "Tm7EjOB-1Cse"
      },
      "source": [
        "df[[True, True, True, True, True]]"
      ],
      "execution_count": null,
      "outputs": []
    },
    {
      "cell_type": "code",
      "metadata": {
        "id": "IzF9_zLR1Cse"
      },
      "source": [
        "df"
      ],
      "execution_count": null,
      "outputs": []
    },
    {
      "cell_type": "code",
      "metadata": {
        "id": "WY6mpZSb1Cse"
      },
      "source": [
        "df[7<=df]"
      ],
      "execution_count": null,
      "outputs": []
    },
    {
      "cell_type": "code",
      "metadata": {
        "id": "Jbh8vzvL1Cse"
      },
      "source": [
        "df1 = pd.DataFrame(np.arange(6).reshape(2, 3), \n",
        "                 index = list('AB'))\n",
        "df1"
      ],
      "execution_count": null,
      "outputs": []
    },
    {
      "cell_type": "code",
      "metadata": {
        "id": "vEvO-nK81Cse"
      },
      "source": [
        "df2 = pd.DataFrame(np.arange(6).reshape(2, 3), \n",
        "                 columns = list('ABC'))\n",
        "df2"
      ],
      "execution_count": null,
      "outputs": []
    },
    {
      "cell_type": "code",
      "metadata": {
        "id": "gfdI-ujH1Csf"
      },
      "source": [
        "df1 + df2"
      ],
      "execution_count": null,
      "outputs": []
    },
    {
      "cell_type": "code",
      "metadata": {
        "id": "duOJVtcR1Csf"
      },
      "source": [
        "s = pd.Series(range(3), index=list('ABC'))\n",
        "s"
      ],
      "execution_count": null,
      "outputs": []
    },
    {
      "cell_type": "code",
      "metadata": {
        "id": "k7AMZTYL1Csf"
      },
      "source": [
        "df1"
      ],
      "execution_count": null,
      "outputs": []
    },
    {
      "cell_type": "code",
      "metadata": {
        "id": "EHxX-YiQ1Csf"
      },
      "source": [
        "df1 + s"
      ],
      "execution_count": null,
      "outputs": []
    },
    {
      "cell_type": "code",
      "metadata": {
        "id": "6_ysU_-z1Csf"
      },
      "source": [
        "df1 + s"
      ],
      "execution_count": null,
      "outputs": []
    },
    {
      "cell_type": "code",
      "metadata": {
        "id": "1ag859vw1Csf"
      },
      "source": [
        "df1.add(s, axis=0)"
      ],
      "execution_count": null,
      "outputs": []
    },
    {
      "cell_type": "code",
      "metadata": {
        "id": "xPTgeGGx1Csf"
      },
      "source": [
        ""
      ],
      "execution_count": null,
      "outputs": []
    },
    {
      "cell_type": "code",
      "metadata": {
        "id": "fRhvlXcK1Csf"
      },
      "source": [
        ""
      ],
      "execution_count": null,
      "outputs": []
    }
  ]
}