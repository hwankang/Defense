{
  "nbformat": 4,
  "nbformat_minor": 0,
  "metadata": {
    "colab": {
      "name": "Untitled67.ipynb",
      "private_outputs": true,
      "provenance": [],
      "authorship_tag": "ABX9TyPceR8q73W1htKXOerPqrkV",
      "include_colab_link": true
    },
    "kernelspec": {
      "name": "python3",
      "display_name": "Python 3"
    },
    "language_info": {
      "name": "python"
    }
  },
  "cells": [
    {
      "cell_type": "markdown",
      "metadata": {
        "id": "view-in-github",
        "colab_type": "text"
      },
      "source": [
        "<a href=\"https://colab.research.google.com/github/hwankang/Defense/blob/main/trajectory_lstm.ipynb\" target=\"_parent\"><img src=\"https://colab.research.google.com/assets/colab-badge.svg\" alt=\"Open In Colab\"/></a>"
      ]
    },
    {
      "cell_type": "code",
      "metadata": {
        "id": "Bam2GYrDHEAJ"
      },
      "source": [
        "import tensorflow as tf\n",
        "inputs = tf.random.normal([32, 10, 8])"
      ],
      "execution_count": null,
      "outputs": []
    },
    {
      "cell_type": "code",
      "metadata": {
        "id": "V6KMn7NzHIFt"
      },
      "source": [
        "inputs"
      ],
      "execution_count": null,
      "outputs": []
    },
    {
      "cell_type": "code",
      "metadata": {
        "id": "WX6gMXsnHVpr"
      },
      "source": [
        "inputs[0][0][0]"
      ],
      "execution_count": null,
      "outputs": []
    },
    {
      "cell_type": "code",
      "metadata": {
        "id": "ml4JFP-3Ho_q"
      },
      "source": [
        "inputs1=tf.random.normal([4,3,2])\n",
        "inputs1"
      ],
      "execution_count": null,
      "outputs": []
    },
    {
      "cell_type": "code",
      "metadata": {
        "id": "NcpmTq4fIFII"
      },
      "source": [
        "lstm = tf.keras.layers.LSTM(4)"
      ],
      "execution_count": null,
      "outputs": []
    },
    {
      "cell_type": "code",
      "metadata": {
        "id": "vh95QeMsIyT_"
      },
      "source": [
        "output=lstm(inputs)"
      ],
      "execution_count": null,
      "outputs": []
    },
    {
      "cell_type": "code",
      "metadata": {
        "id": "6AdKJH_1I8KW"
      },
      "source": [
        "print(output.shape)"
      ],
      "execution_count": null,
      "outputs": []
    },
    {
      "cell_type": "code",
      "metadata": {
        "id": "lCj3wUHHJAuS"
      },
      "source": [
        "inputs = tf.random.normal([3, 2, 2])\n",
        "inputs"
      ],
      "execution_count": null,
      "outputs": []
    },
    {
      "cell_type": "markdown",
      "metadata": {
        "id": "j76OicEgi--5"
      },
      "source": [
        ""
      ]
    },
    {
      "cell_type": "code",
      "metadata": {
        "id": "Hcucxvxxi6mr"
      },
      "source": [
        "lstm = tf.keras.layers.LSTM(1)\n",
        "output = lstm(inputs)\n",
        "output"
      ],
      "execution_count": null,
      "outputs": []
    },
    {
      "cell_type": "code",
      "metadata": {
        "id": "FnzVVBcrjC-p"
      },
      "source": [
        "lstm = tf.keras.layers.LSTM(2)\n",
        "output = lstm(inputs)\n",
        "output"
      ],
      "execution_count": null,
      "outputs": []
    },
    {
      "cell_type": "code",
      "metadata": {
        "id": "y4rllIxcjrSZ"
      },
      "source": [
        "lstm = tf.keras.layers.LSTM(3)\n",
        "output = lstm(inputs)\n",
        "output"
      ],
      "execution_count": null,
      "outputs": []
    },
    {
      "cell_type": "code",
      "metadata": {
        "id": "HxKtgjaTj15G"
      },
      "source": [
        "lstm = tf.keras.layers.LSTM(4)\n",
        "output = lstm(inputs)\n",
        "output"
      ],
      "execution_count": null,
      "outputs": []
    },
    {
      "cell_type": "code",
      "metadata": {
        "id": "8A5tXU8GkB0D"
      },
      "source": [
        ""
      ],
      "execution_count": null,
      "outputs": []
    }
  ]
}