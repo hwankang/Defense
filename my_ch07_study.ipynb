{
  "nbformat": 4,
  "nbformat_minor": 0,
  "metadata": {
    "kernelspec": {
      "display_name": "Python 3",
      "language": "python",
      "name": "python3"
    },
    "language_info": {
      "codemirror_mode": {
        "name": "ipython",
        "version": 3
      },
      "file_extension": ".py",
      "mimetype": "text/x-python",
      "name": "python",
      "nbconvert_exporter": "python",
      "pygments_lexer": "ipython3",
      "version": "3.9.5"
    },
    "colab": {
      "name": "my-ch07-study.ipynb",
      "provenance": [],
      "collapsed_sections": [
        "Cf3vSTOo-3Tg",
        "8eikpca3-3Ti",
        "28mgr974-3Tj",
        "hu1QP-tQ-3Tk",
        "EnLazanm-3Tm",
        "SGTYFF8M-3Tn",
        "0nIztSci-3Tt",
        "1YT70QJ1-3Tw",
        "oJxPb0Ea-3T5",
        "L1aetTAl-3T-",
        "U4zNklWJ-3UB"
      ],
      "include_colab_link": true
    }
  },
  "cells": [
    {
      "cell_type": "markdown",
      "metadata": {
        "id": "view-in-github",
        "colab_type": "text"
      },
      "source": [
        "<a href=\"https://colab.research.google.com/github/hwankang/Defense/blob/main/my_ch07_study.ipynb\" target=\"_parent\"><img src=\"https://colab.research.google.com/assets/colab-badge.svg\" alt=\"Open In Colab\"/></a>"
      ]
    },
    {
      "cell_type": "markdown",
      "metadata": {
        "id": "qN8sLsK8-3TX"
      },
      "source": [
        "# Data Cleaning and Preparation"
      ]
    },
    {
      "cell_type": "code",
      "metadata": {
        "id": "sihGD1_e-3TY"
      },
      "source": [
        "import numpy as np\n",
        "import pandas as pd\n",
        "PREVIOUS_MAX_ROWS = pd.options.display.max_rows\n",
        "pd.options.display.max_rows = 20\n",
        "np.random.seed(12345)\n",
        "import matplotlib.pyplot as plt\n",
        "plt.rc('figure', figsize=(10, 6))\n",
        "np.set_printoptions(precision=4, suppress=True)"
      ],
      "execution_count": 1,
      "outputs": []
    },
    {
      "cell_type": "markdown",
      "metadata": {
        "id": "iXEa8-cv-3TZ"
      },
      "source": [
        "## Handling Missing Data"
      ]
    },
    {
      "cell_type": "code",
      "metadata": {
        "id": "JNtdyuiI-3TZ",
        "outputId": "7b5397a6-210f-4cee-a02d-2124939eb3b3",
        "colab": {
          "base_uri": "https://localhost:8080/"
        }
      },
      "source": [
        "string_data = pd.Series(['aardvark', 'artichoke', np.nan, 'avocado'])\n",
        "string_data\n",
        "string_data.isnull()"
      ],
      "execution_count": 2,
      "outputs": [
        {
          "output_type": "execute_result",
          "data": {
            "text/plain": [
              "0    False\n",
              "1    False\n",
              "2     True\n",
              "3    False\n",
              "dtype: bool"
            ]
          },
          "metadata": {
            "tags": []
          },
          "execution_count": 2
        }
      ]
    },
    {
      "cell_type": "code",
      "metadata": {
        "id": "jd_sRVvP-3Ta",
        "outputId": "6e290b19-2a16-4423-b977-fb4f455b7f4f",
        "colab": {
          "base_uri": "https://localhost:8080/"
        }
      },
      "source": [
        "string_data[0] = None\n",
        "string_data.isnull()"
      ],
      "execution_count": 3,
      "outputs": [
        {
          "output_type": "execute_result",
          "data": {
            "text/plain": [
              "0     True\n",
              "1    False\n",
              "2     True\n",
              "3    False\n",
              "dtype: bool"
            ]
          },
          "metadata": {
            "tags": []
          },
          "execution_count": 3
        }
      ]
    },
    {
      "cell_type": "code",
      "metadata": {
        "id": "9LPhNHW7-3Ta",
        "outputId": "d3cc1251-b1d7-4264-e4cf-915466849033",
        "colab": {
          "base_uri": "https://localhost:8080/"
        }
      },
      "source": [
        "string_data"
      ],
      "execution_count": 4,
      "outputs": [
        {
          "output_type": "execute_result",
          "data": {
            "text/plain": [
              "0         None\n",
              "1    artichoke\n",
              "2          NaN\n",
              "3      avocado\n",
              "dtype: object"
            ]
          },
          "metadata": {
            "tags": []
          },
          "execution_count": 4
        }
      ]
    },
    {
      "cell_type": "markdown",
      "metadata": {
        "id": "YHO2eSK0-3Tb"
      },
      "source": [
        "### Filtering Out Missing Data"
      ]
    },
    {
      "cell_type": "code",
      "metadata": {
        "id": "r_rt2hcv-3Tb",
        "outputId": "0264661c-a980-4136-ccc3-c629ff19b6cb",
        "colab": {
          "base_uri": "https://localhost:8080/"
        }
      },
      "source": [
        "from numpy import nan as NA\n",
        "data = pd.Series([1, NA, 3.5, NA, 7])\n",
        "data"
      ],
      "execution_count": 5,
      "outputs": [
        {
          "output_type": "execute_result",
          "data": {
            "text/plain": [
              "0    1.0\n",
              "1    NaN\n",
              "2    3.5\n",
              "3    NaN\n",
              "4    7.0\n",
              "dtype: float64"
            ]
          },
          "metadata": {
            "tags": []
          },
          "execution_count": 5
        }
      ]
    },
    {
      "cell_type": "code",
      "metadata": {
        "id": "QdUeBxsD-3Tb",
        "outputId": "8b73ebf0-754b-41e9-f35a-d818c0a46005",
        "colab": {
          "base_uri": "https://localhost:8080/"
        }
      },
      "source": [
        "data.dropna()"
      ],
      "execution_count": 6,
      "outputs": [
        {
          "output_type": "execute_result",
          "data": {
            "text/plain": [
              "0    1.0\n",
              "2    3.5\n",
              "4    7.0\n",
              "dtype: float64"
            ]
          },
          "metadata": {
            "tags": []
          },
          "execution_count": 6
        }
      ]
    },
    {
      "cell_type": "code",
      "metadata": {
        "id": "KqInVu0Q-3Tb",
        "outputId": "159cd70f-87dc-42e6-fd46-c287cce864d0",
        "colab": {
          "base_uri": "https://localhost:8080/"
        }
      },
      "source": [
        "data[data.notnull()]"
      ],
      "execution_count": 7,
      "outputs": [
        {
          "output_type": "execute_result",
          "data": {
            "text/plain": [
              "0    1.0\n",
              "2    3.5\n",
              "4    7.0\n",
              "dtype: float64"
            ]
          },
          "metadata": {
            "tags": []
          },
          "execution_count": 7
        }
      ]
    },
    {
      "cell_type": "code",
      "metadata": {
        "id": "ko5uHY3u-3Tc"
      },
      "source": [
        "data = pd.DataFrame([[1., 6.5, 3.], [1., NA, NA],\n",
        "                     [NA, NA, NA], [NA, 6.5, 3.]])\n",
        "cleaned = data.dropna()"
      ],
      "execution_count": 8,
      "outputs": []
    },
    {
      "cell_type": "code",
      "metadata": {
        "id": "ZMf0UuK9-3Tc",
        "outputId": "5d937097-8b46-4c53-839e-d4a2f9a79a1f",
        "colab": {
          "base_uri": "https://localhost:8080/",
          "height": 172
        }
      },
      "source": [
        "data"
      ],
      "execution_count": 9,
      "outputs": [
        {
          "output_type": "execute_result",
          "data": {
            "text/html": [
              "<div>\n",
              "<style scoped>\n",
              "    .dataframe tbody tr th:only-of-type {\n",
              "        vertical-align: middle;\n",
              "    }\n",
              "\n",
              "    .dataframe tbody tr th {\n",
              "        vertical-align: top;\n",
              "    }\n",
              "\n",
              "    .dataframe thead th {\n",
              "        text-align: right;\n",
              "    }\n",
              "</style>\n",
              "<table border=\"1\" class=\"dataframe\">\n",
              "  <thead>\n",
              "    <tr style=\"text-align: right;\">\n",
              "      <th></th>\n",
              "      <th>0</th>\n",
              "      <th>1</th>\n",
              "      <th>2</th>\n",
              "    </tr>\n",
              "  </thead>\n",
              "  <tbody>\n",
              "    <tr>\n",
              "      <th>0</th>\n",
              "      <td>1.0</td>\n",
              "      <td>6.5</td>\n",
              "      <td>3.0</td>\n",
              "    </tr>\n",
              "    <tr>\n",
              "      <th>1</th>\n",
              "      <td>1.0</td>\n",
              "      <td>NaN</td>\n",
              "      <td>NaN</td>\n",
              "    </tr>\n",
              "    <tr>\n",
              "      <th>2</th>\n",
              "      <td>NaN</td>\n",
              "      <td>NaN</td>\n",
              "      <td>NaN</td>\n",
              "    </tr>\n",
              "    <tr>\n",
              "      <th>3</th>\n",
              "      <td>NaN</td>\n",
              "      <td>6.5</td>\n",
              "      <td>3.0</td>\n",
              "    </tr>\n",
              "  </tbody>\n",
              "</table>\n",
              "</div>"
            ],
            "text/plain": [
              "     0    1    2\n",
              "0  1.0  6.5  3.0\n",
              "1  1.0  NaN  NaN\n",
              "2  NaN  NaN  NaN\n",
              "3  NaN  6.5  3.0"
            ]
          },
          "metadata": {
            "tags": []
          },
          "execution_count": 9
        }
      ]
    },
    {
      "cell_type": "code",
      "metadata": {
        "id": "_CpFLwkb-3Tc",
        "outputId": "921366ef-221f-49fc-895c-cc176cb37f89",
        "colab": {
          "base_uri": "https://localhost:8080/",
          "height": 79
        }
      },
      "source": [
        "cleaned"
      ],
      "execution_count": 10,
      "outputs": [
        {
          "output_type": "execute_result",
          "data": {
            "text/html": [
              "<div>\n",
              "<style scoped>\n",
              "    .dataframe tbody tr th:only-of-type {\n",
              "        vertical-align: middle;\n",
              "    }\n",
              "\n",
              "    .dataframe tbody tr th {\n",
              "        vertical-align: top;\n",
              "    }\n",
              "\n",
              "    .dataframe thead th {\n",
              "        text-align: right;\n",
              "    }\n",
              "</style>\n",
              "<table border=\"1\" class=\"dataframe\">\n",
              "  <thead>\n",
              "    <tr style=\"text-align: right;\">\n",
              "      <th></th>\n",
              "      <th>0</th>\n",
              "      <th>1</th>\n",
              "      <th>2</th>\n",
              "    </tr>\n",
              "  </thead>\n",
              "  <tbody>\n",
              "    <tr>\n",
              "      <th>0</th>\n",
              "      <td>1.0</td>\n",
              "      <td>6.5</td>\n",
              "      <td>3.0</td>\n",
              "    </tr>\n",
              "  </tbody>\n",
              "</table>\n",
              "</div>"
            ],
            "text/plain": [
              "     0    1    2\n",
              "0  1.0  6.5  3.0"
            ]
          },
          "metadata": {
            "tags": []
          },
          "execution_count": 10
        }
      ]
    },
    {
      "cell_type": "code",
      "metadata": {
        "id": "p4ky86s--3Td",
        "outputId": "034614f6-00a8-4995-dbc1-0e7ab73bb4c6",
        "colab": {
          "base_uri": "https://localhost:8080/",
          "height": 141
        }
      },
      "source": [
        "data.dropna(how='all')"
      ],
      "execution_count": 11,
      "outputs": [
        {
          "output_type": "execute_result",
          "data": {
            "text/html": [
              "<div>\n",
              "<style scoped>\n",
              "    .dataframe tbody tr th:only-of-type {\n",
              "        vertical-align: middle;\n",
              "    }\n",
              "\n",
              "    .dataframe tbody tr th {\n",
              "        vertical-align: top;\n",
              "    }\n",
              "\n",
              "    .dataframe thead th {\n",
              "        text-align: right;\n",
              "    }\n",
              "</style>\n",
              "<table border=\"1\" class=\"dataframe\">\n",
              "  <thead>\n",
              "    <tr style=\"text-align: right;\">\n",
              "      <th></th>\n",
              "      <th>0</th>\n",
              "      <th>1</th>\n",
              "      <th>2</th>\n",
              "    </tr>\n",
              "  </thead>\n",
              "  <tbody>\n",
              "    <tr>\n",
              "      <th>0</th>\n",
              "      <td>1.0</td>\n",
              "      <td>6.5</td>\n",
              "      <td>3.0</td>\n",
              "    </tr>\n",
              "    <tr>\n",
              "      <th>1</th>\n",
              "      <td>1.0</td>\n",
              "      <td>NaN</td>\n",
              "      <td>NaN</td>\n",
              "    </tr>\n",
              "    <tr>\n",
              "      <th>3</th>\n",
              "      <td>NaN</td>\n",
              "      <td>6.5</td>\n",
              "      <td>3.0</td>\n",
              "    </tr>\n",
              "  </tbody>\n",
              "</table>\n",
              "</div>"
            ],
            "text/plain": [
              "     0    1    2\n",
              "0  1.0  6.5  3.0\n",
              "1  1.0  NaN  NaN\n",
              "3  NaN  6.5  3.0"
            ]
          },
          "metadata": {
            "tags": []
          },
          "execution_count": 11
        }
      ]
    },
    {
      "cell_type": "code",
      "metadata": {
        "id": "cZ2RHwOn-3Td",
        "outputId": "0001c062-2576-4f35-c442-449858f7d35a",
        "colab": {
          "base_uri": "https://localhost:8080/",
          "height": 172
        }
      },
      "source": [
        "data[4] = NA\n",
        "data"
      ],
      "execution_count": 12,
      "outputs": [
        {
          "output_type": "execute_result",
          "data": {
            "text/html": [
              "<div>\n",
              "<style scoped>\n",
              "    .dataframe tbody tr th:only-of-type {\n",
              "        vertical-align: middle;\n",
              "    }\n",
              "\n",
              "    .dataframe tbody tr th {\n",
              "        vertical-align: top;\n",
              "    }\n",
              "\n",
              "    .dataframe thead th {\n",
              "        text-align: right;\n",
              "    }\n",
              "</style>\n",
              "<table border=\"1\" class=\"dataframe\">\n",
              "  <thead>\n",
              "    <tr style=\"text-align: right;\">\n",
              "      <th></th>\n",
              "      <th>0</th>\n",
              "      <th>1</th>\n",
              "      <th>2</th>\n",
              "      <th>4</th>\n",
              "    </tr>\n",
              "  </thead>\n",
              "  <tbody>\n",
              "    <tr>\n",
              "      <th>0</th>\n",
              "      <td>1.0</td>\n",
              "      <td>6.5</td>\n",
              "      <td>3.0</td>\n",
              "      <td>NaN</td>\n",
              "    </tr>\n",
              "    <tr>\n",
              "      <th>1</th>\n",
              "      <td>1.0</td>\n",
              "      <td>NaN</td>\n",
              "      <td>NaN</td>\n",
              "      <td>NaN</td>\n",
              "    </tr>\n",
              "    <tr>\n",
              "      <th>2</th>\n",
              "      <td>NaN</td>\n",
              "      <td>NaN</td>\n",
              "      <td>NaN</td>\n",
              "      <td>NaN</td>\n",
              "    </tr>\n",
              "    <tr>\n",
              "      <th>3</th>\n",
              "      <td>NaN</td>\n",
              "      <td>6.5</td>\n",
              "      <td>3.0</td>\n",
              "      <td>NaN</td>\n",
              "    </tr>\n",
              "  </tbody>\n",
              "</table>\n",
              "</div>"
            ],
            "text/plain": [
              "     0    1    2   4\n",
              "0  1.0  6.5  3.0 NaN\n",
              "1  1.0  NaN  NaN NaN\n",
              "2  NaN  NaN  NaN NaN\n",
              "3  NaN  6.5  3.0 NaN"
            ]
          },
          "metadata": {
            "tags": []
          },
          "execution_count": 12
        }
      ]
    },
    {
      "cell_type": "code",
      "metadata": {
        "id": "wTbWP9xD-3Td",
        "outputId": "e1703d3e-fdf3-40f5-a703-3d8b477db77d"
      },
      "source": [
        "data.dropna(axis=1, how='all')"
      ],
      "execution_count": null,
      "outputs": [
        {
          "output_type": "execute_result",
          "data": {
            "text/html": [
              "<div>\n",
              "<style scoped>\n",
              "    .dataframe tbody tr th:only-of-type {\n",
              "        vertical-align: middle;\n",
              "    }\n",
              "\n",
              "    .dataframe tbody tr th {\n",
              "        vertical-align: top;\n",
              "    }\n",
              "\n",
              "    .dataframe thead th {\n",
              "        text-align: right;\n",
              "    }\n",
              "</style>\n",
              "<table border=\"1\" class=\"dataframe\">\n",
              "  <thead>\n",
              "    <tr style=\"text-align: right;\">\n",
              "      <th></th>\n",
              "      <th>0</th>\n",
              "      <th>1</th>\n",
              "      <th>2</th>\n",
              "    </tr>\n",
              "  </thead>\n",
              "  <tbody>\n",
              "    <tr>\n",
              "      <th>0</th>\n",
              "      <td>1.0</td>\n",
              "      <td>6.5</td>\n",
              "      <td>3.0</td>\n",
              "    </tr>\n",
              "    <tr>\n",
              "      <th>1</th>\n",
              "      <td>1.0</td>\n",
              "      <td>NaN</td>\n",
              "      <td>NaN</td>\n",
              "    </tr>\n",
              "    <tr>\n",
              "      <th>2</th>\n",
              "      <td>NaN</td>\n",
              "      <td>NaN</td>\n",
              "      <td>NaN</td>\n",
              "    </tr>\n",
              "    <tr>\n",
              "      <th>3</th>\n",
              "      <td>NaN</td>\n",
              "      <td>6.5</td>\n",
              "      <td>3.0</td>\n",
              "    </tr>\n",
              "  </tbody>\n",
              "</table>\n",
              "</div>"
            ],
            "text/plain": [
              "     0    1    2\n",
              "0  1.0  6.5  3.0\n",
              "1  1.0  NaN  NaN\n",
              "2  NaN  NaN  NaN\n",
              "3  NaN  6.5  3.0"
            ]
          },
          "metadata": {
            "tags": []
          },
          "execution_count": 14
        }
      ]
    },
    {
      "cell_type": "code",
      "metadata": {
        "id": "rcwRIB1a-3Td",
        "outputId": "97dcdd35-ddd7-46be-e431-8167f4817578"
      },
      "source": [
        "df = pd.DataFrame(np.random.randn(7, 3))\n",
        "df.iloc[:4, 1] = NA\n",
        "df.iloc[:2, 2] = NA\n",
        "df"
      ],
      "execution_count": null,
      "outputs": [
        {
          "output_type": "execute_result",
          "data": {
            "text/html": [
              "<div>\n",
              "<style scoped>\n",
              "    .dataframe tbody tr th:only-of-type {\n",
              "        vertical-align: middle;\n",
              "    }\n",
              "\n",
              "    .dataframe tbody tr th {\n",
              "        vertical-align: top;\n",
              "    }\n",
              "\n",
              "    .dataframe thead th {\n",
              "        text-align: right;\n",
              "    }\n",
              "</style>\n",
              "<table border=\"1\" class=\"dataframe\">\n",
              "  <thead>\n",
              "    <tr style=\"text-align: right;\">\n",
              "      <th></th>\n",
              "      <th>0</th>\n",
              "      <th>1</th>\n",
              "      <th>2</th>\n",
              "    </tr>\n",
              "  </thead>\n",
              "  <tbody>\n",
              "    <tr>\n",
              "      <th>0</th>\n",
              "      <td>0.332883</td>\n",
              "      <td>NaN</td>\n",
              "      <td>NaN</td>\n",
              "    </tr>\n",
              "    <tr>\n",
              "      <th>1</th>\n",
              "      <td>-1.541996</td>\n",
              "      <td>NaN</td>\n",
              "      <td>NaN</td>\n",
              "    </tr>\n",
              "    <tr>\n",
              "      <th>2</th>\n",
              "      <td>0.286350</td>\n",
              "      <td>NaN</td>\n",
              "      <td>-0.753887</td>\n",
              "    </tr>\n",
              "    <tr>\n",
              "      <th>3</th>\n",
              "      <td>0.331286</td>\n",
              "      <td>NaN</td>\n",
              "      <td>0.069877</td>\n",
              "    </tr>\n",
              "    <tr>\n",
              "      <th>4</th>\n",
              "      <td>0.246674</td>\n",
              "      <td>-0.011862</td>\n",
              "      <td>1.004812</td>\n",
              "    </tr>\n",
              "    <tr>\n",
              "      <th>5</th>\n",
              "      <td>1.327195</td>\n",
              "      <td>-0.919262</td>\n",
              "      <td>-1.549106</td>\n",
              "    </tr>\n",
              "    <tr>\n",
              "      <th>6</th>\n",
              "      <td>0.022185</td>\n",
              "      <td>0.758363</td>\n",
              "      <td>-0.660524</td>\n",
              "    </tr>\n",
              "  </tbody>\n",
              "</table>\n",
              "</div>"
            ],
            "text/plain": [
              "          0         1         2\n",
              "0  0.332883       NaN       NaN\n",
              "1 -1.541996       NaN       NaN\n",
              "2  0.286350       NaN -0.753887\n",
              "3  0.331286       NaN  0.069877\n",
              "4  0.246674 -0.011862  1.004812\n",
              "5  1.327195 -0.919262 -1.549106\n",
              "6  0.022185  0.758363 -0.660524"
            ]
          },
          "metadata": {
            "tags": []
          },
          "execution_count": 79
        }
      ]
    },
    {
      "cell_type": "code",
      "metadata": {
        "id": "lQufu6iH-3Te",
        "outputId": "72d9afc0-2223-4f35-c1db-a622741a2446"
      },
      "source": [
        "df.dropna()"
      ],
      "execution_count": null,
      "outputs": [
        {
          "output_type": "execute_result",
          "data": {
            "text/html": [
              "<div>\n",
              "<style scoped>\n",
              "    .dataframe tbody tr th:only-of-type {\n",
              "        vertical-align: middle;\n",
              "    }\n",
              "\n",
              "    .dataframe tbody tr th {\n",
              "        vertical-align: top;\n",
              "    }\n",
              "\n",
              "    .dataframe thead th {\n",
              "        text-align: right;\n",
              "    }\n",
              "</style>\n",
              "<table border=\"1\" class=\"dataframe\">\n",
              "  <thead>\n",
              "    <tr style=\"text-align: right;\">\n",
              "      <th></th>\n",
              "      <th>0</th>\n",
              "      <th>1</th>\n",
              "      <th>2</th>\n",
              "    </tr>\n",
              "  </thead>\n",
              "  <tbody>\n",
              "    <tr>\n",
              "      <th>4</th>\n",
              "      <td>0.246674</td>\n",
              "      <td>-0.011862</td>\n",
              "      <td>1.004812</td>\n",
              "    </tr>\n",
              "    <tr>\n",
              "      <th>5</th>\n",
              "      <td>1.327195</td>\n",
              "      <td>-0.919262</td>\n",
              "      <td>-1.549106</td>\n",
              "    </tr>\n",
              "    <tr>\n",
              "      <th>6</th>\n",
              "      <td>0.022185</td>\n",
              "      <td>0.758363</td>\n",
              "      <td>-0.660524</td>\n",
              "    </tr>\n",
              "  </tbody>\n",
              "</table>\n",
              "</div>"
            ],
            "text/plain": [
              "          0         1         2\n",
              "4  0.246674 -0.011862  1.004812\n",
              "5  1.327195 -0.919262 -1.549106\n",
              "6  0.022185  0.758363 -0.660524"
            ]
          },
          "metadata": {
            "tags": []
          },
          "execution_count": 80
        }
      ]
    },
    {
      "cell_type": "code",
      "metadata": {
        "id": "vjduSyda-3Te",
        "outputId": "ccd9fa27-dc4a-41a0-c651-af1232ba0895"
      },
      "source": [
        "df.dropna(thresh=2)"
      ],
      "execution_count": null,
      "outputs": [
        {
          "output_type": "execute_result",
          "data": {
            "text/html": [
              "<div>\n",
              "<style scoped>\n",
              "    .dataframe tbody tr th:only-of-type {\n",
              "        vertical-align: middle;\n",
              "    }\n",
              "\n",
              "    .dataframe tbody tr th {\n",
              "        vertical-align: top;\n",
              "    }\n",
              "\n",
              "    .dataframe thead th {\n",
              "        text-align: right;\n",
              "    }\n",
              "</style>\n",
              "<table border=\"1\" class=\"dataframe\">\n",
              "  <thead>\n",
              "    <tr style=\"text-align: right;\">\n",
              "      <th></th>\n",
              "      <th>0</th>\n",
              "      <th>1</th>\n",
              "      <th>2</th>\n",
              "    </tr>\n",
              "  </thead>\n",
              "  <tbody>\n",
              "    <tr>\n",
              "      <th>2</th>\n",
              "      <td>0.286350</td>\n",
              "      <td>NaN</td>\n",
              "      <td>-0.753887</td>\n",
              "    </tr>\n",
              "    <tr>\n",
              "      <th>3</th>\n",
              "      <td>0.331286</td>\n",
              "      <td>NaN</td>\n",
              "      <td>0.069877</td>\n",
              "    </tr>\n",
              "    <tr>\n",
              "      <th>4</th>\n",
              "      <td>0.246674</td>\n",
              "      <td>-0.011862</td>\n",
              "      <td>1.004812</td>\n",
              "    </tr>\n",
              "    <tr>\n",
              "      <th>5</th>\n",
              "      <td>1.327195</td>\n",
              "      <td>-0.919262</td>\n",
              "      <td>-1.549106</td>\n",
              "    </tr>\n",
              "    <tr>\n",
              "      <th>6</th>\n",
              "      <td>0.022185</td>\n",
              "      <td>0.758363</td>\n",
              "      <td>-0.660524</td>\n",
              "    </tr>\n",
              "  </tbody>\n",
              "</table>\n",
              "</div>"
            ],
            "text/plain": [
              "          0         1         2\n",
              "2  0.286350       NaN -0.753887\n",
              "3  0.331286       NaN  0.069877\n",
              "4  0.246674 -0.011862  1.004812\n",
              "5  1.327195 -0.919262 -1.549106\n",
              "6  0.022185  0.758363 -0.660524"
            ]
          },
          "metadata": {
            "tags": []
          },
          "execution_count": 86
        }
      ]
    },
    {
      "cell_type": "markdown",
      "metadata": {
        "id": "UCJH6bkw-3Te"
      },
      "source": [
        "### Filling In Missing Data"
      ]
    },
    {
      "cell_type": "code",
      "metadata": {
        "id": "K5UP1oBw-3Te",
        "outputId": "5fe5f299-6a75-4fb8-c837-b8c252298dab"
      },
      "source": [
        "df"
      ],
      "execution_count": null,
      "outputs": [
        {
          "output_type": "execute_result",
          "data": {
            "text/html": [
              "<div>\n",
              "<style scoped>\n",
              "    .dataframe tbody tr th:only-of-type {\n",
              "        vertical-align: middle;\n",
              "    }\n",
              "\n",
              "    .dataframe tbody tr th {\n",
              "        vertical-align: top;\n",
              "    }\n",
              "\n",
              "    .dataframe thead th {\n",
              "        text-align: right;\n",
              "    }\n",
              "</style>\n",
              "<table border=\"1\" class=\"dataframe\">\n",
              "  <thead>\n",
              "    <tr style=\"text-align: right;\">\n",
              "      <th></th>\n",
              "      <th>0</th>\n",
              "      <th>1</th>\n",
              "      <th>2</th>\n",
              "    </tr>\n",
              "  </thead>\n",
              "  <tbody>\n",
              "    <tr>\n",
              "      <th>0</th>\n",
              "      <td>-0.204708</td>\n",
              "      <td>NaN</td>\n",
              "      <td>NaN</td>\n",
              "    </tr>\n",
              "    <tr>\n",
              "      <th>1</th>\n",
              "      <td>-0.555730</td>\n",
              "      <td>NaN</td>\n",
              "      <td>NaN</td>\n",
              "    </tr>\n",
              "    <tr>\n",
              "      <th>2</th>\n",
              "      <td>0.092908</td>\n",
              "      <td>NaN</td>\n",
              "      <td>0.769023</td>\n",
              "    </tr>\n",
              "    <tr>\n",
              "      <th>3</th>\n",
              "      <td>1.246435</td>\n",
              "      <td>NaN</td>\n",
              "      <td>-1.296221</td>\n",
              "    </tr>\n",
              "    <tr>\n",
              "      <th>4</th>\n",
              "      <td>0.274992</td>\n",
              "      <td>0.228913</td>\n",
              "      <td>1.352917</td>\n",
              "    </tr>\n",
              "    <tr>\n",
              "      <th>5</th>\n",
              "      <td>0.886429</td>\n",
              "      <td>-2.001637</td>\n",
              "      <td>-0.371843</td>\n",
              "    </tr>\n",
              "    <tr>\n",
              "      <th>6</th>\n",
              "      <td>1.669025</td>\n",
              "      <td>-0.438570</td>\n",
              "      <td>-0.539741</td>\n",
              "    </tr>\n",
              "  </tbody>\n",
              "</table>\n",
              "</div>"
            ],
            "text/plain": [
              "          0         1         2\n",
              "0 -0.204708       NaN       NaN\n",
              "1 -0.555730       NaN       NaN\n",
              "2  0.092908       NaN  0.769023\n",
              "3  1.246435       NaN -1.296221\n",
              "4  0.274992  0.228913  1.352917\n",
              "5  0.886429 -2.001637 -0.371843\n",
              "6  1.669025 -0.438570 -0.539741"
            ]
          },
          "metadata": {
            "tags": []
          },
          "execution_count": 18
        }
      ]
    },
    {
      "cell_type": "code",
      "metadata": {
        "id": "7wGgnmot-3Te",
        "outputId": "4cb12545-49eb-46ca-9402-0e487312ed56"
      },
      "source": [
        "df.fillna(0)"
      ],
      "execution_count": null,
      "outputs": [
        {
          "output_type": "execute_result",
          "data": {
            "text/html": [
              "<div>\n",
              "<style scoped>\n",
              "    .dataframe tbody tr th:only-of-type {\n",
              "        vertical-align: middle;\n",
              "    }\n",
              "\n",
              "    .dataframe tbody tr th {\n",
              "        vertical-align: top;\n",
              "    }\n",
              "\n",
              "    .dataframe thead th {\n",
              "        text-align: right;\n",
              "    }\n",
              "</style>\n",
              "<table border=\"1\" class=\"dataframe\">\n",
              "  <thead>\n",
              "    <tr style=\"text-align: right;\">\n",
              "      <th></th>\n",
              "      <th>0</th>\n",
              "      <th>1</th>\n",
              "      <th>2</th>\n",
              "    </tr>\n",
              "  </thead>\n",
              "  <tbody>\n",
              "    <tr>\n",
              "      <th>0</th>\n",
              "      <td>-0.204708</td>\n",
              "      <td>0.000000</td>\n",
              "      <td>0.000000</td>\n",
              "    </tr>\n",
              "    <tr>\n",
              "      <th>1</th>\n",
              "      <td>-0.555730</td>\n",
              "      <td>0.000000</td>\n",
              "      <td>0.000000</td>\n",
              "    </tr>\n",
              "    <tr>\n",
              "      <th>2</th>\n",
              "      <td>0.092908</td>\n",
              "      <td>0.000000</td>\n",
              "      <td>0.769023</td>\n",
              "    </tr>\n",
              "    <tr>\n",
              "      <th>3</th>\n",
              "      <td>1.246435</td>\n",
              "      <td>0.000000</td>\n",
              "      <td>-1.296221</td>\n",
              "    </tr>\n",
              "    <tr>\n",
              "      <th>4</th>\n",
              "      <td>0.274992</td>\n",
              "      <td>0.228913</td>\n",
              "      <td>1.352917</td>\n",
              "    </tr>\n",
              "    <tr>\n",
              "      <th>5</th>\n",
              "      <td>0.886429</td>\n",
              "      <td>-2.001637</td>\n",
              "      <td>-0.371843</td>\n",
              "    </tr>\n",
              "    <tr>\n",
              "      <th>6</th>\n",
              "      <td>1.669025</td>\n",
              "      <td>-0.438570</td>\n",
              "      <td>-0.539741</td>\n",
              "    </tr>\n",
              "  </tbody>\n",
              "</table>\n",
              "</div>"
            ],
            "text/plain": [
              "          0         1         2\n",
              "0 -0.204708  0.000000  0.000000\n",
              "1 -0.555730  0.000000  0.000000\n",
              "2  0.092908  0.000000  0.769023\n",
              "3  1.246435  0.000000 -1.296221\n",
              "4  0.274992  0.228913  1.352917\n",
              "5  0.886429 -2.001637 -0.371843\n",
              "6  1.669025 -0.438570 -0.539741"
            ]
          },
          "metadata": {
            "tags": []
          },
          "execution_count": 19
        }
      ]
    },
    {
      "cell_type": "code",
      "metadata": {
        "id": "L3vSTogr-3Tf",
        "outputId": "d064787e-997c-410e-9bb7-c846b3f29f2c"
      },
      "source": [
        "df"
      ],
      "execution_count": null,
      "outputs": [
        {
          "output_type": "execute_result",
          "data": {
            "text/html": [
              "<div>\n",
              "<style scoped>\n",
              "    .dataframe tbody tr th:only-of-type {\n",
              "        vertical-align: middle;\n",
              "    }\n",
              "\n",
              "    .dataframe tbody tr th {\n",
              "        vertical-align: top;\n",
              "    }\n",
              "\n",
              "    .dataframe thead th {\n",
              "        text-align: right;\n",
              "    }\n",
              "</style>\n",
              "<table border=\"1\" class=\"dataframe\">\n",
              "  <thead>\n",
              "    <tr style=\"text-align: right;\">\n",
              "      <th></th>\n",
              "      <th>0</th>\n",
              "      <th>1</th>\n",
              "      <th>2</th>\n",
              "    </tr>\n",
              "  </thead>\n",
              "  <tbody>\n",
              "    <tr>\n",
              "      <th>0</th>\n",
              "      <td>-0.204708</td>\n",
              "      <td>NaN</td>\n",
              "      <td>NaN</td>\n",
              "    </tr>\n",
              "    <tr>\n",
              "      <th>1</th>\n",
              "      <td>-0.555730</td>\n",
              "      <td>NaN</td>\n",
              "      <td>NaN</td>\n",
              "    </tr>\n",
              "    <tr>\n",
              "      <th>2</th>\n",
              "      <td>0.092908</td>\n",
              "      <td>NaN</td>\n",
              "      <td>0.769023</td>\n",
              "    </tr>\n",
              "    <tr>\n",
              "      <th>3</th>\n",
              "      <td>1.246435</td>\n",
              "      <td>NaN</td>\n",
              "      <td>-1.296221</td>\n",
              "    </tr>\n",
              "    <tr>\n",
              "      <th>4</th>\n",
              "      <td>0.274992</td>\n",
              "      <td>0.228913</td>\n",
              "      <td>1.352917</td>\n",
              "    </tr>\n",
              "    <tr>\n",
              "      <th>5</th>\n",
              "      <td>0.886429</td>\n",
              "      <td>-2.001637</td>\n",
              "      <td>-0.371843</td>\n",
              "    </tr>\n",
              "    <tr>\n",
              "      <th>6</th>\n",
              "      <td>1.669025</td>\n",
              "      <td>-0.438570</td>\n",
              "      <td>-0.539741</td>\n",
              "    </tr>\n",
              "  </tbody>\n",
              "</table>\n",
              "</div>"
            ],
            "text/plain": [
              "          0         1         2\n",
              "0 -0.204708       NaN       NaN\n",
              "1 -0.555730       NaN       NaN\n",
              "2  0.092908       NaN  0.769023\n",
              "3  1.246435       NaN -1.296221\n",
              "4  0.274992  0.228913  1.352917\n",
              "5  0.886429 -2.001637 -0.371843\n",
              "6  1.669025 -0.438570 -0.539741"
            ]
          },
          "metadata": {
            "tags": []
          },
          "execution_count": 20
        }
      ]
    },
    {
      "cell_type": "code",
      "metadata": {
        "id": "6oLhOagt-3Tf",
        "outputId": "62935094-4ed5-461b-b223-7c93c398130d"
      },
      "source": [
        "df.fillna({1: 0.5, 2: 0})"
      ],
      "execution_count": null,
      "outputs": [
        {
          "output_type": "execute_result",
          "data": {
            "text/html": [
              "<div>\n",
              "<style scoped>\n",
              "    .dataframe tbody tr th:only-of-type {\n",
              "        vertical-align: middle;\n",
              "    }\n",
              "\n",
              "    .dataframe tbody tr th {\n",
              "        vertical-align: top;\n",
              "    }\n",
              "\n",
              "    .dataframe thead th {\n",
              "        text-align: right;\n",
              "    }\n",
              "</style>\n",
              "<table border=\"1\" class=\"dataframe\">\n",
              "  <thead>\n",
              "    <tr style=\"text-align: right;\">\n",
              "      <th></th>\n",
              "      <th>0</th>\n",
              "      <th>1</th>\n",
              "      <th>2</th>\n",
              "    </tr>\n",
              "  </thead>\n",
              "  <tbody>\n",
              "    <tr>\n",
              "      <th>0</th>\n",
              "      <td>-0.204708</td>\n",
              "      <td>0.500000</td>\n",
              "      <td>0.000000</td>\n",
              "    </tr>\n",
              "    <tr>\n",
              "      <th>1</th>\n",
              "      <td>-0.555730</td>\n",
              "      <td>0.500000</td>\n",
              "      <td>0.000000</td>\n",
              "    </tr>\n",
              "    <tr>\n",
              "      <th>2</th>\n",
              "      <td>0.092908</td>\n",
              "      <td>0.500000</td>\n",
              "      <td>0.769023</td>\n",
              "    </tr>\n",
              "    <tr>\n",
              "      <th>3</th>\n",
              "      <td>1.246435</td>\n",
              "      <td>0.500000</td>\n",
              "      <td>-1.296221</td>\n",
              "    </tr>\n",
              "    <tr>\n",
              "      <th>4</th>\n",
              "      <td>0.274992</td>\n",
              "      <td>0.228913</td>\n",
              "      <td>1.352917</td>\n",
              "    </tr>\n",
              "    <tr>\n",
              "      <th>5</th>\n",
              "      <td>0.886429</td>\n",
              "      <td>-2.001637</td>\n",
              "      <td>-0.371843</td>\n",
              "    </tr>\n",
              "    <tr>\n",
              "      <th>6</th>\n",
              "      <td>1.669025</td>\n",
              "      <td>-0.438570</td>\n",
              "      <td>-0.539741</td>\n",
              "    </tr>\n",
              "  </tbody>\n",
              "</table>\n",
              "</div>"
            ],
            "text/plain": [
              "          0         1         2\n",
              "0 -0.204708  0.500000  0.000000\n",
              "1 -0.555730  0.500000  0.000000\n",
              "2  0.092908  0.500000  0.769023\n",
              "3  1.246435  0.500000 -1.296221\n",
              "4  0.274992  0.228913  1.352917\n",
              "5  0.886429 -2.001637 -0.371843\n",
              "6  1.669025 -0.438570 -0.539741"
            ]
          },
          "metadata": {
            "tags": []
          },
          "execution_count": 22
        }
      ]
    },
    {
      "cell_type": "code",
      "metadata": {
        "id": "Rhp8xi-8-3Tf",
        "outputId": "ec031fda-2f57-403c-e733-b2397db9fc08"
      },
      "source": [
        "_ = df.fillna(0, inplace=True)\n",
        "df"
      ],
      "execution_count": null,
      "outputs": [
        {
          "output_type": "execute_result",
          "data": {
            "text/html": [
              "<div>\n",
              "<style scoped>\n",
              "    .dataframe tbody tr th:only-of-type {\n",
              "        vertical-align: middle;\n",
              "    }\n",
              "\n",
              "    .dataframe tbody tr th {\n",
              "        vertical-align: top;\n",
              "    }\n",
              "\n",
              "    .dataframe thead th {\n",
              "        text-align: right;\n",
              "    }\n",
              "</style>\n",
              "<table border=\"1\" class=\"dataframe\">\n",
              "  <thead>\n",
              "    <tr style=\"text-align: right;\">\n",
              "      <th></th>\n",
              "      <th>0</th>\n",
              "      <th>1</th>\n",
              "      <th>2</th>\n",
              "    </tr>\n",
              "  </thead>\n",
              "  <tbody>\n",
              "    <tr>\n",
              "      <th>0</th>\n",
              "      <td>-0.204708</td>\n",
              "      <td>0.000000</td>\n",
              "      <td>0.000000</td>\n",
              "    </tr>\n",
              "    <tr>\n",
              "      <th>1</th>\n",
              "      <td>-0.555730</td>\n",
              "      <td>0.000000</td>\n",
              "      <td>0.000000</td>\n",
              "    </tr>\n",
              "    <tr>\n",
              "      <th>2</th>\n",
              "      <td>0.092908</td>\n",
              "      <td>0.000000</td>\n",
              "      <td>0.769023</td>\n",
              "    </tr>\n",
              "    <tr>\n",
              "      <th>3</th>\n",
              "      <td>1.246435</td>\n",
              "      <td>0.000000</td>\n",
              "      <td>-1.296221</td>\n",
              "    </tr>\n",
              "    <tr>\n",
              "      <th>4</th>\n",
              "      <td>0.274992</td>\n",
              "      <td>0.228913</td>\n",
              "      <td>1.352917</td>\n",
              "    </tr>\n",
              "    <tr>\n",
              "      <th>5</th>\n",
              "      <td>0.886429</td>\n",
              "      <td>-2.001637</td>\n",
              "      <td>-0.371843</td>\n",
              "    </tr>\n",
              "    <tr>\n",
              "      <th>6</th>\n",
              "      <td>1.669025</td>\n",
              "      <td>-0.438570</td>\n",
              "      <td>-0.539741</td>\n",
              "    </tr>\n",
              "  </tbody>\n",
              "</table>\n",
              "</div>"
            ],
            "text/plain": [
              "          0         1         2\n",
              "0 -0.204708  0.000000  0.000000\n",
              "1 -0.555730  0.000000  0.000000\n",
              "2  0.092908  0.000000  0.769023\n",
              "3  1.246435  0.000000 -1.296221\n",
              "4  0.274992  0.228913  1.352917\n",
              "5  0.886429 -2.001637 -0.371843\n",
              "6  1.669025 -0.438570 -0.539741"
            ]
          },
          "metadata": {
            "tags": []
          },
          "execution_count": 23
        }
      ]
    },
    {
      "cell_type": "code",
      "metadata": {
        "id": "XxF3rJQ3-3Tf",
        "outputId": "73e4372b-89d9-4044-c98c-b19febed8165"
      },
      "source": [
        "df = pd.DataFrame(np.random.randn(6, 3))\n",
        "df.iloc[2:, 1] = NA\n",
        "df.iloc[4:, 2] = NA\n",
        "df"
      ],
      "execution_count": null,
      "outputs": [
        {
          "output_type": "execute_result",
          "data": {
            "text/html": [
              "<div>\n",
              "<style scoped>\n",
              "    .dataframe tbody tr th:only-of-type {\n",
              "        vertical-align: middle;\n",
              "    }\n",
              "\n",
              "    .dataframe tbody tr th {\n",
              "        vertical-align: top;\n",
              "    }\n",
              "\n",
              "    .dataframe thead th {\n",
              "        text-align: right;\n",
              "    }\n",
              "</style>\n",
              "<table border=\"1\" class=\"dataframe\">\n",
              "  <thead>\n",
              "    <tr style=\"text-align: right;\">\n",
              "      <th></th>\n",
              "      <th>0</th>\n",
              "      <th>1</th>\n",
              "      <th>2</th>\n",
              "    </tr>\n",
              "  </thead>\n",
              "  <tbody>\n",
              "    <tr>\n",
              "      <th>0</th>\n",
              "      <td>0.476985</td>\n",
              "      <td>3.248944</td>\n",
              "      <td>-1.021228</td>\n",
              "    </tr>\n",
              "    <tr>\n",
              "      <th>1</th>\n",
              "      <td>-0.577087</td>\n",
              "      <td>0.124121</td>\n",
              "      <td>0.302614</td>\n",
              "    </tr>\n",
              "    <tr>\n",
              "      <th>2</th>\n",
              "      <td>0.523772</td>\n",
              "      <td>NaN</td>\n",
              "      <td>1.343810</td>\n",
              "    </tr>\n",
              "    <tr>\n",
              "      <th>3</th>\n",
              "      <td>-0.713544</td>\n",
              "      <td>NaN</td>\n",
              "      <td>-2.370232</td>\n",
              "    </tr>\n",
              "    <tr>\n",
              "      <th>4</th>\n",
              "      <td>-1.860761</td>\n",
              "      <td>NaN</td>\n",
              "      <td>NaN</td>\n",
              "    </tr>\n",
              "    <tr>\n",
              "      <th>5</th>\n",
              "      <td>-1.265934</td>\n",
              "      <td>NaN</td>\n",
              "      <td>NaN</td>\n",
              "    </tr>\n",
              "  </tbody>\n",
              "</table>\n",
              "</div>"
            ],
            "text/plain": [
              "          0         1         2\n",
              "0  0.476985  3.248944 -1.021228\n",
              "1 -0.577087  0.124121  0.302614\n",
              "2  0.523772       NaN  1.343810\n",
              "3 -0.713544       NaN -2.370232\n",
              "4 -1.860761       NaN       NaN\n",
              "5 -1.265934       NaN       NaN"
            ]
          },
          "metadata": {
            "tags": []
          },
          "execution_count": 24
        }
      ]
    },
    {
      "cell_type": "code",
      "metadata": {
        "id": "Do7ltIq7-3Tf",
        "outputId": "74753626-5bd2-4084-eeed-7716e74eafc2"
      },
      "source": [
        "df.fillna(method='ffill')"
      ],
      "execution_count": null,
      "outputs": [
        {
          "output_type": "execute_result",
          "data": {
            "text/html": [
              "<div>\n",
              "<style scoped>\n",
              "    .dataframe tbody tr th:only-of-type {\n",
              "        vertical-align: middle;\n",
              "    }\n",
              "\n",
              "    .dataframe tbody tr th {\n",
              "        vertical-align: top;\n",
              "    }\n",
              "\n",
              "    .dataframe thead th {\n",
              "        text-align: right;\n",
              "    }\n",
              "</style>\n",
              "<table border=\"1\" class=\"dataframe\">\n",
              "  <thead>\n",
              "    <tr style=\"text-align: right;\">\n",
              "      <th></th>\n",
              "      <th>0</th>\n",
              "      <th>1</th>\n",
              "      <th>2</th>\n",
              "    </tr>\n",
              "  </thead>\n",
              "  <tbody>\n",
              "    <tr>\n",
              "      <th>0</th>\n",
              "      <td>0.476985</td>\n",
              "      <td>3.248944</td>\n",
              "      <td>-1.021228</td>\n",
              "    </tr>\n",
              "    <tr>\n",
              "      <th>1</th>\n",
              "      <td>-0.577087</td>\n",
              "      <td>0.124121</td>\n",
              "      <td>0.302614</td>\n",
              "    </tr>\n",
              "    <tr>\n",
              "      <th>2</th>\n",
              "      <td>0.523772</td>\n",
              "      <td>0.124121</td>\n",
              "      <td>1.343810</td>\n",
              "    </tr>\n",
              "    <tr>\n",
              "      <th>3</th>\n",
              "      <td>-0.713544</td>\n",
              "      <td>0.124121</td>\n",
              "      <td>-2.370232</td>\n",
              "    </tr>\n",
              "    <tr>\n",
              "      <th>4</th>\n",
              "      <td>-1.860761</td>\n",
              "      <td>0.124121</td>\n",
              "      <td>-2.370232</td>\n",
              "    </tr>\n",
              "    <tr>\n",
              "      <th>5</th>\n",
              "      <td>-1.265934</td>\n",
              "      <td>0.124121</td>\n",
              "      <td>-2.370232</td>\n",
              "    </tr>\n",
              "  </tbody>\n",
              "</table>\n",
              "</div>"
            ],
            "text/plain": [
              "          0         1         2\n",
              "0  0.476985  3.248944 -1.021228\n",
              "1 -0.577087  0.124121  0.302614\n",
              "2  0.523772  0.124121  1.343810\n",
              "3 -0.713544  0.124121 -2.370232\n",
              "4 -1.860761  0.124121 -2.370232\n",
              "5 -1.265934  0.124121 -2.370232"
            ]
          },
          "metadata": {
            "tags": []
          },
          "execution_count": 25
        }
      ]
    },
    {
      "cell_type": "code",
      "metadata": {
        "id": "ydUx1UPR-3Tg",
        "outputId": "994f6cc9-3905-450c-f55b-ceefc17a4801"
      },
      "source": [
        "df.fillna(method='ffill', limit=2)"
      ],
      "execution_count": null,
      "outputs": [
        {
          "output_type": "execute_result",
          "data": {
            "text/html": [
              "<div>\n",
              "<style scoped>\n",
              "    .dataframe tbody tr th:only-of-type {\n",
              "        vertical-align: middle;\n",
              "    }\n",
              "\n",
              "    .dataframe tbody tr th {\n",
              "        vertical-align: top;\n",
              "    }\n",
              "\n",
              "    .dataframe thead th {\n",
              "        text-align: right;\n",
              "    }\n",
              "</style>\n",
              "<table border=\"1\" class=\"dataframe\">\n",
              "  <thead>\n",
              "    <tr style=\"text-align: right;\">\n",
              "      <th></th>\n",
              "      <th>0</th>\n",
              "      <th>1</th>\n",
              "      <th>2</th>\n",
              "    </tr>\n",
              "  </thead>\n",
              "  <tbody>\n",
              "    <tr>\n",
              "      <th>0</th>\n",
              "      <td>0.476985</td>\n",
              "      <td>3.248944</td>\n",
              "      <td>-1.021228</td>\n",
              "    </tr>\n",
              "    <tr>\n",
              "      <th>1</th>\n",
              "      <td>-0.577087</td>\n",
              "      <td>0.124121</td>\n",
              "      <td>0.302614</td>\n",
              "    </tr>\n",
              "    <tr>\n",
              "      <th>2</th>\n",
              "      <td>0.523772</td>\n",
              "      <td>0.124121</td>\n",
              "      <td>1.343810</td>\n",
              "    </tr>\n",
              "    <tr>\n",
              "      <th>3</th>\n",
              "      <td>-0.713544</td>\n",
              "      <td>0.124121</td>\n",
              "      <td>-2.370232</td>\n",
              "    </tr>\n",
              "    <tr>\n",
              "      <th>4</th>\n",
              "      <td>-1.860761</td>\n",
              "      <td>NaN</td>\n",
              "      <td>-2.370232</td>\n",
              "    </tr>\n",
              "    <tr>\n",
              "      <th>5</th>\n",
              "      <td>-1.265934</td>\n",
              "      <td>NaN</td>\n",
              "      <td>-2.370232</td>\n",
              "    </tr>\n",
              "  </tbody>\n",
              "</table>\n",
              "</div>"
            ],
            "text/plain": [
              "          0         1         2\n",
              "0  0.476985  3.248944 -1.021228\n",
              "1 -0.577087  0.124121  0.302614\n",
              "2  0.523772  0.124121  1.343810\n",
              "3 -0.713544  0.124121 -2.370232\n",
              "4 -1.860761       NaN -2.370232\n",
              "5 -1.265934       NaN -2.370232"
            ]
          },
          "metadata": {
            "tags": []
          },
          "execution_count": 26
        }
      ]
    },
    {
      "cell_type": "code",
      "metadata": {
        "id": "roLA58Fr-3Tg",
        "outputId": "89879a78-a140-4463-97dc-4e5b0dc19e12"
      },
      "source": [
        "data = pd.Series([1., NA, 3.5, NA, 7])\n",
        "data"
      ],
      "execution_count": null,
      "outputs": [
        {
          "output_type": "execute_result",
          "data": {
            "text/plain": [
              "0    1.0\n",
              "1    NaN\n",
              "2    3.5\n",
              "3    NaN\n",
              "4    7.0\n",
              "dtype: float64"
            ]
          },
          "metadata": {
            "tags": []
          },
          "execution_count": 27
        }
      ]
    },
    {
      "cell_type": "code",
      "metadata": {
        "id": "mMgzhzvW-3Tg",
        "outputId": "c105e976-8739-4c16-cea8-e197f7074f97"
      },
      "source": [
        "data.fillna(data.mean())"
      ],
      "execution_count": null,
      "outputs": [
        {
          "output_type": "execute_result",
          "data": {
            "text/plain": [
              "0    1.000000\n",
              "1    3.833333\n",
              "2    3.500000\n",
              "3    3.833333\n",
              "4    7.000000\n",
              "dtype: float64"
            ]
          },
          "metadata": {
            "tags": []
          },
          "execution_count": 28
        }
      ]
    },
    {
      "cell_type": "markdown",
      "metadata": {
        "id": "2smxDd16-3Tg"
      },
      "source": [
        "## Data Transformation"
      ]
    },
    {
      "cell_type": "markdown",
      "metadata": {
        "id": "Cf3vSTOo-3Tg"
      },
      "source": [
        "### Removing Duplicates"
      ]
    },
    {
      "cell_type": "code",
      "metadata": {
        "id": "QVT7AcL3-3Tg",
        "outputId": "d338cdaa-aa43-43a3-fd7c-a4237b7c60be",
        "colab": {
          "base_uri": "https://localhost:8080/",
          "height": 265
        }
      },
      "source": [
        "data = pd.DataFrame({'k1': ['one', 'two'] * 3 + ['two'],\n",
        "                     'k2': [1, 1, 2, 3, 3, 4, 4]})\n",
        "data"
      ],
      "execution_count": 13,
      "outputs": [
        {
          "output_type": "execute_result",
          "data": {
            "text/html": [
              "<div>\n",
              "<style scoped>\n",
              "    .dataframe tbody tr th:only-of-type {\n",
              "        vertical-align: middle;\n",
              "    }\n",
              "\n",
              "    .dataframe tbody tr th {\n",
              "        vertical-align: top;\n",
              "    }\n",
              "\n",
              "    .dataframe thead th {\n",
              "        text-align: right;\n",
              "    }\n",
              "</style>\n",
              "<table border=\"1\" class=\"dataframe\">\n",
              "  <thead>\n",
              "    <tr style=\"text-align: right;\">\n",
              "      <th></th>\n",
              "      <th>k1</th>\n",
              "      <th>k2</th>\n",
              "    </tr>\n",
              "  </thead>\n",
              "  <tbody>\n",
              "    <tr>\n",
              "      <th>0</th>\n",
              "      <td>one</td>\n",
              "      <td>1</td>\n",
              "    </tr>\n",
              "    <tr>\n",
              "      <th>1</th>\n",
              "      <td>two</td>\n",
              "      <td>1</td>\n",
              "    </tr>\n",
              "    <tr>\n",
              "      <th>2</th>\n",
              "      <td>one</td>\n",
              "      <td>2</td>\n",
              "    </tr>\n",
              "    <tr>\n",
              "      <th>3</th>\n",
              "      <td>two</td>\n",
              "      <td>3</td>\n",
              "    </tr>\n",
              "    <tr>\n",
              "      <th>4</th>\n",
              "      <td>one</td>\n",
              "      <td>3</td>\n",
              "    </tr>\n",
              "    <tr>\n",
              "      <th>5</th>\n",
              "      <td>two</td>\n",
              "      <td>4</td>\n",
              "    </tr>\n",
              "    <tr>\n",
              "      <th>6</th>\n",
              "      <td>two</td>\n",
              "      <td>4</td>\n",
              "    </tr>\n",
              "  </tbody>\n",
              "</table>\n",
              "</div>"
            ],
            "text/plain": [
              "    k1  k2\n",
              "0  one   1\n",
              "1  two   1\n",
              "2  one   2\n",
              "3  two   3\n",
              "4  one   3\n",
              "5  two   4\n",
              "6  two   4"
            ]
          },
          "metadata": {
            "tags": []
          },
          "execution_count": 13
        }
      ]
    },
    {
      "cell_type": "code",
      "metadata": {
        "id": "5WuuRkb--3Th",
        "outputId": "f6aac110-e6e3-47a1-aa0e-4ec7332c70f8",
        "colab": {
          "base_uri": "https://localhost:8080/"
        }
      },
      "source": [
        "data.duplicated()"
      ],
      "execution_count": 14,
      "outputs": [
        {
          "output_type": "execute_result",
          "data": {
            "text/plain": [
              "0    False\n",
              "1    False\n",
              "2    False\n",
              "3    False\n",
              "4    False\n",
              "5    False\n",
              "6     True\n",
              "dtype: bool"
            ]
          },
          "metadata": {
            "tags": []
          },
          "execution_count": 14
        }
      ]
    },
    {
      "cell_type": "code",
      "metadata": {
        "id": "3IKE_rQH-3Th",
        "outputId": "eee63175-85f6-47a6-ceaa-999771b9009e",
        "colab": {
          "base_uri": "https://localhost:8080/",
          "height": 234
        }
      },
      "source": [
        "data.drop_duplicates()"
      ],
      "execution_count": 15,
      "outputs": [
        {
          "output_type": "execute_result",
          "data": {
            "text/html": [
              "<div>\n",
              "<style scoped>\n",
              "    .dataframe tbody tr th:only-of-type {\n",
              "        vertical-align: middle;\n",
              "    }\n",
              "\n",
              "    .dataframe tbody tr th {\n",
              "        vertical-align: top;\n",
              "    }\n",
              "\n",
              "    .dataframe thead th {\n",
              "        text-align: right;\n",
              "    }\n",
              "</style>\n",
              "<table border=\"1\" class=\"dataframe\">\n",
              "  <thead>\n",
              "    <tr style=\"text-align: right;\">\n",
              "      <th></th>\n",
              "      <th>k1</th>\n",
              "      <th>k2</th>\n",
              "    </tr>\n",
              "  </thead>\n",
              "  <tbody>\n",
              "    <tr>\n",
              "      <th>0</th>\n",
              "      <td>one</td>\n",
              "      <td>1</td>\n",
              "    </tr>\n",
              "    <tr>\n",
              "      <th>1</th>\n",
              "      <td>two</td>\n",
              "      <td>1</td>\n",
              "    </tr>\n",
              "    <tr>\n",
              "      <th>2</th>\n",
              "      <td>one</td>\n",
              "      <td>2</td>\n",
              "    </tr>\n",
              "    <tr>\n",
              "      <th>3</th>\n",
              "      <td>two</td>\n",
              "      <td>3</td>\n",
              "    </tr>\n",
              "    <tr>\n",
              "      <th>4</th>\n",
              "      <td>one</td>\n",
              "      <td>3</td>\n",
              "    </tr>\n",
              "    <tr>\n",
              "      <th>5</th>\n",
              "      <td>two</td>\n",
              "      <td>4</td>\n",
              "    </tr>\n",
              "  </tbody>\n",
              "</table>\n",
              "</div>"
            ],
            "text/plain": [
              "    k1  k2\n",
              "0  one   1\n",
              "1  two   1\n",
              "2  one   2\n",
              "3  two   3\n",
              "4  one   3\n",
              "5  two   4"
            ]
          },
          "metadata": {
            "tags": []
          },
          "execution_count": 15
        }
      ]
    },
    {
      "cell_type": "code",
      "metadata": {
        "id": "DRjo3Z9i-3Th",
        "outputId": "12ef01fe-01aa-4ef5-e52a-46f0277a0388",
        "colab": {
          "base_uri": "https://localhost:8080/",
          "height": 265
        }
      },
      "source": [
        "data['v1'] = range(7)\n",
        "data"
      ],
      "execution_count": 16,
      "outputs": [
        {
          "output_type": "execute_result",
          "data": {
            "text/html": [
              "<div>\n",
              "<style scoped>\n",
              "    .dataframe tbody tr th:only-of-type {\n",
              "        vertical-align: middle;\n",
              "    }\n",
              "\n",
              "    .dataframe tbody tr th {\n",
              "        vertical-align: top;\n",
              "    }\n",
              "\n",
              "    .dataframe thead th {\n",
              "        text-align: right;\n",
              "    }\n",
              "</style>\n",
              "<table border=\"1\" class=\"dataframe\">\n",
              "  <thead>\n",
              "    <tr style=\"text-align: right;\">\n",
              "      <th></th>\n",
              "      <th>k1</th>\n",
              "      <th>k2</th>\n",
              "      <th>v1</th>\n",
              "    </tr>\n",
              "  </thead>\n",
              "  <tbody>\n",
              "    <tr>\n",
              "      <th>0</th>\n",
              "      <td>one</td>\n",
              "      <td>1</td>\n",
              "      <td>0</td>\n",
              "    </tr>\n",
              "    <tr>\n",
              "      <th>1</th>\n",
              "      <td>two</td>\n",
              "      <td>1</td>\n",
              "      <td>1</td>\n",
              "    </tr>\n",
              "    <tr>\n",
              "      <th>2</th>\n",
              "      <td>one</td>\n",
              "      <td>2</td>\n",
              "      <td>2</td>\n",
              "    </tr>\n",
              "    <tr>\n",
              "      <th>3</th>\n",
              "      <td>two</td>\n",
              "      <td>3</td>\n",
              "      <td>3</td>\n",
              "    </tr>\n",
              "    <tr>\n",
              "      <th>4</th>\n",
              "      <td>one</td>\n",
              "      <td>3</td>\n",
              "      <td>4</td>\n",
              "    </tr>\n",
              "    <tr>\n",
              "      <th>5</th>\n",
              "      <td>two</td>\n",
              "      <td>4</td>\n",
              "      <td>5</td>\n",
              "    </tr>\n",
              "    <tr>\n",
              "      <th>6</th>\n",
              "      <td>two</td>\n",
              "      <td>4</td>\n",
              "      <td>6</td>\n",
              "    </tr>\n",
              "  </tbody>\n",
              "</table>\n",
              "</div>"
            ],
            "text/plain": [
              "    k1  k2  v1\n",
              "0  one   1   0\n",
              "1  two   1   1\n",
              "2  one   2   2\n",
              "3  two   3   3\n",
              "4  one   3   4\n",
              "5  two   4   5\n",
              "6  two   4   6"
            ]
          },
          "metadata": {
            "tags": []
          },
          "execution_count": 16
        }
      ]
    },
    {
      "cell_type": "code",
      "metadata": {
        "id": "Yh1rvOCC-3Th",
        "outputId": "48af1fff-26ab-4ccc-89ca-6f43dd120c2d",
        "colab": {
          "base_uri": "https://localhost:8080/"
        }
      },
      "source": [
        "data.duplicated(['k1'])"
      ],
      "execution_count": 17,
      "outputs": [
        {
          "output_type": "execute_result",
          "data": {
            "text/plain": [
              "0    False\n",
              "1    False\n",
              "2     True\n",
              "3     True\n",
              "4     True\n",
              "5     True\n",
              "6     True\n",
              "dtype: bool"
            ]
          },
          "metadata": {
            "tags": []
          },
          "execution_count": 17
        }
      ]
    },
    {
      "cell_type": "code",
      "metadata": {
        "id": "59Vl8dU_-3Th",
        "outputId": "81a3e102-e146-4b2f-f625-dd0dd5e32e28",
        "colab": {
          "base_uri": "https://localhost:8080/",
          "height": 110
        }
      },
      "source": [
        "data.drop_duplicates(['k1'])"
      ],
      "execution_count": 18,
      "outputs": [
        {
          "output_type": "execute_result",
          "data": {
            "text/html": [
              "<div>\n",
              "<style scoped>\n",
              "    .dataframe tbody tr th:only-of-type {\n",
              "        vertical-align: middle;\n",
              "    }\n",
              "\n",
              "    .dataframe tbody tr th {\n",
              "        vertical-align: top;\n",
              "    }\n",
              "\n",
              "    .dataframe thead th {\n",
              "        text-align: right;\n",
              "    }\n",
              "</style>\n",
              "<table border=\"1\" class=\"dataframe\">\n",
              "  <thead>\n",
              "    <tr style=\"text-align: right;\">\n",
              "      <th></th>\n",
              "      <th>k1</th>\n",
              "      <th>k2</th>\n",
              "      <th>v1</th>\n",
              "    </tr>\n",
              "  </thead>\n",
              "  <tbody>\n",
              "    <tr>\n",
              "      <th>0</th>\n",
              "      <td>one</td>\n",
              "      <td>1</td>\n",
              "      <td>0</td>\n",
              "    </tr>\n",
              "    <tr>\n",
              "      <th>1</th>\n",
              "      <td>two</td>\n",
              "      <td>1</td>\n",
              "      <td>1</td>\n",
              "    </tr>\n",
              "  </tbody>\n",
              "</table>\n",
              "</div>"
            ],
            "text/plain": [
              "    k1  k2  v1\n",
              "0  one   1   0\n",
              "1  two   1   1"
            ]
          },
          "metadata": {
            "tags": []
          },
          "execution_count": 18
        }
      ]
    },
    {
      "cell_type": "code",
      "metadata": {
        "id": "6E6qRZVi-3Th",
        "outputId": "3084c27b-55d6-43f1-a7d3-2f09735d0fc9"
      },
      "source": [
        "data.drop_duplicates(['k1', 'k2'], keep='last')"
      ],
      "execution_count": null,
      "outputs": [
        {
          "output_type": "execute_result",
          "data": {
            "text/html": [
              "<div>\n",
              "<style scoped>\n",
              "    .dataframe tbody tr th:only-of-type {\n",
              "        vertical-align: middle;\n",
              "    }\n",
              "\n",
              "    .dataframe tbody tr th {\n",
              "        vertical-align: top;\n",
              "    }\n",
              "\n",
              "    .dataframe thead th {\n",
              "        text-align: right;\n",
              "    }\n",
              "</style>\n",
              "<table border=\"1\" class=\"dataframe\">\n",
              "  <thead>\n",
              "    <tr style=\"text-align: right;\">\n",
              "      <th></th>\n",
              "      <th>k1</th>\n",
              "      <th>k2</th>\n",
              "      <th>v1</th>\n",
              "    </tr>\n",
              "  </thead>\n",
              "  <tbody>\n",
              "    <tr>\n",
              "      <th>0</th>\n",
              "      <td>one</td>\n",
              "      <td>1</td>\n",
              "      <td>0</td>\n",
              "    </tr>\n",
              "    <tr>\n",
              "      <th>1</th>\n",
              "      <td>two</td>\n",
              "      <td>1</td>\n",
              "      <td>1</td>\n",
              "    </tr>\n",
              "    <tr>\n",
              "      <th>2</th>\n",
              "      <td>one</td>\n",
              "      <td>2</td>\n",
              "      <td>2</td>\n",
              "    </tr>\n",
              "    <tr>\n",
              "      <th>3</th>\n",
              "      <td>two</td>\n",
              "      <td>3</td>\n",
              "      <td>3</td>\n",
              "    </tr>\n",
              "    <tr>\n",
              "      <th>4</th>\n",
              "      <td>one</td>\n",
              "      <td>3</td>\n",
              "      <td>4</td>\n",
              "    </tr>\n",
              "    <tr>\n",
              "      <th>6</th>\n",
              "      <td>two</td>\n",
              "      <td>4</td>\n",
              "      <td>6</td>\n",
              "    </tr>\n",
              "  </tbody>\n",
              "</table>\n",
              "</div>"
            ],
            "text/plain": [
              "    k1  k2  v1\n",
              "0  one   1   0\n",
              "1  two   1   1\n",
              "2  one   2   2\n",
              "3  two   3   3\n",
              "4  one   3   4\n",
              "6  two   4   6"
            ]
          },
          "metadata": {
            "tags": []
          },
          "execution_count": 33
        }
      ]
    },
    {
      "cell_type": "code",
      "metadata": {
        "id": "D1w_YLgd-3Ti",
        "outputId": "d317bf10-5375-4f97-8920-49f91f63160e"
      },
      "source": [
        "data.drop_duplicates(['k1', 'k2'])"
      ],
      "execution_count": null,
      "outputs": [
        {
          "output_type": "execute_result",
          "data": {
            "text/html": [
              "<div>\n",
              "<style scoped>\n",
              "    .dataframe tbody tr th:only-of-type {\n",
              "        vertical-align: middle;\n",
              "    }\n",
              "\n",
              "    .dataframe tbody tr th {\n",
              "        vertical-align: top;\n",
              "    }\n",
              "\n",
              "    .dataframe thead th {\n",
              "        text-align: right;\n",
              "    }\n",
              "</style>\n",
              "<table border=\"1\" class=\"dataframe\">\n",
              "  <thead>\n",
              "    <tr style=\"text-align: right;\">\n",
              "      <th></th>\n",
              "      <th>k1</th>\n",
              "      <th>k2</th>\n",
              "      <th>v1</th>\n",
              "    </tr>\n",
              "  </thead>\n",
              "  <tbody>\n",
              "    <tr>\n",
              "      <th>0</th>\n",
              "      <td>one</td>\n",
              "      <td>1</td>\n",
              "      <td>0</td>\n",
              "    </tr>\n",
              "    <tr>\n",
              "      <th>1</th>\n",
              "      <td>two</td>\n",
              "      <td>1</td>\n",
              "      <td>1</td>\n",
              "    </tr>\n",
              "    <tr>\n",
              "      <th>2</th>\n",
              "      <td>one</td>\n",
              "      <td>2</td>\n",
              "      <td>2</td>\n",
              "    </tr>\n",
              "    <tr>\n",
              "      <th>3</th>\n",
              "      <td>two</td>\n",
              "      <td>3</td>\n",
              "      <td>3</td>\n",
              "    </tr>\n",
              "    <tr>\n",
              "      <th>4</th>\n",
              "      <td>one</td>\n",
              "      <td>3</td>\n",
              "      <td>4</td>\n",
              "    </tr>\n",
              "    <tr>\n",
              "      <th>5</th>\n",
              "      <td>two</td>\n",
              "      <td>4</td>\n",
              "      <td>5</td>\n",
              "    </tr>\n",
              "  </tbody>\n",
              "</table>\n",
              "</div>"
            ],
            "text/plain": [
              "    k1  k2  v1\n",
              "0  one   1   0\n",
              "1  two   1   1\n",
              "2  one   2   2\n",
              "3  two   3   3\n",
              "4  one   3   4\n",
              "5  two   4   5"
            ]
          },
          "metadata": {
            "tags": []
          },
          "execution_count": 34
        }
      ]
    },
    {
      "cell_type": "code",
      "metadata": {
        "id": "3CFwOYmy-3Ti",
        "outputId": "a051538d-5778-4a81-bbda-f1001e968ba7",
        "colab": {
          "base_uri": "https://localhost:8080/",
          "height": 203
        }
      },
      "source": [
        "df=pd.DataFrame(np.arange(0,20,2).reshape(5,2))\n",
        "df"
      ],
      "execution_count": 20,
      "outputs": [
        {
          "output_type": "execute_result",
          "data": {
            "text/html": [
              "<div>\n",
              "<style scoped>\n",
              "    .dataframe tbody tr th:only-of-type {\n",
              "        vertical-align: middle;\n",
              "    }\n",
              "\n",
              "    .dataframe tbody tr th {\n",
              "        vertical-align: top;\n",
              "    }\n",
              "\n",
              "    .dataframe thead th {\n",
              "        text-align: right;\n",
              "    }\n",
              "</style>\n",
              "<table border=\"1\" class=\"dataframe\">\n",
              "  <thead>\n",
              "    <tr style=\"text-align: right;\">\n",
              "      <th></th>\n",
              "      <th>0</th>\n",
              "      <th>1</th>\n",
              "    </tr>\n",
              "  </thead>\n",
              "  <tbody>\n",
              "    <tr>\n",
              "      <th>0</th>\n",
              "      <td>0</td>\n",
              "      <td>2</td>\n",
              "    </tr>\n",
              "    <tr>\n",
              "      <th>1</th>\n",
              "      <td>4</td>\n",
              "      <td>6</td>\n",
              "    </tr>\n",
              "    <tr>\n",
              "      <th>2</th>\n",
              "      <td>8</td>\n",
              "      <td>10</td>\n",
              "    </tr>\n",
              "    <tr>\n",
              "      <th>3</th>\n",
              "      <td>12</td>\n",
              "      <td>14</td>\n",
              "    </tr>\n",
              "    <tr>\n",
              "      <th>4</th>\n",
              "      <td>16</td>\n",
              "      <td>18</td>\n",
              "    </tr>\n",
              "  </tbody>\n",
              "</table>\n",
              "</div>"
            ],
            "text/plain": [
              "    0   1\n",
              "0   0   2\n",
              "1   4   6\n",
              "2   8  10\n",
              "3  12  14\n",
              "4  16  18"
            ]
          },
          "metadata": {
            "tags": []
          },
          "execution_count": 20
        }
      ]
    },
    {
      "cell_type": "code",
      "metadata": {
        "id": "WJZgyiKZ0MLZ",
        "outputId": "b2e60b3a-c6f2-448b-9ea5-fbe28e380f4a",
        "colab": {
          "base_uri": "https://localhost:8080/",
          "height": 203
        }
      },
      "source": [
        "df.iloc[2:,0]=np.nan\n",
        "df"
      ],
      "execution_count": 22,
      "outputs": [
        {
          "output_type": "execute_result",
          "data": {
            "text/html": [
              "<div>\n",
              "<style scoped>\n",
              "    .dataframe tbody tr th:only-of-type {\n",
              "        vertical-align: middle;\n",
              "    }\n",
              "\n",
              "    .dataframe tbody tr th {\n",
              "        vertical-align: top;\n",
              "    }\n",
              "\n",
              "    .dataframe thead th {\n",
              "        text-align: right;\n",
              "    }\n",
              "</style>\n",
              "<table border=\"1\" class=\"dataframe\">\n",
              "  <thead>\n",
              "    <tr style=\"text-align: right;\">\n",
              "      <th></th>\n",
              "      <th>0</th>\n",
              "      <th>1</th>\n",
              "    </tr>\n",
              "  </thead>\n",
              "  <tbody>\n",
              "    <tr>\n",
              "      <th>0</th>\n",
              "      <td>0.0</td>\n",
              "      <td>2</td>\n",
              "    </tr>\n",
              "    <tr>\n",
              "      <th>1</th>\n",
              "      <td>4.0</td>\n",
              "      <td>6</td>\n",
              "    </tr>\n",
              "    <tr>\n",
              "      <th>2</th>\n",
              "      <td>NaN</td>\n",
              "      <td>10</td>\n",
              "    </tr>\n",
              "    <tr>\n",
              "      <th>3</th>\n",
              "      <td>NaN</td>\n",
              "      <td>14</td>\n",
              "    </tr>\n",
              "    <tr>\n",
              "      <th>4</th>\n",
              "      <td>NaN</td>\n",
              "      <td>18</td>\n",
              "    </tr>\n",
              "  </tbody>\n",
              "</table>\n",
              "</div>"
            ],
            "text/plain": [
              "     0   1\n",
              "0  0.0   2\n",
              "1  4.0   6\n",
              "2  NaN  10\n",
              "3  NaN  14\n",
              "4  NaN  18"
            ]
          },
          "metadata": {
            "tags": []
          },
          "execution_count": 22
        }
      ]
    },
    {
      "cell_type": "code",
      "metadata": {
        "id": "KDyU2bzY1YJc",
        "outputId": "e03f00dc-eedd-4ceb-b972-5d8d626bb311",
        "colab": {
          "base_uri": "https://localhost:8080/",
          "height": 203
        }
      },
      "source": [
        "df[1]=np.nan\n",
        "df"
      ],
      "execution_count": 23,
      "outputs": [
        {
          "output_type": "execute_result",
          "data": {
            "text/html": [
              "<div>\n",
              "<style scoped>\n",
              "    .dataframe tbody tr th:only-of-type {\n",
              "        vertical-align: middle;\n",
              "    }\n",
              "\n",
              "    .dataframe tbody tr th {\n",
              "        vertical-align: top;\n",
              "    }\n",
              "\n",
              "    .dataframe thead th {\n",
              "        text-align: right;\n",
              "    }\n",
              "</style>\n",
              "<table border=\"1\" class=\"dataframe\">\n",
              "  <thead>\n",
              "    <tr style=\"text-align: right;\">\n",
              "      <th></th>\n",
              "      <th>0</th>\n",
              "      <th>1</th>\n",
              "    </tr>\n",
              "  </thead>\n",
              "  <tbody>\n",
              "    <tr>\n",
              "      <th>0</th>\n",
              "      <td>0.0</td>\n",
              "      <td>NaN</td>\n",
              "    </tr>\n",
              "    <tr>\n",
              "      <th>1</th>\n",
              "      <td>4.0</td>\n",
              "      <td>NaN</td>\n",
              "    </tr>\n",
              "    <tr>\n",
              "      <th>2</th>\n",
              "      <td>NaN</td>\n",
              "      <td>NaN</td>\n",
              "    </tr>\n",
              "    <tr>\n",
              "      <th>3</th>\n",
              "      <td>NaN</td>\n",
              "      <td>NaN</td>\n",
              "    </tr>\n",
              "    <tr>\n",
              "      <th>4</th>\n",
              "      <td>NaN</td>\n",
              "      <td>NaN</td>\n",
              "    </tr>\n",
              "  </tbody>\n",
              "</table>\n",
              "</div>"
            ],
            "text/plain": [
              "     0   1\n",
              "0  0.0 NaN\n",
              "1  4.0 NaN\n",
              "2  NaN NaN\n",
              "3  NaN NaN\n",
              "4  NaN NaN"
            ]
          },
          "metadata": {
            "tags": []
          },
          "execution_count": 23
        }
      ]
    },
    {
      "cell_type": "markdown",
      "metadata": {
        "id": "8eikpca3-3Ti"
      },
      "source": [
        "### Transforming Data Using a Function or Mapping"
      ]
    },
    {
      "cell_type": "code",
      "metadata": {
        "id": "sdtVv2g8-3Ti",
        "outputId": "032e81bc-489b-4f43-b2fd-58b0af0cc992"
      },
      "source": [
        "data = pd.DataFrame({'food': ['bacon', 'pulled pork', 'bacon',\n",
        "                              'Pastrami', 'corned beef', 'Bacon',\n",
        "                              'pastrami', 'honey ham', 'nova lox'],\n",
        "                     'ounces': [4, 3, 12, 6, 7.5, 8, 3, 5, 6]})\n",
        "data"
      ],
      "execution_count": null,
      "outputs": [
        {
          "output_type": "execute_result",
          "data": {
            "text/html": [
              "<div>\n",
              "<style scoped>\n",
              "    .dataframe tbody tr th:only-of-type {\n",
              "        vertical-align: middle;\n",
              "    }\n",
              "\n",
              "    .dataframe tbody tr th {\n",
              "        vertical-align: top;\n",
              "    }\n",
              "\n",
              "    .dataframe thead th {\n",
              "        text-align: right;\n",
              "    }\n",
              "</style>\n",
              "<table border=\"1\" class=\"dataframe\">\n",
              "  <thead>\n",
              "    <tr style=\"text-align: right;\">\n",
              "      <th></th>\n",
              "      <th>food</th>\n",
              "      <th>ounces</th>\n",
              "    </tr>\n",
              "  </thead>\n",
              "  <tbody>\n",
              "    <tr>\n",
              "      <th>0</th>\n",
              "      <td>bacon</td>\n",
              "      <td>4.0</td>\n",
              "    </tr>\n",
              "    <tr>\n",
              "      <th>1</th>\n",
              "      <td>pulled pork</td>\n",
              "      <td>3.0</td>\n",
              "    </tr>\n",
              "    <tr>\n",
              "      <th>2</th>\n",
              "      <td>bacon</td>\n",
              "      <td>12.0</td>\n",
              "    </tr>\n",
              "    <tr>\n",
              "      <th>3</th>\n",
              "      <td>Pastrami</td>\n",
              "      <td>6.0</td>\n",
              "    </tr>\n",
              "    <tr>\n",
              "      <th>4</th>\n",
              "      <td>corned beef</td>\n",
              "      <td>7.5</td>\n",
              "    </tr>\n",
              "    <tr>\n",
              "      <th>5</th>\n",
              "      <td>Bacon</td>\n",
              "      <td>8.0</td>\n",
              "    </tr>\n",
              "    <tr>\n",
              "      <th>6</th>\n",
              "      <td>pastrami</td>\n",
              "      <td>3.0</td>\n",
              "    </tr>\n",
              "    <tr>\n",
              "      <th>7</th>\n",
              "      <td>honey ham</td>\n",
              "      <td>5.0</td>\n",
              "    </tr>\n",
              "    <tr>\n",
              "      <th>8</th>\n",
              "      <td>nova lox</td>\n",
              "      <td>6.0</td>\n",
              "    </tr>\n",
              "  </tbody>\n",
              "</table>\n",
              "</div>"
            ],
            "text/plain": [
              "          food  ounces\n",
              "0        bacon     4.0\n",
              "1  pulled pork     3.0\n",
              "2        bacon    12.0\n",
              "3     Pastrami     6.0\n",
              "4  corned beef     7.5\n",
              "5        Bacon     8.0\n",
              "6     pastrami     3.0\n",
              "7    honey ham     5.0\n",
              "8     nova lox     6.0"
            ]
          },
          "metadata": {
            "tags": []
          },
          "execution_count": 35
        }
      ]
    },
    {
      "cell_type": "code",
      "metadata": {
        "id": "X6li1RZF-3Ti"
      },
      "source": [
        "meat_to_animal = {\n",
        "  'bacon': 'pig',\n",
        "  'pulled pork': 'pig',\n",
        "  'pastrami': 'cow',\n",
        "  'corned beef': 'cow',\n",
        "  'honey ham': 'pig',\n",
        "  'nova lox': 'salmon'\n",
        "}"
      ],
      "execution_count": null,
      "outputs": []
    },
    {
      "cell_type": "code",
      "metadata": {
        "id": "ewWh6Mw5-3Tj",
        "outputId": "25ef2094-69e2-499b-a673-269eeaa0e3e5"
      },
      "source": [
        "lowercased = data['food'].str.lower()\n",
        "lowercased"
      ],
      "execution_count": null,
      "outputs": [
        {
          "output_type": "execute_result",
          "data": {
            "text/plain": [
              "0          bacon\n",
              "1    pulled pork\n",
              "2          bacon\n",
              "3       pastrami\n",
              "4    corned beef\n",
              "5          bacon\n",
              "6       pastrami\n",
              "7      honey ham\n",
              "8       nova lox\n",
              "Name: food, dtype: object"
            ]
          },
          "metadata": {
            "tags": []
          },
          "execution_count": 37
        }
      ]
    },
    {
      "cell_type": "code",
      "metadata": {
        "id": "Pq9LkAFj-3Tj",
        "outputId": "122c03f1-31b7-49ff-c8a6-d66da217a00f"
      },
      "source": [
        "data['animal'] = lowercased.map(meat_to_animal)\n",
        "data"
      ],
      "execution_count": null,
      "outputs": [
        {
          "output_type": "execute_result",
          "data": {
            "text/html": [
              "<div>\n",
              "<style scoped>\n",
              "    .dataframe tbody tr th:only-of-type {\n",
              "        vertical-align: middle;\n",
              "    }\n",
              "\n",
              "    .dataframe tbody tr th {\n",
              "        vertical-align: top;\n",
              "    }\n",
              "\n",
              "    .dataframe thead th {\n",
              "        text-align: right;\n",
              "    }\n",
              "</style>\n",
              "<table border=\"1\" class=\"dataframe\">\n",
              "  <thead>\n",
              "    <tr style=\"text-align: right;\">\n",
              "      <th></th>\n",
              "      <th>food</th>\n",
              "      <th>ounces</th>\n",
              "      <th>animal</th>\n",
              "    </tr>\n",
              "  </thead>\n",
              "  <tbody>\n",
              "    <tr>\n",
              "      <th>0</th>\n",
              "      <td>bacon</td>\n",
              "      <td>4.0</td>\n",
              "      <td>pig</td>\n",
              "    </tr>\n",
              "    <tr>\n",
              "      <th>1</th>\n",
              "      <td>pulled pork</td>\n",
              "      <td>3.0</td>\n",
              "      <td>pig</td>\n",
              "    </tr>\n",
              "    <tr>\n",
              "      <th>2</th>\n",
              "      <td>bacon</td>\n",
              "      <td>12.0</td>\n",
              "      <td>pig</td>\n",
              "    </tr>\n",
              "    <tr>\n",
              "      <th>3</th>\n",
              "      <td>Pastrami</td>\n",
              "      <td>6.0</td>\n",
              "      <td>cow</td>\n",
              "    </tr>\n",
              "    <tr>\n",
              "      <th>4</th>\n",
              "      <td>corned beef</td>\n",
              "      <td>7.5</td>\n",
              "      <td>cow</td>\n",
              "    </tr>\n",
              "    <tr>\n",
              "      <th>5</th>\n",
              "      <td>Bacon</td>\n",
              "      <td>8.0</td>\n",
              "      <td>pig</td>\n",
              "    </tr>\n",
              "    <tr>\n",
              "      <th>6</th>\n",
              "      <td>pastrami</td>\n",
              "      <td>3.0</td>\n",
              "      <td>cow</td>\n",
              "    </tr>\n",
              "    <tr>\n",
              "      <th>7</th>\n",
              "      <td>honey ham</td>\n",
              "      <td>5.0</td>\n",
              "      <td>pig</td>\n",
              "    </tr>\n",
              "    <tr>\n",
              "      <th>8</th>\n",
              "      <td>nova lox</td>\n",
              "      <td>6.0</td>\n",
              "      <td>salmon</td>\n",
              "    </tr>\n",
              "  </tbody>\n",
              "</table>\n",
              "</div>"
            ],
            "text/plain": [
              "          food  ounces  animal\n",
              "0        bacon     4.0     pig\n",
              "1  pulled pork     3.0     pig\n",
              "2        bacon    12.0     pig\n",
              "3     Pastrami     6.0     cow\n",
              "4  corned beef     7.5     cow\n",
              "5        Bacon     8.0     pig\n",
              "6     pastrami     3.0     cow\n",
              "7    honey ham     5.0     pig\n",
              "8     nova lox     6.0  salmon"
            ]
          },
          "metadata": {
            "tags": []
          },
          "execution_count": 38
        }
      ]
    },
    {
      "cell_type": "code",
      "metadata": {
        "id": "jXOA9IVg-3Tj",
        "outputId": "bf97a053-0a55-452f-ffd5-6b6e46ff28d2"
      },
      "source": [
        "data['food'].map(lambda x: meat_to_animal[x.lower()])"
      ],
      "execution_count": null,
      "outputs": [
        {
          "output_type": "execute_result",
          "data": {
            "text/plain": [
              "0       pig\n",
              "1       pig\n",
              "2       pig\n",
              "3       cow\n",
              "4       cow\n",
              "5       pig\n",
              "6       cow\n",
              "7       pig\n",
              "8    salmon\n",
              "Name: food, dtype: object"
            ]
          },
          "metadata": {
            "tags": []
          },
          "execution_count": 37
        }
      ]
    },
    {
      "cell_type": "markdown",
      "metadata": {
        "id": "28mgr974-3Tj"
      },
      "source": [
        "### Replacing Values"
      ]
    },
    {
      "cell_type": "code",
      "metadata": {
        "id": "Dg554AcA-3Tj",
        "outputId": "675b239d-98d0-4f32-f620-2bdc84cb4405"
      },
      "source": [
        "data = pd.Series([1., -999., 2., -999., -1000., 3.])\n",
        "data"
      ],
      "execution_count": null,
      "outputs": [
        {
          "output_type": "execute_result",
          "data": {
            "text/plain": [
              "0       1.0\n",
              "1    -999.0\n",
              "2       2.0\n",
              "3    -999.0\n",
              "4   -1000.0\n",
              "5       3.0\n",
              "dtype: float64"
            ]
          },
          "metadata": {
            "tags": []
          },
          "execution_count": 39
        }
      ]
    },
    {
      "cell_type": "code",
      "metadata": {
        "id": "_O4vPACd-3Tk",
        "outputId": "3adae5fa-2a92-4270-fec5-06b551762ecb"
      },
      "source": [
        "data.replace(-999, np.nan)"
      ],
      "execution_count": null,
      "outputs": [
        {
          "output_type": "execute_result",
          "data": {
            "text/plain": [
              "0       1.0\n",
              "1       NaN\n",
              "2       2.0\n",
              "3       NaN\n",
              "4   -1000.0\n",
              "5       3.0\n",
              "dtype: float64"
            ]
          },
          "metadata": {
            "tags": []
          },
          "execution_count": 40
        }
      ]
    },
    {
      "cell_type": "code",
      "metadata": {
        "id": "SFmidx50-3Tk",
        "outputId": "205877b7-a0e3-4bc0-e3df-79751e57c8bd"
      },
      "source": [
        "data.replace([-999, -1000], np.nan)"
      ],
      "execution_count": null,
      "outputs": [
        {
          "output_type": "execute_result",
          "data": {
            "text/plain": [
              "0    1.0\n",
              "1    NaN\n",
              "2    2.0\n",
              "3    NaN\n",
              "4    NaN\n",
              "5    3.0\n",
              "dtype: float64"
            ]
          },
          "metadata": {
            "tags": []
          },
          "execution_count": 41
        }
      ]
    },
    {
      "cell_type": "code",
      "metadata": {
        "id": "aoYo7a2z-3Tk",
        "outputId": "b433c989-90ae-495d-d09f-2568315f41c4"
      },
      "source": [
        "data.replace([-999, -1000], [np.nan, 0])"
      ],
      "execution_count": null,
      "outputs": [
        {
          "output_type": "execute_result",
          "data": {
            "text/plain": [
              "0    1.0\n",
              "1    NaN\n",
              "2    2.0\n",
              "3    NaN\n",
              "4    0.0\n",
              "5    3.0\n",
              "dtype: float64"
            ]
          },
          "metadata": {
            "tags": []
          },
          "execution_count": 42
        }
      ]
    },
    {
      "cell_type": "code",
      "metadata": {
        "id": "6QkJYKeJ-3Tk",
        "outputId": "343fdf44-a2af-42dc-cb6b-6701d8a8742a"
      },
      "source": [
        "data.replace({-999: np.nan, -1000: 0})"
      ],
      "execution_count": null,
      "outputs": [
        {
          "output_type": "execute_result",
          "data": {
            "text/plain": [
              "0    1.0\n",
              "1    NaN\n",
              "2    2.0\n",
              "3    NaN\n",
              "4    0.0\n",
              "5    3.0\n",
              "dtype: float64"
            ]
          },
          "metadata": {
            "tags": []
          },
          "execution_count": 43
        }
      ]
    },
    {
      "cell_type": "markdown",
      "metadata": {
        "id": "hu1QP-tQ-3Tk"
      },
      "source": [
        "### Renaming Axis Indexes"
      ]
    },
    {
      "cell_type": "code",
      "metadata": {
        "id": "CJbIf8LR-3Tl",
        "outputId": "3d0891a7-dfcd-4149-bc0e-541caadcc93c"
      },
      "source": [
        "data = pd.DataFrame(np.arange(12).reshape((3, 4)),\n",
        "                    index=['Ohio', 'Colorado', 'New York'],\n",
        "                    columns=['one', 'two', 'three', 'four'])\n",
        "data"
      ],
      "execution_count": null,
      "outputs": [
        {
          "output_type": "execute_result",
          "data": {
            "text/html": [
              "<div>\n",
              "<style scoped>\n",
              "    .dataframe tbody tr th:only-of-type {\n",
              "        vertical-align: middle;\n",
              "    }\n",
              "\n",
              "    .dataframe tbody tr th {\n",
              "        vertical-align: top;\n",
              "    }\n",
              "\n",
              "    .dataframe thead th {\n",
              "        text-align: right;\n",
              "    }\n",
              "</style>\n",
              "<table border=\"1\" class=\"dataframe\">\n",
              "  <thead>\n",
              "    <tr style=\"text-align: right;\">\n",
              "      <th></th>\n",
              "      <th>one</th>\n",
              "      <th>two</th>\n",
              "      <th>three</th>\n",
              "      <th>four</th>\n",
              "    </tr>\n",
              "  </thead>\n",
              "  <tbody>\n",
              "    <tr>\n",
              "      <th>Ohio</th>\n",
              "      <td>0</td>\n",
              "      <td>1</td>\n",
              "      <td>2</td>\n",
              "      <td>3</td>\n",
              "    </tr>\n",
              "    <tr>\n",
              "      <th>Colorado</th>\n",
              "      <td>4</td>\n",
              "      <td>5</td>\n",
              "      <td>6</td>\n",
              "      <td>7</td>\n",
              "    </tr>\n",
              "    <tr>\n",
              "      <th>New York</th>\n",
              "      <td>8</td>\n",
              "      <td>9</td>\n",
              "      <td>10</td>\n",
              "      <td>11</td>\n",
              "    </tr>\n",
              "  </tbody>\n",
              "</table>\n",
              "</div>"
            ],
            "text/plain": [
              "          one  two  three  four\n",
              "Ohio        0    1      2     3\n",
              "Colorado    4    5      6     7\n",
              "New York    8    9     10    11"
            ]
          },
          "metadata": {
            "tags": []
          },
          "execution_count": 46
        }
      ]
    },
    {
      "cell_type": "code",
      "metadata": {
        "id": "stLr8MD--3Tl",
        "outputId": "37f5d562-7d41-4260-8877-9ef8e18353f3"
      },
      "source": [
        "transform = lambda x: x[:4].upper()\n",
        "data.index.map(transform)"
      ],
      "execution_count": null,
      "outputs": [
        {
          "output_type": "execute_result",
          "data": {
            "text/plain": [
              "Index(['OHIO', 'COLO', 'NEW '], dtype='object')"
            ]
          },
          "metadata": {
            "tags": []
          },
          "execution_count": 47
        }
      ]
    },
    {
      "cell_type": "code",
      "metadata": {
        "id": "1I8x4mxm-3Tl",
        "outputId": "de06d21d-b659-4539-a718-152c789c8ef5"
      },
      "source": [
        "data"
      ],
      "execution_count": null,
      "outputs": [
        {
          "output_type": "execute_result",
          "data": {
            "text/html": [
              "<div>\n",
              "<style scoped>\n",
              "    .dataframe tbody tr th:only-of-type {\n",
              "        vertical-align: middle;\n",
              "    }\n",
              "\n",
              "    .dataframe tbody tr th {\n",
              "        vertical-align: top;\n",
              "    }\n",
              "\n",
              "    .dataframe thead th {\n",
              "        text-align: right;\n",
              "    }\n",
              "</style>\n",
              "<table border=\"1\" class=\"dataframe\">\n",
              "  <thead>\n",
              "    <tr style=\"text-align: right;\">\n",
              "      <th></th>\n",
              "      <th>one</th>\n",
              "      <th>two</th>\n",
              "      <th>three</th>\n",
              "      <th>four</th>\n",
              "    </tr>\n",
              "  </thead>\n",
              "  <tbody>\n",
              "    <tr>\n",
              "      <th>Ohio</th>\n",
              "      <td>0</td>\n",
              "      <td>1</td>\n",
              "      <td>2</td>\n",
              "      <td>3</td>\n",
              "    </tr>\n",
              "    <tr>\n",
              "      <th>Colorado</th>\n",
              "      <td>4</td>\n",
              "      <td>5</td>\n",
              "      <td>6</td>\n",
              "      <td>7</td>\n",
              "    </tr>\n",
              "    <tr>\n",
              "      <th>New York</th>\n",
              "      <td>8</td>\n",
              "      <td>9</td>\n",
              "      <td>10</td>\n",
              "      <td>11</td>\n",
              "    </tr>\n",
              "  </tbody>\n",
              "</table>\n",
              "</div>"
            ],
            "text/plain": [
              "          one  two  three  four\n",
              "Ohio        0    1      2     3\n",
              "Colorado    4    5      6     7\n",
              "New York    8    9     10    11"
            ]
          },
          "metadata": {
            "tags": []
          },
          "execution_count": 48
        }
      ]
    },
    {
      "cell_type": "code",
      "metadata": {
        "id": "dw-x6MgJ-3Tl",
        "outputId": "6786868d-9c88-4134-a622-b3aa0a416939"
      },
      "source": [
        "data.index = data.index.map(transform)\n",
        "data"
      ],
      "execution_count": null,
      "outputs": [
        {
          "output_type": "execute_result",
          "data": {
            "text/html": [
              "<div>\n",
              "<style scoped>\n",
              "    .dataframe tbody tr th:only-of-type {\n",
              "        vertical-align: middle;\n",
              "    }\n",
              "\n",
              "    .dataframe tbody tr th {\n",
              "        vertical-align: top;\n",
              "    }\n",
              "\n",
              "    .dataframe thead th {\n",
              "        text-align: right;\n",
              "    }\n",
              "</style>\n",
              "<table border=\"1\" class=\"dataframe\">\n",
              "  <thead>\n",
              "    <tr style=\"text-align: right;\">\n",
              "      <th></th>\n",
              "      <th>one</th>\n",
              "      <th>two</th>\n",
              "      <th>three</th>\n",
              "      <th>four</th>\n",
              "    </tr>\n",
              "  </thead>\n",
              "  <tbody>\n",
              "    <tr>\n",
              "      <th>OHIO</th>\n",
              "      <td>0</td>\n",
              "      <td>1</td>\n",
              "      <td>2</td>\n",
              "      <td>3</td>\n",
              "    </tr>\n",
              "    <tr>\n",
              "      <th>COLO</th>\n",
              "      <td>4</td>\n",
              "      <td>5</td>\n",
              "      <td>6</td>\n",
              "      <td>7</td>\n",
              "    </tr>\n",
              "    <tr>\n",
              "      <th>NEW</th>\n",
              "      <td>8</td>\n",
              "      <td>9</td>\n",
              "      <td>10</td>\n",
              "      <td>11</td>\n",
              "    </tr>\n",
              "  </tbody>\n",
              "</table>\n",
              "</div>"
            ],
            "text/plain": [
              "      one  two  three  four\n",
              "OHIO    0    1      2     3\n",
              "COLO    4    5      6     7\n",
              "NEW     8    9     10    11"
            ]
          },
          "metadata": {
            "tags": []
          },
          "execution_count": 49
        }
      ]
    },
    {
      "cell_type": "code",
      "metadata": {
        "id": "nN6yCNkK-3Tl",
        "outputId": "802d5970-7422-428f-8705-6441ae379f2e"
      },
      "source": [
        "data.rename(index=str.title, columns=str.upper)"
      ],
      "execution_count": null,
      "outputs": [
        {
          "output_type": "execute_result",
          "data": {
            "text/html": [
              "<div>\n",
              "<style scoped>\n",
              "    .dataframe tbody tr th:only-of-type {\n",
              "        vertical-align: middle;\n",
              "    }\n",
              "\n",
              "    .dataframe tbody tr th {\n",
              "        vertical-align: top;\n",
              "    }\n",
              "\n",
              "    .dataframe thead th {\n",
              "        text-align: right;\n",
              "    }\n",
              "</style>\n",
              "<table border=\"1\" class=\"dataframe\">\n",
              "  <thead>\n",
              "    <tr style=\"text-align: right;\">\n",
              "      <th></th>\n",
              "      <th>ONE</th>\n",
              "      <th>TWO</th>\n",
              "      <th>THREE</th>\n",
              "      <th>FOUR</th>\n",
              "    </tr>\n",
              "  </thead>\n",
              "  <tbody>\n",
              "    <tr>\n",
              "      <th>Ohio</th>\n",
              "      <td>0</td>\n",
              "      <td>1</td>\n",
              "      <td>2</td>\n",
              "      <td>3</td>\n",
              "    </tr>\n",
              "    <tr>\n",
              "      <th>Colo</th>\n",
              "      <td>4</td>\n",
              "      <td>5</td>\n",
              "      <td>6</td>\n",
              "      <td>7</td>\n",
              "    </tr>\n",
              "    <tr>\n",
              "      <th>New</th>\n",
              "      <td>8</td>\n",
              "      <td>9</td>\n",
              "      <td>10</td>\n",
              "      <td>11</td>\n",
              "    </tr>\n",
              "  </tbody>\n",
              "</table>\n",
              "</div>"
            ],
            "text/plain": [
              "      ONE  TWO  THREE  FOUR\n",
              "Ohio    0    1      2     3\n",
              "Colo    4    5      6     7\n",
              "New     8    9     10    11"
            ]
          },
          "metadata": {
            "tags": []
          },
          "execution_count": 50
        }
      ]
    },
    {
      "cell_type": "code",
      "metadata": {
        "id": "_LIpmbng-3Tm",
        "outputId": "237f4be4-21e4-46f6-95c9-2c634ca4abac"
      },
      "source": [
        "data.rename(index={'OHIO': 'INDIANA'},\n",
        "            columns={'three': 'peekaboo'})"
      ],
      "execution_count": null,
      "outputs": [
        {
          "output_type": "execute_result",
          "data": {
            "text/html": [
              "<div>\n",
              "<style scoped>\n",
              "    .dataframe tbody tr th:only-of-type {\n",
              "        vertical-align: middle;\n",
              "    }\n",
              "\n",
              "    .dataframe tbody tr th {\n",
              "        vertical-align: top;\n",
              "    }\n",
              "\n",
              "    .dataframe thead th {\n",
              "        text-align: right;\n",
              "    }\n",
              "</style>\n",
              "<table border=\"1\" class=\"dataframe\">\n",
              "  <thead>\n",
              "    <tr style=\"text-align: right;\">\n",
              "      <th></th>\n",
              "      <th>one</th>\n",
              "      <th>two</th>\n",
              "      <th>peekaboo</th>\n",
              "      <th>four</th>\n",
              "    </tr>\n",
              "  </thead>\n",
              "  <tbody>\n",
              "    <tr>\n",
              "      <th>INDIANA</th>\n",
              "      <td>0</td>\n",
              "      <td>1</td>\n",
              "      <td>2</td>\n",
              "      <td>3</td>\n",
              "    </tr>\n",
              "    <tr>\n",
              "      <th>COLO</th>\n",
              "      <td>4</td>\n",
              "      <td>5</td>\n",
              "      <td>6</td>\n",
              "      <td>7</td>\n",
              "    </tr>\n",
              "    <tr>\n",
              "      <th>NEW</th>\n",
              "      <td>8</td>\n",
              "      <td>9</td>\n",
              "      <td>10</td>\n",
              "      <td>11</td>\n",
              "    </tr>\n",
              "  </tbody>\n",
              "</table>\n",
              "</div>"
            ],
            "text/plain": [
              "         one  two  peekaboo  four\n",
              "INDIANA    0    1         2     3\n",
              "COLO       4    5         6     7\n",
              "NEW        8    9        10    11"
            ]
          },
          "metadata": {
            "tags": []
          },
          "execution_count": 52
        }
      ]
    },
    {
      "cell_type": "code",
      "metadata": {
        "id": "CmAKpmjs-3Tm",
        "outputId": "c823ccef-8fd4-4183-85da-4a5822c003ea"
      },
      "source": [
        "data"
      ],
      "execution_count": null,
      "outputs": [
        {
          "output_type": "execute_result",
          "data": {
            "text/html": [
              "<div>\n",
              "<style scoped>\n",
              "    .dataframe tbody tr th:only-of-type {\n",
              "        vertical-align: middle;\n",
              "    }\n",
              "\n",
              "    .dataframe tbody tr th {\n",
              "        vertical-align: top;\n",
              "    }\n",
              "\n",
              "    .dataframe thead th {\n",
              "        text-align: right;\n",
              "    }\n",
              "</style>\n",
              "<table border=\"1\" class=\"dataframe\">\n",
              "  <thead>\n",
              "    <tr style=\"text-align: right;\">\n",
              "      <th></th>\n",
              "      <th>one</th>\n",
              "      <th>two</th>\n",
              "      <th>three</th>\n",
              "      <th>four</th>\n",
              "    </tr>\n",
              "  </thead>\n",
              "  <tbody>\n",
              "    <tr>\n",
              "      <th>OHIO</th>\n",
              "      <td>0</td>\n",
              "      <td>1</td>\n",
              "      <td>2</td>\n",
              "      <td>3</td>\n",
              "    </tr>\n",
              "    <tr>\n",
              "      <th>COLO</th>\n",
              "      <td>4</td>\n",
              "      <td>5</td>\n",
              "      <td>6</td>\n",
              "      <td>7</td>\n",
              "    </tr>\n",
              "    <tr>\n",
              "      <th>NEW</th>\n",
              "      <td>8</td>\n",
              "      <td>9</td>\n",
              "      <td>10</td>\n",
              "      <td>11</td>\n",
              "    </tr>\n",
              "  </tbody>\n",
              "</table>\n",
              "</div>"
            ],
            "text/plain": [
              "      one  two  three  four\n",
              "OHIO    0    1      2     3\n",
              "COLO    4    5      6     7\n",
              "NEW     8    9     10    11"
            ]
          },
          "metadata": {
            "tags": []
          },
          "execution_count": 53
        }
      ]
    },
    {
      "cell_type": "code",
      "metadata": {
        "id": "GsZP7vds-3Tm",
        "outputId": "993c6f6a-088f-4c64-8242-801d10406867"
      },
      "source": [
        "data.rename(index={'OHIO': 'INDIANA'}, inplace=True)\n",
        "data"
      ],
      "execution_count": null,
      "outputs": [
        {
          "output_type": "execute_result",
          "data": {
            "text/html": [
              "<div>\n",
              "<style scoped>\n",
              "    .dataframe tbody tr th:only-of-type {\n",
              "        vertical-align: middle;\n",
              "    }\n",
              "\n",
              "    .dataframe tbody tr th {\n",
              "        vertical-align: top;\n",
              "    }\n",
              "\n",
              "    .dataframe thead th {\n",
              "        text-align: right;\n",
              "    }\n",
              "</style>\n",
              "<table border=\"1\" class=\"dataframe\">\n",
              "  <thead>\n",
              "    <tr style=\"text-align: right;\">\n",
              "      <th></th>\n",
              "      <th>one</th>\n",
              "      <th>two</th>\n",
              "      <th>three</th>\n",
              "      <th>four</th>\n",
              "    </tr>\n",
              "  </thead>\n",
              "  <tbody>\n",
              "    <tr>\n",
              "      <th>INDIANA</th>\n",
              "      <td>0</td>\n",
              "      <td>1</td>\n",
              "      <td>2</td>\n",
              "      <td>3</td>\n",
              "    </tr>\n",
              "    <tr>\n",
              "      <th>COLO</th>\n",
              "      <td>4</td>\n",
              "      <td>5</td>\n",
              "      <td>6</td>\n",
              "      <td>7</td>\n",
              "    </tr>\n",
              "    <tr>\n",
              "      <th>NEW</th>\n",
              "      <td>8</td>\n",
              "      <td>9</td>\n",
              "      <td>10</td>\n",
              "      <td>11</td>\n",
              "    </tr>\n",
              "  </tbody>\n",
              "</table>\n",
              "</div>"
            ],
            "text/plain": [
              "         one  two  three  four\n",
              "INDIANA    0    1      2     3\n",
              "COLO       4    5      6     7\n",
              "NEW        8    9     10    11"
            ]
          },
          "metadata": {
            "tags": []
          },
          "execution_count": 54
        }
      ]
    },
    {
      "cell_type": "markdown",
      "metadata": {
        "id": "EnLazanm-3Tm"
      },
      "source": [
        "### 문제 "
      ]
    },
    {
      "cell_type": "code",
      "metadata": {
        "id": "T5Q6AocI-3Tm",
        "outputId": "54c46ad9-19b2-4fd7-9427-2016ee01e737"
      },
      "source": [
        "df = pd.DataFrame(np.arange(0, 20, 2).reshape(5, 2))\n",
        "df.iloc[2:, 0] = np.nan\n",
        "df[1] = np.nan\n",
        "df"
      ],
      "execution_count": null,
      "outputs": [
        {
          "output_type": "execute_result",
          "data": {
            "text/html": [
              "<div>\n",
              "<style scoped>\n",
              "    .dataframe tbody tr th:only-of-type {\n",
              "        vertical-align: middle;\n",
              "    }\n",
              "\n",
              "    .dataframe tbody tr th {\n",
              "        vertical-align: top;\n",
              "    }\n",
              "\n",
              "    .dataframe thead th {\n",
              "        text-align: right;\n",
              "    }\n",
              "</style>\n",
              "<table border=\"1\" class=\"dataframe\">\n",
              "  <thead>\n",
              "    <tr style=\"text-align: right;\">\n",
              "      <th></th>\n",
              "      <th>0</th>\n",
              "      <th>1</th>\n",
              "    </tr>\n",
              "  </thead>\n",
              "  <tbody>\n",
              "    <tr>\n",
              "      <th>0</th>\n",
              "      <td>0.0</td>\n",
              "      <td>NaN</td>\n",
              "    </tr>\n",
              "    <tr>\n",
              "      <th>1</th>\n",
              "      <td>4.0</td>\n",
              "      <td>NaN</td>\n",
              "    </tr>\n",
              "    <tr>\n",
              "      <th>2</th>\n",
              "      <td>NaN</td>\n",
              "      <td>NaN</td>\n",
              "    </tr>\n",
              "    <tr>\n",
              "      <th>3</th>\n",
              "      <td>NaN</td>\n",
              "      <td>NaN</td>\n",
              "    </tr>\n",
              "    <tr>\n",
              "      <th>4</th>\n",
              "      <td>NaN</td>\n",
              "      <td>NaN</td>\n",
              "    </tr>\n",
              "  </tbody>\n",
              "</table>\n",
              "</div>"
            ],
            "text/plain": [
              "     0   1\n",
              "0  0.0 NaN\n",
              "1  4.0 NaN\n",
              "2  NaN NaN\n",
              "3  NaN NaN\n",
              "4  NaN NaN"
            ]
          },
          "metadata": {
            "tags": []
          },
          "execution_count": 87
        }
      ]
    },
    {
      "cell_type": "code",
      "metadata": {
        "id": "hisVI-Yu-3Tn",
        "outputId": "43293c70-ce55-4faa-8f17-158b010fd661"
      },
      "source": [
        "df.dropna(how='all', inplace=True)\n",
        "df"
      ],
      "execution_count": null,
      "outputs": [
        {
          "output_type": "execute_result",
          "data": {
            "text/html": [
              "<div>\n",
              "<style scoped>\n",
              "    .dataframe tbody tr th:only-of-type {\n",
              "        vertical-align: middle;\n",
              "    }\n",
              "\n",
              "    .dataframe tbody tr th {\n",
              "        vertical-align: top;\n",
              "    }\n",
              "\n",
              "    .dataframe thead th {\n",
              "        text-align: right;\n",
              "    }\n",
              "</style>\n",
              "<table border=\"1\" class=\"dataframe\">\n",
              "  <thead>\n",
              "    <tr style=\"text-align: right;\">\n",
              "      <th></th>\n",
              "      <th>0</th>\n",
              "      <th>1</th>\n",
              "    </tr>\n",
              "  </thead>\n",
              "  <tbody>\n",
              "    <tr>\n",
              "      <th>0</th>\n",
              "      <td>0.0</td>\n",
              "      <td>NaN</td>\n",
              "    </tr>\n",
              "    <tr>\n",
              "      <th>1</th>\n",
              "      <td>4.0</td>\n",
              "      <td>NaN</td>\n",
              "    </tr>\n",
              "  </tbody>\n",
              "</table>\n",
              "</div>"
            ],
            "text/plain": [
              "     0   1\n",
              "0  0.0 NaN\n",
              "1  4.0 NaN"
            ]
          },
          "metadata": {
            "tags": []
          },
          "execution_count": 88
        }
      ]
    },
    {
      "cell_type": "code",
      "metadata": {
        "id": "6OiKmNRQ-3Tn"
      },
      "source": [
        "df.dropna?"
      ],
      "execution_count": null,
      "outputs": []
    },
    {
      "cell_type": "code",
      "metadata": {
        "id": "cR4qYtbN-3Tn",
        "outputId": "10d261e5-9054-46c4-f7fc-7dc0d655829c"
      },
      "source": [
        "df.replace({np.nan: 1}, inplace=True)\n",
        "df"
      ],
      "execution_count": null,
      "outputs": [
        {
          "output_type": "execute_result",
          "data": {
            "text/html": [
              "<div>\n",
              "<style scoped>\n",
              "    .dataframe tbody tr th:only-of-type {\n",
              "        vertical-align: middle;\n",
              "    }\n",
              "\n",
              "    .dataframe tbody tr th {\n",
              "        vertical-align: top;\n",
              "    }\n",
              "\n",
              "    .dataframe thead th {\n",
              "        text-align: right;\n",
              "    }\n",
              "</style>\n",
              "<table border=\"1\" class=\"dataframe\">\n",
              "  <thead>\n",
              "    <tr style=\"text-align: right;\">\n",
              "      <th></th>\n",
              "      <th>0</th>\n",
              "      <th>1</th>\n",
              "    </tr>\n",
              "  </thead>\n",
              "  <tbody>\n",
              "    <tr>\n",
              "      <th>0</th>\n",
              "      <td>0.0</td>\n",
              "      <td>1.0</td>\n",
              "    </tr>\n",
              "    <tr>\n",
              "      <th>1</th>\n",
              "      <td>4.0</td>\n",
              "      <td>1.0</td>\n",
              "    </tr>\n",
              "  </tbody>\n",
              "</table>\n",
              "</div>"
            ],
            "text/plain": [
              "     0    1\n",
              "0  0.0  1.0\n",
              "1  4.0  1.0"
            ]
          },
          "metadata": {
            "tags": []
          },
          "execution_count": 92
        }
      ]
    },
    {
      "cell_type": "code",
      "metadata": {
        "id": "6jnvXDp4-3Tn",
        "outputId": "9db1846d-0b9c-4dc2-ecd1-d588f5d8e5d3"
      },
      "source": [
        "df.sum().sum()"
      ],
      "execution_count": null,
      "outputs": [
        {
          "output_type": "execute_result",
          "data": {
            "text/plain": [
              "6.0"
            ]
          },
          "metadata": {
            "tags": []
          },
          "execution_count": 93
        }
      ]
    },
    {
      "cell_type": "code",
      "metadata": {
        "id": "FKv71v6p-3Tn",
        "outputId": "fdf7a93f-1b39-44d1-857c-9a40eef6f20a"
      },
      "source": [
        "df = pd.DataFrame(np.arange(0, 20, 2).reshape(5, 2))\n",
        "df.iloc[2:, 0] = np.nan\n",
        "df[1] = np.nan\n",
        "df.dropna(how='all', inplace=True)\n",
        "df.replace({np.nan: 1}, inplace=True)\n",
        "df.sum().sum()"
      ],
      "execution_count": null,
      "outputs": [
        {
          "output_type": "execute_result",
          "data": {
            "text/plain": [
              "6.0"
            ]
          },
          "metadata": {
            "tags": []
          },
          "execution_count": 94
        }
      ]
    },
    {
      "cell_type": "markdown",
      "metadata": {
        "id": "SGTYFF8M-3Tn"
      },
      "source": [
        "### Discretization and Binning"
      ]
    },
    {
      "cell_type": "code",
      "metadata": {
        "id": "JRa3ud2D-3To"
      },
      "source": [
        "ages = [20, 22, 25, 27, 21, 23, 37, 31, 61, 45, 41, 32]"
      ],
      "execution_count": 24,
      "outputs": []
    },
    {
      "cell_type": "code",
      "metadata": {
        "id": "UoAwwWSe-3To",
        "outputId": "6ae88b06-bd35-4731-dab5-ff77e98ef11f",
        "colab": {
          "base_uri": "https://localhost:8080/"
        }
      },
      "source": [
        "bins = [18, 25, 35, 60, 100]\n",
        "cats = pd.cut(ages, bins)\n",
        "cats"
      ],
      "execution_count": 25,
      "outputs": [
        {
          "output_type": "execute_result",
          "data": {
            "text/plain": [
              "[(18, 25], (18, 25], (18, 25], (25, 35], (18, 25], ..., (25, 35], (60, 100], (35, 60], (35, 60], (25, 35]]\n",
              "Length: 12\n",
              "Categories (4, interval[int64]): [(18, 25] < (25, 35] < (35, 60] < (60, 100]]"
            ]
          },
          "metadata": {
            "tags": []
          },
          "execution_count": 25
        }
      ]
    },
    {
      "cell_type": "code",
      "metadata": {
        "id": "VSFeqNYl-3To",
        "outputId": "0199e61e-6eec-428f-e7be-ac5b13a92fe4",
        "colab": {
          "base_uri": "https://localhost:8080/"
        }
      },
      "source": [
        "type(cats)"
      ],
      "execution_count": 26,
      "outputs": [
        {
          "output_type": "execute_result",
          "data": {
            "text/plain": [
              "pandas.core.arrays.categorical.Categorical"
            ]
          },
          "metadata": {
            "tags": []
          },
          "execution_count": 26
        }
      ]
    },
    {
      "cell_type": "code",
      "metadata": {
        "id": "2eZ0qu_7-3To",
        "outputId": "2d4b4828-2558-48d1-c9f1-9569a5d6ae93",
        "colab": {
          "base_uri": "https://localhost:8080/"
        }
      },
      "source": [
        "cats.codes"
      ],
      "execution_count": 27,
      "outputs": [
        {
          "output_type": "execute_result",
          "data": {
            "text/plain": [
              "array([0, 0, 0, 1, 0, 0, 2, 1, 3, 2, 2, 1], dtype=int8)"
            ]
          },
          "metadata": {
            "tags": []
          },
          "execution_count": 27
        }
      ]
    },
    {
      "cell_type": "code",
      "metadata": {
        "id": "CKQ2MzDC-3To",
        "outputId": "f7b90191-7715-47c1-d61d-6e38b9758362",
        "colab": {
          "base_uri": "https://localhost:8080/"
        }
      },
      "source": [
        "cats.categories"
      ],
      "execution_count": 28,
      "outputs": [
        {
          "output_type": "execute_result",
          "data": {
            "text/plain": [
              "IntervalIndex([(18, 25], (25, 35], (35, 60], (60, 100]],\n",
              "              closed='right',\n",
              "              dtype='interval[int64]')"
            ]
          },
          "metadata": {
            "tags": []
          },
          "execution_count": 28
        }
      ]
    },
    {
      "cell_type": "code",
      "metadata": {
        "id": "28MFI2AO-3To",
        "outputId": "0580f08a-95c3-4f9d-f51d-40901c41d1fd",
        "colab": {
          "base_uri": "https://localhost:8080/"
        }
      },
      "source": [
        "pd.value_counts(cats)"
      ],
      "execution_count": 29,
      "outputs": [
        {
          "output_type": "execute_result",
          "data": {
            "text/plain": [
              "(18, 25]     5\n",
              "(35, 60]     3\n",
              "(25, 35]     3\n",
              "(60, 100]    1\n",
              "dtype: int64"
            ]
          },
          "metadata": {
            "tags": []
          },
          "execution_count": 29
        }
      ]
    },
    {
      "cell_type": "code",
      "metadata": {
        "id": "OGPYXjAW-3Tp",
        "outputId": "e96a7e1f-c47b-494c-9300-fd26e1562ea2",
        "colab": {
          "base_uri": "https://localhost:8080/"
        }
      },
      "source": [
        "pd.cut(ages, [18, 26, 36, 61, 100], right=False) # 오른쪽이 ) 이 되도록 "
      ],
      "execution_count": 30,
      "outputs": [
        {
          "output_type": "execute_result",
          "data": {
            "text/plain": [
              "[[18, 26), [18, 26), [18, 26), [26, 36), [18, 26), ..., [26, 36), [61, 100), [36, 61), [36, 61), [26, 36)]\n",
              "Length: 12\n",
              "Categories (4, interval[int64]): [[18, 26) < [26, 36) < [36, 61) < [61, 100)]"
            ]
          },
          "metadata": {
            "tags": []
          },
          "execution_count": 30
        }
      ]
    },
    {
      "cell_type": "code",
      "metadata": {
        "id": "w2pjyu6b-3Tp",
        "outputId": "58361586-0730-494f-9729-a0d3222ba33d",
        "colab": {
          "base_uri": "https://localhost:8080/"
        }
      },
      "source": [
        "ages"
      ],
      "execution_count": 31,
      "outputs": [
        {
          "output_type": "execute_result",
          "data": {
            "text/plain": [
              "[20, 22, 25, 27, 21, 23, 37, 31, 61, 45, 41, 32]"
            ]
          },
          "metadata": {
            "tags": []
          },
          "execution_count": 31
        }
      ]
    },
    {
      "cell_type": "code",
      "metadata": {
        "id": "jdTiWL_5-3Tp",
        "outputId": "22ed347f-0871-4ea1-9184-693ab1d2e509",
        "colab": {
          "base_uri": "https://localhost:8080/"
        }
      },
      "source": [
        "bins"
      ],
      "execution_count": 32,
      "outputs": [
        {
          "output_type": "execute_result",
          "data": {
            "text/plain": [
              "[18, 25, 35, 60, 100]"
            ]
          },
          "metadata": {
            "tags": []
          },
          "execution_count": 32
        }
      ]
    },
    {
      "cell_type": "code",
      "metadata": {
        "id": "Dam7opX6-3Tp",
        "outputId": "aa97aa2e-d941-4025-93a2-8497d9a4616b",
        "colab": {
          "base_uri": "https://localhost:8080/"
        }
      },
      "source": [
        "group_names = ['Youth', 'YoungAdult', 'MiddleAged', 'Senior']\n",
        "pd.cut(ages, bins, labels=group_names)"
      ],
      "execution_count": 33,
      "outputs": [
        {
          "output_type": "execute_result",
          "data": {
            "text/plain": [
              "['Youth', 'Youth', 'Youth', 'YoungAdult', 'Youth', ..., 'YoungAdult', 'Senior', 'MiddleAged', 'MiddleAged', 'YoungAdult']\n",
              "Length: 12\n",
              "Categories (4, object): ['Youth' < 'YoungAdult' < 'MiddleAged' < 'Senior']"
            ]
          },
          "metadata": {
            "tags": []
          },
          "execution_count": 33
        }
      ]
    },
    {
      "cell_type": "code",
      "metadata": {
        "id": "-30AZ2VZ-3Tq"
      },
      "source": [
        ""
      ],
      "execution_count": null,
      "outputs": []
    },
    {
      "cell_type": "code",
      "metadata": {
        "id": "q3EpA_41-3Tq",
        "outputId": "6f3183c0-98e8-4d88-c218-228eed30358f",
        "colab": {
          "base_uri": "https://localhost:8080/"
        }
      },
      "source": [
        "data = np.random.rand(20)\n",
        "data"
      ],
      "execution_count": 34,
      "outputs": [
        {
          "output_type": "execute_result",
          "data": {
            "text/plain": [
              "array([0.9296, 0.3164, 0.1839, 0.2046, 0.5677, 0.5955, 0.9645, 0.6532,\n",
              "       0.7489, 0.6536, 0.7477, 0.9613, 0.0084, 0.1064, 0.2987, 0.6564,\n",
              "       0.8098, 0.8722, 0.9646, 0.7237])"
            ]
          },
          "metadata": {
            "tags": []
          },
          "execution_count": 34
        }
      ]
    },
    {
      "cell_type": "code",
      "metadata": {
        "id": "NvijTyoj-3Tq",
        "outputId": "62075f21-ebac-4471-99b7-6b1615defde8",
        "colab": {
          "base_uri": "https://localhost:8080/"
        }
      },
      "source": [
        "print(data.max(), data.min())"
      ],
      "execution_count": 35,
      "outputs": [
        {
          "output_type": "stream",
          "text": [
            "0.9646475973719302 0.00838829794155349\n"
          ],
          "name": "stdout"
        }
      ]
    },
    {
      "cell_type": "code",
      "metadata": {
        "id": "uPdEhOlF-3Tq",
        "outputId": "8eb509b8-3f4c-4c3f-bc93-da4457f3f586",
        "colab": {
          "base_uri": "https://localhost:8080/"
        }
      },
      "source": [
        "pd.cut(data, 4, precision=2)"
      ],
      "execution_count": 36,
      "outputs": [
        {
          "output_type": "execute_result",
          "data": {
            "text/plain": [
              "[(0.73, 0.96], (0.25, 0.49], (0.0074, 0.25], (0.0074, 0.25], (0.49, 0.73], ..., (0.49, 0.73], (0.73, 0.96], (0.73, 0.96], (0.73, 0.96], (0.49, 0.73]]\n",
              "Length: 20\n",
              "Categories (4, interval[float64]): [(0.0074, 0.25] < (0.25, 0.49] < (0.49, 0.73] < (0.73, 0.96]]"
            ]
          },
          "metadata": {
            "tags": []
          },
          "execution_count": 36
        }
      ]
    },
    {
      "cell_type": "markdown",
      "metadata": {
        "id": "nxkhfJSw-3Tr"
      },
      "source": [
        "* qcut()"
      ]
    },
    {
      "cell_type": "code",
      "metadata": {
        "id": "6HUyPqQK-3Tr",
        "outputId": "5a1ae429-33ed-41cc-b4a4-7c8e6ccc6ef8",
        "colab": {
          "base_uri": "https://localhost:8080/"
        }
      },
      "source": [
        "data = np.random.randn(1000)  # Normally distributed\n",
        "print(data.max(), data.min())"
      ],
      "execution_count": 37,
      "outputs": [
        {
          "output_type": "stream",
          "text": [
            "3.92752804079273 -2.949343498142557\n"
          ],
          "name": "stdout"
        }
      ]
    },
    {
      "cell_type": "code",
      "metadata": {
        "id": "AUaUf0lr-3Tr",
        "outputId": "c49e7a4b-e05d-4904-f1b6-80c5458cad11",
        "colab": {
          "base_uri": "https://localhost:8080/"
        }
      },
      "source": [
        "cats = pd.qcut(data, 4)  # Cut into quartiles\n",
        "cats"
      ],
      "execution_count": 38,
      "outputs": [
        {
          "output_type": "execute_result",
          "data": {
            "text/plain": [
              "[(0.626, 3.928], (0.626, 3.928], (-2.9499999999999997, -0.691], (-0.691, -0.0171], (0.626, 3.928], ..., (-0.0171, 0.626], (0.626, 3.928], (-0.691, -0.0171], (-0.691, -0.0171], (-0.0171, 0.626]]\n",
              "Length: 1000\n",
              "Categories (4, interval[float64]): [(-2.9499999999999997, -0.691] < (-0.691, -0.0171] < (-0.0171, 0.626] <\n",
              "                                    (0.626, 3.928]]"
            ]
          },
          "metadata": {
            "tags": []
          },
          "execution_count": 38
        }
      ]
    },
    {
      "cell_type": "code",
      "metadata": {
        "id": "w8SdSzzF-3Ts",
        "outputId": "ce83b766-dfb6-4384-b487-fc29f422eb2f",
        "colab": {
          "base_uri": "https://localhost:8080/"
        }
      },
      "source": [
        "pd.value_counts(cats)"
      ],
      "execution_count": 39,
      "outputs": [
        {
          "output_type": "execute_result",
          "data": {
            "text/plain": [
              "(0.626, 3.928]                   250\n",
              "(-0.0171, 0.626]                 250\n",
              "(-0.691, -0.0171]                250\n",
              "(-2.9499999999999997, -0.691]    250\n",
              "dtype: int64"
            ]
          },
          "metadata": {
            "tags": []
          },
          "execution_count": 39
        }
      ]
    },
    {
      "cell_type": "code",
      "metadata": {
        "id": "Ey_onanS-3Ts",
        "outputId": "989bda04-1595-47fd-8e96-546a6430813e",
        "colab": {
          "base_uri": "https://localhost:8080/"
        }
      },
      "source": [
        "cat = pd.qcut(data, [0, 0.1, 0.5, 0.9, 1.])\n",
        "cat"
      ],
      "execution_count": 40,
      "outputs": [
        {
          "output_type": "execute_result",
          "data": {
            "text/plain": [
              "[(1.297, 3.928], (-0.0171, 1.297], (-2.9499999999999997, -1.191], (-1.191, -0.0171], (1.297, 3.928], ..., (-0.0171, 1.297], (-0.0171, 1.297], (-1.191, -0.0171], (-1.191, -0.0171], (-0.0171, 1.297]]\n",
              "Length: 1000\n",
              "Categories (4, interval[float64]): [(-2.9499999999999997, -1.191] < (-1.191, -0.0171] < (-0.0171, 1.297] <\n",
              "                                    (1.297, 3.928]]"
            ]
          },
          "metadata": {
            "tags": []
          },
          "execution_count": 40
        }
      ]
    },
    {
      "cell_type": "code",
      "metadata": {
        "id": "Yrzzmkb4-3Ts",
        "outputId": "f9b16cb4-f8fc-42a2-ac25-cfd25f9ceca3",
        "colab": {
          "base_uri": "https://localhost:8080/"
        }
      },
      "source": [
        "pd.value_counts(cat)"
      ],
      "execution_count": 41,
      "outputs": [
        {
          "output_type": "execute_result",
          "data": {
            "text/plain": [
              "(-0.0171, 1.297]                 400\n",
              "(-1.191, -0.0171]                400\n",
              "(1.297, 3.928]                   100\n",
              "(-2.9499999999999997, -1.191]    100\n",
              "dtype: int64"
            ]
          },
          "metadata": {
            "tags": []
          },
          "execution_count": 41
        }
      ]
    },
    {
      "cell_type": "code",
      "metadata": {
        "id": "qimDu1Oi-3Ts",
        "outputId": "4526ee3b-0297-43b0-e427-a2c961e9d33b",
        "colab": {
          "base_uri": "https://localhost:8080/"
        }
      },
      "source": [
        "pd.value_counts(cat, sort=False)"
      ],
      "execution_count": 42,
      "outputs": [
        {
          "output_type": "execute_result",
          "data": {
            "text/plain": [
              "(-2.9499999999999997, -1.191]    100\n",
              "(-1.191, -0.0171]                400\n",
              "(-0.0171, 1.297]                 400\n",
              "(1.297, 3.928]                   100\n",
              "dtype: int64"
            ]
          },
          "metadata": {
            "tags": []
          },
          "execution_count": 42
        }
      ]
    },
    {
      "cell_type": "markdown",
      "metadata": {
        "id": "0nIztSci-3Tt"
      },
      "source": [
        "### Detecting and Filtering Outliers"
      ]
    },
    {
      "cell_type": "code",
      "metadata": {
        "id": "_XtVJMS4-3Tt",
        "outputId": "4844abb4-56ce-4144-e9ee-8a414e803df4"
      },
      "source": [
        "data = pd.DataFrame(np.random.randn(1000, 4))\n",
        "data.describe(percentiles=[.3, .65, .9])"
      ],
      "execution_count": null,
      "outputs": [
        {
          "output_type": "execute_result",
          "data": {
            "text/html": [
              "<div>\n",
              "<style scoped>\n",
              "    .dataframe tbody tr th:only-of-type {\n",
              "        vertical-align: middle;\n",
              "    }\n",
              "\n",
              "    .dataframe tbody tr th {\n",
              "        vertical-align: top;\n",
              "    }\n",
              "\n",
              "    .dataframe thead th {\n",
              "        text-align: right;\n",
              "    }\n",
              "</style>\n",
              "<table border=\"1\" class=\"dataframe\">\n",
              "  <thead>\n",
              "    <tr style=\"text-align: right;\">\n",
              "      <th></th>\n",
              "      <th>0</th>\n",
              "      <th>1</th>\n",
              "      <th>2</th>\n",
              "      <th>3</th>\n",
              "    </tr>\n",
              "  </thead>\n",
              "  <tbody>\n",
              "    <tr>\n",
              "      <th>count</th>\n",
              "      <td>1000.000000</td>\n",
              "      <td>1000.000000</td>\n",
              "      <td>1000.000000</td>\n",
              "      <td>1000.000000</td>\n",
              "    </tr>\n",
              "    <tr>\n",
              "      <th>mean</th>\n",
              "      <td>0.010657</td>\n",
              "      <td>-0.015024</td>\n",
              "      <td>-0.056806</td>\n",
              "      <td>0.034618</td>\n",
              "    </tr>\n",
              "    <tr>\n",
              "      <th>std</th>\n",
              "      <td>1.002557</td>\n",
              "      <td>0.969248</td>\n",
              "      <td>1.001915</td>\n",
              "      <td>1.022570</td>\n",
              "    </tr>\n",
              "    <tr>\n",
              "      <th>min</th>\n",
              "      <td>-3.508448</td>\n",
              "      <td>-2.724578</td>\n",
              "      <td>-3.225916</td>\n",
              "      <td>-3.073728</td>\n",
              "    </tr>\n",
              "    <tr>\n",
              "      <th>30%</th>\n",
              "      <td>-0.545313</td>\n",
              "      <td>-0.531297</td>\n",
              "      <td>-0.606492</td>\n",
              "      <td>-0.466396</td>\n",
              "    </tr>\n",
              "    <tr>\n",
              "      <th>50%</th>\n",
              "      <td>0.027724</td>\n",
              "      <td>0.010214</td>\n",
              "      <td>-0.080875</td>\n",
              "      <td>0.081043</td>\n",
              "    </tr>\n",
              "    <tr>\n",
              "      <th>65%</th>\n",
              "      <td>0.379562</td>\n",
              "      <td>0.353727</td>\n",
              "      <td>0.310472</td>\n",
              "      <td>0.430661</td>\n",
              "    </tr>\n",
              "    <tr>\n",
              "      <th>90%</th>\n",
              "      <td>1.336181</td>\n",
              "      <td>1.208729</td>\n",
              "      <td>1.248520</td>\n",
              "      <td>1.388108</td>\n",
              "    </tr>\n",
              "    <tr>\n",
              "      <th>max</th>\n",
              "      <td>3.113495</td>\n",
              "      <td>3.039873</td>\n",
              "      <td>3.389719</td>\n",
              "      <td>3.004068</td>\n",
              "    </tr>\n",
              "  </tbody>\n",
              "</table>\n",
              "</div>"
            ],
            "text/plain": [
              "                 0            1            2            3\n",
              "count  1000.000000  1000.000000  1000.000000  1000.000000\n",
              "mean      0.010657    -0.015024    -0.056806     0.034618\n",
              "std       1.002557     0.969248     1.001915     1.022570\n",
              "min      -3.508448    -2.724578    -3.225916    -3.073728\n",
              "30%      -0.545313    -0.531297    -0.606492    -0.466396\n",
              "50%       0.027724     0.010214    -0.080875     0.081043\n",
              "65%       0.379562     0.353727     0.310472     0.430661\n",
              "90%       1.336181     1.208729     1.248520     1.388108\n",
              "max       3.113495     3.039873     3.389719     3.004068"
            ]
          },
          "metadata": {
            "tags": []
          },
          "execution_count": 40
        }
      ]
    },
    {
      "cell_type": "code",
      "metadata": {
        "id": "Jb_glSXt-3Tt",
        "outputId": "3b166c45-b962-4925-d07a-6e5393d30479"
      },
      "source": [
        "data.head(3)"
      ],
      "execution_count": null,
      "outputs": [
        {
          "output_type": "execute_result",
          "data": {
            "text/html": [
              "<div>\n",
              "<style scoped>\n",
              "    .dataframe tbody tr th:only-of-type {\n",
              "        vertical-align: middle;\n",
              "    }\n",
              "\n",
              "    .dataframe tbody tr th {\n",
              "        vertical-align: top;\n",
              "    }\n",
              "\n",
              "    .dataframe thead th {\n",
              "        text-align: right;\n",
              "    }\n",
              "</style>\n",
              "<table border=\"1\" class=\"dataframe\">\n",
              "  <thead>\n",
              "    <tr style=\"text-align: right;\">\n",
              "      <th></th>\n",
              "      <th>0</th>\n",
              "      <th>1</th>\n",
              "      <th>2</th>\n",
              "      <th>3</th>\n",
              "    </tr>\n",
              "  </thead>\n",
              "  <tbody>\n",
              "    <tr>\n",
              "      <th>0</th>\n",
              "      <td>0.136213</td>\n",
              "      <td>-0.578972</td>\n",
              "      <td>0.317842</td>\n",
              "      <td>0.148489</td>\n",
              "    </tr>\n",
              "    <tr>\n",
              "      <th>1</th>\n",
              "      <td>-0.555454</td>\n",
              "      <td>0.225452</td>\n",
              "      <td>1.523634</td>\n",
              "      <td>0.050186</td>\n",
              "    </tr>\n",
              "    <tr>\n",
              "      <th>2</th>\n",
              "      <td>-0.936539</td>\n",
              "      <td>-0.306852</td>\n",
              "      <td>-1.237556</td>\n",
              "      <td>1.013025</td>\n",
              "    </tr>\n",
              "  </tbody>\n",
              "</table>\n",
              "</div>"
            ],
            "text/plain": [
              "          0         1         2         3\n",
              "0  0.136213 -0.578972  0.317842  0.148489\n",
              "1 -0.555454  0.225452  1.523634  0.050186\n",
              "2 -0.936539 -0.306852 -1.237556  1.013025"
            ]
          },
          "metadata": {
            "tags": []
          },
          "execution_count": 42
        }
      ]
    },
    {
      "cell_type": "code",
      "metadata": {
        "id": "EI_mSD4X-3Tu",
        "outputId": "17808950-4926-4079-ea36-4cd5826aa9c5"
      },
      "source": [
        "col = data[2]\n",
        "col"
      ],
      "execution_count": null,
      "outputs": [
        {
          "output_type": "execute_result",
          "data": {
            "text/plain": [
              "0      0.317842\n",
              "1      1.523634\n",
              "2     -1.237556\n",
              "3     -0.464429\n",
              "4      1.233921\n",
              "         ...   \n",
              "995   -0.340222\n",
              "996    1.594724\n",
              "997    0.266799\n",
              "998   -1.436028\n",
              "999   -0.185855\n",
              "Name: 2, Length: 1000, dtype: float64"
            ]
          },
          "metadata": {
            "tags": []
          },
          "execution_count": 44
        }
      ]
    },
    {
      "cell_type": "code",
      "metadata": {
        "id": "Y15FBtUe-3Tu",
        "outputId": "ff5a4434-ec6f-46df-e520-943c867f0767"
      },
      "source": [
        "np.abs(col) > 3"
      ],
      "execution_count": null,
      "outputs": [
        {
          "output_type": "execute_result",
          "data": {
            "text/plain": [
              "0      False\n",
              "1      False\n",
              "2      False\n",
              "3      False\n",
              "4      False\n",
              "       ...  \n",
              "995    False\n",
              "996    False\n",
              "997    False\n",
              "998    False\n",
              "999    False\n",
              "Name: 2, Length: 1000, dtype: bool"
            ]
          },
          "metadata": {
            "tags": []
          },
          "execution_count": 45
        }
      ]
    },
    {
      "cell_type": "code",
      "metadata": {
        "id": "fXA9E08k-3Tu",
        "outputId": "81d910c6-b8eb-4ce6-909c-7b0462b22404"
      },
      "source": [
        "col[np.abs(col) > 3]"
      ],
      "execution_count": null,
      "outputs": [
        {
          "output_type": "execute_result",
          "data": {
            "text/plain": [
              "102   -3.225916\n",
              "236   -3.142539\n",
              "582    3.389719\n",
              "692   -3.066981\n",
              "890    3.153123\n",
              "Name: 2, dtype: float64"
            ]
          },
          "metadata": {
            "tags": []
          },
          "execution_count": 46
        }
      ]
    },
    {
      "cell_type": "code",
      "metadata": {
        "id": "iVFvDOMR-3Tv",
        "outputId": "ab40bb5c-2068-4f0a-ce4e-a4896d0126b9"
      },
      "source": [
        "data[(np.abs(data) > 3).any(1)]"
      ],
      "execution_count": null,
      "outputs": [
        {
          "output_type": "execute_result",
          "data": {
            "text/html": [
              "<div>\n",
              "<style scoped>\n",
              "    .dataframe tbody tr th:only-of-type {\n",
              "        vertical-align: middle;\n",
              "    }\n",
              "\n",
              "    .dataframe tbody tr th {\n",
              "        vertical-align: top;\n",
              "    }\n",
              "\n",
              "    .dataframe thead th {\n",
              "        text-align: right;\n",
              "    }\n",
              "</style>\n",
              "<table border=\"1\" class=\"dataframe\">\n",
              "  <thead>\n",
              "    <tr style=\"text-align: right;\">\n",
              "      <th></th>\n",
              "      <th>0</th>\n",
              "      <th>1</th>\n",
              "      <th>2</th>\n",
              "      <th>3</th>\n",
              "    </tr>\n",
              "  </thead>\n",
              "  <tbody>\n",
              "    <tr>\n",
              "      <th>94</th>\n",
              "      <td>-0.205259</td>\n",
              "      <td>0.202534</td>\n",
              "      <td>-1.589346</td>\n",
              "      <td>-3.073728</td>\n",
              "    </tr>\n",
              "    <tr>\n",
              "      <th>102</th>\n",
              "      <td>-0.816806</td>\n",
              "      <td>0.024818</td>\n",
              "      <td>-3.225916</td>\n",
              "      <td>-1.100430</td>\n",
              "    </tr>\n",
              "    <tr>\n",
              "      <th>236</th>\n",
              "      <td>-0.004916</td>\n",
              "      <td>-0.256640</td>\n",
              "      <td>-3.142539</td>\n",
              "      <td>-1.227206</td>\n",
              "    </tr>\n",
              "    <tr>\n",
              "      <th>501</th>\n",
              "      <td>3.113495</td>\n",
              "      <td>0.837764</td>\n",
              "      <td>2.257483</td>\n",
              "      <td>-2.034352</td>\n",
              "    </tr>\n",
              "    <tr>\n",
              "      <th>509</th>\n",
              "      <td>0.421278</td>\n",
              "      <td>-1.110583</td>\n",
              "      <td>-1.314896</td>\n",
              "      <td>3.004068</td>\n",
              "    </tr>\n",
              "    <tr>\n",
              "      <th>582</th>\n",
              "      <td>-2.436584</td>\n",
              "      <td>-0.095799</td>\n",
              "      <td>3.389719</td>\n",
              "      <td>0.412250</td>\n",
              "    </tr>\n",
              "    <tr>\n",
              "      <th>666</th>\n",
              "      <td>-3.089560</td>\n",
              "      <td>0.898763</td>\n",
              "      <td>-0.837477</td>\n",
              "      <td>-0.694483</td>\n",
              "    </tr>\n",
              "    <tr>\n",
              "      <th>692</th>\n",
              "      <td>-0.655538</td>\n",
              "      <td>-0.718596</td>\n",
              "      <td>-3.066981</td>\n",
              "      <td>-0.451568</td>\n",
              "    </tr>\n",
              "    <tr>\n",
              "      <th>707</th>\n",
              "      <td>0.360827</td>\n",
              "      <td>3.039873</td>\n",
              "      <td>-0.736824</td>\n",
              "      <td>-0.174840</td>\n",
              "    </tr>\n",
              "    <tr>\n",
              "      <th>729</th>\n",
              "      <td>-3.508448</td>\n",
              "      <td>-1.505830</td>\n",
              "      <td>0.006500</td>\n",
              "      <td>-1.552008</td>\n",
              "    </tr>\n",
              "    <tr>\n",
              "      <th>890</th>\n",
              "      <td>0.623477</td>\n",
              "      <td>0.357085</td>\n",
              "      <td>3.153123</td>\n",
              "      <td>0.550348</td>\n",
              "    </tr>\n",
              "  </tbody>\n",
              "</table>\n",
              "</div>"
            ],
            "text/plain": [
              "            0         1         2         3\n",
              "94  -0.205259  0.202534 -1.589346 -3.073728\n",
              "102 -0.816806  0.024818 -3.225916 -1.100430\n",
              "236 -0.004916 -0.256640 -3.142539 -1.227206\n",
              "501  3.113495  0.837764  2.257483 -2.034352\n",
              "509  0.421278 -1.110583 -1.314896  3.004068\n",
              "582 -2.436584 -0.095799  3.389719  0.412250\n",
              "666 -3.089560  0.898763 -0.837477 -0.694483\n",
              "692 -0.655538 -0.718596 -3.066981 -0.451568\n",
              "707  0.360827  3.039873 -0.736824 -0.174840\n",
              "729 -3.508448 -1.505830  0.006500 -1.552008\n",
              "890  0.623477  0.357085  3.153123  0.550348"
            ]
          },
          "metadata": {
            "tags": []
          },
          "execution_count": 47
        }
      ]
    },
    {
      "cell_type": "code",
      "metadata": {
        "id": "ZrnsJH1E-3Tv",
        "outputId": "68928d5f-248d-4cc1-ef05-d747c8948943"
      },
      "source": [
        "data[np.abs(data) > 3] = np.sign(data) * 3\n",
        "data[94:95]"
      ],
      "execution_count": null,
      "outputs": [
        {
          "output_type": "execute_result",
          "data": {
            "text/html": [
              "<div>\n",
              "<style scoped>\n",
              "    .dataframe tbody tr th:only-of-type {\n",
              "        vertical-align: middle;\n",
              "    }\n",
              "\n",
              "    .dataframe tbody tr th {\n",
              "        vertical-align: top;\n",
              "    }\n",
              "\n",
              "    .dataframe thead th {\n",
              "        text-align: right;\n",
              "    }\n",
              "</style>\n",
              "<table border=\"1\" class=\"dataframe\">\n",
              "  <thead>\n",
              "    <tr style=\"text-align: right;\">\n",
              "      <th></th>\n",
              "      <th>0</th>\n",
              "      <th>1</th>\n",
              "      <th>2</th>\n",
              "      <th>3</th>\n",
              "    </tr>\n",
              "  </thead>\n",
              "  <tbody>\n",
              "    <tr>\n",
              "      <th>94</th>\n",
              "      <td>-0.205259</td>\n",
              "      <td>0.202534</td>\n",
              "      <td>-1.589346</td>\n",
              "      <td>-3.0</td>\n",
              "    </tr>\n",
              "  </tbody>\n",
              "</table>\n",
              "</div>"
            ],
            "text/plain": [
              "           0         1         2    3\n",
              "94 -0.205259  0.202534 -1.589346 -3.0"
            ]
          },
          "metadata": {
            "tags": []
          },
          "execution_count": 49
        }
      ]
    },
    {
      "cell_type": "code",
      "metadata": {
        "id": "ZcjdsL5K-3Tv",
        "outputId": "2bfc4eb2-2842-44ea-9589-40cefb17eb7d"
      },
      "source": [
        "data[(np.abs(data) > 3).any(1)]"
      ],
      "execution_count": null,
      "outputs": [
        {
          "output_type": "execute_result",
          "data": {
            "text/html": [
              "<div>\n",
              "<style scoped>\n",
              "    .dataframe tbody tr th:only-of-type {\n",
              "        vertical-align: middle;\n",
              "    }\n",
              "\n",
              "    .dataframe tbody tr th {\n",
              "        vertical-align: top;\n",
              "    }\n",
              "\n",
              "    .dataframe thead th {\n",
              "        text-align: right;\n",
              "    }\n",
              "</style>\n",
              "<table border=\"1\" class=\"dataframe\">\n",
              "  <thead>\n",
              "    <tr style=\"text-align: right;\">\n",
              "      <th></th>\n",
              "      <th>0</th>\n",
              "      <th>1</th>\n",
              "      <th>2</th>\n",
              "      <th>3</th>\n",
              "    </tr>\n",
              "  </thead>\n",
              "  <tbody>\n",
              "  </tbody>\n",
              "</table>\n",
              "</div>"
            ],
            "text/plain": [
              "Empty DataFrame\n",
              "Columns: [0, 1, 2, 3]\n",
              "Index: []"
            ]
          },
          "metadata": {
            "tags": []
          },
          "execution_count": 50
        }
      ]
    },
    {
      "cell_type": "code",
      "metadata": {
        "id": "8iNWD-ot-3Tv",
        "outputId": "0bb6e007-6b5e-40b3-8b8c-e9d97cab8b15"
      },
      "source": [
        "data.describe()"
      ],
      "execution_count": null,
      "outputs": [
        {
          "output_type": "execute_result",
          "data": {
            "text/html": [
              "<div>\n",
              "<style scoped>\n",
              "    .dataframe tbody tr th:only-of-type {\n",
              "        vertical-align: middle;\n",
              "    }\n",
              "\n",
              "    .dataframe tbody tr th {\n",
              "        vertical-align: top;\n",
              "    }\n",
              "\n",
              "    .dataframe thead th {\n",
              "        text-align: right;\n",
              "    }\n",
              "</style>\n",
              "<table border=\"1\" class=\"dataframe\">\n",
              "  <thead>\n",
              "    <tr style=\"text-align: right;\">\n",
              "      <th></th>\n",
              "      <th>0</th>\n",
              "      <th>1</th>\n",
              "      <th>2</th>\n",
              "      <th>3</th>\n",
              "    </tr>\n",
              "  </thead>\n",
              "  <tbody>\n",
              "    <tr>\n",
              "      <th>count</th>\n",
              "      <td>1000.000000</td>\n",
              "      <td>1000.000000</td>\n",
              "      <td>1000.000000</td>\n",
              "      <td>1000.000000</td>\n",
              "    </tr>\n",
              "    <tr>\n",
              "      <th>mean</th>\n",
              "      <td>0.011142</td>\n",
              "      <td>-0.015064</td>\n",
              "      <td>-0.056913</td>\n",
              "      <td>0.034687</td>\n",
              "    </tr>\n",
              "    <tr>\n",
              "      <th>std</th>\n",
              "      <td>1.000279</td>\n",
              "      <td>0.969123</td>\n",
              "      <td>0.998846</td>\n",
              "      <td>1.022336</td>\n",
              "    </tr>\n",
              "    <tr>\n",
              "      <th>min</th>\n",
              "      <td>-3.000000</td>\n",
              "      <td>-2.724578</td>\n",
              "      <td>-3.000000</td>\n",
              "      <td>-3.000000</td>\n",
              "    </tr>\n",
              "    <tr>\n",
              "      <th>25%</th>\n",
              "      <td>-0.680621</td>\n",
              "      <td>-0.684548</td>\n",
              "      <td>-0.764757</td>\n",
              "      <td>-0.692878</td>\n",
              "    </tr>\n",
              "    <tr>\n",
              "      <th>50%</th>\n",
              "      <td>0.027724</td>\n",
              "      <td>0.010214</td>\n",
              "      <td>-0.080875</td>\n",
              "      <td>0.081043</td>\n",
              "    </tr>\n",
              "    <tr>\n",
              "      <th>75%</th>\n",
              "      <td>0.702418</td>\n",
              "      <td>0.665785</td>\n",
              "      <td>0.613148</td>\n",
              "      <td>0.733907</td>\n",
              "    </tr>\n",
              "    <tr>\n",
              "      <th>max</th>\n",
              "      <td>3.000000</td>\n",
              "      <td>3.000000</td>\n",
              "      <td>3.000000</td>\n",
              "      <td>3.000000</td>\n",
              "    </tr>\n",
              "  </tbody>\n",
              "</table>\n",
              "</div>"
            ],
            "text/plain": [
              "                 0            1            2            3\n",
              "count  1000.000000  1000.000000  1000.000000  1000.000000\n",
              "mean      0.011142    -0.015064    -0.056913     0.034687\n",
              "std       1.000279     0.969123     0.998846     1.022336\n",
              "min      -3.000000    -2.724578    -3.000000    -3.000000\n",
              "25%      -0.680621    -0.684548    -0.764757    -0.692878\n",
              "50%       0.027724     0.010214    -0.080875     0.081043\n",
              "75%       0.702418     0.665785     0.613148     0.733907\n",
              "max       3.000000     3.000000     3.000000     3.000000"
            ]
          },
          "metadata": {
            "tags": []
          },
          "execution_count": 51
        }
      ]
    },
    {
      "cell_type": "code",
      "metadata": {
        "id": "1j92qpBj-3Tw",
        "outputId": "302cac6a-73b1-48cd-f23d-2095b8ba74d2"
      },
      "source": [
        "np.sign(data).head()"
      ],
      "execution_count": null,
      "outputs": [
        {
          "output_type": "execute_result",
          "data": {
            "text/html": [
              "<div>\n",
              "<style scoped>\n",
              "    .dataframe tbody tr th:only-of-type {\n",
              "        vertical-align: middle;\n",
              "    }\n",
              "\n",
              "    .dataframe tbody tr th {\n",
              "        vertical-align: top;\n",
              "    }\n",
              "\n",
              "    .dataframe thead th {\n",
              "        text-align: right;\n",
              "    }\n",
              "</style>\n",
              "<table border=\"1\" class=\"dataframe\">\n",
              "  <thead>\n",
              "    <tr style=\"text-align: right;\">\n",
              "      <th></th>\n",
              "      <th>0</th>\n",
              "      <th>1</th>\n",
              "      <th>2</th>\n",
              "      <th>3</th>\n",
              "    </tr>\n",
              "  </thead>\n",
              "  <tbody>\n",
              "    <tr>\n",
              "      <th>0</th>\n",
              "      <td>1.0</td>\n",
              "      <td>-1.0</td>\n",
              "      <td>1.0</td>\n",
              "      <td>1.0</td>\n",
              "    </tr>\n",
              "    <tr>\n",
              "      <th>1</th>\n",
              "      <td>-1.0</td>\n",
              "      <td>1.0</td>\n",
              "      <td>1.0</td>\n",
              "      <td>1.0</td>\n",
              "    </tr>\n",
              "    <tr>\n",
              "      <th>2</th>\n",
              "      <td>-1.0</td>\n",
              "      <td>-1.0</td>\n",
              "      <td>-1.0</td>\n",
              "      <td>1.0</td>\n",
              "    </tr>\n",
              "    <tr>\n",
              "      <th>3</th>\n",
              "      <td>1.0</td>\n",
              "      <td>1.0</td>\n",
              "      <td>-1.0</td>\n",
              "      <td>1.0</td>\n",
              "    </tr>\n",
              "    <tr>\n",
              "      <th>4</th>\n",
              "      <td>-1.0</td>\n",
              "      <td>1.0</td>\n",
              "      <td>1.0</td>\n",
              "      <td>-1.0</td>\n",
              "    </tr>\n",
              "  </tbody>\n",
              "</table>\n",
              "</div>"
            ],
            "text/plain": [
              "     0    1    2    3\n",
              "0  1.0 -1.0  1.0  1.0\n",
              "1 -1.0  1.0  1.0  1.0\n",
              "2 -1.0 -1.0 -1.0  1.0\n",
              "3  1.0  1.0 -1.0  1.0\n",
              "4 -1.0  1.0  1.0 -1.0"
            ]
          },
          "metadata": {
            "tags": []
          },
          "execution_count": 52
        }
      ]
    },
    {
      "cell_type": "markdown",
      "metadata": {
        "id": "1YT70QJ1-3Tw"
      },
      "source": [
        "### Permutation and Random Sampling"
      ]
    },
    {
      "cell_type": "code",
      "metadata": {
        "id": "Z4nYPjFN-3Tw",
        "outputId": "050ceff6-49fa-4e8c-aa91-d40455ae7c10"
      },
      "source": [
        "df = pd.DataFrame(np.arange(5 * 4).reshape((5, 4)))\n",
        "df"
      ],
      "execution_count": null,
      "outputs": [
        {
          "output_type": "execute_result",
          "data": {
            "text/html": [
              "<div>\n",
              "<style scoped>\n",
              "    .dataframe tbody tr th:only-of-type {\n",
              "        vertical-align: middle;\n",
              "    }\n",
              "\n",
              "    .dataframe tbody tr th {\n",
              "        vertical-align: top;\n",
              "    }\n",
              "\n",
              "    .dataframe thead th {\n",
              "        text-align: right;\n",
              "    }\n",
              "</style>\n",
              "<table border=\"1\" class=\"dataframe\">\n",
              "  <thead>\n",
              "    <tr style=\"text-align: right;\">\n",
              "      <th></th>\n",
              "      <th>0</th>\n",
              "      <th>1</th>\n",
              "      <th>2</th>\n",
              "      <th>3</th>\n",
              "    </tr>\n",
              "  </thead>\n",
              "  <tbody>\n",
              "    <tr>\n",
              "      <th>0</th>\n",
              "      <td>0</td>\n",
              "      <td>1</td>\n",
              "      <td>2</td>\n",
              "      <td>3</td>\n",
              "    </tr>\n",
              "    <tr>\n",
              "      <th>1</th>\n",
              "      <td>4</td>\n",
              "      <td>5</td>\n",
              "      <td>6</td>\n",
              "      <td>7</td>\n",
              "    </tr>\n",
              "    <tr>\n",
              "      <th>2</th>\n",
              "      <td>8</td>\n",
              "      <td>9</td>\n",
              "      <td>10</td>\n",
              "      <td>11</td>\n",
              "    </tr>\n",
              "    <tr>\n",
              "      <th>3</th>\n",
              "      <td>12</td>\n",
              "      <td>13</td>\n",
              "      <td>14</td>\n",
              "      <td>15</td>\n",
              "    </tr>\n",
              "    <tr>\n",
              "      <th>4</th>\n",
              "      <td>16</td>\n",
              "      <td>17</td>\n",
              "      <td>18</td>\n",
              "      <td>19</td>\n",
              "    </tr>\n",
              "  </tbody>\n",
              "</table>\n",
              "</div>"
            ],
            "text/plain": [
              "    0   1   2   3\n",
              "0   0   1   2   3\n",
              "1   4   5   6   7\n",
              "2   8   9  10  11\n",
              "3  12  13  14  15\n",
              "4  16  17  18  19"
            ]
          },
          "metadata": {
            "tags": []
          },
          "execution_count": 53
        }
      ]
    },
    {
      "cell_type": "code",
      "metadata": {
        "id": "FJhh2APc-3Tx",
        "outputId": "465f24d4-9a4b-4438-97b3-146c7e80f9ad"
      },
      "source": [
        "sampler = np.random.permutation(5) #0~4의 임의의 순서 조합을 하나 반환\n",
        "sampler"
      ],
      "execution_count": null,
      "outputs": [
        {
          "output_type": "execute_result",
          "data": {
            "text/plain": [
              "array([3, 2, 0, 1, 4])"
            ]
          },
          "metadata": {
            "tags": []
          },
          "execution_count": 56
        }
      ]
    },
    {
      "cell_type": "code",
      "metadata": {
        "id": "U7IlW_Pw-3Tx",
        "outputId": "9c221d85-d9bf-435e-b512-0c01a7de90ac"
      },
      "source": [
        "df.take(sampler) #행 순서를 수정"
      ],
      "execution_count": null,
      "outputs": [
        {
          "output_type": "execute_result",
          "data": {
            "text/html": [
              "<div>\n",
              "<style scoped>\n",
              "    .dataframe tbody tr th:only-of-type {\n",
              "        vertical-align: middle;\n",
              "    }\n",
              "\n",
              "    .dataframe tbody tr th {\n",
              "        vertical-align: top;\n",
              "    }\n",
              "\n",
              "    .dataframe thead th {\n",
              "        text-align: right;\n",
              "    }\n",
              "</style>\n",
              "<table border=\"1\" class=\"dataframe\">\n",
              "  <thead>\n",
              "    <tr style=\"text-align: right;\">\n",
              "      <th></th>\n",
              "      <th>0</th>\n",
              "      <th>1</th>\n",
              "      <th>2</th>\n",
              "      <th>3</th>\n",
              "    </tr>\n",
              "  </thead>\n",
              "  <tbody>\n",
              "    <tr>\n",
              "      <th>3</th>\n",
              "      <td>12</td>\n",
              "      <td>13</td>\n",
              "      <td>14</td>\n",
              "      <td>15</td>\n",
              "    </tr>\n",
              "    <tr>\n",
              "      <th>2</th>\n",
              "      <td>8</td>\n",
              "      <td>9</td>\n",
              "      <td>10</td>\n",
              "      <td>11</td>\n",
              "    </tr>\n",
              "    <tr>\n",
              "      <th>0</th>\n",
              "      <td>0</td>\n",
              "      <td>1</td>\n",
              "      <td>2</td>\n",
              "      <td>3</td>\n",
              "    </tr>\n",
              "    <tr>\n",
              "      <th>1</th>\n",
              "      <td>4</td>\n",
              "      <td>5</td>\n",
              "      <td>6</td>\n",
              "      <td>7</td>\n",
              "    </tr>\n",
              "    <tr>\n",
              "      <th>4</th>\n",
              "      <td>16</td>\n",
              "      <td>17</td>\n",
              "      <td>18</td>\n",
              "      <td>19</td>\n",
              "    </tr>\n",
              "  </tbody>\n",
              "</table>\n",
              "</div>"
            ],
            "text/plain": [
              "    0   1   2   3\n",
              "3  12  13  14  15\n",
              "2   8   9  10  11\n",
              "0   0   1   2   3\n",
              "1   4   5   6   7\n",
              "4  16  17  18  19"
            ]
          },
          "metadata": {
            "tags": []
          },
          "execution_count": 57
        }
      ]
    },
    {
      "cell_type": "code",
      "metadata": {
        "id": "BVybsgYY-3Tx",
        "outputId": "1b660a6e-4bc4-4da8-a66b-e51211f4d912"
      },
      "source": [
        "df"
      ],
      "execution_count": null,
      "outputs": [
        {
          "output_type": "execute_result",
          "data": {
            "text/html": [
              "<div>\n",
              "<style scoped>\n",
              "    .dataframe tbody tr th:only-of-type {\n",
              "        vertical-align: middle;\n",
              "    }\n",
              "\n",
              "    .dataframe tbody tr th {\n",
              "        vertical-align: top;\n",
              "    }\n",
              "\n",
              "    .dataframe thead th {\n",
              "        text-align: right;\n",
              "    }\n",
              "</style>\n",
              "<table border=\"1\" class=\"dataframe\">\n",
              "  <thead>\n",
              "    <tr style=\"text-align: right;\">\n",
              "      <th></th>\n",
              "      <th>0</th>\n",
              "      <th>1</th>\n",
              "      <th>2</th>\n",
              "      <th>3</th>\n",
              "    </tr>\n",
              "  </thead>\n",
              "  <tbody>\n",
              "    <tr>\n",
              "      <th>0</th>\n",
              "      <td>0</td>\n",
              "      <td>1</td>\n",
              "      <td>2</td>\n",
              "      <td>3</td>\n",
              "    </tr>\n",
              "    <tr>\n",
              "      <th>1</th>\n",
              "      <td>4</td>\n",
              "      <td>5</td>\n",
              "      <td>6</td>\n",
              "      <td>7</td>\n",
              "    </tr>\n",
              "    <tr>\n",
              "      <th>2</th>\n",
              "      <td>8</td>\n",
              "      <td>9</td>\n",
              "      <td>10</td>\n",
              "      <td>11</td>\n",
              "    </tr>\n",
              "    <tr>\n",
              "      <th>3</th>\n",
              "      <td>12</td>\n",
              "      <td>13</td>\n",
              "      <td>14</td>\n",
              "      <td>15</td>\n",
              "    </tr>\n",
              "    <tr>\n",
              "      <th>4</th>\n",
              "      <td>16</td>\n",
              "      <td>17</td>\n",
              "      <td>18</td>\n",
              "      <td>19</td>\n",
              "    </tr>\n",
              "  </tbody>\n",
              "</table>\n",
              "</div>"
            ],
            "text/plain": [
              "    0   1   2   3\n",
              "0   0   1   2   3\n",
              "1   4   5   6   7\n",
              "2   8   9  10  11\n",
              "3  12  13  14  15\n",
              "4  16  17  18  19"
            ]
          },
          "metadata": {
            "tags": []
          },
          "execution_count": 58
        }
      ]
    },
    {
      "cell_type": "code",
      "metadata": {
        "id": "i2ZFFXfo-3Tx",
        "outputId": "d56043c8-1ecc-4fb9-b51b-8d2e832a5d93"
      },
      "source": [
        "df.sample(n=3)"
      ],
      "execution_count": null,
      "outputs": [
        {
          "output_type": "execute_result",
          "data": {
            "text/html": [
              "<div>\n",
              "<style scoped>\n",
              "    .dataframe tbody tr th:only-of-type {\n",
              "        vertical-align: middle;\n",
              "    }\n",
              "\n",
              "    .dataframe tbody tr th {\n",
              "        vertical-align: top;\n",
              "    }\n",
              "\n",
              "    .dataframe thead th {\n",
              "        text-align: right;\n",
              "    }\n",
              "</style>\n",
              "<table border=\"1\" class=\"dataframe\">\n",
              "  <thead>\n",
              "    <tr style=\"text-align: right;\">\n",
              "      <th></th>\n",
              "      <th>0</th>\n",
              "      <th>1</th>\n",
              "      <th>2</th>\n",
              "      <th>3</th>\n",
              "    </tr>\n",
              "  </thead>\n",
              "  <tbody>\n",
              "    <tr>\n",
              "      <th>0</th>\n",
              "      <td>0</td>\n",
              "      <td>1</td>\n",
              "      <td>2</td>\n",
              "      <td>3</td>\n",
              "    </tr>\n",
              "    <tr>\n",
              "      <th>3</th>\n",
              "      <td>12</td>\n",
              "      <td>13</td>\n",
              "      <td>14</td>\n",
              "      <td>15</td>\n",
              "    </tr>\n",
              "    <tr>\n",
              "      <th>4</th>\n",
              "      <td>16</td>\n",
              "      <td>17</td>\n",
              "      <td>18</td>\n",
              "      <td>19</td>\n",
              "    </tr>\n",
              "  </tbody>\n",
              "</table>\n",
              "</div>"
            ],
            "text/plain": [
              "    0   1   2   3\n",
              "0   0   1   2   3\n",
              "3  12  13  14  15\n",
              "4  16  17  18  19"
            ]
          },
          "metadata": {
            "tags": []
          },
          "execution_count": 61
        }
      ]
    },
    {
      "cell_type": "code",
      "metadata": {
        "id": "IqRUOTV--3Tx",
        "outputId": "97533f2d-1d5a-46b0-abae-e9a9f3d292c9"
      },
      "source": [
        "choices = pd.Series([5, 7, -1, 6, 4])\n",
        "choices"
      ],
      "execution_count": null,
      "outputs": [
        {
          "output_type": "execute_result",
          "data": {
            "text/plain": [
              "0    5\n",
              "1    7\n",
              "2   -1\n",
              "3    6\n",
              "4    4\n",
              "dtype: int64"
            ]
          },
          "metadata": {
            "tags": []
          },
          "execution_count": 62
        }
      ]
    },
    {
      "cell_type": "code",
      "metadata": {
        "id": "cF-CTmFM-3Ty",
        "outputId": "8cb6823d-1bfc-4e34-91cd-8592d91889a8"
      },
      "source": [
        "draws = choices.sample(n=10, replace=True)\n",
        "#draws = choices.sample(n=10) 오류 발생\n",
        "draws"
      ],
      "execution_count": null,
      "outputs": [
        {
          "output_type": "execute_result",
          "data": {
            "text/plain": [
              "2   -1\n",
              "3    6\n",
              "3    6\n",
              "3    6\n",
              "0    5\n",
              "1    7\n",
              "0    5\n",
              "2   -1\n",
              "1    7\n",
              "3    6\n",
              "dtype: int64"
            ]
          },
          "metadata": {
            "tags": []
          },
          "execution_count": 63
        }
      ]
    },
    {
      "cell_type": "code",
      "metadata": {
        "id": "LV0TmuxC-3Ty",
        "outputId": "9cb54e6e-398e-44cc-917f-dd1993698f9e"
      },
      "source": [
        "choices"
      ],
      "execution_count": null,
      "outputs": [
        {
          "output_type": "execute_result",
          "data": {
            "text/plain": [
              "0    5\n",
              "1    7\n",
              "2   -1\n",
              "3    6\n",
              "4    4\n",
              "dtype: int64"
            ]
          },
          "metadata": {
            "tags": []
          },
          "execution_count": 64
        }
      ]
    },
    {
      "cell_type": "markdown",
      "metadata": {
        "id": "AtZY462K-3Ty"
      },
      "source": [
        "### Computing Indicator/Dummy Variables"
      ]
    },
    {
      "cell_type": "code",
      "metadata": {
        "id": "ArvZt8Nw-3Ty",
        "outputId": "f822b992-acaa-4260-f461-56f88cda107f"
      },
      "source": [
        "df = pd.DataFrame({'key': ['b', 'b', 'a', 'c', 'a', 'b'],\n",
        "                   'data1': range(6)})\n",
        "df"
      ],
      "execution_count": null,
      "outputs": [
        {
          "output_type": "execute_result",
          "data": {
            "text/html": [
              "<div>\n",
              "<style scoped>\n",
              "    .dataframe tbody tr th:only-of-type {\n",
              "        vertical-align: middle;\n",
              "    }\n",
              "\n",
              "    .dataframe tbody tr th {\n",
              "        vertical-align: top;\n",
              "    }\n",
              "\n",
              "    .dataframe thead th {\n",
              "        text-align: right;\n",
              "    }\n",
              "</style>\n",
              "<table border=\"1\" class=\"dataframe\">\n",
              "  <thead>\n",
              "    <tr style=\"text-align: right;\">\n",
              "      <th></th>\n",
              "      <th>key</th>\n",
              "      <th>data1</th>\n",
              "    </tr>\n",
              "  </thead>\n",
              "  <tbody>\n",
              "    <tr>\n",
              "      <th>0</th>\n",
              "      <td>b</td>\n",
              "      <td>0</td>\n",
              "    </tr>\n",
              "    <tr>\n",
              "      <th>1</th>\n",
              "      <td>b</td>\n",
              "      <td>1</td>\n",
              "    </tr>\n",
              "    <tr>\n",
              "      <th>2</th>\n",
              "      <td>a</td>\n",
              "      <td>2</td>\n",
              "    </tr>\n",
              "    <tr>\n",
              "      <th>3</th>\n",
              "      <td>c</td>\n",
              "      <td>3</td>\n",
              "    </tr>\n",
              "    <tr>\n",
              "      <th>4</th>\n",
              "      <td>a</td>\n",
              "      <td>4</td>\n",
              "    </tr>\n",
              "    <tr>\n",
              "      <th>5</th>\n",
              "      <td>b</td>\n",
              "      <td>5</td>\n",
              "    </tr>\n",
              "  </tbody>\n",
              "</table>\n",
              "</div>"
            ],
            "text/plain": [
              "  key  data1\n",
              "0   b      0\n",
              "1   b      1\n",
              "2   a      2\n",
              "3   c      3\n",
              "4   a      4\n",
              "5   b      5"
            ]
          },
          "metadata": {
            "tags": []
          },
          "execution_count": 65
        }
      ]
    },
    {
      "cell_type": "code",
      "metadata": {
        "id": "Ynvrp4Mq-3Ty",
        "outputId": "d2faf1a2-b0d8-4583-fef7-a4b3e9101af8"
      },
      "source": [
        "pd.get_dummies(df['key'])"
      ],
      "execution_count": null,
      "outputs": [
        {
          "output_type": "execute_result",
          "data": {
            "text/html": [
              "<div>\n",
              "<style scoped>\n",
              "    .dataframe tbody tr th:only-of-type {\n",
              "        vertical-align: middle;\n",
              "    }\n",
              "\n",
              "    .dataframe tbody tr th {\n",
              "        vertical-align: top;\n",
              "    }\n",
              "\n",
              "    .dataframe thead th {\n",
              "        text-align: right;\n",
              "    }\n",
              "</style>\n",
              "<table border=\"1\" class=\"dataframe\">\n",
              "  <thead>\n",
              "    <tr style=\"text-align: right;\">\n",
              "      <th></th>\n",
              "      <th>a</th>\n",
              "      <th>b</th>\n",
              "      <th>c</th>\n",
              "    </tr>\n",
              "  </thead>\n",
              "  <tbody>\n",
              "    <tr>\n",
              "      <th>0</th>\n",
              "      <td>0</td>\n",
              "      <td>1</td>\n",
              "      <td>0</td>\n",
              "    </tr>\n",
              "    <tr>\n",
              "      <th>1</th>\n",
              "      <td>0</td>\n",
              "      <td>1</td>\n",
              "      <td>0</td>\n",
              "    </tr>\n",
              "    <tr>\n",
              "      <th>2</th>\n",
              "      <td>1</td>\n",
              "      <td>0</td>\n",
              "      <td>0</td>\n",
              "    </tr>\n",
              "    <tr>\n",
              "      <th>3</th>\n",
              "      <td>0</td>\n",
              "      <td>0</td>\n",
              "      <td>1</td>\n",
              "    </tr>\n",
              "    <tr>\n",
              "      <th>4</th>\n",
              "      <td>1</td>\n",
              "      <td>0</td>\n",
              "      <td>0</td>\n",
              "    </tr>\n",
              "    <tr>\n",
              "      <th>5</th>\n",
              "      <td>0</td>\n",
              "      <td>1</td>\n",
              "      <td>0</td>\n",
              "    </tr>\n",
              "  </tbody>\n",
              "</table>\n",
              "</div>"
            ],
            "text/plain": [
              "   a  b  c\n",
              "0  0  1  0\n",
              "1  0  1  0\n",
              "2  1  0  0\n",
              "3  0  0  1\n",
              "4  1  0  0\n",
              "5  0  1  0"
            ]
          },
          "metadata": {
            "tags": []
          },
          "execution_count": 66
        }
      ]
    },
    {
      "cell_type": "code",
      "metadata": {
        "id": "Em-KJQwd-3Tz",
        "outputId": "35ec352b-efee-417f-a7cb-99e0cd406612"
      },
      "source": [
        "pd.get_dummies(df['data1'])"
      ],
      "execution_count": null,
      "outputs": [
        {
          "output_type": "execute_result",
          "data": {
            "text/html": [
              "<div>\n",
              "<style scoped>\n",
              "    .dataframe tbody tr th:only-of-type {\n",
              "        vertical-align: middle;\n",
              "    }\n",
              "\n",
              "    .dataframe tbody tr th {\n",
              "        vertical-align: top;\n",
              "    }\n",
              "\n",
              "    .dataframe thead th {\n",
              "        text-align: right;\n",
              "    }\n",
              "</style>\n",
              "<table border=\"1\" class=\"dataframe\">\n",
              "  <thead>\n",
              "    <tr style=\"text-align: right;\">\n",
              "      <th></th>\n",
              "      <th>0</th>\n",
              "      <th>1</th>\n",
              "      <th>2</th>\n",
              "      <th>3</th>\n",
              "      <th>4</th>\n",
              "      <th>5</th>\n",
              "    </tr>\n",
              "  </thead>\n",
              "  <tbody>\n",
              "    <tr>\n",
              "      <th>0</th>\n",
              "      <td>1</td>\n",
              "      <td>0</td>\n",
              "      <td>0</td>\n",
              "      <td>0</td>\n",
              "      <td>0</td>\n",
              "      <td>0</td>\n",
              "    </tr>\n",
              "    <tr>\n",
              "      <th>1</th>\n",
              "      <td>0</td>\n",
              "      <td>1</td>\n",
              "      <td>0</td>\n",
              "      <td>0</td>\n",
              "      <td>0</td>\n",
              "      <td>0</td>\n",
              "    </tr>\n",
              "    <tr>\n",
              "      <th>2</th>\n",
              "      <td>0</td>\n",
              "      <td>0</td>\n",
              "      <td>1</td>\n",
              "      <td>0</td>\n",
              "      <td>0</td>\n",
              "      <td>0</td>\n",
              "    </tr>\n",
              "    <tr>\n",
              "      <th>3</th>\n",
              "      <td>0</td>\n",
              "      <td>0</td>\n",
              "      <td>0</td>\n",
              "      <td>1</td>\n",
              "      <td>0</td>\n",
              "      <td>0</td>\n",
              "    </tr>\n",
              "    <tr>\n",
              "      <th>4</th>\n",
              "      <td>0</td>\n",
              "      <td>0</td>\n",
              "      <td>0</td>\n",
              "      <td>0</td>\n",
              "      <td>1</td>\n",
              "      <td>0</td>\n",
              "    </tr>\n",
              "    <tr>\n",
              "      <th>5</th>\n",
              "      <td>0</td>\n",
              "      <td>0</td>\n",
              "      <td>0</td>\n",
              "      <td>0</td>\n",
              "      <td>0</td>\n",
              "      <td>1</td>\n",
              "    </tr>\n",
              "  </tbody>\n",
              "</table>\n",
              "</div>"
            ],
            "text/plain": [
              "   0  1  2  3  4  5\n",
              "0  1  0  0  0  0  0\n",
              "1  0  1  0  0  0  0\n",
              "2  0  0  1  0  0  0\n",
              "3  0  0  0  1  0  0\n",
              "4  0  0  0  0  1  0\n",
              "5  0  0  0  0  0  1"
            ]
          },
          "metadata": {
            "tags": []
          },
          "execution_count": 67
        }
      ]
    },
    {
      "cell_type": "code",
      "metadata": {
        "id": "qvCS94Me-3Tz",
        "outputId": "f8a88a05-ad50-4e8a-9cb6-3400893b8c76"
      },
      "source": [
        "dummies = pd.get_dummies(df['key'], prefix='key')\n",
        "dummies"
      ],
      "execution_count": null,
      "outputs": [
        {
          "output_type": "execute_result",
          "data": {
            "text/html": [
              "<div>\n",
              "<style scoped>\n",
              "    .dataframe tbody tr th:only-of-type {\n",
              "        vertical-align: middle;\n",
              "    }\n",
              "\n",
              "    .dataframe tbody tr th {\n",
              "        vertical-align: top;\n",
              "    }\n",
              "\n",
              "    .dataframe thead th {\n",
              "        text-align: right;\n",
              "    }\n",
              "</style>\n",
              "<table border=\"1\" class=\"dataframe\">\n",
              "  <thead>\n",
              "    <tr style=\"text-align: right;\">\n",
              "      <th></th>\n",
              "      <th>key_a</th>\n",
              "      <th>key_b</th>\n",
              "      <th>key_c</th>\n",
              "    </tr>\n",
              "  </thead>\n",
              "  <tbody>\n",
              "    <tr>\n",
              "      <th>0</th>\n",
              "      <td>0</td>\n",
              "      <td>1</td>\n",
              "      <td>0</td>\n",
              "    </tr>\n",
              "    <tr>\n",
              "      <th>1</th>\n",
              "      <td>0</td>\n",
              "      <td>1</td>\n",
              "      <td>0</td>\n",
              "    </tr>\n",
              "    <tr>\n",
              "      <th>2</th>\n",
              "      <td>1</td>\n",
              "      <td>0</td>\n",
              "      <td>0</td>\n",
              "    </tr>\n",
              "    <tr>\n",
              "      <th>3</th>\n",
              "      <td>0</td>\n",
              "      <td>0</td>\n",
              "      <td>1</td>\n",
              "    </tr>\n",
              "    <tr>\n",
              "      <th>4</th>\n",
              "      <td>1</td>\n",
              "      <td>0</td>\n",
              "      <td>0</td>\n",
              "    </tr>\n",
              "    <tr>\n",
              "      <th>5</th>\n",
              "      <td>0</td>\n",
              "      <td>1</td>\n",
              "      <td>0</td>\n",
              "    </tr>\n",
              "  </tbody>\n",
              "</table>\n",
              "</div>"
            ],
            "text/plain": [
              "   key_a  key_b  key_c\n",
              "0      0      1      0\n",
              "1      0      1      0\n",
              "2      1      0      0\n",
              "3      0      0      1\n",
              "4      1      0      0\n",
              "5      0      1      0"
            ]
          },
          "metadata": {
            "tags": []
          },
          "execution_count": 68
        }
      ]
    },
    {
      "cell_type": "code",
      "metadata": {
        "id": "qEYJOQwh-3Tz",
        "outputId": "2b38bc96-b417-445b-8fa1-febc544a5a3b"
      },
      "source": [
        "df_with_dummy = df[['data1']].join(dummies)\n",
        "df_with_dummy"
      ],
      "execution_count": null,
      "outputs": [
        {
          "output_type": "execute_result",
          "data": {
            "text/html": [
              "<div>\n",
              "<style scoped>\n",
              "    .dataframe tbody tr th:only-of-type {\n",
              "        vertical-align: middle;\n",
              "    }\n",
              "\n",
              "    .dataframe tbody tr th {\n",
              "        vertical-align: top;\n",
              "    }\n",
              "\n",
              "    .dataframe thead th {\n",
              "        text-align: right;\n",
              "    }\n",
              "</style>\n",
              "<table border=\"1\" class=\"dataframe\">\n",
              "  <thead>\n",
              "    <tr style=\"text-align: right;\">\n",
              "      <th></th>\n",
              "      <th>data1</th>\n",
              "      <th>key_a</th>\n",
              "      <th>key_b</th>\n",
              "      <th>key_c</th>\n",
              "    </tr>\n",
              "  </thead>\n",
              "  <tbody>\n",
              "    <tr>\n",
              "      <th>0</th>\n",
              "      <td>0</td>\n",
              "      <td>0</td>\n",
              "      <td>1</td>\n",
              "      <td>0</td>\n",
              "    </tr>\n",
              "    <tr>\n",
              "      <th>1</th>\n",
              "      <td>1</td>\n",
              "      <td>0</td>\n",
              "      <td>1</td>\n",
              "      <td>0</td>\n",
              "    </tr>\n",
              "    <tr>\n",
              "      <th>2</th>\n",
              "      <td>2</td>\n",
              "      <td>1</td>\n",
              "      <td>0</td>\n",
              "      <td>0</td>\n",
              "    </tr>\n",
              "    <tr>\n",
              "      <th>3</th>\n",
              "      <td>3</td>\n",
              "      <td>0</td>\n",
              "      <td>0</td>\n",
              "      <td>1</td>\n",
              "    </tr>\n",
              "    <tr>\n",
              "      <th>4</th>\n",
              "      <td>4</td>\n",
              "      <td>1</td>\n",
              "      <td>0</td>\n",
              "      <td>0</td>\n",
              "    </tr>\n",
              "    <tr>\n",
              "      <th>5</th>\n",
              "      <td>5</td>\n",
              "      <td>0</td>\n",
              "      <td>1</td>\n",
              "      <td>0</td>\n",
              "    </tr>\n",
              "  </tbody>\n",
              "</table>\n",
              "</div>"
            ],
            "text/plain": [
              "   data1  key_a  key_b  key_c\n",
              "0      0      0      1      0\n",
              "1      1      0      1      0\n",
              "2      2      1      0      0\n",
              "3      3      0      0      1\n",
              "4      4      1      0      0\n",
              "5      5      0      1      0"
            ]
          },
          "metadata": {
            "tags": []
          },
          "execution_count": 69
        }
      ]
    },
    {
      "cell_type": "code",
      "metadata": {
        "id": "wDr-8e_p-3Tz",
        "outputId": "dfacf1bb-5a04-404c-87be-b2fe149d930c"
      },
      "source": [
        "df_with_dummy2 = pd.concat([df[['data1']], dummies], axis=1)\n",
        "df_with_dummy2"
      ],
      "execution_count": null,
      "outputs": [
        {
          "output_type": "execute_result",
          "data": {
            "text/html": [
              "<div>\n",
              "<style scoped>\n",
              "    .dataframe tbody tr th:only-of-type {\n",
              "        vertical-align: middle;\n",
              "    }\n",
              "\n",
              "    .dataframe tbody tr th {\n",
              "        vertical-align: top;\n",
              "    }\n",
              "\n",
              "    .dataframe thead th {\n",
              "        text-align: right;\n",
              "    }\n",
              "</style>\n",
              "<table border=\"1\" class=\"dataframe\">\n",
              "  <thead>\n",
              "    <tr style=\"text-align: right;\">\n",
              "      <th></th>\n",
              "      <th>data1</th>\n",
              "      <th>key_a</th>\n",
              "      <th>key_b</th>\n",
              "      <th>key_c</th>\n",
              "    </tr>\n",
              "  </thead>\n",
              "  <tbody>\n",
              "    <tr>\n",
              "      <th>0</th>\n",
              "      <td>0</td>\n",
              "      <td>0</td>\n",
              "      <td>1</td>\n",
              "      <td>0</td>\n",
              "    </tr>\n",
              "    <tr>\n",
              "      <th>1</th>\n",
              "      <td>1</td>\n",
              "      <td>0</td>\n",
              "      <td>1</td>\n",
              "      <td>0</td>\n",
              "    </tr>\n",
              "    <tr>\n",
              "      <th>2</th>\n",
              "      <td>2</td>\n",
              "      <td>1</td>\n",
              "      <td>0</td>\n",
              "      <td>0</td>\n",
              "    </tr>\n",
              "    <tr>\n",
              "      <th>3</th>\n",
              "      <td>3</td>\n",
              "      <td>0</td>\n",
              "      <td>0</td>\n",
              "      <td>1</td>\n",
              "    </tr>\n",
              "    <tr>\n",
              "      <th>4</th>\n",
              "      <td>4</td>\n",
              "      <td>1</td>\n",
              "      <td>0</td>\n",
              "      <td>0</td>\n",
              "    </tr>\n",
              "    <tr>\n",
              "      <th>5</th>\n",
              "      <td>5</td>\n",
              "      <td>0</td>\n",
              "      <td>1</td>\n",
              "      <td>0</td>\n",
              "    </tr>\n",
              "  </tbody>\n",
              "</table>\n",
              "</div>"
            ],
            "text/plain": [
              "   data1  key_a  key_b  key_c\n",
              "0      0      0      1      0\n",
              "1      1      0      1      0\n",
              "2      2      1      0      0\n",
              "3      3      0      0      1\n",
              "4      4      1      0      0\n",
              "5      5      0      1      0"
            ]
          },
          "metadata": {
            "tags": []
          },
          "execution_count": 70
        }
      ]
    },
    {
      "cell_type": "markdown",
      "metadata": {
        "id": "fyq6UDDN-3Tz"
      },
      "source": [
        "* MovieLens 영화 평점 자료"
      ]
    },
    {
      "cell_type": "code",
      "metadata": {
        "colab": {
          "base_uri": "https://localhost:8080/"
        },
        "id": "_FP5qjse_QpL",
        "outputId": "e94e2d34-e85c-4e72-9ca3-f6a3b7a3f2b3"
      },
      "source": [
        "!ls"
      ],
      "execution_count": 43,
      "outputs": [
        {
          "output_type": "stream",
          "text": [
            "sample_data\n"
          ],
          "name": "stdout"
        }
      ]
    },
    {
      "cell_type": "code",
      "metadata": {
        "colab": {
          "resources": {
            "http://localhost:8080/nbextensions/google.colab/files.js": {
              "data": "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",
              "ok": true,
              "headers": [
                [
                  "content-type",
                  "application/javascript"
                ]
              ],
              "status": 200,
              "status_text": ""
            }
          },
          "base_uri": "https://localhost:8080/",
          "height": 114
        },
        "id": "-TesyIY8_QRI",
        "outputId": "e469bba4-aa63-4d8c-d58a-37c4a6ef01a1"
      },
      "source": [
        "from google.colab import files\n",
        "files.upload()"
      ],
      "execution_count": 46,
      "outputs": [
        {
          "output_type": "display_data",
          "data": {
            "text/html": [
              "\n",
              "     <input type=\"file\" id=\"files-32d6da98-7b80-4b22-bee1-a4b71e8f54c2\" name=\"files[]\" multiple disabled\n",
              "        style=\"border:none\" />\n",
              "     <output id=\"result-32d6da98-7b80-4b22-bee1-a4b71e8f54c2\">\n",
              "      Upload widget is only available when the cell has been executed in the\n",
              "      current browser session. Please rerun this cell to enable.\n",
              "      </output>\n",
              "      <script src=\"/nbextensions/google.colab/files.js\"></script> "
            ],
            "text/plain": [
              "<IPython.core.display.HTML object>"
            ]
          },
          "metadata": {
            "tags": []
          }
        },
        {
          "output_type": "stream",
          "text": [
            "Saving movies.dat to movies (1).dat\n"
          ],
          "name": "stdout"
        },
        {
          "output_type": "execute_result",
          "data": {
            "text/plain": [
              "{'movies.dat': b\"1::Toy Story (1995)::Animation|Children's|Comedy\\r\\n2::Jumanji (1995)::Adventure|Children's|Fantasy\\r\\n3::Grumpier Old Men (1995)::Comedy|Romance\\r\\n4::Waiting to Exhale (1995)::Comedy|Drama\\r\\n5::Father of the Bride Part II (1995)::Comedy\\r\\n6::Heat (1995)::Action|Crime|Thriller\\r\\n7::Sabrina (1995)::Comedy|Romance\\r\\n8::Tom and Huck (1995)::Adventure|Children's\\r\\n9::Sudden Death (1995)::Action\\r\\n10::GoldenEye (1995)::Action|Adventure|Thriller\\r\\n11::American President, The (1995)::Comedy|Drama|Romance\\r\\n12::Dracula: Dead and Loving It (1995)::Comedy|Horror\\r\\n13::Balto (1995)::Animation|Children's\\r\\n14::Nixon (1995)::Drama\\r\\n15::Cutthroat Island (1995)::Action|Adventure|Romance\\r\\n16::Casino (1995)::Drama|Thriller\\r\\n17::Sense and Sensibility (1995)::Drama|Romance\\r\\n18::Four Rooms (1995)::Thriller\\r\\n19::Ace Ventura: When Nature Calls (1995)::Comedy\\r\\n20::Money Train (1995)::Action\\r\\n21::Get Shorty (1995)::Action|Comedy|Drama\\r\\n22::Copycat (1995)::Crime|Drama|Thriller\\r\\n23::Assassins (1995)::Thriller\\r\\n24::Powder (1995)::Drama|Sci-Fi\\r\\n25::Leaving Las Vegas (1995)::Drama|Romance\\r\\n26::Othello (1995)::Drama\\r\\n27::Now and Then (1995)::Drama\\r\\n28::Persuasion (1995)::Romance\\r\\n29::City of Lost Children, The (1995)::Adventure|Sci-Fi\\r\\n30::Shanghai Triad (Yao a yao yao dao waipo qiao) (1995)::Drama\\r\\n31::Dangerous Minds (1995)::Drama\\r\\n32::Twelve Monkeys (1995)::Drama|Sci-Fi\\r\\n33::Wings of Courage (1995)::Adventure|Romance\\r\\n34::Babe (1995)::Children's|Comedy|Drama\\r\\n35::Carrington (1995)::Drama|Romance\\r\\n36::Dead Man Walking (1995)::Drama\\r\\n37::Across the Sea of Time (1995)::Documentary\\r\\n38::It Takes Two (1995)::Comedy\\r\\n39::Clueless (1995)::Comedy|Romance\\r\\n40::Cry, the Beloved Country (1995)::Drama\\r\\n41::Richard III (1995)::Drama|War\\r\\n42::Dead Presidents (1995)::Action|Crime|Drama\\r\\n43::Restoration (1995)::Drama\\r\\n44::Mortal Kombat (1995)::Action|Adventure\\r\\n45::To Die For (1995)::Comedy|Drama\\r\\n46::How to Make an American Quilt (1995)::Drama|Romance\\r\\n47::Seven (Se7en) (1995)::Crime|Thriller\\r\\n48::Pocahontas (1995)::Animation|Children's|Musical|Romance\\r\\n49::When Night Is Falling (1995)::Drama|Romance\\r\\n50::Usual Suspects, The (1995)::Crime|Thriller\\r\\n51::Guardian Angel (1994)::Action|Drama|Thriller\\r\\n52::Mighty Aphrodite (1995)::Comedy\\r\\n53::Lamerica (1994)::Drama\\r\\n54::Big Green, The (1995)::Children's|Comedy\\r\\n55::Georgia (1995)::Drama\\r\\n56::Kids of the Round Table (1995)::Adventure|Children's|Fantasy\\r\\n57::Home for the Holidays (1995)::Drama\\r\\n58::Postino, Il (The Postman) (1994)::Drama|Romance\\r\\n59::Confessional, The (Le Confessionnal) (1995)::Drama|Mystery\\r\\n60::Indian in the Cupboard, The (1995)::Adventure|Children's|Fantasy\\r\\n61::Eye for an Eye (1996)::Drama|Thriller\\r\\n62::Mr. Holland's Opus (1995)::Drama\\r\\n63::Don't Be a Menace to South Central While Drinking Your Juice in the Hood (1996)::Comedy\\r\\n64::Two if by Sea (1996)::Comedy|Romance\\r\\n65::Bio-Dome (1996)::Comedy\\r\\n66::Lawnmower Man 2: Beyond Cyberspace (1996)::Sci-Fi|Thriller\\r\\n67::Two Bits (1995)::Drama\\r\\n68::French Twist (Gazon maudit) (1995)::Comedy|Romance\\r\\n69::Friday (1995)::Comedy\\r\\n70::From Dusk Till Dawn (1996)::Action|Comedy|Crime|Horror|Thriller\\r\\n71::Fair Game (1995)::Action\\r\\n72::Kicking and Screaming (1995)::Comedy|Drama\\r\\n73::Mis\\xe9rables, Les (1995)::Drama|Musical\\r\\n74::Bed of Roses (1996)::Drama|Romance\\r\\n75::Big Bully (1996)::Comedy|Drama\\r\\n76::Screamers (1995)::Sci-Fi|Thriller\\r\\n77::Nico Icon (1995)::Documentary\\r\\n78::Crossing Guard, The (1995)::Drama\\r\\n79::Juror, The (1996)::Drama|Thriller\\r\\n80::White Balloon, The (Badkonake Sefid ) (1995)::Drama\\r\\n81::Things to Do in Denver when You're Dead (1995)::Crime|Drama|Romance\\r\\n82::Antonia's Line (Antonia) (1995)::Drama\\r\\n83::Once Upon a Time... When We Were Colored (1995)::Drama\\r\\n84::Last Summer in the Hamptons (1995)::Comedy|Drama\\r\\n85::Angels and Insects (1995)::Drama|Romance\\r\\n86::White Squall (1996)::Adventure|Drama\\r\\n87::Dunston Checks In (1996)::Children's|Comedy\\r\\n88::Black Sheep (1996)::Comedy\\r\\n89::Nick of Time (1995)::Action|Thriller\\r\\n90::Journey of August King, The (1995)::Drama\\r\\n92::Mary Reilly (1996)::Drama|Thriller\\r\\n93::Vampire in Brooklyn (1995)::Comedy|Romance\\r\\n94::Beautiful Girls (1996)::Drama\\r\\n95::Broken Arrow (1996)::Action|Thriller\\r\\n96::In the Bleak Midwinter (1995)::Comedy\\r\\n97::Hate (Haine, La) (1995)::Drama\\r\\n98::Shopping (1994)::Action|Thriller\\r\\n99::Heidi Fleiss: Hollywood Madam (1995)::Documentary\\r\\n100::City Hall (1996)::Drama|Thriller\\r\\n101::Bottle Rocket (1996)::Comedy\\r\\n102::Mr. Wrong (1996)::Comedy\\r\\n103::Unforgettable (1996)::Thriller\\r\\n104::Happy Gilmore (1996)::Comedy\\r\\n105::Bridges of Madison County, The (1995)::Drama|Romance\\r\\n106::Nobody Loves Me (Keiner liebt mich) (1994)::Comedy|Drama\\r\\n107::Muppet Treasure Island (1996)::Adventure|Children's|Comedy|Musical\\r\\n108::Catwalk (1995)::Documentary\\r\\n109::Headless Body in Topless Bar (1995)::Comedy\\r\\n110::Braveheart (1995)::Action|Drama|War\\r\\n111::Taxi Driver (1976)::Drama|Thriller\\r\\n112::Rumble in the Bronx (1995)::Action|Adventure|Crime\\r\\n113::Before and After (1996)::Drama|Mystery\\r\\n114::Margaret's Museum (1995)::Drama\\r\\n115::Happiness Is in the Field (1995)::Comedy\\r\\n116::Anne Frank Remembered (1995)::Documentary\\r\\n117::Young Poisoner's Handbook, The (1995)::Crime\\r\\n118::If Lucy Fell (1996)::Comedy|Romance\\r\\n119::Steal Big, Steal Little (1995)::Comedy\\r\\n120::Race the Sun (1996)::Drama\\r\\n121::Boys of St. Vincent, The (1993)::Drama\\r\\n122::Boomerang (1992)::Comedy|Romance\\r\\n123::Chungking Express (1994)::Drama|Mystery|Romance\\r\\n124::Star Maker, The (Uomo delle stelle, L') (1995)::Drama\\r\\n125::Flirting With Disaster (1996)::Comedy\\r\\n126::NeverEnding Story III, The (1994)::Adventure|Children's|Fantasy\\r\\n127::Silence of the Palace, The (Saimt el Qusur) (1994)::Drama\\r\\n128::Jupiter's Wife (1994)::Documentary\\r\\n129::Pie in the Sky (1995)::Comedy|Romance\\r\\n130::Angela (1995)::Drama\\r\\n131::Frankie Starlight (1995)::Drama|Romance\\r\\n132::Jade (1995)::Thriller\\r\\n133::Nueba Yol (1995)::Comedy|Drama\\r\\n134::Sonic Outlaws (1995)::Documentary\\r\\n135::Down Periscope (1996)::Comedy\\r\\n136::From the Journals of Jean Seberg (1995)::Documentary\\r\\n137::Man of the Year (1995)::Documentary\\r\\n138::Neon Bible, The (1995)::Drama\\r\\n139::Target (1995)::Action|Drama\\r\\n140::Up Close and Personal (1996)::Drama|Romance\\r\\n141::Birdcage, The (1996)::Comedy\\r\\n142::Shadows (Cienie) (1988)::Drama\\r\\n143::Gospa (1995)::Drama\\r\\n144::Brothers McMullen, The (1995)::Comedy\\r\\n145::Bad Boys (1995)::Action\\r\\n146::Amazing Panda Adventure, The (1995)::Adventure|Children's\\r\\n147::Basketball Diaries, The (1995)::Drama\\r\\n148::Awfully Big Adventure, An (1995)::Drama\\r\\n149::Amateur (1994)::Crime|Drama|Thriller\\r\\n150::Apollo 13 (1995)::Drama\\r\\n151::Rob Roy (1995)::Drama|Romance|War\\r\\n152::Addiction, The (1995)::Horror\\r\\n153::Batman Forever (1995)::Action|Adventure|Comedy|Crime\\r\\n154::Belle de jour (1967)::Drama\\r\\n155::Beyond Rangoon (1995)::Drama|War\\r\\n156::Blue in the Face (1995)::Comedy\\r\\n157::Canadian Bacon (1994)::Comedy|War\\r\\n158::Casper (1995)::Adventure|Children's\\r\\n159::Clockers (1995)::Drama\\r\\n160::Congo (1995)::Action|Adventure|Mystery|Sci-Fi\\r\\n161::Crimson Tide (1995)::Drama|Thriller|War\\r\\n162::Crumb (1994)::Documentary\\r\\n163::Desperado (1995)::Action|Romance|Thriller\\r\\n164::Devil in a Blue Dress (1995)::Crime|Film-Noir|Mystery|Thriller\\r\\n165::Die Hard: With a Vengeance (1995)::Action|Thriller\\r\\n166::Doom Generation, The (1995)::Comedy|Drama\\r\\n167::Feast of July (1995)::Drama\\r\\n168::First Knight (1995)::Action|Adventure|Drama|Romance\\r\\n169::Free Willy 2: The Adventure Home (1995)::Adventure|Children's|Drama\\r\\n170::Hackers (1995)::Action|Crime|Thriller\\r\\n171::Jeffrey (1995)::Comedy\\r\\n172::Johnny Mnemonic (1995)::Action|Sci-Fi|Thriller\\r\\n173::Judge Dredd (1995)::Action|Adventure|Sci-Fi\\r\\n174::Jury Duty (1995)::Comedy\\r\\n175::Kids (1995)::Drama\\r\\n176::Living in Oblivion (1995)::Comedy\\r\\n177::Lord of Illusions (1995)::Horror\\r\\n178::Love & Human Remains (1993)::Comedy\\r\\n179::Mad Love (1995)::Drama|Romance\\r\\n180::Mallrats (1995)::Comedy\\r\\n181::Mighty Morphin Power Rangers: The Movie (1995)::Action|Children's\\r\\n182::Moonlight and Valentino (1995)::Drama|Romance\\r\\n183::Mute Witness (1994)::Thriller\\r\\n184::Nadja (1994)::Drama\\r\\n185::Net, The (1995)::Sci-Fi|Thriller\\r\\n186::Nine Months (1995)::Comedy\\r\\n187::Party Girl (1995)::Comedy\\r\\n188::Prophecy, The (1995)::Horror\\r\\n189::Reckless (1995)::Comedy\\r\\n190::Safe (1995)::Thriller\\r\\n191::Scarlet Letter, The (1995)::Drama\\r\\n192::Show, The (1995)::Documentary\\r\\n193::Showgirls (1995)::Drama\\r\\n194::Smoke (1995)::Drama\\r\\n195::Something to Talk About (1995)::Comedy|Drama|Romance\\r\\n196::Species (1995)::Horror|Sci-Fi\\r\\n197::Stars Fell on Henrietta, The (1995)::Drama\\r\\n198::Strange Days (1995)::Action|Crime|Sci-Fi\\r\\n199::Umbrellas of Cherbourg, The (Parapluies de Cherbourg, Les) (1964)::Drama|Musical\\r\\n200::Tie That Binds, The (1995)::Thriller\\r\\n201::Three Wishes (1995)::Drama\\r\\n202::Total Eclipse (1995)::Drama|Romance\\r\\n203::To Wong Foo, Thanks for Everything! Julie Newmar (1995)::Comedy\\r\\n204::Under Siege 2: Dark Territory (1995)::Action\\r\\n205::Unstrung Heroes (1995)::Comedy|Drama\\r\\n206::Unzipped (1995)::Documentary\\r\\n207::Walk in the Clouds, A (1995)::Drama|Romance\\r\\n208::Waterworld (1995)::Action|Adventure\\r\\n209::White Man's Burden (1995)::Drama\\r\\n210::Wild Bill (1995)::Western\\r\\n211::Browning Version, The (1994)::Drama\\r\\n212::Bushwhacked (1995)::Comedy\\r\\n213::Burnt By the Sun (Utomlyonnye solntsem) (1994)::Drama\\r\\n214::Before the Rain (Pred dozhdot) (1994)::Drama\\r\\n215::Before Sunrise (1995)::Drama|Romance\\r\\n216::Billy Madison (1995)::Comedy\\r\\n217::Babysitter, The (1995)::Drama|Thriller\\r\\n218::Boys on the Side (1995)::Comedy|Drama\\r\\n219::Cure, The (1995)::Drama\\r\\n220::Castle Freak (1995)::Horror\\r\\n222::Circle of Friends (1995)::Drama|Romance\\r\\n223::Clerks (1994)::Comedy\\r\\n224::Don Juan DeMarco (1995)::Comedy|Drama|Romance\\r\\n225::Disclosure (1994)::Drama|Thriller\\r\\n226::Dream Man (1995)::Thriller\\r\\n227::Drop Zone (1994)::Action\\r\\n228::Destiny Turns on the Radio (1995)::Comedy\\r\\n229::Death and the Maiden (1994)::Drama|Thriller\\r\\n230::Dolores Claiborne (1994)::Drama|Thriller\\r\\n231::Dumb & Dumber (1994)::Comedy\\r\\n232::Eat Drink Man Woman (1994)::Comedy|Drama\\r\\n233::Exotica (1994)::Drama\\r\\n234::Exit to Eden (1994)::Comedy\\r\\n235::Ed Wood (1994)::Comedy|Drama\\r\\n236::French Kiss (1995)::Comedy|Romance\\r\\n237::Forget Paris (1995)::Comedy|Romance\\r\\n238::Far From Home: The Adventures of Yellow Dog (1995)::Adventure|Children's\\r\\n239::Goofy Movie, A (1995)::Animation|Children's|Comedy|Romance\\r\\n240::Hideaway (1995)::Thriller\\r\\n241::Fluke (1995)::Children's|Drama\\r\\n242::Farinelli: il castrato (1994)::Drama|Musical\\r\\n243::Gordy (1995)::Comedy\\r\\n244::Gumby: The Movie (1995)::Animation|Children's\\r\\n245::Glass Shield, The (1994)::Crime|Drama\\r\\n246::Hoop Dreams (1994)::Documentary\\r\\n247::Heavenly Creatures (1994)::Drama|Fantasy|Romance|Thriller\\r\\n248::Houseguest (1994)::Comedy\\r\\n249::Immortal Beloved (1994)::Drama|Romance\\r\\n250::Heavyweights (1994)::Children's|Comedy\\r\\n251::Hunted, The (1995)::Action\\r\\n252::I.Q. (1994)::Comedy|Romance\\r\\n253::Interview with the Vampire (1994)::Drama|Horror\\r\\n254::Jefferson in Paris (1995)::Drama\\r\\n255::Jerky Boys, The (1994)::Comedy\\r\\n256::Junior (1994)::Comedy|Sci-Fi\\r\\n257::Just Cause (1995)::Mystery|Thriller\\r\\n258::Kid in King Arthur's Court, A (1995)::Adventure|Children's|Comedy|Fantasy|Romance\\r\\n259::Kiss of Death (1995)::Crime|Drama|Thriller\\r\\n260::Star Wars: Episode IV - A New Hope (1977)::Action|Adventure|Fantasy|Sci-Fi\\r\\n261::Little Women (1994)::Drama\\r\\n262::Little Princess, A (1995)::Children's|Drama\\r\\n263::Ladybird Ladybird (1994)::Drama\\r\\n264::Enfer, L' (1994)::Drama\\r\\n265::Like Water for Chocolate (Como agua para chocolate) (1992)::Drama|Romance\\r\\n266::Legends of the Fall (1994)::Drama|Romance|War|Western\\r\\n267::Major Payne (1994)::Comedy\\r\\n268::Little Odessa (1994)::Drama\\r\\n269::My Crazy Life (Mi vida loca) (1993)::Drama\\r\\n270::Love Affair (1994)::Drama|Romance\\r\\n271::Losing Isaiah (1995)::Drama\\r\\n272::Madness of King George, The (1994)::Drama\\r\\n273::Mary Shelley's Frankenstein (1994)::Drama|Horror\\r\\n274::Man of the House (1995)::Comedy\\r\\n275::Mixed Nuts (1994)::Comedy\\r\\n276::Milk Money (1994)::Comedy|Romance\\r\\n277::Miracle on 34th Street (1994)::Drama\\r\\n278::Miami Rhapsody (1995)::Comedy\\r\\n279::My Family (1995)::Drama\\r\\n280::Murder in the First (1995)::Drama|Thriller\\r\\n281::Nobody's Fool (1994)::Drama\\r\\n282::Nell (1994)::Drama\\r\\n283::New Jersey Drive (1995)::Crime|Drama\\r\\n284::New York Cop (1996)::Action|Crime\\r\\n285::Beyond Bedlam (1993)::Drama|Horror\\r\\n286::Nemesis 2: Nebula (1995)::Action|Sci-Fi|Thriller\\r\\n287::Nina Takes a Lover (1994)::Comedy|Romance\\r\\n288::Natural Born Killers (1994)::Action|Thriller\\r\\n289::Only You (1994)::Comedy|Romance\\r\\n290::Once Were Warriors (1994)::Crime|Drama\\r\\n291::Poison Ivy II (1995)::Thriller\\r\\n292::Outbreak (1995)::Action|Drama|Thriller\\r\\n293::Professional, The (a.k.a. Leon: The Professional) (1994)::Crime|Drama|Romance|Thriller\\r\\n294::Perez Family, The (1995)::Comedy|Romance\\r\\n295::Pyromaniac's Love Story, A (1995)::Comedy|Romance\\r\\n296::Pulp Fiction (1994)::Crime|Drama\\r\\n297::Panther (1995)::Drama\\r\\n298::Pushing Hands (1992)::Comedy\\r\\n299::Priest (1994)::Drama\\r\\n300::Quiz Show (1994)::Drama\\r\\n301::Picture Bride (1995)::Drama|Romance\\r\\n302::Queen Margot (La Reine Margot) (1994)::Drama|Romance\\r\\n303::Quick and the Dead, The (1995)::Action|Adventure|Western\\r\\n304::Roommates (1995)::Comedy|Drama\\r\\n305::Ready to Wear (Pret-A-Porter) (1994)::Comedy\\r\\n306::Three Colors: Red (1994)::Drama\\r\\n307::Three Colors: Blue (1993)::Drama\\r\\n308::Three Colors: White (1994)::Drama\\r\\n309::Red Firecracker, Green Firecracker (1994)::Drama\\r\\n310::Rent-a-Kid (1995)::Comedy\\r\\n311::Relative Fear (1994)::Horror|Thriller\\r\\n312::Stuart Saves His Family (1995)::Comedy\\r\\n313::Swan Princess, The (1994)::Animation|Children's\\r\\n314::Secret of Roan Inish, The (1994)::Drama\\r\\n315::Specialist, The (1994)::Action\\r\\n316::Stargate (1994)::Action|Adventure|Sci-Fi\\r\\n317::Santa Clause, The (1994)::Children's|Comedy|Fantasy\\r\\n318::Shawshank Redemption, The (1994)::Drama\\r\\n319::Shallow Grave (1994)::Thriller\\r\\n320::Suture (1993)::Film-Noir|Thriller\\r\\n321::Strawberry and Chocolate (Fresa y chocolate) (1993)::Drama\\r\\n322::Swimming with Sharks (1995)::Comedy|Drama\\r\\n324::Sum of Us, The (1994)::Comedy\\r\\n325::National Lampoon's Senior Trip (1995)::Comedy\\r\\n326::To Live (Huozhe) (1994)::Drama\\r\\n327::Tank Girl (1995)::Action|Comedy|Musical|Sci-Fi\\r\\n328::Tales From the Crypt Presents: Demon Knight (1995)::Horror\\r\\n329::Star Trek: Generations (1994)::Action|Adventure|Sci-Fi\\r\\n330::Tales from the Hood (1995)::Comedy|Horror\\r\\n331::Tom & Viv (1994)::Drama\\r\\n332::Village of the Damned (1995)::Horror|Sci-Fi\\r\\n333::Tommy Boy (1995)::Comedy\\r\\n334::Vanya on 42nd Street (1994)::Drama\\r\\n335::Underneath, The (1995)::Mystery|Thriller\\r\\n336::Walking Dead, The (1995)::Drama|War\\r\\n337::What's Eating Gilbert Grape (1993)::Drama\\r\\n338::Virtuosity (1995)::Sci-Fi|Thriller\\r\\n339::While You Were Sleeping (1995)::Comedy|Romance\\r\\n340::War, The (1994)::Adventure|Drama\\r\\n341::Double Happiness (1994)::Drama\\r\\n342::Muriel's Wedding (1994)::Comedy|Romance\\r\\n343::Baby-Sitters Club, The (1995)::Children's\\r\\n344::Ace Ventura: Pet Detective (1994)::Comedy\\r\\n345::Adventures of Priscilla, Queen of the Desert, The (1994)::Comedy|Drama\\r\\n346::Backbeat (1993)::Drama|Musical\\r\\n347::Bitter Moon (1992)::Drama\\r\\n348::Bullets Over Broadway (1994)::Comedy\\r\\n349::Clear and Present Danger (1994)::Action|Adventure|Thriller\\r\\n350::Client, The (1994)::Drama|Mystery|Thriller\\r\\n351::Corrina, Corrina (1994)::Comedy|Drama|Romance\\r\\n352::Crooklyn (1994)::Comedy\\r\\n353::Crow, The (1994)::Action|Romance|Thriller\\r\\n354::Cobb (1994)::Drama\\r\\n355::Flintstones, The (1994)::Children's|Comedy\\r\\n356::Forrest Gump (1994)::Comedy|Romance|War\\r\\n357::Four Weddings and a Funeral (1994)::Comedy|Romance\\r\\n358::Higher Learning (1995)::Drama\\r\\n359::I Like It Like That (1994)::Comedy|Drama|Romance\\r\\n360::I Love Trouble (1994)::Action|Comedy\\r\\n361::It Could Happen to You (1994)::Drama|Romance\\r\\n362::Jungle Book, The (1994)::Adventure|Children's|Romance\\r\\n363::Wonderful, Horrible Life of Leni Riefenstahl, The (Die Macht der Bilder) (1993)::Documentary\\r\\n364::Lion King, The (1994)::Animation|Children's|Musical\\r\\n365::Little Buddha (1993)::Drama\\r\\n366::Wes Craven's New Nightmare (1994)::Horror\\r\\n367::Mask, The (1994)::Comedy|Crime|Fantasy\\r\\n368::Maverick (1994)::Action|Comedy|Western\\r\\n369::Mrs. Parker and the Vicious Circle (1994)::Drama\\r\\n370::Naked Gun 33 1/3: The Final Insult (1994)::Comedy\\r\\n371::Paper, The (1994)::Comedy|Drama\\r\\n372::Reality Bites (1994)::Comedy|Drama\\r\\n373::Red Rock West (1992)::Thriller\\r\\n374::Richie Rich (1994)::Children's|Comedy\\r\\n375::Safe Passage (1994)::Drama\\r\\n376::River Wild, The (1994)::Action|Thriller\\r\\n377::Speed (1994)::Action|Romance|Thriller\\r\\n378::Speechless (1994)::Comedy|Romance\\r\\n379::Timecop (1994)::Action|Sci-Fi\\r\\n380::True Lies (1994)::Action|Adventure|Comedy|Romance\\r\\n381::When a Man Loves a Woman (1994)::Drama\\r\\n382::Wolf (1994)::Drama|Horror\\r\\n383::Wyatt Earp (1994)::Western\\r\\n384::Bad Company (1995)::Action\\r\\n385::Man of No Importance, A (1994)::Drama\\r\\n386::S.F.W. (1994)::Drama\\r\\n387::Low Down Dirty Shame, A (1994)::Action|Comedy\\r\\n388::Boys Life (1995)::Drama\\r\\n389::Colonel Chabert, Le (1994)::Drama|Romance|War\\r\\n390::Faster Pussycat! Kill! Kill! (1965)::Action|Comedy|Drama\\r\\n391::Jason's Lyric (1994)::Crime|Drama\\r\\n392::Secret Adventures of Tom Thumb, The (1993)::Adventure|Children's\\r\\n393::Street Fighter (1994)::Action\\r\\n394::Coldblooded (1995)::Action\\r\\n395::Desert Winds (1995)::Drama\\r\\n396::Fall Time (1995)::Drama\\r\\n397::Fear, The (1995)::Horror\\r\\n398::Frank and Ollie (1995)::Documentary\\r\\n399::Girl in the Cadillac (1995)::Drama\\r\\n400::Homage (1995)::Drama\\r\\n401::Mirage (1995)::Action|Thriller\\r\\n402::Open Season (1996)::Comedy\\r\\n403::Two Crimes (1995)::Comedy|Crime|Drama\\r\\n404::Brother Minister: The Assassination of Malcolm X (1994)::Documentary\\r\\n405::Highlander III: The Sorcerer (1994)::Action|Sci-Fi\\r\\n406::Federal Hill (1994)::Drama\\r\\n407::In the Mouth of Madness (1995)::Horror|Thriller\\r\\n408::8 Seconds (1994)::Drama\\r\\n409::Above the Rim (1994)::Drama\\r\\n410::Addams Family Values (1993)::Comedy\\r\\n411::You So Crazy (1994)::Comedy\\r\\n412::Age of Innocence, The (1993)::Drama\\r\\n413::Airheads (1994)::Comedy\\r\\n414::Air Up There, The (1994)::Comedy\\r\\n415::Another Stakeout (1993)::Comedy|Thriller\\r\\n416::Bad Girls (1994)::Western\\r\\n417::Barcelona (1994)::Comedy|Romance\\r\\n418::Being Human (1993)::Drama\\r\\n419::Beverly Hillbillies, The (1993)::Comedy\\r\\n420::Beverly Hills Cop III (1994)::Action|Comedy\\r\\n421::Black Beauty (1994)::Adventure|Children's\\r\\n422::Blink (1994)::Thriller\\r\\n423::Blown Away (1994)::Action|Thriller\\r\\n424::Blue Chips (1994)::Drama\\r\\n425::Blue Sky (1994)::Drama|Romance\\r\\n426::Body Snatchers (1993)::Horror|Sci-Fi|Thriller\\r\\n427::Boxing Helena (1993)::Mystery|Romance|Thriller\\r\\n428::Bronx Tale, A (1993)::Drama\\r\\n429::Cabin Boy (1994)::Comedy\\r\\n430::Calendar Girl (1993)::Drama\\r\\n431::Carlito's Way (1993)::Crime|Drama\\r\\n432::City Slickers II: The Legend of Curly's Gold (1994)::Comedy|Western\\r\\n433::Clean Slate (1994)::Comedy\\r\\n434::Cliffhanger (1993)::Action|Adventure|Crime\\r\\n435::Coneheads (1993)::Comedy|Sci-Fi\\r\\n436::Color of Night (1994)::Drama|Thriller\\r\\n437::Cops and Robbersons (1994)::Comedy\\r\\n438::Cowboy Way, The (1994)::Action|Comedy\\r\\n439::Dangerous Game (1993)::Drama\\r\\n440::Dave (1993)::Comedy|Romance\\r\\n441::Dazed and Confused (1993)::Comedy\\r\\n442::Demolition Man (1993)::Action|Sci-Fi\\r\\n443::Endless Summer 2, The (1994)::Documentary\\r\\n444::Even Cowgirls Get the Blues (1993)::Comedy|Romance\\r\\n445::Fatal Instinct (1993)::Comedy\\r\\n446::Farewell My Concubine (1993)::Drama|Romance\\r\\n447::Favor, The (1994)::Comedy|Romance\\r\\n448::Fearless (1993)::Drama\\r\\n449::Fear of a Black Hat (1993)::Comedy\\r\\n450::With Honors (1994)::Comedy|Drama\\r\\n451::Flesh and Bone (1993)::Drama|Mystery|Romance\\r\\n452::Widows' Peak (1994)::Drama\\r\\n453::For Love or Money (1993)::Comedy\\r\\n454::Firm, The (1993)::Drama|Thriller\\r\\n455::Free Willy (1993)::Adventure|Children's|Drama\\r\\n456::Fresh (1994)::Drama\\r\\n457::Fugitive, The (1993)::Action|Thriller\\r\\n458::Geronimo: An American Legend (1993)::Drama|Western\\r\\n459::Getaway, The (1994)::Action\\r\\n460::Getting Even with Dad (1994)::Comedy\\r\\n461::Go Fish (1994)::Drama|Romance\\r\\n462::Good Man in Africa, A (1994)::Action|Adventure\\r\\n463::Guilty as Sin (1993)::Crime|Drama|Thriller\\r\\n464::Hard Target (1993)::Action|Adventure|Crime|Thriller\\r\\n465::Heaven & Earth (1993)::Action|Drama|War\\r\\n466::Hot Shots! Part Deux (1993)::Action|Comedy|War\\r\\n467::Live Nude Girls (1995)::Comedy\\r\\n468::Englishman Who Went Up a Hill, But Came Down a Mountain, The (1995)::Comedy|Romance\\r\\n469::House of the Spirits, The (1993)::Drama|Romance\\r\\n470::House Party 3 (1994)::Comedy\\r\\n471::Hudsucker Proxy, The (1994)::Comedy|Romance\\r\\n472::I'll Do Anything (1994)::Comedy|Drama\\r\\n473::In the Army Now (1994)::Comedy|War\\r\\n474::In the Line of Fire (1993)::Action|Thriller\\r\\n475::In the Name of the Father (1993)::Drama\\r\\n476::Inkwell, The (1994)::Comedy|Drama\\r\\n477::What's Love Got to Do with It? (1993)::Drama\\r\\n478::Jimmy Hollywood (1994)::Comedy\\r\\n479::Judgment Night (1993)::Action\\r\\n480::Jurassic Park (1993)::Action|Adventure|Sci-Fi\\r\\n481::Kalifornia (1993)::Drama|Thriller\\r\\n482::Killing Zoe (1994)::Thriller\\r\\n483::King of the Hill (1993)::Drama\\r\\n484::Lassie (1994)::Adventure|Children's\\r\\n485::Last Action Hero (1993)::Action|Comedy\\r\\n486::Life with Mikey (1993)::Comedy\\r\\n487::Lightning Jack (1994)::Comedy|Western\\r\\n488::M. Butterfly (1993)::Drama\\r\\n489::Made in America (1993)::Comedy\\r\\n490::Malice (1993)::Thriller\\r\\n491::Man Without a Face, The (1993)::Drama\\r\\n492::Manhattan Murder Mystery (1993)::Comedy|Mystery\\r\\n493::Menace II Society (1993)::Action|Crime|Drama\\r\\n494::Executive Decision (1996)::Action|Thriller\\r\\n495::In the Realm of the Senses (Ai no corrida) (1976)::Drama\\r\\n496::What Happened Was... (1994)::Comedy|Drama|Romance\\r\\n497::Much Ado About Nothing (1993)::Comedy|Romance\\r\\n498::Mr. Jones (1993)::Drama|Romance\\r\\n499::Mr. Wonderful (1993)::Comedy|Romance\\r\\n500::Mrs. Doubtfire (1993)::Comedy\\r\\n501::Naked (1993)::Drama\\r\\n502::Next Karate Kid, The (1994)::Action|Children's\\r\\n503::New Age, The (1994)::Drama\\r\\n504::No Escape (1994)::Action|Sci-Fi\\r\\n505::North (1994)::Comedy\\r\\n506::Orlando (1993)::Drama\\r\\n507::Perfect World, A (1993)::Action|Drama\\r\\n508::Philadelphia (1993)::Drama\\r\\n509::Piano, The (1993)::Drama|Romance\\r\\n510::Poetic Justice (1993)::Drama\\r\\n511::Program, The (1993)::Action|Drama\\r\\n512::Robert A. Heinlein's The Puppet Masters (1994)::Horror|Sci-Fi\\r\\n513::Radioland Murders (1994)::Comedy|Mystery|Romance\\r\\n514::Ref, The (1994)::Comedy\\r\\n515::Remains of the Day, The (1993)::Drama\\r\\n516::Renaissance Man (1994)::Comedy|Drama|War\\r\\n517::Rising Sun (1993)::Action|Drama|Mystery\\r\\n518::Road to Wellville, The (1994)::Comedy\\r\\n519::Robocop 3 (1993)::Sci-Fi|Thriller\\r\\n520::Robin Hood: Men in Tights (1993)::Comedy\\r\\n521::Romeo Is Bleeding (1993)::Crime|Thriller\\r\\n522::Romper Stomper (1992)::Action|Drama\\r\\n523::Ruby in Paradise (1993)::Drama\\r\\n524::Rudy (1993)::Drama\\r\\n525::Saint of Fort Washington, The (1993)::Drama\\r\\n526::Savage Nights (Nuits fauves, Les) (1992)::Drama\\r\\n527::Schindler's List (1993)::Drama|War\\r\\n528::Scout, The (1994)::Drama\\r\\n529::Searching for Bobby Fischer (1993)::Drama\\r\\n530::Second Best (1994)::Drama\\r\\n531::Secret Garden, The (1993)::Children's|Drama\\r\\n532::Serial Mom (1994)::Comedy|Crime|Horror\\r\\n533::Shadow, The (1994)::Action\\r\\n534::Shadowlands (1993)::Drama|Romance\\r\\n535::Short Cuts (1993)::Drama\\r\\n536::Simple Twist of Fate, A (1994)::Drama\\r\\n537::Sirens (1994)::Comedy|Drama\\r\\n538::Six Degrees of Separation (1993)::Drama\\r\\n539::Sleepless in Seattle (1993)::Comedy|Romance\\r\\n540::Sliver (1993)::Thriller\\r\\n541::Blade Runner (1982)::Film-Noir|Sci-Fi\\r\\n542::Son in Law (1993)::Comedy\\r\\n543::So I Married an Axe Murderer (1993)::Comedy|Romance|Thriller\\r\\n544::Striking Distance (1993)::Action\\r\\n545::Harlem (1993)::Drama\\r\\n546::Super Mario Bros. (1993)::Action|Adventure|Children's|Sci-Fi\\r\\n547::Surviving the Game (1994)::Action|Adventure|Thriller\\r\\n548::Terminal Velocity (1994)::Action\\r\\n549::Thirty-Two Short Films About Glenn Gould (1993)::Documentary\\r\\n550::Threesome (1994)::Comedy|Romance\\r\\n551::Nightmare Before Christmas, The (1993)::Children's|Comedy|Musical\\r\\n552::Three Musketeers, The (1993)::Action|Adventure|Comedy\\r\\n553::Tombstone (1993)::Western\\r\\n554::Trial by Jury (1994)::Thriller\\r\\n555::True Romance (1993)::Action|Crime|Romance\\r\\n556::War Room, The (1993)::Documentary\\r\\n557::Mamma Roma (1962)::Drama\\r\\n558::Pagemaster, The (1994)::Action|Adventure|Animation|Children's|Fantasy\\r\\n559::Paris, France (1993)::Comedy\\r\\n560::Beans of Egypt, Maine, The (1994)::Drama\\r\\n561::Killer (Bulletproof Heart) (1994)::Thriller\\r\\n562::Welcome to the Dollhouse (1995)::Comedy|Drama\\r\\n563::Germinal (1993)::Drama\\r\\n564::Chasers (1994)::Comedy\\r\\n565::Cronos (1992)::Horror\\r\\n566::Naked in New York (1994)::Comedy|Romance\\r\\n567::Kika (1993)::Drama\\r\\n568::Bhaji on the Beach (1993)::Comedy|Drama\\r\\n569::Little Big League (1994)::Children's|Comedy\\r\\n570::Slingshot, The (K\\xe5disbellan ) (1993)::Comedy|Drama\\r\\n571::Wedding Gift, The (1994)::Drama\\r\\n572::Foreign Student (1994)::Drama\\r\\n573::Ciao, Professore! (Io speriamo che me la cavo ) (1993)::Drama\\r\\n574::Spanking the Monkey (1994)::Comedy|Drama\\r\\n575::Little Rascals, The (1994)::Children's|Comedy\\r\\n576::Fausto (1993)::Comedy\\r\\n577::Andre (1994)::Adventure|Children's\\r\\n578::Hour of the Pig, The (1993)::Drama|Mystery\\r\\n579::Scorta, La (1993)::Thriller\\r\\n580::Princess Caraboo (1994)::Drama\\r\\n581::Celluloid Closet, The (1995)::Documentary\\r\\n582::Metisse (Caf\\xe9 au Lait) (1993)::Comedy\\r\\n583::Dear Diary (Caro Diario) (1994)::Comedy|Drama\\r\\n584::I Don't Want to Talk About It (De eso no se habla) (1993)::Drama\\r\\n585::Brady Bunch Movie, The (1995)::Comedy\\r\\n586::Home Alone (1990)::Children's|Comedy\\r\\n587::Ghost (1990)::Comedy|Romance|Thriller\\r\\n588::Aladdin (1992)::Animation|Children's|Comedy|Musical\\r\\n589::Terminator 2: Judgment Day (1991)::Action|Sci-Fi|Thriller\\r\\n590::Dances with Wolves (1990)::Adventure|Drama|Western\\r\\n591::Tough and Deadly (1995)::Action|Drama|Thriller\\r\\n592::Batman (1989)::Action|Adventure|Crime|Drama\\r\\n593::Silence of the Lambs, The (1991)::Drama|Thriller\\r\\n594::Snow White and the Seven Dwarfs (1937)::Animation|Children's|Musical\\r\\n595::Beauty and the Beast (1991)::Animation|Children's|Musical\\r\\n596::Pinocchio (1940)::Animation|Children's\\r\\n597::Pretty Woman (1990)::Comedy|Romance\\r\\n598::Window to Paris (1994)::Comedy\\r\\n599::Wild Bunch, The (1969)::Western\\r\\n600::Love and a .45 (1994)::Thriller\\r\\n601::Wooden Man's Bride, The (Wu Kui) (1994)::Drama\\r\\n602::Great Day in Harlem, A (1994)::Documentary\\r\\n603::Bye Bye, Love (1995)::Comedy\\r\\n604::Criminals (1996)::Documentary\\r\\n605::One Fine Day (1996)::Drama|Romance\\r\\n606::Candyman: Farewell to the Flesh (1995)::Horror\\r\\n607::Century (1993)::Drama\\r\\n608::Fargo (1996)::Crime|Drama|Thriller\\r\\n609::Homeward Bound II: Lost in San Francisco (1996)::Adventure|Children's\\r\\n610::Heavy Metal (1981)::Action|Adventure|Animation|Horror|Sci-Fi\\r\\n611::Hellraiser: Bloodline (1996)::Action|Horror|Sci-Fi\\r\\n612::Pallbearer, The (1996)::Comedy\\r\\n613::Jane Eyre (1996)::Drama|Romance\\r\\n614::Loaded (1994)::Drama|Thriller\\r\\n615::Bread and Chocolate (Pane e cioccolata) (1973)::Drama\\r\\n616::Aristocats, The (1970)::Animation|Children's\\r\\n617::Flower of My Secret, The (La Flor de Mi Secreto) (1995)::Drama\\r\\n618::Two Much (1996)::Comedy|Romance\\r\\n619::Ed (1996)::Comedy\\r\\n620::Scream of Stone (Schrei aus Stein) (1991)::Drama\\r\\n621::My Favorite Season (1993)::Drama\\r\\n623::Modern Affair, A (1995)::Romance\\r\\n624::Condition Red (1995)::Action|Drama|Thriller\\r\\n625::Asfour Stah (1990)::Drama\\r\\n626::Thin Line Between Love and Hate, A (1996)::Comedy\\r\\n627::Last Supper, The (1995)::Drama|Thriller\\r\\n628::Primal Fear (1996)::Drama|Thriller\\r\\n629::Rude (1995)::Drama\\r\\n630::Carried Away (1996)::Drama|Romance\\r\\n631::All Dogs Go to Heaven 2 (1996)::Animation|Children's|Musical\\r\\n632::Land and Freedom (Tierra y libertad) (1995)::War\\r\\n633::Denise Calls Up (1995)::Comedy\\r\\n634::Theodore Rex (1995)::Comedy\\r\\n635::Family Thing, A (1996)::Comedy|Drama\\r\\n636::Frisk (1995)::Drama\\r\\n637::Sgt. Bilko (1996)::Comedy\\r\\n638::Jack and Sarah (1995)::Romance\\r\\n639::Girl 6 (1996)::Comedy\\r\\n640::Diabolique (1996)::Drama|Thriller\\r\\n641::Little Indian, Big City (Un indien dans la ville) (1994)::Comedy\\r\\n642::Roula (1995)::Drama\\r\\n643::Peanuts - Die Bank zahlt alles (1996)::Comedy\\r\\n644::Happy Weekend (1996)::Comedy\\r\\n645::Nelly & Monsieur Arnaud (1995)::Drama\\r\\n647::Courage Under Fire (1996)::Drama|War\\r\\n648::Mission: Impossible (1996)::Action|Adventure|Mystery\\r\\n649::Cold Fever (\\xc1 k\\xf6ldum klaka) (1994)::Comedy|Drama\\r\\n650::Moll Flanders (1996)::Drama\\r\\n651::Superweib, Das (1996)::Comedy\\r\\n652::301, 302 (1995)::Mystery\\r\\n653::Dragonheart (1996)::Action|Adventure|Fantasy\\r\\n654::Und keiner weint mir nach (1996)::Drama|Romance\\r\\n655::Mutters Courage (1995)::Comedy\\r\\n656::Eddie (1996)::Comedy\\r\\n657::Yankee Zulu (1994)::Comedy|Drama\\r\\n658::Billy's Holiday (1995)::Drama\\r\\n659::Purple Noon (1960)::Crime|Thriller\\r\\n660::August (1996)::Drama\\r\\n661::James and the Giant Peach (1996)::Animation|Children's|Musical\\r\\n662::Fear (1996)::Thriller\\r\\n663::Kids in the Hall: Brain Candy (1996)::Comedy\\r\\n664::Faithful (1996)::Comedy\\r\\n665::Underground (1995)::War\\r\\n666::All Things Fair (1996)::Drama\\r\\n667::Bloodsport 2 (1995)::Action\\r\\n668::Pather Panchali (1955)::Drama\\r\\n669::Aparajito (1956)::Drama\\r\\n670::World of Apu, The (Apur Sansar) (1959)::Drama\\r\\n671::Mystery Science Theater 3000: The Movie (1996)::Comedy|Sci-Fi\\r\\n672::Tarantella (1995)::Drama\\r\\n673::Space Jam (1996)::Adventure|Animation|Children's|Comedy|Fantasy\\r\\n674::Barbarella (1968)::Adventure|Sci-Fi\\r\\n675::Hostile Intentions (1994)::Action|Drama|Thriller\\r\\n676::They Bite (1996)::Drama\\r\\n678::Some Folks Call It a Sling Blade (1993)::Drama|Thriller\\r\\n679::Run of the Country, The (1995)::Drama\\r\\n680::Alphaville (1965)::Sci-Fi\\r\\n681::Clean Slate (Coup de Torchon) (1981)::Crime\\r\\n682::Tigrero: A Film That Was Never Made (1994)::Documentary|Drama\\r\\n683::Eye of Vichy, The (Oeil de Vichy, L') (1993)::Documentary\\r\\n684::Windows (1980)::Drama\\r\\n685::It's My Party (1995)::Drama\\r\\n687::Country Life (1994)::Drama|Romance\\r\\n688::Operation Dumbo Drop (1995)::Action|Adventure|Comedy|War\\r\\n690::Promise, The (Versprechen, Das) (1994)::Romance\\r\\n691::Mrs. Winterbourne (1996)::Comedy|Romance\\r\\n692::Solo (1996)::Action|Sci-Fi|Thriller\\r\\n693::Under the Domin Tree (Etz Hadomim Tafus) (1994)::Drama\\r\\n694::Substitute, The (1996)::Action\\r\\n695::True Crime (1995)::Mystery|Thriller\\r\\n696::Butterfly Kiss (1995)::Thriller\\r\\n697::Feeling Minnesota (1996)::Drama|Romance\\r\\n698::Delta of Venus (1994)::Drama\\r\\n699::To Cross the Rubicon (1991)::Drama\\r\\n700::Angus (1995)::Comedy\\r\\n701::Daens (1992)::Drama\\r\\n702::Faces (1968)::Drama\\r\\n703::Boys (1996)::Drama\\r\\n704::Quest, The (1996)::Action|Adventure\\r\\n705::Cosi (1996)::Comedy\\r\\n706::Sunset Park (1996)::Drama\\r\\n707::Mulholland Falls (1996)::Crime|Film-Noir|Thriller\\r\\n708::Truth About Cats & Dogs, The (1996)::Comedy|Romance\\r\\n709::Oliver & Company (1988)::Animation|Children's\\r\\n710::Celtic Pride (1996)::Comedy\\r\\n711::Flipper (1996)::Adventure|Children's\\r\\n712::Captives (1994)::Drama\\r\\n713::Of Love and Shadows (1994)::Drama\\r\\n714::Dead Man (1995)::Western\\r\\n715::Horseman on the Roof, The (Hussard sur le toit, Le) (1995)::Drama\\r\\n716::Switchblade Sisters (1975)::Crime\\r\\n717::Mouth to Mouth (Boca a boca) (1995)::Comedy\\r\\n718::Visitors, The (Les Visiteurs) (1993)::Comedy|Sci-Fi\\r\\n719::Multiplicity (1996)::Comedy\\r\\n720::Wallace & Gromit: The Best of Aardman Animation (1996)::Animation\\r\\n721::Halfmoon (Paul Bowles - Halbmond) (1995)::Drama\\r\\n722::Haunted World of Edward D. Wood Jr., The (1995)::Documentary\\r\\n723::Two Friends (1986)::Drama\\r\\n724::Craft, The (1996)::Drama|Horror\\r\\n725::Great White Hype, The (1996)::Comedy\\r\\n726::Last Dance (1996)::Drama\\r\\n727::War Stories (1995)::Documentary\\r\\n728::Cold Comfort Farm (1995)::Comedy\\r\\n729::Institute Benjamenta, or This Dream People Call Human Life (1995)::Drama\\r\\n730::Low Life, The (1994)::Drama\\r\\n731::Heaven's Prisoners (1996)::Mystery|Thriller\\r\\n732::Original Gangstas (1996)::Crime\\r\\n733::Rock, The (1996)::Action|Adventure|Thriller\\r\\n734::Getting Away With Murder (1996)::Comedy\\r\\n735::Cemetery Man (Dellamorte Dellamore) (1994)::Comedy|Horror\\r\\n736::Twister (1996)::Action|Adventure|Romance|Thriller\\r\\n737::Barb Wire (1996)::Action|Sci-Fi\\r\\n738::Garcu, Le (1995)::Drama\\r\\n739::Honigmond (1996)::Comedy\\r\\n741::Ghost in the Shell (Kokaku kidotai) (1995)::Animation|Sci-Fi\\r\\n742::Thinner (1996)::Horror|Thriller\\r\\n743::Spy Hard (1996)::Comedy\\r\\n744::Brothers in Trouble (1995)::Drama\\r\\n745::Close Shave, A (1995)::Animation|Comedy|Thriller\\r\\n746::Force of Evil (1948)::Film-Noir\\r\\n747::Stupids, The (1996)::Comedy\\r\\n748::Arrival, The (1996)::Action|Sci-Fi|Thriller\\r\\n749::Man from Down Under, The (1943)::Drama\\r\\n750::Dr. Strangelove or: How I Learned to Stop Worrying and Love the Bomb (1963)::Sci-Fi|War\\r\\n751::Careful (1992)::Comedy\\r\\n752::Vermont Is For Lovers (1992)::Comedy|Romance\\r\\n753::Month by the Lake, A (1995)::Comedy|Drama\\r\\n754::Gold Diggers: The Secret of Bear Mountain (1995)::Adventure|Children's\\r\\n755::Kim (1950)::Children's|Drama\\r\\n756::Carmen Miranda: Bananas Is My Business (1994)::Documentary\\r\\n757::Ashes of Time (1994)::Drama\\r\\n758::Jar, The (Khomreh) (1992)::Drama\\r\\n759::Maya Lin: A Strong Clear Vision (1994)::Documentary\\r\\n760::Stalingrad (1993)::War\\r\\n761::Phantom, The (1996)::Adventure\\r\\n762::Striptease (1996)::Comedy|Crime\\r\\n763::Last of the High Kings, The (a.k.a. Summer Fling) (1996)::Drama\\r\\n764::Heavy (1995)::Drama|Romance\\r\\n765::Jack (1996)::Comedy|Drama\\r\\n766::I Shot Andy Warhol (1996)::Drama\\r\\n767::Grass Harp, The (1995)::Drama\\r\\n768::Someone Else's America (1995)::Drama\\r\\n769::Marlene Dietrich: Shadow and Light (1996)::Documentary\\r\\n770::Costa Brava (1946)::Drama\\r\\n771::Vie est belle, La (Life is Rosey) (1987)::Comedy|Drama\\r\\n772::Quartier Mozart (1992)::Comedy\\r\\n773::Touki Bouki (Journey of the Hyena) (1973)::Drama\\r\\n774::Wend Kuuni (God's Gift) (1982)::Drama\\r\\n775::Spirits of the Dead (Tre Passi nel Delirio) (1968)::Horror\\r\\n776::Babyfever (1994)::Comedy|Drama\\r\\n777::Pharaoh's Army (1995)::War\\r\\n778::Trainspotting (1996)::Drama\\r\\n779::'Til There Was You (1997)::Drama|Romance\\r\\n780::Independence Day (ID4) (1996)::Action|Sci-Fi|War\\r\\n781::Stealing Beauty (1996)::Drama\\r\\n782::Fan, The (1996)::Thriller\\r\\n783::Hunchback of Notre Dame, The (1996)::Animation|Children's|Musical\\r\\n784::Cable Guy, The (1996)::Comedy\\r\\n785::Kingpin (1996)::Comedy\\r\\n786::Eraser (1996)::Action|Thriller\\r\\n787::Gate of Heavenly Peace, The (1995)::Documentary\\r\\n788::Nutty Professor, The (1996)::Comedy|Fantasy|Romance|Sci-Fi\\r\\n789::I, Worst of All (Yo, la peor de todas) (1990)::Drama\\r\\n790::An Unforgettable Summer (1994)::Drama\\r\\n791::Last Klezmer: Leopold Kozlowski, His Life and Music, The (1995)::Documentary\\r\\n792::Hungarian Fairy Tale, A (1987)::Fantasy\\r\\n793::My Life and Times With Antonin Artaud (En compagnie d'Antonin Artaud) (1993)::Drama\\r\\n794::Midnight Dancers (Sibak) (1994)::Comedy|Drama\\r\\n795::Somebody to Love (1994)::Drama\\r\\n796::Very Natural Thing, A (1974)::Drama\\r\\n797::Old Lady Who Walked in the Sea, The (Vieille qui marchait dans la mer, La) (1991)::Comedy\\r\\n798::Daylight (1996)::Action|Adventure|Thriller\\r\\n799::Frighteners, The (1996)::Comedy|Horror\\r\\n800::Lone Star (1996)::Drama|Mystery\\r\\n801::Harriet the Spy (1996)::Children's|Comedy\\r\\n802::Phenomenon (1996)::Drama|Romance\\r\\n803::Walking and Talking (1996)::Romance\\r\\n804::She's the One (1996)::Comedy|Romance\\r\\n805::Time to Kill, A (1996)::Drama\\r\\n806::American Buffalo (1996)::Drama\\r\\n807::Rendezvous in Paris (Rendez-vous de Paris, Les) (1995)::Comedy|Romance\\r\\n808::Alaska (1996)::Adventure|Children's\\r\\n809::Fled (1996)::Action|Adventure\\r\\n810::Kazaam (1996)::Children's|Comedy|Fantasy\\r\\n811::Bewegte Mann, Der (1994)::Comedy\\r\\n812::Magic Hunter (1994)::Drama\\r\\n813::Larger Than Life (1996)::Comedy\\r\\n814::Boy Called Hate, A (1995)::Drama\\r\\n815::Power 98 (1995)::Action|Mystery|Thriller\\r\\n816::Two Deaths (1995)::Drama\\r\\n818::Very Brady Sequel, A (1996)::Comedy\\r\\n819::Stefano Quantestorie (1993)::Comedy|Drama\\r\\n820::Death in the Garden (Mort en ce jardin, La) (1956)::Drama\\r\\n821::Crude Oasis, The (1995)::Romance\\r\\n822::Hedd Wyn (1992)::Drama\\r\\n823::Collectionneuse, La (1967)::Drama\\r\\n824::Kaspar Hauser (1993)::Drama\\r\\n825::Echte Kerle (1996)::Comedy|Romance\\r\\n826::Diebinnen (1995)::Drama\\r\\n827::Convent, The (Convento, O) (1995)::Drama\\r\\n828::Adventures of Pinocchio, The (1996)::Adventure|Children's\\r\\n829::Joe's Apartment (1996)::Comedy|Musical\\r\\n830::First Wives Club, The (1996)::Comedy\\r\\n831::Stonewall (1995)::Drama\\r\\n832::Ransom (1996)::Drama|Thriller\\r\\n833::High School High (1996)::Comedy\\r\\n834::Phat Beach (1996)::Comedy\\r\\n835::Foxfire (1996)::Drama\\r\\n836::Chain Reaction (1996)::Action|Adventure|Thriller\\r\\n837::Matilda (1996)::Children's|Comedy\\r\\n838::Emma (1996)::Comedy|Drama|Romance\\r\\n839::Crow: City of Angels, The (1996)::Action|Thriller\\r\\n840::House Arrest (1996)::Comedy\\r\\n841::Eyes Without a Face (1959)::Horror\\r\\n842::Tales from the Crypt Presents: Bordello of Blood (1996)::Horror\\r\\n843::Lotto Land (1995)::Drama\\r\\n844::Story of Xinghua, The (1993)::Drama\\r\\n845::Day the Sun Turned Cold, The (Tianguo niezi) (1994)::Drama\\r\\n846::Flirt (1995)::Drama\\r\\n847::Big Squeeze, The (1996)::Comedy|Drama\\r\\n848::Spitfire Grill, The (1996)::Drama\\r\\n849::Escape from L.A. (1996)::Action|Adventure|Sci-Fi|Thriller\\r\\n850::Cyclo (1995)::Crime|Drama\\r\\n851::Basquiat (1996)::Drama\\r\\n852::Tin Cup (1996)::Comedy|Romance\\r\\n853::Dingo (1992)::Drama\\r\\n854::Ballad of Narayama, The (Narayama Bushiko) (1958)::Drama\\r\\n855::Every Other Weekend (1990)::Drama\\r\\n856::Mille bolle blu (1993)::Comedy\\r\\n857::Crows and Sparrows (1949)::Drama\\r\\n858::Godfather, The (1972)::Action|Crime|Drama\\r\\n859::Hippie Revolution, The (1996)::Documentary\\r\\n860::Maybe, Maybe Not (Bewegte Mann, Der) (1994)::Comedy\\r\\n861::Supercop (1992)::Action|Thriller\\r\\n862::Manny & Lo (1996)::Drama\\r\\n863::Celestial Clockwork (1994)::Comedy\\r\\n864::Wife, The (1995)::Comedy|Drama\\r\\n865::Small Faces (1995)::Drama\\r\\n866::Bound (1996)::Crime|Drama|Romance|Thriller\\r\\n867::Carpool (1996)::Comedy|Crime\\r\\n868::Death in Brunswick (1991)::Comedy\\r\\n869::Kansas City (1996)::Crime\\r\\n870::Gone Fishin' (1997)::Comedy\\r\\n871::Lover's Knot (1996)::Comedy\\r\\n872::Aiqing wansui (1994)::Drama\\r\\n873::Shadow of Angels (Schatten der Engel) (1976)::Drama\\r\\n874::Killer: A Journal of Murder (1995)::Crime|Drama\\r\\n875::Nothing to Lose (1994)::Drama\\r\\n876::Police Story 4: Project S (Chao ji ji hua) (1993)::Action\\r\\n877::Girls Town (1996)::Drama\\r\\n878::Bye-Bye (1995)::Drama\\r\\n879::Relic, The (1997)::Horror\\r\\n880::Island of Dr. Moreau, The (1996)::Sci-Fi|Thriller\\r\\n881::First Kid (1996)::Children's|Comedy\\r\\n882::Trigger Effect, The (1996)::Drama|Thriller\\r\\n884::Sweet Nothing (1995)::Drama\\r\\n885::Bogus (1996)::Children's|Drama|Fantasy\\r\\n886::Bulletproof (1996)::Action\\r\\n887::Talk of Angels (1998)::Drama\\r\\n888::Land Before Time III: The Time of the Great Giving (1995)::Animation|Children's\\r\\n889::1-900 (1994)::Romance\\r\\n890::Baton Rouge (1988)::Thriller\\r\\n891::Halloween: The Curse of Michael Myers (1995)::Horror|Thriller\\r\\n892::Twelfth Night (1996)::Comedy|Drama|Romance\\r\\n893::Mother Night (1996)::Drama\\r\\n894::Liebelei (1933)::Romance\\r\\n895::Venice/Venice (1992)::Drama\\r\\n896::Wild Reeds (1994)::Drama\\r\\n897::For Whom the Bell Tolls (1943)::Adventure|War\\r\\n898::Philadelphia Story, The (1940)::Comedy|Romance\\r\\n899::Singin' in the Rain (1952)::Musical|Romance\\r\\n900::American in Paris, An (1951)::Musical|Romance\\r\\n901::Funny Face (1957)::Comedy|Musical\\r\\n902::Breakfast at Tiffany's (1961)::Drama|Romance\\r\\n903::Vertigo (1958)::Mystery|Thriller\\r\\n904::Rear Window (1954)::Mystery|Thriller\\r\\n905::It Happened One Night (1934)::Comedy\\r\\n906::Gaslight (1944)::Mystery|Thriller\\r\\n907::Gay Divorcee, The (1934)::Comedy|Musical|Romance\\r\\n908::North by Northwest (1959)::Drama|Thriller\\r\\n909::Apartment, The (1960)::Comedy|Drama\\r\\n910::Some Like It Hot (1959)::Comedy|Crime\\r\\n911::Charade (1963)::Comedy|Mystery|Romance|Thriller\\r\\n912::Casablanca (1942)::Drama|Romance|War\\r\\n913::Maltese Falcon, The (1941)::Film-Noir|Mystery\\r\\n914::My Fair Lady (1964)::Musical|Romance\\r\\n915::Sabrina (1954)::Comedy|Romance\\r\\n916::Roman Holiday (1953)::Comedy|Romance\\r\\n917::Little Princess, The (1939)::Children's|Drama\\r\\n918::Meet Me in St. Louis (1944)::Musical\\r\\n919::Wizard of Oz, The (1939)::Adventure|Children's|Drama|Musical\\r\\n920::Gone with the Wind (1939)::Drama|Romance|War\\r\\n921::My Favorite Year (1982)::Comedy\\r\\n922::Sunset Blvd. (a.k.a. Sunset Boulevard) (1950)::Film-Noir\\r\\n923::Citizen Kane (1941)::Drama\\r\\n924::2001: A Space Odyssey (1968)::Drama|Mystery|Sci-Fi|Thriller\\r\\n925::Golden Earrings (1947)::Adventure|Romance\\r\\n926::All About Eve (1950)::Drama\\r\\n927::Women, The (1939)::Comedy\\r\\n928::Rebecca (1940)::Romance|Thriller\\r\\n929::Foreign Correspondent (1940)::Thriller\\r\\n930::Notorious (1946)::Film-Noir|Romance|Thriller\\r\\n931::Spellbound (1945)::Mystery|Romance|Thriller\\r\\n932::Affair to Remember, An (1957)::Romance\\r\\n933::To Catch a Thief (1955)::Comedy|Romance|Thriller\\r\\n934::Father of the Bride (1950)::Comedy\\r\\n935::Band Wagon, The (1953)::Comedy|Musical\\r\\n936::Ninotchka (1939)::Comedy|Romance\\r\\n937::Love in the Afternoon (1957)::Comedy|Romance\\r\\n938::Gigi (1958)::Musical\\r\\n939::Reluctant Debutante, The (1958)::Comedy|Drama\\r\\n940::Adventures of Robin Hood, The (1938)::Action|Adventure\\r\\n941::Mark of Zorro, The (1940)::Adventure\\r\\n942::Laura (1944)::Crime|Film-Noir|Mystery\\r\\n943::Ghost and Mrs. Muir, The (1947)::Drama|Romance\\r\\n944::Lost Horizon (1937)::Drama\\r\\n945::Top Hat (1935)::Comedy|Musical|Romance\\r\\n946::To Be or Not to Be (1942)::Comedy|Drama|War\\r\\n947::My Man Godfrey (1936)::Comedy\\r\\n948::Giant (1956)::Drama\\r\\n949::East of Eden (1955)::Drama\\r\\n950::Thin Man, The (1934)::Mystery\\r\\n951::His Girl Friday (1940)::Comedy\\r\\n952::Around the World in 80 Days (1956)::Adventure|Comedy\\r\\n953::It's a Wonderful Life (1946)::Drama\\r\\n954::Mr. Smith Goes to Washington (1939)::Drama\\r\\n955::Bringing Up Baby (1938)::Comedy\\r\\n956::Penny Serenade (1941)::Drama|Romance\\r\\n957::Scarlet Letter, The (1926)::Drama\\r\\n958::Lady of Burlesque (1943)::Comedy|Mystery\\r\\n959::Of Human Bondage (1934)::Drama\\r\\n960::Angel on My Shoulder (1946)::Crime|Drama\\r\\n961::Little Lord Fauntleroy (1936)::Drama\\r\\n962::They Made Me a Criminal (1939)::Crime|Drama\\r\\n963::Inspector General, The (1949)::Musical\\r\\n964::Angel and the Badman (1947)::Western\\r\\n965::39 Steps, The (1935)::Thriller\\r\\n966::Walk in the Sun, A (1945)::Drama\\r\\n967::Outlaw, The (1943)::Western\\r\\n968::Night of the Living Dead (1968)::Horror|Sci-Fi\\r\\n969::African Queen, The (1951)::Action|Adventure|Romance|War\\r\\n970::Beat the Devil (1954)::Comedy|Drama\\r\\n971::Cat on a Hot Tin Roof (1958)::Drama\\r\\n972::Last Time I Saw Paris, The (1954)::Drama\\r\\n973::Meet John Doe (1941)::Drama\\r\\n974::Algiers (1938)::Drama|Romance\\r\\n975::Something to Sing About (1937)::Comedy|Musical\\r\\n976::Farewell to Arms, A (1932)::Romance|War\\r\\n977::Moonlight Murder (1936)::Mystery\\r\\n978::Blue Angel, The (Blaue Engel, Der) (1930)::Drama\\r\\n979::Nothing Personal (1995)::Drama|War\\r\\n980::In the Line of Duty 2 (1987)::Action\\r\\n981::Dangerous Ground (1997)::Drama\\r\\n982::Picnic (1955)::Drama\\r\\n983::Madagascar Skin (1995)::Romance\\r\\n984::Pompatus of Love, The (1996)::Comedy|Drama\\r\\n985::Small Wonders (1996)::Documentary\\r\\n986::Fly Away Home (1996)::Adventure|Children's\\r\\n987::Bliss (1997)::Drama|Romance\\r\\n988::Grace of My Heart (1996)::Comedy|Drama\\r\\n989::Schlafes Bruder (Brother of Sleep) (1995)::Drama\\r\\n990::Maximum Risk (1996)::Action|Adventure|Thriller\\r\\n991::Michael Collins (1996)::Drama|War\\r\\n992::Rich Man's Wife, The (1996)::Thriller\\r\\n993::Infinity (1996)::Drama\\r\\n994::Big Night (1996)::Drama\\r\\n996::Last Man Standing (1996)::Action|Drama|Western\\r\\n997::Caught (1996)::Drama|Thriller\\r\\n998::Set It Off (1996)::Action|Crime\\r\\n999::2 Days in the Valley (1996)::Crime\\r\\n1000::Curdled (1996)::Crime\\r\\n1001::Associate, The (L'Associe)(1982)::Comedy\\r\\n1002::Ed's Next Move (1996)::Comedy\\r\\n1003::Extreme Measures (1996)::Drama|Thriller\\r\\n1004::Glimmer Man, The (1996)::Action|Thriller\\r\\n1005::D3: The Mighty Ducks (1996)::Children's|Comedy\\r\\n1006::Chamber, The (1996)::Drama\\r\\n1007::Apple Dumpling Gang, The (1975)::Children's|Comedy|Western\\r\\n1008::Davy Crockett, King of the Wild Frontier (1955)::Western\\r\\n1009::Escape to Witch Mountain (1975)::Adventure|Children's|Fantasy\\r\\n1010::Love Bug, The (1969)::Children's|Comedy\\r\\n1011::Herbie Rides Again (1974)::Adventure|Children's|Comedy\\r\\n1012::Old Yeller (1957)::Children's|Drama\\r\\n1013::Parent Trap, The (1961)::Children's|Drama\\r\\n1014::Pollyanna (1960)::Children's|Comedy|Drama\\r\\n1015::Homeward Bound: The Incredible Journey (1993)::Adventure|Children's\\r\\n1016::Shaggy Dog, The (1959)::Children's|Comedy\\r\\n1017::Swiss Family Robinson (1960)::Adventure|Children's\\r\\n1018::That Darn Cat! (1965)::Children's|Comedy|Mystery\\r\\n1019::20,000 Leagues Under the Sea (1954)::Adventure|Children's|Fantasy|Sci-Fi\\r\\n1020::Cool Runnings (1993)::Comedy\\r\\n1021::Angels in the Outfield (1994)::Children's|Comedy\\r\\n1022::Cinderella (1950)::Animation|Children's|Musical\\r\\n1023::Winnie the Pooh and the Blustery Day (1968)::Animation|Children's\\r\\n1024::Three Caballeros, The (1945)::Animation|Children's|Musical\\r\\n1025::Sword in the Stone, The (1963)::Animation|Children's\\r\\n1026::So Dear to My Heart (1949)::Children's|Drama\\r\\n1027::Robin Hood: Prince of Thieves (1991)::Drama\\r\\n1028::Mary Poppins (1964)::Children's|Comedy|Musical\\r\\n1029::Dumbo (1941)::Animation|Children's|Musical\\r\\n1030::Pete's Dragon (1977)::Adventure|Animation|Children's|Musical\\r\\n1031::Bedknobs and Broomsticks (1971)::Adventure|Children's|Musical\\r\\n1032::Alice in Wonderland (1951)::Animation|Children's|Musical\\r\\n1033::Fox and the Hound, The (1981)::Animation|Children's\\r\\n1034::Freeway (1996)::Crime\\r\\n1035::Sound of Music, The (1965)::Musical\\r\\n1036::Die Hard (1988)::Action|Thriller\\r\\n1037::Lawnmower Man, The (1992)::Action|Sci-Fi|Thriller\\r\\n1038::Unhook the Stars (1996)::Drama\\r\\n1039::Synthetic Pleasures (1995)::Documentary\\r\\n1040::Secret Agent, The (1996)::Drama\\r\\n1041::Secrets & Lies (1996)::Drama\\r\\n1042::That Thing You Do! (1996)::Comedy\\r\\n1043::To Gillian on Her 37th Birthday (1996)::Drama|Romance\\r\\n1044::Surviving Picasso (1996)::Drama\\r\\n1045::Love Is All There Is (1996)::Comedy|Drama\\r\\n1046::Beautiful Thing (1996)::Drama|Romance\\r\\n1047::Long Kiss Goodnight, The (1996)::Action|Thriller\\r\\n1049::Ghost and the Darkness, The (1996)::Action|Adventure\\r\\n1050::Looking for Richard (1996)::Documentary|Drama\\r\\n1051::Trees Lounge (1996)::Drama\\r\\n1052::Proprietor, The (1996)::Drama\\r\\n1053::Normal Life (1996)::Crime|Drama\\r\\n1054::Get on the Bus (1996)::Drama\\r\\n1055::Shadow Conspiracy (1997)::Thriller\\r\\n1056::Jude (1996)::Drama\\r\\n1057::Everyone Says I Love You (1996)::Comedy|Musical|Romance\\r\\n1058::Bitter Sugar (Azucar Amargo) (1996)::Drama\\r\\n1059::William Shakespeare's Romeo and Juliet (1996)::Drama|Romance\\r\\n1060::Swingers (1996)::Comedy|Drama\\r\\n1061::Sleepers (1996)::Crime|Drama\\r\\n1062::Sunchaser, The (1996)::Drama\\r\\n1063::Johns (1996)::Drama\\r\\n1064::Aladdin and the King of Thieves (1996)::Animation|Children's|Comedy\\r\\n1065::Woman in Question, The (1950)::Mystery\\r\\n1066::Shall We Dance? (1937)::Comedy|Musical|Romance\\r\\n1067::Damsel in Distress, A (1937)::Comedy|Musical|Romance\\r\\n1068::Crossfire (1947)::Crime|Film-Noir\\r\\n1069::Murder, My Sweet (1944)::Film-Noir|Thriller\\r\\n1070::Macao (1952)::Adventure\\r\\n1071::For the Moment (1994)::Romance|War\\r\\n1073::Willy Wonka and the Chocolate Factory (1971)::Adventure|Children's|Comedy|Fantasy\\r\\n1075::Sexual Life of the Belgians, The (1994)::Comedy\\r\\n1076::Innocents, The (1961)::Thriller\\r\\n1077::Sleeper (1973)::Comedy|Sci-Fi\\r\\n1078::Bananas (1971)::Comedy|War\\r\\n1079::Fish Called Wanda, A (1988)::Comedy\\r\\n1080::Monty Python's Life of Brian (1979)::Comedy\\r\\n1081::Victor/Victoria (1982)::Comedy|Musical\\r\\n1082::Candidate, The (1972)::Drama\\r\\n1083::Great Race, The (1965)::Comedy|Musical\\r\\n1084::Bonnie and Clyde (1967)::Crime|Drama\\r\\n1085::Old Man and the Sea, The (1958)::Adventure|Drama\\r\\n1086::Dial M for Murder (1954)::Mystery|Thriller\\r\\n1087::Madame Butterfly (1995)::Musical\\r\\n1088::Dirty Dancing (1987)::Musical|Romance\\r\\n1089::Reservoir Dogs (1992)::Crime|Thriller\\r\\n1090::Platoon (1986)::Drama|War\\r\\n1091::Weekend at Bernie's (1989)::Comedy\\r\\n1092::Basic Instinct (1992)::Mystery|Thriller\\r\\n1093::Doors, The (1991)::Drama|Musical\\r\\n1094::Crying Game, The (1992)::Drama|Romance|War\\r\\n1095::Glengarry Glen Ross (1992)::Drama\\r\\n1096::Sophie's Choice (1982)::Drama\\r\\n1097::E.T. the Extra-Terrestrial (1982)::Children's|Drama|Fantasy|Sci-Fi\\r\\n1098::Search for One-eye Jimmy, The (1996)::Comedy\\r\\n1099::Christmas Carol, A (1938)::Drama\\r\\n1100::Days of Thunder (1990)::Action|Romance\\r\\n1101::Top Gun (1986)::Action|Romance\\r\\n1102::American Strays (1996)::Action\\r\\n1103::Rebel Without a Cause (1955)::Drama\\r\\n1104::Streetcar Named Desire, A (1951)::Drama\\r\\n1105::Children of the Corn IV: The Gathering (1996)::Horror\\r\\n1106::Leopard Son, The (1996)::Documentary\\r\\n1107::Loser (1991)::Comedy\\r\\n1108::Prerokbe Ognja (1995)::Documentary\\r\\n1109::Charm's Incidents (1996)::Drama\\r\\n1110::Bird of Prey (1996)::Action\\r\\n1111::Microcosmos (Microcosmos: Le peuple de l'herbe) (1996)::Documentary\\r\\n1112::Palookaville (1996)::Action|Drama\\r\\n1113::Associate, The (1996)::Comedy\\r\\n1114::Funeral, The (1996)::Drama\\r\\n1115::Sleepover (1995)::Comedy|Drama\\r\\n1116::Single Girl, A (La Fille Seule) (1995)::Drama\\r\\n1117::Eighth Day, The (Le Huiti\\xe8me jour ) (1996)::Drama\\r\\n1118::Tashunga (1995)::Adventure|Western\\r\\n1119::Drunks (1997)::Drama\\r\\n1120::People vs. Larry Flynt, The (1996)::Drama\\r\\n1121::Glory Daze (1996)::Drama\\r\\n1122::Plutonium Circus (1995)::Documentary\\r\\n1123::Perfect Candidate, A (1996)::Documentary\\r\\n1124::On Golden Pond (1981)::Drama\\r\\n1125::Return of the Pink Panther, The (1974)::Comedy\\r\\n1126::Drop Dead Fred (1991)::Comedy|Fantasy\\r\\n1127::Abyss, The (1989)::Action|Adventure|Sci-Fi|Thriller\\r\\n1128::Fog, The (1980)::Horror\\r\\n1129::Escape from New York (1981)::Action|Adventure|Sci-Fi|Thriller\\r\\n1130::Howling, The (1980)::Horror\\r\\n1131::Jean de Florette (1986)::Drama\\r\\n1132::Manon of the Spring (Manon des sources) (1986)::Drama\\r\\n1133::Talking About Sex (1994)::Comedy|Drama\\r\\n1134::Johnny 100 Pesos (1993)::Action|Drama\\r\\n1135::Private Benjamin (1980)::Comedy\\r\\n1136::Monty Python and the Holy Grail (1974)::Comedy\\r\\n1137::Hustler White (1996)::Romance\\r\\n1138::Dadetown (1995)::Documentary\\r\\n1139::Everything Relative (1996)::Drama\\r\\n1140::Entertaining Angels: The Dorothy Day Story (1996)::Drama\\r\\n1141::Hoogste tijd (1995)::Drama\\r\\n1142::Get Over It (1996)::Drama\\r\\n1143::Three Lives and Only One Death (1996)::Comedy\\r\\n1144::Line King: Al Hirschfeld, The (1996)::Documentary\\r\\n1145::Snowriders (1996)::Documentary\\r\\n1146::Curtis's Charm (1995)::Comedy|Drama\\r\\n1147::When We Were Kings (1996)::Documentary\\r\\n1148::Wrong Trousers, The (1993)::Animation|Comedy\\r\\n1149::JLG/JLG - autoportrait de d\\xe9cembre (1994)::Documentary|Drama\\r\\n1150::Return of Martin Guerre, The (Retour de Martin Guerre, Le) (1982)::Drama\\r\\n1151::Faust (1994)::Animation|Comedy|Thriller\\r\\n1152::He Walked by Night (1948)::Crime|Film-Noir|Thriller\\r\\n1153::Raw Deal (1948)::Film-Noir\\r\\n1154::T-Men (1947)::Film-Noir\\r\\n1155::Invitation, The (Zaproszenie) (1986)::Drama\\r\\n1156::Children Are Watching us, The (Bambini ci guardano, I) (1942)::Drama\\r\\n1157::Symphonie pastorale, La (1946)::Drama\\r\\n1158::Here Comes Cookie (1935)::Comedy\\r\\n1159::Love in Bloom (1935)::Romance\\r\\n1160::Six of a Kind (1934)::Comedy\\r\\n1161::Tin Drum, The (Blechtrommel, Die) (1979)::Drama\\r\\n1162::Ruling Class, The (1972)::Comedy\\r\\n1163::Mina Tannenbaum (1994)::Drama\\r\\n1164::Two or Three Things I Know About Her (1966)::Drama\\r\\n1165::Bloody Child, The (1996)::Drama|Thriller\\r\\n1166::Farmer & Chase (1995)::Comedy\\r\\n1167::Dear God (1996)::Comedy\\r\\n1168::Bad Moon (1996)::Horror\\r\\n1169::American Dream (1990)::Documentary\\r\\n1170::Best of the Best 3: No Turning Back (1995)::Action\\r\\n1171::Bob Roberts (1992)::Comedy\\r\\n1172::Cinema Paradiso (1988)::Comedy|Drama|Romance\\r\\n1173::Cook the Thief His Wife & Her Lover, The (1989)::Drama\\r\\n1174::Grosse Fatigue (1994)::Comedy\\r\\n1175::Delicatessen (1991)::Comedy|Sci-Fi\\r\\n1176::Double Life of Veronique, The (La Double Vie de V\\xe9ronique) (1991)::Drama\\r\\n1177::Enchanted April (1991)::Drama\\r\\n1178::Paths of Glory (1957)::Drama|War\\r\\n1179::Grifters, The (1990)::Crime|Drama|Film-Noir\\r\\n1180::Hear My Song (1991)::Comedy\\r\\n1181::Shooter, The (1995)::Action\\r\\n1183::English Patient, The (1996)::Drama|Romance|War\\r\\n1184::Mediterraneo (1991)::Comedy|War\\r\\n1185::My Left Foot (1989)::Drama\\r\\n1186::Sex, Lies, and Videotape (1989)::Drama\\r\\n1187::Passion Fish (1992)::Drama\\r\\n1188::Strictly Ballroom (1992)::Comedy|Romance\\r\\n1189::Thin Blue Line, The (1988)::Documentary\\r\\n1190::Tie Me Up! Tie Me Down! (1990)::Drama\\r\\n1191::Madonna: Truth or Dare (1991)::Documentary\\r\\n1192::Paris Is Burning (1990)::Documentary\\r\\n1193::One Flew Over the Cuckoo's Nest (1975)::Drama\\r\\n1194::Up in Smoke (1978)::Comedy\\r\\n1196::Star Wars: Episode V - The Empire Strikes Back (1980)::Action|Adventure|Drama|Sci-Fi|War\\r\\n1197::Princess Bride, The (1987)::Action|Adventure|Comedy|Romance\\r\\n1198::Raiders of the Lost Ark (1981)::Action|Adventure\\r\\n1199::Brazil (1985)::Sci-Fi\\r\\n1200::Aliens (1986)::Action|Sci-Fi|Thriller|War\\r\\n1201::Good, The Bad and The Ugly, The (1966)::Action|Western\\r\\n1202::Withnail and I (1987)::Comedy\\r\\n1203::12 Angry Men (1957)::Drama\\r\\n1204::Lawrence of Arabia (1962)::Adventure|War\\r\\n1205::Transformers: The Movie, The (1986)::Action|Animation|Children's|Sci-Fi|Thriller|War\\r\\n1206::Clockwork Orange, A (1971)::Sci-Fi\\r\\n1207::To Kill a Mockingbird (1962)::Drama\\r\\n1208::Apocalypse Now (1979)::Drama|War\\r\\n1209::Once Upon a Time in the West (1969)::Western\\r\\n1210::Star Wars: Episode VI - Return of the Jedi (1983)::Action|Adventure|Romance|Sci-Fi|War\\r\\n1211::Wings of Desire (Der Himmel \\xfcber Berlin) (1987)::Comedy|Drama|Romance\\r\\n1212::Third Man, The (1949)::Mystery|Thriller\\r\\n1213::GoodFellas (1990)::Crime|Drama\\r\\n1214::Alien (1979)::Action|Horror|Sci-Fi|Thriller\\r\\n1215::Army of Darkness (1993)::Action|Adventure|Comedy|Horror|Sci-Fi\\r\\n1216::Big Blue, The (Le Grand Bleu) (1988)::Adventure|Romance\\r\\n1217::Ran (1985)::Drama|War\\r\\n1218::Killer, The (Die xue shuang xiong) (1989)::Action|Thriller\\r\\n1219::Psycho (1960)::Horror|Thriller\\r\\n1220::Blues Brothers, The (1980)::Action|Comedy|Musical\\r\\n1221::Godfather: Part II, The (1974)::Action|Crime|Drama\\r\\n1222::Full Metal Jacket (1987)::Action|Drama|War\\r\\n1223::Grand Day Out, A (1992)::Animation|Comedy\\r\\n1224::Henry V (1989)::Drama|War\\r\\n1225::Amadeus (1984)::Drama\\r\\n1226::Quiet Man, The (1952)::Comedy|Romance\\r\\n1227::Once Upon a Time in America (1984)::Crime|Drama|Thriller\\r\\n1228::Raging Bull (1980)::Drama\\r\\n1230::Annie Hall (1977)::Comedy|Romance\\r\\n1231::Right Stuff, The (1983)::Drama\\r\\n1232::Stalker (1979)::Mystery|Sci-Fi\\r\\n1233::Boat, The (Das Boot) (1981)::Action|Drama|War\\r\\n1234::Sting, The (1973)::Comedy|Crime\\r\\n1235::Harold and Maude (1971)::Comedy\\r\\n1236::Trust (1990)::Comedy|Drama\\r\\n1237::Seventh Seal, The (Sjunde inseglet, Det) (1957)::Drama\\r\\n1238::Local Hero (1983)::Comedy\\r\\n1240::Terminator, The (1984)::Action|Sci-Fi|Thriller\\r\\n1241::Braindead (1992)::Comedy|Horror\\r\\n1242::Glory (1989)::Action|Drama|War\\r\\n1243::Rosencrantz and Guildenstern Are Dead (1990)::Comedy|Drama\\r\\n1244::Manhattan (1979)::Comedy|Drama|Romance\\r\\n1245::Miller's Crossing (1990)::Drama\\r\\n1246::Dead Poets Society (1989)::Drama\\r\\n1247::Graduate, The (1967)::Drama|Romance\\r\\n1248::Touch of Evil (1958)::Crime|Film-Noir|Thriller\\r\\n1249::Nikita (La Femme Nikita) (1990)::Thriller\\r\\n1250::Bridge on the River Kwai, The (1957)::Drama|War\\r\\n1251::8 1/2 (1963)::Drama\\r\\n1252::Chinatown (1974)::Film-Noir|Mystery|Thriller\\r\\n1253::Day the Earth Stood Still, The (1951)::Drama|Sci-Fi\\r\\n1254::Treasure of the Sierra Madre, The (1948)::Adventure\\r\\n1255::Bad Taste (1987)::Comedy|Horror\\r\\n1256::Duck Soup (1933)::Comedy|War\\r\\n1257::Better Off Dead... (1985)::Comedy\\r\\n1258::Shining, The (1980)::Horror\\r\\n1259::Stand by Me (1986)::Adventure|Comedy|Drama\\r\\n1260::M (1931)::Crime|Film-Noir|Thriller\\r\\n1261::Evil Dead II (Dead By Dawn) (1987)::Action|Adventure|Comedy|Horror\\r\\n1262::Great Escape, The (1963)::Adventure|War\\r\\n1263::Deer Hunter, The (1978)::Drama|War\\r\\n1264::Diva (1981)::Action|Drama|Mystery|Romance|Thriller\\r\\n1265::Groundhog Day (1993)::Comedy|Romance\\r\\n1266::Unforgiven (1992)::Western\\r\\n1267::Manchurian Candidate, The (1962)::Film-Noir|Thriller\\r\\n1268::Pump Up the Volume (1990)::Drama\\r\\n1269::Arsenic and Old Lace (1944)::Comedy|Mystery|Thriller\\r\\n1270::Back to the Future (1985)::Comedy|Sci-Fi\\r\\n1271::Fried Green Tomatoes (1991)::Drama\\r\\n1272::Patton (1970)::Drama|War\\r\\n1273::Down by Law (1986)::Comedy|Drama\\r\\n1274::Akira (1988)::Adventure|Animation|Sci-Fi|Thriller\\r\\n1275::Highlander (1986)::Action|Adventure\\r\\n1276::Cool Hand Luke (1967)::Comedy|Drama\\r\\n1277::Cyrano de Bergerac (1990)::Action|Drama|Romance\\r\\n1278::Young Frankenstein (1974)::Comedy|Horror\\r\\n1279::Night on Earth (1991)::Comedy|Drama\\r\\n1280::Raise the Red Lantern (1991)::Drama\\r\\n1281::Great Dictator, The (1940)::Comedy\\r\\n1282::Fantasia (1940)::Animation|Children's|Musical\\r\\n1283::High Noon (1952)::Western\\r\\n1284::Big Sleep, The (1946)::Film-Noir|Mystery\\r\\n1285::Heathers (1989)::Comedy\\r\\n1286::Somewhere in Time (1980)::Drama|Romance\\r\\n1287::Ben-Hur (1959)::Action|Adventure|Drama\\r\\n1288::This Is Spinal Tap (1984)::Comedy|Drama|Musical\\r\\n1289::Koyaanisqatsi (1983)::Documentary|War\\r\\n1290::Some Kind of Wonderful (1987)::Drama|Romance\\r\\n1291::Indiana Jones and the Last Crusade (1989)::Action|Adventure\\r\\n1292::Being There (1979)::Comedy\\r\\n1293::Gandhi (1982)::Drama\\r\\n1294::M*A*S*H (1970)::Comedy|War\\r\\n1295::Unbearable Lightness of Being, The (1988)::Drama\\r\\n1296::Room with a View, A (1986)::Drama|Romance\\r\\n1297::Real Genius (1985)::Comedy\\r\\n1298::Pink Floyd - The Wall (1982)::Drama|Musical|War\\r\\n1299::Killing Fields, The (1984)::Drama|War\\r\\n1300::My Life as a Dog (Mitt liv som hund) (1985)::Drama\\r\\n1301::Forbidden Planet (1956)::Sci-Fi\\r\\n1302::Field of Dreams (1989)::Drama\\r\\n1303::Man Who Would Be King, The (1975)::Adventure\\r\\n1304::Butch Cassidy and the Sundance Kid (1969)::Action|Comedy|Western\\r\\n1305::Paris, Texas (1984)::Drama\\r\\n1306::Until the End of the World (Bis ans Ende der Welt) (1991)::Drama|Sci-Fi\\r\\n1307::When Harry Met Sally... (1989)::Comedy|Romance\\r\\n1308::I Shot a Man in Vegas (1995)::Comedy\\r\\n1309::Parallel Sons (1995)::Drama|Romance\\r\\n1310::Hype! (1996)::Documentary\\r\\n1311::Santa with Muscles (1996)::Comedy\\r\\n1312::Female Perversions (1996)::Drama\\r\\n1313::Mad Dog Time (1996)::Crime\\r\\n1314::Breathing Room (1996)::Romance\\r\\n1315::Paris Was a Woman (1995)::Documentary\\r\\n1316::Anna (1996)::Drama\\r\\n1317::I'm Not Rappaport (1996)::Comedy\\r\\n1318::Blue Juice (1995)::Comedy|Drama\\r\\n1319::Kids of Survival (1993)::Documentary\\r\\n1320::Alien\\xb3 (1992)::Action|Horror|Sci-Fi|Thriller\\r\\n1321::American Werewolf in London, An (1981)::Horror\\r\\n1322::Amityville 1992: It's About Time (1992)::Horror\\r\\n1323::Amityville 3-D (1983)::Horror\\r\\n1324::Amityville: Dollhouse (1996)::Horror\\r\\n1325::Amityville: A New Generation (1993)::Horror\\r\\n1326::Amityville II: The Possession (1982)::Horror\\r\\n1327::Amityville Horror, The (1979)::Horror\\r\\n1328::Amityville Curse, The (1990)::Horror\\r\\n1329::Blood For Dracula (Andy Warhol's Dracula) (1974)::Horror\\r\\n1330::April Fool's Day (1986)::Comedy|Horror\\r\\n1331::Audrey Rose (1977)::Horror\\r\\n1332::Believers, The (1987)::Horror|Thriller\\r\\n1333::Birds, The (1963)::Horror\\r\\n1334::Blob, The (1958)::Horror|Sci-Fi\\r\\n1335::Blood Beach (1981)::Action|Horror\\r\\n1336::Body Parts (1991)::Horror\\r\\n1337::Body Snatcher, The (1945)::Horror\\r\\n1339::Bram Stoker's Dracula (1992)::Horror|Romance\\r\\n1340::Bride of Frankenstein (1935)::Horror\\r\\n1341::Burnt Offerings (1976)::Horror\\r\\n1342::Candyman (1992)::Horror\\r\\n1343::Cape Fear (1991)::Thriller\\r\\n1344::Cape Fear (1962)::Film-Noir|Thriller\\r\\n1345::Carrie (1976)::Horror\\r\\n1346::Cat People (1982)::Horror\\r\\n1347::Nightmare on Elm Street, A (1984)::Horror\\r\\n1348::Nosferatu (Nosferatu, eine Symphonie des Grauens) (1922)::Horror\\r\\n1349::Nosferatu a Venezia (1986)::Horror\\r\\n1350::Omen, The (1976)::Horror\\r\\n1351::Blood & Wine (1997)::Drama\\r\\n1352::Albino Alligator (1996)::Crime|Thriller\\r\\n1353::Mirror Has Two Faces, The (1996)::Comedy|Romance\\r\\n1354::Breaking the Waves (1996)::Drama\\r\\n1355::Nightwatch (1997)::Horror|Thriller\\r\\n1356::Star Trek: First Contact (1996)::Action|Adventure|Sci-Fi\\r\\n1357::Shine (1996)::Drama|Romance\\r\\n1358::Sling Blade (1996)::Drama|Thriller\\r\\n1359::Jingle All the Way (1996)::Adventure|Children's|Comedy\\r\\n1360::Identification of a Woman (Identificazione di una donna) (1982)::Drama\\r\\n1361::Paradise Lost: The Child Murders at Robin Hood Hills (1996)::Documentary\\r\\n1362::Garden of Finzi-Contini, The (Giardino dei Finzi-Contini, Il) (1970)::Drama\\r\\n1363::Preacher's Wife, The (1996)::Drama\\r\\n1364::Zero Kelvin (Kj\\xe6rlighetens kj\\xf8tere) (1995)::Action\\r\\n1365::Ridicule (1996)::Drama\\r\\n1366::Crucible, The (1996)::Drama\\r\\n1367::101 Dalmatians (1996)::Children's|Comedy\\r\\n1368::Forbidden Christ, The (Cristo proibito, Il) (1950)::Drama\\r\\n1369::I Can't Sleep (J'ai pas sommeil) (1994)::Drama|Thriller\\r\\n1370::Die Hard 2 (1990)::Action|Thriller\\r\\n1371::Star Trek: The Motion Picture (1979)::Action|Adventure|Sci-Fi\\r\\n1372::Star Trek VI: The Undiscovered Country (1991)::Action|Adventure|Sci-Fi\\r\\n1373::Star Trek V: The Final Frontier (1989)::Action|Adventure|Sci-Fi\\r\\n1374::Star Trek: The Wrath of Khan (1982)::Action|Adventure|Sci-Fi\\r\\n1375::Star Trek III: The Search for Spock (1984)::Action|Adventure|Sci-Fi\\r\\n1376::Star Trek IV: The Voyage Home (1986)::Action|Adventure|Sci-Fi\\r\\n1377::Batman Returns (1992)::Action|Adventure|Comedy|Crime\\r\\n1378::Young Guns (1988)::Action|Comedy|Western\\r\\n1379::Young Guns II (1990)::Action|Comedy|Western\\r\\n1380::Grease (1978)::Comedy|Musical|Romance\\r\\n1381::Grease 2 (1982)::Comedy|Musical|Romance\\r\\n1382::Marked for Death (1990)::Action|Drama\\r\\n1383::Adrenalin: Fear the Rush (1996)::Action|Sci-Fi\\r\\n1384::Substance of Fire, The (1996)::Drama\\r\\n1385::Under Siege (1992)::Action\\r\\n1386::Terror in a Texas Town (1958)::Western\\r\\n1387::Jaws (1975)::Action|Horror\\r\\n1388::Jaws 2 (1978)::Action|Horror\\r\\n1389::Jaws 3-D (1983)::Action|Horror\\r\\n1390::My Fellow Americans (1996)::Comedy\\r\\n1391::Mars Attacks! (1996)::Action|Comedy|Sci-Fi|War\\r\\n1392::Citizen Ruth (1996)::Comedy|Drama\\r\\n1393::Jerry Maguire (1996)::Drama|Romance\\r\\n1394::Raising Arizona (1987)::Comedy\\r\\n1395::Tin Men (1987)::Comedy|Drama\\r\\n1396::Sneakers (1992)::Crime|Drama|Sci-Fi\\r\\n1397::Bastard Out of Carolina (1996)::Drama\\r\\n1398::In Love and War (1996)::Romance|War\\r\\n1399::Marvin's Room (1996)::Drama\\r\\n1400::Somebody is Waiting (1996)::Drama\\r\\n1401::Ghosts of Mississippi (1996)::Drama\\r\\n1404::Night Falls on Manhattan (1997)::Crime|Drama\\r\\n1405::Beavis and Butt-head Do America (1996)::Animation|Comedy\\r\\n1406::C\\xe9r\\xe9monie, La (1995)::Drama\\r\\n1407::Scream (1996)::Horror|Thriller\\r\\n1408::Last of the Mohicans, The (1992)::Action|Romance|War\\r\\n1409::Michael (1996)::Comedy|Romance\\r\\n1410::Evening Star, The (1996)::Comedy|Drama\\r\\n1411::Hamlet (1996)::Drama\\r\\n1412::Some Mother's Son (1996)::Drama\\r\\n1413::Whole Wide World, The (1996)::Drama\\r\\n1414::Mother (1996)::Comedy\\r\\n1415::Thieves (Voleurs, Les) (1996)::Crime|Drama|Romance\\r\\n1416::Evita (1996)::Drama|Musical\\r\\n1417::Portrait of a Lady, The (1996)::Drama\\r\\n1419::Walkabout (1971)::Drama\\r\\n1420::Message to Love: The Isle of Wight Festival (1996)::Documentary\\r\\n1421::Grateful Dead (1995)::Documentary\\r\\n1422::Murder at 1600 (1997)::Mystery|Thriller\\r\\n1423::Hearts and Minds (1996)::Drama\\r\\n1424::Inside (1996)::Action\\r\\n1425::Fierce Creatures (1997)::Comedy\\r\\n1426::Zeus and Roxanne (1997)::Children's\\r\\n1427::Turbulence (1997)::Thriller\\r\\n1428::Angel Baby (1995)::Drama\\r\\n1429::Jackie Chan's First Strike (1996)::Action\\r\\n1430::Underworld (1997)::Thriller\\r\\n1431::Beverly Hills Ninja (1997)::Action|Comedy\\r\\n1432::Metro (1997)::Action\\r\\n1433::Machine, The (1994)::Comedy|Horror\\r\\n1434::Stranger, The (1994)::Action\\r\\n1436::Falling in Love Again (1980)::Comedy\\r\\n1437::Cement Garden, The (1993)::Drama\\r\\n1438::Dante's Peak (1997)::Action|Thriller\\r\\n1439::Meet Wally Sparks (1997)::Comedy\\r\\n1440::Amos & Andrew (1993)::Comedy\\r\\n1441::Benny & Joon (1993)::Comedy|Romance\\r\\n1442::Prefontaine (1997)::Drama\\r\\n1443::Tickle in the Heart, A (1996)::Documentary\\r\\n1444::Guantanamera (1994)::Comedy\\r\\n1445::McHale's Navy (1997)::Comedy|War\\r\\n1446::Kolya (1996)::Comedy\\r\\n1447::Gridlock'd (1997)::Crime\\r\\n1448::Fire on the Mountain (1996)::Documentary\\r\\n1449::Waiting for Guffman (1996)::Comedy\\r\\n1450::Prisoner of the Mountains (Kavkazsky Plennik) (1996)::War\\r\\n1453::Beautician and the Beast, The (1997)::Comedy|Romance\\r\\n1454::SubUrbia (1997)::Comedy\\r\\n1455::Hotel de Love (1996)::Comedy|Romance\\r\\n1456::Pest, The (1997)::Comedy\\r\\n1457::Fools Rush In (1997)::Comedy|Romance\\r\\n1458::Touch (1997)::Romance\\r\\n1459::Absolute Power (1997)::Mystery|Thriller\\r\\n1460::That Darn Cat! (1997)::Children's|Comedy|Mystery\\r\\n1461::Vegas Vacation (1997)::Comedy\\r\\n1462::Unforgotten: Twenty-Five Years After Willowbrook (1996)::Documentary\\r\\n1463::That Old Feeling (1997)::Comedy|Romance\\r\\n1464::Lost Highway (1997)::Mystery\\r\\n1465::Rosewood (1997)::Drama\\r\\n1466::Donnie Brasco (1997)::Crime|Drama\\r\\n1467::Salut cousin! (1996)::Comedy|Drama\\r\\n1468::Booty Call (1997)::Comedy|Romance\\r\\n1470::Rhyme & Reason (1997)::Documentary\\r\\n1471::Boys Life 2 (1997)::Drama\\r\\n1472::City of Industry (1997)::Crime|Thriller\\r\\n1473::Best Men (1997)::Action|Comedy|Crime|Drama\\r\\n1474::Jungle2Jungle (a.k.a. Jungle 2 Jungle) (1997)::Children's|Comedy\\r\\n1475::Kama Sutra: A Tale of Love (1996)::Romance\\r\\n1476::Private Parts (1997)::Comedy|Drama\\r\\n1477::Love Jones (1997)::Romance\\r\\n1479::Saint, The (1997)::Action|Romance|Thriller\\r\\n1480::Smilla's Sense of Snow (1997)::Action|Drama|Thriller\\r\\n1482::Van, The (1996)::Comedy|Drama\\r\\n1483::Crash (1996)::Drama|Thriller\\r\\n1484::Daytrippers, The (1996)::Mystery\\r\\n1485::Liar Liar (1997)::Comedy\\r\\n1486::Quiet Room, The (1996)::Drama\\r\\n1487::Selena (1997)::Drama|Musical\\r\\n1488::Devil's Own, The (1997)::Action|Drama|Thriller|War\\r\\n1489::Cats Don't Dance (1997)::Animation|Children's|Musical\\r\\n1490::B*A*P*S (1997)::Comedy\\r\\n1493::Love and Other Catastrophes (1996)::Romance\\r\\n1494::Sixth Man, The (1997)::Comedy\\r\\n1495::Turbo: A Power Rangers Movie (1997)::Action|Adventure|Children's\\r\\n1496::Anna Karenina (1997)::Drama|Romance\\r\\n1497::Double Team (1997)::Action\\r\\n1498::Inventing the Abbotts (1997)::Drama|Romance\\r\\n1499::Anaconda (1997)::Action|Adventure|Thriller\\r\\n1500::Grosse Pointe Blank (1997)::Comedy|Crime\\r\\n1501::Keys to Tulsa (1997)::Crime\\r\\n1502::Kissed (1996)::Romance\\r\\n1503::8 Heads in a Duffel Bag (1997)::Comedy\\r\\n1504::Hollow Reed (1996)::Drama\\r\\n1507::Paradise Road (1997)::Drama|War\\r\\n1508::Traveller (1997)::Drama\\r\\n1509::All Over Me (1997)::Drama\\r\\n1510::Brother's Kiss, A (1997)::Drama\\r\\n1511::A Chef in Love (1996)::Comedy\\r\\n1513::Romy and Michele's High School Reunion (1997)::Comedy\\r\\n1514::Temptress Moon (Feng Yue) (1996)::Romance\\r\\n1515::Volcano (1997)::Drama|Thriller\\r\\n1516::Children of the Revolution (1996)::Comedy\\r\\n1517::Austin Powers: International Man of Mystery (1997)::Comedy\\r\\n1518::Breakdown (1997)::Action|Thriller\\r\\n1519::Broken English (1996)::Drama\\r\\n1520::Commandments (1997)::Romance\\r\\n1522::Ripe (1996)::Drama\\r\\n1523::Truth or Consequences, N.M. (1997)::Action|Crime|Romance\\r\\n1524::Turning, The (1992)::Drama\\r\\n1525::Warriors of Virtue (1997)::Action|Adventure|Children's|Fantasy\\r\\n1526::Fathers' Day (1997)::Comedy\\r\\n1527::Fifth Element, The (1997)::Action|Sci-Fi\\r\\n1528::Intimate Relations (1996)::Comedy\\r\\n1529::Nowhere (1997)::Drama\\r\\n1531::Losing Chase (1996)::Drama\\r\\n1532::Sprung (1997)::Comedy\\r\\n1533::Promise, The (La Promesse) (1996)::Drama\\r\\n1534::Bonheur, Le (1965)::Drama\\r\\n1535::Love! Valour! Compassion! (1997)::Drama|Romance\\r\\n1537::Shall We Dance? (Shall We Dansu?) (1996)::Comedy\\r\\n1538::Second Jungle Book: Mowgli & Baloo, The (1997)::Adventure|Children's\\r\\n1539::Twin Town (1997)::Comedy|Crime\\r\\n1541::Addicted to Love (1997)::Comedy|Romance\\r\\n1542::Brassed Off (1996)::Comedy|Drama|Romance\\r\\n1543::Designated Mourner, The (1997)::Drama\\r\\n1544::Lost World: Jurassic Park, The (1997)::Action|Adventure|Sci-Fi|Thriller\\r\\n1545::Ponette (1996)::Drama\\r\\n1546::Schizopolis (1996)::Comedy\\r\\n1547::Shiloh (1997)::Children's|Drama\\r\\n1548::War at Home, The (1996)::Drama\\r\\n1549::Rough Magic (1995)::Drama|Romance\\r\\n1550::Trial and Error (1997)::Comedy|Romance\\r\\n1551::Buddy (1997)::Adventure|Children's|Drama\\r\\n1552::Con Air (1997)::Action|Adventure|Thriller\\r\\n1553::Late Bloomers (1996)::Comedy\\r\\n1554::Pillow Book, The (1995)::Drama|Romance\\r\\n1555::To Have, or Not (1995)::Drama\\r\\n1556::Speed 2: Cruise Control (1997)::Action|Romance|Thriller\\r\\n1557::Squeeze (1996)::Drama\\r\\n1558::Sudden Manhattan (1996)::Comedy\\r\\n1559::Next Step, The (1995)::Drama\\r\\n1561::Wedding Bell Blues (1996)::Comedy\\r\\n1562::Batman & Robin (1997)::Action|Adventure|Crime\\r\\n1563::Dream With the Fishes (1997)::Drama\\r\\n1564::Roseanna's Grave (For Roseanna) (1997)::Comedy|Romance\\r\\n1565::Head Above Water (1996)::Comedy|Thriller\\r\\n1566::Hercules (1997)::Adventure|Animation|Children's|Comedy|Musical\\r\\n1567::Last Time I Committed Suicide, The (1997)::Drama\\r\\n1568::MURDER and murder (1996)::Crime|Drama|Mystery\\r\\n1569::My Best Friend's Wedding (1997)::Comedy|Romance\\r\\n1570::Tetsuo II: Body Hammer (1992)::Sci-Fi\\r\\n1571::When the Cats Away (Chacun cherche son chat) (1996)::Comedy|Romance\\r\\n1572::Contempt (Le M\\xe9pris) (1963)::Drama\\r\\n1573::Face/Off (1997)::Action|Sci-Fi|Thriller\\r\\n1574::Fall (1997)::Romance\\r\\n1575::Gabbeh (1996)::Drama\\r\\n1577::Mondo (1996)::Drama\\r\\n1578::Innocent Sleep, The (1995)::Crime\\r\\n1579::For Ever Mozart (1996)::Drama\\r\\n1580::Men in Black (1997)::Action|Adventure|Comedy|Sci-Fi\\r\\n1581::Out to Sea (1997)::Comedy\\r\\n1582::Wild America (1997)::Adventure|Children's\\r\\n1583::Simple Wish, A (1997)::Children's|Fantasy\\r\\n1584::Contact (1997)::Drama|Sci-Fi\\r\\n1585::Love Serenade (1996)::Comedy\\r\\n1586::G.I. Jane (1997)::Action|Drama|War\\r\\n1587::Conan the Barbarian (1982)::Action|Adventure\\r\\n1588::George of the Jungle (1997)::Children's|Comedy\\r\\n1589::Cop Land (1997)::Crime|Drama|Mystery\\r\\n1590::Event Horizon (1997)::Action|Mystery|Sci-Fi|Thriller\\r\\n1591::Spawn (1997)::Action|Adventure|Sci-Fi|Thriller\\r\\n1592::Air Bud (1997)::Children's|Comedy\\r\\n1593::Picture Perfect (1997)::Comedy|Romance\\r\\n1594::In the Company of Men (1997)::Drama\\r\\n1595::Free Willy 3: The Rescue (1997)::Adventure|Children's|Drama\\r\\n1596::Career Girls (1997)::Drama\\r\\n1597::Conspiracy Theory (1997)::Action|Mystery|Romance|Thriller\\r\\n1598::Desperate Measures (1998)::Crime|Drama|Thriller\\r\\n1599::Steel (1997)::Action\\r\\n1600::She's So Lovely (1997)::Drama|Romance\\r\\n1601::Hoodlum (1997)::Crime|Drama|Film-Noir\\r\\n1602::Leave It to Beaver (1997)::Comedy\\r\\n1603::Mimic (1997)::Sci-Fi|Thriller\\r\\n1604::Money Talks (1997)::Action|Comedy\\r\\n1605::Excess Baggage (1997)::Adventure|Romance\\r\\n1606::Kull the Conqueror (1997)::Action|Adventure\\r\\n1608::Air Force One (1997)::Action|Thriller\\r\\n1609::187 (1997)::Drama\\r\\n1610::Hunt for Red October, The (1990)::Action|Thriller\\r\\n1611::My Own Private Idaho (1991)::Drama\\r\\n1612::Kiss Me, Guido (1997)::Comedy\\r\\n1613::Star Maps (1997)::Drama\\r\\n1614::In & Out (1997)::Comedy\\r\\n1615::Edge, The (1997)::Adventure|Thriller\\r\\n1616::Peacemaker, The (1997)::Action|Thriller|War\\r\\n1617::L.A. Confidential (1997)::Crime|Film-Noir|Mystery|Thriller\\r\\n1619::Seven Years in Tibet (1997)::Drama|War\\r\\n1620::Kiss the Girls (1997)::Crime|Drama|Thriller\\r\\n1621::Soul Food (1997)::Drama\\r\\n1622::Kicked in the Head (1997)::Comedy|Drama\\r\\n1623::Wishmaster (1997)::Horror\\r\\n1624::Thousand Acres, A (1997)::Drama\\r\\n1625::Game, The (1997)::Mystery|Thriller\\r\\n1626::Fire Down Below (1997)::Action|Drama|Thriller\\r\\n1627::U Turn (1997)::Action|Crime|Mystery\\r\\n1628::Locusts, The (1997)::Drama\\r\\n1629::MatchMaker, The (1997)::Comedy|Romance\\r\\n1630::Lay of the Land, The (1997)::Comedy|Drama\\r\\n1631::Assignment, The (1997)::Thriller\\r\\n1632::Smile Like Yours, A (1997)::Comedy|Romance\\r\\n1633::Ulee's Gold (1997)::Drama\\r\\n1635::Ice Storm, The (1997)::Drama\\r\\n1636::Stag (1997)::Action|Thriller\\r\\n1639::Chasing Amy (1997)::Drama|Romance\\r\\n1640::How to Be a Player (1997)::Comedy\\r\\n1641::Full Monty, The (1997)::Comedy\\r\\n1642::Indian Summer (a.k.a. Alive & Kicking) (1996)::Comedy|Drama\\r\\n1643::Mrs. Brown (Her Majesty, Mrs. Brown) (1997)::Drama|Romance\\r\\n1644::I Know What You Did Last Summer (1997)::Horror|Mystery|Thriller\\r\\n1645::Devil's Advocate, The (1997)::Crime|Horror|Mystery|Thriller\\r\\n1646::Rocket Man (1997)::Comedy\\r\\n1647::Playing God (1997)::Crime|Thriller\\r\\n1648::House of Yes, The (1997)::Comedy|Drama|Thriller\\r\\n1649::Fast, Cheap & Out of Control (1997)::Documentary\\r\\n1650::Washington Square (1997)::Drama\\r\\n1651::Telling Lies in America (1997)::Drama\\r\\n1652::Year of the Horse (1997)::Documentary\\r\\n1653::Gattaca (1997)::Drama|Sci-Fi|Thriller\\r\\n1654::FairyTale: A True Story (1997)::Children's|Drama|Fantasy\\r\\n1655::Phantoms (1998)::Horror\\r\\n1656::Swept from the Sea (1997)::Romance\\r\\n1657::Wonderland (1997)::Documentary\\r\\n1658::Life Less Ordinary, A (1997)::Romance|Thriller\\r\\n1659::Hurricane Streets (1998)::Drama\\r\\n1660::Eve's Bayou (1997)::Drama\\r\\n1661::Switchback (1997)::Thriller\\r\\n1662::Gang Related (1997)::Crime\\r\\n1663::Stripes (1981)::Comedy\\r\\n1664::N\\xe9nette et Boni (1996)::Drama\\r\\n1665::Bean (1997)::Comedy\\r\\n1666::Hugo Pool (1997)::Romance\\r\\n1667::Mad City (1997)::Action|Drama\\r\\n1668::One Night Stand (1997)::Drama\\r\\n1669::Tango Lesson, The (1997)::Romance\\r\\n1670::Welcome To Sarajevo (1997)::Drama|War\\r\\n1671::Deceiver (1997)::Crime\\r\\n1672::Rainmaker, The (1997)::Drama\\r\\n1673::Boogie Nights (1997)::Drama\\r\\n1674::Witness (1985)::Drama|Romance|Thriller\\r\\n1675::Incognito (1997)::Crime|Thriller\\r\\n1676::Starship Troopers (1997)::Action|Adventure|Sci-Fi|War\\r\\n1677::Critical Care (1997)::Comedy\\r\\n1678::Joy Luck Club, The (1993)::Drama\\r\\n1679::Chairman of the Board (1998)::Comedy\\r\\n1680::Sliding Doors (1998)::Drama|Romance\\r\\n1681::Mortal Kombat: Annihilation (1997)::Action|Adventure\\r\\n1682::Truman Show, The (1998)::Drama\\r\\n1683::Wings of the Dove, The (1997)::Drama|Romance|Thriller\\r\\n1684::Mrs. Dalloway (1997)::Romance\\r\\n1685::I Love You, I Love You Not (1996)::Romance\\r\\n1686::Red Corner (1997)::Crime|Thriller\\r\\n1687::Jackal, The (1997)::Action|Thriller\\r\\n1688::Anastasia (1997)::Animation|Children's|Musical\\r\\n1689::Man Who Knew Too Little, The (1997)::Comedy|Mystery\\r\\n1690::Alien: Resurrection (1997)::Action|Horror|Sci-Fi\\r\\n1692::Alien Escape (1995)::Horror|Sci-Fi\\r\\n1693::Amistad (1997)::Drama\\r\\n1694::Apostle, The (1997)::Drama\\r\\n1695::Artemisia (1997)::Drama\\r\\n1696::Bent (1997)::Drama|War\\r\\n1697::Big Bang Theory, The (1994)::Crime\\r\\n1698::Boys, Les (1997)::Comedy\\r\\n1699::Butcher Boy, The (1998)::Drama\\r\\n1701::Deconstructing Harry (1997)::Comedy|Drama\\r\\n1702::Flubber (1997)::Children's|Comedy|Fantasy\\r\\n1703::For Richer or Poorer (1997)::Comedy\\r\\n1704::Good Will Hunting (1997)::Drama\\r\\n1705::Guy (1996)::Drama\\r\\n1706::Harlem River Drive (1996)::Drama\\r\\n1707::Home Alone 3 (1997)::Children's|Comedy\\r\\n1708::Ill Gotten Gains (1997)::Drama\\r\\n1709::Legal Deceit (1997)::Thriller\\r\\n1710::Man of Her Dreams (1996)::Drama\\r\\n1711::Midnight in the Garden of Good and Evil (1997)::Comedy|Crime|Drama|Mystery\\r\\n1713::Mouse Hunt (1997)::Children's|Comedy\\r\\n1714::Never Met Picasso (1996)::Romance\\r\\n1715::Office Killer (1997)::Thriller\\r\\n1716::Other Voices, Other Rooms (1997)::Drama\\r\\n1717::Scream 2 (1997)::Horror|Thriller\\r\\n1718::Stranger in the House (1997)::Thriller\\r\\n1719::Sweet Hereafter, The (1997)::Drama\\r\\n1720::Time Tracers (1995)::Action|Adventure|Sci-Fi\\r\\n1721::Titanic (1997)::Drama|Romance\\r\\n1722::Tomorrow Never Dies (1997)::Action|Romance|Thriller\\r\\n1723::Twisted (1996)::Comedy|Drama\\r\\n1724::Full Speed (1996)::Drama\\r\\n1725::Education of Little Tree, The (1997)::Drama\\r\\n1726::Postman, The (1997)::Drama\\r\\n1727::Horse Whisperer, The (1998)::Drama\\r\\n1728::Winter Guest, The (1997)::Drama\\r\\n1729::Jackie Brown (1997)::Crime|Drama\\r\\n1730::Kundun (1997)::Drama\\r\\n1731::Mr. Magoo (1997)::Comedy\\r\\n1732::Big Lebowski, The (1998)::Comedy|Crime|Mystery|Thriller\\r\\n1733::Afterglow (1997)::Drama|Romance\\r\\n1734::My Life in Pink (Ma vie en rose) (1997)::Comedy|Drama\\r\\n1735::Great Expectations (1998)::Drama|Romance\\r\\n1738::Vermin (1998)::Comedy\\r\\n1739::3 Ninjas: High Noon On Mega Mountain (1998)::Action|Children's\\r\\n1740::Men of Means (1998)::Action|Drama\\r\\n1741::Midaq Alley (Callej\\xf3n de los milagros, El) (1995)::Drama\\r\\n1742::Caught Up (1998)::Crime\\r\\n1743::Arguing the World (1996)::Documentary\\r\\n1744::Firestorm (1998)::Action|Adventure|Thriller\\r\\n1746::Senseless (1998)::Comedy\\r\\n1747::Wag the Dog (1997)::Comedy|Drama\\r\\n1748::Dark City (1998)::Film-Noir|Sci-Fi|Thriller\\r\\n1749::Leading Man, The (1996)::Romance\\r\\n1750::Star Kid (1997)::Adventure|Children's|Fantasy|Sci-Fi\\r\\n1752::Hard Rain (1998)::Action|Thriller\\r\\n1753::Half Baked (1998)::Comedy\\r\\n1754::Fallen (1998)::Action|Mystery|Thriller\\r\\n1755::Shooting Fish (1997)::Romance\\r\\n1756::Prophecy II, The (1998)::Horror\\r\\n1757::Duoluo tianshi (1995)::Drama\\r\\n1758::Dangerous Beauty (1998)::Drama\\r\\n1759::Four Days in September (1997)::Drama\\r\\n1760::Spice World (1997)::Comedy|Musical\\r\\n1762::Deep Rising (1998)::Action|Horror|Sci-Fi\\r\\n1764::Tainted (1998)::Comedy|Thriller\\r\\n1765::Letter From Death Row, A (1998)::Crime|Drama\\r\\n1767::Music From Another Room (1998)::Drama|Romance\\r\\n1768::Mat' i syn (1997)::Drama\\r\\n1769::Replacement Killers, The (1998)::Action|Thriller\\r\\n1770::B. Monkey (1998)::Romance|Thriller\\r\\n1771::Night Flier (1997)::Horror\\r\\n1772::Blues Brothers 2000 (1998)::Action|Comedy|Musical\\r\\n1773::Tokyo Fist (1995)::Action|Drama\\r\\n1774::Mass Transit (1998)::Comedy|Drama\\r\\n1776::Ride (1998)::Drama\\r\\n1777::Wedding Singer, The (1998)::Comedy|Romance\\r\\n1779::Sphere (1998)::Adventure|Sci-Fi|Thriller\\r\\n1780::Ayn Rand: A Sense of Life (1997)::Documentary\\r\\n1781::Further Gesture, A (1996)::Drama\\r\\n1782::Little City (1998)::Comedy|Romance\\r\\n1783::Palmetto (1998)::Film-Noir|Mystery|Thriller\\r\\n1784::As Good As It Gets (1997)::Comedy|Drama\\r\\n1785::King of New York (1990)::Action|Crime\\r\\n1787::Paralyzing Fear: The Story of Polio in America, A (1998)::Documentary\\r\\n1788::Men With Guns (1997)::Action|Drama\\r\\n1789::Sadness of Sex, The (1995)::Drama\\r\\n1791::Twilight (1998)::Crime|Drama\\r\\n1792::U.S. Marshalls (1998)::Action|Thriller\\r\\n1793::Welcome to Woop-Woop (1997)::Comedy\\r\\n1794::Love and Death on Long Island (1997)::Comedy|Drama\\r\\n1795::Callej\\xf3n de los milagros, El (1995)::Drama\\r\\n1796::In God's Hands (1998)::Action|Drama\\r\\n1797::Everest (1998)::Documentary\\r\\n1798::Hush (1998)::Thriller\\r\\n1799::Suicide Kings (1997)::Crime|Drama\\r\\n1801::Man in the Iron Mask, The (1998)::Action|Drama|Romance\\r\\n1804::Newton Boys, The (1998)::Crime|Drama\\r\\n1805::Wild Things (1998)::Crime|Drama|Mystery|Thriller\\r\\n1806::Paulie (1998)::Adventure|Children's|Comedy\\r\\n1807::Cool Dry Place, A (1998)::Drama\\r\\n1809::Hana-bi (1997)::Comedy|Crime|Drama\\r\\n1810::Primary Colors (1998)::Drama\\r\\n1811::Niagara, Niagara (1997)::Drama\\r\\n1812::Wide Awake (1998)::Children's|Comedy|Drama\\r\\n1814::Price Above Rubies, A (1998)::Drama\\r\\n1815::Eden (1997)::Drama\\r\\n1816::Two Girls and a Guy (1997)::Comedy|Drama\\r\\n1817::No Looking Back (1998)::Comedy|Drama|Romance\\r\\n1819::Storefront Hitchcock (1997)::Drama\\r\\n1820::Proposition, The (1998)::Drama\\r\\n1821::Object of My Affection, The (1998)::Comedy|Romance\\r\\n1822::Meet the Deedles (1998)::Children's|Comedy\\r\\n1824::Homegrown (1998)::Comedy|Thriller\\r\\n1825::Player's Club, The (1998)::Action|Drama\\r\\n1826::Barney's Great Adventure (1998)::Adventure|Children's\\r\\n1827::Big One, The (1997)::Comedy|Documentary\\r\\n1829::Chinese Box (1997)::Drama|Romance\\r\\n1830::Follow the Bitch (1998)::Comedy\\r\\n1831::Lost in Space (1998)::Action|Sci-Fi|Thriller\\r\\n1832::Heaven's Burning (1997)::Action|Drama\\r\\n1833::Mercury Rising (1998)::Action|Drama|Thriller\\r\\n1834::Spanish Prisoner, The (1997)::Drama|Thriller\\r\\n1835::City of Angels (1998)::Romance\\r\\n1836::Last Days of Disco, The (1998)::Drama\\r\\n1837::Odd Couple II, The (1998)::Comedy\\r\\n1839::My Giant (1998)::Comedy\\r\\n1840::He Got Game (1998)::Drama\\r\\n1841::Gingerbread Man, The (1998)::Drama|Thriller\\r\\n1842::Illtown (1996)::Crime|Drama\\r\\n1843::Slappy and the Stinkers (1998)::Children's|Comedy\\r\\n1844::Live Flesh (1997)::Drama\\r\\n1845::Zero Effect (1998)::Comedy|Thriller\\r\\n1846::Nil By Mouth (1997)::Drama\\r\\n1847::Ratchet (1996)::Drama|Thriller\\r\\n1848::Borrowers, The (1997)::Adventure|Children's|Comedy|Fantasy\\r\\n1849::Prince Valiant (1997)::Adventure\\r\\n1850::I Love You, Don't Touch Me! (1998)::Drama|Romance\\r\\n1851::Leather Jacket Love Story (1997)::Drama|Romance\\r\\n1852::Love Walked In (1998)::Drama|Thriller\\r\\n1853::Alan Smithee Film: Burn Hollywood Burn, An (1997)::Comedy\\r\\n1854::Kissing a Fool (1998)::Comedy|Romance\\r\\n1855::Krippendorf's Tribe (1998)::Comedy\\r\\n1856::Kurt & Courtney (1998)::Documentary|Musical\\r\\n1857::Real Blonde, The (1997)::Comedy\\r\\n1858::Mr. Nice Guy (1997)::Action|Comedy\\r\\n1859::Taste of Cherry (1997)::Drama\\r\\n1860::Character (Karakter) (1997)::Drama\\r\\n1861::Junk Mail (1997)::Comedy|Thriller\\r\\n1862::Species II (1998)::Horror|Sci-Fi\\r\\n1863::Major League: Back to the Minors (1998)::Comedy\\r\\n1864::Sour Grapes (1998)::Comedy\\r\\n1865::Wild Man Blues (1998)::Documentary\\r\\n1866::Big Hit, The (1998)::Action|Comedy\\r\\n1867::Tarzan and the Lost City (1998)::Action|Adventure\\r\\n1868::Truce, The (1996)::Drama|War\\r\\n1869::Black Dog (1998)::Action|Thriller\\r\\n1870::Dancer, Texas Pop. 81 (1998)::Comedy|Drama\\r\\n1871::Friend of the Deceased, A (1997)::Comedy|Drama\\r\\n1872::Go Now (1995)::Drama\\r\\n1873::Mis\\xe9rables, Les (1998)::Drama\\r\\n1874::Still Breathing (1997)::Comedy|Romance\\r\\n1875::Clockwatchers (1997)::Comedy\\r\\n1876::Deep Impact (1998)::Action|Drama|Sci-Fi|Thriller\\r\\n1877::Little Men (1998)::Drama\\r\\n1878::Woo (1998)::Comedy|Romance\\r\\n1879::Hanging Garden, The (1997)::Drama\\r\\n1880::Lawn Dogs (1997)::Drama\\r\\n1881::Quest for Camelot (1998)::Adventure|Animation|Children's|Fantasy\\r\\n1882::Godzilla (1998)::Action|Sci-Fi\\r\\n1883::Bulworth (1998)::Comedy\\r\\n1884::Fear and Loathing in Las Vegas (1998)::Comedy|Drama\\r\\n1885::Opposite of Sex, The (1998)::Comedy|Drama\\r\\n1886::I Got the Hook Up (1998)::Comedy\\r\\n1887::Almost Heroes (1998)::Adventure|Comedy\\r\\n1888::Hope Floats (1998)::Comedy|Drama|Romance\\r\\n1889::Insomnia (1997)::Thriller\\r\\n1890::Little Boy Blue (1997)::Drama\\r\\n1891::Ugly, The (1997)::Horror|Thriller\\r\\n1892::Perfect Murder, A (1998)::Mystery|Thriller\\r\\n1893::Beyond Silence (1996)::Drama\\r\\n1894::Six Days Seven Nights (1998)::Adventure|Comedy|Romance\\r\\n1895::Can't Hardly Wait (1998)::Comedy|Drama|Romance\\r\\n1896::Cousin Bette (1998)::Comedy\\r\\n1897::High Art (1998)::Drama|Romance\\r\\n1898::Land Girls, The (1998)::Drama|War\\r\\n1899::Passion in the Desert (1998)::Adventure|Drama\\r\\n1900::Children of Heaven, The (Bacheha-Ye Aseman) (1997)::Drama\\r\\n1901::Dear Jesse (1997)::Documentary\\r\\n1902::Dream for an Insomniac (1996)::Drama|Romance\\r\\n1903::Hav Plenty (1997)::Comedy\\r\\n1904::Henry Fool (1997)::Comedy|Drama\\r\\n1905::Marie Baie Des Anges (1997)::Drama\\r\\n1906::Mr. Jealousy (1997)::Comedy|Romance\\r\\n1907::Mulan (1998)::Animation|Children's\\r\\n1908::Resurrection Man (1998)::Drama|Thriller\\r\\n1909::X-Files: Fight the Future, The (1998)::Mystery|Sci-Fi|Thriller\\r\\n1910::I Went Down (1997)::Action|Comedy|Crime\\r\\n1911::Doctor Dolittle (1998)::Comedy\\r\\n1912::Out of Sight (1998)::Action|Crime|Romance\\r\\n1913::Picnic at Hanging Rock (1975)::Drama|Mystery\\r\\n1914::Smoke Signals (1998)::Comedy|Drama\\r\\n1915::Voyage to the Beginning of the World (1997)::Drama\\r\\n1916::Buffalo 66 (1998)::Action|Comedy|Drama\\r\\n1917::Armageddon (1998)::Action|Adventure|Sci-Fi|Thriller\\r\\n1918::Lethal Weapon 4 (1998)::Action|Comedy|Crime|Drama\\r\\n1919::Madeline (1998)::Children's|Comedy\\r\\n1920::Small Soldiers (1998)::Animation|Children's|Fantasy|War\\r\\n1921::Pi (1998)::Sci-Fi|Thriller\\r\\n1922::Whatever (1998)::Drama\\r\\n1923::There's Something About Mary (1998)::Comedy\\r\\n1924::Plan 9 from Outer Space (1958)::Horror|Sci-Fi\\r\\n1925::Wings (1927)::Drama|Romance|War\\r\\n1926::Broadway Melody, The (1929)::Musical\\r\\n1927::All Quiet on the Western Front (1930)::War\\r\\n1928::Cimarron (1931)::Western\\r\\n1929::Grand Hotel (1932)::Drama\\r\\n1930::Cavalcade (1933)::Drama\\r\\n1931::Mutiny on the Bounty (1935)::Adventure\\r\\n1932::Great Ziegfeld, The (1936)::Musical\\r\\n1933::Life of \\xc9mile Zola, The (1937)::Drama\\r\\n1934::You Can't Take It With You (1938)::Comedy\\r\\n1935::How Green Was My Valley (1941)::Drama\\r\\n1936::Mrs. Miniver (1942)::Drama|War\\r\\n1937::Going My Way (1944)::Comedy\\r\\n1938::Lost Weekend, The (1945)::Drama\\r\\n1939::Best Years of Our Lives, The (1946)::Drama|War\\r\\n1940::Gentleman's Agreement (1947)::Drama\\r\\n1941::Hamlet (1948)::Drama\\r\\n1942::All the King's Men (1949)::Drama\\r\\n1943::Greatest Show on Earth, The (1952)::Drama\\r\\n1944::From Here to Eternity (1953)::Drama|Romance|War\\r\\n1945::On the Waterfront (1954)::Crime|Drama\\r\\n1946::Marty (1955)::Drama|Romance\\r\\n1947::West Side Story (1961)::Musical|Romance\\r\\n1948::Tom Jones (1963)::Comedy\\r\\n1949::Man for All Seasons, A (1966)::Drama\\r\\n1950::In the Heat of the Night (1967)::Drama|Mystery\\r\\n1951::Oliver! (1968)::Musical\\r\\n1952::Midnight Cowboy (1969)::Drama\\r\\n1953::French Connection, The (1971)::Action|Crime|Drama|Thriller\\r\\n1954::Rocky (1976)::Action|Drama\\r\\n1955::Kramer Vs. Kramer (1979)::Drama\\r\\n1956::Ordinary People (1980)::Drama\\r\\n1957::Chariots of Fire (1981)::Drama\\r\\n1958::Terms of Endearment (1983)::Comedy|Drama\\r\\n1959::Out of Africa (1985)::Drama|Romance\\r\\n1960::Last Emperor, The (1987)::Drama|War\\r\\n1961::Rain Man (1988)::Drama\\r\\n1962::Driving Miss Daisy (1989)::Drama\\r\\n1963::Take the Money and Run (1969)::Comedy\\r\\n1964::Klute (1971)::Drama|Mystery\\r\\n1965::Repo Man (1984)::Comedy|Sci-Fi\\r\\n1966::Metropolitan (1990)::Comedy\\r\\n1967::Labyrinth (1986)::Adventure|Children's|Fantasy\\r\\n1968::Breakfast Club, The (1985)::Comedy|Drama\\r\\n1969::Nightmare on Elm Street Part 2: Freddy's Revenge, A (1985)::Horror\\r\\n1970::Nightmare on Elm Street 3: Dream Warriors, A (1987)::Horror\\r\\n1971::Nightmare on Elm Street 4: The Dream Master, A (1988)::Horror\\r\\n1972::Nightmare on Elm Street 5: The Dream Child, A (1989)::Horror\\r\\n1973::Freddy's Dead: The Final Nightmare (1991)::Horror\\r\\n1974::Friday the 13th (1980)::Horror\\r\\n1975::Friday the 13th Part 2 (1981)::Horror\\r\\n1976::Friday the 13th Part 3: 3D (1982)::Horror\\r\\n1977::Friday the 13th: The Final Chapter (1984)::Horror\\r\\n1978::Friday the 13th Part V: A New Beginning (1985)::Horror\\r\\n1979::Friday the 13th Part VI: Jason Lives (1986)::Horror\\r\\n1980::Friday the 13th Part VII: The New Blood (1988)::Horror\\r\\n1981::Friday the 13th Part VIII: Jason Takes Manhattan (1989)::Horror\\r\\n1982::Halloween (1978)::Horror\\r\\n1983::Halloween II (1981)::Horror\\r\\n1984::Halloween III: Season of the Witch (1983)::Horror\\r\\n1985::Halloween 4: The Return of Michael Myers (1988)::Horror\\r\\n1986::Halloween 5: The Revenge of Michael Myers (1989)::Horror\\r\\n1987::Prom Night (1980)::Horror\\r\\n1988::Hello Mary Lou: Prom Night II (1987)::Horror\\r\\n1989::Prom Night III: The Last Kiss (1989)::Horror\\r\\n1990::Prom Night IV: Deliver Us From Evil (1992)::Horror\\r\\n1991::Child's Play (1988)::Horror\\r\\n1992::Child's Play 2 (1990)::Horror\\r\\n1993::Child's Play 3 (1992)::Horror\\r\\n1994::Poltergeist (1982)::Horror|Thriller\\r\\n1995::Poltergeist II: The Other Side (1986)::Horror|Thriller\\r\\n1996::Poltergeist III (1988)::Horror|Thriller\\r\\n1997::Exorcist, The (1973)::Horror\\r\\n1998::Exorcist II: The Heretic (1977)::Horror\\r\\n1999::Exorcist III, The (1990)::Horror\\r\\n2000::Lethal Weapon (1987)::Action|Comedy|Crime|Drama\\r\\n2001::Lethal Weapon 2 (1989)::Action|Comedy|Crime|Drama\\r\\n2002::Lethal Weapon 3 (1992)::Action|Comedy|Crime|Drama\\r\\n2003::Gremlins (1984)::Comedy|Horror\\r\\n2004::Gremlins 2: The New Batch (1990)::Comedy|Horror\\r\\n2005::Goonies, The (1985)::Adventure|Children's|Fantasy\\r\\n2006::Mask of Zorro, The (1998)::Action|Adventure|Romance\\r\\n2007::Polish Wedding (1998)::Comedy\\r\\n2008::This World, Then the Fireworks (1996)::Crime|Drama|Film-Noir\\r\\n2009::Soylent Green (1973)::Sci-Fi|Thriller\\r\\n2010::Metropolis (1926)::Sci-Fi\\r\\n2011::Back to the Future Part II (1989)::Comedy|Sci-Fi\\r\\n2012::Back to the Future Part III (1990)::Comedy|Sci-Fi|Western\\r\\n2013::Poseidon Adventure, The (1972)::Action|Adventure\\r\\n2014::Freaky Friday (1977)::Children's|Comedy\\r\\n2015::Absent Minded Professor, The (1961)::Children's|Comedy|Fantasy\\r\\n2016::Apple Dumpling Gang Rides Again, The (1979)::Children's|Comedy|Western\\r\\n2017::Babes in Toyland (1961)::Children's|Fantasy|Musical\\r\\n2018::Bambi (1942)::Animation|Children's\\r\\n2019::Seven Samurai (The Magnificent Seven) (Shichinin no samurai) (1954)::Action|Drama\\r\\n2020::Dangerous Liaisons (1988)::Drama|Romance\\r\\n2021::Dune (1984)::Fantasy|Sci-Fi\\r\\n2022::Last Temptation of Christ, The (1988)::Drama\\r\\n2023::Godfather: Part III, The (1990)::Action|Crime|Drama\\r\\n2024::Rapture, The (1991)::Drama|Mystery\\r\\n2025::Lolita (1997)::Drama|Romance\\r\\n2026::Disturbing Behavior (1998)::Horror|Thriller\\r\\n2027::Mafia! (1998)::Comedy|Crime\\r\\n2028::Saving Private Ryan (1998)::Action|Drama|War\\r\\n2029::Billy's Hollywood Screen Kiss (1997)::Comedy|Romance\\r\\n2030::East Palace West Palace (Dong gong xi gong) (1997)::Drama\\r\\n2031::$1,000,000 Duck (1971)::Children's|Comedy\\r\\n2032::Barefoot Executive, The (1971)::Children's|Comedy\\r\\n2033::Black Cauldron, The (1985)::Animation|Children's\\r\\n2034::Black Hole, The (1979)::Sci-Fi\\r\\n2035::Blackbeard's Ghost (1968)::Children's|Comedy\\r\\n2036::Blank Check (1994)::Children's|Comedy\\r\\n2037::Candleshoe (1977)::Adventure|Children's|Comedy\\r\\n2038::Cat from Outer Space, The (1978)::Children's|Comedy|Sci-Fi\\r\\n2039::Cheetah (1989)::Adventure|Children's\\r\\n2040::Computer Wore Tennis Shoes, The (1970)::Children's|Comedy\\r\\n2041::Condorman (1981)::Action|Adventure|Children's|Comedy\\r\\n2042::D2: The Mighty Ducks (1994)::Children's|Comedy\\r\\n2043::Darby O'Gill and the Little People (1959)::Adventure|Children's|Fantasy\\r\\n2044::Devil and Max Devlin, The (1981)::Comedy\\r\\n2045::Far Off Place, A (1993)::Adventure|Children's|Drama|Romance\\r\\n2046::Flight of the Navigator (1986)::Adventure|Children's|Sci-Fi\\r\\n2047::Gnome-Mobile, The (1967)::Children's\\r\\n2048::Great Mouse Detective, The (1986)::Animation|Children's\\r\\n2049::Happiest Millionaire, The (1967)::Comedy|Musical\\r\\n2050::Herbie Goes Bananas (1980)::Adventure|Children's|Comedy\\r\\n2051::Herbie Goes to Monte Carlo (1977)::Adventure|Children's|Comedy\\r\\n2052::Hocus Pocus (1993)::Children's|Comedy\\r\\n2053::Honey, I Blew Up the Kid (1992)::Children's|Comedy|Sci-Fi\\r\\n2054::Honey, I Shrunk the Kids (1989)::Adventure|Children's|Comedy|Fantasy|Sci-Fi\\r\\n2055::Hot Lead and Cold Feet (1978)::Comedy|Western\\r\\n2056::In Search of the Castaways (1962)::Adventure|Children's\\r\\n2057::Incredible Journey, The (1963)::Adventure|Children's\\r\\n2058::Negotiator, The (1998)::Action|Thriller\\r\\n2059::Parent Trap, The (1998)::Children's|Drama\\r\\n2060::BASEketball (1998)::Comedy\\r\\n2061::Full Tilt Boogie (1997)::Documentary\\r\\n2062::Governess, The (1998)::Drama|Romance\\r\\n2063::Seventh Heaven (Le Septi\\xe8me ciel) (1997)::Drama|Romance\\r\\n2064::Roger & Me (1989)::Comedy|Documentary\\r\\n2065::Purple Rose of Cairo, The (1985)::Comedy|Drama|Romance\\r\\n2066::Out of the Past (1947)::Film-Noir\\r\\n2067::Doctor Zhivago (1965)::Drama|Romance|War\\r\\n2068::Fanny and Alexander (1982)::Drama\\r\\n2069::Trip to Bountiful, The (1985)::Drama\\r\\n2070::Tender Mercies (1983)::Drama\\r\\n2071::And the Band Played On (1993)::Drama\\r\\n2072::'burbs, The (1989)::Comedy\\r\\n2073::Fandango (1985)::Comedy\\r\\n2074::Night Porter, The (Il Portiere di notte) (1974)::Drama\\r\\n2075::Mephisto (1981)::Drama|War\\r\\n2076::Blue Velvet (1986)::Drama|Mystery\\r\\n2077::Journey of Natty Gann, The (1985)::Adventure|Children's\\r\\n2078::Jungle Book, The (1967)::Animation|Children's|Comedy|Musical\\r\\n2079::Kidnapped (1960)::Children's|Drama\\r\\n2080::Lady and the Tramp (1955)::Animation|Children's|Comedy|Musical|Romance\\r\\n2081::Little Mermaid, The (1989)::Animation|Children's|Comedy|Musical|Romance\\r\\n2082::Mighty Ducks, The (1992)::Children's|Comedy\\r\\n2083::Muppet Christmas Carol, The (1992)::Children's|Musical\\r\\n2084::Newsies (1992)::Children's|Musical\\r\\n2085::101 Dalmatians (1961)::Animation|Children's\\r\\n2086::One Magic Christmas (1985)::Drama|Fantasy\\r\\n2087::Peter Pan (1953)::Animation|Children's|Fantasy|Musical\\r\\n2088::Popeye (1980)::Adventure|Comedy|Musical\\r\\n2089::Rescuers Down Under, The (1990)::Animation|Children's\\r\\n2090::Rescuers, The (1977)::Animation|Children's\\r\\n2091::Return from Witch Mountain (1978)::Children's|Sci-Fi\\r\\n2092::Return of Jafar, The (1993)::Animation|Children's|Musical\\r\\n2093::Return to Oz (1985)::Adventure|Children's|Fantasy|Sci-Fi\\r\\n2094::Rocketeer, The (1991)::Action|Adventure|Sci-Fi\\r\\n2095::Shaggy D.A., The (1976)::Children's|Comedy\\r\\n2096::Sleeping Beauty (1959)::Animation|Children's|Musical\\r\\n2097::Something Wicked This Way Comes (1983)::Children's|Horror\\r\\n2098::Son of Flubber (1963)::Children's|Comedy\\r\\n2099::Song of the South (1946)::Adventure|Animation|Children's|Musical\\r\\n2100::Splash (1984)::Comedy|Fantasy|Romance\\r\\n2101::Squanto: A Warrior's Tale (1994)::Adventure|Drama\\r\\n2102::Steamboat Willie (1940)::Animation|Children's|Comedy|Musical\\r\\n2103::Tall Tale (1994)::Adventure|Children's\\r\\n2104::Tex (1982)::Drama\\r\\n2105::Tron (1982)::Action|Adventure|Fantasy|Sci-Fi\\r\\n2106::Swing Kids (1993)::Drama|War\\r\\n2107::Halloween: H20 (1998)::Horror|Thriller\\r\\n2108::L.A. Story (1991)::Comedy|Romance\\r\\n2109::Jerk, The (1979)::Comedy\\r\\n2110::Dead Men Don't Wear Plaid (1982)::Comedy|Crime|Thriller\\r\\n2111::Man with Two Brains, The (1983)::Comedy\\r\\n2112::Grand Canyon (1991)::Crime|Drama\\r\\n2113::Graveyard Shift (1990)::Horror|Thriller\\r\\n2114::Outsiders, The (1983)::Drama\\r\\n2115::Indiana Jones and the Temple of Doom (1984)::Action|Adventure\\r\\n2116::Lord of the Rings, The (1978)::Adventure|Animation|Children's|Sci-Fi\\r\\n2117::Nineteen Eighty-Four (1984)::Drama|Sci-Fi\\r\\n2118::Dead Zone, The (1983)::Horror|Thriller\\r\\n2119::Maximum Overdrive (1986)::Horror\\r\\n2120::Needful Things (1993)::Drama|Horror\\r\\n2121::Cujo (1983)::Horror|Thriller\\r\\n2122::Children of the Corn (1984)::Horror|Thriller\\r\\n2123::All Dogs Go to Heaven (1989)::Animation|Children's\\r\\n2124::Addams Family, The (1991)::Comedy\\r\\n2125::Ever After: A Cinderella Story (1998)::Drama|Romance\\r\\n2126::Snake Eyes (1998)::Action|Crime|Mystery|Thriller\\r\\n2127::First Love, Last Rites (1997)::Drama|Romance\\r\\n2128::Safe Men (1998)::Comedy\\r\\n2129::Saltmen of Tibet, The (1997)::Documentary\\r\\n2130::Atlantic City (1980)::Crime|Drama|Romance\\r\\n2131::Autumn Sonata (H\\xf6stsonaten ) (1978)::Drama\\r\\n2132::Who's Afraid of Virginia Woolf? (1966)::Drama\\r\\n2133::Adventures in Babysitting (1987)::Adventure|Comedy\\r\\n2134::Weird Science (1985)::Comedy\\r\\n2135::Doctor Dolittle (1967)::Adventure|Musical\\r\\n2136::Nutty Professor, The (1963)::Comedy\\r\\n2137::Charlotte's Web (1973)::Animation|Children's\\r\\n2138::Watership Down (1978)::Animation|Children's|Drama|Fantasy\\r\\n2139::Secret of NIMH, The (1982)::Animation|Children's\\r\\n2140::Dark Crystal, The (1982)::Children's|Fantasy|Sci-Fi\\r\\n2141::American Tail, An (1986)::Animation|Children's|Comedy\\r\\n2142::American Tail: Fievel Goes West, An (1991)::Animation|Children's|Comedy\\r\\n2143::Legend (1985)::Adventure|Fantasy|Romance\\r\\n2144::Sixteen Candles (1984)::Comedy\\r\\n2145::Pretty in Pink (1986)::Comedy|Drama|Romance\\r\\n2146::St. Elmo's Fire (1985)::Drama|Romance\\r\\n2147::Clan of the Cave Bear, The (1986)::Drama\\r\\n2148::House (1986)::Comedy|Horror\\r\\n2149::House II: The Second Story (1987)::Comedy|Horror\\r\\n2150::Gods Must Be Crazy, The (1980)::Comedy\\r\\n2151::Gods Must Be Crazy II, The (1989)::Comedy\\r\\n2152::Air Bud: Golden Receiver (1998)::Children's|Comedy\\r\\n2153::Avengers, The (1998)::Action|Adventure\\r\\n2154::How Stella Got Her Groove Back (1998)::Drama|Romance\\r\\n2155::Slums of Beverly Hills, The (1998)::Comedy\\r\\n2156::Best Man, The (Il Testimone dello sposo) (1997)::Comedy|Drama\\r\\n2157::Chambermaid on the Titanic, The (1998)::Romance\\r\\n2158::Henry: Portrait of a Serial Killer, Part 2 (1996)::Crime|Horror\\r\\n2159::Henry: Portrait of a Serial Killer (1990)::Crime|Horror\\r\\n2160::Rosemary's Baby (1968)::Horror|Thriller\\r\\n2161::NeverEnding Story, The (1984)::Adventure|Children's|Fantasy\\r\\n2162::NeverEnding Story II: The Next Chapter, The (1990)::Adventure|Children's|Fantasy\\r\\n2163::Attack of the Killer Tomatoes! (1980)::Comedy|Horror\\r\\n2164::Surf Nazis Must Die (1987)::Drama\\r\\n2165::Your Friends and Neighbors (1998)::Drama\\r\\n2166::Return to Paradise (1998)::Drama|Romance\\r\\n2167::Blade (1998)::Action|Adventure|Horror\\r\\n2168::Dance with Me (1998)::Drama|Romance\\r\\n2169::Dead Man on Campus (1998)::Comedy\\r\\n2170::Wrongfully Accused (1998)::Action|Comedy\\r\\n2171::Next Stop, Wonderland (1998)::Comedy|Drama|Romance\\r\\n2172::Strike! (a.k.a. All I Wanna Do, The Hairy Bird) (1998)::Comedy\\r\\n2173::Navigator: A Mediaeval Odyssey, The (1988)::Adventure|Fantasy|Sci-Fi\\r\\n2174::Beetlejuice (1988)::Comedy|Fantasy\\r\\n2175::D\\xe9j\\xe0 Vu (1997)::Drama|Romance\\r\\n2176::Rope (1948)::Thriller\\r\\n2177::Family Plot (1976)::Comedy|Thriller\\r\\n2178::Frenzy (1972)::Thriller\\r\\n2179::Topaz (1969)::Thriller\\r\\n2180::Torn Curtain (1966)::Thriller\\r\\n2181::Marnie (1964)::Thriller\\r\\n2182::Wrong Man, The (1956)::Drama|Film-Noir|Thriller\\r\\n2183::Man Who Knew Too Much, The (1956)::Thriller\\r\\n2184::Trouble with Harry, The (1955)::Mystery|Thriller\\r\\n2185::I Confess (1953)::Thriller\\r\\n2186::Strangers on a Train (1951)::Film-Noir|Thriller\\r\\n2187::Stage Fright (1950)::Mystery|Thriller\\r\\n2188::54 (1998)::Drama\\r\\n2189::I Married A Strange Person (1997)::Animation\\r\\n2190::Why Do Fools Fall In Love? (1998)::Drama\\r\\n2191::Merry War, A (1997)::Comedy\\r\\n2192::See the Sea (Regarde la mer) (1997)::Drama\\r\\n2193::Willow (1988)::Action|Adventure|Fantasy\\r\\n2194::Untouchables, The (1987)::Action|Crime|Drama\\r\\n2195::Dirty Work (1998)::Comedy\\r\\n2196::Knock Off (1998)::Action\\r\\n2197::Firelight (1997)::Drama\\r\\n2198::Modulations (1998)::Documentary\\r\\n2199::Phoenix (1998)::Crime|Drama\\r\\n2200::Under Capricorn (1949)::Drama\\r\\n2201::Paradine Case, The (1947)::Drama\\r\\n2202::Lifeboat (1944)::Drama|Thriller|War\\r\\n2203::Shadow of a Doubt (1943)::Film-Noir|Thriller\\r\\n2204::Saboteur (1942)::Thriller\\r\\n2205::Mr. & Mrs. Smith (1941)::Comedy\\r\\n2206::Suspicion (1941)::Mystery|Thriller\\r\\n2207::Jamaica Inn (1939)::Drama\\r\\n2208::Lady Vanishes, The (1938)::Comedy|Mystery|Romance|Thriller\\r\\n2209::Young and Innocent (1937)::Crime|Thriller\\r\\n2210::Sabotage (1936)::Thriller\\r\\n2211::Secret Agent (1936)::Thriller\\r\\n2212::Man Who Knew Too Much, The (1934)::Thriller\\r\\n2213::Waltzes from Vienna (1933)::Comedy|Musical\\r\\n2214::Number Seventeen (1932)::Thriller\\r\\n2215::Rich and Strange (1932)::Comedy|Romance\\r\\n2216::Skin Game, The (1931)::Drama\\r\\n2217::Elstree Calling (1930)::Comedy|Musical\\r\\n2218::Juno and Paycock (1930)::Drama\\r\\n2219::Murder! (1930)::Mystery|Thriller\\r\\n2220::Manxman, The (1929)::Drama\\r\\n2221::Blackmail (1929)::Thriller\\r\\n2222::Champagne (1928)::Comedy\\r\\n2223::Farmer's Wife, The (1928)::Comedy\\r\\n2224::Downhill (1927)::Drama\\r\\n2225::Easy Virtue (1927)::Drama\\r\\n2226::Ring, The (1927)::Drama\\r\\n2227::Lodger, The (1926)::Thriller\\r\\n2228::Mountain Eagle, The (1926)::Drama\\r\\n2229::Pleasure Garden, The (1925)::Drama\\r\\n2230::Always Tell Your Wife (1923)::Comedy\\r\\n2231::Rounders (1998)::Crime|Drama\\r\\n2232::Cube (1997)::Sci-Fi|Thriller\\r\\n2233::Digging to China (1998)::Drama\\r\\n2234::Let's Talk About Sex (1998)::Drama\\r\\n2235::One Man's Hero (1999)::Drama|War\\r\\n2236::Simon Birch (1998)::Drama\\r\\n2237::Without Limits (1998)::Drama\\r\\n2238::Seven Beauties (Pasqualino Settebellezze) (1976)::Comedy|Drama\\r\\n2239::Swept Away (Travolti da un insolito destino nell'azzurro mare d'Agosto) (1975)::Comedy|Drama\\r\\n2240::My Bodyguard (1980)::Drama\\r\\n2241::Class (1983)::Comedy\\r\\n2242::Grandview, U.S.A. (1984)::Drama\\r\\n2243::Broadcast News (1987)::Comedy|Drama|Romance\\r\\n2244::Allnighter, The (1987)::Comedy|Romance\\r\\n2245::Working Girl (1988)::Comedy|Drama\\r\\n2246::Stars and Bars (1988)::Comedy\\r\\n2247::Married to the Mob (1988)::Comedy\\r\\n2248::Say Anything... (1989)::Comedy|Drama|Romance\\r\\n2249::My Blue Heaven (1990)::Comedy\\r\\n2250::Men Don't Leave (1990)::Drama\\r\\n2251::Cabinet of Dr. Ramirez, The (1991)::Comedy\\r\\n2252::Hero (1992)::Comedy|Drama\\r\\n2253::Toys (1992)::Action|Comedy|Fantasy\\r\\n2254::Choices (1981)::Drama\\r\\n2255::Young Doctors in Love (1982)::Comedy\\r\\n2256::Parasite (1982)::Horror|Sci-Fi\\r\\n2257::No Small Affair (1984)::Comedy|Romance\\r\\n2258::Master Ninja I (1984)::Action\\r\\n2259::Blame It on Rio (1984)::Comedy|Romance\\r\\n2260::Wisdom (1986)::Action|Crime\\r\\n2261::One Crazy Summer (1986)::Comedy\\r\\n2262::About Last Night... (1986)::Comedy|Drama|Romance\\r\\n2263::Seventh Sign, The (1988)::Thriller\\r\\n2264::We're No Angels (1989)::Drama\\r\\n2265::Nothing But Trouble (1991)::Adventure|Comedy\\r\\n2266::Butcher's Wife, The (1991)::Comedy|Romance\\r\\n2267::Mortal Thoughts (1991)::Mystery|Thriller\\r\\n2268::Few Good Men, A (1992)::Crime|Drama\\r\\n2269::Indecent Proposal (1993)::Drama\\r\\n2270::Century of Cinema, A (1994)::Documentary\\r\\n2271::Permanent Midnight (1998)::Drama\\r\\n2272::One True Thing (1998)::Drama\\r\\n2273::Rush Hour (1998)::Action|Thriller\\r\\n2274::Lilian's Story (1995)::Drama\\r\\n2275::Six-String Samurai (1998)::Action|Adventure|Sci-Fi\\r\\n2276::Soldier's Daughter Never Cries, A (1998)::Drama\\r\\n2277::Somewhere in the City (1997)::Drama\\r\\n2278::Ronin (1998)::Action|Crime|Thriller\\r\\n2279::Urban Legend (1998)::Horror|Thriller\\r\\n2280::Clay Pigeons (1998)::Crime\\r\\n2281::Monument Ave. (1998)::Crime\\r\\n2282::Pecker (1998)::Comedy|Drama\\r\\n2283::Sheltering Sky, The (1990)::Drama\\r\\n2284::Bandit Queen (1994)::Drama\\r\\n2285::If.... (1968)::Drama\\r\\n2286::Fiendish Plot of Dr. Fu Manchu, The (1980)::Comedy\\r\\n2287::Them! (1954)::Sci-Fi|Thriller|War\\r\\n2288::Thing, The (1982)::Action|Horror|Sci-Fi|Thriller\\r\\n2289::Player, The (1992)::Comedy|Drama\\r\\n2290::Stardust Memories (1980)::Comedy|Drama\\r\\n2291::Edward Scissorhands (1990)::Drama|Romance\\r\\n2292::Overnight Delivery (1996)::Romance\\r\\n2293::Shadrach (1998)::Drama\\r\\n2294::Antz (1998)::Animation|Children's\\r\\n2295::Impostors, The (1998)::Comedy\\r\\n2296::Night at the Roxbury, A (1998)::Comedy\\r\\n2297::What Dreams May Come (1998)::Drama|Romance\\r\\n2298::Strangeland (1998)::Thriller\\r\\n2299::Battle of the Sexes, The (1959)::Comedy\\r\\n2300::Producers, The (1968)::Comedy|Musical\\r\\n2301::History of the World: Part I (1981)::Comedy\\r\\n2302::My Cousin Vinny (1992)::Comedy\\r\\n2303::Nashville (1975)::Drama|Musical\\r\\n2304::Love Is the Devil (1998)::Drama\\r\\n2305::Slam (1998)::Drama\\r\\n2306::Holy Man (1998)::Comedy\\r\\n2307::One Tough Cop (1998)::Action|Drama\\r\\n2308::Detroit 9000 (1973)::Action|Crime\\r\\n2309::Inheritors, The (Die Siebtelbauern) (1998)::Drama\\r\\n2310::Mighty, The (1998)::Drama\\r\\n2311::2010 (1984)::Mystery|Sci-Fi\\r\\n2312::Children of a Lesser God (1986)::Drama\\r\\n2313::Elephant Man, The (1980)::Drama\\r\\n2314::Beloved (1998)::Drama\\r\\n2315::Bride of Chucky (1998)::Horror|Thriller\\r\\n2316::Practical Magic (1998)::Drama|Romance\\r\\n2317::Alarmist, The (1997)::Comedy\\r\\n2318::Happiness (1998)::Comedy\\r\\n2319::Reach the Rock (1997)::Comedy\\r\\n2320::Apt Pupil (1998)::Drama|Thriller\\r\\n2321::Pleasantville (1998)::Comedy\\r\\n2322::Soldier (1998)::Action|Adventure|Sci-Fi|Thriller|War\\r\\n2323::Cruise, The (1998)::Documentary\\r\\n2324::Life Is Beautiful (La Vita \\xe8 bella) (1997)::Comedy|Drama\\r\\n2325::Orgazmo (1997)::Comedy\\r\\n2326::Shattered Image (1998)::Drama|Thriller\\r\\n2327::Tales from the Darkside: The Movie (1990)::Horror\\r\\n2328::Vampires (1998)::Horror\\r\\n2329::American History X (1998)::Drama\\r\\n2330::Hands on a Hard Body (1996)::Documentary\\r\\n2331::Living Out Loud (1998)::Comedy|Romance\\r\\n2332::Belly (1998)::Crime|Drama\\r\\n2333::Gods and Monsters (1998)::Drama\\r\\n2334::Siege, The (1998)::Action|Thriller\\r\\n2335::Waterboy, The (1998)::Comedy\\r\\n2336::Elizabeth (1998)::Drama\\r\\n2337::Velvet Goldmine (1998)::Drama\\r\\n2338::I Still Know What You Did Last Summer (1998)::Horror|Mystery|Thriller\\r\\n2339::I'll Be Home For Christmas (1998)::Comedy|Romance\\r\\n2340::Meet Joe Black (1998)::Romance\\r\\n2341::Dancing at Lughnasa (1998)::Drama\\r\\n2342::Hard Core Logo (1996)::Comedy\\r\\n2343::Naked Man, The (1998)::Drama\\r\\n2344::Runaway Train (1985)::Action|Adventure|Drama|Thriller\\r\\n2345::Desert Bloom (1986)::Drama\\r\\n2346::Stepford Wives, The (1975)::Sci-Fi|Thriller\\r\\n2347::Pope of Greenwich Village, The (1984)::Action\\r\\n2348::Sid and Nancy (1986)::Drama\\r\\n2349::Mona Lisa (1986)::Comedy|Thriller\\r\\n2350::Heart Condition (1990)::Comedy\\r\\n2351::Nights of Cabiria (Le Notti di Cabiria) (1957)::Drama\\r\\n2352::Big Chill, The (1983)::Comedy|Drama\\r\\n2353::Enemy of the State (1998)::Action|Thriller\\r\\n2354::Rugrats Movie, The (1998)::Animation|Children's|Comedy\\r\\n2355::Bug's Life, A (1998)::Animation|Children's|Comedy\\r\\n2356::Celebrity (1998)::Comedy\\r\\n2357::Central Station (Central do Brasil) (1998)::Drama\\r\\n2358::Savior (1998)::Drama\\r\\n2359::Waking Ned Devine (1998)::Comedy\\r\\n2360::Celebration, The (Festen) (1998)::Drama\\r\\n2361::Pink Flamingos (1972)::Comedy\\r\\n2362::Glen or Glenda (1953)::Drama\\r\\n2363::Godzilla (Gojira) (1954)::Action|Sci-Fi\\r\\n2364::Godzilla (Gojira) (1984)::Action|Sci-Fi\\r\\n2365::King Kong vs. Godzilla (Kingukongu tai Gojira) (1962)::Action|Sci-Fi\\r\\n2366::King Kong (1933)::Action|Adventure|Horror\\r\\n2367::King Kong (1976)::Action|Adventure|Horror\\r\\n2368::King Kong Lives (1986)::Action|Adventure|Horror\\r\\n2369::Desperately Seeking Susan (1985)::Comedy|Romance\\r\\n2370::Emerald Forest, The (1985)::Action|Adventure|Drama\\r\\n2371::Fletch (1985)::Comedy\\r\\n2372::Fletch Lives (1989)::Comedy\\r\\n2373::Red Sonja (1985)::Action|Adventure\\r\\n2374::Gung Ho (1986)::Comedy|Drama\\r\\n2375::Money Pit, The (1986)::Comedy\\r\\n2376::View to a Kill, A (1985)::Action\\r\\n2377::Lifeforce (1985)::Horror|Sci-Fi\\r\\n2378::Police Academy (1984)::Comedy\\r\\n2379::Police Academy 2: Their First Assignment (1985)::Comedy\\r\\n2380::Police Academy 3: Back in Training (1986)::Comedy\\r\\n2381::Police Academy 4: Citizens on Patrol (1987)::Comedy\\r\\n2382::Police Academy 5: Assignment: Miami Beach (1988)::Comedy\\r\\n2383::Police Academy 6: City Under Siege (1989)::Comedy\\r\\n2384::Babe: Pig in the City (1998)::Children's|Comedy\\r\\n2385::Home Fries (1998)::Comedy|Romance\\r\\n2386::Jerry Springer: Ringmaster (1998)::Drama\\r\\n2387::Very Bad Things (1998)::Comedy|Crime\\r\\n2388::Steam: The Turkish Bath (Hamam) (1997)::Drama|Romance\\r\\n2389::Psycho (1998)::Crime|Horror|Thriller\\r\\n2390::Little Voice (1998)::Comedy\\r\\n2391::Simple Plan, A (1998)::Crime|Thriller\\r\\n2392::Jack Frost (1998)::Comedy|Drama\\r\\n2393::Star Trek: Insurrection (1998)::Action|Sci-Fi\\r\\n2394::Prince of Egypt, The (1998)::Animation|Musical\\r\\n2395::Rushmore (1998)::Comedy\\r\\n2396::Shakespeare in Love (1998)::Comedy|Romance\\r\\n2397::Mass Appeal (1984)::Drama\\r\\n2398::Miracle on 34th Street (1947)::Drama\\r\\n2399::Santa Claus: The Movie (1985)::Adventure|Children's|Fantasy\\r\\n2400::Prancer (1989)::Children's|Drama\\r\\n2401::Pale Rider (1985)::Western\\r\\n2402::Rambo: First Blood Part II (1985)::Action|War\\r\\n2403::First Blood (1982)::Action\\r\\n2404::Rambo III (1988)::Action|War\\r\\n2405::Jewel of the Nile, The (1985)::Action|Adventure|Comedy|Romance\\r\\n2406::Romancing the Stone (1984)::Action|Adventure|Comedy|Romance\\r\\n2407::Cocoon (1985)::Comedy|Sci-Fi\\r\\n2408::Cocoon: The Return (1988)::Comedy|Sci-Fi\\r\\n2409::Rocky II (1979)::Action|Drama\\r\\n2410::Rocky III (1982)::Action|Drama\\r\\n2411::Rocky IV (1985)::Action|Drama\\r\\n2412::Rocky V (1990)::Action|Drama\\r\\n2413::Clue (1985)::Comedy|Mystery\\r\\n2414::Young Sherlock Holmes (1985)::Action|Adventure|Mystery\\r\\n2415::Violets Are Blue... (1986)::Drama|Romance\\r\\n2416::Back to School (1986)::Comedy\\r\\n2417::Heartburn (1986)::Comedy|Drama\\r\\n2418::Nothing in Common (1986)::Comedy\\r\\n2419::Extremities (1986)::Drama|Thriller\\r\\n2420::Karate Kid, The (1984)::Drama\\r\\n2421::Karate Kid, Part II, The (1986)::Action|Adventure|Drama\\r\\n2422::Karate Kid III, The (1989)::Action|Adventure|Drama\\r\\n2423::Christmas Vacation (1989)::Comedy\\r\\n2424::You've Got Mail (1998)::Comedy|Romance\\r\\n2425::General, The (1998)::Crime\\r\\n2426::Theory of Flight, The (1998)::Comedy|Drama|Romance\\r\\n2427::Thin Red Line, The (1998)::Action|Drama|War\\r\\n2428::Faculty, The (1998)::Horror|Sci-Fi\\r\\n2429::Mighty Joe Young (1998)::Adventure|Children's|Drama\\r\\n2430::Mighty Joe Young (1949)::Adventure|Children's|Drama\\r\\n2431::Patch Adams (1998)::Comedy|Drama\\r\\n2432::Stepmom (1998)::Drama\\r\\n2433::Civil Action, A (1998)::Drama\\r\\n2434::Down in the Delta (1998)::Drama\\r\\n2435::Hurlyburly (1998)::Drama\\r\\n2436::Tea with Mussolini (1999)::Comedy\\r\\n2437::Wilde (1997)::Drama\\r\\n2438::Outside Ozona (1998)::Drama|Thriller\\r\\n2439::Affliction (1997)::Drama\\r\\n2440::Another Day in Paradise (1998)::Drama\\r\\n2441::Hi-Lo Country, The (1998)::Drama|Western\\r\\n2442::Hilary and Jackie (1998)::Drama\\r\\n2443::Playing by Heart (1998)::Drama|Romance\\r\\n2444::24 7: Twenty Four Seven (1997)::Comedy|Drama\\r\\n2445::At First Sight (1999)::Drama\\r\\n2446::In Dreams (1999)::Thriller\\r\\n2447::Varsity Blues (1999)::Comedy|Drama\\r\\n2448::Virus (1999)::Horror|Sci-Fi\\r\\n2449::Garbage Pail Kids Movie, The (1987)::Adventure|Children's\\r\\n2450::Howard the Duck (1986)::Adventure|Children's|Sci-Fi\\r\\n2451::Gate, The (1987)::Horror\\r\\n2452::Gate II: Trespassers, The (1990)::Horror\\r\\n2453::Boy Who Could Fly, The (1986)::Drama|Fantasy\\r\\n2454::Fly, The (1958)::Horror|Sci-Fi\\r\\n2455::Fly, The (1986)::Horror|Sci-Fi\\r\\n2456::Fly II, The (1989)::Horror|Sci-Fi\\r\\n2457::Running Scared (1986)::Action|Comedy\\r\\n2458::Armed and Dangerous (1986)::Comedy|Crime\\r\\n2459::Texas Chainsaw Massacre, The (1974)::Horror\\r\\n2460::Texas Chainsaw Massacre 2, The (1986)::Horror\\r\\n2461::Leatherface: Texas Chainsaw Massacre III (1990)::Horror\\r\\n2462::Return of the Texas Chainsaw Massacre, The (1994)::Horror\\r\\n2463::Ruthless People (1986)::Comedy\\r\\n2464::Trick or Treat (1986)::Horror\\r\\n2465::Deadly Friend (1986)::Horror\\r\\n2466::Belizaire the Cajun (1986)::Drama\\r\\n2467::Name of the Rose, The (1986)::Mystery\\r\\n2468::Jumpin' Jack Flash (1986)::Action|Comedy|Romance|Thriller\\r\\n2469::Peggy Sue Got Married (1986)::Comedy|Romance\\r\\n2470::Crocodile Dundee (1986)::Adventure|Comedy\\r\\n2471::Crocodile Dundee II (1988)::Adventure|Comedy\\r\\n2472::Tough Guys (1986)::Comedy\\r\\n2473::Soul Man (1986)::Comedy\\r\\n2474::Color of Money, The (1986)::Drama\\r\\n2475::52 Pick-Up (1986)::Action|Mystery|Thriller\\r\\n2476::Heartbreak Ridge (1986)::Action|War\\r\\n2477::Firewalker (1986)::Adventure\\r\\n2478::Three Amigos! (1986)::Comedy|Western\\r\\n2479::Gloria (1999)::Drama|Thriller\\r\\n2480::Dry Cleaning (Nettoyage \\xe0 sec) (1997)::Drama\\r\\n2481::My Name Is Joe (1998)::Drama|Romance\\r\\n2482::Still Crazy (1998)::Comedy|Romance\\r\\n2483::Day of the Beast, The (El D\\xeda de la bestia) (1995)::Comedy|Horror|Thriller\\r\\n2484::Tinseltown (1998)::Comedy\\r\\n2485::She's All That (1999)::Comedy|Romance\\r\\n2486::24-hour Woman (1998)::Drama\\r\\n2487::Blood, Guts, Bullets and Octane (1998)::Action|Comedy\\r\\n2488::Peeping Tom (1960)::Drama|Horror|Thriller\\r\\n2489::Spanish Fly (1998)::Drama\\r\\n2490::Payback (1999)::Action|Thriller\\r\\n2491::Simply Irresistible (1999)::Comedy|Romance\\r\\n2492::20 Dates (1998)::Comedy\\r\\n2493::Harmonists, The (1997)::Drama\\r\\n2494::Last Days, The (1998)::Documentary\\r\\n2495::Fantastic Planet, The (La Plan\\xe8te sauvage) (1973)::Animation|Sci-Fi\\r\\n2496::Blast from the Past (1999)::Comedy|Romance\\r\\n2497::Message in a Bottle (1999)::Romance\\r\\n2498::My Favorite Martian (1999)::Comedy|Sci-Fi\\r\\n2499::God Said 'Ha!' (1998)::Comedy\\r\\n2500::Jawbreaker (1999)::Comedy\\r\\n2501::October Sky (1999)::Drama\\r\\n2502::Office Space (1999)::Comedy|Romance\\r\\n2503::Apple, The (Sib) (1998)::Drama\\r\\n2504::200 Cigarettes (1999)::Comedy|Drama\\r\\n2505::8MM (1999)::Thriller\\r\\n2506::Other Sister, The (1999)::Comedy|Drama|Romance\\r\\n2507::Breakfast of Champions (1999)::Comedy\\r\\n2508::Breaks, The (1999)::Drama\\r\\n2509::Eight Days a Week (1997)::Comedy\\r\\n2510::Just the Ticket (1999)::Comedy|Romance\\r\\n2511::Long Goodbye, The (1973)::Crime\\r\\n2512::Ballad of Narayama, The (Narayama Bushiko) (1982)::Drama\\r\\n2513::Pet Sematary (1989)::Horror\\r\\n2514::Pet Sematary II (1992)::Horror\\r\\n2515::Children of the Corn II: The Final Sacrifice (1993)::Horror\\r\\n2516::Children of the Corn III (1994)::Horror\\r\\n2517::Christine (1983)::Horror\\r\\n2518::Night Shift (1982)::Comedy\\r\\n2519::House on Haunted Hill (1958)::Horror\\r\\n2520::Airport (1970)::Drama\\r\\n2521::Airport 1975 (1974)::Drama\\r\\n2522::Airport '77 (1977)::Drama\\r\\n2523::Rollercoaster (1977)::Drama|Thriller\\r\\n2524::Towering Inferno, The (1974)::Action|Drama\\r\\n2525::Alligator (1980)::Action|Horror|Sci-Fi\\r\\n2526::Meteor (1979)::Sci-Fi\\r\\n2527::Westworld (1973)::Action|Sci-Fi|Thriller|Western\\r\\n2528::Logan's Run (1976)::Action|Adventure|Sci-Fi\\r\\n2529::Planet of the Apes (1968)::Action|Sci-Fi\\r\\n2530::Beneath the Planet of the Apes (1970)::Action|Sci-Fi\\r\\n2531::Battle for the Planet of the Apes (1973)::Action|Sci-Fi\\r\\n2532::Conquest of the Planet of the Apes (1972)::Action|Sci-Fi\\r\\n2533::Escape from the Planet of the Apes (1971)::Action|Sci-Fi\\r\\n2534::Avalanche (1978)::Action\\r\\n2535::Earthquake (1974)::Action\\r\\n2536::Concorde: Airport '79, The (1979)::Drama\\r\\n2537::Beyond the Poseidon Adventure (1979)::Adventure\\r\\n2538::Dancemaker (1998)::Documentary\\r\\n2539::Analyze This (1999)::Comedy\\r\\n2540::Corruptor, The (1999)::Action|Crime|Drama|Thriller\\r\\n2541::Cruel Intentions (1999)::Drama\\r\\n2542::Lock, Stock & Two Smoking Barrels (1998)::Comedy|Crime|Thriller\\r\\n2543::Six Ways to Sunday (1997)::Comedy\\r\\n2544::School of Flesh, The (L' \\xc9cole de la chair) (1998)::Drama\\r\\n2545::Relax... It's Just Sex (1998)::Comedy\\r\\n2546::Deep End of the Ocean, The (1999)::Drama\\r\\n2547::Harvest (1998)::Drama\\r\\n2548::Rage: Carrie 2, The (1999)::Horror\\r\\n2549::Wing Commander (1999)::Action|Sci-Fi\\r\\n2550::Haunting, The (1963)::Horror|Thriller\\r\\n2551::Dead Ringers (1988)::Drama|Thriller\\r\\n2552::My Boyfriend's Back (1993)::Comedy\\r\\n2553::Village of the Damned (1960)::Horror|Sci-Fi|Thriller\\r\\n2554::Children of the Damned (1963)::Horror|Sci-Fi|Thriller\\r\\n2555::Baby Geniuses (1999)::Comedy\\r\\n2556::Telling You (1998)::Comedy|Drama|Romance\\r\\n2557::I Stand Alone (Seul contre tous) (1998)::Drama\\r\\n2558::Forces of Nature (1999)::Comedy|Romance\\r\\n2559::King and I, The (1999)::Animation|Children's\\r\\n2560::Ravenous (1999)::Drama|Horror\\r\\n2561::True Crime (1999)::Crime|Thriller\\r\\n2562::Bandits (1997)::Drama\\r\\n2563::Beauty (1998)::Drama\\r\\n2564::Empty Mirror, The (1999)::Drama\\r\\n2565::King and I, The (1956)::Musical\\r\\n2566::Doug's 1st Movie (1999)::Animation|Children's\\r\\n2567::EDtv (1999)::Comedy\\r\\n2568::Mod Squad, The (1999)::Action|Crime\\r\\n2569::Among Giants (1998)::Drama|Romance\\r\\n2570::Walk on the Moon, A (1999)::Drama|Romance\\r\\n2571::Matrix, The (1999)::Action|Sci-Fi|Thriller\\r\\n2572::10 Things I Hate About You (1999)::Comedy|Romance\\r\\n2573::Tango (1998)::Drama\\r\\n2574::Out-of-Towners, The (1999)::Comedy\\r\\n2575::Dreamlife of Angels, The (La Vie r\\xeav\\xe9e des anges) (1998)::Drama\\r\\n2576::Love, etc. (1996)::Drama\\r\\n2577::Metroland (1997)::Comedy|Drama\\r\\n2578::Sticky Fingers of Time, The (1997)::Sci-Fi\\r\\n2579::Following (1998)::Drama\\r\\n2580::Go (1999)::Crime\\r\\n2581::Never Been Kissed (1999)::Comedy|Romance\\r\\n2582::Twin Dragons (Shuang long hui) (1992)::Action|Comedy\\r\\n2583::Cookie's Fortune (1999)::Mystery\\r\\n2584::Foolish (1999)::Comedy\\r\\n2585::Lovers of the Arctic Circle, The (Los Amantes del C\\xedrculo Polar) (1998)::Drama|Romance\\r\\n2586::Goodbye, Lover (1999)::Comedy|Crime|Thriller\\r\\n2587::Life (1999)::Comedy\\r\\n2588::Clubland (1998)::Drama\\r\\n2589::Friends & Lovers (1999)::Comedy|Drama|Romance\\r\\n2590::Hideous Kinky (1998)::Drama\\r\\n2591::Jeanne and the Perfect Guy (Jeanne et le gar\\xe7on formidable) (1998)::Comedy|Romance\\r\\n2592::Joyriders, The (1999)::Drama\\r\\n2593::Monster, The (Il Mostro) (1994)::Comedy\\r\\n2594::Open Your Eyes (Abre los ojos) (1997)::Drama|Romance|Sci-Fi\\r\\n2595::Photographer (Fotoamator) (1998)::Documentary\\r\\n2596::SLC Punk! (1998)::Comedy|Drama\\r\\n2597::Lost & Found (1999)::Comedy|Romance\\r\\n2598::Pushing Tin (1999)::Comedy\\r\\n2599::Election (1999)::Comedy\\r\\n2600::eXistenZ (1999)::Action|Sci-Fi|Thriller\\r\\n2601::Little Bit of Soul, A (1998)::Comedy\\r\\n2602::Mighty Peking Man (Hsing hsing wang) (1977)::Adventure|Sci-Fi\\r\\n2603::N\\xf4 (1998)::Drama\\r\\n2604::Let it Come Down: The Life of Paul Bowles (1998)::Documentary\\r\\n2605::Entrapment (1999)::Crime|Thriller\\r\\n2606::Idle Hands (1999)::Comedy|Horror\\r\\n2607::Get Real (1998)::Drama\\r\\n2608::Heaven (1998)::Thriller\\r\\n2609::King of Masks, The (Bian Lian) (1996)::Drama\\r\\n2610::Three Seasons (1999)::Drama\\r\\n2611::Winslow Boy, The (1998)::Drama\\r\\n2612::Mildred Pierce (1945)::Drama\\r\\n2613::Night of the Comet (1984)::Action|Horror|Sci-Fi\\r\\n2614::Chopping Mall (a.k.a. Killbots) (1986)::Action|Horror|Sci-Fi\\r\\n2615::My Science Project (1985)::Adventure|Sci-Fi\\r\\n2616::Dick Tracy (1990)::Action|Crime\\r\\n2617::Mummy, The (1999)::Action|Adventure|Horror|Thriller\\r\\n2618::Castle, The (1997)::Comedy\\r\\n2619::Mascara (1999)::Drama\\r\\n2620::This Is My Father (1998)::Drama|Romance\\r\\n2621::Xiu Xiu: The Sent-Down Girl (Tian yu) (1998)::Drama|Romance\\r\\n2622::Midsummer Night's Dream, A (1999)::Comedy|Fantasy\\r\\n2623::Trippin' (1999)::Comedy\\r\\n2624::After Life (1998)::Drama\\r\\n2625::Black Mask (Hak hap) (1996)::Action\\r\\n2626::Edge of Seventeen (1998)::Comedy|Drama|Romance\\r\\n2627::Endurance (1998)::Documentary|Drama\\r\\n2628::Star Wars: Episode I - The Phantom Menace (1999)::Action|Adventure|Fantasy|Sci-Fi\\r\\n2629::Love Letter, The (1999)::Comedy|Romance\\r\\n2630::Besieged (L' Assedio) (1998)::Drama\\r\\n2631::Frogs for Snakes (1998)::Comedy|Film-Noir|Thriller\\r\\n2632::Saragossa Manuscript, The (Rekopis znaleziony w Saragossie) (1965)::Drama\\r\\n2633::Mummy, The (1932)::Horror|Romance\\r\\n2634::Mummy, The (1959)::Horror\\r\\n2635::Mummy's Curse, The (1944)::Horror\\r\\n2636::Mummy's Ghost, The (1944)::Horror\\r\\n2637::Mummy's Hand, The (1940)::Horror\\r\\n2638::Mummy's Tomb, The (1942)::Horror\\r\\n2639::Mommie Dearest (1981)::Drama\\r\\n2640::Superman (1978)::Action|Adventure|Sci-Fi\\r\\n2641::Superman II (1980)::Action|Adventure|Sci-Fi\\r\\n2642::Superman III (1983)::Action|Adventure|Sci-Fi\\r\\n2643::Superman IV: The Quest for Peace (1987)::Action|Adventure|Sci-Fi\\r\\n2644::Dracula (1931)::Horror\\r\\n2645::Dracula (1958)::Horror\\r\\n2646::House of Dracula (1945)::Horror\\r\\n2647::House of Frankenstein (1944)::Horror\\r\\n2648::Frankenstein (1931)::Horror\\r\\n2649::Son of Frankenstein (1939)::Horror\\r\\n2650::Ghost of Frankenstein, The (1942)::Horror\\r\\n2651::Frankenstein Meets the Wolf Man (1943)::Horror\\r\\n2652::Curse of Frankenstein, The (1957)::Horror\\r\\n2653::Son of Dracula (1943)::Horror\\r\\n2654::Wolf Man, The (1941)::Horror\\r\\n2655::Howling II: Your Sister Is a Werewolf (1985)::Horror\\r\\n2656::Tarantula (1955)::Horror|Sci-Fi\\r\\n2657::Rocky Horror Picture Show, The (1975)::Comedy|Horror|Musical|Sci-Fi\\r\\n2658::Flying Saucer, The (1950)::Sci-Fi\\r\\n2659::It Came from Hollywood (1982)::Comedy|Documentary\\r\\n2660::Thing From Another World, The (1951)::Sci-Fi\\r\\n2661::It Came from Outer Space (1953)::Sci-Fi\\r\\n2662::War of the Worlds, The (1953)::Action|Sci-Fi|War\\r\\n2663::It Came from Beneath the Sea (1955)::Sci-Fi\\r\\n2664::Invasion of the Body Snatchers (1956)::Horror|Sci-Fi\\r\\n2665::Earth Vs. the Flying Saucers (1956)::Sci-Fi\\r\\n2666::It Conquered the World (1956)::Sci-Fi\\r\\n2667::Mole People, The (1956)::Sci-Fi\\r\\n2668::Swamp Thing (1982)::Horror|Sci-Fi\\r\\n2669::Pork Chop Hill (1959)::War\\r\\n2670::Run Silent, Run Deep (1958)::War\\r\\n2671::Notting Hill (1999)::Comedy|Romance\\r\\n2672::Thirteenth Floor, The (1999)::Drama|Sci-Fi|Thriller\\r\\n2673::Eternity and a Day (Mia eoniotita ke mia mera ) (1998)::Drama\\r\\n2674::Loss of Sexual Innocence, The (1999)::Drama\\r\\n2675::Twice Upon a Yesterday (1998)::Comedy|Drama|Romance\\r\\n2676::Instinct (1999)::Drama|Thriller\\r\\n2677::Buena Vista Social Club (1999)::Documentary\\r\\n2678::Desert Blue (1999)::Drama\\r\\n2679::Finding North (1999)::Drama|Romance\\r\\n2680::Floating (1997)::Drama\\r\\n2681::Free Enterprise (1998)::Comedy|Romance|Sci-Fi\\r\\n2682::Limbo (1999)::Drama\\r\\n2683::Austin Powers: The Spy Who Shagged Me (1999)::Comedy\\r\\n2684::Taxman (1999)::Comedy|Drama\\r\\n2685::Red Dwarf, The (Le Nain rouge) (1998)::Comedy|Drama\\r\\n2686::Red Violin, The (Le Violon rouge) (1998)::Drama|Mystery\\r\\n2687::Tarzan (1999)::Animation|Children's\\r\\n2688::General's Daughter, The (1999)::Drama|Thriller\\r\\n2689::Get Bruce (1999)::Documentary\\r\\n2690::Ideal Husband, An (1999)::Comedy\\r\\n2691::Legend of 1900, The (Leggenda del pianista sull'oceano) (1998)::Drama\\r\\n2692::Run Lola Run (Lola rennt) (1998)::Action|Crime|Romance\\r\\n2693::Trekkies (1997)::Documentary\\r\\n2694::Big Daddy (1999)::Comedy\\r\\n2695::Boys, The (1997)::Drama\\r\\n2696::Dinner Game, The (Le D\\xeener de cons) (1998)::Comedy\\r\\n2697::My Son the Fanatic (1998)::Comedy|Drama|Romance\\r\\n2698::Zone 39 (1997)::Sci-Fi\\r\\n2699::Arachnophobia (1990)::Action|Comedy|Sci-Fi|Thriller\\r\\n2700::South Park: Bigger, Longer and Uncut (1999)::Animation|Comedy\\r\\n2701::Wild Wild West (1999)::Action|Sci-Fi|Western\\r\\n2702::Summer of Sam (1999)::Drama\\r\\n2703::Broken Vessels (1998)::Drama\\r\\n2704::Lovers on the Bridge, The (Les Amants du Pont-Neuf) (1991)::Drama|Romance\\r\\n2705::Late August, Early September (Fin ao\\xfbt, d\\xe9but septembre) (1998)::Drama\\r\\n2706::American Pie (1999)::Comedy\\r\\n2707::Arlington Road (1999)::Thriller\\r\\n2708::Autumn Tale, An (Conte d'automne) (1998)::Romance\\r\\n2709::Muppets From Space (1999)::Children's|Comedy\\r\\n2710::Blair Witch Project, The (1999)::Horror\\r\\n2711::My Life So Far (1999)::Drama\\r\\n2712::Eyes Wide Shut (1999)::Drama\\r\\n2713::Lake Placid (1999)::Horror|Thriller\\r\\n2714::Wood, The (1999)::Drama\\r\\n2715::Velocity of Gary, The (1998)::Comedy|Romance\\r\\n2716::Ghostbusters (1984)::Comedy|Horror\\r\\n2717::Ghostbusters II (1989)::Comedy|Horror\\r\\n2718::Drop Dead Gorgeous (1999)::Comedy\\r\\n2719::Haunting, The (1999)::Horror|Thriller\\r\\n2720::Inspector Gadget (1999)::Action|Adventure|Children's|Comedy\\r\\n2721::Trick (1999)::Romance\\r\\n2722::Deep Blue Sea (1999)::Action|Sci-Fi|Thriller\\r\\n2723::Mystery Men (1999)::Action|Adventure|Comedy\\r\\n2724::Runaway Bride (1999)::Comedy|Romance\\r\\n2725::Twin Falls Idaho (1999)::Drama\\r\\n2726::Killing, The (1956)::Crime|Film-Noir\\r\\n2727::Killer's Kiss (1955)::Film-Noir\\r\\n2728::Spartacus (1960)::Drama\\r\\n2729::Lolita (1962)::Drama\\r\\n2730::Barry Lyndon (1975)::Drama\\r\\n2731::400 Blows, The (Les Quatre cents coups) (1959)::Drama\\r\\n2732::Jules and Jim (Jules et Jim) (1961)::Drama\\r\\n2733::Vibes (1988)::Adventure|Comedy\\r\\n2734::Mosquito Coast, The (1986)::Drama\\r\\n2735::Golden Child, The (1986)::Action|Adventure|Comedy\\r\\n2736::Brighton Beach Memoirs (1986)::Comedy\\r\\n2737::Assassination (1987)::Action\\r\\n2738::Crimes of the Heart (1986)::Comedy|Drama\\r\\n2739::Color Purple, The (1985)::Drama\\r\\n2740::Kindred, The (1986)::Horror\\r\\n2741::No Mercy (1986)::Action|Thriller\\r\\n2742::M\\xe9nage (Tenue de soir\\xe9e) (1986)::Comedy|Drama\\r\\n2743::Native Son (1986)::Drama\\r\\n2744::Otello (1986)::Drama\\r\\n2745::Mission, The (1986)::Drama\\r\\n2746::Little Shop of Horrors (1986)::Comedy|Horror|Musical\\r\\n2747::Little Shop of Horrors, The (1960)::Comedy|Horror\\r\\n2748::Allan Quartermain and the Lost City of Gold (1987)::Action|Adventure\\r\\n2749::Morning After, The (1986)::Drama|Mystery\\r\\n2750::Radio Days (1987)::Comedy|Drama\\r\\n2751::From the Hip (1987)::Comedy\\r\\n2752::Outrageous Fortune (1987)::Comedy|Mystery\\r\\n2753::Bedroom Window, The (1987)::Thriller\\r\\n2754::Deadtime Stories (1987)::Horror\\r\\n2755::Light of Day (1987)::Drama\\r\\n2756::Wanted: Dead or Alive (1987)::Action\\r\\n2757::Frances (1982)::Drama\\r\\n2758::Plenty (1985)::Drama\\r\\n2759::Dick (1999)::Comedy\\r\\n2760::Gambler, The (A J\\xe1t\\xe9kos) (1997)::Drama\\r\\n2761::Iron Giant, The (1999)::Animation|Children's\\r\\n2762::Sixth Sense, The (1999)::Thriller\\r\\n2763::Thomas Crown Affair, The (1999)::Action|Thriller\\r\\n2764::Thomas Crown Affair, The (1968)::Crime|Drama|Thriller\\r\\n2765::Acid House, The (1998)::Comedy|Drama\\r\\n2766::Adventures of Sebastian Cole, The (1998)::Comedy|Drama\\r\\n2767::Illuminata (1998)::Comedy\\r\\n2768::Stiff Upper Lips (1998)::Comedy\\r\\n2769::Yards, The (1999)::Crime|Mystery\\r\\n2770::Bowfinger (1999)::Comedy\\r\\n2771::Brokedown Palace (1999)::Drama\\r\\n2772::Detroit Rock City (1999)::Comedy\\r\\n2773::Alice and Martin (Alice et Martin) (1998)::Drama\\r\\n2774::Better Than Chocolate (1999)::Comedy|Romance\\r\\n2775::Head On (1998)::Drama\\r\\n2776::Marcello Mastroianni: I Remember Yes, I Remember (1997)::Documentary\\r\\n2777::Cobra (1925)::Drama\\r\\n2778::Never Talk to Strangers (1995)::Thriller\\r\\n2779::Heaven Can Wait (1978)::Comedy\\r\\n2780::Raven, The (1963)::Comedy|Horror\\r\\n2781::Tingler, The (1959)::Horror\\r\\n2782::Pit and the Pendulum (1961)::Horror\\r\\n2783::Tomb of Ligeia, The (1965)::Horror\\r\\n2784::Masque of the Red Death, The (1964)::Horror\\r\\n2785::Tales of Terror (1962)::Horror\\r\\n2786::Haunted Honeymoon (1986)::Comedy\\r\\n2787::Cat's Eye (1985)::Horror\\r\\n2788::And Now for Something Completely Different (1971)::Comedy\\r\\n2789::Damien: Omen II (1978)::Horror\\r\\n2790::Final Conflict, The (a.k.a. Omen III: The Final Conflict) (1981)::Horror\\r\\n2791::Airplane! (1980)::Comedy\\r\\n2792::Airplane II: The Sequel (1982)::Comedy\\r\\n2793::American Werewolf in Paris, An (1997)::Comedy|Horror\\r\\n2794::European Vacation (1985)::Comedy\\r\\n2795::Vacation (1983)::Comedy\\r\\n2796::Funny Farm (1988)::Comedy\\r\\n2797::Big (1988)::Comedy|Fantasy\\r\\n2798::Problem Child (1990)::Comedy\\r\\n2799::Problem Child 2 (1991)::Comedy\\r\\n2800::Little Nemo: Adventures in Slumberland (1992)::Animation|Children's\\r\\n2801::Oscar and Lucinda (a.k.a. Oscar & Lucinda) (1997)::Drama|Romance\\r\\n2802::Tequila Sunrise (1988)::Action|Romance|Thriller\\r\\n2803::Pelican Brief, The (1993)::Thriller\\r\\n2804::Christmas Story, A (1983)::Comedy|Drama\\r\\n2805::Mickey Blue Eyes (1999)::Comedy|Romance\\r\\n2806::Teaching Mrs. Tingle (1999)::Comedy|Thriller\\r\\n2807::Universal Soldier: The Return (1999)::Action|Sci-Fi\\r\\n2808::Universal Soldier (1992)::Action|Sci-Fi\\r\\n2809::Love Stinks (1999)::Comedy\\r\\n2810::Perfect Blue (1997)::Animation|Mystery\\r\\n2811::With Friends Like These... (1998)::Comedy\\r\\n2812::In Too Deep (1999)::Action|Thriller\\r\\n2813::Source, The (1999)::Documentary\\r\\n2814::Bat, The (1959)::Horror\\r\\n2815::Iron Eagle (1986)::Action|War\\r\\n2816::Iron Eagle II (1988)::Action|War\\r\\n2817::Aces: Iron Eagle III (1992)::Action|War\\r\\n2818::Iron Eagle IV (1995)::Action|War\\r\\n2819::Three Days of the Condor (1975)::Thriller\\r\\n2820::Hamlet (1964)::Drama\\r\\n2821::Male and Female (1919)::Adventure|Drama\\r\\n2822::Medicine Man (1992)::Adventure|Romance\\r\\n2823::Spiders, The (Die Spinnen, 1. Teil: Der Goldene See) (1919)::Action|Drama\\r\\n2824::On the Ropes (1999)::Documentary\\r\\n2825::Rosie (1998)::Drama\\r\\n2826::13th Warrior, The (1999)::Action|Horror|Thriller\\r\\n2827::Astronaut's Wife, The (1999)::Sci-Fi|Thriller\\r\\n2828::Dudley Do-Right (1999)::Children's|Comedy\\r\\n2829::Muse, The (1999)::Comedy|Drama\\r\\n2830::Cabaret Balkan (Bure Baruta) (1998)::Drama\\r\\n2831::Dog of Flanders, A (1999)::Drama\\r\\n2832::Lost Son, The (1999)::Drama\\r\\n2833::Lucie Aubrac (1997)::Romance|War\\r\\n2834::Very Thought of You, The (1998)::Comedy|Romance\\r\\n2835::Chill Factor (1999)::Action|Thriller\\r\\n2836::Outside Providence (1999)::Comedy\\r\\n2837::Bedrooms & Hallways (1998)::Comedy|Romance\\r\\n2838::I Woke Up Early the Day I Died (1998)::Comedy\\r\\n2839::West Beirut (West Beyrouth) (1998)::Drama\\r\\n2840::Stigmata (1999)::Thriller\\r\\n2841::Stir of Echoes (1999)::Thriller\\r\\n2842::Best Laid Plans (1999)::Crime|Drama\\r\\n2843::Black Cat, White Cat (Crna macka, beli macor) (1998)::Comedy|Romance\\r\\n2844::Minus Man, The (1999)::Drama|Mystery\\r\\n2845::White Boys (1999)::Drama\\r\\n2846::Adventures of Milo and Otis, The (1986)::Children's\\r\\n2847::Only Angels Have Wings (1939)::Drama\\r\\n2848::Othello (1952)::Drama\\r\\n2849::Queens Logic (1991)::Comedy|Drama\\r\\n2850::Public Access (1993)::Drama|Thriller\\r\\n2851::Saturn 3 (1979)::Adventure|Sci-Fi|Thriller\\r\\n2852::Soldier's Story, A (1984)::Drama\\r\\n2853::Communion (a.k.a. Alice, Sweet Alice/Holy Terror) (1977)::Horror\\r\\n2854::Don't Look in the Basement! (1973)::Horror\\r\\n2855::Nightmares (1983)::Horror\\r\\n2856::I Saw What You Did (1965)::Thriller\\r\\n2857::Yellow Submarine (1968)::Animation|Musical\\r\\n2858::American Beauty (1999)::Comedy|Drama\\r\\n2859::Stop Making Sense (1984)::Documentary\\r\\n2860::Blue Streak (1999)::Comedy\\r\\n2861::For Love of the Game (1999)::Comedy|Drama\\r\\n2862::Caligula (1980)::Drama\\r\\n2863::Hard Day's Night, A (1964)::Comedy|Musical\\r\\n2864::Splendor (1999)::Comedy\\r\\n2865::Sugar Town (1999)::Comedy\\r\\n2866::Buddy Holly Story, The (1978)::Drama\\r\\n2867::Fright Night (1985)::Comedy|Horror\\r\\n2868::Fright Night Part II (1989)::Horror\\r\\n2869::Separation, The (La S\\xe9paration) (1994)::Drama\\r\\n2870::Barefoot in the Park (1967)::Comedy\\r\\n2871::Deliverance (1972)::Adventure|Thriller\\r\\n2872::Excalibur (1981)::Action|Drama|Fantasy|Romance\\r\\n2873::Lulu on the Bridge (1998)::Drama|Mystery|Romance\\r\\n2874::Pajama Game, The (1957)::Comedy\\r\\n2875::Sommersby (1993)::Drama|Mystery|Romance\\r\\n2876::Thumbelina (1994)::Animation|Children's\\r\\n2877::Tommy (1975)::Drama|Musical\\r\\n2878::Hell Night (1981)::Horror\\r\\n2879::Operation Condor (Feiying gaiwak) (1990)::Action|Adventure|Comedy\\r\\n2880::Operation Condor 2 (Longxiong hudi) (1990)::Action|Adventure|Comedy\\r\\n2881::Double Jeopardy (1999)::Action|Thriller\\r\\n2882::Jakob the Liar (1999)::Drama\\r\\n2883::Mumford (1999)::Comedy\\r\\n2884::Dog Park (1998)::Comedy|Romance\\r\\n2885::Guinevere (1999)::Drama|Romance\\r\\n2886::Adventures of Elmo in Grouchland, The (1999)::Children's|Comedy\\r\\n2887::Simon Sez (1999)::Drama\\r\\n2888::Drive Me Crazy (1999)::Comedy|Romance\\r\\n2889::Mystery, Alaska (1999)::Comedy\\r\\n2890::Three Kings (1999)::Drama|War\\r\\n2891::Happy, Texas (1999)::Comedy\\r\\n2892::New Rose Hotel (1998)::Action|Drama\\r\\n2893::Plunkett & MaCleane (1999)::Action|Drama\\r\\n2894::Romance (1999)::Drama|Romance\\r\\n2895::Napoleon and Samantha (1972)::Adventure\\r\\n2896::Alvarez Kelly (1966)::Western\\r\\n2897::And the Ship Sails On (E la nave va) (1984)::Comedy|War\\r\\n2898::Dark Half, The (1993)::Horror|Mystery\\r\\n2899::Gulliver's Travels (1939)::Adventure|Animation|Children's\\r\\n2900::Monkey Shines (1988)::Horror|Sci-Fi\\r\\n2901::Phantasm (1979)::Horror|Sci-Fi\\r\\n2902::Psycho II (1983)::Horror|Thriller\\r\\n2903::Psycho III (1986)::Horror|Thriller\\r\\n2904::Rain (1932)::Drama\\r\\n2905::Sanjuro (1962)::Action|Adventure\\r\\n2906::Random Hearts (1999)::Drama|Romance\\r\\n2907::Superstar (1999)::Comedy\\r\\n2908::Boys Don't Cry (1999)::Drama\\r\\n2909::Five Wives, Three Secretaries and Me (1998)::Documentary\\r\\n2910::Ennui, L' (1998)::Drama|Romance\\r\\n2911::Grandfather, The (El Abuelo) (1998)::Drama\\r\\n2912::Limey, The (1999)::Action|Crime|Drama\\r\\n2913::Mating Habits of the Earthbound Human, The (1998)::Comedy\\r\\n2914::Molly (1999)::Comedy|Drama\\r\\n2915::Risky Business (1983)::Comedy\\r\\n2916::Total Recall (1990)::Action|Adventure|Sci-Fi|Thriller\\r\\n2917::Body Heat (1981)::Crime|Thriller\\r\\n2918::Ferris Bueller's Day Off (1986)::Comedy\\r\\n2919::Year of Living Dangerously (1982)::Drama|Romance\\r\\n2920::Children of Paradise (Les enfants du paradis) (1945)::Drama|Romance\\r\\n2921::High Plains Drifter (1972)::Western\\r\\n2922::Hang 'em High (1967)::Western\\r\\n2923::Citizen's Band (a.k.a. Handle with Care) (1977)::Comedy\\r\\n2924::Drunken Master (Zui quan) (1979)::Action|Comedy\\r\\n2925::Conformist, The (Il Conformista) (1970)::Drama\\r\\n2926::Hairspray (1988)::Comedy|Drama\\r\\n2927::Brief Encounter (1946)::Drama|Romance\\r\\n2928::Razor's Edge, The (1984)::Drama\\r\\n2929::Reds (1981)::Drama\\r\\n2930::Return with Honor (1998)::Documentary\\r\\n2931::Time of the Gypsies (Dom za vesanje) (1989)::Drama\\r\\n2932::Days of Heaven (1978)::Drama\\r\\n2933::Fire Within, The (Le Feu Follet) (1963)::Drama\\r\\n2934::Love Bewitched, A (El Amor Brujo) (1986)::Musical\\r\\n2935::Lady Eve, The (1941)::Comedy|Romance\\r\\n2936::Sullivan's Travels (1942)::Comedy\\r\\n2937::Palm Beach Story, The (1942)::Comedy\\r\\n2938::Man Facing Southeast (Hombre Mirando al Sudeste) (1986)::Drama\\r\\n2939::Niagara (1953)::Drama|Thriller\\r\\n2940::Gilda (1946)::Film-Noir\\r\\n2941::South Pacific (1958)::Musical|Romance|War\\r\\n2942::Flashdance (1983)::Drama|Romance\\r\\n2943::Indochine (1992)::Drama|Romance\\r\\n2944::Dirty Dozen, The (1967)::Action|War\\r\\n2945::Mike's Murder (1984)::Mystery\\r\\n2946::Help! (1965)::Comedy|Musical\\r\\n2947::Goldfinger (1964)::Action\\r\\n2948::From Russia with Love (1963)::Action\\r\\n2949::Dr. No (1962)::Action\\r\\n2950::Blue Lagoon, The (1980)::Adventure|Drama|Romance\\r\\n2951::Fistful of Dollars, A (1964)::Action|Western\\r\\n2952::Hard 8 (a.k.a. Sydney, a.k.a. Hard Eight) (1996)::Crime|Thriller\\r\\n2953::Home Alone 2: Lost in New York (1992)::Children's|Comedy\\r\\n2954::Penitentiary (1979)::Drama\\r\\n2955::Penitentiary II (1982)::Drama\\r\\n2956::Someone to Watch Over Me (1987)::Action|Crime|Thriller\\r\\n2957::Sparrows (1926)::Drama\\r\\n2958::Naturally Native (1998)::Drama\\r\\n2959::Fight Club (1999)::Drama\\r\\n2960::Beefcake (1999)::Drama\\r\\n2961::Story of Us, The (1999)::Comedy|Drama\\r\\n2962::Fever Pitch (1997)::Comedy|Romance\\r\\n2963::Joe the King (1999)::Crime|Drama\\r\\n2964::Julien Donkey-Boy (1999)::Drama\\r\\n2965::Omega Code, The (1999)::Action\\r\\n2966::Straight Story, The (1999)::Drama\\r\\n2967::Bad Seed, The (1956)::Drama|Thriller\\r\\n2968::Time Bandits (1981)::Adventure|Fantasy|Sci-Fi\\r\\n2969::Man and a Woman, A (Un Homme et une Femme) (1966)::Drama|Romance\\r\\n2970::Fitzcarraldo (1982)::Adventure|Drama\\r\\n2971::All That Jazz (1979)::Musical\\r\\n2972::Red Sorghum (Hong Gao Liang) (1987)::Drama|War\\r\\n2973::Crimes and Misdemeanors (1989)::Comedy\\r\\n2974::Bats (1999)::Horror|Thriller\\r\\n2975::Best Man, The (1999)::Drama\\r\\n2976::Bringing Out the Dead (1999)::Drama|Horror\\r\\n2977::Crazy in Alabama (1999)::Comedy|Drama\\r\\n2978::Three to Tango (1999)::Comedy|Romance\\r\\n2979::Body Shots (1999)::Drama\\r\\n2980::Men Cry Bullets (1997)::Drama\\r\\n2981::Brother, Can You Spare a Dime? (1975)::Documentary\\r\\n2982::Guardian, The (1990)::Horror|Thriller\\r\\n2983::Ipcress File, The (1965)::Thriller\\r\\n2984::On Any Sunday (1971)::Documentary\\r\\n2985::Robocop (1987)::Action|Crime|Sci-Fi\\r\\n2986::Robocop 2 (1990)::Action|Crime|Sci-Fi\\r\\n2987::Who Framed Roger Rabbit? (1988)::Adventure|Animation|Film-Noir\\r\\n2988::Melvin and Howard (1980)::Drama\\r\\n2989::For Your Eyes Only (1981)::Action\\r\\n2990::Licence to Kill (1989)::Action\\r\\n2991::Live and Let Die (1973)::Action\\r\\n2992::Rawhead Rex (1986)::Horror|Thriller\\r\\n2993::Thunderball (1965)::Action\\r\\n2994::City, The (1998)::Drama\\r\\n2995::House on Haunted Hill, The (1999)::Horror\\r\\n2996::Music of the Heart (1999)::Drama\\r\\n2997::Being John Malkovich (1999)::Comedy\\r\\n2998::Dreaming of Joseph Lees (1998)::Romance\\r\\n2999::Man of the Century (1999)::Comedy\\r\\n3000::Princess Mononoke, The (Mononoke Hime) (1997)::Action|Adventure|Animation\\r\\n3001::Suburbans, The (1999)::Drama\\r\\n3002::My Best Fiend (Mein liebster Feind) (1999)::Documentary\\r\\n3003::Train of Life (Train De Vie) (1998)::Comedy|Drama\\r\\n3004::Bachelor, The (1999)::Comedy|Romance\\r\\n3005::Bone Collector, The (1999)::Thriller\\r\\n3006::Insider, The (1999)::Drama\\r\\n3007::American Movie (1999)::Documentary\\r\\n3008::Last Night (1998)::Thriller\\r\\n3009::Portraits Chinois (1996)::Drama\\r\\n3010::Rosetta (1999)::Drama\\r\\n3011::They Shoot Horses, Don't They? (1969)::Drama\\r\\n3012::Battling Butler (1926)::Comedy\\r\\n3013::Bride of Re-Animator (1990)::Comedy|Horror\\r\\n3014::Bustin' Loose (1981)::Comedy\\r\\n3015::Coma (1978)::Thriller\\r\\n3016::Creepshow (1982)::Horror\\r\\n3017::Creepshow 2 (1987)::Horror\\r\\n3018::Re-Animator (1985)::Horror\\r\\n3019::Drugstore Cowboy (1989)::Crime|Drama\\r\\n3020::Falling Down (1993)::Action|Drama\\r\\n3021::Funhouse, The (1981)::Horror\\r\\n3022::General, The (1927)::Comedy\\r\\n3023::My Best Girl (1927)::Comedy|Romance\\r\\n3024::Piranha (1978)::Horror|Sci-Fi\\r\\n3025::Rough Night in Jericho (1967)::Western\\r\\n3026::Slaughterhouse (1987)::Horror\\r\\n3027::Slaughterhouse 2 (1988)::Horror\\r\\n3028::Taming of the Shrew, The (1967)::Comedy\\r\\n3029::Nighthawks (1981)::Action|Drama\\r\\n3030::Yojimbo (1961)::Comedy|Drama|Western\\r\\n3031::Repossessed (1990)::Comedy\\r\\n3032::Omega Man, The (1971)::Sci-Fi\\r\\n3033::Spaceballs (1987)::Comedy|Sci-Fi\\r\\n3034::Robin Hood (1973)::Animation|Children's\\r\\n3035::Mister Roberts (1955)::Comedy|Drama|War\\r\\n3036::Quest for Fire (1981)::Adventure\\r\\n3037::Little Big Man (1970)::Comedy|Drama|Western\\r\\n3038::Face in the Crowd, A (1957)::Drama\\r\\n3039::Trading Places (1983)::Comedy\\r\\n3040::Meatballs (1979)::Comedy\\r\\n3041::Meatballs Part II (1984)::Comedy\\r\\n3042::Meatballs III (1987)::Comedy\\r\\n3043::Meatballs 4 (1992)::Comedy\\r\\n3044::Dead Again (1991)::Mystery|Romance|Thriller\\r\\n3045::Peter's Friends (1992)::Comedy|Drama\\r\\n3046::Incredibly True Adventure of Two Girls in Love, The (1995)::Comedy|Romance\\r\\n3047::Experience Preferred... But Not Essential (1982)::Drama\\r\\n3048::Under the Rainbow (1981)::Comedy\\r\\n3049::How I Won the War (1967)::Comedy|War\\r\\n3050::Light It Up (1999)::Drama\\r\\n3051::Anywhere But Here (1999)::Drama\\r\\n3052::Dogma (1999)::Comedy\\r\\n3053::Messenger: The Story of Joan of Arc, The (1999)::Drama|War\\r\\n3054::Pok\\xe9mon: The First Movie (1998)::Animation|Children's\\r\\n3055::Felicia's Journey (1999)::Thriller\\r\\n3056::Oxygen (1999)::Thriller\\r\\n3057::Where's Marlowe? (1999)::Comedy\\r\\n3058::Ape, The (1940)::Horror|Sci-Fi\\r\\n3059::British Intelligence (1940)::Drama\\r\\n3060::Commitments, The (1991)::Comedy|Drama\\r\\n3061::Holiday Inn (1942)::Comedy|Musical\\r\\n3062::Longest Day, The (1962)::Action|Drama|War\\r\\n3063::Poison Ivy (1992)::Thriller\\r\\n3064::Poison Ivy: New Seduction (1997)::Thriller\\r\\n3065::Ten Benny (1997)::Drama\\r\\n3066::Tora! Tora! Tora! (1970)::War\\r\\n3067::Women on the Verge of a Nervous Breakdown (1988)::Comedy|Drama\\r\\n3068::Verdict, The (1982)::Drama\\r\\n3069::Effect of Gamma Rays on Man-in-the-Moon Marigolds, The (1972)::Drama\\r\\n3070::Adventures of Buckaroo Bonzai Across the 8th Dimension, The (1984)::Adventure|Comedy|Sci-Fi\\r\\n3071::Stand and Deliver (1987)::Drama\\r\\n3072::Moonstruck (1987)::Comedy\\r\\n3073::Sandpiper, The (1965)::Drama|Romance\\r\\n3074::Jeremiah Johnson (1972)::Western\\r\\n3075::Repulsion (1965)::Thriller\\r\\n3076::Irma la Douce (1963)::Comedy\\r\\n3077::42 Up (1998)::Documentary\\r\\n3078::Liberty Heights (1999)::Drama\\r\\n3079::Mansfield Park (1999)::Drama\\r\\n3080::Goodbye, 20th Century (Zbogum na dvadesetiot vek) (1998)::Drama|Sci-Fi\\r\\n3081::Sleepy Hollow (1999)::Horror|Romance\\r\\n3082::World Is Not Enough, The (1999)::Action|Thriller\\r\\n3083::All About My Mother (Todo Sobre Mi Madre) (1999)::Comedy|Drama\\r\\n3084::Home Page (1999)::Documentary\\r\\n3085::Living Dead Girl, The (La Morte Vivante) (1982)::Horror\\r\\n3086::March of the Wooden Soldiers (a.k.a. Laurel & Hardy in Toyland) (1934)::Comedy\\r\\n3087::Scrooged (1988)::Comedy\\r\\n3088::Harvey (1950)::Comedy\\r\\n3089::Bicycle Thief, The (Ladri di biciclette) (1948)::Drama\\r\\n3090::Matewan (1987)::Drama\\r\\n3091::Kagemusha (1980)::Drama|War\\r\\n3092::Chushingura (1962)::Drama\\r\\n3093::McCabe & Mrs. Miller (1971)::Drama|Western\\r\\n3094::Maurice (1987)::Drama|Romance\\r\\n3095::Grapes of Wrath, The (1940)::Drama\\r\\n3096::My Man Godfrey (1957)::Comedy\\r\\n3097::Shop Around the Corner, The (1940)::Comedy|Romance\\r\\n3098::Natural, The (1984)::Drama\\r\\n3099::Shampoo (1975)::Comedy|Romance\\r\\n3100::River Runs Through It, A (1992)::Drama\\r\\n3101::Fatal Attraction (1987)::Thriller\\r\\n3102::Jagged Edge (1985)::Thriller\\r\\n3103::Stanley & Iris (1990)::Drama|Romance\\r\\n3104::Midnight Run (1988)::Action|Adventure|Comedy|Crime\\r\\n3105::Awakenings (1990)::Drama\\r\\n3106::Come See the Paradise (1990)::Drama|Romance\\r\\n3107::Backdraft (1991)::Action|Drama\\r\\n3108::Fisher King, The (1991)::Comedy|Drama|Romance\\r\\n3109::River, The (1984)::Drama\\r\\n3110::Country (1984)::Drama\\r\\n3111::Places in the Heart (1984)::Drama\\r\\n3112::'Night Mother (1986)::Drama\\r\\n3113::End of Days (1999)::Action|Thriller\\r\\n3114::Toy Story 2 (1999)::Animation|Children's|Comedy\\r\\n3115::Flawless (1999)::Drama\\r\\n3116::Miss Julie (1999)::Drama\\r\\n3117::Ride with the Devil (1999)::Drama|Romance|War\\r\\n3118::Tumbleweeds (1999)::Drama\\r\\n3119::Bay of Blood (Reazione a catena) (1971)::Horror\\r\\n3120::Distinguished Gentleman, The (1992)::Comedy\\r\\n3121::Hitch-Hiker, The (1953)::Film-Noir\\r\\n3122::Santa Fe Trail (1940)::Drama|Romance|Western\\r\\n3123::Spring Fever USA (a.k.a. Lauderdale) (1989)::Comedy\\r\\n3124::Agnes Browne (1999)::Comedy|Drama\\r\\n3125::End of the Affair, The (1999)::Drama\\r\\n3126::End of the Affair, The (1955)::Drama\\r\\n3127::Holy Smoke (1999)::Drama\\r\\n3128::Map of the World, A (1999)::Drama\\r\\n3129::Sweet and Lowdown (1999)::Comedy|Drama\\r\\n3130::Bonfire of the Vanities (1990)::Comedy\\r\\n3131::Broadway Damage (1997)::Comedy\\r\\n3132::Daddy Long Legs (1919)::Comedy\\r\\n3133::Go West (1925)::Comedy\\r\\n3134::Grand Illusion (Grande illusion, La) (1937)::Drama|War\\r\\n3135::Great Santini, The (1979)::Drama\\r\\n3136::James Dean Story, The (1957)::Documentary\\r\\n3137::Sea Wolves, The (1980)::Action|War\\r\\n3138::Stealing Home (1988)::Drama\\r\\n3139::Tarzan the Fearless (1933)::Action|Adventure\\r\\n3140::Three Ages, The (1923)::Comedy\\r\\n3141::Two Jakes, The (1990)::Drama\\r\\n3142::U2: Rattle and Hum (1988)::Documentary|Musical\\r\\n3143::Hell in the Pacific (1968)::Drama|War\\r\\n3144::Glass Bottom Boat, The (1966)::Comedy|Romance\\r\\n3145::Cradle Will Rock, The (1999)::Drama\\r\\n3146::Deuce Bigalow: Male Gigolo (1999)::Comedy\\r\\n3147::Green Mile, The (1999)::Drama|Thriller\\r\\n3148::Cider House Rules, The (1999)::Drama\\r\\n3149::Diamonds (1999)::Mystery\\r\\n3150::War Zone, The (1999)::Drama\\r\\n3151::Bat Whispers, The (1930)::Crime|Drama|Mystery\\r\\n3152::Last Picture Show, The (1971)::Drama\\r\\n3153::7th Voyage of Sinbad, The (1958)::Action|Adventure|Fantasy\\r\\n3154::Blood on the Sun (1945)::Drama|War\\r\\n3155::Anna and the King (1999)::Drama|Romance\\r\\n3156::Bicentennial Man (1999)::Comedy|Drama|Sci-Fi\\r\\n3157::Stuart Little (1999)::Children's|Comedy\\r\\n3158::Emperor and the Assassin, The (Jing ke ci qin wang) (1999)::Drama\\r\\n3159::Fantasia 2000 (1999)::Animation|Children's|Musical\\r\\n3160::Magnolia (1999)::Drama\\r\\n3161::Onegin (1999)::Drama\\r\\n3162::Simpatico (1999)::Comedy|Drama\\r\\n3163::Topsy-Turvy (1999)::Drama\\r\\n3164::Alley Cats, The (1968)::Drama\\r\\n3165::Boiling Point (1993)::Action|Drama\\r\\n3166::Brenda Starr (1989)::Adventure\\r\\n3167::Carnal Knowledge (1971)::Drama\\r\\n3168::Easy Rider (1969)::Adventure|Drama\\r\\n3169::Falcon and the Snowman, The (1984)::Drama\\r\\n3170::Hi-Yo Silver (1940)::Western\\r\\n3171::Room at the Top (1959)::Drama\\r\\n3172::Ulysses (Ulisse) (1954)::Adventure\\r\\n3173::Any Given Sunday (1999)::Drama\\r\\n3174::Man on the Moon (1999)::Comedy|Drama\\r\\n3175::Galaxy Quest (1999)::Adventure|Comedy|Sci-Fi\\r\\n3176::Talented Mr. Ripley, The (1999)::Drama|Mystery|Thriller\\r\\n3177::Next Friday (1999)::Comedy\\r\\n3178::Hurricane, The (1999)::Drama\\r\\n3179::Angela's Ashes (1999)::Drama\\r\\n3180::Play it to the Bone (1999)::Comedy|Drama\\r\\n3181::Titus (1999)::Drama\\r\\n3182::Mr. Death: The Rise and Fall of Fred A. Leuchter Jr. (1999)::Documentary\\r\\n3183::Third Miracle, The (1999)::Drama\\r\\n3184::Montana (1998)::Action|Comedy|Crime|Drama\\r\\n3185::Snow Falling on Cedars (1999)::Drama\\r\\n3186::Girl, Interrupted (1999)::Drama\\r\\n3187::Trans (1998)::Drama\\r\\n3188::Life and Times of Hank Greenberg, The (1998)::Documentary\\r\\n3189::My Dog Skip (1999)::Comedy\\r\\n3190::Supernova (2000)::Adventure|Sci-Fi\\r\\n3191::Quarry, The (1998)::Drama\\r\\n3192::Terrorist, The (Malli) (1998)::Drama\\r\\n3193::Creature (1999)::Documentary\\r\\n3194::Way We Were, The (1973)::Drama\\r\\n3195::Tess of the Storm Country (1922)::Drama\\r\\n3196::Stalag 17 (1953)::Drama|War\\r\\n3197::Presidio, The (1988)::Action\\r\\n3198::Papillon (1973)::Drama\\r\\n3199::Pal Joey (1957)::Comedy|Musical|Romance\\r\\n3200::Last Detail, The (1973)::Comedy|Drama\\r\\n3201::Five Easy Pieces (1970)::Drama\\r\\n3202::Even Dwarfs Started Small (Auch Zwerge haben klein angefangen) (1971)::Drama\\r\\n3203::Dead Calm (1989)::Thriller\\r\\n3204::Boys from Brazil, The (1978)::Thriller\\r\\n3205::Black Sunday (La Maschera Del Demonio) (1960)::Horror\\r\\n3206::Against All Odds (1984)::Romance\\r\\n3207::Snows of Kilimanjaro, The (1952)::Adventure\\r\\n3208::Loaded Weapon 1 (1993)::Action|Comedy\\r\\n3209::Loves of Carmen, The (1948)::Drama\\r\\n3210::Fast Times at Ridgemont High (1982)::Comedy\\r\\n3211::Cry in the Dark, A (1988)::Drama\\r\\n3212::Born to Win (1971)::Drama\\r\\n3213::Batman: Mask of the Phantasm (1993)::Animation|Children's\\r\\n3214::American Flyers (1985)::Drama\\r\\n3215::Voyage of the Damned (1976)::Drama\\r\\n3216::Vampyros Lesbos (Las Vampiras) (1970)::Horror\\r\\n3217::Star Is Born, A (1937)::Drama\\r\\n3218::Poison (1991)::Drama\\r\\n3219::Pacific Heights (1990)::Thriller\\r\\n3220::Night Tide (1961)::Drama\\r\\n3221::Draughtsman's Contract, The (1982)::Drama\\r\\n3222::Carmen (1984)::Drama\\r\\n3223::Zed & Two Noughts, A (1985)::Drama\\r\\n3224::Woman in the Dunes (Suna no onna) (1964)::Drama\\r\\n3225::Down to You (2000)::Comedy|Romance\\r\\n3226::Hellhounds on My Trail (1999)::Documentary\\r\\n3227::Not Love, Just Frenzy (M\\xe1s que amor, frenes\\xed) (1996)::Comedy|Drama|Thriller\\r\\n3228::Wirey Spindell (1999)::Comedy\\r\\n3229::Another Man's Poison (1952)::Crime|Drama\\r\\n3230::Odessa File, The (1974)::Thriller\\r\\n3231::Saphead, The (1920)::Comedy\\r\\n3232::Seven Chances (1925)::Comedy\\r\\n3233::Smashing Time (1967)::Comedy\\r\\n3234::Train Ride to Hollywood (1978)::Comedy\\r\\n3235::Where the Buffalo Roam (1980)::Comedy\\r\\n3236::Zachariah (1971)::Western\\r\\n3237::Kestrel's Eye (Falkens \\xf6ga) (1998)::Documentary\\r\\n3238::Eye of the Beholder (1999)::Thriller\\r\\n3239::Isn't She Great? (2000)::Comedy\\r\\n3240::Big Tease, The (1999)::Comedy\\r\\n3241::Cup, The (Ph\\xf6rpa) (1999)::Comedy\\r\\n3242::Santitos (1997)::Comedy\\r\\n3243::Encino Man (1992)::Comedy\\r\\n3244::Goodbye Girl, The (1977)::Comedy|Romance\\r\\n3245::I Am Cuba (Soy Cuba/Ya Kuba) (1964)::Drama\\r\\n3246::Malcolm X (1992)::Drama\\r\\n3247::Sister Act (1992)::Comedy|Crime\\r\\n3248::Sister Act 2: Back in the Habit (1993)::Comedy\\r\\n3249::Hand That Rocks the Cradle, The (1992)::Thriller\\r\\n3250::Alive (1993)::Drama\\r\\n3251::Agnes of God (1985)::Drama|Mystery\\r\\n3252::Scent of a Woman (1992)::Drama\\r\\n3253::Wayne's World (1992)::Comedy\\r\\n3254::Wayne's World 2 (1993)::Comedy\\r\\n3255::League of Their Own, A (1992)::Comedy|Drama\\r\\n3256::Patriot Games (1992)::Action|Thriller\\r\\n3257::Bodyguard, The (1992)::Action|Drama|Romance|Thriller\\r\\n3258::Death Becomes Her (1992)::Comedy\\r\\n3259::Far and Away (1992)::Drama|Romance\\r\\n3260::Howards End (1992)::Drama\\r\\n3261::Singles (1992)::Comedy|Drama|Romance\\r\\n3262::Twin Peaks: Fire Walk with Me (1992)::Drama|Mystery\\r\\n3263::White Men Can't Jump (1992)::Comedy\\r\\n3264::Buffy the Vampire Slayer (1992)::Comedy|Horror\\r\\n3265::Hard-Boiled (Lashou shentan) (1992)::Action|Crime\\r\\n3266::Man Bites Dog (C'est arriv\\xe9 pr\\xe8s de chez vous) (1992)::Action|Comedy|Crime|Drama\\r\\n3267::Mariachi, El (1992)::Action|Thriller\\r\\n3268::Stop! Or My Mom Will Shoot (1992)::Action|Comedy\\r\\n3269::Forever Young (1992)::Adventure|Romance|Sci-Fi\\r\\n3270::Cutting Edge, The (1992)::Drama\\r\\n3271::Of Mice and Men (1992)::Drama\\r\\n3272::Bad Lieutenant (1992)::Crime|Drama\\r\\n3273::Scream 3 (2000)::Horror|Mystery|Thriller\\r\\n3274::Single White Female (1992)::Action\\r\\n3275::Boondock Saints, The (1999)::Action|Comedy\\r\\n3276::Gun Shy (2000)::Comedy\\r\\n3277::Beloved/Friend (Amigo/Amado) (1999)::Drama\\r\\n3278::Gendernauts (1999)::Documentary\\r\\n3279::Knockout (1999)::Action|Adventure\\r\\n3280::Baby, The (1973)::Horror\\r\\n3281::Brandon Teena Story, The (1998)::Documentary\\r\\n3282::Different for Girls (1996)::Comedy\\r\\n3283::Minnie and Moskowitz (1971)::Action\\r\\n3284::They Might Be Giants (1971)::Comedy|Romance\\r\\n3285::Beach, The (2000)::Adventure|Drama\\r\\n3286::Snow Day (2000)::Comedy\\r\\n3287::Tigger Movie, The (2000)::Animation|Children's\\r\\n3288::Cotton Mary (1999)::Drama\\r\\n3289::Not One Less (Yi ge dou bu neng shao) (1999)::Drama\\r\\n3290::Soft Toilet Seats (1999)::Comedy\\r\\n3291::Trois (2000)::Thriller\\r\\n3292::Big Combo, The (1955)::Film-Noir\\r\\n3293::Conceiving Ada (1997)::Drama|Sci-Fi\\r\\n3294::Eaten Alive (1976)::Horror\\r\\n3295::Raining Stones (1993)::Drama\\r\\n3296::To Sir with Love (1967)::Drama\\r\\n3297::With Byrd at the South Pole (1930)::Documentary\\r\\n3298::Boiler Room (2000)::Drama\\r\\n3299::Hanging Up (2000)::Comedy|Drama\\r\\n3300::Pitch Black (2000)::Action|Sci-Fi\\r\\n3301::Whole Nine Yards, The (2000)::Comedy|Crime\\r\\n3302::Beautiful People (1999)::Comedy\\r\\n3303::Black Tar Heroin: The Dark End of the Street (1999)::Documentary\\r\\n3304::Blue Collar (1978)::Crime|Drama\\r\\n3305::Bluebeard (1944)::Film-Noir|Horror\\r\\n3306::Circus, The (1928)::Comedy\\r\\n3307::City Lights (1931)::Comedy|Drama|Romance\\r\\n3308::Flamingo Kid, The (1984)::Comedy|Drama\\r\\n3309::Dog's Life, A (1920)::Comedy\\r\\n3310::Kid, The (1921)::Action\\r\\n3311::Man from Laramie, The (1955)::Western\\r\\n3312::McCullochs, The (1975)::Drama\\r\\n3313::Class Reunion (1982)::Comedy\\r\\n3314::Big Trees, The (1952)::Action|Drama\\r\\n3315::Happy Go Lovely (1951)::Musical\\r\\n3316::Reindeer Games (2000)::Action|Thriller\\r\\n3317::Wonder Boys (2000)::Comedy|Drama\\r\\n3318::Deterrence (1998)::Thriller\\r\\n3319::Judy Berlin (1999)::Drama\\r\\n3320::Mifune (Mifunes sidste sang) (1999)::Comedy|Romance\\r\\n3321::Waiting Game, The (2000)::Comedy\\r\\n3322::3 Strikes (2000)::Comedy\\r\\n3323::Chain of Fools (2000)::Comedy|Crime\\r\\n3324::Drowning Mona (2000)::Comedy\\r\\n3325::Next Best Thing, The (2000)::Comedy|Drama\\r\\n3326::What Planet Are You From? (2000)::Comedy|Sci-Fi\\r\\n3327::Beyond the Mat (2000)::Documentary\\r\\n3328::Ghost Dog: The Way of the Samurai (1999)::Crime|Drama\\r\\n3329::Year My Voice Broke, The (1987)::Drama\\r\\n3330::Splendor in the Grass (1961)::Drama\\r\\n3331::My Tutor (1983)::Drama\\r\\n3332::Legend of Lobo, The (1962)::Adventure|Children's\\r\\n3333::Killing of Sister George, The (1968)::Drama\\r\\n3334::Key Largo (1948)::Crime|Drama|Film-Noir|Thriller\\r\\n3335::Jail Bait (1954)::Crime|Drama\\r\\n3336::It Happened Here (1961)::Drama\\r\\n3337::I'll Never Forget What's 'is Name (1967)::Comedy|Drama\\r\\n3338::For All Mankind (1989)::Documentary\\r\\n3339::Cross of Iron (1977)::War\\r\\n3340::Bride of the Monster (1956)::Horror|Sci-Fi\\r\\n3341::Born Yesterday (1950)::Comedy\\r\\n3342::Birdy (1984)::Drama|War\\r\\n3343::And God Created Woman (1988)::Comedy|Drama|Romance\\r\\n3344::Blood Feast (1963)::Horror\\r\\n3345::Charlie, the Lonesome Cougar (1967)::Adventure|Children's\\r\\n3346::Color Me Blood Red (1965)::Horror\\r\\n3347::Never Cry Wolf (1983)::Drama\\r\\n3348::Night Visitor, The (1970)::Crime|Thriller\\r\\n3349::Perils of Pauline, The (1947)::Comedy\\r\\n3350::Raisin in the Sun, A (1961)::Drama\\r\\n3351::Two Thousand Maniacs! (1964)::Horror\\r\\n3352::Brown's Requiem (1998)::Drama\\r\\n3353::Closer You Get, The (2000)::Comedy|Romance\\r\\n3354::Mission to Mars (2000)::Sci-Fi\\r\\n3355::Ninth Gate, The (2000)::Thriller\\r\\n3356::Condo Painting (2000)::Documentary\\r\\n3357::East-West (Est-ouest) (1999)::Drama|Romance\\r\\n3358::Defending Your Life (1991)::Comedy|Romance\\r\\n3359::Breaking Away (1979)::Drama\\r\\n3360::Hoosiers (1986)::Drama\\r\\n3361::Bull Durham (1988)::Comedy\\r\\n3362::Dog Day Afternoon (1975)::Comedy|Crime|Drama\\r\\n3363::American Graffiti (1973)::Comedy|Drama\\r\\n3364::Asphalt Jungle, The (1950)::Crime|Film-Noir\\r\\n3365::Searchers, The (1956)::Western\\r\\n3366::Where Eagles Dare (1969)::Action|Adventure|War\\r\\n3367::Devil's Brigade, The (1968)::War\\r\\n3368::Big Country, The (1958)::Romance|Western\\r\\n3369::Any Number Can Win (M\\xe9lodie en sous-sol ) (1963)::Crime\\r\\n3370::Betrayed (1988)::Drama|Thriller\\r\\n3371::Bound for Glory (1976)::Drama\\r\\n3372::Bridge at Remagen, The (1969)::Action|War\\r\\n3373::Buck and the Preacher (1972)::Western\\r\\n3374::Daughters of the Dust (1992)::Drama\\r\\n3375::Destination Moon (1950)::Sci-Fi\\r\\n3376::Fantastic Night, The (La Nuit Fantastique) (1949)::Romance\\r\\n3377::Hangmen Also Die (1943)::Drama|War\\r\\n3378::Ogre, The (Der Unhold) (1996)::Drama\\r\\n3379::On the Beach (1959)::Drama\\r\\n3380::Railroaded! (1947)::Film-Noir\\r\\n3381::Slaves to the Underground (1997)::Comedy|Drama\\r\\n3382::Song of Freedom (1936)::Drama\\r\\n3383::Big Fella (1937)::Drama|Musical\\r\\n3384::Taking of Pelham One Two Three, The (1974)::Action\\r\\n3385::Volunteers (1985)::Comedy\\r\\n3386::JFK (1991)::Drama|Mystery\\r\\n3387::Who's Harry Crumb? (1989)::Comedy\\r\\n3388::Harry and the Hendersons (1987)::Comedy\\r\\n3389::Let's Get Harry (1986)::Action|Adventure\\r\\n3390::Shanghai Surprise (1986)::Adventure\\r\\n3391::Who's That Girl? (1987)::Comedy\\r\\n3392::She-Devil (1989)::Comedy\\r\\n3393::Date with an Angel (1987)::Comedy|Fantasy\\r\\n3394::Blind Date (1987)::Comedy|Romance\\r\\n3395::Nadine (1987)::Comedy\\r\\n3396::Muppet Movie, The (1979)::Children's|Comedy\\r\\n3397::Great Muppet Caper, The (1981)::Children's|Comedy\\r\\n3398::Muppets Take Manhattan, The (1984)::Children's|Comedy\\r\\n3399::Sesame Street Presents Follow That Bird (1985)::Children's|Comedy\\r\\n3400::We're Back! A Dinosaur's Story (1993)::Animation|Children's\\r\\n3401::Baby... Secret of the Lost Legend (1985)::Adventure|Sci-Fi\\r\\n3402::Turtle Diary (1985)::Drama\\r\\n3403::Raise the Titanic (1980)::Drama|Thriller\\r\\n3404::Titanic (1953)::Action|Drama\\r\\n3405::Night to Remember, A (1958)::Action|Drama\\r\\n3406::Captain Horatio Hornblower (1951)::Action|Adventure|War\\r\\n3407::Carriers Are Waiting, The (Les Convoyeurs Attendent) (1999)::Comedy|Drama\\r\\n3408::Erin Brockovich (2000)::Drama\\r\\n3409::Final Destination (2000)::Drama|Thriller\\r\\n3410::Soft Fruit (1999)::Comedy|Drama\\r\\n3411::Babymother (1998)::Drama\\r\\n3412::Bear, The (1988)::Adventure\\r\\n3413::Impact (1949)::Crime|Drama\\r\\n3414::Love Is a Many-Splendored Thing (1955)::Romance\\r\\n3415::Mirror, The (Zerkalo) (1975)::Drama\\r\\n3416::Trial, The (Le Proc\\xe8s) (1963)::Drama\\r\\n3417::Crimson Pirate, The (1952)::Adventure|Comedy|Sci-Fi\\r\\n3418::Thelma & Louise (1991)::Action|Drama\\r\\n3419::Something for Everyone (1970)::Comedy|Crime\\r\\n3420::...And Justice for All (1979)::Drama|Thriller\\r\\n3421::Animal House (1978)::Comedy\\r\\n3422::She's Gotta Have It (1986)::Comedy|Romance\\r\\n3423::School Daze (1988)::Drama\\r\\n3424::Do the Right Thing (1989)::Comedy|Drama\\r\\n3425::Mo' Better Blues (1990)::Drama\\r\\n3426::Jungle Fever (1991)::Drama|Romance\\r\\n3427::Coogan's Bluff (1968)::Crime\\r\\n3428::Champ, The (1979)::Drama\\r\\n3429::Creature Comforts (1990)::Animation|Comedy\\r\\n3430::Death Wish (1974)::Action|Drama\\r\\n3431::Death Wish II (1982)::Action|Drama\\r\\n3432::Death Wish 3 (1985)::Action|Drama\\r\\n3433::Death Wish 4: The Crackdown (1987)::Action|Drama\\r\\n3434::Death Wish V: The Face of Death (1994)::Action|Drama\\r\\n3435::Double Indemnity (1944)::Crime|Film-Noir\\r\\n3436::Dying Young (1991)::Drama|Romance\\r\\n3437::Cool as Ice (1991)::Drama\\r\\n3438::Teenage Mutant Ninja Turtles (1990)::Action|Children's|Fantasy\\r\\n3439::Teenage Mutant Ninja Turtles II: The Secret of the Ooze (1991)::Action|Children's|Fantasy\\r\\n3440::Teenage Mutant Ninja Turtles III (1993)::Action|Children's|Fantasy\\r\\n3441::Red Dawn (1984)::Action|War\\r\\n3442::Band of the Hand (1986)::Action\\r\\n3443::Born American (1986)::Action|Drama|Thriller\\r\\n3444::Bloodsport (1988)::Action\\r\\n3445::Eyes of Laura Mars (1978)::Mystery|Thriller\\r\\n3446::Funny Bones (1995)::Comedy\\r\\n3447::Good Earth, The (1937)::Drama\\r\\n3448::Good Morning, Vietnam (1987)::Comedy|Drama|War\\r\\n3449::Good Mother, The (1988)::Drama\\r\\n3450::Grumpy Old Men (1993)::Comedy\\r\\n3451::Guess Who's Coming to Dinner (1967)::Comedy|Drama\\r\\n3452::Romeo Must Die (2000)::Action|Romance\\r\\n3453::Here on Earth (2000)::Drama|Romance\\r\\n3454::Whatever It Takes (2000)::Comedy|Romance\\r\\n3455::Buddy Boy (1999)::Drama|Thriller\\r\\n3456::Color of Paradise, The (Rang-e Khoda) (1999)::Drama\\r\\n3457::Waking the Dead (1999)::Drama\\r\\n3458::Blood and Sand (Sangre y Arena) (1989)::Drama|Romance\\r\\n3459::Gothic (1986)::Drama|Horror\\r\\n3460::Hillbillys in a Haunted House (1967)::Comedy\\r\\n3461::Lord of the Flies (1963)::Adventure|Drama|Thriller\\r\\n3462::Modern Times (1936)::Comedy\\r\\n3463::Last Resort (1994)::Comedy\\r\\n3464::Solar Crisis (1993)::Sci-Fi|Thriller\\r\\n3465::That's Life! (1986)::Drama\\r\\n3466::Heart and Souls (1993)::Comedy|Fantasy\\r\\n3467::Hud (1963)::Drama|Western\\r\\n3468::Hustler, The (1961)::Drama\\r\\n3469::Inherit the Wind (1960)::Drama\\r\\n3470::Dersu Uzala (1974)::Adventure|Drama\\r\\n3471::Close Encounters of the Third Kind (1977)::Drama|Sci-Fi\\r\\n3472::Horror Hotel (a.k.a. The City of the Dead) (1960)::Horror\\r\\n3473::Jonah Who Will Be 25 in the Year 2000 (1976)::Comedy\\r\\n3474::Retroactive (1997)::Sci-Fi|Thriller\\r\\n3475::Place in the Sun, A (1951)::Drama|Romance\\r\\n3476::Jacob's Ladder (1990)::Horror|Mystery|Thriller\\r\\n3477::Empire Records (1995)::Comedy|Drama\\r\\n3478::Bamba, La (1987)::Drama\\r\\n3479::Ladyhawke (1985)::Adventure|Fantasy|Romance\\r\\n3480::Lucas (1986)::Drama\\r\\n3481::High Fidelity (2000)::Comedy\\r\\n3482::Price of Glory (2000)::Drama\\r\\n3483::Road to El Dorado, The (2000)::Animation|Children's\\r\\n3484::Skulls, The (2000)::Thriller\\r\\n3485::Autopsy (Macchie Solari) (1975)::Horror\\r\\n3486::Devil Girl From Mars (1954)::Sci-Fi\\r\\n3487::Dorado, El (1967)::Western\\r\\n3488::Hideous Sun Demon, The (1959)::Horror|Sci-Fi\\r\\n3489::Hook (1991)::Adventure|Fantasy\\r\\n3490::Horror Express (1972)::Horror\\r\\n3491::My Chauffeur (1986)::Comedy\\r\\n3492::Son of the Sheik, The (1926)::Adventure\\r\\n3493::Torso (Corpi Presentano Tracce di Violenza Carnale) (1973)::Horror\\r\\n3494::True Grit (1969)::Adventure|Western\\r\\n3495::Roadside Prophets (1992)::Comedy|Drama\\r\\n3496::Madame Sousatzka (1988)::Drama\\r\\n3497::Max Dugan Returns (1983)::Comedy\\r\\n3498::Midnight Express (1978)::Drama\\r\\n3499::Misery (1990)::Horror\\r\\n3500::Mr. Saturday Night (1992)::Comedy|Drama\\r\\n3501::Murphy's Romance (1985)::Comedy|Romance\\r\\n3502::My Life (1993)::Drama\\r\\n3503::Solaris (Solyaris) (1972)::Drama|Sci-Fi\\r\\n3504::Network (1976)::Comedy|Drama\\r\\n3505::No Way Out (1987)::Thriller\\r\\n3506::North Dallas Forty (1979)::Comedy|Drama\\r\\n3507::Odd Couple, The (1968)::Comedy\\r\\n3508::Outlaw Josey Wales, The (1976)::Western\\r\\n3509::Black and White (1999)::Drama\\r\\n3510::Frequency (2000)::Drama|Thriller\\r\\n3511::Ready to Rumble (2000)::Comedy\\r\\n3512::Return to Me (2000)::Drama|Romance\\r\\n3513::Rules of Engagement (2000)::Drama|Thriller\\r\\n3514::Joe Gould's Secret (2000)::Drama\\r\\n3515::Me Myself I (2000)::Comedy\\r\\n3516::Bell, Book and Candle (1958)::Comedy|Romance\\r\\n3517::Bells, The (1926)::Crime|Drama\\r\\n3518::End of Violence, The (1997)::Drama|Thriller\\r\\n3519::Force 10 from Navarone (1978)::Action|War\\r\\n3520::How to Stuff a Wild Bikini (1965)::Comedy\\r\\n3521::Mystery Train (1989)::Comedy|Crime|Drama\\r\\n3522::Sacco and Vanzetti (Sacco e Vanzetti) (1971)::Drama\\r\\n3523::Taffin (1988)::Action|Thriller\\r\\n3524::Arthur (1981)::Comedy|Romance\\r\\n3525::Bachelor Party (1984)::Comedy\\r\\n3526::Parenthood (1989)::Comedy|Drama\\r\\n3527::Predator (1987)::Action|Sci-Fi|Thriller\\r\\n3528::Prince of Tides, The (1991)::Drama|Romance\\r\\n3529::Postman Always Rings Twice, The (1981)::Crime|Thriller\\r\\n3530::Smoking/No Smoking (1993)::Comedy\\r\\n3531::All the Vermeers in New York (1990)::Comedy|Drama|Romance\\r\\n3532::Freedom for Us (\\xc0 nous la libert\\xe9 ) (1931)::Comedy\\r\\n3533::Actor's Revenge, An (Yukinojo Henge) (1963)::Drama\\r\\n3534::28 Days (2000)::Comedy\\r\\n3535::American Psycho (2000)::Comedy|Horror|Thriller\\r\\n3536::Keeping the Faith (2000)::Comedy|Romance\\r\\n3537::Where the Money Is (2000)::Comedy|Drama\\r\\n3538::East is East (1999)::Comedy\\r\\n3539::Filth and the Fury, The (2000)::Documentary\\r\\n3540::Passion of Mind (1999)::Romance|Thriller\\r\\n3541::Third World Cop (1999)::Action\\r\\n3542::Coming Apart (1969)::Drama\\r\\n3543::Diner (1982)::Comedy|Drama\\r\\n3544::Shakes the Clown (1991)::Comedy\\r\\n3545::Cabaret (1972)::Musical|War\\r\\n3546::What Ever Happened to Baby Jane? (1962)::Drama|Thriller\\r\\n3547::Prick Up Your Ears (1987)::Drama\\r\\n3548::Auntie Mame (1958)::Comedy|Drama\\r\\n3549::Guys and Dolls (1955)::Musical\\r\\n3550::Hunger, The (1983)::Horror\\r\\n3551::Marathon Man (1976)::Thriller\\r\\n3552::Caddyshack (1980)::Comedy\\r\\n3553::Gossip (2000)::Drama|Thriller\\r\\n3554::Love and Basketball (2000)::Drama|Romance\\r\\n3555::U-571 (2000)::Action|Thriller\\r\\n3556::Virgin Suicides, The (1999)::Comedy|Drama\\r\\n3557::Jennifer 8 (1992)::Thriller\\r\\n3558::Law, The (Le Legge) (1958)::Drama\\r\\n3559::Limelight (1952)::Drama\\r\\n3560::Phantom Love (Ai No Borei) (1978)::Drama\\r\\n3561::Stacy's Knights (1982)::Drama\\r\\n3562::Committed (2000)::Comedy|Drama\\r\\n3563::Crow: Salvation, The (2000)::Action|Horror\\r\\n3564::Flintstones in Viva Rock Vegas, The (2000)::Children's|Comedy\\r\\n3565::Where the Heart Is (2000)::Comedy|Drama\\r\\n3566::Big Kahuna, The (2000)::Comedy|Drama\\r\\n3567::Bossa Nova (1999)::Comedy\\r\\n3568::Smiling Fish and Goat on Fire (1999)::Drama\\r\\n3569::Idiots, The (Idioterne) (1998)::Comedy|Drama\\r\\n3570::Last September, The (1999)::Drama\\r\\n3571::Time Code (2000)::Drama\\r\\n3572::Carnosaur (1993)::Horror|Sci-Fi\\r\\n3573::Carnosaur 2 (1995)::Horror|Sci-Fi\\r\\n3574::Carnosaur 3: Primal Species (1996)::Horror|Sci-Fi\\r\\n3575::Defying Gravity (1997)::Drama\\r\\n3576::Hidden, The (1987)::Action|Horror|Sci-Fi\\r\\n3577::Two Moon Juction (1988)::Drama\\r\\n3578::Gladiator (2000)::Action|Drama\\r\\n3579::I Dreamed of Africa (2000)::Drama\\r\\n3580::Up at the Villa (2000)::Drama\\r\\n3581::Human Traffic (1999)::Drama\\r\\n3582::Jails, Hospitals & Hip-Hop (2000)::Drama\\r\\n3583::Black Tights (Les Collants Noirs) (1960)::Drama\\r\\n3584::Breathless (1983)::Action|Drama|Romance|Thriller\\r\\n3585::Great Locomotive Chase, The (1956)::Adventure|War\\r\\n3586::Idolmaker, The (1980)::Drama\\r\\n3587::Inferno (1980)::Horror\\r\\n3588::King of Marvin Gardens, The (1972)::Crime|Drama\\r\\n3589::Kill, Baby... Kill! (Operazione Paura) (1966)::Horror\\r\\n3590::Lords of Flatbush, The (1974)::Comedy\\r\\n3591::Mr. Mom (1983)::Comedy|Drama\\r\\n3592::Time Masters (Les Ma\\xeetres du Temps) (1982)::Animation|Sci-Fi\\r\\n3593::Battlefield Earth (2000)::Action|Sci-Fi\\r\\n3594::Center Stage (2000)::Drama\\r\\n3595::Held Up (2000)::Comedy\\r\\n3596::Screwed (2000)::Comedy\\r\\n3597::Whipped (2000)::Comedy\\r\\n3598::Hamlet (2000)::Drama\\r\\n3599::Anchors Aweigh (1945)::Comedy|Musical\\r\\n3600::Blue Hawaii (1961)::Comedy|Musical\\r\\n3601::Castaway Cowboy, The (1974)::Comedy|Western\\r\\n3602::G. I. Blues (1960)::Musical\\r\\n3603::Gay Deceivers, The (1969)::Comedy\\r\\n3604::Gypsy (1962)::Musical\\r\\n3605::King Creole (1958)::Drama|Musical\\r\\n3606::On the Town (1949)::Musical\\r\\n3607::One Little Indian (1973)::Comedy|Drama|Western\\r\\n3608::Pee-wee's Big Adventure (1985)::Comedy\\r\\n3609::Regret to Inform (1998)::Documentary\\r\\n3610::Roustabout (1964)::Musical\\r\\n3611::Saludos Amigos (1943)::Animation|Children's|Comedy\\r\\n3612::Slipper and the Rose, The (1976)::Adventure|Musical|Romance\\r\\n3613::Things Change (1988)::Comedy\\r\\n3614::Honeymoon in Vegas (1992)::Comedy|Romance\\r\\n3615::Dinosaur (2000)::Animation|Children's\\r\\n3616::Loser (2000)::Comedy|Romance\\r\\n3617::Road Trip (2000)::Comedy\\r\\n3618::Small Time Crooks (2000)::Comedy\\r\\n3619::Hollywood Knights, The (1980)::Comedy\\r\\n3620::Myth of Fingerprints, The (1997)::Comedy|Drama\\r\\n3621::Possession (1981)::Drama|Horror\\r\\n3622::Twelve Chairs, The (1970)::Comedy\\r\\n3623::Mission: Impossible 2 (2000)::Action|Thriller\\r\\n3624::Shanghai Noon (2000)::Action\\r\\n3625::Better Living Through Circuitry (1999)::Documentary\\r\\n3626::8 1/2 Women (1999)::Comedy\\r\\n3627::Carnival of Souls (1962)::Horror|Thriller\\r\\n3628::Flying Tigers (1942)::Action|Drama|War\\r\\n3629::Gold Rush, The (1925)::Comedy\\r\\n3630::House of Exorcism, The (La Casa dell'esorcismo) (1974)::Horror\\r\\n3631::It's in the Water (1998)::Comedy\\r\\n3632::Monsieur Verdoux (1947)::Comedy\\r\\n3633::On Her Majesty's Secret Service (1969)::Action\\r\\n3634::Seven Days in May (1964)::Thriller\\r\\n3635::Spy Who Loved Me, The (1977)::Action\\r\\n3636::Those Who Love Me Can Take the Train (Ceux qui m'aiment prendront le train) (1998)::Drama\\r\\n3637::Vagabond (Sans toit ni loi) (1985)::Drama\\r\\n3638::Moonraker (1979)::Action|Romance|Sci-Fi\\r\\n3639::Man with the Golden Gun, The (1974)::Action\\r\\n3640::King in New York, A (1957)::Comedy|Drama\\r\\n3641::Woman of Paris, A (1923)::Drama\\r\\n3642::In Old California (1942)::Western\\r\\n3643::Fighting Seabees, The (1944)::Action|Drama|War\\r\\n3644::Dark Command (1940)::Western\\r\\n3645::Cleo From 5 to 7 (Cl\\xe9o de 5 \\xe0 7) (1962)::Drama\\r\\n3646::Big Momma's House (2000)::Comedy\\r\\n3647::Running Free (2000)::Drama\\r\\n3648::Abominable Snowman, The (1957)::Horror|Sci-Fi\\r\\n3649::American Gigolo (1980)::Drama\\r\\n3650::Anguish (Angustia) (1986)::Horror\\r\\n3651::Blood Spattered Bride, The (La Novia Ensangrentada) (1972)::Horror\\r\\n3652::City of the Living Dead (Paura nella citt\\xe0 dei morti viventi) (1980)::Horror\\r\\n3653::Endless Summer, The (1966)::Documentary\\r\\n3654::Guns of Navarone, The (1961)::Action|Drama|War\\r\\n3655::Blow-Out (La Grande Bouffe) (1973)::Drama\\r\\n3656::Lured (1947)::Crime\\r\\n3657::Pandora and the Flying Dutchman (1951)::Drama\\r\\n3658::Quatermass and the Pit (1967)::Sci-Fi\\r\\n3659::Quatermass II (1957)::Sci-Fi|Thriller\\r\\n3660::Puppet Master (1989)::Horror|Sci-Fi|Thriller\\r\\n3661::Puppet Master II (1990)::Horror|Sci-Fi|Thriller\\r\\n3662::Puppet Master III: Toulon's Revenge (1991)::Horror|Sci-Fi|Thriller\\r\\n3663::Puppet Master 4 (1993)::Horror|Sci-Fi|Thriller\\r\\n3664::Puppet Master 5: The Final Chapter (1994)::Horror|Sci-Fi|Thriller\\r\\n3665::Curse of the Puppet Master (1998)::Horror|Sci-Fi|Thriller\\r\\n3666::Retro Puppetmaster (1999)::Horror|Sci-Fi|Thriller\\r\\n3667::Rent-A-Cop (1988)::Action|Comedy\\r\\n3668::Romeo and Juliet (1968)::Drama|Romance\\r\\n3669::Stay Tuned (1992)::Comedy\\r\\n3670::Story of G.I. Joe, The (1945)::War\\r\\n3671::Blazing Saddles (1974)::Comedy|Western\\r\\n3672::Benji (1974)::Adventure|Children's\\r\\n3673::Benji the Hunted (1987)::Adventure|Children's\\r\\n3674::For the Love of Benji (1977)::Adventure|Children's\\r\\n3675::White Christmas (1954)::Musical\\r\\n3676::Eraserhead (1977)::Drama|Horror\\r\\n3677::Baraka (1992)::Documentary\\r\\n3678::Man with the Golden Arm, The (1955)::Drama\\r\\n3679::Decline of Western Civilization, The (1981)::Documentary\\r\\n3680::Decline of Western Civilization Part II: The Metal Years, The (1988)::Documentary\\r\\n3681::For a Few Dollars More (1965)::Western\\r\\n3682::Magnum Force (1973)::Western\\r\\n3683::Blood Simple (1984)::Drama|Film-Noir\\r\\n3684::Fabulous Baker Boys, The (1989)::Drama|Romance\\r\\n3685::Prizzi's Honor (1985)::Comedy|Drama|Romance\\r\\n3686::Flatliners (1990)::Thriller\\r\\n3687::Light Years (1988)::Sci-Fi\\r\\n3688::Porky's (1981)::Comedy\\r\\n3689::Porky's II: The Next Day (1983)::Comedy\\r\\n3690::Porky's Revenge (1985)::Comedy\\r\\n3691::Private School (1983)::Comedy\\r\\n3692::Class of Nuke 'Em High (1986)::Comedy|Horror\\r\\n3693::Toxic Avenger, The (1985)::Comedy|Horror\\r\\n3694::Toxic Avenger, Part II, The (1989)::Comedy|Horror\\r\\n3695::Toxic Avenger Part III: The Last Temptation of Toxie, The (1989)::Comedy|Horror\\r\\n3696::Night of the Creeps (1986)::Comedy|Horror|Sci-Fi\\r\\n3697::Predator 2 (1990)::Action|Sci-Fi|Thriller\\r\\n3698::Running Man, The (1987)::Action|Adventure|Sci-Fi\\r\\n3699::Starman (1984)::Adventure|Drama|Romance|Sci-Fi\\r\\n3700::Brother from Another Planet, The (1984)::Drama|Sci-Fi\\r\\n3701::Alien Nation (1988)::Crime|Drama|Sci-Fi\\r\\n3702::Mad Max (1979)::Action|Sci-Fi\\r\\n3703::Mad Max 2 (a.k.a. The Road Warrior) (1981)::Action|Sci-Fi\\r\\n3704::Mad Max Beyond Thunderdome (1985)::Action|Sci-Fi\\r\\n3705::Bird on a Wire (1990)::Action|Adventure|Romance|Thriller\\r\\n3706::Angel Heart (1987)::Film-Noir|Mystery|Thriller\\r\\n3707::Nine 1/2 Weeks (1986)::Drama\\r\\n3708::Firestarter (1984)::Horror|Thriller\\r\\n3709::Sleepwalkers (1992)::Horror\\r\\n3710::Action Jackson (1988)::Action|Comedy\\r\\n3711::Sarafina! (1992)::Drama\\r\\n3712::Soapdish (1991)::Comedy\\r\\n3713::Long Walk Home, The (1990)::Drama\\r\\n3714::Clara's Heart (1988)::Drama\\r\\n3715::Burglar (1987)::Comedy\\r\\n3716::Fatal Beauty (1987)::Action|Crime\\r\\n3717::Gone in 60 Seconds (2000)::Action|Crime\\r\\n3718::American Pimp (1999)::Documentary\\r\\n3719::Love's Labour's Lost (2000)::Comedy|Romance\\r\\n3720::Sunshine (1999)::Drama\\r\\n3721::Trixie (1999)::Comedy\\r\\n3722::Live Virgin (1999)::Comedy\\r\\n3723::Hamlet (1990)::Drama\\r\\n3724::Coming Home (1978)::Drama|War\\r\\n3725::American Pop (1981)::Animation|Musical\\r\\n3726::Assault on Precinct 13 (1976)::Action|Thriller\\r\\n3727::Near Dark (1987)::Comedy|Horror\\r\\n3728::One False Move (1991)::Thriller\\r\\n3729::Shaft (1971)::Action|Crime\\r\\n3730::Conversation, The (1974)::Drama|Mystery\\r\\n3731::Cutter's Way (1981)::Drama|Thriller\\r\\n3732::Fury, The (1978)::Horror\\r\\n3733::Paper Chase, The (1973)::Drama\\r\\n3734::Prince of the City (1981)::Drama\\r\\n3735::Serpico (1973)::Crime|Drama\\r\\n3736::Big Carnival, The (1951)::Drama\\r\\n3737::Lonely Are the Brave (1962)::Drama|Western\\r\\n3738::Sugarland Express, The (1974)::Drama\\r\\n3739::Trouble in Paradise (1932)::Comedy|Romance\\r\\n3740::Big Trouble in Little China (1986)::Action|Comedy\\r\\n3741::Badlands (1973)::Crime|Drama\\r\\n3742::Battleship Potemkin, The (Bronenosets Potyomkin) (1925)::Drama|War\\r\\n3743::Boys and Girls (2000)::Comedy|Romance\\r\\n3744::Shaft (2000)::Action|Crime\\r\\n3745::Titan A.E. (2000)::Adventure|Animation|Sci-Fi\\r\\n3746::Butterfly (La Lengua de las Mariposas) (2000)::Drama|War\\r\\n3747::Jesus' Son (1999)::Drama\\r\\n3748::Match, The (1999)::Comedy|Romance\\r\\n3749::Time Regained (Le Temps Retrouv\\xe9) (1999)::Drama\\r\\n3750::Boricua's Bond (2000)::Drama\\r\\n3751::Chicken Run (2000)::Animation|Children's|Comedy\\r\\n3752::Me, Myself and Irene (2000)::Comedy\\r\\n3753::Patriot, The (2000)::Action|Drama|War\\r\\n3754::Adventures of Rocky and Bullwinkle, The (2000)::Animation|Children's|Comedy\\r\\n3755::Perfect Storm, The (2000)::Action|Adventure|Thriller\\r\\n3756::Golden Bowl, The (2000)::Drama\\r\\n3757::Asylum (1972)::Horror\\r\\n3758::Communion (1989)::Drama|Sci-Fi|Thriller\\r\\n3759::Fun and Fancy Free (1947)::Animation|Children's|Musical\\r\\n3760::Kentucky Fried Movie, The (1977)::Comedy\\r\\n3761::Blood In, Blood Out (a.k.a. Bound by Honor) (1993)::Crime|Drama\\r\\n3762::Daughter of Dr. Jeckyll (1957)::Horror\\r\\n3763::F/X (1986)::Action|Crime|Thriller\\r\\n3764::F/X 2 (1992)::Action|Crime|Thriller\\r\\n3765::Hot Spot, The (1990)::Drama|Romance\\r\\n3766::Missing in Action (1984)::Action|War\\r\\n3767::Missing in Action 2: The Beginning (1985)::Action|War\\r\\n3768::Braddock: Missing in Action III (1988)::Action|War\\r\\n3769::Thunderbolt and Lightfoot (1974)::Action\\r\\n3770::Dreamscape (1984)::Adventure|Crime|Sci-Fi|Thriller\\r\\n3771::Golden Voyage of Sinbad, The (1974)::Action|Adventure\\r\\n3772::Hatchet For the Honeymoon (Rosso Segno Della Follia) (1969)::Horror\\r\\n3773::House Party (1990)::Comedy\\r\\n3774::House Party 2 (1991)::Comedy\\r\\n3775::Make Mine Music (1946)::Animation|Children's|Musical\\r\\n3776::Melody Time (1948)::Animation|Children's|Musical\\r\\n3777::Nekromantik (1987)::Comedy|Horror\\r\\n3778::On Our Merry Way (1948)::Comedy|Drama\\r\\n3779::Project Moon Base (1953)::Sci-Fi\\r\\n3780::Rocketship X-M (1950)::Sci-Fi\\r\\n3781::Shaft in Africa (1973)::Action|Crime\\r\\n3782::Shaft's Big Score! (1972)::Action|Crime\\r\\n3783::Croupier (1998)::Crime|Drama\\r\\n3784::Kid, The (2000)::Comedy\\r\\n3785::Scary Movie (2000)::Comedy|Horror\\r\\n3786::But I'm a Cheerleader (1999)::Comedy\\r\\n3787::Shower (Xizhao) (1999)::Comedy\\r\\n3788::Blowup (1966)::Drama|Mystery\\r\\n3789::Pawnbroker, The (1965)::Drama\\r\\n3790::Groove (2000)::Drama\\r\\n3791::Footloose (1984)::Drama\\r\\n3792::Duel in the Sun (1946)::Western\\r\\n3793::X-Men (2000)::Action|Sci-Fi\\r\\n3794::Chuck & Buck (2000)::Comedy|Drama\\r\\n3795::Five Senses, The (1999)::Drama\\r\\n3796::Wisdom of Crocodiles, The (a.k.a. Immortality) (2000)::Romance|Thriller\\r\\n3797::In Crowd, The (2000)::Thriller\\r\\n3798::What Lies Beneath (2000)::Thriller\\r\\n3799::Pok\\xe9mon the Movie 2000 (2000)::Animation|Children's\\r\\n3800::Criminal Lovers (Les Amants Criminels) (1999)::Drama|Romance\\r\\n3801::Anatomy of a Murder (1959)::Drama|Mystery\\r\\n3802::Freejack (1992)::Action|Sci-Fi\\r\\n3803::Greaser's Palace (1972)::Drama\\r\\n3804::H.O.T.S. (1979)::Comedy\\r\\n3805::Knightriders (1981)::Action|Adventure|Drama\\r\\n3806::MacKenna's Gold (1969)::Western\\r\\n3807::Sinbad and the Eye of the Tiger (1977)::Action|Adventure\\r\\n3808::Two Women (La Ciociara) (1961)::Drama|War\\r\\n3809::What About Bob? (1991)::Comedy\\r\\n3810::White Sands (1992)::Drama|Thriller\\r\\n3811::Breaker Morant (1980)::Drama|War\\r\\n3812::Everything You Always Wanted to Know About Sex (1972)::Comedy\\r\\n3813::Interiors (1978)::Drama\\r\\n3814::Love and Death (1975)::Comedy\\r\\n3816::Official Story, The (La Historia Oficial) (1985)::Drama\\r\\n3817::Other Side of Sunday, The (S\\xf8ndagsengler) (1996)::Comedy|Drama\\r\\n3818::Pot O' Gold (1941)::Comedy|Musical\\r\\n3819::Tampopo (1986)::Comedy\\r\\n3820::Thomas and the Magic Railroad (2000)::Children's\\r\\n3821::Nutty Professor II: The Klumps (2000)::Comedy\\r\\n3822::Girl on the Bridge, The (La Fille sur le Pont) (1999)::Drama|Romance\\r\\n3823::Wonderland (1999)::Drama\\r\\n3824::Autumn in New York (2000)::Drama|Romance\\r\\n3825::Coyote Ugly (2000)::Drama\\r\\n3826::Hollow Man (2000)::Horror|Sci-Fi|Thriller\\r\\n3827::Space Cowboys (2000)::Action|Sci-Fi\\r\\n3828::Better Living (1998)::Comedy\\r\\n3829::Mad About Mambo (2000)::Comedy|Romance\\r\\n3830::Psycho Beach Party (2000)::Comedy|Horror|Thriller\\r\\n3831::Saving Grace (2000)::Comedy\\r\\n3832::Black Sabbath (Tre Volti Della Paura, I) (1963)::Horror\\r\\n3833::Brain That Wouldn't Die, The (1962)::Horror|Sci-Fi\\r\\n3834::Bronco Billy (1980)::Adventure|Drama|Romance\\r\\n3835::Crush, The (1993)::Thriller\\r\\n3836::Kelly's Heroes (1970)::Action|Comedy|War\\r\\n3837::Phantasm II (1988)::Horror\\r\\n3838::Phantasm III: Lord of the Dead (1994)::Horror\\r\\n3839::Phantasm IV: Oblivion (1998)::Horror\\r\\n3840::Pumpkinhead (1988)::Horror\\r\\n3841::Air America (1990)::Action|Comedy\\r\\n3842::Make Them Die Slowly (Cannibal Ferox) (1980)::Horror\\r\\n3843::Sleepaway Camp (1983)::Horror\\r\\n3844::Steel Magnolias (1989)::Drama\\r\\n3845::And God Created Woman (Et Dieu&#8230;Cr\\xe9a la Femme) (1956)::Drama\\r\\n3846::Easy Money (1983)::Comedy\\r\\n3847::Ilsa, She Wolf of the SS (1974)::Horror\\r\\n3848::Silent Fall (1994)::Drama|Thriller\\r\\n3849::Spiral Staircase, The (1946)::Thriller\\r\\n3850::Whatever Happened to Aunt Alice? (1969)::Crime|Thriller\\r\\n3851::I'm the One That I Want (2000)::Comedy\\r\\n3852::Tao of Steve, The (2000)::Comedy\\r\\n3853::Tic Code, The (1998)::Drama\\r\\n3854::Aim\\xe9e & Jaguar (1999)::Drama|Romance\\r\\n3855::Affair of Love, An (Une Liaison Pornographique) (1999)::Drama|Romance\\r\\n3856::Autumn Heart (1999)::Drama\\r\\n3857::Bless the Child (2000)::Thriller\\r\\n3858::Cecil B. Demented (2000)::Comedy\\r\\n3859::Eyes of Tammy Faye, The (2000)::Documentary\\r\\n3860::Opportunists, The (1999)::Crime\\r\\n3861::Replacements, The (2000)::Comedy\\r\\n3862::About Adam (2000)::Comedy\\r\\n3863::Cell, The (2000)::Sci-Fi|Thriller\\r\\n3864::Godzilla 2000 (Gojira ni-sen mireniamu) (1999)::Action|Adventure|Sci-Fi\\r\\n3865::Original Kings of Comedy, The (2000)::Comedy|Documentary\\r\\n3866::Sunset Strip (2000)::Comedy\\r\\n3867::All the Rage (a.k.a. It's the Rage) (1999)::Drama\\r\\n3868::Naked Gun: From the Files of Police Squad!, The (1988)::Comedy\\r\\n3869::Naked Gun 2 1/2: The Smell of Fear, The (1991)::Comedy\\r\\n3870::Our Town (1940)::Drama\\r\\n3871::Shane (1953)::Drama|Western\\r\\n3872::Suddenly, Last Summer (1959)::Drama\\r\\n3873::Cat Ballou (1965)::Comedy|Western\\r\\n3874::Couch in New York, A (1996)::Comedy|Romance\\r\\n3875::Devil Rides Out, The (1968)::Horror\\r\\n3876::Jerry & Tom (1998)::Drama\\r\\n3877::Supergirl (1984)::Action|Adventure|Fantasy\\r\\n3878::X: The Unknown (1956)::Sci-Fi\\r\\n3879::Art of War, The (2000)::Action\\r\\n3880::Ballad of Ramblin' Jack, The (2000)::Documentary\\r\\n3881::Bittersweet Motel (2000)::Documentary\\r\\n3882::Bring It On (2000)::Comedy\\r\\n3883::Catfish in Black Bean Sauce (2000)::Comedy|Drama\\r\\n3884::Crew, The (2000)::Comedy\\r\\n3885::Love & Sex (2000)::Comedy|Romance\\r\\n3886::Steal This Movie! (2000)::Drama\\r\\n3887::Went to Coney Island on a Mission From God... Be Back by Five (1998)::Drama\\r\\n3888::Skipped Parts (2000)::Drama|Romance\\r\\n3889::Highlander: Endgame (2000)::Action|Adventure|Fantasy\\r\\n3890::Back Stage (2000)::Documentary\\r\\n3891::Turn It Up (2000)::Crime|Drama\\r\\n3892::Anatomy (Anatomie) (2000)::Horror\\r\\n3893::Nurse Betty (2000)::Comedy|Thriller\\r\\n3894::Solas (1999)::Drama\\r\\n3895::Watcher, The (2000)::Crime|Thriller\\r\\n3896::Way of the Gun, The (2000)::Crime|Thriller\\r\\n3897::Almost Famous (2000)::Comedy|Drama\\r\\n3898::Bait (2000)::Action|Comedy\\r\\n3899::Circus (2000)::Comedy\\r\\n3900::Crime and Punishment in Suburbia (2000)::Comedy|Drama\\r\\n3901::Duets (2000)::Comedy|Drama\\r\\n3902::Goya in Bordeaux (Goya en Bodeos) (1999)::Drama\\r\\n3903::Urbania (2000)::Drama\\r\\n3904::Uninvited Guest, An (2000)::Drama\\r\\n3905::Specials, The (2000)::Comedy\\r\\n3906::Under Suspicion (2000)::Crime\\r\\n3907::Prince of Central Park, The (1999)::Drama\\r\\n3908::Urban Legends: Final Cut (2000)::Horror\\r\\n3909::Woman on Top (2000)::Comedy|Romance\\r\\n3910::Dancer in the Dark (2000)::Drama|Musical\\r\\n3911::Best in Show (2000)::Comedy\\r\\n3912::Beautiful (2000)::Comedy|Drama\\r\\n3913::Barenaked in America (1999)::Documentary\\r\\n3914::Broken Hearts Club, The (2000)::Drama\\r\\n3915::Girlfight (2000)::Drama\\r\\n3916::Remember the Titans (2000)::Drama\\r\\n3917::Hellraiser (1987)::Horror\\r\\n3918::Hellbound: Hellraiser II (1988)::Horror\\r\\n3919::Hellraiser III: Hell on Earth (1992)::Horror\\r\\n3920::Faraway, So Close (In Weiter Ferne, So Nah!) (1993)::Drama|Fantasy\\r\\n3921::Beach Party (1963)::Comedy\\r\\n3922::Bikini Beach (1964)::Comedy\\r\\n3923::Return of the Fly (1959)::Horror|Sci-Fi\\r\\n3924::Pajama Party (1964)::Comedy\\r\\n3925::Stranger Than Paradise (1984)::Comedy\\r\\n3926::Voyage to the Bottom of the Sea (1961)::Adventure|Sci-Fi\\r\\n3927::Fantastic Voyage (1966)::Adventure|Sci-Fi\\r\\n3928::Abbott and Costello Meet Frankenstein (1948)::Comedy|Horror\\r\\n3929::Bank Dick, The (1940)::Comedy\\r\\n3930::Creature From the Black Lagoon, The (1954)::Horror\\r\\n3931::Giant Gila Monster, The (1959)::Horror|Sci-Fi\\r\\n3932::Invisible Man, The (1933)::Horror|Sci-Fi\\r\\n3933::Killer Shrews, The (1959)::Horror|Sci-Fi\\r\\n3934::Kronos (1957)::Sci-Fi\\r\\n3935::Kronos (1973)::Horror\\r\\n3936::Phantom of the Opera, The (1943)::Drama|Thriller\\r\\n3937::Runaway (1984)::Sci-Fi|Thriller\\r\\n3938::Slumber Party Massacre, The (1982)::Horror\\r\\n3939::Slumber Party Massacre II, The (1987)::Horror\\r\\n3940::Slumber Party Massacre III, The (1990)::Horror\\r\\n3941::Sorority House Massacre (1986)::Horror\\r\\n3942::Sorority House Massacre II (1990)::Horror\\r\\n3943::Bamboozled (2000)::Comedy\\r\\n3944::Bootmen (2000)::Comedy|Drama\\r\\n3945::Digimon: The Movie (2000)::Adventure|Animation|Children's\\r\\n3946::Get Carter (2000)::Action|Drama|Thriller\\r\\n3947::Get Carter (1971)::Thriller\\r\\n3948::Meet the Parents (2000)::Comedy\\r\\n3949::Requiem for a Dream (2000)::Drama\\r\\n3950::Tigerland (2000)::Drama\\r\\n3951::Two Family House (2000)::Drama\\r\\n3952::Contender, The (2000)::Drama|Thriller\\r\\n\"}"
            ]
          },
          "metadata": {
            "tags": []
          },
          "execution_count": 46
        }
      ]
    },
    {
      "cell_type": "code",
      "metadata": {
        "colab": {
          "base_uri": "https://localhost:8080/",
          "height": 667
        },
        "id": "GJwlgJg6-3Tz",
        "outputId": "6ef455be-72c1-4c03-aa54-2c4ec98cd8cd"
      },
      "source": [
        "import pandas as pd\n",
        "\n",
        "mnames = ['movie_id', 'title', 'genres']\n",
        "#movies = pd.read_table('datasets/movielens/movies.dat', sep='::',\n",
        "movies = pd.read_table('movies.dat', sep='::',\n",
        "                       header=None, names=mnames, engine='python')\n",
        "movies[:20]"
      ],
      "execution_count": 47,
      "outputs": [
        {
          "output_type": "execute_result",
          "data": {
            "text/html": [
              "<div>\n",
              "<style scoped>\n",
              "    .dataframe tbody tr th:only-of-type {\n",
              "        vertical-align: middle;\n",
              "    }\n",
              "\n",
              "    .dataframe tbody tr th {\n",
              "        vertical-align: top;\n",
              "    }\n",
              "\n",
              "    .dataframe thead th {\n",
              "        text-align: right;\n",
              "    }\n",
              "</style>\n",
              "<table border=\"1\" class=\"dataframe\">\n",
              "  <thead>\n",
              "    <tr style=\"text-align: right;\">\n",
              "      <th></th>\n",
              "      <th>movie_id</th>\n",
              "      <th>title</th>\n",
              "      <th>genres</th>\n",
              "    </tr>\n",
              "  </thead>\n",
              "  <tbody>\n",
              "    <tr>\n",
              "      <th>0</th>\n",
              "      <td>1</td>\n",
              "      <td>Toy Story (1995)</td>\n",
              "      <td>Animation|Children's|Comedy</td>\n",
              "    </tr>\n",
              "    <tr>\n",
              "      <th>1</th>\n",
              "      <td>2</td>\n",
              "      <td>Jumanji (1995)</td>\n",
              "      <td>Adventure|Children's|Fantasy</td>\n",
              "    </tr>\n",
              "    <tr>\n",
              "      <th>2</th>\n",
              "      <td>3</td>\n",
              "      <td>Grumpier Old Men (1995)</td>\n",
              "      <td>Comedy|Romance</td>\n",
              "    </tr>\n",
              "    <tr>\n",
              "      <th>3</th>\n",
              "      <td>4</td>\n",
              "      <td>Waiting to Exhale (1995)</td>\n",
              "      <td>Comedy|Drama</td>\n",
              "    </tr>\n",
              "    <tr>\n",
              "      <th>4</th>\n",
              "      <td>5</td>\n",
              "      <td>Father of the Bride Part II (1995)</td>\n",
              "      <td>Comedy</td>\n",
              "    </tr>\n",
              "    <tr>\n",
              "      <th>5</th>\n",
              "      <td>6</td>\n",
              "      <td>Heat (1995)</td>\n",
              "      <td>Action|Crime|Thriller</td>\n",
              "    </tr>\n",
              "    <tr>\n",
              "      <th>6</th>\n",
              "      <td>7</td>\n",
              "      <td>Sabrina (1995)</td>\n",
              "      <td>Comedy|Romance</td>\n",
              "    </tr>\n",
              "    <tr>\n",
              "      <th>7</th>\n",
              "      <td>8</td>\n",
              "      <td>Tom and Huck (1995)</td>\n",
              "      <td>Adventure|Children's</td>\n",
              "    </tr>\n",
              "    <tr>\n",
              "      <th>8</th>\n",
              "      <td>9</td>\n",
              "      <td>Sudden Death (1995)</td>\n",
              "      <td>Action</td>\n",
              "    </tr>\n",
              "    <tr>\n",
              "      <th>9</th>\n",
              "      <td>10</td>\n",
              "      <td>GoldenEye (1995)</td>\n",
              "      <td>Action|Adventure|Thriller</td>\n",
              "    </tr>\n",
              "    <tr>\n",
              "      <th>10</th>\n",
              "      <td>11</td>\n",
              "      <td>American President, The (1995)</td>\n",
              "      <td>Comedy|Drama|Romance</td>\n",
              "    </tr>\n",
              "    <tr>\n",
              "      <th>11</th>\n",
              "      <td>12</td>\n",
              "      <td>Dracula: Dead and Loving It (1995)</td>\n",
              "      <td>Comedy|Horror</td>\n",
              "    </tr>\n",
              "    <tr>\n",
              "      <th>12</th>\n",
              "      <td>13</td>\n",
              "      <td>Balto (1995)</td>\n",
              "      <td>Animation|Children's</td>\n",
              "    </tr>\n",
              "    <tr>\n",
              "      <th>13</th>\n",
              "      <td>14</td>\n",
              "      <td>Nixon (1995)</td>\n",
              "      <td>Drama</td>\n",
              "    </tr>\n",
              "    <tr>\n",
              "      <th>14</th>\n",
              "      <td>15</td>\n",
              "      <td>Cutthroat Island (1995)</td>\n",
              "      <td>Action|Adventure|Romance</td>\n",
              "    </tr>\n",
              "    <tr>\n",
              "      <th>15</th>\n",
              "      <td>16</td>\n",
              "      <td>Casino (1995)</td>\n",
              "      <td>Drama|Thriller</td>\n",
              "    </tr>\n",
              "    <tr>\n",
              "      <th>16</th>\n",
              "      <td>17</td>\n",
              "      <td>Sense and Sensibility (1995)</td>\n",
              "      <td>Drama|Romance</td>\n",
              "    </tr>\n",
              "    <tr>\n",
              "      <th>17</th>\n",
              "      <td>18</td>\n",
              "      <td>Four Rooms (1995)</td>\n",
              "      <td>Thriller</td>\n",
              "    </tr>\n",
              "    <tr>\n",
              "      <th>18</th>\n",
              "      <td>19</td>\n",
              "      <td>Ace Ventura: When Nature Calls (1995)</td>\n",
              "      <td>Comedy</td>\n",
              "    </tr>\n",
              "    <tr>\n",
              "      <th>19</th>\n",
              "      <td>20</td>\n",
              "      <td>Money Train (1995)</td>\n",
              "      <td>Action</td>\n",
              "    </tr>\n",
              "  </tbody>\n",
              "</table>\n",
              "</div>"
            ],
            "text/plain": [
              "    movie_id  ...                        genres\n",
              "0          1  ...   Animation|Children's|Comedy\n",
              "1          2  ...  Adventure|Children's|Fantasy\n",
              "2          3  ...                Comedy|Romance\n",
              "3          4  ...                  Comedy|Drama\n",
              "4          5  ...                        Comedy\n",
              "5          6  ...         Action|Crime|Thriller\n",
              "6          7  ...                Comedy|Romance\n",
              "7          8  ...          Adventure|Children's\n",
              "8          9  ...                        Action\n",
              "9         10  ...     Action|Adventure|Thriller\n",
              "10        11  ...          Comedy|Drama|Romance\n",
              "11        12  ...                 Comedy|Horror\n",
              "12        13  ...          Animation|Children's\n",
              "13        14  ...                         Drama\n",
              "14        15  ...      Action|Adventure|Romance\n",
              "15        16  ...                Drama|Thriller\n",
              "16        17  ...                 Drama|Romance\n",
              "17        18  ...                      Thriller\n",
              "18        19  ...                        Comedy\n",
              "19        20  ...                        Action\n",
              "\n",
              "[20 rows x 3 columns]"
            ]
          },
          "metadata": {
            "tags": []
          },
          "execution_count": 47
        }
      ]
    },
    {
      "cell_type": "code",
      "metadata": {
        "id": "8sLfAL3o-3T0",
        "outputId": "715841e9-276d-4d53-8ac5-8b87102add9b",
        "colab": {
          "base_uri": "https://localhost:8080/"
        }
      },
      "source": [
        "movies.shape"
      ],
      "execution_count": 48,
      "outputs": [
        {
          "output_type": "execute_result",
          "data": {
            "text/plain": [
              "(3883, 3)"
            ]
          },
          "metadata": {
            "tags": []
          },
          "execution_count": 48
        }
      ]
    },
    {
      "cell_type": "code",
      "metadata": {
        "id": "GV0at4Q5-3T0",
        "outputId": "7a37516f-6491-4a49-c60d-311bf24617d7",
        "colab": {
          "base_uri": "https://localhost:8080/"
        }
      },
      "source": [
        "all_genres = []\n",
        "for x in movies.genres:\n",
        "    all_genres.extend(x.split('|'))\n",
        "genres = pd.unique(all_genres)\n",
        "genres"
      ],
      "execution_count": 49,
      "outputs": [
        {
          "output_type": "execute_result",
          "data": {
            "text/plain": [
              "array(['Animation', \"Children's\", 'Comedy', 'Adventure', 'Fantasy',\n",
              "       'Romance', 'Drama', 'Action', 'Crime', 'Thriller', 'Horror',\n",
              "       'Sci-Fi', 'Documentary', 'War', 'Musical', 'Mystery', 'Film-Noir',\n",
              "       'Western'], dtype=object)"
            ]
          },
          "metadata": {
            "tags": []
          },
          "execution_count": 49
        }
      ]
    },
    {
      "cell_type": "code",
      "metadata": {
        "id": "n9ga8eLa-3T0",
        "outputId": "ef9105a2-0793-4c8e-ab09-2af31b84d629",
        "colab": {
          "base_uri": "https://localhost:8080/"
        }
      },
      "source": [
        "len(all_genres)"
      ],
      "execution_count": 50,
      "outputs": [
        {
          "output_type": "execute_result",
          "data": {
            "text/plain": [
              "6408"
            ]
          },
          "metadata": {
            "tags": []
          },
          "execution_count": 50
        }
      ]
    },
    {
      "cell_type": "code",
      "metadata": {
        "id": "GTM3-Fh9-3T0",
        "outputId": "e112703e-9737-4590-e7e3-d3d9dae83daa",
        "colab": {
          "base_uri": "https://localhost:8080/"
        }
      },
      "source": [
        "genres.size"
      ],
      "execution_count": 51,
      "outputs": [
        {
          "output_type": "execute_result",
          "data": {
            "text/plain": [
              "18"
            ]
          },
          "metadata": {
            "tags": []
          },
          "execution_count": 51
        }
      ]
    },
    {
      "cell_type": "code",
      "metadata": {
        "id": "MB8975nQ-3T0",
        "outputId": "1a2d61ce-06ba-4277-bc00-0f07662db7f1",
        "colab": {
          "base_uri": "https://localhost:8080/"
        }
      },
      "source": [
        "zero_matrix = np.zeros((len(movies), len(genres)))\n",
        "zero_matrix"
      ],
      "execution_count": 52,
      "outputs": [
        {
          "output_type": "execute_result",
          "data": {
            "text/plain": [
              "array([[0., 0., 0., ..., 0., 0., 0.],\n",
              "       [0., 0., 0., ..., 0., 0., 0.],\n",
              "       [0., 0., 0., ..., 0., 0., 0.],\n",
              "       ...,\n",
              "       [0., 0., 0., ..., 0., 0., 0.],\n",
              "       [0., 0., 0., ..., 0., 0., 0.],\n",
              "       [0., 0., 0., ..., 0., 0., 0.]])"
            ]
          },
          "metadata": {
            "tags": []
          },
          "execution_count": 52
        }
      ]
    },
    {
      "cell_type": "code",
      "metadata": {
        "id": "s5W2y4qe-3T1",
        "outputId": "7ec119ba-2ce5-40cd-e596-b0bb6b09a803",
        "colab": {
          "base_uri": "https://localhost:8080/"
        }
      },
      "source": [
        "zero_matrix.shape"
      ],
      "execution_count": 53,
      "outputs": [
        {
          "output_type": "execute_result",
          "data": {
            "text/plain": [
              "(3883, 18)"
            ]
          },
          "metadata": {
            "tags": []
          },
          "execution_count": 53
        }
      ]
    },
    {
      "cell_type": "code",
      "metadata": {
        "id": "yd9MAeGk-3T1",
        "outputId": "0eba871f-3c83-4da7-aa58-63f1acc80095",
        "colab": {
          "base_uri": "https://localhost:8080/",
          "height": 454
        }
      },
      "source": [
        "dummies = pd.DataFrame(zero_matrix, columns=genres)\n",
        "dummies"
      ],
      "execution_count": 54,
      "outputs": [
        {
          "output_type": "execute_result",
          "data": {
            "text/html": [
              "<div>\n",
              "<style scoped>\n",
              "    .dataframe tbody tr th:only-of-type {\n",
              "        vertical-align: middle;\n",
              "    }\n",
              "\n",
              "    .dataframe tbody tr th {\n",
              "        vertical-align: top;\n",
              "    }\n",
              "\n",
              "    .dataframe thead th {\n",
              "        text-align: right;\n",
              "    }\n",
              "</style>\n",
              "<table border=\"1\" class=\"dataframe\">\n",
              "  <thead>\n",
              "    <tr style=\"text-align: right;\">\n",
              "      <th></th>\n",
              "      <th>Animation</th>\n",
              "      <th>Children's</th>\n",
              "      <th>Comedy</th>\n",
              "      <th>Adventure</th>\n",
              "      <th>Fantasy</th>\n",
              "      <th>Romance</th>\n",
              "      <th>Drama</th>\n",
              "      <th>Action</th>\n",
              "      <th>Crime</th>\n",
              "      <th>Thriller</th>\n",
              "      <th>Horror</th>\n",
              "      <th>Sci-Fi</th>\n",
              "      <th>Documentary</th>\n",
              "      <th>War</th>\n",
              "      <th>Musical</th>\n",
              "      <th>Mystery</th>\n",
              "      <th>Film-Noir</th>\n",
              "      <th>Western</th>\n",
              "    </tr>\n",
              "  </thead>\n",
              "  <tbody>\n",
              "    <tr>\n",
              "      <th>0</th>\n",
              "      <td>0.0</td>\n",
              "      <td>0.0</td>\n",
              "      <td>0.0</td>\n",
              "      <td>0.0</td>\n",
              "      <td>0.0</td>\n",
              "      <td>0.0</td>\n",
              "      <td>0.0</td>\n",
              "      <td>0.0</td>\n",
              "      <td>0.0</td>\n",
              "      <td>0.0</td>\n",
              "      <td>0.0</td>\n",
              "      <td>0.0</td>\n",
              "      <td>0.0</td>\n",
              "      <td>0.0</td>\n",
              "      <td>0.0</td>\n",
              "      <td>0.0</td>\n",
              "      <td>0.0</td>\n",
              "      <td>0.0</td>\n",
              "    </tr>\n",
              "    <tr>\n",
              "      <th>1</th>\n",
              "      <td>0.0</td>\n",
              "      <td>0.0</td>\n",
              "      <td>0.0</td>\n",
              "      <td>0.0</td>\n",
              "      <td>0.0</td>\n",
              "      <td>0.0</td>\n",
              "      <td>0.0</td>\n",
              "      <td>0.0</td>\n",
              "      <td>0.0</td>\n",
              "      <td>0.0</td>\n",
              "      <td>0.0</td>\n",
              "      <td>0.0</td>\n",
              "      <td>0.0</td>\n",
              "      <td>0.0</td>\n",
              "      <td>0.0</td>\n",
              "      <td>0.0</td>\n",
              "      <td>0.0</td>\n",
              "      <td>0.0</td>\n",
              "    </tr>\n",
              "    <tr>\n",
              "      <th>2</th>\n",
              "      <td>0.0</td>\n",
              "      <td>0.0</td>\n",
              "      <td>0.0</td>\n",
              "      <td>0.0</td>\n",
              "      <td>0.0</td>\n",
              "      <td>0.0</td>\n",
              "      <td>0.0</td>\n",
              "      <td>0.0</td>\n",
              "      <td>0.0</td>\n",
              "      <td>0.0</td>\n",
              "      <td>0.0</td>\n",
              "      <td>0.0</td>\n",
              "      <td>0.0</td>\n",
              "      <td>0.0</td>\n",
              "      <td>0.0</td>\n",
              "      <td>0.0</td>\n",
              "      <td>0.0</td>\n",
              "      <td>0.0</td>\n",
              "    </tr>\n",
              "    <tr>\n",
              "      <th>3</th>\n",
              "      <td>0.0</td>\n",
              "      <td>0.0</td>\n",
              "      <td>0.0</td>\n",
              "      <td>0.0</td>\n",
              "      <td>0.0</td>\n",
              "      <td>0.0</td>\n",
              "      <td>0.0</td>\n",
              "      <td>0.0</td>\n",
              "      <td>0.0</td>\n",
              "      <td>0.0</td>\n",
              "      <td>0.0</td>\n",
              "      <td>0.0</td>\n",
              "      <td>0.0</td>\n",
              "      <td>0.0</td>\n",
              "      <td>0.0</td>\n",
              "      <td>0.0</td>\n",
              "      <td>0.0</td>\n",
              "      <td>0.0</td>\n",
              "    </tr>\n",
              "    <tr>\n",
              "      <th>4</th>\n",
              "      <td>0.0</td>\n",
              "      <td>0.0</td>\n",
              "      <td>0.0</td>\n",
              "      <td>0.0</td>\n",
              "      <td>0.0</td>\n",
              "      <td>0.0</td>\n",
              "      <td>0.0</td>\n",
              "      <td>0.0</td>\n",
              "      <td>0.0</td>\n",
              "      <td>0.0</td>\n",
              "      <td>0.0</td>\n",
              "      <td>0.0</td>\n",
              "      <td>0.0</td>\n",
              "      <td>0.0</td>\n",
              "      <td>0.0</td>\n",
              "      <td>0.0</td>\n",
              "      <td>0.0</td>\n",
              "      <td>0.0</td>\n",
              "    </tr>\n",
              "    <tr>\n",
              "      <th>...</th>\n",
              "      <td>...</td>\n",
              "      <td>...</td>\n",
              "      <td>...</td>\n",
              "      <td>...</td>\n",
              "      <td>...</td>\n",
              "      <td>...</td>\n",
              "      <td>...</td>\n",
              "      <td>...</td>\n",
              "      <td>...</td>\n",
              "      <td>...</td>\n",
              "      <td>...</td>\n",
              "      <td>...</td>\n",
              "      <td>...</td>\n",
              "      <td>...</td>\n",
              "      <td>...</td>\n",
              "      <td>...</td>\n",
              "      <td>...</td>\n",
              "      <td>...</td>\n",
              "    </tr>\n",
              "    <tr>\n",
              "      <th>3878</th>\n",
              "      <td>0.0</td>\n",
              "      <td>0.0</td>\n",
              "      <td>0.0</td>\n",
              "      <td>0.0</td>\n",
              "      <td>0.0</td>\n",
              "      <td>0.0</td>\n",
              "      <td>0.0</td>\n",
              "      <td>0.0</td>\n",
              "      <td>0.0</td>\n",
              "      <td>0.0</td>\n",
              "      <td>0.0</td>\n",
              "      <td>0.0</td>\n",
              "      <td>0.0</td>\n",
              "      <td>0.0</td>\n",
              "      <td>0.0</td>\n",
              "      <td>0.0</td>\n",
              "      <td>0.0</td>\n",
              "      <td>0.0</td>\n",
              "    </tr>\n",
              "    <tr>\n",
              "      <th>3879</th>\n",
              "      <td>0.0</td>\n",
              "      <td>0.0</td>\n",
              "      <td>0.0</td>\n",
              "      <td>0.0</td>\n",
              "      <td>0.0</td>\n",
              "      <td>0.0</td>\n",
              "      <td>0.0</td>\n",
              "      <td>0.0</td>\n",
              "      <td>0.0</td>\n",
              "      <td>0.0</td>\n",
              "      <td>0.0</td>\n",
              "      <td>0.0</td>\n",
              "      <td>0.0</td>\n",
              "      <td>0.0</td>\n",
              "      <td>0.0</td>\n",
              "      <td>0.0</td>\n",
              "      <td>0.0</td>\n",
              "      <td>0.0</td>\n",
              "    </tr>\n",
              "    <tr>\n",
              "      <th>3880</th>\n",
              "      <td>0.0</td>\n",
              "      <td>0.0</td>\n",
              "      <td>0.0</td>\n",
              "      <td>0.0</td>\n",
              "      <td>0.0</td>\n",
              "      <td>0.0</td>\n",
              "      <td>0.0</td>\n",
              "      <td>0.0</td>\n",
              "      <td>0.0</td>\n",
              "      <td>0.0</td>\n",
              "      <td>0.0</td>\n",
              "      <td>0.0</td>\n",
              "      <td>0.0</td>\n",
              "      <td>0.0</td>\n",
              "      <td>0.0</td>\n",
              "      <td>0.0</td>\n",
              "      <td>0.0</td>\n",
              "      <td>0.0</td>\n",
              "    </tr>\n",
              "    <tr>\n",
              "      <th>3881</th>\n",
              "      <td>0.0</td>\n",
              "      <td>0.0</td>\n",
              "      <td>0.0</td>\n",
              "      <td>0.0</td>\n",
              "      <td>0.0</td>\n",
              "      <td>0.0</td>\n",
              "      <td>0.0</td>\n",
              "      <td>0.0</td>\n",
              "      <td>0.0</td>\n",
              "      <td>0.0</td>\n",
              "      <td>0.0</td>\n",
              "      <td>0.0</td>\n",
              "      <td>0.0</td>\n",
              "      <td>0.0</td>\n",
              "      <td>0.0</td>\n",
              "      <td>0.0</td>\n",
              "      <td>0.0</td>\n",
              "      <td>0.0</td>\n",
              "    </tr>\n",
              "    <tr>\n",
              "      <th>3882</th>\n",
              "      <td>0.0</td>\n",
              "      <td>0.0</td>\n",
              "      <td>0.0</td>\n",
              "      <td>0.0</td>\n",
              "      <td>0.0</td>\n",
              "      <td>0.0</td>\n",
              "      <td>0.0</td>\n",
              "      <td>0.0</td>\n",
              "      <td>0.0</td>\n",
              "      <td>0.0</td>\n",
              "      <td>0.0</td>\n",
              "      <td>0.0</td>\n",
              "      <td>0.0</td>\n",
              "      <td>0.0</td>\n",
              "      <td>0.0</td>\n",
              "      <td>0.0</td>\n",
              "      <td>0.0</td>\n",
              "      <td>0.0</td>\n",
              "    </tr>\n",
              "  </tbody>\n",
              "</table>\n",
              "<p>3883 rows × 18 columns</p>\n",
              "</div>"
            ],
            "text/plain": [
              "      Animation  Children's  Comedy  ...  Mystery  Film-Noir  Western\n",
              "0           0.0         0.0     0.0  ...      0.0        0.0      0.0\n",
              "1           0.0         0.0     0.0  ...      0.0        0.0      0.0\n",
              "2           0.0         0.0     0.0  ...      0.0        0.0      0.0\n",
              "3           0.0         0.0     0.0  ...      0.0        0.0      0.0\n",
              "4           0.0         0.0     0.0  ...      0.0        0.0      0.0\n",
              "...         ...         ...     ...  ...      ...        ...      ...\n",
              "3878        0.0         0.0     0.0  ...      0.0        0.0      0.0\n",
              "3879        0.0         0.0     0.0  ...      0.0        0.0      0.0\n",
              "3880        0.0         0.0     0.0  ...      0.0        0.0      0.0\n",
              "3881        0.0         0.0     0.0  ...      0.0        0.0      0.0\n",
              "3882        0.0         0.0     0.0  ...      0.0        0.0      0.0\n",
              "\n",
              "[3883 rows x 18 columns]"
            ]
          },
          "metadata": {
            "tags": []
          },
          "execution_count": 54
        }
      ]
    },
    {
      "cell_type": "code",
      "metadata": {
        "id": "uw5VeGKv-3T1",
        "outputId": "3eb79ecc-d887-42c0-dfcb-5c34c5125458",
        "colab": {
          "base_uri": "https://localhost:8080/"
        }
      },
      "source": [
        "gen = movies.genres[1]\n",
        "gen.split('|')"
      ],
      "execution_count": 55,
      "outputs": [
        {
          "output_type": "execute_result",
          "data": {
            "text/plain": [
              "['Adventure', \"Children's\", 'Fantasy']"
            ]
          },
          "metadata": {
            "tags": []
          },
          "execution_count": 55
        }
      ]
    },
    {
      "cell_type": "code",
      "metadata": {
        "id": "_G0RWpg0-3T1",
        "outputId": "aeeeeae9-9381-4e38-f625-bd4caacefb24",
        "colab": {
          "base_uri": "https://localhost:8080/"
        }
      },
      "source": [
        "dummies.columns"
      ],
      "execution_count": 56,
      "outputs": [
        {
          "output_type": "execute_result",
          "data": {
            "text/plain": [
              "Index(['Animation', 'Children's', 'Comedy', 'Adventure', 'Fantasy', 'Romance',\n",
              "       'Drama', 'Action', 'Crime', 'Thriller', 'Horror', 'Sci-Fi',\n",
              "       'Documentary', 'War', 'Musical', 'Mystery', 'Film-Noir', 'Western'],\n",
              "      dtype='object')"
            ]
          },
          "metadata": {
            "tags": []
          },
          "execution_count": 56
        }
      ]
    },
    {
      "cell_type": "code",
      "metadata": {
        "id": "W1IMh9cu-3T2",
        "outputId": "16b9ecf9-b2c6-4758-8d11-cd82e38f093f",
        "colab": {
          "base_uri": "https://localhost:8080/"
        }
      },
      "source": [
        "dummies.columns.get_indexer(gen.split('|'))"
      ],
      "execution_count": 57,
      "outputs": [
        {
          "output_type": "execute_result",
          "data": {
            "text/plain": [
              "array([3, 1, 4])"
            ]
          },
          "metadata": {
            "tags": []
          },
          "execution_count": 57
        }
      ]
    },
    {
      "cell_type": "markdown",
      "metadata": {
        "id": "EHgWAzit-3T2"
      },
      "source": [
        "* get_indexer() 이해"
      ]
    },
    {
      "cell_type": "code",
      "metadata": {
        "id": "gRp4_9Sx-3T2",
        "outputId": "7acaea3f-a3a5-41a8-c5b2-eabba9c2e588",
        "colab": {
          "base_uri": "https://localhost:8080/"
        }
      },
      "source": [
        "index = pd.Index(['c', 'a', 'b', 'd'])\n",
        "index"
      ],
      "execution_count": 58,
      "outputs": [
        {
          "output_type": "execute_result",
          "data": {
            "text/plain": [
              "Index(['c', 'a', 'b', 'd'], dtype='object')"
            ]
          },
          "metadata": {
            "tags": []
          },
          "execution_count": 58
        }
      ]
    },
    {
      "cell_type": "code",
      "metadata": {
        "id": "ASpbdUJc-3T2",
        "outputId": "5c53e1a8-fe59-48c3-834f-548e3c505806",
        "colab": {
          "base_uri": "https://localhost:8080/"
        }
      },
      "source": [
        "index.get_indexer(['a', 'b', 'x'])"
      ],
      "execution_count": 59,
      "outputs": [
        {
          "output_type": "execute_result",
          "data": {
            "text/plain": [
              "array([ 1,  2, -1])"
            ]
          },
          "metadata": {
            "tags": []
          },
          "execution_count": 59
        }
      ]
    },
    {
      "cell_type": "code",
      "metadata": {
        "id": "mjDufZTQ-3T2",
        "outputId": "e8097bab-23b3-40c3-e197-cf22e69282bb",
        "colab": {
          "base_uri": "https://localhost:8080/"
        }
      },
      "source": [
        "index.take(index.get_indexer(['a', 'b', 'x']))\n",
        "# index.take(index.get_indexer(['b', 'a', 'x', 'y']))"
      ],
      "execution_count": 60,
      "outputs": [
        {
          "output_type": "execute_result",
          "data": {
            "text/plain": [
              "Index(['a', 'b', 'd'], dtype='object')"
            ]
          },
          "metadata": {
            "tags": []
          },
          "execution_count": 60
        }
      ]
    },
    {
      "cell_type": "code",
      "metadata": {
        "id": "nYDpOW7b-3T2"
      },
      "source": [
        "for i, gen in enumerate(movies.genres):\n",
        "    indices = dummies.columns.get_indexer(gen.split('|'))\n",
        "    dummies.iloc[i, indices] = 1"
      ],
      "execution_count": 61,
      "outputs": []
    },
    {
      "cell_type": "code",
      "metadata": {
        "id": "81GZZPyw-3T3",
        "outputId": "d9718941-320c-436b-9bd4-bc1cc19ffde5"
      },
      "source": [
        "dummies"
      ],
      "execution_count": null,
      "outputs": [
        {
          "output_type": "execute_result",
          "data": {
            "text/html": [
              "<div>\n",
              "<style scoped>\n",
              "    .dataframe tbody tr th:only-of-type {\n",
              "        vertical-align: middle;\n",
              "    }\n",
              "\n",
              "    .dataframe tbody tr th {\n",
              "        vertical-align: top;\n",
              "    }\n",
              "\n",
              "    .dataframe thead th {\n",
              "        text-align: right;\n",
              "    }\n",
              "</style>\n",
              "<table border=\"1\" class=\"dataframe\">\n",
              "  <thead>\n",
              "    <tr style=\"text-align: right;\">\n",
              "      <th></th>\n",
              "      <th>Animation</th>\n",
              "      <th>Children's</th>\n",
              "      <th>Comedy</th>\n",
              "      <th>Adventure</th>\n",
              "      <th>Fantasy</th>\n",
              "      <th>Romance</th>\n",
              "      <th>Drama</th>\n",
              "      <th>Action</th>\n",
              "      <th>Crime</th>\n",
              "      <th>Thriller</th>\n",
              "      <th>Horror</th>\n",
              "      <th>Sci-Fi</th>\n",
              "      <th>Documentary</th>\n",
              "      <th>War</th>\n",
              "      <th>Musical</th>\n",
              "      <th>Mystery</th>\n",
              "      <th>Film-Noir</th>\n",
              "      <th>Western</th>\n",
              "    </tr>\n",
              "  </thead>\n",
              "  <tbody>\n",
              "    <tr>\n",
              "      <th>0</th>\n",
              "      <td>1.0</td>\n",
              "      <td>1.0</td>\n",
              "      <td>1.0</td>\n",
              "      <td>0.0</td>\n",
              "      <td>0.0</td>\n",
              "      <td>0.0</td>\n",
              "      <td>0.0</td>\n",
              "      <td>0.0</td>\n",
              "      <td>0.0</td>\n",
              "      <td>0.0</td>\n",
              "      <td>0.0</td>\n",
              "      <td>0.0</td>\n",
              "      <td>0.0</td>\n",
              "      <td>0.0</td>\n",
              "      <td>0.0</td>\n",
              "      <td>0.0</td>\n",
              "      <td>0.0</td>\n",
              "      <td>0.0</td>\n",
              "    </tr>\n",
              "    <tr>\n",
              "      <th>1</th>\n",
              "      <td>0.0</td>\n",
              "      <td>1.0</td>\n",
              "      <td>0.0</td>\n",
              "      <td>1.0</td>\n",
              "      <td>1.0</td>\n",
              "      <td>0.0</td>\n",
              "      <td>0.0</td>\n",
              "      <td>0.0</td>\n",
              "      <td>0.0</td>\n",
              "      <td>0.0</td>\n",
              "      <td>0.0</td>\n",
              "      <td>0.0</td>\n",
              "      <td>0.0</td>\n",
              "      <td>0.0</td>\n",
              "      <td>0.0</td>\n",
              "      <td>0.0</td>\n",
              "      <td>0.0</td>\n",
              "      <td>0.0</td>\n",
              "    </tr>\n",
              "    <tr>\n",
              "      <th>2</th>\n",
              "      <td>0.0</td>\n",
              "      <td>0.0</td>\n",
              "      <td>1.0</td>\n",
              "      <td>0.0</td>\n",
              "      <td>0.0</td>\n",
              "      <td>1.0</td>\n",
              "      <td>0.0</td>\n",
              "      <td>0.0</td>\n",
              "      <td>0.0</td>\n",
              "      <td>0.0</td>\n",
              "      <td>0.0</td>\n",
              "      <td>0.0</td>\n",
              "      <td>0.0</td>\n",
              "      <td>0.0</td>\n",
              "      <td>0.0</td>\n",
              "      <td>0.0</td>\n",
              "      <td>0.0</td>\n",
              "      <td>0.0</td>\n",
              "    </tr>\n",
              "    <tr>\n",
              "      <th>3</th>\n",
              "      <td>0.0</td>\n",
              "      <td>0.0</td>\n",
              "      <td>1.0</td>\n",
              "      <td>0.0</td>\n",
              "      <td>0.0</td>\n",
              "      <td>0.0</td>\n",
              "      <td>1.0</td>\n",
              "      <td>0.0</td>\n",
              "      <td>0.0</td>\n",
              "      <td>0.0</td>\n",
              "      <td>0.0</td>\n",
              "      <td>0.0</td>\n",
              "      <td>0.0</td>\n",
              "      <td>0.0</td>\n",
              "      <td>0.0</td>\n",
              "      <td>0.0</td>\n",
              "      <td>0.0</td>\n",
              "      <td>0.0</td>\n",
              "    </tr>\n",
              "    <tr>\n",
              "      <th>4</th>\n",
              "      <td>0.0</td>\n",
              "      <td>0.0</td>\n",
              "      <td>1.0</td>\n",
              "      <td>0.0</td>\n",
              "      <td>0.0</td>\n",
              "      <td>0.0</td>\n",
              "      <td>0.0</td>\n",
              "      <td>0.0</td>\n",
              "      <td>0.0</td>\n",
              "      <td>0.0</td>\n",
              "      <td>0.0</td>\n",
              "      <td>0.0</td>\n",
              "      <td>0.0</td>\n",
              "      <td>0.0</td>\n",
              "      <td>0.0</td>\n",
              "      <td>0.0</td>\n",
              "      <td>0.0</td>\n",
              "      <td>0.0</td>\n",
              "    </tr>\n",
              "    <tr>\n",
              "      <th>...</th>\n",
              "      <td>...</td>\n",
              "      <td>...</td>\n",
              "      <td>...</td>\n",
              "      <td>...</td>\n",
              "      <td>...</td>\n",
              "      <td>...</td>\n",
              "      <td>...</td>\n",
              "      <td>...</td>\n",
              "      <td>...</td>\n",
              "      <td>...</td>\n",
              "      <td>...</td>\n",
              "      <td>...</td>\n",
              "      <td>...</td>\n",
              "      <td>...</td>\n",
              "      <td>...</td>\n",
              "      <td>...</td>\n",
              "      <td>...</td>\n",
              "      <td>...</td>\n",
              "    </tr>\n",
              "    <tr>\n",
              "      <th>3878</th>\n",
              "      <td>0.0</td>\n",
              "      <td>0.0</td>\n",
              "      <td>1.0</td>\n",
              "      <td>0.0</td>\n",
              "      <td>0.0</td>\n",
              "      <td>0.0</td>\n",
              "      <td>0.0</td>\n",
              "      <td>0.0</td>\n",
              "      <td>0.0</td>\n",
              "      <td>0.0</td>\n",
              "      <td>0.0</td>\n",
              "      <td>0.0</td>\n",
              "      <td>0.0</td>\n",
              "      <td>0.0</td>\n",
              "      <td>0.0</td>\n",
              "      <td>0.0</td>\n",
              "      <td>0.0</td>\n",
              "      <td>0.0</td>\n",
              "    </tr>\n",
              "    <tr>\n",
              "      <th>3879</th>\n",
              "      <td>0.0</td>\n",
              "      <td>0.0</td>\n",
              "      <td>0.0</td>\n",
              "      <td>0.0</td>\n",
              "      <td>0.0</td>\n",
              "      <td>0.0</td>\n",
              "      <td>1.0</td>\n",
              "      <td>0.0</td>\n",
              "      <td>0.0</td>\n",
              "      <td>0.0</td>\n",
              "      <td>0.0</td>\n",
              "      <td>0.0</td>\n",
              "      <td>0.0</td>\n",
              "      <td>0.0</td>\n",
              "      <td>0.0</td>\n",
              "      <td>0.0</td>\n",
              "      <td>0.0</td>\n",
              "      <td>0.0</td>\n",
              "    </tr>\n",
              "    <tr>\n",
              "      <th>3880</th>\n",
              "      <td>0.0</td>\n",
              "      <td>0.0</td>\n",
              "      <td>0.0</td>\n",
              "      <td>0.0</td>\n",
              "      <td>0.0</td>\n",
              "      <td>0.0</td>\n",
              "      <td>1.0</td>\n",
              "      <td>0.0</td>\n",
              "      <td>0.0</td>\n",
              "      <td>0.0</td>\n",
              "      <td>0.0</td>\n",
              "      <td>0.0</td>\n",
              "      <td>0.0</td>\n",
              "      <td>0.0</td>\n",
              "      <td>0.0</td>\n",
              "      <td>0.0</td>\n",
              "      <td>0.0</td>\n",
              "      <td>0.0</td>\n",
              "    </tr>\n",
              "    <tr>\n",
              "      <th>3881</th>\n",
              "      <td>0.0</td>\n",
              "      <td>0.0</td>\n",
              "      <td>0.0</td>\n",
              "      <td>0.0</td>\n",
              "      <td>0.0</td>\n",
              "      <td>0.0</td>\n",
              "      <td>1.0</td>\n",
              "      <td>0.0</td>\n",
              "      <td>0.0</td>\n",
              "      <td>0.0</td>\n",
              "      <td>0.0</td>\n",
              "      <td>0.0</td>\n",
              "      <td>0.0</td>\n",
              "      <td>0.0</td>\n",
              "      <td>0.0</td>\n",
              "      <td>0.0</td>\n",
              "      <td>0.0</td>\n",
              "      <td>0.0</td>\n",
              "    </tr>\n",
              "    <tr>\n",
              "      <th>3882</th>\n",
              "      <td>0.0</td>\n",
              "      <td>0.0</td>\n",
              "      <td>0.0</td>\n",
              "      <td>0.0</td>\n",
              "      <td>0.0</td>\n",
              "      <td>0.0</td>\n",
              "      <td>1.0</td>\n",
              "      <td>0.0</td>\n",
              "      <td>0.0</td>\n",
              "      <td>1.0</td>\n",
              "      <td>0.0</td>\n",
              "      <td>0.0</td>\n",
              "      <td>0.0</td>\n",
              "      <td>0.0</td>\n",
              "      <td>0.0</td>\n",
              "      <td>0.0</td>\n",
              "      <td>0.0</td>\n",
              "      <td>0.0</td>\n",
              "    </tr>\n",
              "  </tbody>\n",
              "</table>\n",
              "<p>3883 rows × 18 columns</p>\n",
              "</div>"
            ],
            "text/plain": [
              "      Animation  Children's  Comedy  Adventure  Fantasy  Romance  Drama  \\\n",
              "0           1.0         1.0     1.0        0.0      0.0      0.0    0.0   \n",
              "1           0.0         1.0     0.0        1.0      1.0      0.0    0.0   \n",
              "2           0.0         0.0     1.0        0.0      0.0      1.0    0.0   \n",
              "3           0.0         0.0     1.0        0.0      0.0      0.0    1.0   \n",
              "4           0.0         0.0     1.0        0.0      0.0      0.0    0.0   \n",
              "...         ...         ...     ...        ...      ...      ...    ...   \n",
              "3878        0.0         0.0     1.0        0.0      0.0      0.0    0.0   \n",
              "3879        0.0         0.0     0.0        0.0      0.0      0.0    1.0   \n",
              "3880        0.0         0.0     0.0        0.0      0.0      0.0    1.0   \n",
              "3881        0.0         0.0     0.0        0.0      0.0      0.0    1.0   \n",
              "3882        0.0         0.0     0.0        0.0      0.0      0.0    1.0   \n",
              "\n",
              "      Action  Crime  Thriller  Horror  Sci-Fi  Documentary  War  Musical  \\\n",
              "0        0.0    0.0       0.0     0.0     0.0          0.0  0.0      0.0   \n",
              "1        0.0    0.0       0.0     0.0     0.0          0.0  0.0      0.0   \n",
              "2        0.0    0.0       0.0     0.0     0.0          0.0  0.0      0.0   \n",
              "3        0.0    0.0       0.0     0.0     0.0          0.0  0.0      0.0   \n",
              "4        0.0    0.0       0.0     0.0     0.0          0.0  0.0      0.0   \n",
              "...      ...    ...       ...     ...     ...          ...  ...      ...   \n",
              "3878     0.0    0.0       0.0     0.0     0.0          0.0  0.0      0.0   \n",
              "3879     0.0    0.0       0.0     0.0     0.0          0.0  0.0      0.0   \n",
              "3880     0.0    0.0       0.0     0.0     0.0          0.0  0.0      0.0   \n",
              "3881     0.0    0.0       0.0     0.0     0.0          0.0  0.0      0.0   \n",
              "3882     0.0    0.0       1.0     0.0     0.0          0.0  0.0      0.0   \n",
              "\n",
              "      Mystery  Film-Noir  Western  \n",
              "0         0.0        0.0      0.0  \n",
              "1         0.0        0.0      0.0  \n",
              "2         0.0        0.0      0.0  \n",
              "3         0.0        0.0      0.0  \n",
              "4         0.0        0.0      0.0  \n",
              "...       ...        ...      ...  \n",
              "3878      0.0        0.0      0.0  \n",
              "3879      0.0        0.0      0.0  \n",
              "3880      0.0        0.0      0.0  \n",
              "3881      0.0        0.0      0.0  \n",
              "3882      0.0        0.0      0.0  \n",
              "\n",
              "[3883 rows x 18 columns]"
            ]
          },
          "metadata": {
            "tags": []
          },
          "execution_count": 95
        }
      ]
    },
    {
      "cell_type": "code",
      "metadata": {
        "id": "L_C2EBJQ-3T3",
        "outputId": "82a91f23-075e-46ff-8b11-ad9e1fe005ce"
      },
      "source": [
        "movies_windic = movies.join(dummies.add_prefix('Genre_'))\n",
        "movies_windic"
      ],
      "execution_count": null,
      "outputs": [
        {
          "output_type": "execute_result",
          "data": {
            "text/html": [
              "<div>\n",
              "<style scoped>\n",
              "    .dataframe tbody tr th:only-of-type {\n",
              "        vertical-align: middle;\n",
              "    }\n",
              "\n",
              "    .dataframe tbody tr th {\n",
              "        vertical-align: top;\n",
              "    }\n",
              "\n",
              "    .dataframe thead th {\n",
              "        text-align: right;\n",
              "    }\n",
              "</style>\n",
              "<table border=\"1\" class=\"dataframe\">\n",
              "  <thead>\n",
              "    <tr style=\"text-align: right;\">\n",
              "      <th></th>\n",
              "      <th>movie_id</th>\n",
              "      <th>title</th>\n",
              "      <th>genres</th>\n",
              "      <th>Genre_Animation</th>\n",
              "      <th>Genre_Children's</th>\n",
              "      <th>Genre_Comedy</th>\n",
              "      <th>Genre_Adventure</th>\n",
              "      <th>Genre_Fantasy</th>\n",
              "      <th>Genre_Romance</th>\n",
              "      <th>Genre_Drama</th>\n",
              "      <th>...</th>\n",
              "      <th>Genre_Crime</th>\n",
              "      <th>Genre_Thriller</th>\n",
              "      <th>Genre_Horror</th>\n",
              "      <th>Genre_Sci-Fi</th>\n",
              "      <th>Genre_Documentary</th>\n",
              "      <th>Genre_War</th>\n",
              "      <th>Genre_Musical</th>\n",
              "      <th>Genre_Mystery</th>\n",
              "      <th>Genre_Film-Noir</th>\n",
              "      <th>Genre_Western</th>\n",
              "    </tr>\n",
              "  </thead>\n",
              "  <tbody>\n",
              "    <tr>\n",
              "      <th>0</th>\n",
              "      <td>1</td>\n",
              "      <td>Toy Story (1995)</td>\n",
              "      <td>Animation|Children's|Comedy</td>\n",
              "      <td>1.0</td>\n",
              "      <td>1.0</td>\n",
              "      <td>1.0</td>\n",
              "      <td>0.0</td>\n",
              "      <td>0.0</td>\n",
              "      <td>0.0</td>\n",
              "      <td>0.0</td>\n",
              "      <td>...</td>\n",
              "      <td>0.0</td>\n",
              "      <td>0.0</td>\n",
              "      <td>0.0</td>\n",
              "      <td>0.0</td>\n",
              "      <td>0.0</td>\n",
              "      <td>0.0</td>\n",
              "      <td>0.0</td>\n",
              "      <td>0.0</td>\n",
              "      <td>0.0</td>\n",
              "      <td>0.0</td>\n",
              "    </tr>\n",
              "    <tr>\n",
              "      <th>1</th>\n",
              "      <td>2</td>\n",
              "      <td>Jumanji (1995)</td>\n",
              "      <td>Adventure|Children's|Fantasy</td>\n",
              "      <td>0.0</td>\n",
              "      <td>1.0</td>\n",
              "      <td>0.0</td>\n",
              "      <td>1.0</td>\n",
              "      <td>1.0</td>\n",
              "      <td>0.0</td>\n",
              "      <td>0.0</td>\n",
              "      <td>...</td>\n",
              "      <td>0.0</td>\n",
              "      <td>0.0</td>\n",
              "      <td>0.0</td>\n",
              "      <td>0.0</td>\n",
              "      <td>0.0</td>\n",
              "      <td>0.0</td>\n",
              "      <td>0.0</td>\n",
              "      <td>0.0</td>\n",
              "      <td>0.0</td>\n",
              "      <td>0.0</td>\n",
              "    </tr>\n",
              "    <tr>\n",
              "      <th>2</th>\n",
              "      <td>3</td>\n",
              "      <td>Grumpier Old Men (1995)</td>\n",
              "      <td>Comedy|Romance</td>\n",
              "      <td>0.0</td>\n",
              "      <td>0.0</td>\n",
              "      <td>1.0</td>\n",
              "      <td>0.0</td>\n",
              "      <td>0.0</td>\n",
              "      <td>1.0</td>\n",
              "      <td>0.0</td>\n",
              "      <td>...</td>\n",
              "      <td>0.0</td>\n",
              "      <td>0.0</td>\n",
              "      <td>0.0</td>\n",
              "      <td>0.0</td>\n",
              "      <td>0.0</td>\n",
              "      <td>0.0</td>\n",
              "      <td>0.0</td>\n",
              "      <td>0.0</td>\n",
              "      <td>0.0</td>\n",
              "      <td>0.0</td>\n",
              "    </tr>\n",
              "    <tr>\n",
              "      <th>3</th>\n",
              "      <td>4</td>\n",
              "      <td>Waiting to Exhale (1995)</td>\n",
              "      <td>Comedy|Drama</td>\n",
              "      <td>0.0</td>\n",
              "      <td>0.0</td>\n",
              "      <td>1.0</td>\n",
              "      <td>0.0</td>\n",
              "      <td>0.0</td>\n",
              "      <td>0.0</td>\n",
              "      <td>1.0</td>\n",
              "      <td>...</td>\n",
              "      <td>0.0</td>\n",
              "      <td>0.0</td>\n",
              "      <td>0.0</td>\n",
              "      <td>0.0</td>\n",
              "      <td>0.0</td>\n",
              "      <td>0.0</td>\n",
              "      <td>0.0</td>\n",
              "      <td>0.0</td>\n",
              "      <td>0.0</td>\n",
              "      <td>0.0</td>\n",
              "    </tr>\n",
              "    <tr>\n",
              "      <th>4</th>\n",
              "      <td>5</td>\n",
              "      <td>Father of the Bride Part II (1995)</td>\n",
              "      <td>Comedy</td>\n",
              "      <td>0.0</td>\n",
              "      <td>0.0</td>\n",
              "      <td>1.0</td>\n",
              "      <td>0.0</td>\n",
              "      <td>0.0</td>\n",
              "      <td>0.0</td>\n",
              "      <td>0.0</td>\n",
              "      <td>...</td>\n",
              "      <td>0.0</td>\n",
              "      <td>0.0</td>\n",
              "      <td>0.0</td>\n",
              "      <td>0.0</td>\n",
              "      <td>0.0</td>\n",
              "      <td>0.0</td>\n",
              "      <td>0.0</td>\n",
              "      <td>0.0</td>\n",
              "      <td>0.0</td>\n",
              "      <td>0.0</td>\n",
              "    </tr>\n",
              "    <tr>\n",
              "      <th>...</th>\n",
              "      <td>...</td>\n",
              "      <td>...</td>\n",
              "      <td>...</td>\n",
              "      <td>...</td>\n",
              "      <td>...</td>\n",
              "      <td>...</td>\n",
              "      <td>...</td>\n",
              "      <td>...</td>\n",
              "      <td>...</td>\n",
              "      <td>...</td>\n",
              "      <td>...</td>\n",
              "      <td>...</td>\n",
              "      <td>...</td>\n",
              "      <td>...</td>\n",
              "      <td>...</td>\n",
              "      <td>...</td>\n",
              "      <td>...</td>\n",
              "      <td>...</td>\n",
              "      <td>...</td>\n",
              "      <td>...</td>\n",
              "      <td>...</td>\n",
              "    </tr>\n",
              "    <tr>\n",
              "      <th>3878</th>\n",
              "      <td>3948</td>\n",
              "      <td>Meet the Parents (2000)</td>\n",
              "      <td>Comedy</td>\n",
              "      <td>0.0</td>\n",
              "      <td>0.0</td>\n",
              "      <td>1.0</td>\n",
              "      <td>0.0</td>\n",
              "      <td>0.0</td>\n",
              "      <td>0.0</td>\n",
              "      <td>0.0</td>\n",
              "      <td>...</td>\n",
              "      <td>0.0</td>\n",
              "      <td>0.0</td>\n",
              "      <td>0.0</td>\n",
              "      <td>0.0</td>\n",
              "      <td>0.0</td>\n",
              "      <td>0.0</td>\n",
              "      <td>0.0</td>\n",
              "      <td>0.0</td>\n",
              "      <td>0.0</td>\n",
              "      <td>0.0</td>\n",
              "    </tr>\n",
              "    <tr>\n",
              "      <th>3879</th>\n",
              "      <td>3949</td>\n",
              "      <td>Requiem for a Dream (2000)</td>\n",
              "      <td>Drama</td>\n",
              "      <td>0.0</td>\n",
              "      <td>0.0</td>\n",
              "      <td>0.0</td>\n",
              "      <td>0.0</td>\n",
              "      <td>0.0</td>\n",
              "      <td>0.0</td>\n",
              "      <td>1.0</td>\n",
              "      <td>...</td>\n",
              "      <td>0.0</td>\n",
              "      <td>0.0</td>\n",
              "      <td>0.0</td>\n",
              "      <td>0.0</td>\n",
              "      <td>0.0</td>\n",
              "      <td>0.0</td>\n",
              "      <td>0.0</td>\n",
              "      <td>0.0</td>\n",
              "      <td>0.0</td>\n",
              "      <td>0.0</td>\n",
              "    </tr>\n",
              "    <tr>\n",
              "      <th>3880</th>\n",
              "      <td>3950</td>\n",
              "      <td>Tigerland (2000)</td>\n",
              "      <td>Drama</td>\n",
              "      <td>0.0</td>\n",
              "      <td>0.0</td>\n",
              "      <td>0.0</td>\n",
              "      <td>0.0</td>\n",
              "      <td>0.0</td>\n",
              "      <td>0.0</td>\n",
              "      <td>1.0</td>\n",
              "      <td>...</td>\n",
              "      <td>0.0</td>\n",
              "      <td>0.0</td>\n",
              "      <td>0.0</td>\n",
              "      <td>0.0</td>\n",
              "      <td>0.0</td>\n",
              "      <td>0.0</td>\n",
              "      <td>0.0</td>\n",
              "      <td>0.0</td>\n",
              "      <td>0.0</td>\n",
              "      <td>0.0</td>\n",
              "    </tr>\n",
              "    <tr>\n",
              "      <th>3881</th>\n",
              "      <td>3951</td>\n",
              "      <td>Two Family House (2000)</td>\n",
              "      <td>Drama</td>\n",
              "      <td>0.0</td>\n",
              "      <td>0.0</td>\n",
              "      <td>0.0</td>\n",
              "      <td>0.0</td>\n",
              "      <td>0.0</td>\n",
              "      <td>0.0</td>\n",
              "      <td>1.0</td>\n",
              "      <td>...</td>\n",
              "      <td>0.0</td>\n",
              "      <td>0.0</td>\n",
              "      <td>0.0</td>\n",
              "      <td>0.0</td>\n",
              "      <td>0.0</td>\n",
              "      <td>0.0</td>\n",
              "      <td>0.0</td>\n",
              "      <td>0.0</td>\n",
              "      <td>0.0</td>\n",
              "      <td>0.0</td>\n",
              "    </tr>\n",
              "    <tr>\n",
              "      <th>3882</th>\n",
              "      <td>3952</td>\n",
              "      <td>Contender, The (2000)</td>\n",
              "      <td>Drama|Thriller</td>\n",
              "      <td>0.0</td>\n",
              "      <td>0.0</td>\n",
              "      <td>0.0</td>\n",
              "      <td>0.0</td>\n",
              "      <td>0.0</td>\n",
              "      <td>0.0</td>\n",
              "      <td>1.0</td>\n",
              "      <td>...</td>\n",
              "      <td>0.0</td>\n",
              "      <td>1.0</td>\n",
              "      <td>0.0</td>\n",
              "      <td>0.0</td>\n",
              "      <td>0.0</td>\n",
              "      <td>0.0</td>\n",
              "      <td>0.0</td>\n",
              "      <td>0.0</td>\n",
              "      <td>0.0</td>\n",
              "      <td>0.0</td>\n",
              "    </tr>\n",
              "  </tbody>\n",
              "</table>\n",
              "<p>3883 rows × 21 columns</p>\n",
              "</div>"
            ],
            "text/plain": [
              "      movie_id                               title  \\\n",
              "0            1                    Toy Story (1995)   \n",
              "1            2                      Jumanji (1995)   \n",
              "2            3             Grumpier Old Men (1995)   \n",
              "3            4            Waiting to Exhale (1995)   \n",
              "4            5  Father of the Bride Part II (1995)   \n",
              "...        ...                                 ...   \n",
              "3878      3948             Meet the Parents (2000)   \n",
              "3879      3949          Requiem for a Dream (2000)   \n",
              "3880      3950                    Tigerland (2000)   \n",
              "3881      3951             Two Family House (2000)   \n",
              "3882      3952               Contender, The (2000)   \n",
              "\n",
              "                            genres  Genre_Animation  Genre_Children's  \\\n",
              "0      Animation|Children's|Comedy              1.0               1.0   \n",
              "1     Adventure|Children's|Fantasy              0.0               1.0   \n",
              "2                   Comedy|Romance              0.0               0.0   \n",
              "3                     Comedy|Drama              0.0               0.0   \n",
              "4                           Comedy              0.0               0.0   \n",
              "...                            ...              ...               ...   \n",
              "3878                        Comedy              0.0               0.0   \n",
              "3879                         Drama              0.0               0.0   \n",
              "3880                         Drama              0.0               0.0   \n",
              "3881                         Drama              0.0               0.0   \n",
              "3882                Drama|Thriller              0.0               0.0   \n",
              "\n",
              "      Genre_Comedy  Genre_Adventure  Genre_Fantasy  Genre_Romance  \\\n",
              "0              1.0              0.0            0.0            0.0   \n",
              "1              0.0              1.0            1.0            0.0   \n",
              "2              1.0              0.0            0.0            1.0   \n",
              "3              1.0              0.0            0.0            0.0   \n",
              "4              1.0              0.0            0.0            0.0   \n",
              "...            ...              ...            ...            ...   \n",
              "3878           1.0              0.0            0.0            0.0   \n",
              "3879           0.0              0.0            0.0            0.0   \n",
              "3880           0.0              0.0            0.0            0.0   \n",
              "3881           0.0              0.0            0.0            0.0   \n",
              "3882           0.0              0.0            0.0            0.0   \n",
              "\n",
              "      Genre_Drama  ...  Genre_Crime  Genre_Thriller  Genre_Horror  \\\n",
              "0             0.0  ...          0.0             0.0           0.0   \n",
              "1             0.0  ...          0.0             0.0           0.0   \n",
              "2             0.0  ...          0.0             0.0           0.0   \n",
              "3             1.0  ...          0.0             0.0           0.0   \n",
              "4             0.0  ...          0.0             0.0           0.0   \n",
              "...           ...  ...          ...             ...           ...   \n",
              "3878          0.0  ...          0.0             0.0           0.0   \n",
              "3879          1.0  ...          0.0             0.0           0.0   \n",
              "3880          1.0  ...          0.0             0.0           0.0   \n",
              "3881          1.0  ...          0.0             0.0           0.0   \n",
              "3882          1.0  ...          0.0             1.0           0.0   \n",
              "\n",
              "      Genre_Sci-Fi  Genre_Documentary  Genre_War  Genre_Musical  \\\n",
              "0              0.0                0.0        0.0            0.0   \n",
              "1              0.0                0.0        0.0            0.0   \n",
              "2              0.0                0.0        0.0            0.0   \n",
              "3              0.0                0.0        0.0            0.0   \n",
              "4              0.0                0.0        0.0            0.0   \n",
              "...            ...                ...        ...            ...   \n",
              "3878           0.0                0.0        0.0            0.0   \n",
              "3879           0.0                0.0        0.0            0.0   \n",
              "3880           0.0                0.0        0.0            0.0   \n",
              "3881           0.0                0.0        0.0            0.0   \n",
              "3882           0.0                0.0        0.0            0.0   \n",
              "\n",
              "      Genre_Mystery  Genre_Film-Noir  Genre_Western  \n",
              "0               0.0              0.0            0.0  \n",
              "1               0.0              0.0            0.0  \n",
              "2               0.0              0.0            0.0  \n",
              "3               0.0              0.0            0.0  \n",
              "4               0.0              0.0            0.0  \n",
              "...             ...              ...            ...  \n",
              "3878            0.0              0.0            0.0  \n",
              "3879            0.0              0.0            0.0  \n",
              "3880            0.0              0.0            0.0  \n",
              "3881            0.0              0.0            0.0  \n",
              "3882            0.0              0.0            0.0  \n",
              "\n",
              "[3883 rows x 21 columns]"
            ]
          },
          "metadata": {
            "tags": []
          },
          "execution_count": 111
        }
      ]
    },
    {
      "cell_type": "code",
      "metadata": {
        "id": "zhYxNfTeUbmk",
        "outputId": "47fb3fba-ef1c-42a8-8115-1119503eb0a4",
        "colab": {
          "base_uri": "https://localhost:8080/",
          "height": 203
        }
      },
      "source": [
        "pd.get_dummies(['man','woman','man','woman','woman'])\n"
      ],
      "execution_count": 66,
      "outputs": [
        {
          "output_type": "execute_result",
          "data": {
            "text/html": [
              "<div>\n",
              "<style scoped>\n",
              "    .dataframe tbody tr th:only-of-type {\n",
              "        vertical-align: middle;\n",
              "    }\n",
              "\n",
              "    .dataframe tbody tr th {\n",
              "        vertical-align: top;\n",
              "    }\n",
              "\n",
              "    .dataframe thead th {\n",
              "        text-align: right;\n",
              "    }\n",
              "</style>\n",
              "<table border=\"1\" class=\"dataframe\">\n",
              "  <thead>\n",
              "    <tr style=\"text-align: right;\">\n",
              "      <th></th>\n",
              "      <th>man</th>\n",
              "      <th>woman</th>\n",
              "    </tr>\n",
              "  </thead>\n",
              "  <tbody>\n",
              "    <tr>\n",
              "      <th>0</th>\n",
              "      <td>1</td>\n",
              "      <td>0</td>\n",
              "    </tr>\n",
              "    <tr>\n",
              "      <th>1</th>\n",
              "      <td>0</td>\n",
              "      <td>1</td>\n",
              "    </tr>\n",
              "    <tr>\n",
              "      <th>2</th>\n",
              "      <td>1</td>\n",
              "      <td>0</td>\n",
              "    </tr>\n",
              "    <tr>\n",
              "      <th>3</th>\n",
              "      <td>0</td>\n",
              "      <td>1</td>\n",
              "    </tr>\n",
              "    <tr>\n",
              "      <th>4</th>\n",
              "      <td>0</td>\n",
              "      <td>1</td>\n",
              "    </tr>\n",
              "  </tbody>\n",
              "</table>\n",
              "</div>"
            ],
            "text/plain": [
              "   man  woman\n",
              "0    1      0\n",
              "1    0      1\n",
              "2    1      0\n",
              "3    0      1\n",
              "4    0      1"
            ]
          },
          "metadata": {
            "tags": []
          },
          "execution_count": 66
        }
      ]
    },
    {
      "cell_type": "code",
      "metadata": {
        "id": "Wn8DyRVmVq0v",
        "outputId": "f81180c2-7e21-4ed4-9ce4-9c8fe86c0f8d",
        "colab": {
          "base_uri": "https://localhost:8080/"
        }
      },
      "source": [
        "pd.get_dummies(['man','woman','man','woman','woman'])['man'].sum()\n"
      ],
      "execution_count": 67,
      "outputs": [
        {
          "output_type": "execute_result",
          "data": {
            "text/plain": [
              "2"
            ]
          },
          "metadata": {
            "tags": []
          },
          "execution_count": 67
        }
      ]
    },
    {
      "cell_type": "code",
      "metadata": {
        "id": "pFqd5WMoVsJG"
      },
      "source": [
        ""
      ],
      "execution_count": null,
      "outputs": []
    },
    {
      "cell_type": "code",
      "metadata": {
        "id": "05vqfwO7-3T3",
        "outputId": "98bb1620-c31d-491d-9bf4-8373fbddd3bc"
      },
      "source": [
        "movies_windic.iloc[0]"
      ],
      "execution_count": null,
      "outputs": [
        {
          "output_type": "execute_result",
          "data": {
            "text/plain": [
              "movie_id                                      1\n",
              "title                          Toy Story (1995)\n",
              "genres              Animation|Children's|Comedy\n",
              "Genre_Animation                             1.0\n",
              "Genre_Children's                            1.0\n",
              "                               ...             \n",
              "Genre_War                                   0.0\n",
              "Genre_Musical                               0.0\n",
              "Genre_Mystery                               0.0\n",
              "Genre_Film-Noir                             0.0\n",
              "Genre_Western                               0.0\n",
              "Name: 0, Length: 21, dtype: object"
            ]
          },
          "metadata": {
            "tags": []
          },
          "execution_count": 112
        }
      ]
    },
    {
      "cell_type": "code",
      "metadata": {
        "id": "5f0rxUsS-3T3",
        "outputId": "a39bb079-4603-45ef-9cea-b1ec60316ed6"
      },
      "source": [
        "movies_windic.shape"
      ],
      "execution_count": null,
      "outputs": [
        {
          "output_type": "execute_result",
          "data": {
            "text/plain": [
              "(3883, 21)"
            ]
          },
          "metadata": {
            "tags": []
          },
          "execution_count": 113
        }
      ]
    },
    {
      "cell_type": "code",
      "metadata": {
        "id": "EYCCkFsL-3T3",
        "outputId": "9818b4a4-6ec0-4832-f189-149b881c0719"
      },
      "source": [
        "movies_windic.head()"
      ],
      "execution_count": null,
      "outputs": [
        {
          "output_type": "execute_result",
          "data": {
            "text/html": [
              "<div>\n",
              "<style scoped>\n",
              "    .dataframe tbody tr th:only-of-type {\n",
              "        vertical-align: middle;\n",
              "    }\n",
              "\n",
              "    .dataframe tbody tr th {\n",
              "        vertical-align: top;\n",
              "    }\n",
              "\n",
              "    .dataframe thead th {\n",
              "        text-align: right;\n",
              "    }\n",
              "</style>\n",
              "<table border=\"1\" class=\"dataframe\">\n",
              "  <thead>\n",
              "    <tr style=\"text-align: right;\">\n",
              "      <th></th>\n",
              "      <th>movie_id</th>\n",
              "      <th>title</th>\n",
              "      <th>genres</th>\n",
              "      <th>Genre_Animation</th>\n",
              "      <th>Genre_Children's</th>\n",
              "      <th>Genre_Comedy</th>\n",
              "      <th>Genre_Adventure</th>\n",
              "      <th>Genre_Fantasy</th>\n",
              "      <th>Genre_Romance</th>\n",
              "      <th>Genre_Drama</th>\n",
              "      <th>...</th>\n",
              "      <th>Genre_Crime</th>\n",
              "      <th>Genre_Thriller</th>\n",
              "      <th>Genre_Horror</th>\n",
              "      <th>Genre_Sci-Fi</th>\n",
              "      <th>Genre_Documentary</th>\n",
              "      <th>Genre_War</th>\n",
              "      <th>Genre_Musical</th>\n",
              "      <th>Genre_Mystery</th>\n",
              "      <th>Genre_Film-Noir</th>\n",
              "      <th>Genre_Western</th>\n",
              "    </tr>\n",
              "  </thead>\n",
              "  <tbody>\n",
              "    <tr>\n",
              "      <th>0</th>\n",
              "      <td>1</td>\n",
              "      <td>Toy Story (1995)</td>\n",
              "      <td>Animation|Children's|Comedy</td>\n",
              "      <td>1.0</td>\n",
              "      <td>1.0</td>\n",
              "      <td>1.0</td>\n",
              "      <td>0.0</td>\n",
              "      <td>0.0</td>\n",
              "      <td>0.0</td>\n",
              "      <td>0.0</td>\n",
              "      <td>...</td>\n",
              "      <td>0.0</td>\n",
              "      <td>0.0</td>\n",
              "      <td>0.0</td>\n",
              "      <td>0.0</td>\n",
              "      <td>0.0</td>\n",
              "      <td>0.0</td>\n",
              "      <td>0.0</td>\n",
              "      <td>0.0</td>\n",
              "      <td>0.0</td>\n",
              "      <td>0.0</td>\n",
              "    </tr>\n",
              "    <tr>\n",
              "      <th>1</th>\n",
              "      <td>2</td>\n",
              "      <td>Jumanji (1995)</td>\n",
              "      <td>Adventure|Children's|Fantasy</td>\n",
              "      <td>0.0</td>\n",
              "      <td>1.0</td>\n",
              "      <td>0.0</td>\n",
              "      <td>1.0</td>\n",
              "      <td>1.0</td>\n",
              "      <td>0.0</td>\n",
              "      <td>0.0</td>\n",
              "      <td>...</td>\n",
              "      <td>0.0</td>\n",
              "      <td>0.0</td>\n",
              "      <td>0.0</td>\n",
              "      <td>0.0</td>\n",
              "      <td>0.0</td>\n",
              "      <td>0.0</td>\n",
              "      <td>0.0</td>\n",
              "      <td>0.0</td>\n",
              "      <td>0.0</td>\n",
              "      <td>0.0</td>\n",
              "    </tr>\n",
              "    <tr>\n",
              "      <th>2</th>\n",
              "      <td>3</td>\n",
              "      <td>Grumpier Old Men (1995)</td>\n",
              "      <td>Comedy|Romance</td>\n",
              "      <td>0.0</td>\n",
              "      <td>0.0</td>\n",
              "      <td>1.0</td>\n",
              "      <td>0.0</td>\n",
              "      <td>0.0</td>\n",
              "      <td>1.0</td>\n",
              "      <td>0.0</td>\n",
              "      <td>...</td>\n",
              "      <td>0.0</td>\n",
              "      <td>0.0</td>\n",
              "      <td>0.0</td>\n",
              "      <td>0.0</td>\n",
              "      <td>0.0</td>\n",
              "      <td>0.0</td>\n",
              "      <td>0.0</td>\n",
              "      <td>0.0</td>\n",
              "      <td>0.0</td>\n",
              "      <td>0.0</td>\n",
              "    </tr>\n",
              "    <tr>\n",
              "      <th>3</th>\n",
              "      <td>4</td>\n",
              "      <td>Waiting to Exhale (1995)</td>\n",
              "      <td>Comedy|Drama</td>\n",
              "      <td>0.0</td>\n",
              "      <td>0.0</td>\n",
              "      <td>1.0</td>\n",
              "      <td>0.0</td>\n",
              "      <td>0.0</td>\n",
              "      <td>0.0</td>\n",
              "      <td>1.0</td>\n",
              "      <td>...</td>\n",
              "      <td>0.0</td>\n",
              "      <td>0.0</td>\n",
              "      <td>0.0</td>\n",
              "      <td>0.0</td>\n",
              "      <td>0.0</td>\n",
              "      <td>0.0</td>\n",
              "      <td>0.0</td>\n",
              "      <td>0.0</td>\n",
              "      <td>0.0</td>\n",
              "      <td>0.0</td>\n",
              "    </tr>\n",
              "    <tr>\n",
              "      <th>4</th>\n",
              "      <td>5</td>\n",
              "      <td>Father of the Bride Part II (1995)</td>\n",
              "      <td>Comedy</td>\n",
              "      <td>0.0</td>\n",
              "      <td>0.0</td>\n",
              "      <td>1.0</td>\n",
              "      <td>0.0</td>\n",
              "      <td>0.0</td>\n",
              "      <td>0.0</td>\n",
              "      <td>0.0</td>\n",
              "      <td>...</td>\n",
              "      <td>0.0</td>\n",
              "      <td>0.0</td>\n",
              "      <td>0.0</td>\n",
              "      <td>0.0</td>\n",
              "      <td>0.0</td>\n",
              "      <td>0.0</td>\n",
              "      <td>0.0</td>\n",
              "      <td>0.0</td>\n",
              "      <td>0.0</td>\n",
              "      <td>0.0</td>\n",
              "    </tr>\n",
              "  </tbody>\n",
              "</table>\n",
              "<p>5 rows × 21 columns</p>\n",
              "</div>"
            ],
            "text/plain": [
              "   movie_id                               title                        genres  \\\n",
              "0         1                    Toy Story (1995)   Animation|Children's|Comedy   \n",
              "1         2                      Jumanji (1995)  Adventure|Children's|Fantasy   \n",
              "2         3             Grumpier Old Men (1995)                Comedy|Romance   \n",
              "3         4            Waiting to Exhale (1995)                  Comedy|Drama   \n",
              "4         5  Father of the Bride Part II (1995)                        Comedy   \n",
              "\n",
              "   Genre_Animation  Genre_Children's  Genre_Comedy  Genre_Adventure  \\\n",
              "0              1.0               1.0           1.0              0.0   \n",
              "1              0.0               1.0           0.0              1.0   \n",
              "2              0.0               0.0           1.0              0.0   \n",
              "3              0.0               0.0           1.0              0.0   \n",
              "4              0.0               0.0           1.0              0.0   \n",
              "\n",
              "   Genre_Fantasy  Genre_Romance  Genre_Drama  ...  Genre_Crime  \\\n",
              "0            0.0            0.0          0.0  ...          0.0   \n",
              "1            1.0            0.0          0.0  ...          0.0   \n",
              "2            0.0            1.0          0.0  ...          0.0   \n",
              "3            0.0            0.0          1.0  ...          0.0   \n",
              "4            0.0            0.0          0.0  ...          0.0   \n",
              "\n",
              "   Genre_Thriller  Genre_Horror  Genre_Sci-Fi  Genre_Documentary  Genre_War  \\\n",
              "0             0.0           0.0           0.0                0.0        0.0   \n",
              "1             0.0           0.0           0.0                0.0        0.0   \n",
              "2             0.0           0.0           0.0                0.0        0.0   \n",
              "3             0.0           0.0           0.0                0.0        0.0   \n",
              "4             0.0           0.0           0.0                0.0        0.0   \n",
              "\n",
              "   Genre_Musical  Genre_Mystery  Genre_Film-Noir  Genre_Western  \n",
              "0            0.0            0.0              0.0            0.0  \n",
              "1            0.0            0.0              0.0            0.0  \n",
              "2            0.0            0.0              0.0            0.0  \n",
              "3            0.0            0.0              0.0            0.0  \n",
              "4            0.0            0.0              0.0            0.0  \n",
              "\n",
              "[5 rows x 21 columns]"
            ]
          },
          "metadata": {
            "tags": []
          },
          "execution_count": 114
        }
      ]
    },
    {
      "cell_type": "code",
      "metadata": {
        "id": "DhN07CIh-3T4",
        "outputId": "2898f774-8cb9-49cb-832d-8905174ad883"
      },
      "source": [
        "np.random.seed(12345)\n",
        "values = np.random.rand(10)\n",
        "values"
      ],
      "execution_count": null,
      "outputs": [
        {
          "output_type": "execute_result",
          "data": {
            "text/plain": [
              "array([0.9296, 0.3164, 0.1839, 0.2046, 0.5677, 0.5955, 0.9645, 0.6532,\n",
              "       0.7489, 0.6536])"
            ]
          },
          "metadata": {
            "tags": []
          },
          "execution_count": 115
        }
      ]
    },
    {
      "cell_type": "code",
      "metadata": {
        "id": "ndsHeUh4-3T4",
        "outputId": "195ea98d-7e5a-475b-b493-2c86115e265d"
      },
      "source": [
        "bins = [0, 0.2, 0.4, 0.6, 0.8, 1]\n",
        "pd.cut(values, bins)"
      ],
      "execution_count": null,
      "outputs": [
        {
          "output_type": "execute_result",
          "data": {
            "text/plain": [
              "[(0.8, 1.0], (0.2, 0.4], (0.0, 0.2], (0.2, 0.4], (0.4, 0.6], (0.4, 0.6], (0.8, 1.0], (0.6, 0.8], (0.6, 0.8], (0.6, 0.8]]\n",
              "Categories (5, interval[float64]): [(0.0, 0.2] < (0.2, 0.4] < (0.4, 0.6] < (0.6, 0.8] < (0.8, 1.0]]"
            ]
          },
          "metadata": {
            "tags": []
          },
          "execution_count": 116
        }
      ]
    },
    {
      "cell_type": "code",
      "metadata": {
        "id": "32RZjtYP-3T4",
        "outputId": "9ee21607-56ea-4ac8-eb5c-4320a6431aba"
      },
      "source": [
        "pd.get_dummies(pd.cut(values, bins))"
      ],
      "execution_count": null,
      "outputs": [
        {
          "output_type": "execute_result",
          "data": {
            "text/html": [
              "<div>\n",
              "<style scoped>\n",
              "    .dataframe tbody tr th:only-of-type {\n",
              "        vertical-align: middle;\n",
              "    }\n",
              "\n",
              "    .dataframe tbody tr th {\n",
              "        vertical-align: top;\n",
              "    }\n",
              "\n",
              "    .dataframe thead th {\n",
              "        text-align: right;\n",
              "    }\n",
              "</style>\n",
              "<table border=\"1\" class=\"dataframe\">\n",
              "  <thead>\n",
              "    <tr style=\"text-align: right;\">\n",
              "      <th></th>\n",
              "      <th>(0.0, 0.2]</th>\n",
              "      <th>(0.2, 0.4]</th>\n",
              "      <th>(0.4, 0.6]</th>\n",
              "      <th>(0.6, 0.8]</th>\n",
              "      <th>(0.8, 1.0]</th>\n",
              "    </tr>\n",
              "  </thead>\n",
              "  <tbody>\n",
              "    <tr>\n",
              "      <th>0</th>\n",
              "      <td>0</td>\n",
              "      <td>0</td>\n",
              "      <td>0</td>\n",
              "      <td>0</td>\n",
              "      <td>1</td>\n",
              "    </tr>\n",
              "    <tr>\n",
              "      <th>1</th>\n",
              "      <td>0</td>\n",
              "      <td>1</td>\n",
              "      <td>0</td>\n",
              "      <td>0</td>\n",
              "      <td>0</td>\n",
              "    </tr>\n",
              "    <tr>\n",
              "      <th>2</th>\n",
              "      <td>1</td>\n",
              "      <td>0</td>\n",
              "      <td>0</td>\n",
              "      <td>0</td>\n",
              "      <td>0</td>\n",
              "    </tr>\n",
              "    <tr>\n",
              "      <th>3</th>\n",
              "      <td>0</td>\n",
              "      <td>1</td>\n",
              "      <td>0</td>\n",
              "      <td>0</td>\n",
              "      <td>0</td>\n",
              "    </tr>\n",
              "    <tr>\n",
              "      <th>4</th>\n",
              "      <td>0</td>\n",
              "      <td>0</td>\n",
              "      <td>1</td>\n",
              "      <td>0</td>\n",
              "      <td>0</td>\n",
              "    </tr>\n",
              "    <tr>\n",
              "      <th>5</th>\n",
              "      <td>0</td>\n",
              "      <td>0</td>\n",
              "      <td>1</td>\n",
              "      <td>0</td>\n",
              "      <td>0</td>\n",
              "    </tr>\n",
              "    <tr>\n",
              "      <th>6</th>\n",
              "      <td>0</td>\n",
              "      <td>0</td>\n",
              "      <td>0</td>\n",
              "      <td>0</td>\n",
              "      <td>1</td>\n",
              "    </tr>\n",
              "    <tr>\n",
              "      <th>7</th>\n",
              "      <td>0</td>\n",
              "      <td>0</td>\n",
              "      <td>0</td>\n",
              "      <td>1</td>\n",
              "      <td>0</td>\n",
              "    </tr>\n",
              "    <tr>\n",
              "      <th>8</th>\n",
              "      <td>0</td>\n",
              "      <td>0</td>\n",
              "      <td>0</td>\n",
              "      <td>1</td>\n",
              "      <td>0</td>\n",
              "    </tr>\n",
              "    <tr>\n",
              "      <th>9</th>\n",
              "      <td>0</td>\n",
              "      <td>0</td>\n",
              "      <td>0</td>\n",
              "      <td>1</td>\n",
              "      <td>0</td>\n",
              "    </tr>\n",
              "  </tbody>\n",
              "</table>\n",
              "</div>"
            ],
            "text/plain": [
              "   (0.0, 0.2]  (0.2, 0.4]  (0.4, 0.6]  (0.6, 0.8]  (0.8, 1.0]\n",
              "0           0           0           0           0           1\n",
              "1           0           1           0           0           0\n",
              "2           1           0           0           0           0\n",
              "3           0           1           0           0           0\n",
              "4           0           0           1           0           0\n",
              "5           0           0           1           0           0\n",
              "6           0           0           0           0           1\n",
              "7           0           0           0           1           0\n",
              "8           0           0           0           1           0\n",
              "9           0           0           0           1           0"
            ]
          },
          "metadata": {
            "tags": []
          },
          "execution_count": 117
        }
      ]
    },
    {
      "cell_type": "code",
      "metadata": {
        "id": "qofpOVl8-3T4",
        "outputId": "023a5678-a265-4148-9d34-70b38dc7deff"
      },
      "source": [
        "pd.concat([pd.Series(values), pd.get_dummies(pd.cut(values, bins))], axis=1)"
      ],
      "execution_count": null,
      "outputs": [
        {
          "output_type": "execute_result",
          "data": {
            "text/html": [
              "<div>\n",
              "<style scoped>\n",
              "    .dataframe tbody tr th:only-of-type {\n",
              "        vertical-align: middle;\n",
              "    }\n",
              "\n",
              "    .dataframe tbody tr th {\n",
              "        vertical-align: top;\n",
              "    }\n",
              "\n",
              "    .dataframe thead th {\n",
              "        text-align: right;\n",
              "    }\n",
              "</style>\n",
              "<table border=\"1\" class=\"dataframe\">\n",
              "  <thead>\n",
              "    <tr style=\"text-align: right;\">\n",
              "      <th></th>\n",
              "      <th>0</th>\n",
              "      <th>(0.0, 0.2]</th>\n",
              "      <th>(0.2, 0.4]</th>\n",
              "      <th>(0.4, 0.6]</th>\n",
              "      <th>(0.6, 0.8]</th>\n",
              "      <th>(0.8, 1.0]</th>\n",
              "    </tr>\n",
              "  </thead>\n",
              "  <tbody>\n",
              "    <tr>\n",
              "      <th>0</th>\n",
              "      <td>0.929616</td>\n",
              "      <td>0</td>\n",
              "      <td>0</td>\n",
              "      <td>0</td>\n",
              "      <td>0</td>\n",
              "      <td>1</td>\n",
              "    </tr>\n",
              "    <tr>\n",
              "      <th>1</th>\n",
              "      <td>0.316376</td>\n",
              "      <td>0</td>\n",
              "      <td>1</td>\n",
              "      <td>0</td>\n",
              "      <td>0</td>\n",
              "      <td>0</td>\n",
              "    </tr>\n",
              "    <tr>\n",
              "      <th>2</th>\n",
              "      <td>0.183919</td>\n",
              "      <td>1</td>\n",
              "      <td>0</td>\n",
              "      <td>0</td>\n",
              "      <td>0</td>\n",
              "      <td>0</td>\n",
              "    </tr>\n",
              "    <tr>\n",
              "      <th>3</th>\n",
              "      <td>0.204560</td>\n",
              "      <td>0</td>\n",
              "      <td>1</td>\n",
              "      <td>0</td>\n",
              "      <td>0</td>\n",
              "      <td>0</td>\n",
              "    </tr>\n",
              "    <tr>\n",
              "      <th>4</th>\n",
              "      <td>0.567725</td>\n",
              "      <td>0</td>\n",
              "      <td>0</td>\n",
              "      <td>1</td>\n",
              "      <td>0</td>\n",
              "      <td>0</td>\n",
              "    </tr>\n",
              "    <tr>\n",
              "      <th>5</th>\n",
              "      <td>0.595545</td>\n",
              "      <td>0</td>\n",
              "      <td>0</td>\n",
              "      <td>1</td>\n",
              "      <td>0</td>\n",
              "      <td>0</td>\n",
              "    </tr>\n",
              "    <tr>\n",
              "      <th>6</th>\n",
              "      <td>0.964515</td>\n",
              "      <td>0</td>\n",
              "      <td>0</td>\n",
              "      <td>0</td>\n",
              "      <td>0</td>\n",
              "      <td>1</td>\n",
              "    </tr>\n",
              "    <tr>\n",
              "      <th>7</th>\n",
              "      <td>0.653177</td>\n",
              "      <td>0</td>\n",
              "      <td>0</td>\n",
              "      <td>0</td>\n",
              "      <td>1</td>\n",
              "      <td>0</td>\n",
              "    </tr>\n",
              "    <tr>\n",
              "      <th>8</th>\n",
              "      <td>0.748907</td>\n",
              "      <td>0</td>\n",
              "      <td>0</td>\n",
              "      <td>0</td>\n",
              "      <td>1</td>\n",
              "      <td>0</td>\n",
              "    </tr>\n",
              "    <tr>\n",
              "      <th>9</th>\n",
              "      <td>0.653570</td>\n",
              "      <td>0</td>\n",
              "      <td>0</td>\n",
              "      <td>0</td>\n",
              "      <td>1</td>\n",
              "      <td>0</td>\n",
              "    </tr>\n",
              "  </tbody>\n",
              "</table>\n",
              "</div>"
            ],
            "text/plain": [
              "          0  (0.0, 0.2]  (0.2, 0.4]  (0.4, 0.6]  (0.6, 0.8]  (0.8, 1.0]\n",
              "0  0.929616           0           0           0           0           1\n",
              "1  0.316376           0           1           0           0           0\n",
              "2  0.183919           1           0           0           0           0\n",
              "3  0.204560           0           1           0           0           0\n",
              "4  0.567725           0           0           1           0           0\n",
              "5  0.595545           0           0           1           0           0\n",
              "6  0.964515           0           0           0           0           1\n",
              "7  0.653177           0           0           0           1           0\n",
              "8  0.748907           0           0           0           1           0\n",
              "9  0.653570           0           0           0           1           0"
            ]
          },
          "metadata": {
            "tags": []
          },
          "execution_count": 118
        }
      ]
    },
    {
      "cell_type": "code",
      "metadata": {
        "id": "3NArsFVN-3T4",
        "outputId": "df5fba39-899b-4b5d-c2d5-6161ab09f22c"
      },
      "source": [
        "pd.DataFrame(values).join(pd.get_dummies(pd.cut(values, bins)))"
      ],
      "execution_count": null,
      "outputs": [
        {
          "output_type": "execute_result",
          "data": {
            "text/html": [
              "<div>\n",
              "<style scoped>\n",
              "    .dataframe tbody tr th:only-of-type {\n",
              "        vertical-align: middle;\n",
              "    }\n",
              "\n",
              "    .dataframe tbody tr th {\n",
              "        vertical-align: top;\n",
              "    }\n",
              "\n",
              "    .dataframe thead th {\n",
              "        text-align: right;\n",
              "    }\n",
              "</style>\n",
              "<table border=\"1\" class=\"dataframe\">\n",
              "  <thead>\n",
              "    <tr style=\"text-align: right;\">\n",
              "      <th></th>\n",
              "      <th>0</th>\n",
              "      <th>(0.0, 0.2]</th>\n",
              "      <th>(0.2, 0.4]</th>\n",
              "      <th>(0.4, 0.6]</th>\n",
              "      <th>(0.6, 0.8]</th>\n",
              "      <th>(0.8, 1.0]</th>\n",
              "    </tr>\n",
              "  </thead>\n",
              "  <tbody>\n",
              "    <tr>\n",
              "      <th>0</th>\n",
              "      <td>0.929616</td>\n",
              "      <td>0</td>\n",
              "      <td>0</td>\n",
              "      <td>0</td>\n",
              "      <td>0</td>\n",
              "      <td>1</td>\n",
              "    </tr>\n",
              "    <tr>\n",
              "      <th>1</th>\n",
              "      <td>0.316376</td>\n",
              "      <td>0</td>\n",
              "      <td>1</td>\n",
              "      <td>0</td>\n",
              "      <td>0</td>\n",
              "      <td>0</td>\n",
              "    </tr>\n",
              "    <tr>\n",
              "      <th>2</th>\n",
              "      <td>0.183919</td>\n",
              "      <td>1</td>\n",
              "      <td>0</td>\n",
              "      <td>0</td>\n",
              "      <td>0</td>\n",
              "      <td>0</td>\n",
              "    </tr>\n",
              "    <tr>\n",
              "      <th>3</th>\n",
              "      <td>0.204560</td>\n",
              "      <td>0</td>\n",
              "      <td>1</td>\n",
              "      <td>0</td>\n",
              "      <td>0</td>\n",
              "      <td>0</td>\n",
              "    </tr>\n",
              "    <tr>\n",
              "      <th>4</th>\n",
              "      <td>0.567725</td>\n",
              "      <td>0</td>\n",
              "      <td>0</td>\n",
              "      <td>1</td>\n",
              "      <td>0</td>\n",
              "      <td>0</td>\n",
              "    </tr>\n",
              "    <tr>\n",
              "      <th>5</th>\n",
              "      <td>0.595545</td>\n",
              "      <td>0</td>\n",
              "      <td>0</td>\n",
              "      <td>1</td>\n",
              "      <td>0</td>\n",
              "      <td>0</td>\n",
              "    </tr>\n",
              "    <tr>\n",
              "      <th>6</th>\n",
              "      <td>0.964515</td>\n",
              "      <td>0</td>\n",
              "      <td>0</td>\n",
              "      <td>0</td>\n",
              "      <td>0</td>\n",
              "      <td>1</td>\n",
              "    </tr>\n",
              "    <tr>\n",
              "      <th>7</th>\n",
              "      <td>0.653177</td>\n",
              "      <td>0</td>\n",
              "      <td>0</td>\n",
              "      <td>0</td>\n",
              "      <td>1</td>\n",
              "      <td>0</td>\n",
              "    </tr>\n",
              "    <tr>\n",
              "      <th>8</th>\n",
              "      <td>0.748907</td>\n",
              "      <td>0</td>\n",
              "      <td>0</td>\n",
              "      <td>0</td>\n",
              "      <td>1</td>\n",
              "      <td>0</td>\n",
              "    </tr>\n",
              "    <tr>\n",
              "      <th>9</th>\n",
              "      <td>0.653570</td>\n",
              "      <td>0</td>\n",
              "      <td>0</td>\n",
              "      <td>0</td>\n",
              "      <td>1</td>\n",
              "      <td>0</td>\n",
              "    </tr>\n",
              "  </tbody>\n",
              "</table>\n",
              "</div>"
            ],
            "text/plain": [
              "          0  (0.0, 0.2]  (0.2, 0.4]  (0.4, 0.6]  (0.6, 0.8]  (0.8, 1.0]\n",
              "0  0.929616           0           0           0           0           1\n",
              "1  0.316376           0           1           0           0           0\n",
              "2  0.183919           1           0           0           0           0\n",
              "3  0.204560           0           1           0           0           0\n",
              "4  0.567725           0           0           1           0           0\n",
              "5  0.595545           0           0           1           0           0\n",
              "6  0.964515           0           0           0           0           1\n",
              "7  0.653177           0           0           0           1           0\n",
              "8  0.748907           0           0           0           1           0\n",
              "9  0.653570           0           0           0           1           0"
            ]
          },
          "metadata": {
            "tags": []
          },
          "execution_count": 119
        }
      ]
    },
    {
      "cell_type": "markdown",
      "metadata": {
        "id": "oJxPb0Ea-3T5"
      },
      "source": [
        "### 문제"
      ]
    },
    {
      "cell_type": "code",
      "metadata": {
        "id": "9CSHHGHz-3T5",
        "outputId": "5b472e83-fb19-4881-b13c-0fc944f7331d"
      },
      "source": [
        "['man', 'waman', 'man', 'waman', 'waman']"
      ],
      "execution_count": null,
      "outputs": [
        {
          "output_type": "execute_result",
          "data": {
            "text/plain": [
              "['man', 'waman', 'man', 'waman', 'waman']"
            ]
          },
          "metadata": {
            "tags": []
          },
          "execution_count": 7
        }
      ]
    },
    {
      "cell_type": "code",
      "metadata": {
        "id": "xIBSEsUb-3T5",
        "outputId": "ea6216c4-8208-43d3-a6ec-f68a79779087"
      },
      "source": [
        "pd.get_dummies(['man', 'woman', 'man', 'woman', 'woman'])"
      ],
      "execution_count": null,
      "outputs": [
        {
          "output_type": "execute_result",
          "data": {
            "text/html": [
              "<div>\n",
              "<style scoped>\n",
              "    .dataframe tbody tr th:only-of-type {\n",
              "        vertical-align: middle;\n",
              "    }\n",
              "\n",
              "    .dataframe tbody tr th {\n",
              "        vertical-align: top;\n",
              "    }\n",
              "\n",
              "    .dataframe thead th {\n",
              "        text-align: right;\n",
              "    }\n",
              "</style>\n",
              "<table border=\"1\" class=\"dataframe\">\n",
              "  <thead>\n",
              "    <tr style=\"text-align: right;\">\n",
              "      <th></th>\n",
              "      <th>man</th>\n",
              "      <th>woman</th>\n",
              "    </tr>\n",
              "  </thead>\n",
              "  <tbody>\n",
              "    <tr>\n",
              "      <th>0</th>\n",
              "      <td>1</td>\n",
              "      <td>0</td>\n",
              "    </tr>\n",
              "    <tr>\n",
              "      <th>1</th>\n",
              "      <td>0</td>\n",
              "      <td>1</td>\n",
              "    </tr>\n",
              "    <tr>\n",
              "      <th>2</th>\n",
              "      <td>1</td>\n",
              "      <td>0</td>\n",
              "    </tr>\n",
              "    <tr>\n",
              "      <th>3</th>\n",
              "      <td>0</td>\n",
              "      <td>1</td>\n",
              "    </tr>\n",
              "    <tr>\n",
              "      <th>4</th>\n",
              "      <td>0</td>\n",
              "      <td>1</td>\n",
              "    </tr>\n",
              "  </tbody>\n",
              "</table>\n",
              "</div>"
            ],
            "text/plain": [
              "   man  woman\n",
              "0    1      0\n",
              "1    0      1\n",
              "2    1      0\n",
              "3    0      1\n",
              "4    0      1"
            ]
          },
          "metadata": {
            "tags": []
          },
          "execution_count": 9
        }
      ]
    },
    {
      "cell_type": "code",
      "metadata": {
        "id": "QSvn-7V5-3T5",
        "outputId": "e53075a5-68f1-47b0-a1cf-f3b3a4a71df3"
      },
      "source": [
        "pd.get_dummies(['man', 'woman', 'man', 'woman', 'woman'])['woman'].sum()"
      ],
      "execution_count": null,
      "outputs": [
        {
          "output_type": "execute_result",
          "data": {
            "text/plain": [
              "3"
            ]
          },
          "metadata": {
            "tags": []
          },
          "execution_count": 11
        }
      ]
    },
    {
      "cell_type": "code",
      "metadata": {
        "id": "iIV-WsFS-3T5"
      },
      "source": [
        ""
      ],
      "execution_count": null,
      "outputs": []
    },
    {
      "cell_type": "code",
      "metadata": {
        "id": "eabaRESI-3T5",
        "outputId": "e797c319-ccf8-44dd-e8f7-c435b4883bb2"
      },
      "source": [
        "index.take(pd.Index(['c', 'a', 'b', 'd']).get_indexer(['a', 'b', 'c']))"
      ],
      "execution_count": null,
      "outputs": [
        {
          "output_type": "execute_result",
          "data": {
            "text/plain": [
              "Index(['a', 'b', 'c'], dtype='object')"
            ]
          },
          "metadata": {
            "tags": []
          },
          "execution_count": 121
        }
      ]
    },
    {
      "cell_type": "code",
      "metadata": {
        "id": "4YZs6-ld-3T6"
      },
      "source": [
        ""
      ],
      "execution_count": null,
      "outputs": []
    },
    {
      "cell_type": "code",
      "metadata": {
        "id": "vC3PHY2b-3T6"
      },
      "source": [
        ""
      ],
      "execution_count": null,
      "outputs": []
    },
    {
      "cell_type": "code",
      "metadata": {
        "id": "lkxqHQRy-3T6"
      },
      "source": [
        ""
      ],
      "execution_count": null,
      "outputs": []
    },
    {
      "cell_type": "code",
      "metadata": {
        "id": "pKpcNcUN-3T6"
      },
      "source": [
        ""
      ],
      "execution_count": null,
      "outputs": []
    },
    {
      "cell_type": "markdown",
      "metadata": {
        "id": "HnNzfOPL-3T6"
      },
      "source": [
        "## String Manipulation"
      ]
    },
    {
      "cell_type": "markdown",
      "metadata": {
        "id": "J-gH4YdR-3T6"
      },
      "source": [
        "### String Object Methods"
      ]
    },
    {
      "cell_type": "code",
      "metadata": {
        "id": "OSdRfGEk-3T6",
        "outputId": "9630b55e-1921-4e38-b297-136ae74692c7"
      },
      "source": [
        "val = 'a,b,  guido'\n",
        "val.split(',')"
      ],
      "execution_count": null,
      "outputs": [
        {
          "output_type": "execute_result",
          "data": {
            "text/plain": [
              "['a', 'b', '  guido']"
            ]
          },
          "metadata": {
            "tags": []
          },
          "execution_count": 147
        }
      ]
    },
    {
      "cell_type": "code",
      "metadata": {
        "id": "Spd5aZOL-3T6",
        "outputId": "fc88657f-2ccb-4a93-ba9c-66bf862bd944"
      },
      "source": [
        "pieces = [x.strip() for x in val.split(',')]\n",
        "pieces"
      ],
      "execution_count": null,
      "outputs": [
        {
          "output_type": "execute_result",
          "data": {
            "text/plain": [
              "['a', 'b', 'guido']"
            ]
          },
          "metadata": {
            "tags": []
          },
          "execution_count": 148
        }
      ]
    },
    {
      "cell_type": "code",
      "metadata": {
        "id": "HXY9n2gg-3T7",
        "outputId": "4aa7d515-46af-4c84-ccf3-b229c22cad6f"
      },
      "source": [
        "first, second, third = pieces\n",
        "first + '::' + second + '::' + third"
      ],
      "execution_count": null,
      "outputs": [
        {
          "output_type": "execute_result",
          "data": {
            "text/plain": [
              "'a::b::guido'"
            ]
          },
          "metadata": {
            "tags": []
          },
          "execution_count": 149
        }
      ]
    },
    {
      "cell_type": "code",
      "metadata": {
        "id": "G1xVaiB--3T7",
        "outputId": "6e180931-331a-4a69-a060-bdd1b6d75ab3"
      },
      "source": [
        "'::'.join(pieces)"
      ],
      "execution_count": null,
      "outputs": [
        {
          "output_type": "execute_result",
          "data": {
            "text/plain": [
              "'a::b::guido'"
            ]
          },
          "metadata": {
            "tags": []
          },
          "execution_count": 154
        }
      ]
    },
    {
      "cell_type": "code",
      "metadata": {
        "id": "gaS0crWJ-3T7",
        "outputId": "c35368b1-d2dd-4d0e-f324-cce9cd8b0d0d"
      },
      "source": [
        "val"
      ],
      "execution_count": null,
      "outputs": [
        {
          "output_type": "execute_result",
          "data": {
            "text/plain": [
              "'a,b,  guido'"
            ]
          },
          "metadata": {
            "tags": []
          },
          "execution_count": 155
        }
      ]
    },
    {
      "cell_type": "code",
      "metadata": {
        "id": "Y7KVv2BG-3T7",
        "outputId": "df21364c-c063-4dbf-8fad-7aaefc22dc8e"
      },
      "source": [
        "'guido' in val"
      ],
      "execution_count": null,
      "outputs": [
        {
          "output_type": "execute_result",
          "data": {
            "text/plain": [
              "True"
            ]
          },
          "metadata": {
            "tags": []
          },
          "execution_count": 156
        }
      ]
    },
    {
      "cell_type": "code",
      "metadata": {
        "id": "VFj_qD9L-3T7",
        "outputId": "654efa21-7039-40ce-8db9-731a8fb20896"
      },
      "source": [
        "val.index(',')"
      ],
      "execution_count": null,
      "outputs": [
        {
          "output_type": "execute_result",
          "data": {
            "text/plain": [
              "1"
            ]
          },
          "metadata": {
            "tags": []
          },
          "execution_count": 159
        }
      ]
    },
    {
      "cell_type": "code",
      "metadata": {
        "id": "L6agP8hN-3T7",
        "outputId": "0121f42d-3194-47eb-c0c9-61a682147ebc"
      },
      "source": [
        "val.find(':')"
      ],
      "execution_count": null,
      "outputs": [
        {
          "output_type": "execute_result",
          "data": {
            "text/plain": [
              "-1"
            ]
          },
          "metadata": {
            "tags": []
          },
          "execution_count": 162
        }
      ]
    },
    {
      "cell_type": "code",
      "metadata": {
        "id": "6aNFpijh-3T8"
      },
      "source": [
        "#val.index(':') #오류"
      ],
      "execution_count": null,
      "outputs": []
    },
    {
      "cell_type": "code",
      "metadata": {
        "id": "Bmk4aqX--3T8",
        "outputId": "1239af12-d222-457c-e4cc-67990e9ad699"
      },
      "source": [
        "val.count(',')"
      ],
      "execution_count": null,
      "outputs": [
        {
          "output_type": "execute_result",
          "data": {
            "text/plain": [
              "2"
            ]
          },
          "metadata": {
            "tags": []
          },
          "execution_count": 163
        }
      ]
    },
    {
      "cell_type": "code",
      "metadata": {
        "id": "uTFQNXnf-3T8",
        "outputId": "6d266c60-43d9-49f1-c346-26a14def1670"
      },
      "source": [
        "val.replace(',', '::')"
      ],
      "execution_count": null,
      "outputs": [
        {
          "output_type": "execute_result",
          "data": {
            "text/plain": [
              "'a::b::  guido'"
            ]
          },
          "metadata": {
            "tags": []
          },
          "execution_count": 164
        }
      ]
    },
    {
      "cell_type": "code",
      "metadata": {
        "id": "xNnXqibr-3T8",
        "outputId": "44fb2148-81a8-4234-fdda-1acbfbb2cf55"
      },
      "source": [
        "val.replace(',', '') "
      ],
      "execution_count": null,
      "outputs": [
        {
          "output_type": "execute_result",
          "data": {
            "text/plain": [
              "'ab  guido'"
            ]
          },
          "metadata": {
            "tags": []
          },
          "execution_count": 168
        }
      ]
    },
    {
      "cell_type": "code",
      "metadata": {
        "id": "5GapyB2X-3T8",
        "outputId": "5fa66d1d-7aab-4123-aeb8-08dfb1096652"
      },
      "source": [
        "val.replace(' ', '') "
      ],
      "execution_count": null,
      "outputs": [
        {
          "output_type": "execute_result",
          "data": {
            "text/plain": [
              "'a,b,guido'"
            ]
          },
          "metadata": {
            "tags": []
          },
          "execution_count": 169
        }
      ]
    },
    {
      "cell_type": "code",
      "metadata": {
        "id": "U_u1KOtb-3T9",
        "outputId": "201db412-2877-4c49-86a3-02d18fa1aef6"
      },
      "source": [
        "val"
      ],
      "execution_count": null,
      "outputs": [
        {
          "output_type": "execute_result",
          "data": {
            "text/plain": [
              "'a,b,  guido'"
            ]
          },
          "metadata": {
            "tags": []
          },
          "execution_count": 170
        }
      ]
    },
    {
      "cell_type": "code",
      "metadata": {
        "id": "SKykQmEf-3T9",
        "outputId": "fd5f417f-807e-4464-e27e-fd80eb8b6c63"
      },
      "source": [
        "s = 'ABC abc'\n",
        "s.casefold()"
      ],
      "execution_count": null,
      "outputs": [
        {
          "output_type": "execute_result",
          "data": {
            "text/plain": [
              "'abc abc'"
            ]
          },
          "metadata": {
            "tags": []
          },
          "execution_count": 171
        }
      ]
    },
    {
      "cell_type": "code",
      "metadata": {
        "id": "Max3yjE3-3T9",
        "outputId": "30ccbf8f-cf19-46fa-fa0b-19332bac864d"
      },
      "source": [
        "'seoul population'.capitalize()"
      ],
      "execution_count": null,
      "outputs": [
        {
          "output_type": "execute_result",
          "data": {
            "text/plain": [
              "'Seoul population'"
            ]
          },
          "metadata": {
            "tags": []
          },
          "execution_count": 172
        }
      ]
    },
    {
      "cell_type": "code",
      "metadata": {
        "id": "FVixNGLf-3T9",
        "outputId": "108db720-aad1-45dc-a770-144851532297"
      },
      "source": [
        "'seoul population'.title()"
      ],
      "execution_count": null,
      "outputs": [
        {
          "output_type": "execute_result",
          "data": {
            "text/plain": [
              "'Seoul Population'"
            ]
          },
          "metadata": {
            "tags": []
          },
          "execution_count": 179
        }
      ]
    },
    {
      "cell_type": "code",
      "metadata": {
        "id": "ObjKmvEz-3T9",
        "outputId": "f25aa533-65d8-47c6-fa10-aba067a5f0d5"
      },
      "source": [
        "print('::'.join('py'))\n",
        "print('py'.join('::'))"
      ],
      "execution_count": null,
      "outputs": [
        {
          "output_type": "stream",
          "text": [
            "p::y\n",
            ":py:\n"
          ],
          "name": "stdout"
        }
      ]
    },
    {
      "cell_type": "code",
      "metadata": {
        "id": "yS8y2a67-3T9",
        "outputId": "1323edc4-d55f-4e54-b2ab-bbba8a7731ff"
      },
      "source": [
        "dir(str)"
      ],
      "execution_count": null,
      "outputs": [
        {
          "output_type": "execute_result",
          "data": {
            "text/plain": [
              "['__add__',\n",
              " '__class__',\n",
              " '__contains__',\n",
              " '__delattr__',\n",
              " '__dir__',\n",
              " '__doc__',\n",
              " '__eq__',\n",
              " '__format__',\n",
              " '__ge__',\n",
              " '__getattribute__',\n",
              " '__getitem__',\n",
              " '__getnewargs__',\n",
              " '__gt__',\n",
              " '__hash__',\n",
              " '__init__',\n",
              " '__init_subclass__',\n",
              " '__iter__',\n",
              " '__le__',\n",
              " '__len__',\n",
              " '__lt__',\n",
              " '__mod__',\n",
              " '__mul__',\n",
              " '__ne__',\n",
              " '__new__',\n",
              " '__reduce__',\n",
              " '__reduce_ex__',\n",
              " '__repr__',\n",
              " '__rmod__',\n",
              " '__rmul__',\n",
              " '__setattr__',\n",
              " '__sizeof__',\n",
              " '__str__',\n",
              " '__subclasshook__',\n",
              " 'capitalize',\n",
              " 'casefold',\n",
              " 'center',\n",
              " 'count',\n",
              " 'encode',\n",
              " 'endswith',\n",
              " 'expandtabs',\n",
              " 'find',\n",
              " 'format',\n",
              " 'format_map',\n",
              " 'index',\n",
              " 'isalnum',\n",
              " 'isalpha',\n",
              " 'isascii',\n",
              " 'isdecimal',\n",
              " 'isdigit',\n",
              " 'isidentifier',\n",
              " 'islower',\n",
              " 'isnumeric',\n",
              " 'isprintable',\n",
              " 'isspace',\n",
              " 'istitle',\n",
              " 'isupper',\n",
              " 'join',\n",
              " 'ljust',\n",
              " 'lower',\n",
              " 'lstrip',\n",
              " 'maketrans',\n",
              " 'partition',\n",
              " 'removeprefix',\n",
              " 'removesuffix',\n",
              " 'replace',\n",
              " 'rfind',\n",
              " 'rindex',\n",
              " 'rjust',\n",
              " 'rpartition',\n",
              " 'rsplit',\n",
              " 'rstrip',\n",
              " 'split',\n",
              " 'splitlines',\n",
              " 'startswith',\n",
              " 'strip',\n",
              " 'swapcase',\n",
              " 'title',\n",
              " 'translate',\n",
              " 'upper',\n",
              " 'zfill']"
            ]
          },
          "metadata": {
            "tags": []
          },
          "execution_count": 174
        }
      ]
    },
    {
      "cell_type": "markdown",
      "metadata": {
        "id": "L1aetTAl-3T-"
      },
      "source": [
        "### Regular Expressions"
      ]
    },
    {
      "cell_type": "code",
      "metadata": {
        "id": "qpMy9PKQ-3T-",
        "outputId": "32509c67-443a-48e2-fab8-654960794821"
      },
      "source": [
        "import re\n",
        "text = \"foo    bar\\t baz  \\tqux\"\n",
        "re.split('\\s+', text)"
      ],
      "execution_count": null,
      "outputs": [
        {
          "output_type": "execute_result",
          "data": {
            "text/plain": [
              "['foo', 'bar', 'baz', 'qux']"
            ]
          },
          "metadata": {
            "tags": []
          },
          "execution_count": 175
        }
      ]
    },
    {
      "cell_type": "code",
      "metadata": {
        "id": "n5aHcKrU-3T-",
        "outputId": "d21ded86-fca2-4f2d-d588-b8c168de0e8e"
      },
      "source": [
        "regex = re.compile('\\s+')\n",
        "regex"
      ],
      "execution_count": null,
      "outputs": [
        {
          "output_type": "execute_result",
          "data": {
            "text/plain": [
              "re.compile(r'\\s+', re.UNICODE)"
            ]
          },
          "metadata": {
            "tags": []
          },
          "execution_count": 176
        }
      ]
    },
    {
      "cell_type": "code",
      "metadata": {
        "id": "84507mPW-3T-",
        "outputId": "b6147374-7694-4f74-b562-a0b7e4d97d95"
      },
      "source": [
        "regex.split(text)"
      ],
      "execution_count": null,
      "outputs": [
        {
          "output_type": "execute_result",
          "data": {
            "text/plain": [
              "['foo', 'bar', 'baz', 'qux']"
            ]
          },
          "metadata": {
            "tags": []
          },
          "execution_count": 177
        }
      ]
    },
    {
      "cell_type": "code",
      "metadata": {
        "id": "1HHN4-c9-3T-",
        "outputId": "fe1f4565-2501-42cd-fdd5-4883a007ab94"
      },
      "source": [
        "regex.findall(text)"
      ],
      "execution_count": null,
      "outputs": [
        {
          "output_type": "execute_result",
          "data": {
            "text/plain": [
              "['    ', '\\t ', '  \\t']"
            ]
          },
          "metadata": {
            "tags": []
          },
          "execution_count": 178
        }
      ]
    },
    {
      "cell_type": "markdown",
      "metadata": {
        "id": "QcQg6tzQ-3T_"
      },
      "source": [
        "* 이메일 주소를 검사하는 정규 표현식"
      ]
    },
    {
      "cell_type": "code",
      "metadata": {
        "id": "C_0BrS8--3T_"
      },
      "source": [
        "# text = \"\"\"dave@google.com\n",
        "text = \"\"\"Dave dave@google.com\n",
        "Steve steve@gmail.com\n",
        "Rob rob@gmail.com\n",
        "Ryan ryan@yahoo.com\n",
        "\"\"\""
      ],
      "execution_count": null,
      "outputs": []
    },
    {
      "cell_type": "code",
      "metadata": {
        "id": "9Ysbr-do-3T_",
        "outputId": "2f522dc6-ef91-4364-c2a0-7558c4504c35"
      },
      "source": [
        "pattern = r'[A-Z0-9._%+-]+@[A-Z0-9.-]+\\.[A-Z]{2,4}'\n",
        "pattern"
      ],
      "execution_count": null,
      "outputs": [
        {
          "output_type": "execute_result",
          "data": {
            "text/plain": [
              "'[A-Z0-9._%+-]+@[A-Z0-9.-]+\\\\.[A-Z]{2,4}'"
            ]
          },
          "metadata": {
            "tags": []
          },
          "execution_count": 260
        }
      ]
    },
    {
      "cell_type": "code",
      "metadata": {
        "id": "spT_kWdI-3T_"
      },
      "source": [
        "# re.IGNORECASE makes the regex case-insensitive\n",
        "# regex = re.compile(pattern, flags=re.IGNORECASE)\n",
        "regex = re.compile(pattern, flags=re.I)"
      ],
      "execution_count": null,
      "outputs": []
    },
    {
      "cell_type": "code",
      "metadata": {
        "id": "yWsqwFX1-3T_",
        "outputId": "8c11cdf7-237e-437d-9ee9-12b0fb3245d8"
      },
      "source": [
        "regex.findall(text)"
      ],
      "execution_count": null,
      "outputs": [
        {
          "output_type": "execute_result",
          "data": {
            "text/plain": [
              "['dave@google.com', 'steve@gmail.com', 'rob@gmail.com', 'ryan@yahoo.com']"
            ]
          },
          "metadata": {
            "tags": []
          },
          "execution_count": 264
        }
      ]
    },
    {
      "cell_type": "code",
      "metadata": {
        "id": "9lddiwOY-3T_",
        "outputId": "9900b016-762b-47f1-90ee-175e4b8fd4ff"
      },
      "source": [
        "m = regex.search(text)\n",
        "m"
      ],
      "execution_count": null,
      "outputs": [
        {
          "output_type": "execute_result",
          "data": {
            "text/plain": [
              "<re.Match object; span=(5, 20), match='dave@google.com'>"
            ]
          },
          "metadata": {
            "tags": []
          },
          "execution_count": 265
        }
      ]
    },
    {
      "cell_type": "code",
      "metadata": {
        "id": "tddnm1db-3UA",
        "outputId": "aaeb1003-1f4b-4f29-c6a2-3c3958473d01"
      },
      "source": [
        "text[m.start():m.end()]"
      ],
      "execution_count": null,
      "outputs": [
        {
          "output_type": "execute_result",
          "data": {
            "text/plain": [
              "'dave@google.com'"
            ]
          },
          "metadata": {
            "tags": []
          },
          "execution_count": 266
        }
      ]
    },
    {
      "cell_type": "code",
      "metadata": {
        "id": "q8wztZTp-3UA",
        "outputId": "ccd4536e-4277-4d51-9e9f-b35d9748817a"
      },
      "source": [
        "print(m.start(), m.end())"
      ],
      "execution_count": null,
      "outputs": [
        {
          "output_type": "stream",
          "text": [
            "5 20\n"
          ],
          "name": "stdout"
        }
      ]
    },
    {
      "cell_type": "code",
      "metadata": {
        "id": "o1WFuxzb-3UA",
        "outputId": "eb70bb9a-f536-4c75-c833-8d65ab0aef66"
      },
      "source": [
        "print(regex.match(text))"
      ],
      "execution_count": null,
      "outputs": [
        {
          "output_type": "stream",
          "text": [
            "None\n"
          ],
          "name": "stdout"
        }
      ]
    },
    {
      "cell_type": "code",
      "metadata": {
        "id": "VsV_GmZw-3UA",
        "outputId": "ca1a0bd8-5fbc-4f1c-d87b-858f61a243c0"
      },
      "source": [
        "print(regex.sub('REDACTED', text))"
      ],
      "execution_count": null,
      "outputs": [
        {
          "output_type": "stream",
          "text": [
            "Dave REDACTED\n",
            "Steve REDACTED\n",
            "Rob REDACTED\n",
            "Ryan REDACTED\n",
            "\n"
          ],
          "name": "stdout"
        }
      ]
    },
    {
      "cell_type": "code",
      "metadata": {
        "id": "D3A5D_yl-3UA"
      },
      "source": [
        "pattern = r'([A-Z0-9._%+-]+)@([A-Z0-9.-]+)\\.([A-Z]{2,4})'\n",
        "regex = re.compile(pattern, flags=re.IGNORECASE)"
      ],
      "execution_count": null,
      "outputs": []
    },
    {
      "cell_type": "code",
      "metadata": {
        "id": "oyPXQPbd-3UB",
        "outputId": "a2814488-d161-492c-b288-8adde0cc5dce"
      },
      "source": [
        "m = regex.match('wesm@bright.net')\n",
        "m.groups()"
      ],
      "execution_count": null,
      "outputs": [
        {
          "output_type": "execute_result",
          "data": {
            "text/plain": [
              "('wesm', 'bright', 'net')"
            ]
          },
          "metadata": {
            "tags": []
          },
          "execution_count": 277
        }
      ]
    },
    {
      "cell_type": "code",
      "metadata": {
        "id": "79qKDvkB-3UB",
        "outputId": "c43535a2-2244-468a-e430-39751e1b0ad5"
      },
      "source": [
        "regex.findall(text)"
      ],
      "execution_count": null,
      "outputs": [
        {
          "output_type": "execute_result",
          "data": {
            "text/plain": [
              "[('dave', 'google', 'com'),\n",
              " ('steve', 'gmail', 'com'),\n",
              " ('rob', 'gmail', 'com'),\n",
              " ('ryan', 'yahoo', 'com')]"
            ]
          },
          "metadata": {
            "tags": []
          },
          "execution_count": 278
        }
      ]
    },
    {
      "cell_type": "code",
      "metadata": {
        "id": "1jguwB61-3UB",
        "outputId": "922009e0-b989-41e7-beda-227a134f0b41"
      },
      "source": [
        "print(regex.sub(r'Username: \\1, Domain: \\2, Suffix: \\3', text))"
      ],
      "execution_count": null,
      "outputs": [
        {
          "output_type": "stream",
          "text": [
            "Dave Username: dave, Domain: google, Suffix: com\n",
            "Steve Username: steve, Domain: gmail, Suffix: com\n",
            "Rob Username: rob, Domain: gmail, Suffix: com\n",
            "Ryan Username: ryan, Domain: yahoo, Suffix: com\n",
            "\n"
          ],
          "name": "stdout"
        }
      ]
    },
    {
      "cell_type": "markdown",
      "metadata": {
        "id": "U4zNklWJ-3UB"
      },
      "source": [
        "### Vectorized String Functions in pandas"
      ]
    },
    {
      "cell_type": "code",
      "metadata": {
        "id": "0QQjBIy--3UB",
        "outputId": "770a8a06-1243-4110-db91-83cffc865e6d"
      },
      "source": [
        "data = {'Dave': 'dave@google.com', 'Steve': 'steve@gmail.com',\n",
        "        'Rob': 'rob@gmail.com', 'Wes': np.nan}\n",
        "data = pd.Series(data)\n",
        "data"
      ],
      "execution_count": null,
      "outputs": [
        {
          "output_type": "execute_result",
          "data": {
            "text/plain": [
              "Dave     dave@google.com\n",
              "Steve    steve@gmail.com\n",
              "Rob        rob@gmail.com\n",
              "Wes                  NaN\n",
              "dtype: object"
            ]
          },
          "metadata": {
            "tags": []
          },
          "execution_count": 280
        }
      ]
    },
    {
      "cell_type": "code",
      "metadata": {
        "id": "VbP09-Pe-3UC",
        "outputId": "0f0feee9-a25a-4e2a-b045-1f4ee085c432"
      },
      "source": [
        "data.isnull()"
      ],
      "execution_count": null,
      "outputs": [
        {
          "output_type": "execute_result",
          "data": {
            "text/plain": [
              "Dave     False\n",
              "Steve    False\n",
              "Rob      False\n",
              "Wes       True\n",
              "dtype: bool"
            ]
          },
          "metadata": {
            "tags": []
          },
          "execution_count": 281
        }
      ]
    },
    {
      "cell_type": "code",
      "metadata": {
        "id": "i8rhdNZn-3UC",
        "outputId": "17257658-2990-48d9-9345-dfd3dae278d0"
      },
      "source": [
        "data.str"
      ],
      "execution_count": null,
      "outputs": [
        {
          "output_type": "execute_result",
          "data": {
            "text/plain": [
              "<pandas.core.strings.accessor.StringMethods at 0x1822da86e80>"
            ]
          },
          "metadata": {
            "tags": []
          },
          "execution_count": 283
        }
      ]
    },
    {
      "cell_type": "code",
      "metadata": {
        "id": "tfarPJTh-3UC",
        "outputId": "a98542bb-b75a-4ef7-cec1-d41340058742"
      },
      "source": [
        "data.str.match"
      ],
      "execution_count": null,
      "outputs": [
        {
          "output_type": "execute_result",
          "data": {
            "text/plain": [
              "<bound method StringMethods.match of <pandas.core.strings.accessor.StringMethods object at 0x000001822DA86E80>>"
            ]
          },
          "metadata": {
            "tags": []
          },
          "execution_count": 285
        }
      ]
    },
    {
      "cell_type": "code",
      "metadata": {
        "id": "CJJlPByM-3UC",
        "outputId": "8b7f56be-b37e-4f68-cf8b-3db44838c310"
      },
      "source": [
        "data.str.contains('gmail')"
      ],
      "execution_count": null,
      "outputs": [
        {
          "output_type": "execute_result",
          "data": {
            "text/plain": [
              "Dave     False\n",
              "Steve     True\n",
              "Rob       True\n",
              "Wes        NaN\n",
              "dtype: object"
            ]
          },
          "metadata": {
            "tags": []
          },
          "execution_count": 286
        }
      ]
    },
    {
      "cell_type": "code",
      "metadata": {
        "id": "7Z6190Lc-3UE",
        "outputId": "883875a1-df78-4adf-87cf-46118f6829fe"
      },
      "source": [
        "pattern"
      ],
      "execution_count": null,
      "outputs": [
        {
          "output_type": "execute_result",
          "data": {
            "text/plain": [
              "'([A-Z0-9._%+-]+)@([A-Z0-9.-]+)\\\\.([A-Z]{2,4})'"
            ]
          },
          "metadata": {
            "tags": []
          },
          "execution_count": 287
        }
      ]
    },
    {
      "cell_type": "code",
      "metadata": {
        "id": "rIrj8pjw-3UE",
        "outputId": "8a8aab7f-51a8-4933-ebcb-f412dc09aab7"
      },
      "source": [
        "data.str.findall(pattern, flags=re.IGNORECASE)"
      ],
      "execution_count": null,
      "outputs": [
        {
          "output_type": "execute_result",
          "data": {
            "text/plain": [
              "Dave     [(dave, google, com)]\n",
              "Steve    [(steve, gmail, com)]\n",
              "Rob        [(rob, gmail, com)]\n",
              "Wes                        NaN\n",
              "dtype: object"
            ]
          },
          "metadata": {
            "tags": []
          },
          "execution_count": 288
        }
      ]
    },
    {
      "cell_type": "code",
      "metadata": {
        "id": "4-K87iH5-3UE",
        "outputId": "16816c27-23ca-43b9-d9dd-8f662432caf4"
      },
      "source": [
        "matches = data.str.match(pattern, flags=re.IGNORECASE)\n",
        "matches"
      ],
      "execution_count": null,
      "outputs": [
        {
          "output_type": "execute_result",
          "data": {
            "text/plain": [
              "Dave     True\n",
              "Steve    True\n",
              "Rob      True\n",
              "Wes       NaN\n",
              "dtype: object"
            ]
          },
          "metadata": {
            "tags": []
          },
          "execution_count": 289
        }
      ]
    },
    {
      "cell_type": "code",
      "metadata": {
        "id": "CAsGkLLs-3UE",
        "outputId": "dfb30308-e1fb-45a6-80d8-105722636e5e"
      },
      "source": [
        "type(matches)"
      ],
      "execution_count": null,
      "outputs": [
        {
          "output_type": "execute_result",
          "data": {
            "text/plain": [
              "pandas.core.series.Series"
            ]
          },
          "metadata": {
            "tags": []
          },
          "execution_count": 290
        }
      ]
    },
    {
      "cell_type": "code",
      "metadata": {
        "id": "4-a-C-lG-3UE",
        "outputId": "e9a64190-4781-4250-fc5a-4b07976e1f38"
      },
      "source": [
        "data"
      ],
      "execution_count": null,
      "outputs": [
        {
          "output_type": "execute_result",
          "data": {
            "text/plain": [
              "Dave     dave@google.com\n",
              "Steve    steve@gmail.com\n",
              "Rob        rob@gmail.com\n",
              "Wes                  NaN\n",
              "dtype: object"
            ]
          },
          "metadata": {
            "tags": []
          },
          "execution_count": 291
        }
      ]
    },
    {
      "cell_type": "markdown",
      "metadata": {
        "id": "z3VPH6Bv-3UF"
      },
      "source": [
        "---"
      ]
    },
    {
      "cell_type": "code",
      "metadata": {
        "id": "fEDiG8q5-3UF",
        "outputId": "4c531ed2-26e6-43f1-837f-fcfca59407df"
      },
      "source": [
        "data.str.get(0)"
      ],
      "execution_count": null,
      "outputs": [
        {
          "output_type": "execute_result",
          "data": {
            "text/plain": [
              "Dave       d\n",
              "Steve      s\n",
              "Rob        r\n",
              "Wes      NaN\n",
              "dtype: object"
            ]
          },
          "metadata": {
            "tags": []
          },
          "execution_count": 293
        }
      ]
    },
    {
      "cell_type": "code",
      "metadata": {
        "id": "XIDEJp6V-3UF"
      },
      "source": [
        "data.str.get?"
      ],
      "execution_count": null,
      "outputs": []
    },
    {
      "cell_type": "code",
      "metadata": {
        "id": "mTEFiKcs-3UF",
        "outputId": "044429ee-1948-476a-84ca-a1ec30371db5"
      },
      "source": [
        "s = pd.Series([\"String\",\n",
        "              (1, 2, 3),\n",
        "              [\"a\", \"b\", \"c\"],\n",
        "              123,\n",
        "              -456,\n",
        "              {\"1\": \"Hello\", \"2\": \"World\"}])\n",
        "s"
      ],
      "execution_count": null,
      "outputs": [
        {
          "output_type": "execute_result",
          "data": {
            "text/plain": [
              "0                          String\n",
              "1                       (1, 2, 3)\n",
              "2                       [a, b, c]\n",
              "3                             123\n",
              "4                            -456\n",
              "5    {'1': 'Hello', '2': 'World'}\n",
              "dtype: object"
            ]
          },
          "metadata": {
            "tags": []
          },
          "execution_count": 297
        }
      ]
    },
    {
      "cell_type": "code",
      "metadata": {
        "id": "6e8lm9qI-3UF",
        "outputId": "e7178544-5287-45e9-b723-b1da28d32524"
      },
      "source": [
        "s.str.get(1)"
      ],
      "execution_count": null,
      "outputs": [
        {
          "output_type": "execute_result",
          "data": {
            "text/plain": [
              "0       t\n",
              "1       2\n",
              "2       b\n",
              "3     NaN\n",
              "4     NaN\n",
              "5    None\n",
              "dtype: object"
            ]
          },
          "metadata": {
            "tags": []
          },
          "execution_count": 298
        }
      ]
    },
    {
      "cell_type": "code",
      "metadata": {
        "id": "25NMS8kr-3UG",
        "outputId": "c79904a2-a3a5-49ad-a113-971a72cf68c5"
      },
      "source": [
        "s.str.get(-1)"
      ],
      "execution_count": null,
      "outputs": [
        {
          "output_type": "execute_result",
          "data": {
            "text/plain": [
              "0       g\n",
              "1       3\n",
              "2       c\n",
              "3     NaN\n",
              "4     NaN\n",
              "5    None\n",
              "dtype: object"
            ]
          },
          "metadata": {
            "tags": []
          },
          "execution_count": 299
        }
      ]
    },
    {
      "cell_type": "code",
      "metadata": {
        "id": "wbdIpAIg-3UG",
        "outputId": "74c20531-f6ad-4b11-cdd9-1aa9695c3fa6"
      },
      "source": [
        "data"
      ],
      "execution_count": null,
      "outputs": [
        {
          "output_type": "execute_result",
          "data": {
            "text/plain": [
              "Dave     dave@google.com\n",
              "Steve    steve@gmail.com\n",
              "Rob        rob@gmail.com\n",
              "Wes                  NaN\n",
              "dtype: object"
            ]
          },
          "metadata": {
            "tags": []
          },
          "execution_count": 301
        }
      ]
    },
    {
      "cell_type": "code",
      "metadata": {
        "id": "Rw2LDR1H-3UG",
        "outputId": "c63af09e-d134-4bca-e816-23fd9b650bf1"
      },
      "source": [
        "data.str[1]"
      ],
      "execution_count": null,
      "outputs": [
        {
          "output_type": "execute_result",
          "data": {
            "text/plain": [
              "Dave       a\n",
              "Steve      t\n",
              "Rob        o\n",
              "Wes      NaN\n",
              "dtype: object"
            ]
          },
          "metadata": {
            "tags": []
          },
          "execution_count": 302
        }
      ]
    },
    {
      "cell_type": "code",
      "metadata": {
        "id": "wA7CZmvo-3UG",
        "outputId": "b27b67c1-8159-4fbc-afc4-326cbc0d0437"
      },
      "source": [
        "data.str[:5]"
      ],
      "execution_count": null,
      "outputs": [
        {
          "output_type": "execute_result",
          "data": {
            "text/plain": [
              "Dave     dave@\n",
              "Steve    steve\n",
              "Rob      rob@g\n",
              "Wes        NaN\n",
              "dtype: object"
            ]
          },
          "metadata": {
            "tags": []
          },
          "execution_count": 303
        }
      ]
    },
    {
      "cell_type": "markdown",
      "metadata": {
        "id": "rFtndi8m-3UH"
      },
      "source": [
        "## Conclusion"
      ]
    },
    {
      "cell_type": "code",
      "metadata": {
        "id": "WnJfssL4-3UH",
        "outputId": "4bb4149d-fd1e-467e-f762-05e6cb68154b"
      },
      "source": [
        "data = {'Dave': 'dave@google.com', 'Steve': 'steve@gmail.com',\n",
        "        'Rob': 'rob@gmail.com', 'Wes': np.nan}\n",
        "data = pd.Series(data)\n",
        "data"
      ],
      "execution_count": null,
      "outputs": [
        {
          "output_type": "execute_result",
          "data": {
            "text/plain": [
              "Dave     dave@google.com\n",
              "Steve    steve@gmail.com\n",
              "Rob        rob@gmail.com\n",
              "Wes                  NaN\n",
              "dtype: object"
            ]
          },
          "metadata": {
            "tags": []
          },
          "execution_count": 304
        }
      ]
    },
    {
      "cell_type": "code",
      "metadata": {
        "id": "9ctuF0nO-3UH",
        "outputId": "f2904b36-1e86-45cb-9c71-5f1c45046259"
      },
      "source": [
        "pattern = r'([A-Z0-9._%+-]+)@([A-Z0-9.-]+)\\.([A-Z]{2,4})'\n",
        "regex = re.compile(pattern, flags=re.IGNORECASE)\n",
        "m = regex.match('wesm@bright.co.kr')\n",
        "m.groups()"
      ],
      "execution_count": null,
      "outputs": [
        {
          "output_type": "execute_result",
          "data": {
            "text/plain": [
              "('wesm', 'bright.co', 'kr')"
            ]
          },
          "metadata": {
            "tags": []
          },
          "execution_count": 305
        }
      ]
    },
    {
      "cell_type": "code",
      "metadata": {
        "id": "PJmjvSgL-3UH",
        "outputId": "0d5c7999-adcf-4d47-def4-fd8508c21674"
      },
      "source": [
        "m = regex.match('wesm@bright.co.kr')\n",
        "m.groups()"
      ],
      "execution_count": null,
      "outputs": [
        {
          "output_type": "execute_result",
          "data": {
            "text/plain": [
              "('wesm', 'bright.co', 'kr')"
            ]
          },
          "metadata": {
            "tags": []
          },
          "execution_count": 306
        }
      ]
    },
    {
      "cell_type": "code",
      "metadata": {
        "id": "gVHHYMgk-3UH",
        "outputId": "55d3762f-6efb-422f-d709-7a6204e2ec67"
      },
      "source": [
        "pattern = r'([A-Z0-9._%+-]+)@([A-Z0-9.-]+)\\.([A-Z]{2,4})'\n",
        "# pattern = r'[A-Z0-9._%+-]+@[A-Z0-9.-]+\\.[A-Z]{2,4}'\n",
        "regex = re.compile(pattern, flags=re.IGNORECASE)\n",
        "regex.findall('we._%+-sm@bright.co.kr')"
      ],
      "execution_count": null,
      "outputs": [
        {
          "output_type": "execute_result",
          "data": {
            "text/plain": [
              "[('we._%+-sm', 'bright.co', 'kr')]"
            ]
          },
          "metadata": {
            "tags": []
          },
          "execution_count": 307
        }
      ]
    },
    {
      "cell_type": "code",
      "metadata": {
        "id": "4HVoKUcq-3UH"
      },
      "source": [
        "text = \"\"\"Dave da%ve@google.com\n",
        "Steve ste+ve@gmail.com\n",
        "Rob r-ob@gmail.com\n",
        "Ryan ryan@yahoo.com\n",
        "\"\"\""
      ],
      "execution_count": null,
      "outputs": []
    },
    {
      "cell_type": "code",
      "metadata": {
        "id": "60iKRe3y-3UI",
        "outputId": "e684b368-79a3-4943-9fd4-53b608086a19"
      },
      "source": [
        "regex.findall(text)"
      ],
      "execution_count": null,
      "outputs": [
        {
          "output_type": "execute_result",
          "data": {
            "text/plain": [
              "[('da%ve', 'google', 'com'),\n",
              " ('ste+ve', 'gmail', 'com'),\n",
              " ('r-ob', 'gmail', 'com'),\n",
              " ('ryan', 'yahoo', 'com')]"
            ]
          },
          "metadata": {
            "tags": []
          },
          "execution_count": 309
        }
      ]
    },
    {
      "cell_type": "code",
      "metadata": {
        "id": "9dGM9ZhY-3UI"
      },
      "source": [
        "pattern2 = r'[A-Z0-9._%+-]+@[A-Z0-9.-]+\\.[A-Z]{2,4}'\n",
        "regex = re.compile(pattern2, flags=re.IGNORECASE)"
      ],
      "execution_count": null,
      "outputs": []
    },
    {
      "cell_type": "code",
      "metadata": {
        "id": "F-WtU8fR-3UI"
      },
      "source": [
        "text = \"\"\"Dave da%ve@google.com\n",
        "Steve ste+ve@gmail.com\n",
        "Rob r-ob@gmail.com\n",
        "Ryan ryan@yahoo.com\n",
        "\"\"\""
      ],
      "execution_count": null,
      "outputs": []
    },
    {
      "cell_type": "code",
      "metadata": {
        "id": "dR_JtkJK-3UI",
        "outputId": "ee5a2258-5cee-41de-8441-3d04de2adcb3"
      },
      "source": [
        "regex.findall(text)"
      ],
      "execution_count": null,
      "outputs": [
        {
          "output_type": "execute_result",
          "data": {
            "text/plain": [
              "['da%ve@google.com', 'ste+ve@gmail.com', 'r-ob@gmail.com', 'ryan@yahoo.com']"
            ]
          },
          "metadata": {
            "tags": []
          },
          "execution_count": 312
        }
      ]
    },
    {
      "cell_type": "code",
      "metadata": {
        "id": "wXoGNt28-3UI"
      },
      "source": [
        ""
      ],
      "execution_count": null,
      "outputs": []
    },
    {
      "cell_type": "code",
      "metadata": {
        "id": "6_7GWWpO-3UI"
      },
      "source": [
        "pattern = r'([A-Z0-9._%+-]+)@([A-Z0-9.-]+)\\.([A-Z]{2,4})'\n",
        "pattern2 = r'[A-Z0-9._%+-]+@[A-Z0-9.-]+\\.[A-Z]{2,4}'\n",
        "regex = re.compile(pattern2, flags=re.IGNORECASE)"
      ],
      "execution_count": null,
      "outputs": []
    },
    {
      "cell_type": "code",
      "metadata": {
        "id": "FR7s_k0w-3UI"
      },
      "source": [
        "text = \"\"\"Dave da%ve@google.com\n",
        "Steve ste+ve@gmail.com\n",
        "Rob r-ob@gmail.com\n",
        "Ryan ryan@yahoo.com\n",
        "\"\"\""
      ],
      "execution_count": null,
      "outputs": []
    },
    {
      "cell_type": "code",
      "metadata": {
        "id": "x6Nb0dA4-3UJ",
        "outputId": "84b3eaa9-2e1a-48f6-912b-4d61e6f0ea83"
      },
      "source": [
        "regex.findall(text)"
      ],
      "execution_count": null,
      "outputs": [
        {
          "output_type": "execute_result",
          "data": {
            "text/plain": [
              "['da%ve@google.com', 'ste+ve@gmail.com', 'r-ob@gmail.com', 'ryan@yahoo.com']"
            ]
          },
          "metadata": {
            "tags": []
          },
          "execution_count": 318
        }
      ]
    },
    {
      "cell_type": "code",
      "metadata": {
        "id": "po8k1ysj-3UJ"
      },
      "source": [
        ""
      ],
      "execution_count": null,
      "outputs": []
    },
    {
      "cell_type": "code",
      "metadata": {
        "id": "w3SQEI0U-3UJ",
        "outputId": "54ad6d96-bbbe-4938-d391-250975472df1"
      },
      "source": [
        "pattern = r'a.b'\n",
        "regex = re.compile(pattern, flags=re.IGNORECASE)\n",
        "regex.findall('axb')"
      ],
      "execution_count": null,
      "outputs": [
        {
          "output_type": "execute_result",
          "data": {
            "text/plain": [
              "['axb']"
            ]
          },
          "metadata": {
            "tags": []
          },
          "execution_count": 319
        }
      ]
    },
    {
      "cell_type": "code",
      "metadata": {
        "id": "UDSMfpf5-3UJ",
        "outputId": "dcdb3daf-bdbd-4b80-fab9-9854e96fa80d"
      },
      "source": [
        "pattern = r'a[.]b'\n",
        "regex = re.compile(pattern, flags=re.IGNORECASE)\n",
        "regex.findall('a.b')"
      ],
      "execution_count": null,
      "outputs": [
        {
          "output_type": "execute_result",
          "data": {
            "text/plain": [
              "['a.b']"
            ]
          },
          "metadata": {
            "tags": []
          },
          "execution_count": 322
        }
      ]
    },
    {
      "cell_type": "code",
      "metadata": {
        "id": "ybagdxLG-3UJ",
        "outputId": "6ba45a95-bdcd-4d9b-bc59-0eb869ba3e99"
      },
      "source": [
        "pattern = r'a\\.b'\n",
        "regex = re.compile(pattern, flags=re.IGNORECASE)\n",
        "regex.findall('a.b')"
      ],
      "execution_count": null,
      "outputs": [
        {
          "output_type": "execute_result",
          "data": {
            "text/plain": [
              "['a.b']"
            ]
          },
          "metadata": {
            "tags": []
          },
          "execution_count": 323
        }
      ]
    },
    {
      "cell_type": "code",
      "metadata": {
        "id": "mGzfnWAQ-3UJ",
        "outputId": "49fce788-7b56-4857-826d-e4f8c82bd771"
      },
      "source": [
        "pattern = r'a\\.b'\n",
        "regex = re.compile(pattern, flags=re.IGNORECASE)\n",
        "regex.findall('a.b')"
      ],
      "execution_count": null,
      "outputs": [
        {
          "output_type": "execute_result",
          "data": {
            "text/plain": [
              "['a.b']"
            ]
          },
          "metadata": {
            "tags": []
          },
          "execution_count": 324
        }
      ]
    },
    {
      "cell_type": "code",
      "metadata": {
        "id": "nbCVsl_6-3UK"
      },
      "source": [
        ""
      ],
      "execution_count": null,
      "outputs": []
    },
    {
      "cell_type": "code",
      "metadata": {
        "id": "QTaGyBoG-3UK",
        "outputId": "22465521-0b3c-40b3-9d50-570a098a994d"
      },
      "source": [
        "import re\n",
        "p = re.compile('[a-z]+')\n",
        "m = p.match('python java')\n",
        "m.group()"
      ],
      "execution_count": null,
      "outputs": [
        {
          "output_type": "execute_result",
          "data": {
            "text/plain": [
              "'python'"
            ]
          },
          "metadata": {
            "tags": []
          },
          "execution_count": 325
        }
      ]
    },
    {
      "cell_type": "code",
      "metadata": {
        "id": "mBaKKbLc-3UK",
        "outputId": "6ecb020c-591c-42b7-8d1f-140771ddf13b"
      },
      "source": [
        "p.findall('python java')"
      ],
      "execution_count": null,
      "outputs": [
        {
          "output_type": "execute_result",
          "data": {
            "text/plain": [
              "['python', 'java']"
            ]
          },
          "metadata": {
            "tags": []
          },
          "execution_count": 326
        }
      ]
    },
    {
      "cell_type": "code",
      "metadata": {
        "id": "an-K82aL-3UK",
        "outputId": "30ce4845-a46d-404e-e39a-9c902099ac97"
      },
      "source": [
        "i = p.finditer('python java')\n",
        "for c in i:\n",
        "    print(c.group())"
      ],
      "execution_count": null,
      "outputs": [
        {
          "output_type": "stream",
          "text": [
            "python\n",
            "java\n"
          ],
          "name": "stdout"
        }
      ]
    },
    {
      "cell_type": "code",
      "metadata": {
        "id": "tZmzmbCZ-3UK",
        "outputId": "ce437ac8-f14a-455e-e7fc-b2476f7649a4"
      },
      "source": [
        "import re\n",
        "re.findall('[a-z]+', 'python java')\n"
      ],
      "execution_count": null,
      "outputs": [
        {
          "output_type": "execute_result",
          "data": {
            "text/plain": [
              "['python', 'java']"
            ]
          },
          "metadata": {
            "tags": []
          },
          "execution_count": 333
        }
      ]
    },
    {
      "cell_type": "code",
      "metadata": {
        "id": "C65DmYsf-3UK",
        "outputId": "0fc931d6-6bdf-43fb-e036-c9503464797b"
      },
      "source": [
        "import re\n",
        "re.findall('\\(\\d+\\.\\d+, \\d+\\.\\d+\\)', '((37.99, 127.45), (38.34, 127.31))')"
      ],
      "execution_count": null,
      "outputs": [
        {
          "output_type": "execute_result",
          "data": {
            "text/plain": [
              "['(37.99, 127.45)', '(38.34, 127.31)']"
            ]
          },
          "metadata": {
            "tags": []
          },
          "execution_count": 336
        }
      ]
    },
    {
      "cell_type": "code",
      "metadata": {
        "id": "6Luum-4j-3UK",
        "outputId": "72f6f443-4067-4326-e4e7-a3c097927438"
      },
      "source": [
        "import re\n",
        "re.findall('\\((\\d+\\.\\d+), (\\d+\\.\\d+)\\)', '((37.99, 127.45), (38.34, 127.31))')[0]"
      ],
      "execution_count": null,
      "outputs": [
        {
          "output_type": "execute_result",
          "data": {
            "text/plain": [
              "('37.99', '127.45')"
            ]
          },
          "metadata": {
            "tags": []
          },
          "execution_count": 343
        }
      ]
    },
    {
      "cell_type": "code",
      "metadata": {
        "id": "0qh3Ucts-3UL",
        "outputId": "8ba95faf-df0d-48a7-be2d-3cf7c115d7aa"
      },
      "source": [
        "import re\n",
        "re.findall('\\((\\d+\\.\\d*), (\\d+\\.\\d*)\\)', '((37.99, 127.45), (38.34, 127.31), (38.28, 127.))')"
      ],
      "execution_count": null,
      "outputs": [
        {
          "output_type": "execute_result",
          "data": {
            "text/plain": [
              "[('37.99', '127.45'), ('38.34', '127.31'), ('38.28', '127.')]"
            ]
          },
          "metadata": {
            "tags": []
          },
          "execution_count": 344
        }
      ]
    },
    {
      "cell_type": "code",
      "metadata": {
        "id": "u4G4S5xP-3UL",
        "outputId": "aba955db-a509-4196-cd0d-5575040608b7"
      },
      "source": [
        "import re\n",
        "re.findall('\\((\\d+\\.\\d*), (\\d+\\.\\d*)\\)', '((37.99, 127.45), (38.34, 127.31), (38.28, 127.))')"
      ],
      "execution_count": null,
      "outputs": [
        {
          "output_type": "execute_result",
          "data": {
            "text/plain": [
              "[('37.99', '127.45'), ('38.34', '127.31'), ('38.28', '127.')]"
            ]
          },
          "metadata": {
            "tags": []
          },
          "execution_count": 344
        }
      ]
    },
    {
      "cell_type": "code",
      "metadata": {
        "id": "aaLVA6Ks-3UL",
        "outputId": "0b236bee-a1d0-4b46-97c3-02575c2ee8c9"
      },
      "source": [
        "import re\n",
        "re.findall('\\d+\\.\\d*', '37.99 127.45 38.34, 3. 4. 10')"
      ],
      "execution_count": null,
      "outputs": [
        {
          "output_type": "execute_result",
          "data": {
            "text/plain": [
              "['37.99', '127.45', '38.34', '3.', '4.']"
            ]
          },
          "metadata": {
            "tags": []
          },
          "execution_count": 346
        }
      ]
    },
    {
      "cell_type": "code",
      "metadata": {
        "id": "tuvya4fD-3UL",
        "outputId": "e3b99053-aa09-4e9c-cd8f-0a648a3186eb"
      },
      "source": [
        "import re\n",
        "re.findall('\\d*[.]\\d*', '4  7.9  3. .8  4. 10')"
      ],
      "execution_count": null,
      "outputs": [
        {
          "output_type": "execute_result",
          "data": {
            "text/plain": [
              "['7.9', '3.', '.8', '4.']"
            ]
          },
          "metadata": {
            "tags": []
          },
          "execution_count": 353
        }
      ]
    },
    {
      "cell_type": "code",
      "metadata": {
        "id": "mkG0K1mE-3UL"
      },
      "source": [
        ""
      ],
      "execution_count": null,
      "outputs": []
    }
  ]
}