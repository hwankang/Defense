{
  "nbformat": 4,
  "nbformat_minor": 0,
  "metadata": {
    "kernelspec": {
      "display_name": "Python 3",
      "language": "python",
      "name": "python3"
    },
    "language_info": {
      "codemirror_mode": {
        "name": "ipython",
        "version": 3
      },
      "file_extension": ".py",
      "mimetype": "text/x-python",
      "name": "python",
      "nbconvert_exporter": "python",
      "pygments_lexer": "ipython3",
      "version": "3.7.7"
    },
    "colab": {
      "name": "lstm_july25.ipynb",
      "provenance": [],
      "include_colab_link": true
    }
  },
  "cells": [
    {
      "cell_type": "markdown",
      "metadata": {
        "id": "view-in-github",
        "colab_type": "text"
      },
      "source": [
        "<a href=\"https://colab.research.google.com/github/hwankang/Defense/blob/main/lstm_july25.ipynb\" target=\"_parent\"><img src=\"https://colab.research.google.com/assets/colab-badge.svg\" alt=\"Open In Colab\"/></a>"
      ]
    },
    {
      "cell_type": "markdown",
      "metadata": {
        "id": "o-QMbZtKf84_"
      },
      "source": [
        "#### Stock market prediction  using LSTM(  Using youtube tensor flow 2.0 Tutorial (KGP talkie)"
      ]
    },
    {
      "cell_type": "code",
      "metadata": {
        "id": "nUkIMzXtf85A"
      },
      "source": [
        "import sklearn\n",
        "import numpy as np\n",
        "import matplotlib.pyplot as plt\n",
        "import pandas as pd\n",
        "from sklearn.preprocessing import StandardScaler,MinMaxScaler"
      ],
      "execution_count": 6,
      "outputs": []
    },
    {
      "cell_type": "code",
      "metadata": {
        "colab": {
          "resources": {
            "http://localhost:8080/nbextensions/google.colab/files.js": {
              "data": "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",
              "ok": true,
              "headers": [
                [
                  "content-type",
                  "application/javascript"
                ]
              ],
              "status": 200,
              "status_text": ""
            }
          },
          "base_uri": "https://localhost:8080/",
          "height": 77
        },
        "id": "cYcY3FnIg06k",
        "outputId": "cb37bd36-c6ff-46b2-d688-367dfd8e3cbb"
      },
      "source": [
        "from google.colab import files\n",
        "uploaded = files.upload()"
      ],
      "execution_count": 7,
      "outputs": [
        {
          "output_type": "display_data",
          "data": {
            "text/html": [
              "\n",
              "     <input type=\"file\" id=\"files-0578d7d6-5b9d-4964-8269-dcd952a9633f\" name=\"files[]\" multiple disabled\n",
              "        style=\"border:none\" />\n",
              "     <output id=\"result-0578d7d6-5b9d-4964-8269-dcd952a9633f\">\n",
              "      Upload widget is only available when the cell has been executed in the\n",
              "      current browser session. Please rerun this cell to enable.\n",
              "      </output>\n",
              "      <script src=\"/nbextensions/google.colab/files.js\"></script> "
            ],
            "text/plain": [
              "<IPython.core.display.HTML object>"
            ]
          },
          "metadata": {
            "tags": []
          }
        },
        {
          "output_type": "stream",
          "text": [
            "Saving GOOG.csv to GOOG (1).csv\n"
          ],
          "name": "stdout"
        }
      ]
    },
    {
      "cell_type": "code",
      "metadata": {
        "colab": {
          "base_uri": "https://localhost:8080/",
          "height": 36
        },
        "id": "g1xM4jc2f85B",
        "outputId": "e8919372-d03d-4fa2-f1d9-ac322f4f1c8f"
      },
      "source": [
        "pwd"
      ],
      "execution_count": 8,
      "outputs": [
        {
          "output_type": "execute_result",
          "data": {
            "application/vnd.google.colaboratory.intrinsic+json": {
              "type": "string"
            },
            "text/plain": [
              "'/content'"
            ]
          },
          "metadata": {
            "tags": []
          },
          "execution_count": 8
        }
      ]
    },
    {
      "cell_type": "code",
      "metadata": {
        "colab": {
          "base_uri": "https://localhost:8080/",
          "height": 198
        },
        "id": "cppHVFrSf85C",
        "outputId": "41e3095e-8508-424c-e1fb-5ea06aecf7e7"
      },
      "source": [
        "data=pd.read_csv('GOOG.csv', date_parser=True)#data에 파일내용을 옮김  \n",
        "data.head()#앞의  5개만 보임 "
      ],
      "execution_count": 9,
      "outputs": [
        {
          "output_type": "execute_result",
          "data": {
            "text/html": [
              "<div>\n",
              "<style scoped>\n",
              "    .dataframe tbody tr th:only-of-type {\n",
              "        vertical-align: middle;\n",
              "    }\n",
              "\n",
              "    .dataframe tbody tr th {\n",
              "        vertical-align: top;\n",
              "    }\n",
              "\n",
              "    .dataframe thead th {\n",
              "        text-align: right;\n",
              "    }\n",
              "</style>\n",
              "<table border=\"1\" class=\"dataframe\">\n",
              "  <thead>\n",
              "    <tr style=\"text-align: right;\">\n",
              "      <th></th>\n",
              "      <th>Date</th>\n",
              "      <th>Open</th>\n",
              "      <th>High</th>\n",
              "      <th>Low</th>\n",
              "      <th>Close</th>\n",
              "      <th>Adj Close</th>\n",
              "      <th>Volume</th>\n",
              "    </tr>\n",
              "  </thead>\n",
              "  <tbody>\n",
              "    <tr>\n",
              "      <th>0</th>\n",
              "      <td>2015-05-26</td>\n",
              "      <td>538.119995</td>\n",
              "      <td>539.000000</td>\n",
              "      <td>529.880005</td>\n",
              "      <td>532.320007</td>\n",
              "      <td>532.320007</td>\n",
              "      <td>2406500</td>\n",
              "    </tr>\n",
              "    <tr>\n",
              "      <th>1</th>\n",
              "      <td>2015-05-27</td>\n",
              "      <td>532.799988</td>\n",
              "      <td>540.549988</td>\n",
              "      <td>531.710022</td>\n",
              "      <td>539.789978</td>\n",
              "      <td>539.789978</td>\n",
              "      <td>1525000</td>\n",
              "    </tr>\n",
              "    <tr>\n",
              "      <th>2</th>\n",
              "      <td>2015-05-28</td>\n",
              "      <td>538.010010</td>\n",
              "      <td>540.609985</td>\n",
              "      <td>536.250000</td>\n",
              "      <td>539.780029</td>\n",
              "      <td>539.780029</td>\n",
              "      <td>1029800</td>\n",
              "    </tr>\n",
              "    <tr>\n",
              "      <th>3</th>\n",
              "      <td>2015-05-29</td>\n",
              "      <td>537.369995</td>\n",
              "      <td>538.630005</td>\n",
              "      <td>531.450012</td>\n",
              "      <td>532.109985</td>\n",
              "      <td>532.109985</td>\n",
              "      <td>2597400</td>\n",
              "    </tr>\n",
              "    <tr>\n",
              "      <th>4</th>\n",
              "      <td>2015-06-01</td>\n",
              "      <td>536.789978</td>\n",
              "      <td>536.789978</td>\n",
              "      <td>529.760010</td>\n",
              "      <td>533.989990</td>\n",
              "      <td>533.989990</td>\n",
              "      <td>1904300</td>\n",
              "    </tr>\n",
              "  </tbody>\n",
              "</table>\n",
              "</div>"
            ],
            "text/plain": [
              "         Date        Open        High  ...       Close   Adj Close   Volume\n",
              "0  2015-05-26  538.119995  539.000000  ...  532.320007  532.320007  2406500\n",
              "1  2015-05-27  532.799988  540.549988  ...  539.789978  539.789978  1525000\n",
              "2  2015-05-28  538.010010  540.609985  ...  539.780029  539.780029  1029800\n",
              "3  2015-05-29  537.369995  538.630005  ...  532.109985  532.109985  2597400\n",
              "4  2015-06-01  536.789978  536.789978  ...  533.989990  533.989990  1904300\n",
              "\n",
              "[5 rows x 7 columns]"
            ]
          },
          "metadata": {
            "tags": []
          },
          "execution_count": 9
        }
      ]
    },
    {
      "cell_type": "code",
      "metadata": {
        "colab": {
          "base_uri": "https://localhost:8080/",
          "height": 198
        },
        "id": "5dOhc_uvf85C",
        "outputId": "2ba6a6b1-173c-4918-c15e-9cd9e2578bf1"
      },
      "source": [
        "data.tail()"
      ],
      "execution_count": 10,
      "outputs": [
        {
          "output_type": "execute_result",
          "data": {
            "text/html": [
              "<div>\n",
              "<style scoped>\n",
              "    .dataframe tbody tr th:only-of-type {\n",
              "        vertical-align: middle;\n",
              "    }\n",
              "\n",
              "    .dataframe tbody tr th {\n",
              "        vertical-align: top;\n",
              "    }\n",
              "\n",
              "    .dataframe thead th {\n",
              "        text-align: right;\n",
              "    }\n",
              "</style>\n",
              "<table border=\"1\" class=\"dataframe\">\n",
              "  <thead>\n",
              "    <tr style=\"text-align: right;\">\n",
              "      <th></th>\n",
              "      <th>Date</th>\n",
              "      <th>Open</th>\n",
              "      <th>High</th>\n",
              "      <th>Low</th>\n",
              "      <th>Close</th>\n",
              "      <th>Adj Close</th>\n",
              "      <th>Volume</th>\n",
              "    </tr>\n",
              "  </thead>\n",
              "  <tbody>\n",
              "    <tr>\n",
              "      <th>1297</th>\n",
              "      <td>2020-07-20</td>\n",
              "      <td>1515.260010</td>\n",
              "      <td>1570.290039</td>\n",
              "      <td>1503.599976</td>\n",
              "      <td>1565.719971</td>\n",
              "      <td>1565.719971</td>\n",
              "      <td>1557300</td>\n",
              "    </tr>\n",
              "    <tr>\n",
              "      <th>1298</th>\n",
              "      <td>2020-07-21</td>\n",
              "      <td>1586.989990</td>\n",
              "      <td>1586.989990</td>\n",
              "      <td>1554.280029</td>\n",
              "      <td>1558.420044</td>\n",
              "      <td>1558.420044</td>\n",
              "      <td>1218600</td>\n",
              "    </tr>\n",
              "    <tr>\n",
              "      <th>1299</th>\n",
              "      <td>2020-07-22</td>\n",
              "      <td>1560.500000</td>\n",
              "      <td>1570.000000</td>\n",
              "      <td>1546.099976</td>\n",
              "      <td>1568.489990</td>\n",
              "      <td>1568.489990</td>\n",
              "      <td>932000</td>\n",
              "    </tr>\n",
              "    <tr>\n",
              "      <th>1300</th>\n",
              "      <td>2020-07-23</td>\n",
              "      <td>1566.969971</td>\n",
              "      <td>1571.869995</td>\n",
              "      <td>1507.391968</td>\n",
              "      <td>1515.680054</td>\n",
              "      <td>1515.680054</td>\n",
              "      <td>1627600</td>\n",
              "    </tr>\n",
              "    <tr>\n",
              "      <th>1301</th>\n",
              "      <td>2020-07-24</td>\n",
              "      <td>1498.930054</td>\n",
              "      <td>1517.635986</td>\n",
              "      <td>1488.400024</td>\n",
              "      <td>1511.869995</td>\n",
              "      <td>1511.869995</td>\n",
              "      <td>1544000</td>\n",
              "    </tr>\n",
              "  </tbody>\n",
              "</table>\n",
              "</div>"
            ],
            "text/plain": [
              "            Date         Open         High  ...        Close    Adj Close   Volume\n",
              "1297  2020-07-20  1515.260010  1570.290039  ...  1565.719971  1565.719971  1557300\n",
              "1298  2020-07-21  1586.989990  1586.989990  ...  1558.420044  1558.420044  1218600\n",
              "1299  2020-07-22  1560.500000  1570.000000  ...  1568.489990  1568.489990   932000\n",
              "1300  2020-07-23  1566.969971  1571.869995  ...  1515.680054  1515.680054  1627600\n",
              "1301  2020-07-24  1498.930054  1517.635986  ...  1511.869995  1511.869995  1544000\n",
              "\n",
              "[5 rows x 7 columns]"
            ]
          },
          "metadata": {
            "tags": []
          },
          "execution_count": 10
        }
      ]
    },
    {
      "cell_type": "code",
      "metadata": {
        "colab": {
          "base_uri": "https://localhost:8080/",
          "height": 408
        },
        "id": "XJ39EDg1f85D",
        "outputId": "3b254dcf-b6b1-4aa9-d943-52f2ec91cd1a"
      },
      "source": [
        "data_training = data[data['Date']<'2019-01-01'].copy()# 2018년 12월 31일까지의 data 만 data_training으로 복사함 \n",
        "data_training"
      ],
      "execution_count": 11,
      "outputs": [
        {
          "output_type": "execute_result",
          "data": {
            "text/html": [
              "<div>\n",
              "<style scoped>\n",
              "    .dataframe tbody tr th:only-of-type {\n",
              "        vertical-align: middle;\n",
              "    }\n",
              "\n",
              "    .dataframe tbody tr th {\n",
              "        vertical-align: top;\n",
              "    }\n",
              "\n",
              "    .dataframe thead th {\n",
              "        text-align: right;\n",
              "    }\n",
              "</style>\n",
              "<table border=\"1\" class=\"dataframe\">\n",
              "  <thead>\n",
              "    <tr style=\"text-align: right;\">\n",
              "      <th></th>\n",
              "      <th>Date</th>\n",
              "      <th>Open</th>\n",
              "      <th>High</th>\n",
              "      <th>Low</th>\n",
              "      <th>Close</th>\n",
              "      <th>Adj Close</th>\n",
              "      <th>Volume</th>\n",
              "    </tr>\n",
              "  </thead>\n",
              "  <tbody>\n",
              "    <tr>\n",
              "      <th>0</th>\n",
              "      <td>2015-05-26</td>\n",
              "      <td>538.119995</td>\n",
              "      <td>539.000000</td>\n",
              "      <td>529.880005</td>\n",
              "      <td>532.320007</td>\n",
              "      <td>532.320007</td>\n",
              "      <td>2406500</td>\n",
              "    </tr>\n",
              "    <tr>\n",
              "      <th>1</th>\n",
              "      <td>2015-05-27</td>\n",
              "      <td>532.799988</td>\n",
              "      <td>540.549988</td>\n",
              "      <td>531.710022</td>\n",
              "      <td>539.789978</td>\n",
              "      <td>539.789978</td>\n",
              "      <td>1525000</td>\n",
              "    </tr>\n",
              "    <tr>\n",
              "      <th>2</th>\n",
              "      <td>2015-05-28</td>\n",
              "      <td>538.010010</td>\n",
              "      <td>540.609985</td>\n",
              "      <td>536.250000</td>\n",
              "      <td>539.780029</td>\n",
              "      <td>539.780029</td>\n",
              "      <td>1029800</td>\n",
              "    </tr>\n",
              "    <tr>\n",
              "      <th>3</th>\n",
              "      <td>2015-05-29</td>\n",
              "      <td>537.369995</td>\n",
              "      <td>538.630005</td>\n",
              "      <td>531.450012</td>\n",
              "      <td>532.109985</td>\n",
              "      <td>532.109985</td>\n",
              "      <td>2597400</td>\n",
              "    </tr>\n",
              "    <tr>\n",
              "      <th>4</th>\n",
              "      <td>2015-06-01</td>\n",
              "      <td>536.789978</td>\n",
              "      <td>536.789978</td>\n",
              "      <td>529.760010</td>\n",
              "      <td>533.989990</td>\n",
              "      <td>533.989990</td>\n",
              "      <td>1904300</td>\n",
              "    </tr>\n",
              "    <tr>\n",
              "      <th>...</th>\n",
              "      <td>...</td>\n",
              "      <td>...</td>\n",
              "      <td>...</td>\n",
              "      <td>...</td>\n",
              "      <td>...</td>\n",
              "      <td>...</td>\n",
              "      <td>...</td>\n",
              "    </tr>\n",
              "    <tr>\n",
              "      <th>903</th>\n",
              "      <td>2018-12-24</td>\n",
              "      <td>973.900024</td>\n",
              "      <td>1003.539978</td>\n",
              "      <td>970.109985</td>\n",
              "      <td>976.219971</td>\n",
              "      <td>976.219971</td>\n",
              "      <td>1590300</td>\n",
              "    </tr>\n",
              "    <tr>\n",
              "      <th>904</th>\n",
              "      <td>2018-12-26</td>\n",
              "      <td>989.010010</td>\n",
              "      <td>1040.000000</td>\n",
              "      <td>983.000000</td>\n",
              "      <td>1039.459961</td>\n",
              "      <td>1039.459961</td>\n",
              "      <td>2373300</td>\n",
              "    </tr>\n",
              "    <tr>\n",
              "      <th>905</th>\n",
              "      <td>2018-12-27</td>\n",
              "      <td>1017.150024</td>\n",
              "      <td>1043.890015</td>\n",
              "      <td>997.000000</td>\n",
              "      <td>1043.880005</td>\n",
              "      <td>1043.880005</td>\n",
              "      <td>2109800</td>\n",
              "    </tr>\n",
              "    <tr>\n",
              "      <th>906</th>\n",
              "      <td>2018-12-28</td>\n",
              "      <td>1049.619995</td>\n",
              "      <td>1055.560059</td>\n",
              "      <td>1033.099976</td>\n",
              "      <td>1037.079956</td>\n",
              "      <td>1037.079956</td>\n",
              "      <td>1414800</td>\n",
              "    </tr>\n",
              "    <tr>\n",
              "      <th>907</th>\n",
              "      <td>2018-12-31</td>\n",
              "      <td>1050.959961</td>\n",
              "      <td>1052.699951</td>\n",
              "      <td>1023.590027</td>\n",
              "      <td>1035.609985</td>\n",
              "      <td>1035.609985</td>\n",
              "      <td>1493300</td>\n",
              "    </tr>\n",
              "  </tbody>\n",
              "</table>\n",
              "<p>908 rows × 7 columns</p>\n",
              "</div>"
            ],
            "text/plain": [
              "           Date         Open         High  ...        Close    Adj Close   Volume\n",
              "0    2015-05-26   538.119995   539.000000  ...   532.320007   532.320007  2406500\n",
              "1    2015-05-27   532.799988   540.549988  ...   539.789978   539.789978  1525000\n",
              "2    2015-05-28   538.010010   540.609985  ...   539.780029   539.780029  1029800\n",
              "3    2015-05-29   537.369995   538.630005  ...   532.109985   532.109985  2597400\n",
              "4    2015-06-01   536.789978   536.789978  ...   533.989990   533.989990  1904300\n",
              "..          ...          ...          ...  ...          ...          ...      ...\n",
              "903  2018-12-24   973.900024  1003.539978  ...   976.219971   976.219971  1590300\n",
              "904  2018-12-26   989.010010  1040.000000  ...  1039.459961  1039.459961  2373300\n",
              "905  2018-12-27  1017.150024  1043.890015  ...  1043.880005  1043.880005  2109800\n",
              "906  2018-12-28  1049.619995  1055.560059  ...  1037.079956  1037.079956  1414800\n",
              "907  2018-12-31  1050.959961  1052.699951  ...  1035.609985  1035.609985  1493300\n",
              "\n",
              "[908 rows x 7 columns]"
            ]
          },
          "metadata": {
            "tags": []
          },
          "execution_count": 11
        }
      ]
    },
    {
      "cell_type": "code",
      "metadata": {
        "colab": {
          "base_uri": "https://localhost:8080/",
          "height": 408
        },
        "id": "DcdFyTQLf85E",
        "outputId": "f5250f85-3b8d-4a19-9fb2-900565ac9cb7"
      },
      "source": [
        "data_test = data[data['Date']>='2019-01-01'].copy()\n",
        "data_test"
      ],
      "execution_count": 12,
      "outputs": [
        {
          "output_type": "execute_result",
          "data": {
            "text/html": [
              "<div>\n",
              "<style scoped>\n",
              "    .dataframe tbody tr th:only-of-type {\n",
              "        vertical-align: middle;\n",
              "    }\n",
              "\n",
              "    .dataframe tbody tr th {\n",
              "        vertical-align: top;\n",
              "    }\n",
              "\n",
              "    .dataframe thead th {\n",
              "        text-align: right;\n",
              "    }\n",
              "</style>\n",
              "<table border=\"1\" class=\"dataframe\">\n",
              "  <thead>\n",
              "    <tr style=\"text-align: right;\">\n",
              "      <th></th>\n",
              "      <th>Date</th>\n",
              "      <th>Open</th>\n",
              "      <th>High</th>\n",
              "      <th>Low</th>\n",
              "      <th>Close</th>\n",
              "      <th>Adj Close</th>\n",
              "      <th>Volume</th>\n",
              "    </tr>\n",
              "  </thead>\n",
              "  <tbody>\n",
              "    <tr>\n",
              "      <th>908</th>\n",
              "      <td>2019-01-02</td>\n",
              "      <td>1016.570007</td>\n",
              "      <td>1052.319946</td>\n",
              "      <td>1015.710022</td>\n",
              "      <td>1045.849976</td>\n",
              "      <td>1045.849976</td>\n",
              "      <td>1532600</td>\n",
              "    </tr>\n",
              "    <tr>\n",
              "      <th>909</th>\n",
              "      <td>2019-01-03</td>\n",
              "      <td>1041.000000</td>\n",
              "      <td>1056.979980</td>\n",
              "      <td>1014.070007</td>\n",
              "      <td>1016.059998</td>\n",
              "      <td>1016.059998</td>\n",
              "      <td>1841100</td>\n",
              "    </tr>\n",
              "    <tr>\n",
              "      <th>910</th>\n",
              "      <td>2019-01-04</td>\n",
              "      <td>1032.589966</td>\n",
              "      <td>1070.839966</td>\n",
              "      <td>1027.417969</td>\n",
              "      <td>1070.709961</td>\n",
              "      <td>1070.709961</td>\n",
              "      <td>2093900</td>\n",
              "    </tr>\n",
              "    <tr>\n",
              "      <th>911</th>\n",
              "      <td>2019-01-07</td>\n",
              "      <td>1071.500000</td>\n",
              "      <td>1074.000000</td>\n",
              "      <td>1054.760010</td>\n",
              "      <td>1068.390015</td>\n",
              "      <td>1068.390015</td>\n",
              "      <td>1981900</td>\n",
              "    </tr>\n",
              "    <tr>\n",
              "      <th>912</th>\n",
              "      <td>2019-01-08</td>\n",
              "      <td>1076.109985</td>\n",
              "      <td>1084.560059</td>\n",
              "      <td>1060.530029</td>\n",
              "      <td>1076.280029</td>\n",
              "      <td>1076.280029</td>\n",
              "      <td>1764900</td>\n",
              "    </tr>\n",
              "    <tr>\n",
              "      <th>...</th>\n",
              "      <td>...</td>\n",
              "      <td>...</td>\n",
              "      <td>...</td>\n",
              "      <td>...</td>\n",
              "      <td>...</td>\n",
              "      <td>...</td>\n",
              "      <td>...</td>\n",
              "    </tr>\n",
              "    <tr>\n",
              "      <th>1297</th>\n",
              "      <td>2020-07-20</td>\n",
              "      <td>1515.260010</td>\n",
              "      <td>1570.290039</td>\n",
              "      <td>1503.599976</td>\n",
              "      <td>1565.719971</td>\n",
              "      <td>1565.719971</td>\n",
              "      <td>1557300</td>\n",
              "    </tr>\n",
              "    <tr>\n",
              "      <th>1298</th>\n",
              "      <td>2020-07-21</td>\n",
              "      <td>1586.989990</td>\n",
              "      <td>1586.989990</td>\n",
              "      <td>1554.280029</td>\n",
              "      <td>1558.420044</td>\n",
              "      <td>1558.420044</td>\n",
              "      <td>1218600</td>\n",
              "    </tr>\n",
              "    <tr>\n",
              "      <th>1299</th>\n",
              "      <td>2020-07-22</td>\n",
              "      <td>1560.500000</td>\n",
              "      <td>1570.000000</td>\n",
              "      <td>1546.099976</td>\n",
              "      <td>1568.489990</td>\n",
              "      <td>1568.489990</td>\n",
              "      <td>932000</td>\n",
              "    </tr>\n",
              "    <tr>\n",
              "      <th>1300</th>\n",
              "      <td>2020-07-23</td>\n",
              "      <td>1566.969971</td>\n",
              "      <td>1571.869995</td>\n",
              "      <td>1507.391968</td>\n",
              "      <td>1515.680054</td>\n",
              "      <td>1515.680054</td>\n",
              "      <td>1627600</td>\n",
              "    </tr>\n",
              "    <tr>\n",
              "      <th>1301</th>\n",
              "      <td>2020-07-24</td>\n",
              "      <td>1498.930054</td>\n",
              "      <td>1517.635986</td>\n",
              "      <td>1488.400024</td>\n",
              "      <td>1511.869995</td>\n",
              "      <td>1511.869995</td>\n",
              "      <td>1544000</td>\n",
              "    </tr>\n",
              "  </tbody>\n",
              "</table>\n",
              "<p>394 rows × 7 columns</p>\n",
              "</div>"
            ],
            "text/plain": [
              "            Date         Open         High  ...        Close    Adj Close   Volume\n",
              "908   2019-01-02  1016.570007  1052.319946  ...  1045.849976  1045.849976  1532600\n",
              "909   2019-01-03  1041.000000  1056.979980  ...  1016.059998  1016.059998  1841100\n",
              "910   2019-01-04  1032.589966  1070.839966  ...  1070.709961  1070.709961  2093900\n",
              "911   2019-01-07  1071.500000  1074.000000  ...  1068.390015  1068.390015  1981900\n",
              "912   2019-01-08  1076.109985  1084.560059  ...  1076.280029  1076.280029  1764900\n",
              "...          ...          ...          ...  ...          ...          ...      ...\n",
              "1297  2020-07-20  1515.260010  1570.290039  ...  1565.719971  1565.719971  1557300\n",
              "1298  2020-07-21  1586.989990  1586.989990  ...  1558.420044  1558.420044  1218600\n",
              "1299  2020-07-22  1560.500000  1570.000000  ...  1568.489990  1568.489990   932000\n",
              "1300  2020-07-23  1566.969971  1571.869995  ...  1515.680054  1515.680054  1627600\n",
              "1301  2020-07-24  1498.930054  1517.635986  ...  1511.869995  1511.869995  1544000\n",
              "\n",
              "[394 rows x 7 columns]"
            ]
          },
          "metadata": {
            "tags": []
          },
          "execution_count": 12
        }
      ]
    },
    {
      "cell_type": "code",
      "metadata": {
        "colab": {
          "base_uri": "https://localhost:8080/",
          "height": 198
        },
        "id": "1GLv0f0vf85E",
        "outputId": "f1465640-196e-46d2-9334-84227f6a323a"
      },
      "source": [
        "training_data = data_training.drop(['Date','Adj Close'],axis=1)\n",
        "training_data.head()"
      ],
      "execution_count": 16,
      "outputs": [
        {
          "output_type": "execute_result",
          "data": {
            "text/html": [
              "<div>\n",
              "<style scoped>\n",
              "    .dataframe tbody tr th:only-of-type {\n",
              "        vertical-align: middle;\n",
              "    }\n",
              "\n",
              "    .dataframe tbody tr th {\n",
              "        vertical-align: top;\n",
              "    }\n",
              "\n",
              "    .dataframe thead th {\n",
              "        text-align: right;\n",
              "    }\n",
              "</style>\n",
              "<table border=\"1\" class=\"dataframe\">\n",
              "  <thead>\n",
              "    <tr style=\"text-align: right;\">\n",
              "      <th></th>\n",
              "      <th>Open</th>\n",
              "      <th>High</th>\n",
              "      <th>Low</th>\n",
              "      <th>Close</th>\n",
              "      <th>Volume</th>\n",
              "    </tr>\n",
              "  </thead>\n",
              "  <tbody>\n",
              "    <tr>\n",
              "      <th>0</th>\n",
              "      <td>538.119995</td>\n",
              "      <td>539.000000</td>\n",
              "      <td>529.880005</td>\n",
              "      <td>532.320007</td>\n",
              "      <td>2406500</td>\n",
              "    </tr>\n",
              "    <tr>\n",
              "      <th>1</th>\n",
              "      <td>532.799988</td>\n",
              "      <td>540.549988</td>\n",
              "      <td>531.710022</td>\n",
              "      <td>539.789978</td>\n",
              "      <td>1525000</td>\n",
              "    </tr>\n",
              "    <tr>\n",
              "      <th>2</th>\n",
              "      <td>538.010010</td>\n",
              "      <td>540.609985</td>\n",
              "      <td>536.250000</td>\n",
              "      <td>539.780029</td>\n",
              "      <td>1029800</td>\n",
              "    </tr>\n",
              "    <tr>\n",
              "      <th>3</th>\n",
              "      <td>537.369995</td>\n",
              "      <td>538.630005</td>\n",
              "      <td>531.450012</td>\n",
              "      <td>532.109985</td>\n",
              "      <td>2597400</td>\n",
              "    </tr>\n",
              "    <tr>\n",
              "      <th>4</th>\n",
              "      <td>536.789978</td>\n",
              "      <td>536.789978</td>\n",
              "      <td>529.760010</td>\n",
              "      <td>533.989990</td>\n",
              "      <td>1904300</td>\n",
              "    </tr>\n",
              "  </tbody>\n",
              "</table>\n",
              "</div>"
            ],
            "text/plain": [
              "         Open        High         Low       Close   Volume\n",
              "0  538.119995  539.000000  529.880005  532.320007  2406500\n",
              "1  532.799988  540.549988  531.710022  539.789978  1525000\n",
              "2  538.010010  540.609985  536.250000  539.780029  1029800\n",
              "3  537.369995  538.630005  531.450012  532.109985  2597400\n",
              "4  536.789978  536.789978  529.760010  533.989990  1904300"
            ]
          },
          "metadata": {
            "tags": []
          },
          "execution_count": 16
        }
      ]
    },
    {
      "cell_type": "code",
      "metadata": {
        "colab": {
          "base_uri": "https://localhost:8080/"
        },
        "id": "Za1b1ebyf85F",
        "outputId": "15153285-ce63-445f-b109-2d4f14f39906"
      },
      "source": [
        "scaler = MinMaxScaler()\n",
        "training_data=scaler.fit_transform(training_data)\n",
        "training_data"
      ],
      "execution_count": 17,
      "outputs": [
        {
          "output_type": "execute_result",
          "data": {
            "text/plain": [
              "array([[0.02477711, 0.02165461, 0.02003163, 0.0206121 , 0.17666413],\n",
              "       [0.01769792, 0.02371808, 0.02252538, 0.03055218, 0.09379847],\n",
              "       [0.02463075, 0.02379795, 0.02871199, 0.03053894, 0.04724706],\n",
              "       ...,\n",
              "       [0.66220895, 0.69380528, 0.65657363, 0.70133071, 0.14877276],\n",
              "       [0.70541583, 0.7093414 , 0.70576688, 0.69228208, 0.08343909],\n",
              "       [0.70719888, 0.70553379, 0.69280772, 0.69032603, 0.0908185 ]])"
            ]
          },
          "metadata": {
            "tags": []
          },
          "execution_count": 17
        }
      ]
    },
    {
      "cell_type": "code",
      "metadata": {
        "id": "5MwUcrqzf85F"
      },
      "source": [
        "X_train = []\n",
        "y_train = []"
      ],
      "execution_count": 31,
      "outputs": []
    },
    {
      "cell_type": "code",
      "metadata": {
        "colab": {
          "base_uri": "https://localhost:8080/"
        },
        "id": "e0fqCf5Vf85G",
        "outputId": "7c8f802c-2b4b-426c-ea95-35533b64c79f"
      },
      "source": [
        "training_data.shape[0]"
      ],
      "execution_count": 32,
      "outputs": [
        {
          "output_type": "execute_result",
          "data": {
            "text/plain": [
              "908"
            ]
          },
          "metadata": {
            "tags": []
          },
          "execution_count": 32
        }
      ]
    },
    {
      "cell_type": "code",
      "metadata": {
        "id": "l4LSZpMZf85G"
      },
      "source": [
        "for i in range(60,training_data.shape[0]):\n",
        "    X_train.append(training_data[i-60:i])\n",
        "    y_train.append(training_data[i,0])"
      ],
      "execution_count": 33,
      "outputs": []
    },
    {
      "cell_type": "code",
      "metadata": {
        "id": "VjK8CJTAf85G"
      },
      "source": [
        "X_train,y_train=np.array(X_train), np.array(y_train)"
      ],
      "execution_count": 34,
      "outputs": []
    },
    {
      "cell_type": "code",
      "metadata": {
        "colab": {
          "base_uri": "https://localhost:8080/"
        },
        "id": "4QKWHPYyf85H",
        "outputId": "22a76170-8f65-4d16-bc9a-4cc9f5b65022"
      },
      "source": [
        "X_train.shape, y_train.shape"
      ],
      "execution_count": 35,
      "outputs": [
        {
          "output_type": "execute_result",
          "data": {
            "text/plain": [
              "((848, 60, 5), (848,))"
            ]
          },
          "metadata": {
            "tags": []
          },
          "execution_count": 35
        }
      ]
    },
    {
      "cell_type": "markdown",
      "metadata": {
        "id": "vV4CNulsf85H"
      },
      "source": [
        "#### Building LSTM"
      ]
    },
    {
      "cell_type": "code",
      "metadata": {
        "id": "6OyCf_NJf85H"
      },
      "source": [
        "from tensorflow.keras import Sequential\n",
        "from tensorflow.keras.layers import Dense, LSTM, Dropout"
      ],
      "execution_count": 37,
      "outputs": []
    },
    {
      "cell_type": "code",
      "metadata": {
        "id": "JWzEbBhjf85H"
      },
      "source": [
        "regressior = Sequential()\n",
        "regressior.add(LSTM(units =50,activation ='relu', return_sequences = True, input_shape =(X_train.shape[1],5)))\n",
        "regressior.add(Dropout(0.2))\n",
        "\n",
        "regressior.add(LSTM(units =60,activation ='relu', return_sequences = True))\n",
        "regressior.add(Dropout(0.3))\n",
        "               \n",
        "regressior.add(LSTM(units =80,activation ='relu', return_sequences = True))\n",
        "regressior.add(Dropout(0.4))\n",
        "               \n",
        "regressior.add(LSTM(units =120,activation ='relu'))\n",
        "regressior.add(Dropout(0.5))\n",
        "               \n",
        "regressior.add(Dense(units =1))"
      ],
      "execution_count": 41,
      "outputs": []
    },
    {
      "cell_type": "code",
      "metadata": {
        "colab": {
          "base_uri": "https://localhost:8080/"
        },
        "id": "pmrabUMnf85I",
        "outputId": "48c18c1c-dacd-4fb6-dc95-c4d522115d0a"
      },
      "source": [
        "regressior.summary()"
      ],
      "execution_count": 42,
      "outputs": [
        {
          "output_type": "stream",
          "text": [
            "Model: \"sequential_3\"\n",
            "_________________________________________________________________\n",
            "Layer (type)                 Output Shape              Param #   \n",
            "=================================================================\n",
            "lstm_12 (LSTM)               (None, 60, 50)            11200     \n",
            "_________________________________________________________________\n",
            "dropout_12 (Dropout)         (None, 60, 50)            0         \n",
            "_________________________________________________________________\n",
            "lstm_13 (LSTM)               (None, 60, 60)            26640     \n",
            "_________________________________________________________________\n",
            "dropout_13 (Dropout)         (None, 60, 60)            0         \n",
            "_________________________________________________________________\n",
            "lstm_14 (LSTM)               (None, 60, 80)            45120     \n",
            "_________________________________________________________________\n",
            "dropout_14 (Dropout)         (None, 60, 80)            0         \n",
            "_________________________________________________________________\n",
            "lstm_15 (LSTM)               (None, 120)               96480     \n",
            "_________________________________________________________________\n",
            "dropout_15 (Dropout)         (None, 120)               0         \n",
            "_________________________________________________________________\n",
            "dense_3 (Dense)              (None, 1)                 121       \n",
            "=================================================================\n",
            "Total params: 179,561\n",
            "Trainable params: 179,561\n",
            "Non-trainable params: 0\n",
            "_________________________________________________________________\n"
          ],
          "name": "stdout"
        }
      ]
    },
    {
      "cell_type": "code",
      "metadata": {
        "id": "gAJ3o1Oef85I"
      },
      "source": [
        "regressior.compile(optimizer='adam',loss='mean_squared_error')"
      ],
      "execution_count": 43,
      "outputs": []
    },
    {
      "cell_type": "code",
      "metadata": {
        "colab": {
          "base_uri": "https://localhost:8080/"
        },
        "id": "OFHOPgxof85I",
        "outputId": "f27e3b8a-3256-4266-c40b-908b0af3ff48"
      },
      "source": [
        "regressior.fit(X_train,y_train,epochs=10, batch_size=32)"
      ],
      "execution_count": 44,
      "outputs": [
        {
          "output_type": "stream",
          "text": [
            "Epoch 1/10\n",
            "27/27 [==============================] - 8s 146ms/step - loss: 0.0968\n",
            "Epoch 2/10\n",
            "27/27 [==============================] - 4s 143ms/step - loss: 0.0179\n",
            "Epoch 3/10\n",
            "27/27 [==============================] - 4s 146ms/step - loss: 0.0116\n",
            "Epoch 4/10\n",
            "27/27 [==============================] - 4s 144ms/step - loss: 0.0100\n",
            "Epoch 5/10\n",
            "27/27 [==============================] - 4s 144ms/step - loss: 0.0098\n",
            "Epoch 6/10\n",
            "27/27 [==============================] - 4s 145ms/step - loss: 0.0102\n",
            "Epoch 7/10\n",
            "27/27 [==============================] - 4s 143ms/step - loss: 0.0093\n",
            "Epoch 8/10\n",
            "27/27 [==============================] - 4s 146ms/step - loss: 0.0085\n",
            "Epoch 9/10\n",
            "27/27 [==============================] - 4s 143ms/step - loss: 0.0073\n",
            "Epoch 10/10\n",
            "27/27 [==============================] - 4s 143ms/step - loss: 0.0084\n"
          ],
          "name": "stdout"
        },
        {
          "output_type": "execute_result",
          "data": {
            "text/plain": [
              "<tensorflow.python.keras.callbacks.History at 0x7f496a740490>"
            ]
          },
          "metadata": {
            "tags": []
          },
          "execution_count": 44
        }
      ]
    },
    {
      "cell_type": "markdown",
      "metadata": {
        "id": "mbR7pSNff85J"
      },
      "source": [
        "### Prepare test dataset"
      ]
    },
    {
      "cell_type": "code",
      "metadata": {
        "colab": {
          "base_uri": "https://localhost:8080/",
          "height": 198
        },
        "id": "2zvZdZfff85J",
        "outputId": "a732e2bd-11d1-4226-aff8-4f7bebb0258d"
      },
      "source": [
        "data_test.head()"
      ],
      "execution_count": 45,
      "outputs": [
        {
          "output_type": "execute_result",
          "data": {
            "text/html": [
              "<div>\n",
              "<style scoped>\n",
              "    .dataframe tbody tr th:only-of-type {\n",
              "        vertical-align: middle;\n",
              "    }\n",
              "\n",
              "    .dataframe tbody tr th {\n",
              "        vertical-align: top;\n",
              "    }\n",
              "\n",
              "    .dataframe thead th {\n",
              "        text-align: right;\n",
              "    }\n",
              "</style>\n",
              "<table border=\"1\" class=\"dataframe\">\n",
              "  <thead>\n",
              "    <tr style=\"text-align: right;\">\n",
              "      <th></th>\n",
              "      <th>Date</th>\n",
              "      <th>Open</th>\n",
              "      <th>High</th>\n",
              "      <th>Low</th>\n",
              "      <th>Close</th>\n",
              "      <th>Adj Close</th>\n",
              "      <th>Volume</th>\n",
              "    </tr>\n",
              "  </thead>\n",
              "  <tbody>\n",
              "    <tr>\n",
              "      <th>908</th>\n",
              "      <td>2019-01-02</td>\n",
              "      <td>1016.570007</td>\n",
              "      <td>1052.319946</td>\n",
              "      <td>1015.710022</td>\n",
              "      <td>1045.849976</td>\n",
              "      <td>1045.849976</td>\n",
              "      <td>1532600</td>\n",
              "    </tr>\n",
              "    <tr>\n",
              "      <th>909</th>\n",
              "      <td>2019-01-03</td>\n",
              "      <td>1041.000000</td>\n",
              "      <td>1056.979980</td>\n",
              "      <td>1014.070007</td>\n",
              "      <td>1016.059998</td>\n",
              "      <td>1016.059998</td>\n",
              "      <td>1841100</td>\n",
              "    </tr>\n",
              "    <tr>\n",
              "      <th>910</th>\n",
              "      <td>2019-01-04</td>\n",
              "      <td>1032.589966</td>\n",
              "      <td>1070.839966</td>\n",
              "      <td>1027.417969</td>\n",
              "      <td>1070.709961</td>\n",
              "      <td>1070.709961</td>\n",
              "      <td>2093900</td>\n",
              "    </tr>\n",
              "    <tr>\n",
              "      <th>911</th>\n",
              "      <td>2019-01-07</td>\n",
              "      <td>1071.500000</td>\n",
              "      <td>1074.000000</td>\n",
              "      <td>1054.760010</td>\n",
              "      <td>1068.390015</td>\n",
              "      <td>1068.390015</td>\n",
              "      <td>1981900</td>\n",
              "    </tr>\n",
              "    <tr>\n",
              "      <th>912</th>\n",
              "      <td>2019-01-08</td>\n",
              "      <td>1076.109985</td>\n",
              "      <td>1084.560059</td>\n",
              "      <td>1060.530029</td>\n",
              "      <td>1076.280029</td>\n",
              "      <td>1076.280029</td>\n",
              "      <td>1764900</td>\n",
              "    </tr>\n",
              "  </tbody>\n",
              "</table>\n",
              "</div>"
            ],
            "text/plain": [
              "           Date         Open         High  ...        Close    Adj Close   Volume\n",
              "908  2019-01-02  1016.570007  1052.319946  ...  1045.849976  1045.849976  1532600\n",
              "909  2019-01-03  1041.000000  1056.979980  ...  1016.059998  1016.059998  1841100\n",
              "910  2019-01-04  1032.589966  1070.839966  ...  1070.709961  1070.709961  2093900\n",
              "911  2019-01-07  1071.500000  1074.000000  ...  1068.390015  1068.390015  1981900\n",
              "912  2019-01-08  1076.109985  1084.560059  ...  1076.280029  1076.280029  1764900\n",
              "\n",
              "[5 rows x 7 columns]"
            ]
          },
          "metadata": {
            "tags": []
          },
          "execution_count": 45
        }
      ]
    },
    {
      "cell_type": "code",
      "metadata": {
        "colab": {
          "base_uri": "https://localhost:8080/",
          "height": 349
        },
        "id": "1G5O3pFNf85J",
        "outputId": "e434fb29-d274-43e1-c9b2-339c0850578b"
      },
      "source": [
        "data_training.tail(10)"
      ],
      "execution_count": 46,
      "outputs": [
        {
          "output_type": "execute_result",
          "data": {
            "text/html": [
              "<div>\n",
              "<style scoped>\n",
              "    .dataframe tbody tr th:only-of-type {\n",
              "        vertical-align: middle;\n",
              "    }\n",
              "\n",
              "    .dataframe tbody tr th {\n",
              "        vertical-align: top;\n",
              "    }\n",
              "\n",
              "    .dataframe thead th {\n",
              "        text-align: right;\n",
              "    }\n",
              "</style>\n",
              "<table border=\"1\" class=\"dataframe\">\n",
              "  <thead>\n",
              "    <tr style=\"text-align: right;\">\n",
              "      <th></th>\n",
              "      <th>Date</th>\n",
              "      <th>Open</th>\n",
              "      <th>High</th>\n",
              "      <th>Low</th>\n",
              "      <th>Close</th>\n",
              "      <th>Adj Close</th>\n",
              "      <th>Volume</th>\n",
              "    </tr>\n",
              "  </thead>\n",
              "  <tbody>\n",
              "    <tr>\n",
              "      <th>898</th>\n",
              "      <td>2018-12-17</td>\n",
              "      <td>1037.510010</td>\n",
              "      <td>1053.150024</td>\n",
              "      <td>1007.900024</td>\n",
              "      <td>1016.530029</td>\n",
              "      <td>1016.530029</td>\n",
              "      <td>2385400</td>\n",
              "    </tr>\n",
              "    <tr>\n",
              "      <th>899</th>\n",
              "      <td>2018-12-18</td>\n",
              "      <td>1026.089966</td>\n",
              "      <td>1049.479980</td>\n",
              "      <td>1021.440002</td>\n",
              "      <td>1028.709961</td>\n",
              "      <td>1028.709961</td>\n",
              "      <td>2192500</td>\n",
              "    </tr>\n",
              "    <tr>\n",
              "      <th>900</th>\n",
              "      <td>2018-12-19</td>\n",
              "      <td>1033.989990</td>\n",
              "      <td>1062.000000</td>\n",
              "      <td>1008.049988</td>\n",
              "      <td>1023.010010</td>\n",
              "      <td>1023.010010</td>\n",
              "      <td>2479300</td>\n",
              "    </tr>\n",
              "    <tr>\n",
              "      <th>901</th>\n",
              "      <td>2018-12-20</td>\n",
              "      <td>1018.130005</td>\n",
              "      <td>1034.219971</td>\n",
              "      <td>996.359985</td>\n",
              "      <td>1009.409973</td>\n",
              "      <td>1009.409973</td>\n",
              "      <td>2673500</td>\n",
              "    </tr>\n",
              "    <tr>\n",
              "      <th>902</th>\n",
              "      <td>2018-12-21</td>\n",
              "      <td>1015.299988</td>\n",
              "      <td>1024.020020</td>\n",
              "      <td>973.690002</td>\n",
              "      <td>979.539978</td>\n",
              "      <td>979.539978</td>\n",
              "      <td>4596000</td>\n",
              "    </tr>\n",
              "    <tr>\n",
              "      <th>903</th>\n",
              "      <td>2018-12-24</td>\n",
              "      <td>973.900024</td>\n",
              "      <td>1003.539978</td>\n",
              "      <td>970.109985</td>\n",
              "      <td>976.219971</td>\n",
              "      <td>976.219971</td>\n",
              "      <td>1590300</td>\n",
              "    </tr>\n",
              "    <tr>\n",
              "      <th>904</th>\n",
              "      <td>2018-12-26</td>\n",
              "      <td>989.010010</td>\n",
              "      <td>1040.000000</td>\n",
              "      <td>983.000000</td>\n",
              "      <td>1039.459961</td>\n",
              "      <td>1039.459961</td>\n",
              "      <td>2373300</td>\n",
              "    </tr>\n",
              "    <tr>\n",
              "      <th>905</th>\n",
              "      <td>2018-12-27</td>\n",
              "      <td>1017.150024</td>\n",
              "      <td>1043.890015</td>\n",
              "      <td>997.000000</td>\n",
              "      <td>1043.880005</td>\n",
              "      <td>1043.880005</td>\n",
              "      <td>2109800</td>\n",
              "    </tr>\n",
              "    <tr>\n",
              "      <th>906</th>\n",
              "      <td>2018-12-28</td>\n",
              "      <td>1049.619995</td>\n",
              "      <td>1055.560059</td>\n",
              "      <td>1033.099976</td>\n",
              "      <td>1037.079956</td>\n",
              "      <td>1037.079956</td>\n",
              "      <td>1414800</td>\n",
              "    </tr>\n",
              "    <tr>\n",
              "      <th>907</th>\n",
              "      <td>2018-12-31</td>\n",
              "      <td>1050.959961</td>\n",
              "      <td>1052.699951</td>\n",
              "      <td>1023.590027</td>\n",
              "      <td>1035.609985</td>\n",
              "      <td>1035.609985</td>\n",
              "      <td>1493300</td>\n",
              "    </tr>\n",
              "  </tbody>\n",
              "</table>\n",
              "</div>"
            ],
            "text/plain": [
              "           Date         Open         High  ...        Close    Adj Close   Volume\n",
              "898  2018-12-17  1037.510010  1053.150024  ...  1016.530029  1016.530029  2385400\n",
              "899  2018-12-18  1026.089966  1049.479980  ...  1028.709961  1028.709961  2192500\n",
              "900  2018-12-19  1033.989990  1062.000000  ...  1023.010010  1023.010010  2479300\n",
              "901  2018-12-20  1018.130005  1034.219971  ...  1009.409973  1009.409973  2673500\n",
              "902  2018-12-21  1015.299988  1024.020020  ...   979.539978   979.539978  4596000\n",
              "903  2018-12-24   973.900024  1003.539978  ...   976.219971   976.219971  1590300\n",
              "904  2018-12-26   989.010010  1040.000000  ...  1039.459961  1039.459961  2373300\n",
              "905  2018-12-27  1017.150024  1043.890015  ...  1043.880005  1043.880005  2109800\n",
              "906  2018-12-28  1049.619995  1055.560059  ...  1037.079956  1037.079956  1414800\n",
              "907  2018-12-31  1050.959961  1052.699951  ...  1035.609985  1035.609985  1493300\n",
              "\n",
              "[10 rows x 7 columns]"
            ]
          },
          "metadata": {
            "tags": []
          },
          "execution_count": 46
        }
      ]
    },
    {
      "cell_type": "code",
      "metadata": {
        "id": "bTrUmP-2f85J"
      },
      "source": [
        "past_60_days =data_training.tail(60)"
      ],
      "execution_count": 47,
      "outputs": []
    },
    {
      "cell_type": "code",
      "metadata": {
        "id": "4_NENIGif85J"
      },
      "source": [
        "df =past_60_days.append(data_test,ignore_index=True)"
      ],
      "execution_count": 48,
      "outputs": []
    },
    {
      "cell_type": "code",
      "metadata": {
        "colab": {
          "base_uri": "https://localhost:8080/",
          "height": 198
        },
        "id": "qRDqQEGHf85M",
        "outputId": "f9174306-7694-464a-b493-3a55b57d9e5a"
      },
      "source": [
        "df =df.drop(['Date','Adj Close'],axis=1)\n",
        "df.head()"
      ],
      "execution_count": 49,
      "outputs": [
        {
          "output_type": "execute_result",
          "data": {
            "text/html": [
              "<div>\n",
              "<style scoped>\n",
              "    .dataframe tbody tr th:only-of-type {\n",
              "        vertical-align: middle;\n",
              "    }\n",
              "\n",
              "    .dataframe tbody tr th {\n",
              "        vertical-align: top;\n",
              "    }\n",
              "\n",
              "    .dataframe thead th {\n",
              "        text-align: right;\n",
              "    }\n",
              "</style>\n",
              "<table border=\"1\" class=\"dataframe\">\n",
              "  <thead>\n",
              "    <tr style=\"text-align: right;\">\n",
              "      <th></th>\n",
              "      <th>Open</th>\n",
              "      <th>High</th>\n",
              "      <th>Low</th>\n",
              "      <th>Close</th>\n",
              "      <th>Volume</th>\n",
              "    </tr>\n",
              "  </thead>\n",
              "  <tbody>\n",
              "    <tr>\n",
              "      <th>0</th>\n",
              "      <td>1195.329956</td>\n",
              "      <td>1197.510010</td>\n",
              "      <td>1155.576050</td>\n",
              "      <td>1168.189941</td>\n",
              "      <td>2209500</td>\n",
              "    </tr>\n",
              "    <tr>\n",
              "      <th>1</th>\n",
              "      <td>1167.500000</td>\n",
              "      <td>1173.500000</td>\n",
              "      <td>1145.119995</td>\n",
              "      <td>1157.349976</td>\n",
              "      <td>1184300</td>\n",
              "    </tr>\n",
              "    <tr>\n",
              "      <th>2</th>\n",
              "      <td>1150.109985</td>\n",
              "      <td>1168.000000</td>\n",
              "      <td>1127.364014</td>\n",
              "      <td>1148.969971</td>\n",
              "      <td>1932400</td>\n",
              "    </tr>\n",
              "    <tr>\n",
              "      <th>3</th>\n",
              "      <td>1146.150024</td>\n",
              "      <td>1154.349976</td>\n",
              "      <td>1137.572021</td>\n",
              "      <td>1138.819946</td>\n",
              "      <td>1308700</td>\n",
              "    </tr>\n",
              "    <tr>\n",
              "      <th>4</th>\n",
              "      <td>1131.079956</td>\n",
              "      <td>1132.170044</td>\n",
              "      <td>1081.130005</td>\n",
              "      <td>1081.219971</td>\n",
              "      <td>2675700</td>\n",
              "    </tr>\n",
              "  </tbody>\n",
              "</table>\n",
              "</div>"
            ],
            "text/plain": [
              "          Open         High          Low        Close   Volume\n",
              "0  1195.329956  1197.510010  1155.576050  1168.189941  2209500\n",
              "1  1167.500000  1173.500000  1145.119995  1157.349976  1184300\n",
              "2  1150.109985  1168.000000  1127.364014  1148.969971  1932400\n",
              "3  1146.150024  1154.349976  1137.572021  1138.819946  1308700\n",
              "4  1131.079956  1132.170044  1081.130005  1081.219971  2675700"
            ]
          },
          "metadata": {
            "tags": []
          },
          "execution_count": 49
        }
      ]
    },
    {
      "cell_type": "code",
      "metadata": {
        "colab": {
          "base_uri": "https://localhost:8080/"
        },
        "id": "-GAKfCR4f85N",
        "outputId": "2f3b9200-4b6c-4df2-af15-1b523f880201"
      },
      "source": [
        "inputs =scaler.transform(df)\n",
        "inputs"
      ],
      "execution_count": 50,
      "outputs": [
        {
          "output_type": "execute_result",
          "data": {
            "text/plain": [
              "array([[0.89930799, 0.89831672, 0.87266439, 0.86674648, 0.15814509],\n",
              "       [0.86227545, 0.86635264, 0.85841597, 0.85232204, 0.06177087],\n",
              "       [0.83913504, 0.8590306 , 0.83421999, 0.841171  , 0.13209622],\n",
              "       ...,\n",
              "       [1.38522954, 1.39420571, 1.40482932, 1.39941458, 0.03805334],\n",
              "       [1.39383895, 1.3966952 , 1.35208211, 1.32914187, 0.10344341],\n",
              "       [1.30330014, 1.32449447, 1.32620189, 1.32407193, 0.09558457]])"
            ]
          },
          "metadata": {
            "tags": []
          },
          "execution_count": 50
        }
      ]
    },
    {
      "cell_type": "code",
      "metadata": {
        "id": "EmWh2HQHf85O"
      },
      "source": [
        "X_test =[]; y_test=[]\n",
        "\n",
        "for i in range(60, inputs.shape[0]):\n",
        "    X_test.append(inputs[i-60:i])\n",
        "    y_test.append(inputs[i,0])"
      ],
      "execution_count": 51,
      "outputs": []
    },
    {
      "cell_type": "code",
      "metadata": {
        "colab": {
          "base_uri": "https://localhost:8080/"
        },
        "id": "aVjz_bOuf85P",
        "outputId": "d5b710f1-fc90-4934-d330-7009544cad42"
      },
      "source": [
        "X_test, y_test = np.array(X_test), np.array(y_test)\n",
        "X_test.shape, y_test.shape"
      ],
      "execution_count": 52,
      "outputs": [
        {
          "output_type": "execute_result",
          "data": {
            "text/plain": [
              "((394, 60, 5), (394,))"
            ]
          },
          "metadata": {
            "tags": []
          },
          "execution_count": 52
        }
      ]
    },
    {
      "cell_type": "code",
      "metadata": {
        "id": "tRJynB4Xf85Q"
      },
      "source": [
        "y_pred = regressior.predict(X_test)"
      ],
      "execution_count": 53,
      "outputs": []
    },
    {
      "cell_type": "code",
      "metadata": {
        "colab": {
          "base_uri": "https://localhost:8080/"
        },
        "id": "VFxdDl_Vf85Q",
        "outputId": "e77c0a11-223a-4652-c56d-f6e580607466"
      },
      "source": [
        "scaler.scale_"
      ],
      "execution_count": 54,
      "outputs": [
        {
          "output_type": "execute_result",
          "data": {
            "text/plain": [
              "array([1.33067199e-03, 1.33128137e-03, 1.36269482e-03, 1.33067210e-03,\n",
              "       9.40052831e-08])"
            ]
          },
          "metadata": {
            "tags": []
          },
          "execution_count": 54
        }
      ]
    },
    {
      "cell_type": "code",
      "metadata": {
        "colab": {
          "base_uri": "https://localhost:8080/"
        },
        "id": "RE3FEWVIf85R",
        "outputId": "ee555701-8a14-4bac-abf8-185638573c6a"
      },
      "source": [
        "scale = 1/1.33067199e-03\n",
        "scale"
      ],
      "execution_count": 55,
      "outputs": [
        {
          "output_type": "execute_result",
          "data": {
            "text/plain": [
              "751.4999996355225"
            ]
          },
          "metadata": {
            "tags": []
          },
          "execution_count": 55
        }
      ]
    },
    {
      "cell_type": "code",
      "metadata": {
        "id": "vpH72HJBf85R"
      },
      "source": [
        "y_pred = y_pred*scale\n",
        "y_test =y_test*scale"
      ],
      "execution_count": 56,
      "outputs": []
    },
    {
      "cell_type": "markdown",
      "metadata": {
        "id": "VDpbKdHEf85R"
      },
      "source": [
        "y_test"
      ]
    },
    {
      "cell_type": "markdown",
      "metadata": {
        "id": "CyUtYC9cf85R"
      },
      "source": [
        "### Visualization"
      ]
    },
    {
      "cell_type": "code",
      "metadata": {
        "colab": {
          "base_uri": "https://localhost:8080/",
          "height": 350
        },
        "id": "9DuCV2eTf85R",
        "outputId": "1c3182bc-ae1f-4969-9c7e-33f231cb2f68"
      },
      "source": [
        "plt.figure(figsize=(14,5))\n",
        "plt.plot(y_test,color = 'red', label='Real Google Stock Price')\n",
        "plt.plot(y_pred,color = 'blue', label='Predicted Google Stock Price')\n",
        "plt.title('Google Stock Price Prediction')\n",
        "plt.xlabel('Time') \n",
        "plt.ylabel('Google Stock Price')\n",
        "plt.legend()\n",
        "plt.show()"
      ],
      "execution_count": 58,
      "outputs": [
        {
          "output_type": "display_data",
          "data": {
            "image/png": "[encoded data removed]",
            "text/plain": [
              "<Figure size 1008x360 with 1 Axes>"
            ]
          },
          "metadata": {
            "tags": [],
            "needs_background": "light"
          }
        }
      ]
    },
    {
      "cell_type": "code",
      "metadata": {
        "id": "cnhiYrlwf85S"
      },
      "source": [
        ""
      ],
      "execution_count": null,
      "outputs": []
    }
  ]
}