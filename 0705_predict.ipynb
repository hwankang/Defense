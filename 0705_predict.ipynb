{
  "nbformat": 4,
  "nbformat_minor": 0,
  "metadata": {
    "colab": {
      "name": "0705_predict.ipynb",
      "private_outputs": true,
      "provenance": [],
      "authorship_tag": "ABX9TyPUQEKN7vrN/XohhTX783I/",
      "include_colab_link": true
    },
    "kernelspec": {
      "name": "python3",
      "display_name": "Python 3"
    },
    "language_info": {
      "name": "python"
    }
  },
  "cells": [
    {
      "cell_type": "markdown",
      "metadata": {
        "id": "view-in-github",
        "colab_type": "text"
      },
      "source": [
        "<a href=\"https://colab.research.google.com/github/hwankang/Defense/blob/main/0705_predict.ipynb\" target=\"_parent\"><img src=\"https://colab.research.google.com/assets/colab-badge.svg\" alt=\"Open In Colab\"/></a>"
      ]
    },
    {
      "cell_type": "code",
      "metadata": {
        "id": "nH5-1kK5dGWe"
      },
      "source": [
        "from google.colab import files\n",
        "uploaded=files.upload()"
      ],
      "execution_count": null,
      "outputs": []
    },
    {
      "cell_type": "code",
      "metadata": {
        "id": "qRywu1u3diGg"
      },
      "source": [
        "import pandas as pd\n",
        "data=pd.read_csv('005930.KS.csv', date_parser=True)\n",
        "data.head()"
      ],
      "execution_count": null,
      "outputs": []
    },
    {
      "cell_type": "code",
      "metadata": {
        "id": "e3UfkVo4eNZD"
      },
      "source": [
        "import numpy as np  \n",
        "import datetime # 날짜,시간 활용\n",
        "import matplotlib.pyplot as plt #데이터 시각화\n",
        "\n",
        "# 딥러닝을 위한 라이브러리 keras \n",
        "from keras.models import Sequential\n",
        "from keras.layers import LSTM, Dropout, Dense, Activation\n",
        "#[출처] [Quant] LSTM 시계열 예측모델 이용하여 주가 예측하기 (딥러닝)|작성자 Investgy"
      ],
      "execution_count": null,
      "outputs": []
    },
    {
      "cell_type": "code",
      "metadata": {
        "id": "vAJhaeQEebMK"
      },
      "source": [
        "high_prices = data['High'].values\n",
        "low_prices = data['Low'].values\n",
        "mid_prices = (high_prices + low_prices) / 2\n",
        "\n",
        "len(mid_prices)"
      ],
      "execution_count": null,
      "outputs": []
    },
    {
      "cell_type": "code",
      "metadata": {
        "id": "muezt3tdezm0"
      },
      "source": [
        "seq_len = 20  #최근 20일치 데이터를 보고 다음을 예측할 것임\n",
        "sequence_length = seq_len + 1\n",
        "\n",
        "results = []\n",
        "for index in range(len(mid_prices) - sequence_length): \n",
        "    results.append(mid_prices[index: index + sequence_length]) "
      ],
      "execution_count": null,
      "outputs": []
    },
    {
      "cell_type": "code",
      "metadata": {
        "id": "7pqMn9S8f-A6"
      },
      "source": [
        "normalized_data = [] \n",
        "\n",
        "# 윈도우를 하나씩 훑어가면서 정규화하기 \n",
        "for window in results: \n",
        "    normalized_window = [(((float(p)+0.001) / (float(window[0])+0.001) ) - 1) for p in window] #윈도우 내부에 있는 값들을 첫번째 값으로 나누어서 정규화 \n",
        "    normalized_data.append(normalized_window)"
      ],
      "execution_count": null,
      "outputs": []
    },
    {
      "cell_type": "code",
      "metadata": {
        "id": "1Av8qzyagtIO"
      },
      "source": [
        "norm_result = np.array(normalized_data)\n",
        "norm_result"
      ],
      "execution_count": null,
      "outputs": []
    },
    {
      "cell_type": "code",
      "metadata": {
        "id": "odW2n8IxhTEf"
      },
      "source": [
        "# split train and test data\n",
        "row = int(round(norm_result.shape[0] * 0.9)) #전체 개수 중 90%를 train으로 사용할 것임 \n",
        "train = norm_result[:row, :]\n",
        "np.random.shuffle(train) #랜덤으로 섞는다 \n",
        "\n",
        "# train data\n",
        "x_train = train[:, :-1]\n",
        "x_train = np.reshape(x_train, (x_train.shape[0], x_train.shape[1], 1))\n",
        "y_train = train[:, -1]\n",
        "\n",
        "# test data\n",
        "x_test = norm_result[row:, :-1]\n",
        "x_test = np.reshape(x_test, (x_test.shape[0], x_test.shape[1], 1))\n",
        "y_test = norm_result[row:, -1] \n",
        "\n",
        "\n",
        "x_train.shape, x_test.shape #1194일의 주식 가격을 통해 133일의 주식 가격을 예측해보기"
      ],
      "execution_count": null,
      "outputs": []
    },
    {
      "cell_type": "code",
      "metadata": {
        "id": "DsgUaG2-MwsO"
      },
      "source": [
        "model = Sequential() \n",
        "model.add(LSTM(50, return_sequences=True, input_shape=(50, 1))) #첫번째 LSTM 은 유닛수 50개\n",
        "model.add(LSTM(64, return_sequences=False)) #두번째 LSTM 유닛수는 64개\n",
        "model.add(Dense(1, activation='linear')) # 아웃풋으로 나오는 값은 1개 (다음날 하루 예측)\n",
        "model.compile(loss='mse', optimizer='rmsprop') #손실 함수 \n",
        "model.summary() #모델의 개요"
      ],
      "execution_count": null,
      "outputs": []
    },
    {
      "cell_type": "code",
      "metadata": {
        "id": "8uSQaw8rM57n"
      },
      "source": [
        "model.fit(x_train, y_train,\n",
        "    validation_data=(x_test, y_test),\n",
        "    batch_size=10,\n",
        "    epochs=20) "
      ],
      "execution_count": null,
      "outputs": []
    },
    {
      "cell_type": "code",
      "metadata": {
        "id": "zGu9tuyfNJKl"
      },
      "source": [
        "predictd = model.predict(x_test) #예측하기\n",
        "\n",
        "fig = plt.figure(facecolor='white', figsize=(20, 10))\n",
        "axes = fig.add_subplot(111)\n",
        "axes.plot(y_test, label='CloseData', color = 'midnightblue')\n",
        "axes.plot(predictd, label='Prediction', color = 'lightsteelblue')\n",
        "axes.legend()\n",
        "plt.show()"
      ],
      "execution_count": null,
      "outputs": []
    }
  ]
}