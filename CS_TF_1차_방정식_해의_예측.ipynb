{
  "nbformat": 4,
  "nbformat_minor": 0,
  "metadata": {
    "coursera": {
      "course_slug": "introduction-tensorflow",
      "graded_item_id": "jRjw8",
      "launcher_item_id": "YoQKl"
    },
    "kernelspec": {
      "display_name": "Python 3",
      "language": "python",
      "name": "python3"
    },
    "language_info": {
      "codemirror_mode": {
        "name": "ipython",
        "version": 3
      },
      "file_extension": ".py",
      "mimetype": "text/x-python",
      "name": "python",
      "nbconvert_exporter": "python",
      "pygments_lexer": "ipython3",
      "version": "3.6.8"
    },
    "colab": {
      "name": "CS TF 1차 방정식 해의 예측.ipynb",
      "provenance": [],
      "collapsed_sections": [],
      "toc_visible": true,
      "include_colab_link": true
    }
  },
  "cells": [
    {
      "cell_type": "markdown",
      "metadata": {
        "id": "view-in-github",
        "colab_type": "text"
      },
      "source": [
        "<a href=\"https://colab.research.google.com/github/hwankang/Defense/blob/main/CS_TF_1%EC%B0%A8_%EB%B0%A9%EC%A0%95%EC%8B%9D_%ED%95%B4%EC%9D%98_%EC%98%88%EC%B8%A1.ipynb\" target=\"_parent\"><img src=\"https://colab.research.google.com/assets/colab-badge.svg\" alt=\"Open In Colab\"/></a>"
      ]
    },
    {
      "cell_type": "markdown",
      "metadata": {
        "id": "5NmXX1KAHs39"
      },
      "source": [
        "## 텐서플로의 이해\n",
        "### 딥러닝을 이용한 1차 방정식 해의 예측\n",
        "\n",
        "* Author: Moroney.TF\n",
        "* Lecture 1: Jason Dong, GNTP (2020.08.10)\n",
        "* Lecture 2: Jason Dong, KPC (2020.11.06)\n",
        "* Lecture 3: Jason Dong, KIDET ACN (2020.11.21)\n",
        "* Lecture 4: Jason Dong, KIDET ACN (2020.12.4)\n",
        "* Lecture 5: Jason Dong, KIDET ACN (2020.12.16)\n",
        "* Lecture 6: Jason Dong, KIDET ACN (2021.1.8)"
      ]
    },
    {
      "cell_type": "markdown",
      "metadata": {
        "id": "xWsF2HEgOfcg"
      },
      "source": [
        "### 퀴즈\n",
        "\n",
        "1. 1차 방정식의 해를 '예측'하거나 '추론'하는 일에 대해 수학 선생님은 어떤 말씀을 하실까요? \n",
        "\n",
        "2. ML은 수학 문제를 푸는데, DL은 왜 수학 문제의 해를 추론할까요?\n",
        "\n",
        "3. ML과 DL의 이런 차이는 R&D 과제 책임자로서 DL의 분석 결과를 보고하거나 설명할 때 어떤 문제로 이어질까요?"
      ]
    },
    {
      "cell_type": "markdown",
      "metadata": {
        "id": "mw2VBrBcgvGa"
      },
      "source": [
        "In this exercise you'll try to build a neural network that predicts the price of a house according to a simple formula.\n",
        "\n",
        "So, imagine if house pricing was as easy as a house costs 50k + 50k per bedroom, so that a 1 bedroom house costs 100k, a 2 bedroom house costs 150k etc.\n",
        "\n",
        "How would you create a neural network that learns this relationship so that it would predict a 7 bedroom house as costing close to 400k etc.\n",
        "\n",
        "Hint: Your network might work better if you scale the house price down. You don't have to give the answer 400...it might be better to create something that predicts the number 4, and then your answer is in the 'hundreds of thousands' etc."
      ]
    },
    {
      "cell_type": "markdown",
      "metadata": {
        "id": "z1QlXQJ3Hzk9"
      },
      "source": [
        "### 딥러닝 연산을 이용한 주택 가격의 예측\n",
        "\n",
        "* 텐서플로 활용\n",
        "\n",
        "* 기본 주택 가격: $50k\n",
        "\n",
        "* 방 1개 추가시마다 +$50k\n",
        "\n",
        "* 예, 방 2개인 주택 가격: $150k\n",
        "\n",
        "* 문제: 방 7개인 주택의 가격 예측\n",
        "\n",
        "* 일차방정식의 해의 추론 문제"
      ]
    },
    {
      "cell_type": "markdown",
      "metadata": {
        "id": "n4zeUOtsvwIT"
      },
      "source": [
        "## Step1. 라이브러리 임포트"
      ]
    },
    {
      "cell_type": "code",
      "metadata": {
        "id": "E9UFH9SXFdBo"
      },
      "source": [
        "# tensorflow\n",
        "# numpy\n",
        "# keras\n",
        "\n",
        "import ### as tf\n",
        "import ### as np\n",
        "from tensorflow import ###"
      ],
      "execution_count": null,
      "outputs": []
    },
    {
      "cell_type": "markdown",
      "metadata": {
        "id": "rN5PUdCbLexW"
      },
      "source": [
        "### 미션: 텐서플로 개발자 문서에서 아래 주요 함수의 내용을 확인하세요!\n",
        "\n",
        "#### Sequential()\n",
        "* 링크: https://www.tensorflow.org/api_docs/python/tf/keras/Sequential\n",
        "* 개요: 텐서플로의 딥러닝 모델 중 하나, 사용 간편, 실험과 리서치에 권장\n",
        "* 파라미터:\n",
        "\n",
        "#### compile()\n",
        "* 링크:\n",
        "* 개요:\n",
        "* 파라미터:\n",
        "\n",
        "#### fit()\n",
        "* 링크:\n",
        "* 개요:\n",
        "* 파라미터:\n",
        "\n",
        "#### predict()\n",
        "* 링크:\n",
        "* 개요:\n",
        "* 파라미터:"
      ]
    },
    {
      "cell_type": "markdown",
      "metadata": {
        "id": "8q2Sqw9P6iN8"
      },
      "source": [
        "## Step2. 딥러닝 모델 구현"
      ]
    },
    {
      "cell_type": "code",
      "metadata": {
        "id": "PUNO2E6SeURH"
      },
      "source": [
        "# GRADED FUNCTION: house_model\n",
        "def house_model(y_new):\n",
        "\n",
        "    # array()\n",
        "    # 1차 방정식\n",
        "    xs = np.###([1,2,3,4,5,6], dtype=float)\n",
        "    ys = np.###([,,,,,], dtype=float)\n",
        "\n",
        "    # Sequential()\n",
        "    # .layers\n",
        "    # Dense()\n",
        "    # 파라미터1: units=1\n",
        "    # 파라미터2: input_shape=[1]\n",
        "    model = keras.###([keras.###.###(units=1, input_shape=[1])])\n",
        "\n",
        "    # compile()\n",
        "    # 파라미터1: optimizer='sgd'\n",
        "    # 파라미터2: loss='mean_squared_error'\n",
        "    model.###(optimizer='###', loss='###')\n",
        "\n",
        "    # fit()\n",
        "    # 파라미터1: x 값\n",
        "    # 파라미터2: y 값\n",
        "    # 파라미터3: 500회, 1000회 반복 시행\n",
        "    model.###(##, ##, epochs=###)\n",
        "\n",
        "    # predict()\n",
        "    return model.###(y_new)[0]"
      ],
      "execution_count": null,
      "outputs": []
    },
    {
      "cell_type": "markdown",
      "metadata": {
        "id": "Ydk0yFx96xte"
      },
      "source": [
        "## Step3. 훈련된 모델을 이용한 예측"
      ]
    },
    {
      "cell_type": "code",
      "metadata": {
        "id": "mVtbqyLPFdBz"
      },
      "source": [
        "# prediction 변수에\n",
        "# house_model() 반환값 할당\n",
        "# 방 7개 주택 가격 예측치 출력\n",
        "\n",
        "### = ###([#])\n",
        "print(prediction)"
      ],
      "execution_count": null,
      "outputs": []
    },
    {
      "cell_type": "code",
      "metadata": {
        "id": "8EiRUaUzFdB6"
      },
      "source": [
        "# Now click the 'Submit Assignment' button above.\n",
        "# Once that is complete, please run the following two cells to save your work and close the notebook"
      ],
      "execution_count": null,
      "outputs": []
    },
    {
      "cell_type": "code",
      "metadata": {
        "id": "fZRSQ7V1FdB_"
      },
      "source": [
        "%%javascript\n",
        "<!-- Save the notebook -->\n",
        "IPython.notebook.save_checkpoint();"
      ],
      "execution_count": null,
      "outputs": []
    },
    {
      "cell_type": "code",
      "metadata": {
        "id": "W-7LC4_dFdCD"
      },
      "source": [
        "%%javascript\n",
        "IPython.notebook.session.delete();\n",
        "window.onbeforeunload = null\n",
        "setTimeout(function() { window.close(); }, 1000);"
      ],
      "execution_count": null,
      "outputs": []
    }
  ]
}